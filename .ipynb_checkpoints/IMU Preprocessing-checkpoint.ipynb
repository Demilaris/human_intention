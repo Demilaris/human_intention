{
 "cells": [
  {
   "cell_type": "markdown",
   "id": "4b83d4c5",
   "metadata": {},
   "source": [
    "# Read Data From CSV"
   ]
  },
  {
   "cell_type": "code",
   "execution_count": 120,
   "id": "448519ea",
   "metadata": {},
   "outputs": [],
   "source": [
    "import plotly\n",
    "import plotly.graph_objs as go\n",
    "import plotly.express as px\n",
    "\n",
    "from plotly.subplots import make_subplots\n",
    "import pandas as pd\n",
    "import numpy as np\n",
    "from numpy.linalg import norm\n",
    "from quaternion import Quaternion\n",
    "from scipy import stats\n",
    "from scipy import signal\n",
    "import matplotlib.pyplot as plt\n",
    "import os\n",
    "from os import walk\n",
    "import madgwickahrs as mg\n",
    "from quaternion import Quaternion"
   ]
  },
  {
   "cell_type": "code",
   "execution_count": 121,
   "id": "8b3d7cb3",
   "metadata": {},
   "outputs": [],
   "source": [
    "#функции калибровки\n",
    "def find_offsets(mpu,counts = 15):\n",
    "#     calibration_set = mpu.loc[:counts]\n",
    "    calibration_set =mpu \n",
    "    n = float(len(calibration_set))\n",
    "    summ = []\n",
    "    offsets = []\n",
    "    for i in calibration_set:\n",
    "        summ.append(calibration_set[i].sum())\n",
    "    for s in summ:\n",
    "        offsets.append(s/n)\n",
    "    return offsets\n",
    "\n",
    "def find_headers(mpu):\n",
    "    headers = []\n",
    "    for i in mpu:\n",
    "        headers.append(i)\n",
    "    return headers\n",
    "\n",
    "def calibration(mpu,dataset):\n",
    "    \n",
    "    headers = find_headers(mpu)\n",
    "#     print(headers)\n",
    "    \n",
    "    off = find_offsets(mpu)\n",
    "    calibrated = dataset.copy()\n",
    "    #не калибровать ускорение для фильтра маджвика!\n",
    "    calibrated[headers[0]] = mpu[headers[0]] - off[0]\n",
    "  #  calibrated[headers[1]] = mpu[headers[1]] - off[1]\n",
    "    calibrated[headers[2]] = mpu[headers[2]] - off[2]\n",
    "    \n",
    "    calibrated[headers[3]] = mpu[headers[3]] - off[3]\n",
    "    calibrated[headers[4]] = mpu[headers[4]] - off[4]\n",
    "    calibrated[headers[5]] = mpu[headers[5]] - off[5]\n",
    "    \n",
    "    return calibrated\n"
   ]
  },
  {
   "cell_type": "code",
   "execution_count": 122,
   "id": "587f445e",
   "metadata": {
    "code_folding": []
   },
   "outputs": [],
   "source": [
    "#функции для вывода графиков\n",
    "def show_plots(mpu_t,mpu_b,title_t,title_b,accel=None):\n",
    "    \n",
    "    headers_t = find_headers(mpu_t)\n",
    "    headers_b = find_headers(mpu_b)\n",
    "    \n",
    "    if accel == True:\n",
    "        headers_t = headers_t[:3]\n",
    "        headers_b = headers_b[:3]\n",
    "        title_t += ' accel'\n",
    "        title_b += ' accel'\n",
    "    elif accel == None:\n",
    "        headers_t = headers_t[:3]\n",
    "        title_t +='accel'\n",
    "        headers_b = headers_b[3:]\n",
    "        title_b += ' gyro'\n",
    "    else:\n",
    "        headers_t = headers_t[3:]\n",
    "        headers_b = headers_b[3:]\n",
    "        title_t += ' gyro'\n",
    "        title_b += ' gyro'\n",
    "        \n",
    "\n",
    "\n",
    "    fig = make_subplots(rows=1, cols=2, subplot_titles=(title_t,title_b))\n",
    "\n",
    "\n",
    "    fig.add_trace(go.Scatter(x=mpu_t.index, y=mpu_t[headers_t[0]],name=headers_t[0]),1,1)\n",
    "    fig.add_trace(go.Scatter(x=mpu_t.index, y=mpu_t[headers_t[1]],name=headers_t[1]),1,1)\n",
    "    fig.add_trace(go.Scatter(x=mpu_t.index, y=mpu_t[headers_t[2]],name=headers_t[2]),1,1)\n",
    "\n",
    "    fig.add_trace(go.Scatter(x=mpu_t.index, y=mpu_b[headers_b[0]],name=headers_b[0]),1,2)\n",
    "    fig.add_trace(go.Scatter(x=mpu_t.index, y=mpu_b[headers_b[1]],name=headers_b[1]),1,2)\n",
    "    fig.add_trace(go.Scatter(x=mpu_t.index, y=mpu_b[headers_b[2]],name=headers_b[2]),1,2)\n",
    "\n",
    "\n",
    "    fig.update_layout(legend_orientation=\"h\",\n",
    "                      legend=dict(x=.5, xanchor=\"center\"),\n",
    "                      hovermode=\"x\",\n",
    "                      margin=dict(l=0, r=0, t=40, b=0))\n",
    "    fig.show()\n",
    "\n",
    "\n",
    "def show_plot(mpu_t,title_t,accel=None):\n",
    "    \n",
    "    headers_t = find_headers(mpu_t)\n",
    "    \n",
    "    if accel == True:\n",
    "        headers_t = headers_t[:3]\n",
    "        title_t += ' accel'\n",
    "    elif accel == None:\n",
    "        headers_t = headers_t\n",
    "    else:\n",
    "        headers_t = headers_t[3:]\n",
    "        title_t += ' gyro'\n",
    "        \n",
    "\n",
    "\n",
    "    fig = go.Figure() \n",
    "    fig.update_layout(title=title_t)\n",
    "    fig.add_trace(go.Scatter(x=mpu_t.index, y=mpu_t[headers_t[0]],name=headers_t[0]))\n",
    "    fig.add_trace(go.Scatter(x=mpu_t.index, y=mpu_t[headers_t[1]],name=headers_t[1]))\n",
    "    fig.add_trace(go.Scatter(x=mpu_t.index, y=mpu_t[headers_t[2]],name=headers_t[2]))\n",
    "\n",
    "    fig.show()\n"
   ]
  },
  {
   "cell_type": "code",
   "execution_count": 123,
   "id": "d2db9682",
   "metadata": {
    "code_folding": []
   },
   "outputs": [],
   "source": [
    "def read_csv_file(file_path):\n",
    "    df = pd.read_csv(file_path,sep = ' ',header = None)\n",
    "    df.columns = [\"s1\",\"bt_ax\",\"bt_ay\",\"bt_az\",\"bt_gx\",\"bt_gy\",\"bt_gz\",\n",
    "                 \"s2\",\"bb_ax\",\"bb_ay\",\"bb_az\",\"bb_gx\",\"bb_gy\",\"bb_gz\",\n",
    "                 \"s3\",\"lt_ax\",\"lt_ay\",\"lt_az\",\"lt_gx\",\"lt_gy\",\"lt_gz\",\n",
    "                 \"s4\",\"lb_ax\",\"lb_ay\",\"lb_az\",\"lb_gx\",\"lb_gy\",\"lb_gz\",\n",
    "                \"s5\",\"rt_ax\",\"rt_ay\",\"rt_az\",\"rt_gx\",\"rt_gy\",\"rt_gz\",\n",
    "                 \"s6\",\"rb_ax\",\"rb_ay\",\"rb_az\",\"rb_gx\",\"rb_gy\",\"rb_gz\",\n",
    "                 ]\n",
    "\n",
    "    return df"
   ]
  },
  {
   "cell_type": "code",
   "execution_count": 124,
   "id": "3271fb4f",
   "metadata": {
    "code_folding": []
   },
   "outputs": [],
   "source": [
    "#each  IMU for calibration\n",
    "def parse_to_sensors(df):\n",
    "    bt = df[[\"bt_ax\",\"bt_ay\",\"bt_az\",\"bt_gx\",\"bt_gy\",\"bt_gz\"]]\n",
    "    bb = df[[\"bb_ax\",\"bb_ay\",\"bb_az\",\"bb_gx\",\"bb_gy\",\"bb_gz\"]]\n",
    "    lt = df[[\"lt_ax\",\"lt_ay\",\"lt_az\",\"lt_gx\",\"lt_gy\",\"lt_gz\"]]\n",
    "    lb = df[[\"lb_ax\",\"lb_ay\",\"lb_az\",\"lb_gx\",\"lb_gy\",\"lb_gz\"]]\n",
    "    rt = df[[\"rt_ax\",\"rt_ay\",\"rt_az\",\"rt_gx\",\"rt_gy\",\"rt_gz\"]]\n",
    "    rb = df[[\"rb_ax\",\"rb_ay\",\"rb_az\",\"rb_gx\",\"rb_gy\",\"rb_gz\"]]\n",
    "    \n",
    "#     show_plot(lb,'Non calibrated left-bot ',True)\n",
    "#     show_plot(lb,'Non calibrated left-bot ',False)\n",
    "    return bt,bb,lt,lb,rt,rb\n"
   ]
  },
  {
   "cell_type": "markdown",
   "id": "430e8bcb",
   "metadata": {},
   "source": [
    "# Filter outliers"
   ]
  },
  {
   "cell_type": "code",
   "execution_count": 125,
   "id": "8f7e41d0",
   "metadata": {},
   "outputs": [],
   "source": [
    "def filter_outliers(df_local):\n",
    "    \n",
    "    outl = find_headers(df_local)\n",
    "    df= df_local.copy()\n",
    "    for o in outl:\n",
    "        median = df[o].median()\n",
    "        std = df[o].std()\n",
    "        df.loc[(df[o] - median).abs() > std,o]=np.nan\n",
    "        df[o].fillna(median, inplace=True)\n",
    "    return df\n",
    "\n",
    "def find_outliers(df):\n",
    "    \n",
    "    bt,bb,lt,lb,rt,rb = parse_to_sensors(df)\n",
    "    \n",
    "    rb_outl = filter_outliers(rb)\n",
    "    rt_outl =filter_outliers(rt)\n",
    "    lb_outl = filter_outliers(lb)\n",
    "    lt_outl = filter_outliers(lt)\n",
    "    bb_outl = filter_outliers(bb)\n",
    "    bt_outl = filter_outliers(bt)\n",
    "    \n",
    "\n",
    "#     show_plot(lb,'With outliers ',False)\n",
    "#     show_plot(lb_outl,'With outliers ',False)\n",
    "#     show_plot(calibrated_lb,'Without outliers',False)\n",
    "\n",
    "    return bt_outl,bb_outl,lt_outl,lb_outl,rt_outl,rb_outl \n",
    "\n",
    "# def all_calibrate(df):\n",
    "#     calibration()\n",
    "\n",
    "# calibration_frame = find_outliers(df)\n",
    "# calibration_frame\n",
    "# show_plot(lb,'With outliers ',True)\n",
    "# show_plot(lb_outl,'Without outliers',True)"
   ]
  },
  {
   "cell_type": "markdown",
   "id": "ea559918",
   "metadata": {},
   "source": [
    " Calibrate DF of each sensor"
   ]
  },
  {
   "cell_type": "markdown",
   "id": "c866da0b",
   "metadata": {},
   "source": [
    "# Madgwick filter"
   ]
  },
  {
   "cell_type": "code",
   "execution_count": 126,
   "id": "634e2c75",
   "metadata": {},
   "outputs": [],
   "source": [
    "def find_orientation(calibrated_mpu):\n",
    "    \n",
    "    headers = find_headers(calibrated_mpu)\n",
    "        \n",
    "    quaternions = []\n",
    "\n",
    "    heading = mg.MadgwickAHRS(sampleperiod = 0.06,beta = 1)\n",
    "    for i,row in calibrated_mpu.iterrows():\n",
    "        gyro_d  = []\n",
    "        accel_d = []\n",
    "        gyro_d.append(row[headers[3]])\n",
    "        gyro_d.append(row[headers[4]])\n",
    "        gyro_d.append(row[headers[5]])\n",
    "        accel_d.append(row[headers[0]])\n",
    "        accel_d.append(row[headers[1]])\n",
    "        accel_d.append(row[headers[2]])\n",
    "\n",
    "        heading.update_imu(gyro_d,accel_d)\n",
    "        quaternions.append(heading.quaternion._get_q())\n",
    "\n",
    "    # print(quaternions)\n",
    "    pitch = []\n",
    "    roll = []\n",
    "    yaw = []\n",
    "    for i in range(len(quaternions)):\n",
    "        pitch.append(np.arcsin(2 * quaternions[i][1] * quaternions[i][2] + 2 * quaternions[i][0] * quaternions[i][3]))\n",
    "        if np.abs(quaternions[i][1] * quaternions[i][2] + quaternions[i][3] * quaternions[i][0] - 0.5) < 1e-8:\n",
    "            roll.append(0) \n",
    "            yaw.append(2 * np.arctan2(quaternions[i][1], quaternions[i][0]))\n",
    "        elif np.abs(quaternions[i][1] * quaternions[i][2] + quaternions[i][3] * quaternions[i][0] + 0.5) < 1e-8:\n",
    "            roll.append(-2 * np.arctan2(quaternions[i][1], quaternions[i][0]))\n",
    "            yaw.append(0)\n",
    "        else:\n",
    "            roll.append(np.arctan2(2 * quaternions[i][0] * quaternions[i][1] - 2 * quaternions[i][2] *quaternions[i][3], 1 - 2 * quaternions[i][1] ** 2 - 2 *quaternions[i][3] ** 2))\n",
    "            yaw.append(np.arctan2(2 * quaternions[i][0] * quaternions[i][2] - 2 * quaternions[i][1] * quaternions[i][3], 1 - 2 * quaternions[i][2] ** 2 - 2 * quaternions[i][3] ** 2))\n",
    "\n",
    "\n",
    "    orientation_d = pd.DataFrame({'roll':np.rad2deg(roll),'pitch':np.rad2deg(pitch),'yaw':np.rad2deg(yaw)})\n",
    "    return orientation_d\n",
    "\n",
    "    "
   ]
  },
  {
   "cell_type": "markdown",
   "id": "18551ec2",
   "metadata": {},
   "source": [
    "# Calibration data"
   ]
  },
  {
   "cell_type": "code",
   "execution_count": 127,
   "id": "afd33970",
   "metadata": {},
   "outputs": [],
   "source": [
    "import os\n",
    "from os import walk\n",
    "def all_calibrate(calibration_set,dataset):\n",
    "\n",
    "\n",
    "    bt_outl,bb_outl,lt_outl,lb_outl,rt_outl,rb_outl =  parse_to_sensors(calibration_set)\n",
    "    bt_1,bb_1,lt_1,lb_1,rt_1,rb_1=parse_to_sensors(dataset) \n",
    "\n",
    "    show_plot(lb_1,'first ',False)\n",
    "    \n",
    "    calibrated_bt = calibration(bt_outl,bt_1)\n",
    "    calibrated_bb = calibration(bb_outl,bb_1)\n",
    "    calibrated_lt = calibration(lt_outl,lt_1)\n",
    "    calibrated_lb = calibration(lb_outl,lb_1)\n",
    "    calibrated_rb = calibration(rb_outl,rb_1)\n",
    "    calibrated_rt = calibration(rt_outl,rt_1)\n",
    "   \n",
    "\n",
    "   \n",
    " \n",
    "       \n",
    "    show_plot(calibrated_lb,'calibrated ',False)\n",
    "\n",
    "#     print(calibrated_lb)\n",
    "    orientation_bt = find_orientation(calibrated_bt)\n",
    "    orientation_bb = find_orientation(calibrated_bb)\n",
    "    orientation_lt = find_orientation(calibrated_lt)\n",
    "    orientation_lb = find_orientation(calibrated_lb)\n",
    "    orientation_rt = find_orientation(calibrated_rt)\n",
    "    orientation_rb = find_orientation(calibrated_rb)\n",
    "\n",
    "    \n",
    "    return   orientation_rb, orientation_rt, orientation_bb, orientation_bt, orientation_lb, orientation_lt\n",
    "    \n"
   ]
  },
  {
   "cell_type": "code",
   "execution_count": 128,
   "id": "1044359d",
   "metadata": {},
   "outputs": [
    {
     "name": "stdout",
     "output_type": "stream",
     "text": [
      "D:/Thesis/Vadim/10_Vadim.csv\n"
     ]
    },
    {
     "data": {
      "application/vnd.plotly.v1+json": {
       "config": {
        "plotlyServerURL": "https://plot.ly"
       },
       "data": [
        {
         "name": "lb_gx",
         "type": "scatter",
         "x": [
          0,
          1,
          2,
          3,
          4,
          5,
          6,
          7,
          8,
          9,
          10,
          11,
          12,
          13,
          14,
          15,
          16,
          17,
          18,
          19,
          20,
          21,
          22,
          23,
          24,
          25,
          26,
          27,
          28,
          29,
          30,
          31,
          32,
          33,
          34,
          35,
          36,
          37,
          38,
          39,
          40,
          41,
          42,
          43,
          44,
          45,
          46,
          47,
          48,
          49,
          50,
          51,
          52,
          53,
          54,
          55,
          56,
          57,
          58,
          59,
          60,
          61,
          62,
          63,
          64,
          65,
          66,
          67,
          68,
          69,
          70,
          71,
          72,
          73,
          74,
          75,
          76,
          77,
          78,
          79,
          80,
          81,
          82,
          83,
          84,
          85,
          86,
          87,
          88,
          89,
          90,
          91,
          92,
          93,
          94,
          95,
          96,
          97,
          98,
          99,
          100,
          101,
          102,
          103,
          104,
          105,
          106,
          107,
          108,
          109,
          110,
          111,
          112,
          113,
          114,
          115,
          116,
          117,
          118,
          119,
          120,
          121,
          122,
          123,
          124,
          125,
          126,
          127,
          128,
          129,
          130,
          131,
          132,
          133,
          134,
          135,
          136,
          137,
          138,
          139,
          140,
          141,
          142,
          143,
          144,
          145,
          146,
          147,
          148,
          149,
          150,
          151,
          152,
          153,
          154,
          155,
          156,
          157,
          158,
          159,
          160,
          161,
          162,
          163,
          164,
          165,
          166,
          167,
          168,
          169,
          170,
          171,
          172,
          173,
          174,
          175,
          176,
          177,
          178,
          179,
          180,
          181,
          182
         ],
         "y": [
          0.09126341,
          0.08060491,
          0.09645943,
          0.1008561,
          0.09152987,
          0.09592651,
          0.09685912,
          0.0895314,
          0.09179633,
          0.09099694,
          0.08713324,
          0.09645943,
          0.09499389,
          0.08673355,
          0.08766616,
          0.09073049,
          0.09539357,
          0.09832466,
          0.09472742,
          0.09099694,
          0.09246248,
          0.09339512,
          0.09392804,
          0.09619296,
          0.09219603,
          0.09512712,
          0.1015222,
          0.1063185,
          0.09619296,
          0.09699235,
          0.0984579,
          0.09392804,
          0.09046402,
          0.08793263,
          0.08806586,
          0.09259573,
          0.09566004,
          0.0937948,
          0.1004564,
          0.1035207,
          0.119242,
          0.1112481,
          0.1003231,
          0.09952374,
          0.09339512,
          0.08966463,
          0.09126341,
          0.1019219,
          0.1060521,
          0.1032542,
          0.1037871,
          0.09832466,
          0.09899082,
          0.09552681,
          0.09526035,
          0.09179633,
          0.08553447,
          0.08433538,
          0.08926495,
          0.0941945,
          0.1044533,
          0.1053859,
          0.09659266,
          0.1033875,
          0.1001899,
          0.1069847,
          0.101389,
          0.085268,
          0.09073049,
          0.09486065,
          0.1007228,
          0.09099694,
          0.09925729,
          0.09259573,
          0.08859879,
          0.09312864,
          0.09619296,
          0.09286219,
          0.1035207,
          0.1091164,
          0.1005896,
          0.09579327,
          0.09579327,
          0.09792498,
          0.09326189,
          0.0899311,
          0.09765851,
          0.09472742,
          0.09019755,
          0.09685912,
          0.1012558,
          0.09366158,
          0.09219603,
          0.1061853,
          0.1044533,
          0.1008561,
          0.1027213,
          0.09046402,
          0.09073049,
          0.09299541,
          0.09552681,
          0.09672588,
          0.09566004,
          0.09819143,
          0.09659266,
          0.1009893,
          0.09819143,
          0.09033078,
          0.09672588,
          0.1025881,
          0.0937948,
          0.1039204,
          0.09899082,
          0.09672588,
          0.09992344,
          0.09779175,
          0.09979021,
          0.09792498,
          0.09899082,
          0.1005896,
          0.09672588,
          0.09232925,
          0.09446095,
          0.1021884,
          0.1001899,
          0.1012558,
          0.09899082,
          0.09912406,
          0.09472742,
          0.101389,
          0.09272896,
          0.08700001,
          0.09113017,
          0.09659266,
          0.09113017,
          0.09352834,
          0.08979786,
          0.09859113,
          0.09139664,
          0.0877994,
          0.08966463,
          0.09605973,
          0.09272896,
          0.09912406,
          0.09645943,
          0.1016554,
          0.09392804,
          0.09552681,
          0.1037871,
          0.09792498,
          0.09406126,
          0.1104487,
          0.1103155,
          0.1009893,
          0.0899311,
          0.09446095,
          0.09579327,
          0.09832466,
          0.1015222,
          0.104853,
          0.09352834,
          0.09246248,
          0.08660031,
          0.09166309,
          0.0920628,
          0.09899082,
          0.1020551,
          0.09579327,
          0.0984579,
          0.09566004,
          0.09579327,
          0.09339512,
          0.1027213,
          0.09739204,
          0.09033078,
          0.1059188,
          0.1016554,
          0.0937948,
          0.09486065,
          0.08793263,
          0.09073049,
          0.09752527,
          0.1011225
         ]
        },
        {
         "name": "lb_gy",
         "type": "scatter",
         "x": [
          0,
          1,
          2,
          3,
          4,
          5,
          6,
          7,
          8,
          9,
          10,
          11,
          12,
          13,
          14,
          15,
          16,
          17,
          18,
          19,
          20,
          21,
          22,
          23,
          24,
          25,
          26,
          27,
          28,
          29,
          30,
          31,
          32,
          33,
          34,
          35,
          36,
          37,
          38,
          39,
          40,
          41,
          42,
          43,
          44,
          45,
          46,
          47,
          48,
          49,
          50,
          51,
          52,
          53,
          54,
          55,
          56,
          57,
          58,
          59,
          60,
          61,
          62,
          63,
          64,
          65,
          66,
          67,
          68,
          69,
          70,
          71,
          72,
          73,
          74,
          75,
          76,
          77,
          78,
          79,
          80,
          81,
          82,
          83,
          84,
          85,
          86,
          87,
          88,
          89,
          90,
          91,
          92,
          93,
          94,
          95,
          96,
          97,
          98,
          99,
          100,
          101,
          102,
          103,
          104,
          105,
          106,
          107,
          108,
          109,
          110,
          111,
          112,
          113,
          114,
          115,
          116,
          117,
          118,
          119,
          120,
          121,
          122,
          123,
          124,
          125,
          126,
          127,
          128,
          129,
          130,
          131,
          132,
          133,
          134,
          135,
          136,
          137,
          138,
          139,
          140,
          141,
          142,
          143,
          144,
          145,
          146,
          147,
          148,
          149,
          150,
          151,
          152,
          153,
          154,
          155,
          156,
          157,
          158,
          159,
          160,
          161,
          162,
          163,
          164,
          165,
          166,
          167,
          168,
          169,
          170,
          171,
          172,
          173,
          174,
          175,
          176,
          177,
          178,
          179,
          180,
          181,
          182
         ],
         "y": [
          0.04130168,
          0.0596876,
          0.05688975,
          0.06528331,
          0.06754825,
          0.06541655,
          0.07167841,
          0.06594947,
          0.06195253,
          0.08167076,
          0.06341808,
          0.06808117,
          0.07381011,
          0.06408423,
          0.06195253,
          0.06062022,
          0.06208577,
          0.0554242,
          0.05595713,
          0.06461716,
          0.06541655,
          0.06967995,
          0.0579556,
          0.05222665,
          0.06594947,
          0.06248546,
          0.06115315,
          0.04996172,
          0.05435835,
          0.0579556,
          0.06368454,
          0.05715621,
          0.05209342,
          0.05782237,
          0.06062022,
          0.06315161,
          0.07767382,
          0.06475039,
          0.07007964,
          0.05768914,
          0.08580092,
          0.06181931,
          0.09619296,
          0.06794794,
          0.07794028,
          0.03317458,
          0.0643507,
          0.03637213,
          0.05742267,
          0.05076111,
          0.05529098,
          0.03570598,
          0.0447657,
          0.05662329,
          0.04716386,
          0.04223431,
          0.06448393,
          0.07007964,
          0.0579556,
          0.06888056,
          0.07980552,
          0.05196019,
          0.05915468,
          0.05395866,
          0.06208577,
          0.05728944,
          0.04849617,
          0.07034611,
          0.05715621,
          0.05742267,
          0.05955438,
          0.05235989,
          0.07007964,
          0.07141195,
          0.06515008,
          0.04423277,
          0.03717152,
          0.06235223,
          0.05076111,
          0.04623124,
          0.04809648,
          0.06022053,
          0.05515773,
          0.06035376,
          0.04756356,
          0.06181931,
          0.05662329,
          0.06248546,
          0.04836294,
          0.05862175,
          0.06328485,
          0.06848086,
          0.0575559,
          0.062219,
          0.04396632,
          0.03237519,
          0.04130168,
          0.05289281,
          0.05489128,
          0.04809648,
          0.05728944,
          0.05475805,
          0.05875498,
          0.05515773,
          0.06088669,
          0.05275958,
          0.03916999,
          0.06141961,
          0.05982084,
          0.04876264,
          0.06341808,
          0.0554242,
          0.06208577,
          0.05848852,
          0.05275958,
          0.0511608,
          0.0536922,
          0.05009495,
          0.05742267,
          0.06195253,
          0.04942879,
          0.05942113,
          0.0596876,
          0.04569832,
          0.05275958,
          0.06475039,
          0.05235989,
          0.05662329,
          0.06461716,
          0.05009495,
          0.042634,
          0.05915468,
          0.0490291,
          0.05875498,
          0.05835528,
          0.04796326,
          0.05955438,
          0.05875498,
          0.05915468,
          0.05728944,
          0.0468974,
          0.05355896,
          0.06874733,
          0.06541655,
          0.06994641,
          0.05662329,
          0.0575559,
          0.05782237,
          0.05209342,
          0.05782237,
          0.04449924,
          0.0447657,
          0.05915468,
          0.04556509,
          0.06328485,
          0.06714855,
          0.05502451,
          0.06048699,
          0.04876264,
          0.05609035,
          0.05062788,
          0.04783002,
          0.05662329,
          0.05955438,
          0.06235223,
          0.05222665,
          0.05315928,
          0.05049465,
          0.04463247,
          0.06315161,
          0.07807351,
          0.07047934,
          0.06914702,
          0.07540888,
          0.05822206,
          0.07101226,
          0.0468974,
          0.042634,
          0.05582389,
          0.07154518,
          0.08220368,
          0.06848086,
          0.07660797
         ]
        },
        {
         "name": "lb_gz",
         "type": "scatter",
         "x": [
          0,
          1,
          2,
          3,
          4,
          5,
          6,
          7,
          8,
          9,
          10,
          11,
          12,
          13,
          14,
          15,
          16,
          17,
          18,
          19,
          20,
          21,
          22,
          23,
          24,
          25,
          26,
          27,
          28,
          29,
          30,
          31,
          32,
          33,
          34,
          35,
          36,
          37,
          38,
          39,
          40,
          41,
          42,
          43,
          44,
          45,
          46,
          47,
          48,
          49,
          50,
          51,
          52,
          53,
          54,
          55,
          56,
          57,
          58,
          59,
          60,
          61,
          62,
          63,
          64,
          65,
          66,
          67,
          68,
          69,
          70,
          71,
          72,
          73,
          74,
          75,
          76,
          77,
          78,
          79,
          80,
          81,
          82,
          83,
          84,
          85,
          86,
          87,
          88,
          89,
          90,
          91,
          92,
          93,
          94,
          95,
          96,
          97,
          98,
          99,
          100,
          101,
          102,
          103,
          104,
          105,
          106,
          107,
          108,
          109,
          110,
          111,
          112,
          113,
          114,
          115,
          116,
          117,
          118,
          119,
          120,
          121,
          122,
          123,
          124,
          125,
          126,
          127,
          128,
          129,
          130,
          131,
          132,
          133,
          134,
          135,
          136,
          137,
          138,
          139,
          140,
          141,
          142,
          143,
          144,
          145,
          146,
          147,
          148,
          149,
          150,
          151,
          152,
          153,
          154,
          155,
          156,
          157,
          158,
          159,
          160,
          161,
          162,
          163,
          164,
          165,
          166,
          167,
          168,
          169,
          170,
          171,
          172,
          173,
          174,
          175,
          176,
          177,
          178,
          179,
          180,
          181,
          182
         ],
         "y": [
          0.01598775,
          0.02264931,
          0.01585452,
          0.008260338,
          0.01931853,
          0.02025115,
          0.01452221,
          0.02078407,
          0.01732006,
          0.02491424,
          0.01971823,
          0.01652068,
          0.02171669,
          0.02877795,
          0.02318224,
          0.01865238,
          0.009192957,
          0.007860644,
          0.01265697,
          0.02011792,
          0.01692037,
          0.02331547,
          0.02065084,
          0.01305666,
          0.01612098,
          0.01851914,
          0.01598775,
          0.009459419,
          0.01718683,
          0.01598775,
          0.01625421,
          0.02078407,
          0.02704594,
          0.03437366,
          0.02318224,
          0.02118377,
          0.02611332,
          0.02264931,
          0.01612098,
          -0.0007993876,
          -0.002531394,
          -0.003863707,
          0.01358959,
          0.004929556,
          0.01785299,
          0.004529863,
          0.009725882,
          -0.00746095,
          -0.006661563,
          -0.01865238,
          0.007594181,
          0.01132466,
          0.01292343,
          0.02184993,
          0.02304901,
          0.02757887,
          0.03597244,
          0.04449924,
          0.0430337,
          0.02904441,
          0.0255804,
          0.01838591,
          0.01771976,
          0.01145789,
          0.01159112,
          0.002531394,
          0.0006661563,
          0.02757887,
          0.02145023,
          0.01225728,
          0.00746095,
          0.0149219,
          0.01771976,
          0.01305666,
          0.02318224,
          0.006928025,
          0.0002664625,
          0.008793262,
          -0.003597244,
          0.006395101,
          0.00319755,
          0.009859113,
          0.01372282,
          0.007860644,
          0.01345636,
          0.01825268,
          0.009725882,
          0.01625421,
          0.009326188,
          0.0042634,
          0.003996938,
          0.01865238,
          0.01785299,
          0.009725882,
          0.001465544,
          0.006928025,
          0.01092496,
          0.01292343,
          0.01985146,
          0.02451455,
          0.02398163,
          0.02118377,
          0.01878561,
          0.02184993,
          0.02038438,
          0.01931853,
          0.01971823,
          0.01585452,
          0.02051761,
          0.002531394,
          0.01012558,
          0.01119143,
          0.01345636,
          0.01625421,
          0.01798622,
          0.01811945,
          0.01865238,
          0.02105054,
          0.01652068,
          0.01025881,
          0.02171669,
          0.02145023,
          0.01931853,
          0.01412251,
          0.02025115,
          0.01452221,
          0.01172435,
          0.01638744,
          0.01452221,
          0.01332313,
          0.02198316,
          0.01811945,
          0.01305666,
          0.01598775,
          0.02198316,
          0.0170536,
          0.01652068,
          0.01998469,
          0.02051761,
          0.02065084,
          0.01092496,
          0.009459419,
          0.01052527,
          0.0127902,
          0.01758653,
          0.01798622,
          0.02331547,
          0.01998469,
          0.01092496,
          0.02304901,
          0.01718683,
          -0.001998469,
          -0.006794794,
          0.002797856,
          0.02438132,
          0.01598775,
          0.01465544,
          0.02011792,
          0.01345636,
          0.01305666,
          0.02611332,
          0.01798622,
          0.0234487,
          0.02318224,
          0.02624656,
          0.009859113,
          0.005728944,
          0.005462481,
          0.009192957,
          0.01771976,
          0.01838591,
          0.02224962,
          0.01239051,
          0.008926495,
          0.01185758,
          0.001998469,
          -0.003863707,
          0.009192957,
          0.01798622,
          0.03330781,
          0.04716386,
          0.04170138,
          0.02957734
         ]
        }
       ],
       "layout": {
        "template": {
         "data": {
          "bar": [
           {
            "error_x": {
             "color": "#2a3f5f"
            },
            "error_y": {
             "color": "#2a3f5f"
            },
            "marker": {
             "line": {
              "color": "#E5ECF6",
              "width": 0.5
             },
             "pattern": {
              "fillmode": "overlay",
              "size": 10,
              "solidity": 0.2
             }
            },
            "type": "bar"
           }
          ],
          "barpolar": [
           {
            "marker": {
             "line": {
              "color": "#E5ECF6",
              "width": 0.5
             },
             "pattern": {
              "fillmode": "overlay",
              "size": 10,
              "solidity": 0.2
             }
            },
            "type": "barpolar"
           }
          ],
          "carpet": [
           {
            "aaxis": {
             "endlinecolor": "#2a3f5f",
             "gridcolor": "white",
             "linecolor": "white",
             "minorgridcolor": "white",
             "startlinecolor": "#2a3f5f"
            },
            "baxis": {
             "endlinecolor": "#2a3f5f",
             "gridcolor": "white",
             "linecolor": "white",
             "minorgridcolor": "white",
             "startlinecolor": "#2a3f5f"
            },
            "type": "carpet"
           }
          ],
          "choropleth": [
           {
            "colorbar": {
             "outlinewidth": 0,
             "ticks": ""
            },
            "type": "choropleth"
           }
          ],
          "contour": [
           {
            "colorbar": {
             "outlinewidth": 0,
             "ticks": ""
            },
            "colorscale": [
             [
              0,
              "#0d0887"
             ],
             [
              0.1111111111111111,
              "#46039f"
             ],
             [
              0.2222222222222222,
              "#7201a8"
             ],
             [
              0.3333333333333333,
              "#9c179e"
             ],
             [
              0.4444444444444444,
              "#bd3786"
             ],
             [
              0.5555555555555556,
              "#d8576b"
             ],
             [
              0.6666666666666666,
              "#ed7953"
             ],
             [
              0.7777777777777778,
              "#fb9f3a"
             ],
             [
              0.8888888888888888,
              "#fdca26"
             ],
             [
              1,
              "#f0f921"
             ]
            ],
            "type": "contour"
           }
          ],
          "contourcarpet": [
           {
            "colorbar": {
             "outlinewidth": 0,
             "ticks": ""
            },
            "type": "contourcarpet"
           }
          ],
          "heatmap": [
           {
            "colorbar": {
             "outlinewidth": 0,
             "ticks": ""
            },
            "colorscale": [
             [
              0,
              "#0d0887"
             ],
             [
              0.1111111111111111,
              "#46039f"
             ],
             [
              0.2222222222222222,
              "#7201a8"
             ],
             [
              0.3333333333333333,
              "#9c179e"
             ],
             [
              0.4444444444444444,
              "#bd3786"
             ],
             [
              0.5555555555555556,
              "#d8576b"
             ],
             [
              0.6666666666666666,
              "#ed7953"
             ],
             [
              0.7777777777777778,
              "#fb9f3a"
             ],
             [
              0.8888888888888888,
              "#fdca26"
             ],
             [
              1,
              "#f0f921"
             ]
            ],
            "type": "heatmap"
           }
          ],
          "heatmapgl": [
           {
            "colorbar": {
             "outlinewidth": 0,
             "ticks": ""
            },
            "colorscale": [
             [
              0,
              "#0d0887"
             ],
             [
              0.1111111111111111,
              "#46039f"
             ],
             [
              0.2222222222222222,
              "#7201a8"
             ],
             [
              0.3333333333333333,
              "#9c179e"
             ],
             [
              0.4444444444444444,
              "#bd3786"
             ],
             [
              0.5555555555555556,
              "#d8576b"
             ],
             [
              0.6666666666666666,
              "#ed7953"
             ],
             [
              0.7777777777777778,
              "#fb9f3a"
             ],
             [
              0.8888888888888888,
              "#fdca26"
             ],
             [
              1,
              "#f0f921"
             ]
            ],
            "type": "heatmapgl"
           }
          ],
          "histogram": [
           {
            "marker": {
             "pattern": {
              "fillmode": "overlay",
              "size": 10,
              "solidity": 0.2
             }
            },
            "type": "histogram"
           }
          ],
          "histogram2d": [
           {
            "colorbar": {
             "outlinewidth": 0,
             "ticks": ""
            },
            "colorscale": [
             [
              0,
              "#0d0887"
             ],
             [
              0.1111111111111111,
              "#46039f"
             ],
             [
              0.2222222222222222,
              "#7201a8"
             ],
             [
              0.3333333333333333,
              "#9c179e"
             ],
             [
              0.4444444444444444,
              "#bd3786"
             ],
             [
              0.5555555555555556,
              "#d8576b"
             ],
             [
              0.6666666666666666,
              "#ed7953"
             ],
             [
              0.7777777777777778,
              "#fb9f3a"
             ],
             [
              0.8888888888888888,
              "#fdca26"
             ],
             [
              1,
              "#f0f921"
             ]
            ],
            "type": "histogram2d"
           }
          ],
          "histogram2dcontour": [
           {
            "colorbar": {
             "outlinewidth": 0,
             "ticks": ""
            },
            "colorscale": [
             [
              0,
              "#0d0887"
             ],
             [
              0.1111111111111111,
              "#46039f"
             ],
             [
              0.2222222222222222,
              "#7201a8"
             ],
             [
              0.3333333333333333,
              "#9c179e"
             ],
             [
              0.4444444444444444,
              "#bd3786"
             ],
             [
              0.5555555555555556,
              "#d8576b"
             ],
             [
              0.6666666666666666,
              "#ed7953"
             ],
             [
              0.7777777777777778,
              "#fb9f3a"
             ],
             [
              0.8888888888888888,
              "#fdca26"
             ],
             [
              1,
              "#f0f921"
             ]
            ],
            "type": "histogram2dcontour"
           }
          ],
          "mesh3d": [
           {
            "colorbar": {
             "outlinewidth": 0,
             "ticks": ""
            },
            "type": "mesh3d"
           }
          ],
          "parcoords": [
           {
            "line": {
             "colorbar": {
              "outlinewidth": 0,
              "ticks": ""
             }
            },
            "type": "parcoords"
           }
          ],
          "pie": [
           {
            "automargin": true,
            "type": "pie"
           }
          ],
          "scatter": [
           {
            "marker": {
             "colorbar": {
              "outlinewidth": 0,
              "ticks": ""
             }
            },
            "type": "scatter"
           }
          ],
          "scatter3d": [
           {
            "line": {
             "colorbar": {
              "outlinewidth": 0,
              "ticks": ""
             }
            },
            "marker": {
             "colorbar": {
              "outlinewidth": 0,
              "ticks": ""
             }
            },
            "type": "scatter3d"
           }
          ],
          "scattercarpet": [
           {
            "marker": {
             "colorbar": {
              "outlinewidth": 0,
              "ticks": ""
             }
            },
            "type": "scattercarpet"
           }
          ],
          "scattergeo": [
           {
            "marker": {
             "colorbar": {
              "outlinewidth": 0,
              "ticks": ""
             }
            },
            "type": "scattergeo"
           }
          ],
          "scattergl": [
           {
            "marker": {
             "colorbar": {
              "outlinewidth": 0,
              "ticks": ""
             }
            },
            "type": "scattergl"
           }
          ],
          "scattermapbox": [
           {
            "marker": {
             "colorbar": {
              "outlinewidth": 0,
              "ticks": ""
             }
            },
            "type": "scattermapbox"
           }
          ],
          "scatterpolar": [
           {
            "marker": {
             "colorbar": {
              "outlinewidth": 0,
              "ticks": ""
             }
            },
            "type": "scatterpolar"
           }
          ],
          "scatterpolargl": [
           {
            "marker": {
             "colorbar": {
              "outlinewidth": 0,
              "ticks": ""
             }
            },
            "type": "scatterpolargl"
           }
          ],
          "scatterternary": [
           {
            "marker": {
             "colorbar": {
              "outlinewidth": 0,
              "ticks": ""
             }
            },
            "type": "scatterternary"
           }
          ],
          "surface": [
           {
            "colorbar": {
             "outlinewidth": 0,
             "ticks": ""
            },
            "colorscale": [
             [
              0,
              "#0d0887"
             ],
             [
              0.1111111111111111,
              "#46039f"
             ],
             [
              0.2222222222222222,
              "#7201a8"
             ],
             [
              0.3333333333333333,
              "#9c179e"
             ],
             [
              0.4444444444444444,
              "#bd3786"
             ],
             [
              0.5555555555555556,
              "#d8576b"
             ],
             [
              0.6666666666666666,
              "#ed7953"
             ],
             [
              0.7777777777777778,
              "#fb9f3a"
             ],
             [
              0.8888888888888888,
              "#fdca26"
             ],
             [
              1,
              "#f0f921"
             ]
            ],
            "type": "surface"
           }
          ],
          "table": [
           {
            "cells": {
             "fill": {
              "color": "#EBF0F8"
             },
             "line": {
              "color": "white"
             }
            },
            "header": {
             "fill": {
              "color": "#C8D4E3"
             },
             "line": {
              "color": "white"
             }
            },
            "type": "table"
           }
          ]
         },
         "layout": {
          "annotationdefaults": {
           "arrowcolor": "#2a3f5f",
           "arrowhead": 0,
           "arrowwidth": 1
          },
          "autotypenumbers": "strict",
          "coloraxis": {
           "colorbar": {
            "outlinewidth": 0,
            "ticks": ""
           }
          },
          "colorscale": {
           "diverging": [
            [
             0,
             "#8e0152"
            ],
            [
             0.1,
             "#c51b7d"
            ],
            [
             0.2,
             "#de77ae"
            ],
            [
             0.3,
             "#f1b6da"
            ],
            [
             0.4,
             "#fde0ef"
            ],
            [
             0.5,
             "#f7f7f7"
            ],
            [
             0.6,
             "#e6f5d0"
            ],
            [
             0.7,
             "#b8e186"
            ],
            [
             0.8,
             "#7fbc41"
            ],
            [
             0.9,
             "#4d9221"
            ],
            [
             1,
             "#276419"
            ]
           ],
           "sequential": [
            [
             0,
             "#0d0887"
            ],
            [
             0.1111111111111111,
             "#46039f"
            ],
            [
             0.2222222222222222,
             "#7201a8"
            ],
            [
             0.3333333333333333,
             "#9c179e"
            ],
            [
             0.4444444444444444,
             "#bd3786"
            ],
            [
             0.5555555555555556,
             "#d8576b"
            ],
            [
             0.6666666666666666,
             "#ed7953"
            ],
            [
             0.7777777777777778,
             "#fb9f3a"
            ],
            [
             0.8888888888888888,
             "#fdca26"
            ],
            [
             1,
             "#f0f921"
            ]
           ],
           "sequentialminus": [
            [
             0,
             "#0d0887"
            ],
            [
             0.1111111111111111,
             "#46039f"
            ],
            [
             0.2222222222222222,
             "#7201a8"
            ],
            [
             0.3333333333333333,
             "#9c179e"
            ],
            [
             0.4444444444444444,
             "#bd3786"
            ],
            [
             0.5555555555555556,
             "#d8576b"
            ],
            [
             0.6666666666666666,
             "#ed7953"
            ],
            [
             0.7777777777777778,
             "#fb9f3a"
            ],
            [
             0.8888888888888888,
             "#fdca26"
            ],
            [
             1,
             "#f0f921"
            ]
           ]
          },
          "colorway": [
           "#636efa",
           "#EF553B",
           "#00cc96",
           "#ab63fa",
           "#FFA15A",
           "#19d3f3",
           "#FF6692",
           "#B6E880",
           "#FF97FF",
           "#FECB52"
          ],
          "font": {
           "color": "#2a3f5f"
          },
          "geo": {
           "bgcolor": "white",
           "lakecolor": "white",
           "landcolor": "#E5ECF6",
           "showlakes": true,
           "showland": true,
           "subunitcolor": "white"
          },
          "hoverlabel": {
           "align": "left"
          },
          "hovermode": "closest",
          "mapbox": {
           "style": "light"
          },
          "paper_bgcolor": "white",
          "plot_bgcolor": "#E5ECF6",
          "polar": {
           "angularaxis": {
            "gridcolor": "white",
            "linecolor": "white",
            "ticks": ""
           },
           "bgcolor": "#E5ECF6",
           "radialaxis": {
            "gridcolor": "white",
            "linecolor": "white",
            "ticks": ""
           }
          },
          "scene": {
           "xaxis": {
            "backgroundcolor": "#E5ECF6",
            "gridcolor": "white",
            "gridwidth": 2,
            "linecolor": "white",
            "showbackground": true,
            "ticks": "",
            "zerolinecolor": "white"
           },
           "yaxis": {
            "backgroundcolor": "#E5ECF6",
            "gridcolor": "white",
            "gridwidth": 2,
            "linecolor": "white",
            "showbackground": true,
            "ticks": "",
            "zerolinecolor": "white"
           },
           "zaxis": {
            "backgroundcolor": "#E5ECF6",
            "gridcolor": "white",
            "gridwidth": 2,
            "linecolor": "white",
            "showbackground": true,
            "ticks": "",
            "zerolinecolor": "white"
           }
          },
          "shapedefaults": {
           "line": {
            "color": "#2a3f5f"
           }
          },
          "ternary": {
           "aaxis": {
            "gridcolor": "white",
            "linecolor": "white",
            "ticks": ""
           },
           "baxis": {
            "gridcolor": "white",
            "linecolor": "white",
            "ticks": ""
           },
           "bgcolor": "#E5ECF6",
           "caxis": {
            "gridcolor": "white",
            "linecolor": "white",
            "ticks": ""
           }
          },
          "title": {
           "x": 0.05
          },
          "xaxis": {
           "automargin": true,
           "gridcolor": "white",
           "linecolor": "white",
           "ticks": "",
           "title": {
            "standoff": 15
           },
           "zerolinecolor": "white",
           "zerolinewidth": 2
          },
          "yaxis": {
           "automargin": true,
           "gridcolor": "white",
           "linecolor": "white",
           "ticks": "",
           "title": {
            "standoff": 15
           },
           "zerolinecolor": "white",
           "zerolinewidth": 2
          }
         }
        },
        "title": {
         "text": "first  gyro"
        }
       }
      },
      "text/html": [
       "<div>                            <div id=\"1bb1dc02-6b1e-4d7f-b13f-451769609462\" class=\"plotly-graph-div\" style=\"height:525px; width:100%;\"></div>            <script type=\"text/javascript\">                require([\"plotly\"], function(Plotly) {                    window.PLOTLYENV=window.PLOTLYENV || {};                                    if (document.getElementById(\"1bb1dc02-6b1e-4d7f-b13f-451769609462\")) {                    Plotly.newPlot(                        \"1bb1dc02-6b1e-4d7f-b13f-451769609462\",                        [{\"name\":\"lb_gx\",\"x\":[0,1,2,3,4,5,6,7,8,9,10,11,12,13,14,15,16,17,18,19,20,21,22,23,24,25,26,27,28,29,30,31,32,33,34,35,36,37,38,39,40,41,42,43,44,45,46,47,48,49,50,51,52,53,54,55,56,57,58,59,60,61,62,63,64,65,66,67,68,69,70,71,72,73,74,75,76,77,78,79,80,81,82,83,84,85,86,87,88,89,90,91,92,93,94,95,96,97,98,99,100,101,102,103,104,105,106,107,108,109,110,111,112,113,114,115,116,117,118,119,120,121,122,123,124,125,126,127,128,129,130,131,132,133,134,135,136,137,138,139,140,141,142,143,144,145,146,147,148,149,150,151,152,153,154,155,156,157,158,159,160,161,162,163,164,165,166,167,168,169,170,171,172,173,174,175,176,177,178,179,180,181,182],\"y\":[0.09126341,0.08060491,0.09645943,0.1008561,0.09152987,0.09592651,0.09685912,0.0895314,0.09179633,0.09099694,0.08713324,0.09645943,0.09499389,0.08673355,0.08766616,0.09073049,0.09539357,0.09832466,0.09472742,0.09099694,0.09246248,0.09339512,0.09392804,0.09619296,0.09219603,0.09512712,0.1015222,0.1063185,0.09619296,0.09699235,0.0984579,0.09392804,0.09046402,0.08793263,0.08806586,0.09259573,0.09566004,0.0937948,0.1004564,0.1035207,0.119242,0.1112481,0.1003231,0.09952374,0.09339512,0.08966463,0.09126341,0.1019219,0.1060521,0.1032542,0.1037871,0.09832466,0.09899082,0.09552681,0.09526035,0.09179633,0.08553447,0.08433538,0.08926495,0.0941945,0.1044533,0.1053859,0.09659266,0.1033875,0.1001899,0.1069847,0.101389,0.085268,0.09073049,0.09486065,0.1007228,0.09099694,0.09925729,0.09259573,0.08859879,0.09312864,0.09619296,0.09286219,0.1035207,0.1091164,0.1005896,0.09579327,0.09579327,0.09792498,0.09326189,0.0899311,0.09765851,0.09472742,0.09019755,0.09685912,0.1012558,0.09366158,0.09219603,0.1061853,0.1044533,0.1008561,0.1027213,0.09046402,0.09073049,0.09299541,0.09552681,0.09672588,0.09566004,0.09819143,0.09659266,0.1009893,0.09819143,0.09033078,0.09672588,0.1025881,0.0937948,0.1039204,0.09899082,0.09672588,0.09992344,0.09779175,0.09979021,0.09792498,0.09899082,0.1005896,0.09672588,0.09232925,0.09446095,0.1021884,0.1001899,0.1012558,0.09899082,0.09912406,0.09472742,0.101389,0.09272896,0.08700001,0.09113017,0.09659266,0.09113017,0.09352834,0.08979786,0.09859113,0.09139664,0.0877994,0.08966463,0.09605973,0.09272896,0.09912406,0.09645943,0.1016554,0.09392804,0.09552681,0.1037871,0.09792498,0.09406126,0.1104487,0.1103155,0.1009893,0.0899311,0.09446095,0.09579327,0.09832466,0.1015222,0.104853,0.09352834,0.09246248,0.08660031,0.09166309,0.0920628,0.09899082,0.1020551,0.09579327,0.0984579,0.09566004,0.09579327,0.09339512,0.1027213,0.09739204,0.09033078,0.1059188,0.1016554,0.0937948,0.09486065,0.08793263,0.09073049,0.09752527,0.1011225],\"type\":\"scatter\"},{\"name\":\"lb_gy\",\"x\":[0,1,2,3,4,5,6,7,8,9,10,11,12,13,14,15,16,17,18,19,20,21,22,23,24,25,26,27,28,29,30,31,32,33,34,35,36,37,38,39,40,41,42,43,44,45,46,47,48,49,50,51,52,53,54,55,56,57,58,59,60,61,62,63,64,65,66,67,68,69,70,71,72,73,74,75,76,77,78,79,80,81,82,83,84,85,86,87,88,89,90,91,92,93,94,95,96,97,98,99,100,101,102,103,104,105,106,107,108,109,110,111,112,113,114,115,116,117,118,119,120,121,122,123,124,125,126,127,128,129,130,131,132,133,134,135,136,137,138,139,140,141,142,143,144,145,146,147,148,149,150,151,152,153,154,155,156,157,158,159,160,161,162,163,164,165,166,167,168,169,170,171,172,173,174,175,176,177,178,179,180,181,182],\"y\":[0.04130168,0.0596876,0.05688975,0.06528331,0.06754825,0.06541655,0.07167841,0.06594947,0.06195253,0.08167076,0.06341808,0.06808117,0.07381011,0.06408423,0.06195253,0.06062022,0.06208577,0.0554242,0.05595713,0.06461716,0.06541655,0.06967995,0.0579556,0.05222665,0.06594947,0.06248546,0.06115315,0.04996172,0.05435835,0.0579556,0.06368454,0.05715621,0.05209342,0.05782237,0.06062022,0.06315161,0.07767382,0.06475039,0.07007964,0.05768914,0.08580092,0.06181931,0.09619296,0.06794794,0.07794028,0.03317458,0.0643507,0.03637213,0.05742267,0.05076111,0.05529098,0.03570598,0.0447657,0.05662329,0.04716386,0.04223431,0.06448393,0.07007964,0.0579556,0.06888056,0.07980552,0.05196019,0.05915468,0.05395866,0.06208577,0.05728944,0.04849617,0.07034611,0.05715621,0.05742267,0.05955438,0.05235989,0.07007964,0.07141195,0.06515008,0.04423277,0.03717152,0.06235223,0.05076111,0.04623124,0.04809648,0.06022053,0.05515773,0.06035376,0.04756356,0.06181931,0.05662329,0.06248546,0.04836294,0.05862175,0.06328485,0.06848086,0.0575559,0.062219,0.04396632,0.03237519,0.04130168,0.05289281,0.05489128,0.04809648,0.05728944,0.05475805,0.05875498,0.05515773,0.06088669,0.05275958,0.03916999,0.06141961,0.05982084,0.04876264,0.06341808,0.0554242,0.06208577,0.05848852,0.05275958,0.0511608,0.0536922,0.05009495,0.05742267,0.06195253,0.04942879,0.05942113,0.0596876,0.04569832,0.05275958,0.06475039,0.05235989,0.05662329,0.06461716,0.05009495,0.042634,0.05915468,0.0490291,0.05875498,0.05835528,0.04796326,0.05955438,0.05875498,0.05915468,0.05728944,0.0468974,0.05355896,0.06874733,0.06541655,0.06994641,0.05662329,0.0575559,0.05782237,0.05209342,0.05782237,0.04449924,0.0447657,0.05915468,0.04556509,0.06328485,0.06714855,0.05502451,0.06048699,0.04876264,0.05609035,0.05062788,0.04783002,0.05662329,0.05955438,0.06235223,0.05222665,0.05315928,0.05049465,0.04463247,0.06315161,0.07807351,0.07047934,0.06914702,0.07540888,0.05822206,0.07101226,0.0468974,0.042634,0.05582389,0.07154518,0.08220368,0.06848086,0.07660797],\"type\":\"scatter\"},{\"name\":\"lb_gz\",\"x\":[0,1,2,3,4,5,6,7,8,9,10,11,12,13,14,15,16,17,18,19,20,21,22,23,24,25,26,27,28,29,30,31,32,33,34,35,36,37,38,39,40,41,42,43,44,45,46,47,48,49,50,51,52,53,54,55,56,57,58,59,60,61,62,63,64,65,66,67,68,69,70,71,72,73,74,75,76,77,78,79,80,81,82,83,84,85,86,87,88,89,90,91,92,93,94,95,96,97,98,99,100,101,102,103,104,105,106,107,108,109,110,111,112,113,114,115,116,117,118,119,120,121,122,123,124,125,126,127,128,129,130,131,132,133,134,135,136,137,138,139,140,141,142,143,144,145,146,147,148,149,150,151,152,153,154,155,156,157,158,159,160,161,162,163,164,165,166,167,168,169,170,171,172,173,174,175,176,177,178,179,180,181,182],\"y\":[0.01598775,0.02264931,0.01585452,0.008260338,0.01931853,0.02025115,0.01452221,0.02078407,0.01732006,0.02491424,0.01971823,0.01652068,0.02171669,0.02877795,0.02318224,0.01865238,0.009192957,0.007860644,0.01265697,0.02011792,0.01692037,0.02331547,0.02065084,0.01305666,0.01612098,0.01851914,0.01598775,0.009459419,0.01718683,0.01598775,0.01625421,0.02078407,0.02704594,0.03437366,0.02318224,0.02118377,0.02611332,0.02264931,0.01612098,-0.0007993876,-0.002531394,-0.003863707,0.01358959,0.004929556,0.01785299,0.004529863,0.009725882,-0.00746095,-0.006661563,-0.01865238,0.007594181,0.01132466,0.01292343,0.02184993,0.02304901,0.02757887,0.03597244,0.04449924,0.0430337,0.02904441,0.0255804,0.01838591,0.01771976,0.01145789,0.01159112,0.002531394,0.0006661563,0.02757887,0.02145023,0.01225728,0.00746095,0.0149219,0.01771976,0.01305666,0.02318224,0.006928025,0.0002664625,0.008793262,-0.003597244,0.006395101,0.00319755,0.009859113,0.01372282,0.007860644,0.01345636,0.01825268,0.009725882,0.01625421,0.009326188,0.0042634,0.003996938,0.01865238,0.01785299,0.009725882,0.001465544,0.006928025,0.01092496,0.01292343,0.01985146,0.02451455,0.02398163,0.02118377,0.01878561,0.02184993,0.02038438,0.01931853,0.01971823,0.01585452,0.02051761,0.002531394,0.01012558,0.01119143,0.01345636,0.01625421,0.01798622,0.01811945,0.01865238,0.02105054,0.01652068,0.01025881,0.02171669,0.02145023,0.01931853,0.01412251,0.02025115,0.01452221,0.01172435,0.01638744,0.01452221,0.01332313,0.02198316,0.01811945,0.01305666,0.01598775,0.02198316,0.0170536,0.01652068,0.01998469,0.02051761,0.02065084,0.01092496,0.009459419,0.01052527,0.0127902,0.01758653,0.01798622,0.02331547,0.01998469,0.01092496,0.02304901,0.01718683,-0.001998469,-0.006794794,0.002797856,0.02438132,0.01598775,0.01465544,0.02011792,0.01345636,0.01305666,0.02611332,0.01798622,0.0234487,0.02318224,0.02624656,0.009859113,0.005728944,0.005462481,0.009192957,0.01771976,0.01838591,0.02224962,0.01239051,0.008926495,0.01185758,0.001998469,-0.003863707,0.009192957,0.01798622,0.03330781,0.04716386,0.04170138,0.02957734],\"type\":\"scatter\"}],                        {\"template\":{\"data\":{\"bar\":[{\"error_x\":{\"color\":\"#2a3f5f\"},\"error_y\":{\"color\":\"#2a3f5f\"},\"marker\":{\"line\":{\"color\":\"#E5ECF6\",\"width\":0.5},\"pattern\":{\"fillmode\":\"overlay\",\"size\":10,\"solidity\":0.2}},\"type\":\"bar\"}],\"barpolar\":[{\"marker\":{\"line\":{\"color\":\"#E5ECF6\",\"width\":0.5},\"pattern\":{\"fillmode\":\"overlay\",\"size\":10,\"solidity\":0.2}},\"type\":\"barpolar\"}],\"carpet\":[{\"aaxis\":{\"endlinecolor\":\"#2a3f5f\",\"gridcolor\":\"white\",\"linecolor\":\"white\",\"minorgridcolor\":\"white\",\"startlinecolor\":\"#2a3f5f\"},\"baxis\":{\"endlinecolor\":\"#2a3f5f\",\"gridcolor\":\"white\",\"linecolor\":\"white\",\"minorgridcolor\":\"white\",\"startlinecolor\":\"#2a3f5f\"},\"type\":\"carpet\"}],\"choropleth\":[{\"colorbar\":{\"outlinewidth\":0,\"ticks\":\"\"},\"type\":\"choropleth\"}],\"contour\":[{\"colorbar\":{\"outlinewidth\":0,\"ticks\":\"\"},\"colorscale\":[[0.0,\"#0d0887\"],[0.1111111111111111,\"#46039f\"],[0.2222222222222222,\"#7201a8\"],[0.3333333333333333,\"#9c179e\"],[0.4444444444444444,\"#bd3786\"],[0.5555555555555556,\"#d8576b\"],[0.6666666666666666,\"#ed7953\"],[0.7777777777777778,\"#fb9f3a\"],[0.8888888888888888,\"#fdca26\"],[1.0,\"#f0f921\"]],\"type\":\"contour\"}],\"contourcarpet\":[{\"colorbar\":{\"outlinewidth\":0,\"ticks\":\"\"},\"type\":\"contourcarpet\"}],\"heatmap\":[{\"colorbar\":{\"outlinewidth\":0,\"ticks\":\"\"},\"colorscale\":[[0.0,\"#0d0887\"],[0.1111111111111111,\"#46039f\"],[0.2222222222222222,\"#7201a8\"],[0.3333333333333333,\"#9c179e\"],[0.4444444444444444,\"#bd3786\"],[0.5555555555555556,\"#d8576b\"],[0.6666666666666666,\"#ed7953\"],[0.7777777777777778,\"#fb9f3a\"],[0.8888888888888888,\"#fdca26\"],[1.0,\"#f0f921\"]],\"type\":\"heatmap\"}],\"heatmapgl\":[{\"colorbar\":{\"outlinewidth\":0,\"ticks\":\"\"},\"colorscale\":[[0.0,\"#0d0887\"],[0.1111111111111111,\"#46039f\"],[0.2222222222222222,\"#7201a8\"],[0.3333333333333333,\"#9c179e\"],[0.4444444444444444,\"#bd3786\"],[0.5555555555555556,\"#d8576b\"],[0.6666666666666666,\"#ed7953\"],[0.7777777777777778,\"#fb9f3a\"],[0.8888888888888888,\"#fdca26\"],[1.0,\"#f0f921\"]],\"type\":\"heatmapgl\"}],\"histogram\":[{\"marker\":{\"pattern\":{\"fillmode\":\"overlay\",\"size\":10,\"solidity\":0.2}},\"type\":\"histogram\"}],\"histogram2d\":[{\"colorbar\":{\"outlinewidth\":0,\"ticks\":\"\"},\"colorscale\":[[0.0,\"#0d0887\"],[0.1111111111111111,\"#46039f\"],[0.2222222222222222,\"#7201a8\"],[0.3333333333333333,\"#9c179e\"],[0.4444444444444444,\"#bd3786\"],[0.5555555555555556,\"#d8576b\"],[0.6666666666666666,\"#ed7953\"],[0.7777777777777778,\"#fb9f3a\"],[0.8888888888888888,\"#fdca26\"],[1.0,\"#f0f921\"]],\"type\":\"histogram2d\"}],\"histogram2dcontour\":[{\"colorbar\":{\"outlinewidth\":0,\"ticks\":\"\"},\"colorscale\":[[0.0,\"#0d0887\"],[0.1111111111111111,\"#46039f\"],[0.2222222222222222,\"#7201a8\"],[0.3333333333333333,\"#9c179e\"],[0.4444444444444444,\"#bd3786\"],[0.5555555555555556,\"#d8576b\"],[0.6666666666666666,\"#ed7953\"],[0.7777777777777778,\"#fb9f3a\"],[0.8888888888888888,\"#fdca26\"],[1.0,\"#f0f921\"]],\"type\":\"histogram2dcontour\"}],\"mesh3d\":[{\"colorbar\":{\"outlinewidth\":0,\"ticks\":\"\"},\"type\":\"mesh3d\"}],\"parcoords\":[{\"line\":{\"colorbar\":{\"outlinewidth\":0,\"ticks\":\"\"}},\"type\":\"parcoords\"}],\"pie\":[{\"automargin\":true,\"type\":\"pie\"}],\"scatter\":[{\"marker\":{\"colorbar\":{\"outlinewidth\":0,\"ticks\":\"\"}},\"type\":\"scatter\"}],\"scatter3d\":[{\"line\":{\"colorbar\":{\"outlinewidth\":0,\"ticks\":\"\"}},\"marker\":{\"colorbar\":{\"outlinewidth\":0,\"ticks\":\"\"}},\"type\":\"scatter3d\"}],\"scattercarpet\":[{\"marker\":{\"colorbar\":{\"outlinewidth\":0,\"ticks\":\"\"}},\"type\":\"scattercarpet\"}],\"scattergeo\":[{\"marker\":{\"colorbar\":{\"outlinewidth\":0,\"ticks\":\"\"}},\"type\":\"scattergeo\"}],\"scattergl\":[{\"marker\":{\"colorbar\":{\"outlinewidth\":0,\"ticks\":\"\"}},\"type\":\"scattergl\"}],\"scattermapbox\":[{\"marker\":{\"colorbar\":{\"outlinewidth\":0,\"ticks\":\"\"}},\"type\":\"scattermapbox\"}],\"scatterpolar\":[{\"marker\":{\"colorbar\":{\"outlinewidth\":0,\"ticks\":\"\"}},\"type\":\"scatterpolar\"}],\"scatterpolargl\":[{\"marker\":{\"colorbar\":{\"outlinewidth\":0,\"ticks\":\"\"}},\"type\":\"scatterpolargl\"}],\"scatterternary\":[{\"marker\":{\"colorbar\":{\"outlinewidth\":0,\"ticks\":\"\"}},\"type\":\"scatterternary\"}],\"surface\":[{\"colorbar\":{\"outlinewidth\":0,\"ticks\":\"\"},\"colorscale\":[[0.0,\"#0d0887\"],[0.1111111111111111,\"#46039f\"],[0.2222222222222222,\"#7201a8\"],[0.3333333333333333,\"#9c179e\"],[0.4444444444444444,\"#bd3786\"],[0.5555555555555556,\"#d8576b\"],[0.6666666666666666,\"#ed7953\"],[0.7777777777777778,\"#fb9f3a\"],[0.8888888888888888,\"#fdca26\"],[1.0,\"#f0f921\"]],\"type\":\"surface\"}],\"table\":[{\"cells\":{\"fill\":{\"color\":\"#EBF0F8\"},\"line\":{\"color\":\"white\"}},\"header\":{\"fill\":{\"color\":\"#C8D4E3\"},\"line\":{\"color\":\"white\"}},\"type\":\"table\"}]},\"layout\":{\"annotationdefaults\":{\"arrowcolor\":\"#2a3f5f\",\"arrowhead\":0,\"arrowwidth\":1},\"autotypenumbers\":\"strict\",\"coloraxis\":{\"colorbar\":{\"outlinewidth\":0,\"ticks\":\"\"}},\"colorscale\":{\"diverging\":[[0,\"#8e0152\"],[0.1,\"#c51b7d\"],[0.2,\"#de77ae\"],[0.3,\"#f1b6da\"],[0.4,\"#fde0ef\"],[0.5,\"#f7f7f7\"],[0.6,\"#e6f5d0\"],[0.7,\"#b8e186\"],[0.8,\"#7fbc41\"],[0.9,\"#4d9221\"],[1,\"#276419\"]],\"sequential\":[[0.0,\"#0d0887\"],[0.1111111111111111,\"#46039f\"],[0.2222222222222222,\"#7201a8\"],[0.3333333333333333,\"#9c179e\"],[0.4444444444444444,\"#bd3786\"],[0.5555555555555556,\"#d8576b\"],[0.6666666666666666,\"#ed7953\"],[0.7777777777777778,\"#fb9f3a\"],[0.8888888888888888,\"#fdca26\"],[1.0,\"#f0f921\"]],\"sequentialminus\":[[0.0,\"#0d0887\"],[0.1111111111111111,\"#46039f\"],[0.2222222222222222,\"#7201a8\"],[0.3333333333333333,\"#9c179e\"],[0.4444444444444444,\"#bd3786\"],[0.5555555555555556,\"#d8576b\"],[0.6666666666666666,\"#ed7953\"],[0.7777777777777778,\"#fb9f3a\"],[0.8888888888888888,\"#fdca26\"],[1.0,\"#f0f921\"]]},\"colorway\":[\"#636efa\",\"#EF553B\",\"#00cc96\",\"#ab63fa\",\"#FFA15A\",\"#19d3f3\",\"#FF6692\",\"#B6E880\",\"#FF97FF\",\"#FECB52\"],\"font\":{\"color\":\"#2a3f5f\"},\"geo\":{\"bgcolor\":\"white\",\"lakecolor\":\"white\",\"landcolor\":\"#E5ECF6\",\"showlakes\":true,\"showland\":true,\"subunitcolor\":\"white\"},\"hoverlabel\":{\"align\":\"left\"},\"hovermode\":\"closest\",\"mapbox\":{\"style\":\"light\"},\"paper_bgcolor\":\"white\",\"plot_bgcolor\":\"#E5ECF6\",\"polar\":{\"angularaxis\":{\"gridcolor\":\"white\",\"linecolor\":\"white\",\"ticks\":\"\"},\"bgcolor\":\"#E5ECF6\",\"radialaxis\":{\"gridcolor\":\"white\",\"linecolor\":\"white\",\"ticks\":\"\"}},\"scene\":{\"xaxis\":{\"backgroundcolor\":\"#E5ECF6\",\"gridcolor\":\"white\",\"gridwidth\":2,\"linecolor\":\"white\",\"showbackground\":true,\"ticks\":\"\",\"zerolinecolor\":\"white\"},\"yaxis\":{\"backgroundcolor\":\"#E5ECF6\",\"gridcolor\":\"white\",\"gridwidth\":2,\"linecolor\":\"white\",\"showbackground\":true,\"ticks\":\"\",\"zerolinecolor\":\"white\"},\"zaxis\":{\"backgroundcolor\":\"#E5ECF6\",\"gridcolor\":\"white\",\"gridwidth\":2,\"linecolor\":\"white\",\"showbackground\":true,\"ticks\":\"\",\"zerolinecolor\":\"white\"}},\"shapedefaults\":{\"line\":{\"color\":\"#2a3f5f\"}},\"ternary\":{\"aaxis\":{\"gridcolor\":\"white\",\"linecolor\":\"white\",\"ticks\":\"\"},\"baxis\":{\"gridcolor\":\"white\",\"linecolor\":\"white\",\"ticks\":\"\"},\"bgcolor\":\"#E5ECF6\",\"caxis\":{\"gridcolor\":\"white\",\"linecolor\":\"white\",\"ticks\":\"\"}},\"title\":{\"x\":0.05},\"xaxis\":{\"automargin\":true,\"gridcolor\":\"white\",\"linecolor\":\"white\",\"ticks\":\"\",\"title\":{\"standoff\":15},\"zerolinecolor\":\"white\",\"zerolinewidth\":2},\"yaxis\":{\"automargin\":true,\"gridcolor\":\"white\",\"linecolor\":\"white\",\"ticks\":\"\",\"title\":{\"standoff\":15},\"zerolinecolor\":\"white\",\"zerolinewidth\":2}}},\"title\":{\"text\":\"first  gyro\"}},                        {\"responsive\": true}                    ).then(function(){\n",
       "                            \n",
       "var gd = document.getElementById('1bb1dc02-6b1e-4d7f-b13f-451769609462');\n",
       "var x = new MutationObserver(function (mutations, observer) {{\n",
       "        var display = window.getComputedStyle(gd).display;\n",
       "        if (!display || display === 'none') {{\n",
       "            console.log([gd, 'removed!']);\n",
       "            Plotly.purge(gd);\n",
       "            observer.disconnect();\n",
       "        }}\n",
       "}});\n",
       "\n",
       "// Listen for the removal of the full notebook cells\n",
       "var notebookContainer = gd.closest('#notebook-container');\n",
       "if (notebookContainer) {{\n",
       "    x.observe(notebookContainer, {childList: true});\n",
       "}}\n",
       "\n",
       "// Listen for the clearing of the current output cell\n",
       "var outputEl = gd.closest('.output');\n",
       "if (outputEl) {{\n",
       "    x.observe(outputEl, {childList: true});\n",
       "}}\n",
       "\n",
       "                        })                };                });            </script>        </div>"
      ]
     },
     "metadata": {},
     "output_type": "display_data"
    },
    {
     "data": {
      "application/vnd.plotly.v1+json": {
       "config": {
        "plotlyServerURL": "https://plot.ly"
       },
       "data": [
        {
         "name": "lb_gx",
         "type": "scatter",
         "x": [
          0,
          1,
          2,
          3,
          4,
          5,
          6,
          7,
          8,
          9,
          10,
          11,
          12,
          13,
          14,
          15,
          16,
          17,
          18,
          19,
          20,
          21,
          22,
          23,
          24,
          25,
          26,
          27,
          28,
          29,
          30,
          31,
          32,
          33,
          34,
          35,
          36,
          37,
          38,
          39,
          40,
          41,
          42,
          43,
          44,
          45,
          46,
          47,
          48,
          49,
          50,
          51,
          52,
          53,
          54,
          55,
          56,
          57,
          58,
          59,
          60,
          61,
          62,
          63,
          64,
          65,
          66,
          67,
          68,
          69,
          70,
          71,
          72,
          73,
          74,
          75,
          76,
          77,
          78,
          79,
          80,
          81,
          82,
          83,
          84,
          85,
          86,
          87,
          88,
          89,
          90,
          91,
          92,
          93,
          94,
          95,
          96,
          97,
          98,
          99,
          100,
          101,
          102,
          103,
          104,
          105,
          106,
          107,
          108,
          109,
          110,
          111,
          112,
          113,
          114,
          115,
          116,
          117,
          118,
          119,
          120,
          121,
          122,
          123,
          124,
          125,
          126,
          127,
          128,
          129,
          130,
          131,
          132,
          133,
          134,
          135,
          136,
          137,
          138,
          139,
          140,
          141,
          142,
          143,
          144,
          145,
          146,
          147,
          148,
          149,
          150,
          151,
          152,
          153,
          154,
          155,
          156,
          157,
          158,
          159,
          160,
          161,
          162,
          163,
          164,
          165,
          166,
          167,
          168,
          169,
          170,
          171,
          172,
          173,
          174,
          175,
          176,
          177,
          178,
          179,
          180,
          181,
          182
         ],
         "y": [
          -0.005046041420765021,
          -0.015704541420765022,
          0.00014997857923497449,
          0.00454664857923498,
          -0.004779581420765025,
          -0.0003829414207650178,
          0.0005496685792349826,
          -0.006778051420765027,
          -0.004513121420765029,
          -0.005312511420765026,
          -0.009176211420765024,
          0.00014997857923497449,
          -0.0013155614207650268,
          -0.009575901420765018,
          -0.008643291420765017,
          -0.005578961420765027,
          -0.0009158814207650273,
          0.00201520857923497,
          -0.0015820314207650177,
          -0.005312511420765026,
          -0.0038469714207650246,
          -0.002914331420765026,
          -0.00238141142076502,
          -0.00011649142076503027,
          -0.004113421420765026,
          -0.0011823314207650287,
          0.005212748579234983,
          0.010009048579234972,
          -0.00011649142076503027,
          0.0006828985792349807,
          0.0021484485792349767,
          -0.00238141142076502,
          -0.005845431420765018,
          -0.008376821420765027,
          -0.008243591420765028,
          -0.003713721420765023,
          -0.0006494114207650226,
          -0.0025146514207650267,
          0.004146948579234977,
          0.007211248579234969,
          0.022932548579234976,
          0.014938648579234978,
          0.004013648579234974,
          0.003214288579234975,
          -0.002914331420765026,
          -0.006644821420765029,
          -0.005046041420765021,
          0.0056124485792349715,
          0.009742648579234972,
          0.00694474857923498,
          0.007477648579234969,
          0.00201520857923497,
          0.002681368579234969,
          -0.0007826414207650206,
          -0.0010491014207650307,
          -0.004513121420765029,
          -0.010774981420765023,
          -0.011974071420765023,
          -0.007044501420765029,
          -0.002114951420765024,
          0.008143848579234975,
          0.00907644857923498,
          0.00028320857923497256,
          0.007078048579234969,
          0.003880448579234974,
          0.010675248579234978,
          0.005079548579234983,
          -0.011041451420765028,
          -0.005578961420765027,
          -0.0014488014207650196,
          0.004413348579234977,
          -0.005312511420765026,
          0.0029478385792349737,
          -0.003713721420765023,
          -0.007710661420765028,
          -0.0031808114207650257,
          -0.00011649142076503027,
          -0.003447261420765027,
          0.007211248579234969,
          0.012806948579234978,
          0.004280148579234977,
          -0.0005161814207650245,
          -0.0005161814207650245,
          0.0016155285792349705,
          -0.0030475614207650242,
          -0.006378351420765024,
          0.0013490585792349796,
          -0.0015820314207650177,
          -0.006111901420765023,
          0.0005496685792349826,
          0.004946348579234983,
          -0.00264787142076503,
          -0.004113421420765026,
          0.009875848579234972,
          0.008143848579234975,
          0.00454664857923498,
          0.006411848579234977,
          -0.005845431420765018,
          -0.005578961420765027,
          -0.0033140414207650237,
          -0.0007826414207650206,
          0.0004164285792349759,
          -0.0006494114207650226,
          0.001881978579234972,
          0.00028320857923497256,
          0.00467984857923498,
          0.001881978579234972,
          -0.005978671420765025,
          0.0004164285792349759,
          0.006278648579234977,
          -0.0025146514207650267,
          0.007610948579234972,
          0.002681368579234969,
          0.0004164285792349759,
          0.003613988579234978,
          0.0014822985792349724,
          0.00348075857923498,
          0.0016155285792349705,
          0.002681368579234969,
          0.004280148579234977,
          0.0004164285792349759,
          -0.003980201420765023,
          -0.0018485014207650224,
          0.005878948579234974,
          0.003880448579234974,
          0.004946348579234983,
          0.002681368579234969,
          0.0028146085792349756,
          -0.0015820314207650177,
          0.005079548579234983,
          -0.003580491420765025,
          -0.009309441420765022,
          -0.005179281420765028,
          0.00028320857923497256,
          -0.005179281420765028,
          -0.002781111420765023,
          -0.006511591420765031,
          0.0022816785792349747,
          -0.004912811420765023,
          -0.008510051420765025,
          -0.006644821420765029,
          -0.00024972142076502835,
          -0.003580491420765025,
          0.0028146085792349756,
          0.00014997857923497449,
          0.005345948579234983,
          -0.00238141142076502,
          -0.0007826414207650206,
          0.007477648579234969,
          0.0016155285792349705,
          -0.0022481914207650305,
          0.014139248579234973,
          0.014006048579234973,
          0.00467984857923498,
          -0.006378351420765024,
          -0.0018485014207650224,
          -0.0005161814207650245,
          0.00201520857923497,
          0.005212748579234983,
          0.008543548579234977,
          -0.002781111420765023,
          -0.0038469714207650246,
          -0.009709141420765025,
          -0.004646361420765022,
          -0.004246651420765024,
          0.002681368579234969,
          0.0057456485792349715,
          -0.0005161814207650245,
          0.0021484485792349767,
          -0.0006494114207650226,
          -0.0005161814207650245,
          -0.002914331420765026,
          0.006411848579234977,
          0.0010825885792349749,
          -0.005978671420765025,
          0.00960934857923497,
          0.005345948579234983,
          -0.0025146514207650267,
          -0.0014488014207650196,
          -0.008376821420765027,
          -0.005578961420765027,
          0.001215818579234973,
          0.00481304857923498
         ]
        },
        {
         "name": "lb_gy",
         "type": "scatter",
         "x": [
          0,
          1,
          2,
          3,
          4,
          5,
          6,
          7,
          8,
          9,
          10,
          11,
          12,
          13,
          14,
          15,
          16,
          17,
          18,
          19,
          20,
          21,
          22,
          23,
          24,
          25,
          26,
          27,
          28,
          29,
          30,
          31,
          32,
          33,
          34,
          35,
          36,
          37,
          38,
          39,
          40,
          41,
          42,
          43,
          44,
          45,
          46,
          47,
          48,
          49,
          50,
          51,
          52,
          53,
          54,
          55,
          56,
          57,
          58,
          59,
          60,
          61,
          62,
          63,
          64,
          65,
          66,
          67,
          68,
          69,
          70,
          71,
          72,
          73,
          74,
          75,
          76,
          77,
          78,
          79,
          80,
          81,
          82,
          83,
          84,
          85,
          86,
          87,
          88,
          89,
          90,
          91,
          92,
          93,
          94,
          95,
          96,
          97,
          98,
          99,
          100,
          101,
          102,
          103,
          104,
          105,
          106,
          107,
          108,
          109,
          110,
          111,
          112,
          113,
          114,
          115,
          116,
          117,
          118,
          119,
          120,
          121,
          122,
          123,
          124,
          125,
          126,
          127,
          128,
          129,
          130,
          131,
          132,
          133,
          134,
          135,
          136,
          137,
          138,
          139,
          140,
          141,
          142,
          143,
          144,
          145,
          146,
          147,
          148,
          149,
          150,
          151,
          152,
          153,
          154,
          155,
          156,
          157,
          158,
          159,
          160,
          161,
          162,
          163,
          164,
          165,
          166,
          167,
          168,
          169,
          170,
          171,
          172,
          173,
          174,
          175,
          176,
          177,
          178,
          179,
          180,
          181,
          182
         ],
         "y": [
          -0.016979349890710385,
          0.001406570109289615,
          -0.0013912798907103827,
          0.007002280109289612,
          0.009267220109289619,
          0.007135520109289618,
          0.013397380109289612,
          0.007668440109289611,
          0.0036715001092896132,
          0.02338973010928961,
          0.005137050109289616,
          0.009800140109289611,
          0.015529080109289613,
          0.0058032001092896204,
          0.0036715001092896132,
          0.002339190109289617,
          0.003804740109289613,
          -0.0028568298907103856,
          -0.0023238998907103847,
          0.006336130109289621,
          0.007135520109289618,
          0.011398920109289619,
          -0.00032542989071038253,
          -0.006054379890710386,
          0.007668440109289611,
          0.004204430109289614,
          0.002872120109289618,
          -0.008319309890710384,
          -0.003922679890710386,
          -0.00032542989071038253,
          0.005403510109289612,
          -0.0011248198907103865,
          -0.006187609890710384,
          -0.00045865989071038754,
          0.002339190109289617,
          0.0048705801092896114,
          0.01939279010928962,
          0.006469360109289619,
          0.011798610109289613,
          -0.0005918898907103856,
          0.027519890109289617,
          0.003538280109289617,
          0.03791193010928961,
          0.009666910109289613,
          0.019659250109289615,
          -0.025106449890710383,
          0.006069670109289611,
          -0.021908899890710383,
          -0.0008583598907103834,
          -0.007519919890710387,
          -0.002990049890710382,
          -0.022575049890710387,
          -0.013515329890710387,
          -0.0016577398907103857,
          -0.011117169890710384,
          -0.01604671989071039,
          0.006202900109289609,
          0.011798610109289613,
          -0.00032542989071038253,
          0.010599530109289608,
          0.02152449010928962,
          -0.006320839890710382,
          0.0008736501092896157,
          -0.004322369890710387,
          0.003804740109289613,
          -0.0009915898907103884,
          -0.009784859890710387,
          0.012065080109289618,
          -0.0011248198907103865,
          -0.0008583598907103834,
          0.0012733501092896116,
          -0.005921139890710386,
          0.011798610109289613,
          0.013130920109289616,
          0.006869050109289614,
          -0.014048259890710388,
          -0.021109509890710386,
          0.004071200109289616,
          -0.007519919890710387,
          -0.012049789890710386,
          -0.010184549890710388,
          0.0019395001092896158,
          -0.0031232998907103834,
          0.002072730109289614,
          -0.010717469890710388,
          0.003538280109289617,
          -0.0016577398907103857,
          0.004204430109289614,
          -0.009918089890710385,
          0.00034072010928961477,
          0.005003820109289618,
          0.010199830109289619,
          -0.0007251298907103854,
          0.003937970109289611,
          -0.014314709890710382,
          -0.025905839890710387,
          -0.016979349890710385,
          -0.005388219890710387,
          -0.003389749890710385,
          -0.010184549890710388,
          -0.0009915898907103884,
          -0.003522979890710383,
          0.00047395010928961284,
          -0.0031232998907103834,
          0.0026056601092896148,
          -0.005521449890710385,
          -0.019111039890710384,
          0.003138580109289614,
          0.0015398101092896146,
          -0.009518389890710383,
          0.005137050109289616,
          -0.0028568298907103856,
          0.003804740109289613,
          0.0002074901092896167,
          -0.005521449890710385,
          -0.007120229890710386,
          -0.004588829890710383,
          -0.008186079890710386,
          -0.0008583598907103834,
          0.0036715001092896132,
          -0.008852239890710385,
          0.001140100109289617,
          0.001406570109289615,
          -0.012582709890710385,
          -0.005521449890710385,
          0.006469360109289619,
          -0.005921139890710386,
          -0.0016577398907103857,
          0.006336130109289621,
          -0.008186079890710386,
          -0.015647029890710387,
          0.0008736501092896157,
          -0.009251929890710386,
          0.00047395010928961284,
          7.425010928961695e-05,
          -0.010317769890710385,
          0.0012733501092896116,
          0.00047395010928961284,
          0.0008736501092896157,
          -0.0009915898907103884,
          -0.011383629890710387,
          -0.004722069890710383,
          0.01046630010928961,
          0.007135520109289618,
          0.011665380109289615,
          -0.0016577398907103857,
          -0.0007251298907103854,
          -0.00045865989071038754,
          -0.006187609890710384,
          -0.00045865989071038754,
          -0.013781789890710383,
          -0.013515329890710387,
          0.0008736501092896157,
          -0.012715939890710383,
          0.005003820109289618,
          0.008867520109289616,
          -0.0032565198907103868,
          0.002205960109289612,
          -0.009518389890710383,
          -0.0021906798907103883,
          -0.007653149890710385,
          -0.010451009890710385,
          -0.0016577398907103857,
          0.0012733501092896116,
          0.004071200109289616,
          -0.006054379890710386,
          -0.005121749890710382,
          -0.0077863798907103834,
          -0.013648559890710385,
          0.0048705801092896114,
          0.019792480109289613,
          0.012198310109289616,
          0.010865990109289618,
          0.017127850109289612,
          -5.8969890710386386e-05,
          0.012731230109289608,
          -0.011383629890710387,
          -0.015647029890710387,
          -0.0024571398907103845,
          0.013264150109289614,
          0.023922650109289616,
          0.010199830109289619,
          0.018326940109289612
         ]
        },
        {
         "name": "lb_gz",
         "type": "scatter",
         "x": [
          0,
          1,
          2,
          3,
          4,
          5,
          6,
          7,
          8,
          9,
          10,
          11,
          12,
          13,
          14,
          15,
          16,
          17,
          18,
          19,
          20,
          21,
          22,
          23,
          24,
          25,
          26,
          27,
          28,
          29,
          30,
          31,
          32,
          33,
          34,
          35,
          36,
          37,
          38,
          39,
          40,
          41,
          42,
          43,
          44,
          45,
          46,
          47,
          48,
          49,
          50,
          51,
          52,
          53,
          54,
          55,
          56,
          57,
          58,
          59,
          60,
          61,
          62,
          63,
          64,
          65,
          66,
          67,
          68,
          69,
          70,
          71,
          72,
          73,
          74,
          75,
          76,
          77,
          78,
          79,
          80,
          81,
          82,
          83,
          84,
          85,
          86,
          87,
          88,
          89,
          90,
          91,
          92,
          93,
          94,
          95,
          96,
          97,
          98,
          99,
          100,
          101,
          102,
          103,
          104,
          105,
          106,
          107,
          108,
          109,
          110,
          111,
          112,
          113,
          114,
          115,
          116,
          117,
          118,
          119,
          120,
          121,
          122,
          123,
          124,
          125,
          126,
          127,
          128,
          129,
          130,
          131,
          132,
          133,
          134,
          135,
          136,
          137,
          138,
          139,
          140,
          141,
          142,
          143,
          144,
          145,
          146,
          147,
          148,
          149,
          150,
          151,
          152,
          153,
          154,
          155,
          156,
          157,
          158,
          159,
          160,
          161,
          162,
          163,
          164,
          165,
          166,
          167,
          168,
          169,
          170,
          171,
          172,
          173,
          174,
          175,
          176,
          177,
          178,
          179,
          180,
          181,
          182
         ],
         "y": [
          0.00039241280765027475,
          0.007053972807650275,
          0.0002591828076502767,
          -0.007334999192349723,
          0.0037231928076502767,
          0.004655812807650275,
          -0.001073127192349723,
          0.005188732807650278,
          0.001724722807650278,
          0.009318902807650277,
          0.004122892807650276,
          0.0009253428076502757,
          0.0061213528076502766,
          0.013182612807650276,
          0.007586902807650276,
          0.003057042807650276,
          -0.006402380192349724,
          -0.007734693192349724,
          -0.0029383671923497237,
          0.004522582807650277,
          0.0013250328076502768,
          0.007720132807650278,
          0.005055502807650276,
          -0.0025386771923497243,
          0.0005256428076502763,
          0.002923802807650276,
          0.00039241280765027475,
          -0.006135918192349724,
          0.0015914928076502764,
          0.00039241280765027475,
          0.0006588728076502778,
          0.005188732807650278,
          0.011450602807650277,
          0.018778322807650277,
          0.007586902807650276,
          0.005588432807650277,
          0.010517982807650275,
          0.007053972807650275,
          0.0005256428076502763,
          -0.016394724792349723,
          -0.018126731192349723,
          -0.019459044192349725,
          -0.0020057471923497234,
          -0.010665781192349724,
          0.0022576528076502754,
          -0.011065474192349723,
          -0.005869455192349724,
          -0.023056287192349725,
          -0.022256900192349723,
          -0.03424771719234972,
          -0.008001156192349724,
          -0.0042706771923497235,
          -0.002671907192349724,
          0.006254592807650276,
          0.007453672807650278,
          0.011983532807650275,
          0.020377102807650278,
          0.02890390280765028,
          0.027438362807650277,
          0.013449072807650276,
          0.009985062807650276,
          0.0027905728076502746,
          0.0021244228076502773,
          -0.004137447192349724,
          -0.004004217192349724,
          -0.013063943192349724,
          -0.014929180892349724,
          0.011983532807650275,
          0.005854892807650277,
          -0.003338057192349723,
          -0.008134387192349723,
          -0.0006734371923497236,
          0.0021244228076502773,
          -0.0025386771923497243,
          0.007586902807650276,
          -0.008667312192349723,
          -0.015328874692349724,
          -0.006802075192349724,
          -0.019192581192349723,
          -0.009200236192349723,
          -0.012397787192349723,
          -0.0057362241923497245,
          -0.0018725171923497236,
          -0.007734693192349724,
          -0.002138977192349723,
          0.0026573428076502766,
          -0.005869455192349724,
          0.0006588728076502778,
          -0.006269149192349725,
          -0.011331937192349723,
          -0.011598399192349724,
          0.003057042807650276,
          0.0022576528076502754,
          -0.005869455192349724,
          -0.014129793192349725,
          -0.008667312192349723,
          -0.0046703771923497246,
          -0.002671907192349724,
          0.004256122807650278,
          0.008919212807650276,
          0.008386292807650277,
          0.005588432807650277,
          0.0031902728076502775,
          0.006254592807650276,
          0.004789042807650277,
          0.0037231928076502767,
          0.004122892807650276,
          0.0002591828076502767,
          0.004922272807650275,
          -0.013063943192349724,
          -0.005469757192349723,
          -0.004403907192349723,
          -0.002138977192349723,
          0.0006588728076502778,
          0.002390882807650277,
          0.002524112807650275,
          0.003057042807650276,
          0.005455202807650276,
          0.0009253428076502757,
          -0.005336527192349724,
          0.0061213528076502766,
          0.005854892807650277,
          0.0037231928076502767,
          -0.0014728271923497242,
          0.004655812807650275,
          -0.001073127192349723,
          -0.003870987192349724,
          0.0007921028076502759,
          -0.001073127192349723,
          -0.002272207192349723,
          0.006387822807650278,
          0.002524112807650275,
          -0.0025386771923497243,
          0.00039241280765027475,
          0.006387822807650278,
          0.0014582628076502749,
          0.0009253428076502757,
          0.004389352807650276,
          0.004922272807650275,
          0.005055502807650276,
          -0.0046703771923497246,
          -0.006135918192349724,
          -0.005070067192349724,
          -0.002805137192349724,
          0.001991192807650276,
          0.002390882807650277,
          0.007720132807650278,
          0.004389352807650276,
          -0.0046703771923497246,
          0.007453672807650278,
          0.0015914928076502764,
          -0.017593806192349723,
          -0.022390131192349724,
          -0.012797481192349724,
          0.008785982807650278,
          0.00039241280765027475,
          -0.0009398971923497233,
          0.004522582807650277,
          -0.002138977192349723,
          -0.0025386771923497243,
          0.010517982807650275,
          0.002390882807650277,
          0.007853362807650276,
          0.007586902807650276,
          0.010651222807650275,
          -0.0057362241923497245,
          -0.009866393192349724,
          -0.010132856192349724,
          -0.006402380192349724,
          0.0021244228076502773,
          0.0027905728076502746,
          0.0066542828076502775,
          -0.0032048271923497233,
          -0.006668842192349724,
          -0.0037377571923497242,
          -0.013596868192349724,
          -0.019459044192349725,
          -0.006402380192349724,
          0.002390882807650277,
          0.017712472807650276,
          0.03156852280765028,
          0.02610604280765028,
          0.013982002807650277
         ]
        }
       ],
       "layout": {
        "template": {
         "data": {
          "bar": [
           {
            "error_x": {
             "color": "#2a3f5f"
            },
            "error_y": {
             "color": "#2a3f5f"
            },
            "marker": {
             "line": {
              "color": "#E5ECF6",
              "width": 0.5
             },
             "pattern": {
              "fillmode": "overlay",
              "size": 10,
              "solidity": 0.2
             }
            },
            "type": "bar"
           }
          ],
          "barpolar": [
           {
            "marker": {
             "line": {
              "color": "#E5ECF6",
              "width": 0.5
             },
             "pattern": {
              "fillmode": "overlay",
              "size": 10,
              "solidity": 0.2
             }
            },
            "type": "barpolar"
           }
          ],
          "carpet": [
           {
            "aaxis": {
             "endlinecolor": "#2a3f5f",
             "gridcolor": "white",
             "linecolor": "white",
             "minorgridcolor": "white",
             "startlinecolor": "#2a3f5f"
            },
            "baxis": {
             "endlinecolor": "#2a3f5f",
             "gridcolor": "white",
             "linecolor": "white",
             "minorgridcolor": "white",
             "startlinecolor": "#2a3f5f"
            },
            "type": "carpet"
           }
          ],
          "choropleth": [
           {
            "colorbar": {
             "outlinewidth": 0,
             "ticks": ""
            },
            "type": "choropleth"
           }
          ],
          "contour": [
           {
            "colorbar": {
             "outlinewidth": 0,
             "ticks": ""
            },
            "colorscale": [
             [
              0,
              "#0d0887"
             ],
             [
              0.1111111111111111,
              "#46039f"
             ],
             [
              0.2222222222222222,
              "#7201a8"
             ],
             [
              0.3333333333333333,
              "#9c179e"
             ],
             [
              0.4444444444444444,
              "#bd3786"
             ],
             [
              0.5555555555555556,
              "#d8576b"
             ],
             [
              0.6666666666666666,
              "#ed7953"
             ],
             [
              0.7777777777777778,
              "#fb9f3a"
             ],
             [
              0.8888888888888888,
              "#fdca26"
             ],
             [
              1,
              "#f0f921"
             ]
            ],
            "type": "contour"
           }
          ],
          "contourcarpet": [
           {
            "colorbar": {
             "outlinewidth": 0,
             "ticks": ""
            },
            "type": "contourcarpet"
           }
          ],
          "heatmap": [
           {
            "colorbar": {
             "outlinewidth": 0,
             "ticks": ""
            },
            "colorscale": [
             [
              0,
              "#0d0887"
             ],
             [
              0.1111111111111111,
              "#46039f"
             ],
             [
              0.2222222222222222,
              "#7201a8"
             ],
             [
              0.3333333333333333,
              "#9c179e"
             ],
             [
              0.4444444444444444,
              "#bd3786"
             ],
             [
              0.5555555555555556,
              "#d8576b"
             ],
             [
              0.6666666666666666,
              "#ed7953"
             ],
             [
              0.7777777777777778,
              "#fb9f3a"
             ],
             [
              0.8888888888888888,
              "#fdca26"
             ],
             [
              1,
              "#f0f921"
             ]
            ],
            "type": "heatmap"
           }
          ],
          "heatmapgl": [
           {
            "colorbar": {
             "outlinewidth": 0,
             "ticks": ""
            },
            "colorscale": [
             [
              0,
              "#0d0887"
             ],
             [
              0.1111111111111111,
              "#46039f"
             ],
             [
              0.2222222222222222,
              "#7201a8"
             ],
             [
              0.3333333333333333,
              "#9c179e"
             ],
             [
              0.4444444444444444,
              "#bd3786"
             ],
             [
              0.5555555555555556,
              "#d8576b"
             ],
             [
              0.6666666666666666,
              "#ed7953"
             ],
             [
              0.7777777777777778,
              "#fb9f3a"
             ],
             [
              0.8888888888888888,
              "#fdca26"
             ],
             [
              1,
              "#f0f921"
             ]
            ],
            "type": "heatmapgl"
           }
          ],
          "histogram": [
           {
            "marker": {
             "pattern": {
              "fillmode": "overlay",
              "size": 10,
              "solidity": 0.2
             }
            },
            "type": "histogram"
           }
          ],
          "histogram2d": [
           {
            "colorbar": {
             "outlinewidth": 0,
             "ticks": ""
            },
            "colorscale": [
             [
              0,
              "#0d0887"
             ],
             [
              0.1111111111111111,
              "#46039f"
             ],
             [
              0.2222222222222222,
              "#7201a8"
             ],
             [
              0.3333333333333333,
              "#9c179e"
             ],
             [
              0.4444444444444444,
              "#bd3786"
             ],
             [
              0.5555555555555556,
              "#d8576b"
             ],
             [
              0.6666666666666666,
              "#ed7953"
             ],
             [
              0.7777777777777778,
              "#fb9f3a"
             ],
             [
              0.8888888888888888,
              "#fdca26"
             ],
             [
              1,
              "#f0f921"
             ]
            ],
            "type": "histogram2d"
           }
          ],
          "histogram2dcontour": [
           {
            "colorbar": {
             "outlinewidth": 0,
             "ticks": ""
            },
            "colorscale": [
             [
              0,
              "#0d0887"
             ],
             [
              0.1111111111111111,
              "#46039f"
             ],
             [
              0.2222222222222222,
              "#7201a8"
             ],
             [
              0.3333333333333333,
              "#9c179e"
             ],
             [
              0.4444444444444444,
              "#bd3786"
             ],
             [
              0.5555555555555556,
              "#d8576b"
             ],
             [
              0.6666666666666666,
              "#ed7953"
             ],
             [
              0.7777777777777778,
              "#fb9f3a"
             ],
             [
              0.8888888888888888,
              "#fdca26"
             ],
             [
              1,
              "#f0f921"
             ]
            ],
            "type": "histogram2dcontour"
           }
          ],
          "mesh3d": [
           {
            "colorbar": {
             "outlinewidth": 0,
             "ticks": ""
            },
            "type": "mesh3d"
           }
          ],
          "parcoords": [
           {
            "line": {
             "colorbar": {
              "outlinewidth": 0,
              "ticks": ""
             }
            },
            "type": "parcoords"
           }
          ],
          "pie": [
           {
            "automargin": true,
            "type": "pie"
           }
          ],
          "scatter": [
           {
            "marker": {
             "colorbar": {
              "outlinewidth": 0,
              "ticks": ""
             }
            },
            "type": "scatter"
           }
          ],
          "scatter3d": [
           {
            "line": {
             "colorbar": {
              "outlinewidth": 0,
              "ticks": ""
             }
            },
            "marker": {
             "colorbar": {
              "outlinewidth": 0,
              "ticks": ""
             }
            },
            "type": "scatter3d"
           }
          ],
          "scattercarpet": [
           {
            "marker": {
             "colorbar": {
              "outlinewidth": 0,
              "ticks": ""
             }
            },
            "type": "scattercarpet"
           }
          ],
          "scattergeo": [
           {
            "marker": {
             "colorbar": {
              "outlinewidth": 0,
              "ticks": ""
             }
            },
            "type": "scattergeo"
           }
          ],
          "scattergl": [
           {
            "marker": {
             "colorbar": {
              "outlinewidth": 0,
              "ticks": ""
             }
            },
            "type": "scattergl"
           }
          ],
          "scattermapbox": [
           {
            "marker": {
             "colorbar": {
              "outlinewidth": 0,
              "ticks": ""
             }
            },
            "type": "scattermapbox"
           }
          ],
          "scatterpolar": [
           {
            "marker": {
             "colorbar": {
              "outlinewidth": 0,
              "ticks": ""
             }
            },
            "type": "scatterpolar"
           }
          ],
          "scatterpolargl": [
           {
            "marker": {
             "colorbar": {
              "outlinewidth": 0,
              "ticks": ""
             }
            },
            "type": "scatterpolargl"
           }
          ],
          "scatterternary": [
           {
            "marker": {
             "colorbar": {
              "outlinewidth": 0,
              "ticks": ""
             }
            },
            "type": "scatterternary"
           }
          ],
          "surface": [
           {
            "colorbar": {
             "outlinewidth": 0,
             "ticks": ""
            },
            "colorscale": [
             [
              0,
              "#0d0887"
             ],
             [
              0.1111111111111111,
              "#46039f"
             ],
             [
              0.2222222222222222,
              "#7201a8"
             ],
             [
              0.3333333333333333,
              "#9c179e"
             ],
             [
              0.4444444444444444,
              "#bd3786"
             ],
             [
              0.5555555555555556,
              "#d8576b"
             ],
             [
              0.6666666666666666,
              "#ed7953"
             ],
             [
              0.7777777777777778,
              "#fb9f3a"
             ],
             [
              0.8888888888888888,
              "#fdca26"
             ],
             [
              1,
              "#f0f921"
             ]
            ],
            "type": "surface"
           }
          ],
          "table": [
           {
            "cells": {
             "fill": {
              "color": "#EBF0F8"
             },
             "line": {
              "color": "white"
             }
            },
            "header": {
             "fill": {
              "color": "#C8D4E3"
             },
             "line": {
              "color": "white"
             }
            },
            "type": "table"
           }
          ]
         },
         "layout": {
          "annotationdefaults": {
           "arrowcolor": "#2a3f5f",
           "arrowhead": 0,
           "arrowwidth": 1
          },
          "autotypenumbers": "strict",
          "coloraxis": {
           "colorbar": {
            "outlinewidth": 0,
            "ticks": ""
           }
          },
          "colorscale": {
           "diverging": [
            [
             0,
             "#8e0152"
            ],
            [
             0.1,
             "#c51b7d"
            ],
            [
             0.2,
             "#de77ae"
            ],
            [
             0.3,
             "#f1b6da"
            ],
            [
             0.4,
             "#fde0ef"
            ],
            [
             0.5,
             "#f7f7f7"
            ],
            [
             0.6,
             "#e6f5d0"
            ],
            [
             0.7,
             "#b8e186"
            ],
            [
             0.8,
             "#7fbc41"
            ],
            [
             0.9,
             "#4d9221"
            ],
            [
             1,
             "#276419"
            ]
           ],
           "sequential": [
            [
             0,
             "#0d0887"
            ],
            [
             0.1111111111111111,
             "#46039f"
            ],
            [
             0.2222222222222222,
             "#7201a8"
            ],
            [
             0.3333333333333333,
             "#9c179e"
            ],
            [
             0.4444444444444444,
             "#bd3786"
            ],
            [
             0.5555555555555556,
             "#d8576b"
            ],
            [
             0.6666666666666666,
             "#ed7953"
            ],
            [
             0.7777777777777778,
             "#fb9f3a"
            ],
            [
             0.8888888888888888,
             "#fdca26"
            ],
            [
             1,
             "#f0f921"
            ]
           ],
           "sequentialminus": [
            [
             0,
             "#0d0887"
            ],
            [
             0.1111111111111111,
             "#46039f"
            ],
            [
             0.2222222222222222,
             "#7201a8"
            ],
            [
             0.3333333333333333,
             "#9c179e"
            ],
            [
             0.4444444444444444,
             "#bd3786"
            ],
            [
             0.5555555555555556,
             "#d8576b"
            ],
            [
             0.6666666666666666,
             "#ed7953"
            ],
            [
             0.7777777777777778,
             "#fb9f3a"
            ],
            [
             0.8888888888888888,
             "#fdca26"
            ],
            [
             1,
             "#f0f921"
            ]
           ]
          },
          "colorway": [
           "#636efa",
           "#EF553B",
           "#00cc96",
           "#ab63fa",
           "#FFA15A",
           "#19d3f3",
           "#FF6692",
           "#B6E880",
           "#FF97FF",
           "#FECB52"
          ],
          "font": {
           "color": "#2a3f5f"
          },
          "geo": {
           "bgcolor": "white",
           "lakecolor": "white",
           "landcolor": "#E5ECF6",
           "showlakes": true,
           "showland": true,
           "subunitcolor": "white"
          },
          "hoverlabel": {
           "align": "left"
          },
          "hovermode": "closest",
          "mapbox": {
           "style": "light"
          },
          "paper_bgcolor": "white",
          "plot_bgcolor": "#E5ECF6",
          "polar": {
           "angularaxis": {
            "gridcolor": "white",
            "linecolor": "white",
            "ticks": ""
           },
           "bgcolor": "#E5ECF6",
           "radialaxis": {
            "gridcolor": "white",
            "linecolor": "white",
            "ticks": ""
           }
          },
          "scene": {
           "xaxis": {
            "backgroundcolor": "#E5ECF6",
            "gridcolor": "white",
            "gridwidth": 2,
            "linecolor": "white",
            "showbackground": true,
            "ticks": "",
            "zerolinecolor": "white"
           },
           "yaxis": {
            "backgroundcolor": "#E5ECF6",
            "gridcolor": "white",
            "gridwidth": 2,
            "linecolor": "white",
            "showbackground": true,
            "ticks": "",
            "zerolinecolor": "white"
           },
           "zaxis": {
            "backgroundcolor": "#E5ECF6",
            "gridcolor": "white",
            "gridwidth": 2,
            "linecolor": "white",
            "showbackground": true,
            "ticks": "",
            "zerolinecolor": "white"
           }
          },
          "shapedefaults": {
           "line": {
            "color": "#2a3f5f"
           }
          },
          "ternary": {
           "aaxis": {
            "gridcolor": "white",
            "linecolor": "white",
            "ticks": ""
           },
           "baxis": {
            "gridcolor": "white",
            "linecolor": "white",
            "ticks": ""
           },
           "bgcolor": "#E5ECF6",
           "caxis": {
            "gridcolor": "white",
            "linecolor": "white",
            "ticks": ""
           }
          },
          "title": {
           "x": 0.05
          },
          "xaxis": {
           "automargin": true,
           "gridcolor": "white",
           "linecolor": "white",
           "ticks": "",
           "title": {
            "standoff": 15
           },
           "zerolinecolor": "white",
           "zerolinewidth": 2
          },
          "yaxis": {
           "automargin": true,
           "gridcolor": "white",
           "linecolor": "white",
           "ticks": "",
           "title": {
            "standoff": 15
           },
           "zerolinecolor": "white",
           "zerolinewidth": 2
          }
         }
        },
        "title": {
         "text": "calibrated  gyro"
        }
       }
      },
      "text/html": [
       "<div>                            <div id=\"70e3ab4d-05d0-4f0c-939c-fdfd010efcbf\" class=\"plotly-graph-div\" style=\"height:525px; width:100%;\"></div>            <script type=\"text/javascript\">                require([\"plotly\"], function(Plotly) {                    window.PLOTLYENV=window.PLOTLYENV || {};                                    if (document.getElementById(\"70e3ab4d-05d0-4f0c-939c-fdfd010efcbf\")) {                    Plotly.newPlot(                        \"70e3ab4d-05d0-4f0c-939c-fdfd010efcbf\",                        [{\"name\":\"lb_gx\",\"x\":[0,1,2,3,4,5,6,7,8,9,10,11,12,13,14,15,16,17,18,19,20,21,22,23,24,25,26,27,28,29,30,31,32,33,34,35,36,37,38,39,40,41,42,43,44,45,46,47,48,49,50,51,52,53,54,55,56,57,58,59,60,61,62,63,64,65,66,67,68,69,70,71,72,73,74,75,76,77,78,79,80,81,82,83,84,85,86,87,88,89,90,91,92,93,94,95,96,97,98,99,100,101,102,103,104,105,106,107,108,109,110,111,112,113,114,115,116,117,118,119,120,121,122,123,124,125,126,127,128,129,130,131,132,133,134,135,136,137,138,139,140,141,142,143,144,145,146,147,148,149,150,151,152,153,154,155,156,157,158,159,160,161,162,163,164,165,166,167,168,169,170,171,172,173,174,175,176,177,178,179,180,181,182],\"y\":[-0.005046041420765021,-0.015704541420765022,0.00014997857923497449,0.00454664857923498,-0.004779581420765025,-0.0003829414207650178,0.0005496685792349826,-0.006778051420765027,-0.004513121420765029,-0.005312511420765026,-0.009176211420765024,0.00014997857923497449,-0.0013155614207650268,-0.009575901420765018,-0.008643291420765017,-0.005578961420765027,-0.0009158814207650273,0.00201520857923497,-0.0015820314207650177,-0.005312511420765026,-0.0038469714207650246,-0.002914331420765026,-0.00238141142076502,-0.00011649142076503027,-0.004113421420765026,-0.0011823314207650287,0.005212748579234983,0.010009048579234972,-0.00011649142076503027,0.0006828985792349807,0.0021484485792349767,-0.00238141142076502,-0.005845431420765018,-0.008376821420765027,-0.008243591420765028,-0.003713721420765023,-0.0006494114207650226,-0.0025146514207650267,0.004146948579234977,0.007211248579234969,0.022932548579234976,0.014938648579234978,0.004013648579234974,0.003214288579234975,-0.002914331420765026,-0.006644821420765029,-0.005046041420765021,0.0056124485792349715,0.009742648579234972,0.00694474857923498,0.007477648579234969,0.00201520857923497,0.002681368579234969,-0.0007826414207650206,-0.0010491014207650307,-0.004513121420765029,-0.010774981420765023,-0.011974071420765023,-0.007044501420765029,-0.002114951420765024,0.008143848579234975,0.00907644857923498,0.00028320857923497256,0.007078048579234969,0.003880448579234974,0.010675248579234978,0.005079548579234983,-0.011041451420765028,-0.005578961420765027,-0.0014488014207650196,0.004413348579234977,-0.005312511420765026,0.0029478385792349737,-0.003713721420765023,-0.007710661420765028,-0.0031808114207650257,-0.00011649142076503027,-0.003447261420765027,0.007211248579234969,0.012806948579234978,0.004280148579234977,-0.0005161814207650245,-0.0005161814207650245,0.0016155285792349705,-0.0030475614207650242,-0.006378351420765024,0.0013490585792349796,-0.0015820314207650177,-0.006111901420765023,0.0005496685792349826,0.004946348579234983,-0.00264787142076503,-0.004113421420765026,0.009875848579234972,0.008143848579234975,0.00454664857923498,0.006411848579234977,-0.005845431420765018,-0.005578961420765027,-0.0033140414207650237,-0.0007826414207650206,0.0004164285792349759,-0.0006494114207650226,0.001881978579234972,0.00028320857923497256,0.00467984857923498,0.001881978579234972,-0.005978671420765025,0.0004164285792349759,0.006278648579234977,-0.0025146514207650267,0.007610948579234972,0.002681368579234969,0.0004164285792349759,0.003613988579234978,0.0014822985792349724,0.00348075857923498,0.0016155285792349705,0.002681368579234969,0.004280148579234977,0.0004164285792349759,-0.003980201420765023,-0.0018485014207650224,0.005878948579234974,0.003880448579234974,0.004946348579234983,0.002681368579234969,0.0028146085792349756,-0.0015820314207650177,0.005079548579234983,-0.003580491420765025,-0.009309441420765022,-0.005179281420765028,0.00028320857923497256,-0.005179281420765028,-0.002781111420765023,-0.006511591420765031,0.0022816785792349747,-0.004912811420765023,-0.008510051420765025,-0.006644821420765029,-0.00024972142076502835,-0.003580491420765025,0.0028146085792349756,0.00014997857923497449,0.005345948579234983,-0.00238141142076502,-0.0007826414207650206,0.007477648579234969,0.0016155285792349705,-0.0022481914207650305,0.014139248579234973,0.014006048579234973,0.00467984857923498,-0.006378351420765024,-0.0018485014207650224,-0.0005161814207650245,0.00201520857923497,0.005212748579234983,0.008543548579234977,-0.002781111420765023,-0.0038469714207650246,-0.009709141420765025,-0.004646361420765022,-0.004246651420765024,0.002681368579234969,0.0057456485792349715,-0.0005161814207650245,0.0021484485792349767,-0.0006494114207650226,-0.0005161814207650245,-0.002914331420765026,0.006411848579234977,0.0010825885792349749,-0.005978671420765025,0.00960934857923497,0.005345948579234983,-0.0025146514207650267,-0.0014488014207650196,-0.008376821420765027,-0.005578961420765027,0.001215818579234973,0.00481304857923498],\"type\":\"scatter\"},{\"name\":\"lb_gy\",\"x\":[0,1,2,3,4,5,6,7,8,9,10,11,12,13,14,15,16,17,18,19,20,21,22,23,24,25,26,27,28,29,30,31,32,33,34,35,36,37,38,39,40,41,42,43,44,45,46,47,48,49,50,51,52,53,54,55,56,57,58,59,60,61,62,63,64,65,66,67,68,69,70,71,72,73,74,75,76,77,78,79,80,81,82,83,84,85,86,87,88,89,90,91,92,93,94,95,96,97,98,99,100,101,102,103,104,105,106,107,108,109,110,111,112,113,114,115,116,117,118,119,120,121,122,123,124,125,126,127,128,129,130,131,132,133,134,135,136,137,138,139,140,141,142,143,144,145,146,147,148,149,150,151,152,153,154,155,156,157,158,159,160,161,162,163,164,165,166,167,168,169,170,171,172,173,174,175,176,177,178,179,180,181,182],\"y\":[-0.016979349890710385,0.001406570109289615,-0.0013912798907103827,0.007002280109289612,0.009267220109289619,0.007135520109289618,0.013397380109289612,0.007668440109289611,0.0036715001092896132,0.02338973010928961,0.005137050109289616,0.009800140109289611,0.015529080109289613,0.0058032001092896204,0.0036715001092896132,0.002339190109289617,0.003804740109289613,-0.0028568298907103856,-0.0023238998907103847,0.006336130109289621,0.007135520109289618,0.011398920109289619,-0.00032542989071038253,-0.006054379890710386,0.007668440109289611,0.004204430109289614,0.002872120109289618,-0.008319309890710384,-0.003922679890710386,-0.00032542989071038253,0.005403510109289612,-0.0011248198907103865,-0.006187609890710384,-0.00045865989071038754,0.002339190109289617,0.0048705801092896114,0.01939279010928962,0.006469360109289619,0.011798610109289613,-0.0005918898907103856,0.027519890109289617,0.003538280109289617,0.03791193010928961,0.009666910109289613,0.019659250109289615,-0.025106449890710383,0.006069670109289611,-0.021908899890710383,-0.0008583598907103834,-0.007519919890710387,-0.002990049890710382,-0.022575049890710387,-0.013515329890710387,-0.0016577398907103857,-0.011117169890710384,-0.01604671989071039,0.006202900109289609,0.011798610109289613,-0.00032542989071038253,0.010599530109289608,0.02152449010928962,-0.006320839890710382,0.0008736501092896157,-0.004322369890710387,0.003804740109289613,-0.0009915898907103884,-0.009784859890710387,0.012065080109289618,-0.0011248198907103865,-0.0008583598907103834,0.0012733501092896116,-0.005921139890710386,0.011798610109289613,0.013130920109289616,0.006869050109289614,-0.014048259890710388,-0.021109509890710386,0.004071200109289616,-0.007519919890710387,-0.012049789890710386,-0.010184549890710388,0.0019395001092896158,-0.0031232998907103834,0.002072730109289614,-0.010717469890710388,0.003538280109289617,-0.0016577398907103857,0.004204430109289614,-0.009918089890710385,0.00034072010928961477,0.005003820109289618,0.010199830109289619,-0.0007251298907103854,0.003937970109289611,-0.014314709890710382,-0.025905839890710387,-0.016979349890710385,-0.005388219890710387,-0.003389749890710385,-0.010184549890710388,-0.0009915898907103884,-0.003522979890710383,0.00047395010928961284,-0.0031232998907103834,0.0026056601092896148,-0.005521449890710385,-0.019111039890710384,0.003138580109289614,0.0015398101092896146,-0.009518389890710383,0.005137050109289616,-0.0028568298907103856,0.003804740109289613,0.0002074901092896167,-0.005521449890710385,-0.007120229890710386,-0.004588829890710383,-0.008186079890710386,-0.0008583598907103834,0.0036715001092896132,-0.008852239890710385,0.001140100109289617,0.001406570109289615,-0.012582709890710385,-0.005521449890710385,0.006469360109289619,-0.005921139890710386,-0.0016577398907103857,0.006336130109289621,-0.008186079890710386,-0.015647029890710387,0.0008736501092896157,-0.009251929890710386,0.00047395010928961284,7.425010928961695e-05,-0.010317769890710385,0.0012733501092896116,0.00047395010928961284,0.0008736501092896157,-0.0009915898907103884,-0.011383629890710387,-0.004722069890710383,0.01046630010928961,0.007135520109289618,0.011665380109289615,-0.0016577398907103857,-0.0007251298907103854,-0.00045865989071038754,-0.006187609890710384,-0.00045865989071038754,-0.013781789890710383,-0.013515329890710387,0.0008736501092896157,-0.012715939890710383,0.005003820109289618,0.008867520109289616,-0.0032565198907103868,0.002205960109289612,-0.009518389890710383,-0.0021906798907103883,-0.007653149890710385,-0.010451009890710385,-0.0016577398907103857,0.0012733501092896116,0.004071200109289616,-0.006054379890710386,-0.005121749890710382,-0.0077863798907103834,-0.013648559890710385,0.0048705801092896114,0.019792480109289613,0.012198310109289616,0.010865990109289618,0.017127850109289612,-5.8969890710386386e-05,0.012731230109289608,-0.011383629890710387,-0.015647029890710387,-0.0024571398907103845,0.013264150109289614,0.023922650109289616,0.010199830109289619,0.018326940109289612],\"type\":\"scatter\"},{\"name\":\"lb_gz\",\"x\":[0,1,2,3,4,5,6,7,8,9,10,11,12,13,14,15,16,17,18,19,20,21,22,23,24,25,26,27,28,29,30,31,32,33,34,35,36,37,38,39,40,41,42,43,44,45,46,47,48,49,50,51,52,53,54,55,56,57,58,59,60,61,62,63,64,65,66,67,68,69,70,71,72,73,74,75,76,77,78,79,80,81,82,83,84,85,86,87,88,89,90,91,92,93,94,95,96,97,98,99,100,101,102,103,104,105,106,107,108,109,110,111,112,113,114,115,116,117,118,119,120,121,122,123,124,125,126,127,128,129,130,131,132,133,134,135,136,137,138,139,140,141,142,143,144,145,146,147,148,149,150,151,152,153,154,155,156,157,158,159,160,161,162,163,164,165,166,167,168,169,170,171,172,173,174,175,176,177,178,179,180,181,182],\"y\":[0.00039241280765027475,0.007053972807650275,0.0002591828076502767,-0.007334999192349723,0.0037231928076502767,0.004655812807650275,-0.001073127192349723,0.005188732807650278,0.001724722807650278,0.009318902807650277,0.004122892807650276,0.0009253428076502757,0.0061213528076502766,0.013182612807650276,0.007586902807650276,0.003057042807650276,-0.006402380192349724,-0.007734693192349724,-0.0029383671923497237,0.004522582807650277,0.0013250328076502768,0.007720132807650278,0.005055502807650276,-0.0025386771923497243,0.0005256428076502763,0.002923802807650276,0.00039241280765027475,-0.006135918192349724,0.0015914928076502764,0.00039241280765027475,0.0006588728076502778,0.005188732807650278,0.011450602807650277,0.018778322807650277,0.007586902807650276,0.005588432807650277,0.010517982807650275,0.007053972807650275,0.0005256428076502763,-0.016394724792349723,-0.018126731192349723,-0.019459044192349725,-0.0020057471923497234,-0.010665781192349724,0.0022576528076502754,-0.011065474192349723,-0.005869455192349724,-0.023056287192349725,-0.022256900192349723,-0.03424771719234972,-0.008001156192349724,-0.0042706771923497235,-0.002671907192349724,0.006254592807650276,0.007453672807650278,0.011983532807650275,0.020377102807650278,0.02890390280765028,0.027438362807650277,0.013449072807650276,0.009985062807650276,0.0027905728076502746,0.0021244228076502773,-0.004137447192349724,-0.004004217192349724,-0.013063943192349724,-0.014929180892349724,0.011983532807650275,0.005854892807650277,-0.003338057192349723,-0.008134387192349723,-0.0006734371923497236,0.0021244228076502773,-0.0025386771923497243,0.007586902807650276,-0.008667312192349723,-0.015328874692349724,-0.006802075192349724,-0.019192581192349723,-0.009200236192349723,-0.012397787192349723,-0.0057362241923497245,-0.0018725171923497236,-0.007734693192349724,-0.002138977192349723,0.0026573428076502766,-0.005869455192349724,0.0006588728076502778,-0.006269149192349725,-0.011331937192349723,-0.011598399192349724,0.003057042807650276,0.0022576528076502754,-0.005869455192349724,-0.014129793192349725,-0.008667312192349723,-0.0046703771923497246,-0.002671907192349724,0.004256122807650278,0.008919212807650276,0.008386292807650277,0.005588432807650277,0.0031902728076502775,0.006254592807650276,0.004789042807650277,0.0037231928076502767,0.004122892807650276,0.0002591828076502767,0.004922272807650275,-0.013063943192349724,-0.005469757192349723,-0.004403907192349723,-0.002138977192349723,0.0006588728076502778,0.002390882807650277,0.002524112807650275,0.003057042807650276,0.005455202807650276,0.0009253428076502757,-0.005336527192349724,0.0061213528076502766,0.005854892807650277,0.0037231928076502767,-0.0014728271923497242,0.004655812807650275,-0.001073127192349723,-0.003870987192349724,0.0007921028076502759,-0.001073127192349723,-0.002272207192349723,0.006387822807650278,0.002524112807650275,-0.0025386771923497243,0.00039241280765027475,0.006387822807650278,0.0014582628076502749,0.0009253428076502757,0.004389352807650276,0.004922272807650275,0.005055502807650276,-0.0046703771923497246,-0.006135918192349724,-0.005070067192349724,-0.002805137192349724,0.001991192807650276,0.002390882807650277,0.007720132807650278,0.004389352807650276,-0.0046703771923497246,0.007453672807650278,0.0015914928076502764,-0.017593806192349723,-0.022390131192349724,-0.012797481192349724,0.008785982807650278,0.00039241280765027475,-0.0009398971923497233,0.004522582807650277,-0.002138977192349723,-0.0025386771923497243,0.010517982807650275,0.002390882807650277,0.007853362807650276,0.007586902807650276,0.010651222807650275,-0.0057362241923497245,-0.009866393192349724,-0.010132856192349724,-0.006402380192349724,0.0021244228076502773,0.0027905728076502746,0.0066542828076502775,-0.0032048271923497233,-0.006668842192349724,-0.0037377571923497242,-0.013596868192349724,-0.019459044192349725,-0.006402380192349724,0.002390882807650277,0.017712472807650276,0.03156852280765028,0.02610604280765028,0.013982002807650277],\"type\":\"scatter\"}],                        {\"template\":{\"data\":{\"bar\":[{\"error_x\":{\"color\":\"#2a3f5f\"},\"error_y\":{\"color\":\"#2a3f5f\"},\"marker\":{\"line\":{\"color\":\"#E5ECF6\",\"width\":0.5},\"pattern\":{\"fillmode\":\"overlay\",\"size\":10,\"solidity\":0.2}},\"type\":\"bar\"}],\"barpolar\":[{\"marker\":{\"line\":{\"color\":\"#E5ECF6\",\"width\":0.5},\"pattern\":{\"fillmode\":\"overlay\",\"size\":10,\"solidity\":0.2}},\"type\":\"barpolar\"}],\"carpet\":[{\"aaxis\":{\"endlinecolor\":\"#2a3f5f\",\"gridcolor\":\"white\",\"linecolor\":\"white\",\"minorgridcolor\":\"white\",\"startlinecolor\":\"#2a3f5f\"},\"baxis\":{\"endlinecolor\":\"#2a3f5f\",\"gridcolor\":\"white\",\"linecolor\":\"white\",\"minorgridcolor\":\"white\",\"startlinecolor\":\"#2a3f5f\"},\"type\":\"carpet\"}],\"choropleth\":[{\"colorbar\":{\"outlinewidth\":0,\"ticks\":\"\"},\"type\":\"choropleth\"}],\"contour\":[{\"colorbar\":{\"outlinewidth\":0,\"ticks\":\"\"},\"colorscale\":[[0.0,\"#0d0887\"],[0.1111111111111111,\"#46039f\"],[0.2222222222222222,\"#7201a8\"],[0.3333333333333333,\"#9c179e\"],[0.4444444444444444,\"#bd3786\"],[0.5555555555555556,\"#d8576b\"],[0.6666666666666666,\"#ed7953\"],[0.7777777777777778,\"#fb9f3a\"],[0.8888888888888888,\"#fdca26\"],[1.0,\"#f0f921\"]],\"type\":\"contour\"}],\"contourcarpet\":[{\"colorbar\":{\"outlinewidth\":0,\"ticks\":\"\"},\"type\":\"contourcarpet\"}],\"heatmap\":[{\"colorbar\":{\"outlinewidth\":0,\"ticks\":\"\"},\"colorscale\":[[0.0,\"#0d0887\"],[0.1111111111111111,\"#46039f\"],[0.2222222222222222,\"#7201a8\"],[0.3333333333333333,\"#9c179e\"],[0.4444444444444444,\"#bd3786\"],[0.5555555555555556,\"#d8576b\"],[0.6666666666666666,\"#ed7953\"],[0.7777777777777778,\"#fb9f3a\"],[0.8888888888888888,\"#fdca26\"],[1.0,\"#f0f921\"]],\"type\":\"heatmap\"}],\"heatmapgl\":[{\"colorbar\":{\"outlinewidth\":0,\"ticks\":\"\"},\"colorscale\":[[0.0,\"#0d0887\"],[0.1111111111111111,\"#46039f\"],[0.2222222222222222,\"#7201a8\"],[0.3333333333333333,\"#9c179e\"],[0.4444444444444444,\"#bd3786\"],[0.5555555555555556,\"#d8576b\"],[0.6666666666666666,\"#ed7953\"],[0.7777777777777778,\"#fb9f3a\"],[0.8888888888888888,\"#fdca26\"],[1.0,\"#f0f921\"]],\"type\":\"heatmapgl\"}],\"histogram\":[{\"marker\":{\"pattern\":{\"fillmode\":\"overlay\",\"size\":10,\"solidity\":0.2}},\"type\":\"histogram\"}],\"histogram2d\":[{\"colorbar\":{\"outlinewidth\":0,\"ticks\":\"\"},\"colorscale\":[[0.0,\"#0d0887\"],[0.1111111111111111,\"#46039f\"],[0.2222222222222222,\"#7201a8\"],[0.3333333333333333,\"#9c179e\"],[0.4444444444444444,\"#bd3786\"],[0.5555555555555556,\"#d8576b\"],[0.6666666666666666,\"#ed7953\"],[0.7777777777777778,\"#fb9f3a\"],[0.8888888888888888,\"#fdca26\"],[1.0,\"#f0f921\"]],\"type\":\"histogram2d\"}],\"histogram2dcontour\":[{\"colorbar\":{\"outlinewidth\":0,\"ticks\":\"\"},\"colorscale\":[[0.0,\"#0d0887\"],[0.1111111111111111,\"#46039f\"],[0.2222222222222222,\"#7201a8\"],[0.3333333333333333,\"#9c179e\"],[0.4444444444444444,\"#bd3786\"],[0.5555555555555556,\"#d8576b\"],[0.6666666666666666,\"#ed7953\"],[0.7777777777777778,\"#fb9f3a\"],[0.8888888888888888,\"#fdca26\"],[1.0,\"#f0f921\"]],\"type\":\"histogram2dcontour\"}],\"mesh3d\":[{\"colorbar\":{\"outlinewidth\":0,\"ticks\":\"\"},\"type\":\"mesh3d\"}],\"parcoords\":[{\"line\":{\"colorbar\":{\"outlinewidth\":0,\"ticks\":\"\"}},\"type\":\"parcoords\"}],\"pie\":[{\"automargin\":true,\"type\":\"pie\"}],\"scatter\":[{\"marker\":{\"colorbar\":{\"outlinewidth\":0,\"ticks\":\"\"}},\"type\":\"scatter\"}],\"scatter3d\":[{\"line\":{\"colorbar\":{\"outlinewidth\":0,\"ticks\":\"\"}},\"marker\":{\"colorbar\":{\"outlinewidth\":0,\"ticks\":\"\"}},\"type\":\"scatter3d\"}],\"scattercarpet\":[{\"marker\":{\"colorbar\":{\"outlinewidth\":0,\"ticks\":\"\"}},\"type\":\"scattercarpet\"}],\"scattergeo\":[{\"marker\":{\"colorbar\":{\"outlinewidth\":0,\"ticks\":\"\"}},\"type\":\"scattergeo\"}],\"scattergl\":[{\"marker\":{\"colorbar\":{\"outlinewidth\":0,\"ticks\":\"\"}},\"type\":\"scattergl\"}],\"scattermapbox\":[{\"marker\":{\"colorbar\":{\"outlinewidth\":0,\"ticks\":\"\"}},\"type\":\"scattermapbox\"}],\"scatterpolar\":[{\"marker\":{\"colorbar\":{\"outlinewidth\":0,\"ticks\":\"\"}},\"type\":\"scatterpolar\"}],\"scatterpolargl\":[{\"marker\":{\"colorbar\":{\"outlinewidth\":0,\"ticks\":\"\"}},\"type\":\"scatterpolargl\"}],\"scatterternary\":[{\"marker\":{\"colorbar\":{\"outlinewidth\":0,\"ticks\":\"\"}},\"type\":\"scatterternary\"}],\"surface\":[{\"colorbar\":{\"outlinewidth\":0,\"ticks\":\"\"},\"colorscale\":[[0.0,\"#0d0887\"],[0.1111111111111111,\"#46039f\"],[0.2222222222222222,\"#7201a8\"],[0.3333333333333333,\"#9c179e\"],[0.4444444444444444,\"#bd3786\"],[0.5555555555555556,\"#d8576b\"],[0.6666666666666666,\"#ed7953\"],[0.7777777777777778,\"#fb9f3a\"],[0.8888888888888888,\"#fdca26\"],[1.0,\"#f0f921\"]],\"type\":\"surface\"}],\"table\":[{\"cells\":{\"fill\":{\"color\":\"#EBF0F8\"},\"line\":{\"color\":\"white\"}},\"header\":{\"fill\":{\"color\":\"#C8D4E3\"},\"line\":{\"color\":\"white\"}},\"type\":\"table\"}]},\"layout\":{\"annotationdefaults\":{\"arrowcolor\":\"#2a3f5f\",\"arrowhead\":0,\"arrowwidth\":1},\"autotypenumbers\":\"strict\",\"coloraxis\":{\"colorbar\":{\"outlinewidth\":0,\"ticks\":\"\"}},\"colorscale\":{\"diverging\":[[0,\"#8e0152\"],[0.1,\"#c51b7d\"],[0.2,\"#de77ae\"],[0.3,\"#f1b6da\"],[0.4,\"#fde0ef\"],[0.5,\"#f7f7f7\"],[0.6,\"#e6f5d0\"],[0.7,\"#b8e186\"],[0.8,\"#7fbc41\"],[0.9,\"#4d9221\"],[1,\"#276419\"]],\"sequential\":[[0.0,\"#0d0887\"],[0.1111111111111111,\"#46039f\"],[0.2222222222222222,\"#7201a8\"],[0.3333333333333333,\"#9c179e\"],[0.4444444444444444,\"#bd3786\"],[0.5555555555555556,\"#d8576b\"],[0.6666666666666666,\"#ed7953\"],[0.7777777777777778,\"#fb9f3a\"],[0.8888888888888888,\"#fdca26\"],[1.0,\"#f0f921\"]],\"sequentialminus\":[[0.0,\"#0d0887\"],[0.1111111111111111,\"#46039f\"],[0.2222222222222222,\"#7201a8\"],[0.3333333333333333,\"#9c179e\"],[0.4444444444444444,\"#bd3786\"],[0.5555555555555556,\"#d8576b\"],[0.6666666666666666,\"#ed7953\"],[0.7777777777777778,\"#fb9f3a\"],[0.8888888888888888,\"#fdca26\"],[1.0,\"#f0f921\"]]},\"colorway\":[\"#636efa\",\"#EF553B\",\"#00cc96\",\"#ab63fa\",\"#FFA15A\",\"#19d3f3\",\"#FF6692\",\"#B6E880\",\"#FF97FF\",\"#FECB52\"],\"font\":{\"color\":\"#2a3f5f\"},\"geo\":{\"bgcolor\":\"white\",\"lakecolor\":\"white\",\"landcolor\":\"#E5ECF6\",\"showlakes\":true,\"showland\":true,\"subunitcolor\":\"white\"},\"hoverlabel\":{\"align\":\"left\"},\"hovermode\":\"closest\",\"mapbox\":{\"style\":\"light\"},\"paper_bgcolor\":\"white\",\"plot_bgcolor\":\"#E5ECF6\",\"polar\":{\"angularaxis\":{\"gridcolor\":\"white\",\"linecolor\":\"white\",\"ticks\":\"\"},\"bgcolor\":\"#E5ECF6\",\"radialaxis\":{\"gridcolor\":\"white\",\"linecolor\":\"white\",\"ticks\":\"\"}},\"scene\":{\"xaxis\":{\"backgroundcolor\":\"#E5ECF6\",\"gridcolor\":\"white\",\"gridwidth\":2,\"linecolor\":\"white\",\"showbackground\":true,\"ticks\":\"\",\"zerolinecolor\":\"white\"},\"yaxis\":{\"backgroundcolor\":\"#E5ECF6\",\"gridcolor\":\"white\",\"gridwidth\":2,\"linecolor\":\"white\",\"showbackground\":true,\"ticks\":\"\",\"zerolinecolor\":\"white\"},\"zaxis\":{\"backgroundcolor\":\"#E5ECF6\",\"gridcolor\":\"white\",\"gridwidth\":2,\"linecolor\":\"white\",\"showbackground\":true,\"ticks\":\"\",\"zerolinecolor\":\"white\"}},\"shapedefaults\":{\"line\":{\"color\":\"#2a3f5f\"}},\"ternary\":{\"aaxis\":{\"gridcolor\":\"white\",\"linecolor\":\"white\",\"ticks\":\"\"},\"baxis\":{\"gridcolor\":\"white\",\"linecolor\":\"white\",\"ticks\":\"\"},\"bgcolor\":\"#E5ECF6\",\"caxis\":{\"gridcolor\":\"white\",\"linecolor\":\"white\",\"ticks\":\"\"}},\"title\":{\"x\":0.05},\"xaxis\":{\"automargin\":true,\"gridcolor\":\"white\",\"linecolor\":\"white\",\"ticks\":\"\",\"title\":{\"standoff\":15},\"zerolinecolor\":\"white\",\"zerolinewidth\":2},\"yaxis\":{\"automargin\":true,\"gridcolor\":\"white\",\"linecolor\":\"white\",\"ticks\":\"\",\"title\":{\"standoff\":15},\"zerolinecolor\":\"white\",\"zerolinewidth\":2}}},\"title\":{\"text\":\"calibrated  gyro\"}},                        {\"responsive\": true}                    ).then(function(){\n",
       "                            \n",
       "var gd = document.getElementById('70e3ab4d-05d0-4f0c-939c-fdfd010efcbf');\n",
       "var x = new MutationObserver(function (mutations, observer) {{\n",
       "        var display = window.getComputedStyle(gd).display;\n",
       "        if (!display || display === 'none') {{\n",
       "            console.log([gd, 'removed!']);\n",
       "            Plotly.purge(gd);\n",
       "            observer.disconnect();\n",
       "        }}\n",
       "}});\n",
       "\n",
       "// Listen for the removal of the full notebook cells\n",
       "var notebookContainer = gd.closest('#notebook-container');\n",
       "if (notebookContainer) {{\n",
       "    x.observe(notebookContainer, {childList: true});\n",
       "}}\n",
       "\n",
       "// Listen for the clearing of the current output cell\n",
       "var outputEl = gd.closest('.output');\n",
       "if (outputEl) {{\n",
       "    x.observe(outputEl, {childList: true});\n",
       "}}\n",
       "\n",
       "                        })                };                });            </script>        </div>"
      ]
     },
     "metadata": {},
     "output_type": "display_data"
    },
    {
     "name": "stdout",
     "output_type": "stream",
     "text": [
      "D:/Thesis/Vadim/__Vadim1.csv\n"
     ]
    },
    {
     "data": {
      "application/vnd.plotly.v1+json": {
       "config": {
        "plotlyServerURL": "https://plot.ly"
       },
       "data": [
        {
         "name": "lb_gx",
         "type": "scatter",
         "x": [
          0,
          1,
          2,
          3,
          4,
          5,
          6,
          7,
          8,
          9,
          10,
          11,
          12,
          13,
          14,
          15,
          16,
          17,
          18,
          19,
          20,
          21,
          22,
          23,
          24,
          25,
          26,
          27,
          28,
          29,
          30,
          31,
          32,
          33,
          34,
          35,
          36,
          37,
          38,
          39,
          40,
          41,
          42,
          43,
          44,
          45,
          46,
          47,
          48,
          49,
          50,
          51,
          52,
          53,
          54,
          55,
          56,
          57,
          58,
          59,
          60,
          61,
          62,
          63,
          64,
          65,
          66,
          67,
          68,
          69,
          70,
          71,
          72,
          73,
          74,
          75,
          76,
          77,
          78,
          79,
          80,
          81,
          82,
          83,
          84,
          85,
          86,
          87,
          88,
          89,
          90,
          91,
          92,
          93,
          94,
          95,
          96,
          97,
          98,
          99,
          100,
          101,
          102,
          103,
          104,
          105,
          106,
          107,
          108,
          109,
          110,
          111,
          112,
          113,
          114,
          115,
          116,
          117,
          118,
          119,
          120,
          121,
          122,
          123,
          124,
          125,
          126,
          127,
          128,
          129
         ],
         "y": [
          0.09619296,
          0.09499389,
          0.09792498,
          0.09432773,
          0.0856677,
          0.09512712,
          0.1029878,
          0.09912406,
          0.09872436,
          0.1000567,
          0.09885758,
          0.103121,
          0.08793263,
          0.09312864,
          0.08513477,
          0.08446861,
          0.08113783,
          0.08127106,
          0.09339512,
          0.09286219,
          0.09699235,
          0.1036539,
          0.09979021,
          0.1005896,
          0.1028545,
          0.1029878,
          0.1103155,
          0.110049,
          0.1004564,
          0.09312864,
          0.08713324,
          0.09619296,
          0.0963262,
          0.09219603,
          0.09446095,
          0.09752527,
          0.02837825,
          -0.02438132,
          -0.1293675,
          -0.140026,
          -0.1903875,
          -0.3978286,
          -0.4712389,
          -0.559971,
          -0.4950873,
          -0.4679082,
          -0.4681746,
          -0.4617795,
          -0.2865804,
          -0.4071548,
          -0.3011026,
          -0.2571363,
          -0.2250276,
          -0.2013124,
          -0.1201746,
          -0.2034441,
          -0.1823936,
          -0.1931853,
          -0.1585452,
          -0.1418913,
          -0.1216401,
          -0.1087167,
          -0.1586784,
          -0.1137795,
          0.002931087,
          0.1378943,
          0.2723247,
          0.2368852,
          0.2688607,
          0.3250842,
          0.3453354,
          0.3378744,
          0.3390735,
          0.3422711,
          0.3681179,
          0.389435,
          0.4236754,
          0.4556509,
          0.5097427,
          0.5140062,
          0.529461,
          0.4912236,
          0.5410521,
          0.5954104,
          0.6517673,
          0.7015958,
          0.6582956,
          0.6196586,
          0.580755,
          0.5385207,
          0.4824304,
          0.4613798,
          0.3285482,
          0.04822971,
          0.01052527,
          0.01252374,
          0.1432236,
          0.07554212,
          0.0963262,
          0.1127136,
          0.1312328,
          0.1027213,
          0.1025881,
          0.09139664,
          0.09019755,
          0.09779175,
          0.08473509,
          0.1099158,
          0.1241715,
          0.1017887,
          0.103121,
          0.114046,
          0.1057856,
          0.1167106,
          0.113513,
          0.1099158,
          0.1137795,
          0.09859113,
          0.1009893,
          0.1001899,
          0.09579327,
          0.09432773,
          0.08833232,
          0.0877994,
          0.1004564,
          0.1005896,
          0.0984579,
          0.09832466,
          0.1067182,
          0.1020551
         ]
        },
        {
         "name": "lb_gy",
         "type": "scatter",
         "x": [
          0,
          1,
          2,
          3,
          4,
          5,
          6,
          7,
          8,
          9,
          10,
          11,
          12,
          13,
          14,
          15,
          16,
          17,
          18,
          19,
          20,
          21,
          22,
          23,
          24,
          25,
          26,
          27,
          28,
          29,
          30,
          31,
          32,
          33,
          34,
          35,
          36,
          37,
          38,
          39,
          40,
          41,
          42,
          43,
          44,
          45,
          46,
          47,
          48,
          49,
          50,
          51,
          52,
          53,
          54,
          55,
          56,
          57,
          58,
          59,
          60,
          61,
          62,
          63,
          64,
          65,
          66,
          67,
          68,
          69,
          70,
          71,
          72,
          73,
          74,
          75,
          76,
          77,
          78,
          79,
          80,
          81,
          82,
          83,
          84,
          85,
          86,
          87,
          88,
          89,
          90,
          91,
          92,
          93,
          94,
          95,
          96,
          97,
          98,
          99,
          100,
          101,
          102,
          103,
          104,
          105,
          106,
          107,
          108,
          109,
          110,
          111,
          112,
          113,
          114,
          115,
          116,
          117,
          118,
          119,
          120,
          121,
          122,
          123,
          124,
          125,
          126,
          127,
          128,
          129
         ],
         "y": [
          0.05808883,
          0.06155284,
          0.06208577,
          0.05435835,
          0.06408423,
          0.05835528,
          0.07367688,
          0.05848852,
          0.04436601,
          0.05982084,
          0.04942879,
          0.0315758,
          0.01718683,
          0.02078407,
          0.04769679,
          0.07221134,
          0.09392804,
          0.08300307,
          0.07194488,
          0.06155284,
          0.05888822,
          0.06301838,
          0.07740736,
          0.07700767,
          0.07740736,
          0.05142726,
          0.03557274,
          0.03184227,
          0.04809648,
          0.06315161,
          0.0720781,
          0.0575559,
          0.03983614,
          0.03543952,
          0.01105819,
          0.001332313,
          -0.01438898,
          -0.0596876,
          -0.06168607,
          -0.07780705,
          -0.07247781,
          -0.261533,
          -0.3400062,
          -0.01745329,
          -0.3810414,
          0.4082206,
          -0.1863905,
          0.02171669,
          0.1184426,
          -0.07700767,
          0.07687444,
          0.04023584,
          0.1801287,
          0.2180996,
          0.01145789,
          0.08899847,
          0.01252374,
          0.03464013,
          0.03384074,
          -0.03530628,
          0.01572129,
          0.0006661563,
          -0.08033845,
          0.005862175,
          0.02464778,
          -0.05102757,
          -0.0575559,
          0.04063553,
          0.03597244,
          0.01358959,
          0.06794794,
          0.05715621,
          0.103121,
          0.06967995,
          0.1220398,
          0.180928,
          0.0720781,
          0.09073049,
          -0.002398162,
          0.0575559,
          0.02358193,
          -0.0750092,
          -0.08913171,
          -0.07940583,
          0.02438132,
          0.07327719,
          0.2691271,
          0.2904441,
          0.08193722,
          0.06608271,
          0.1998469,
          0.08966463,
          0.1589449,
          0.3326785,
          0.2735238,
          0.05768914,
          0.01678714,
          0.2320888,
          0.07687444,
          0.02184993,
          0.03783768,
          0.08833232,
          0.03304135,
          0.08886525,
          0.09792498,
          0.1057856,
          0.09179633,
          0.09912406,
          0.06914702,
          0.06461716,
          0.06248546,
          0.05955438,
          0.01998469,
          0.04596478,
          0.01771976,
          0.06328485,
          0.03397397,
          0.04583155,
          0.02158346,
          0.03890353,
          0.0319755,
          0.04196784,
          0.03330781,
          0.06235223,
          0.0536922,
          0.06941348,
          0.07034611,
          0.07434304,
          0.07767382,
          0.07221134
         ]
        },
        {
         "name": "lb_gz",
         "type": "scatter",
         "x": [
          0,
          1,
          2,
          3,
          4,
          5,
          6,
          7,
          8,
          9,
          10,
          11,
          12,
          13,
          14,
          15,
          16,
          17,
          18,
          19,
          20,
          21,
          22,
          23,
          24,
          25,
          26,
          27,
          28,
          29,
          30,
          31,
          32,
          33,
          34,
          35,
          36,
          37,
          38,
          39,
          40,
          41,
          42,
          43,
          44,
          45,
          46,
          47,
          48,
          49,
          50,
          51,
          52,
          53,
          54,
          55,
          56,
          57,
          58,
          59,
          60,
          61,
          62,
          63,
          64,
          65,
          66,
          67,
          68,
          69,
          70,
          71,
          72,
          73,
          74,
          75,
          76,
          77,
          78,
          79,
          80,
          81,
          82,
          83,
          84,
          85,
          86,
          87,
          88,
          89,
          90,
          91,
          92,
          93,
          94,
          95,
          96,
          97,
          98,
          99,
          100,
          101,
          102,
          103,
          104,
          105,
          106,
          107,
          108,
          109,
          110,
          111,
          112,
          113,
          114,
          115,
          116,
          117,
          118,
          119,
          120,
          121,
          122,
          123,
          124,
          125,
          126,
          127,
          128,
          129
         ],
         "y": [
          0.01398928,
          0.01572129,
          0.01265697,
          0.02065084,
          0.02118377,
          0.01305666,
          0.01865238,
          0.02171669,
          0.02145023,
          0.01465544,
          0.007860644,
          0.002797856,
          0.004663094,
          -0.0009326187,
          0.006261869,
          0.0255804,
          0.03304135,
          0.03130934,
          0.02584686,
          0.01985146,
          0.009992343,
          0.01225728,
          0.01758653,
          0.02145023,
          0.019585,
          0.0149219,
          0.005462481,
          -0.001199081,
          0.02145023,
          0.02598009,
          0.03490659,
          0.03317458,
          0.02518071,
          0.02971057,
          0.0298438,
          0.02957734,
          0.06554978,
          0.1032542,
          0.1907871,
          0.2562037,
          0.2283584,
          0.3160245,
          0.3478668,
          0.3645207,
          0.2284916,
          0.4336677,
          0.3510643,
          0.4336677,
          0.5238653,
          0.4038239,
          0.335876,
          0.2695268,
          0.2827167,
          0.2977719,
          0.3541287,
          0.3737137,
          0.3960965,
          0.3638546,
          0.2941746,
          0.2279587,
          0.2347535,
          0.2512741,
          0.2006463,
          0.170536,
          0.1476202,
          0.1184426,
          0.09219603,
          0.02224962,
          -0.01838591,
          -0.09725882,
          -0.1441562,
          -0.2095728,
          -0.2669954,
          -0.3269495,
          -0.3337443,
          -0.3081639,
          -0.2992374,
          -0.2791195,
          -0.2979051,
          -0.3789097,
          -0.4292711,
          -0.5836861,
          -0.5928791,
          -0.6159281,
          -0.5217336,
          -0.4432604,
          -0.3928989,
          -0.4047565,
          -0.4158147,
          -0.394631,
          -0.3325452,
          -0.3037673,
          -0.2276922,
          0.05649005,
          0.1063185,
          0.06128638,
          -0.02398163,
          0.03956968,
          0.02411486,
          0.01692037,
          -0.006794794,
          0.01465544,
          0.008793262,
          0.01159112,
          0.01612098,
          0.00746095,
          0.02598009,
          0.01891884,
          0.01585452,
          0.03277489,
          0.02744564,
          0.02264931,
          0.02051761,
          0.01838591,
          0.01052527,
          0.0191853,
          0.01025881,
          0.01732006,
          0.008393569,
          0.004529863,
          0.005196019,
          0.009859113,
          0.009326188,
          0.01225728,
          0.01545483,
          0.01345636,
          0.01678714,
          0.01545483,
          0.01159112,
          0.009059726
         ]
        }
       ],
       "layout": {
        "template": {
         "data": {
          "bar": [
           {
            "error_x": {
             "color": "#2a3f5f"
            },
            "error_y": {
             "color": "#2a3f5f"
            },
            "marker": {
             "line": {
              "color": "#E5ECF6",
              "width": 0.5
             },
             "pattern": {
              "fillmode": "overlay",
              "size": 10,
              "solidity": 0.2
             }
            },
            "type": "bar"
           }
          ],
          "barpolar": [
           {
            "marker": {
             "line": {
              "color": "#E5ECF6",
              "width": 0.5
             },
             "pattern": {
              "fillmode": "overlay",
              "size": 10,
              "solidity": 0.2
             }
            },
            "type": "barpolar"
           }
          ],
          "carpet": [
           {
            "aaxis": {
             "endlinecolor": "#2a3f5f",
             "gridcolor": "white",
             "linecolor": "white",
             "minorgridcolor": "white",
             "startlinecolor": "#2a3f5f"
            },
            "baxis": {
             "endlinecolor": "#2a3f5f",
             "gridcolor": "white",
             "linecolor": "white",
             "minorgridcolor": "white",
             "startlinecolor": "#2a3f5f"
            },
            "type": "carpet"
           }
          ],
          "choropleth": [
           {
            "colorbar": {
             "outlinewidth": 0,
             "ticks": ""
            },
            "type": "choropleth"
           }
          ],
          "contour": [
           {
            "colorbar": {
             "outlinewidth": 0,
             "ticks": ""
            },
            "colorscale": [
             [
              0,
              "#0d0887"
             ],
             [
              0.1111111111111111,
              "#46039f"
             ],
             [
              0.2222222222222222,
              "#7201a8"
             ],
             [
              0.3333333333333333,
              "#9c179e"
             ],
             [
              0.4444444444444444,
              "#bd3786"
             ],
             [
              0.5555555555555556,
              "#d8576b"
             ],
             [
              0.6666666666666666,
              "#ed7953"
             ],
             [
              0.7777777777777778,
              "#fb9f3a"
             ],
             [
              0.8888888888888888,
              "#fdca26"
             ],
             [
              1,
              "#f0f921"
             ]
            ],
            "type": "contour"
           }
          ],
          "contourcarpet": [
           {
            "colorbar": {
             "outlinewidth": 0,
             "ticks": ""
            },
            "type": "contourcarpet"
           }
          ],
          "heatmap": [
           {
            "colorbar": {
             "outlinewidth": 0,
             "ticks": ""
            },
            "colorscale": [
             [
              0,
              "#0d0887"
             ],
             [
              0.1111111111111111,
              "#46039f"
             ],
             [
              0.2222222222222222,
              "#7201a8"
             ],
             [
              0.3333333333333333,
              "#9c179e"
             ],
             [
              0.4444444444444444,
              "#bd3786"
             ],
             [
              0.5555555555555556,
              "#d8576b"
             ],
             [
              0.6666666666666666,
              "#ed7953"
             ],
             [
              0.7777777777777778,
              "#fb9f3a"
             ],
             [
              0.8888888888888888,
              "#fdca26"
             ],
             [
              1,
              "#f0f921"
             ]
            ],
            "type": "heatmap"
           }
          ],
          "heatmapgl": [
           {
            "colorbar": {
             "outlinewidth": 0,
             "ticks": ""
            },
            "colorscale": [
             [
              0,
              "#0d0887"
             ],
             [
              0.1111111111111111,
              "#46039f"
             ],
             [
              0.2222222222222222,
              "#7201a8"
             ],
             [
              0.3333333333333333,
              "#9c179e"
             ],
             [
              0.4444444444444444,
              "#bd3786"
             ],
             [
              0.5555555555555556,
              "#d8576b"
             ],
             [
              0.6666666666666666,
              "#ed7953"
             ],
             [
              0.7777777777777778,
              "#fb9f3a"
             ],
             [
              0.8888888888888888,
              "#fdca26"
             ],
             [
              1,
              "#f0f921"
             ]
            ],
            "type": "heatmapgl"
           }
          ],
          "histogram": [
           {
            "marker": {
             "pattern": {
              "fillmode": "overlay",
              "size": 10,
              "solidity": 0.2
             }
            },
            "type": "histogram"
           }
          ],
          "histogram2d": [
           {
            "colorbar": {
             "outlinewidth": 0,
             "ticks": ""
            },
            "colorscale": [
             [
              0,
              "#0d0887"
             ],
             [
              0.1111111111111111,
              "#46039f"
             ],
             [
              0.2222222222222222,
              "#7201a8"
             ],
             [
              0.3333333333333333,
              "#9c179e"
             ],
             [
              0.4444444444444444,
              "#bd3786"
             ],
             [
              0.5555555555555556,
              "#d8576b"
             ],
             [
              0.6666666666666666,
              "#ed7953"
             ],
             [
              0.7777777777777778,
              "#fb9f3a"
             ],
             [
              0.8888888888888888,
              "#fdca26"
             ],
             [
              1,
              "#f0f921"
             ]
            ],
            "type": "histogram2d"
           }
          ],
          "histogram2dcontour": [
           {
            "colorbar": {
             "outlinewidth": 0,
             "ticks": ""
            },
            "colorscale": [
             [
              0,
              "#0d0887"
             ],
             [
              0.1111111111111111,
              "#46039f"
             ],
             [
              0.2222222222222222,
              "#7201a8"
             ],
             [
              0.3333333333333333,
              "#9c179e"
             ],
             [
              0.4444444444444444,
              "#bd3786"
             ],
             [
              0.5555555555555556,
              "#d8576b"
             ],
             [
              0.6666666666666666,
              "#ed7953"
             ],
             [
              0.7777777777777778,
              "#fb9f3a"
             ],
             [
              0.8888888888888888,
              "#fdca26"
             ],
             [
              1,
              "#f0f921"
             ]
            ],
            "type": "histogram2dcontour"
           }
          ],
          "mesh3d": [
           {
            "colorbar": {
             "outlinewidth": 0,
             "ticks": ""
            },
            "type": "mesh3d"
           }
          ],
          "parcoords": [
           {
            "line": {
             "colorbar": {
              "outlinewidth": 0,
              "ticks": ""
             }
            },
            "type": "parcoords"
           }
          ],
          "pie": [
           {
            "automargin": true,
            "type": "pie"
           }
          ],
          "scatter": [
           {
            "marker": {
             "colorbar": {
              "outlinewidth": 0,
              "ticks": ""
             }
            },
            "type": "scatter"
           }
          ],
          "scatter3d": [
           {
            "line": {
             "colorbar": {
              "outlinewidth": 0,
              "ticks": ""
             }
            },
            "marker": {
             "colorbar": {
              "outlinewidth": 0,
              "ticks": ""
             }
            },
            "type": "scatter3d"
           }
          ],
          "scattercarpet": [
           {
            "marker": {
             "colorbar": {
              "outlinewidth": 0,
              "ticks": ""
             }
            },
            "type": "scattercarpet"
           }
          ],
          "scattergeo": [
           {
            "marker": {
             "colorbar": {
              "outlinewidth": 0,
              "ticks": ""
             }
            },
            "type": "scattergeo"
           }
          ],
          "scattergl": [
           {
            "marker": {
             "colorbar": {
              "outlinewidth": 0,
              "ticks": ""
             }
            },
            "type": "scattergl"
           }
          ],
          "scattermapbox": [
           {
            "marker": {
             "colorbar": {
              "outlinewidth": 0,
              "ticks": ""
             }
            },
            "type": "scattermapbox"
           }
          ],
          "scatterpolar": [
           {
            "marker": {
             "colorbar": {
              "outlinewidth": 0,
              "ticks": ""
             }
            },
            "type": "scatterpolar"
           }
          ],
          "scatterpolargl": [
           {
            "marker": {
             "colorbar": {
              "outlinewidth": 0,
              "ticks": ""
             }
            },
            "type": "scatterpolargl"
           }
          ],
          "scatterternary": [
           {
            "marker": {
             "colorbar": {
              "outlinewidth": 0,
              "ticks": ""
             }
            },
            "type": "scatterternary"
           }
          ],
          "surface": [
           {
            "colorbar": {
             "outlinewidth": 0,
             "ticks": ""
            },
            "colorscale": [
             [
              0,
              "#0d0887"
             ],
             [
              0.1111111111111111,
              "#46039f"
             ],
             [
              0.2222222222222222,
              "#7201a8"
             ],
             [
              0.3333333333333333,
              "#9c179e"
             ],
             [
              0.4444444444444444,
              "#bd3786"
             ],
             [
              0.5555555555555556,
              "#d8576b"
             ],
             [
              0.6666666666666666,
              "#ed7953"
             ],
             [
              0.7777777777777778,
              "#fb9f3a"
             ],
             [
              0.8888888888888888,
              "#fdca26"
             ],
             [
              1,
              "#f0f921"
             ]
            ],
            "type": "surface"
           }
          ],
          "table": [
           {
            "cells": {
             "fill": {
              "color": "#EBF0F8"
             },
             "line": {
              "color": "white"
             }
            },
            "header": {
             "fill": {
              "color": "#C8D4E3"
             },
             "line": {
              "color": "white"
             }
            },
            "type": "table"
           }
          ]
         },
         "layout": {
          "annotationdefaults": {
           "arrowcolor": "#2a3f5f",
           "arrowhead": 0,
           "arrowwidth": 1
          },
          "autotypenumbers": "strict",
          "coloraxis": {
           "colorbar": {
            "outlinewidth": 0,
            "ticks": ""
           }
          },
          "colorscale": {
           "diverging": [
            [
             0,
             "#8e0152"
            ],
            [
             0.1,
             "#c51b7d"
            ],
            [
             0.2,
             "#de77ae"
            ],
            [
             0.3,
             "#f1b6da"
            ],
            [
             0.4,
             "#fde0ef"
            ],
            [
             0.5,
             "#f7f7f7"
            ],
            [
             0.6,
             "#e6f5d0"
            ],
            [
             0.7,
             "#b8e186"
            ],
            [
             0.8,
             "#7fbc41"
            ],
            [
             0.9,
             "#4d9221"
            ],
            [
             1,
             "#276419"
            ]
           ],
           "sequential": [
            [
             0,
             "#0d0887"
            ],
            [
             0.1111111111111111,
             "#46039f"
            ],
            [
             0.2222222222222222,
             "#7201a8"
            ],
            [
             0.3333333333333333,
             "#9c179e"
            ],
            [
             0.4444444444444444,
             "#bd3786"
            ],
            [
             0.5555555555555556,
             "#d8576b"
            ],
            [
             0.6666666666666666,
             "#ed7953"
            ],
            [
             0.7777777777777778,
             "#fb9f3a"
            ],
            [
             0.8888888888888888,
             "#fdca26"
            ],
            [
             1,
             "#f0f921"
            ]
           ],
           "sequentialminus": [
            [
             0,
             "#0d0887"
            ],
            [
             0.1111111111111111,
             "#46039f"
            ],
            [
             0.2222222222222222,
             "#7201a8"
            ],
            [
             0.3333333333333333,
             "#9c179e"
            ],
            [
             0.4444444444444444,
             "#bd3786"
            ],
            [
             0.5555555555555556,
             "#d8576b"
            ],
            [
             0.6666666666666666,
             "#ed7953"
            ],
            [
             0.7777777777777778,
             "#fb9f3a"
            ],
            [
             0.8888888888888888,
             "#fdca26"
            ],
            [
             1,
             "#f0f921"
            ]
           ]
          },
          "colorway": [
           "#636efa",
           "#EF553B",
           "#00cc96",
           "#ab63fa",
           "#FFA15A",
           "#19d3f3",
           "#FF6692",
           "#B6E880",
           "#FF97FF",
           "#FECB52"
          ],
          "font": {
           "color": "#2a3f5f"
          },
          "geo": {
           "bgcolor": "white",
           "lakecolor": "white",
           "landcolor": "#E5ECF6",
           "showlakes": true,
           "showland": true,
           "subunitcolor": "white"
          },
          "hoverlabel": {
           "align": "left"
          },
          "hovermode": "closest",
          "mapbox": {
           "style": "light"
          },
          "paper_bgcolor": "white",
          "plot_bgcolor": "#E5ECF6",
          "polar": {
           "angularaxis": {
            "gridcolor": "white",
            "linecolor": "white",
            "ticks": ""
           },
           "bgcolor": "#E5ECF6",
           "radialaxis": {
            "gridcolor": "white",
            "linecolor": "white",
            "ticks": ""
           }
          },
          "scene": {
           "xaxis": {
            "backgroundcolor": "#E5ECF6",
            "gridcolor": "white",
            "gridwidth": 2,
            "linecolor": "white",
            "showbackground": true,
            "ticks": "",
            "zerolinecolor": "white"
           },
           "yaxis": {
            "backgroundcolor": "#E5ECF6",
            "gridcolor": "white",
            "gridwidth": 2,
            "linecolor": "white",
            "showbackground": true,
            "ticks": "",
            "zerolinecolor": "white"
           },
           "zaxis": {
            "backgroundcolor": "#E5ECF6",
            "gridcolor": "white",
            "gridwidth": 2,
            "linecolor": "white",
            "showbackground": true,
            "ticks": "",
            "zerolinecolor": "white"
           }
          },
          "shapedefaults": {
           "line": {
            "color": "#2a3f5f"
           }
          },
          "ternary": {
           "aaxis": {
            "gridcolor": "white",
            "linecolor": "white",
            "ticks": ""
           },
           "baxis": {
            "gridcolor": "white",
            "linecolor": "white",
            "ticks": ""
           },
           "bgcolor": "#E5ECF6",
           "caxis": {
            "gridcolor": "white",
            "linecolor": "white",
            "ticks": ""
           }
          },
          "title": {
           "x": 0.05
          },
          "xaxis": {
           "automargin": true,
           "gridcolor": "white",
           "linecolor": "white",
           "ticks": "",
           "title": {
            "standoff": 15
           },
           "zerolinecolor": "white",
           "zerolinewidth": 2
          },
          "yaxis": {
           "automargin": true,
           "gridcolor": "white",
           "linecolor": "white",
           "ticks": "",
           "title": {
            "standoff": 15
           },
           "zerolinecolor": "white",
           "zerolinewidth": 2
          }
         }
        },
        "title": {
         "text": "first  gyro"
        }
       }
      },
      "text/html": [
       "<div>                            <div id=\"cfc265b1-fbce-420c-9137-2f63bd374925\" class=\"plotly-graph-div\" style=\"height:525px; width:100%;\"></div>            <script type=\"text/javascript\">                require([\"plotly\"], function(Plotly) {                    window.PLOTLYENV=window.PLOTLYENV || {};                                    if (document.getElementById(\"cfc265b1-fbce-420c-9137-2f63bd374925\")) {                    Plotly.newPlot(                        \"cfc265b1-fbce-420c-9137-2f63bd374925\",                        [{\"name\":\"lb_gx\",\"x\":[0,1,2,3,4,5,6,7,8,9,10,11,12,13,14,15,16,17,18,19,20,21,22,23,24,25,26,27,28,29,30,31,32,33,34,35,36,37,38,39,40,41,42,43,44,45,46,47,48,49,50,51,52,53,54,55,56,57,58,59,60,61,62,63,64,65,66,67,68,69,70,71,72,73,74,75,76,77,78,79,80,81,82,83,84,85,86,87,88,89,90,91,92,93,94,95,96,97,98,99,100,101,102,103,104,105,106,107,108,109,110,111,112,113,114,115,116,117,118,119,120,121,122,123,124,125,126,127,128,129],\"y\":[0.09619296,0.09499389,0.09792498,0.09432773,0.0856677,0.09512712,0.1029878,0.09912406,0.09872436,0.1000567,0.09885758,0.103121,0.08793263,0.09312864,0.08513477,0.08446861,0.08113783,0.08127106,0.09339512,0.09286219,0.09699235,0.1036539,0.09979021,0.1005896,0.1028545,0.1029878,0.1103155,0.110049,0.1004564,0.09312864,0.08713324,0.09619296,0.0963262,0.09219603,0.09446095,0.09752527,0.02837825,-0.02438132,-0.1293675,-0.140026,-0.1903875,-0.3978286,-0.4712389,-0.559971,-0.4950873,-0.4679082,-0.4681746,-0.4617795,-0.2865804,-0.4071548,-0.3011026,-0.2571363,-0.2250276,-0.2013124,-0.1201746,-0.2034441,-0.1823936,-0.1931853,-0.1585452,-0.1418913,-0.1216401,-0.1087167,-0.1586784,-0.1137795,0.002931087,0.1378943,0.2723247,0.2368852,0.2688607,0.3250842,0.3453354,0.3378744,0.3390735,0.3422711,0.3681179,0.389435,0.4236754,0.4556509,0.5097427,0.5140062,0.529461,0.4912236,0.5410521,0.5954104,0.6517673,0.7015958,0.6582956,0.6196586,0.580755,0.5385207,0.4824304,0.4613798,0.3285482,0.04822971,0.01052527,0.01252374,0.1432236,0.07554212,0.0963262,0.1127136,0.1312328,0.1027213,0.1025881,0.09139664,0.09019755,0.09779175,0.08473509,0.1099158,0.1241715,0.1017887,0.103121,0.114046,0.1057856,0.1167106,0.113513,0.1099158,0.1137795,0.09859113,0.1009893,0.1001899,0.09579327,0.09432773,0.08833232,0.0877994,0.1004564,0.1005896,0.0984579,0.09832466,0.1067182,0.1020551],\"type\":\"scatter\"},{\"name\":\"lb_gy\",\"x\":[0,1,2,3,4,5,6,7,8,9,10,11,12,13,14,15,16,17,18,19,20,21,22,23,24,25,26,27,28,29,30,31,32,33,34,35,36,37,38,39,40,41,42,43,44,45,46,47,48,49,50,51,52,53,54,55,56,57,58,59,60,61,62,63,64,65,66,67,68,69,70,71,72,73,74,75,76,77,78,79,80,81,82,83,84,85,86,87,88,89,90,91,92,93,94,95,96,97,98,99,100,101,102,103,104,105,106,107,108,109,110,111,112,113,114,115,116,117,118,119,120,121,122,123,124,125,126,127,128,129],\"y\":[0.05808883,0.06155284,0.06208577,0.05435835,0.06408423,0.05835528,0.07367688,0.05848852,0.04436601,0.05982084,0.04942879,0.0315758,0.01718683,0.02078407,0.04769679,0.07221134,0.09392804,0.08300307,0.07194488,0.06155284,0.05888822,0.06301838,0.07740736,0.07700767,0.07740736,0.05142726,0.03557274,0.03184227,0.04809648,0.06315161,0.0720781,0.0575559,0.03983614,0.03543952,0.01105819,0.001332313,-0.01438898,-0.0596876,-0.06168607,-0.07780705,-0.07247781,-0.261533,-0.3400062,-0.01745329,-0.3810414,0.4082206,-0.1863905,0.02171669,0.1184426,-0.07700767,0.07687444,0.04023584,0.1801287,0.2180996,0.01145789,0.08899847,0.01252374,0.03464013,0.03384074,-0.03530628,0.01572129,0.0006661563,-0.08033845,0.005862175,0.02464778,-0.05102757,-0.0575559,0.04063553,0.03597244,0.01358959,0.06794794,0.05715621,0.103121,0.06967995,0.1220398,0.180928,0.0720781,0.09073049,-0.002398162,0.0575559,0.02358193,-0.0750092,-0.08913171,-0.07940583,0.02438132,0.07327719,0.2691271,0.2904441,0.08193722,0.06608271,0.1998469,0.08966463,0.1589449,0.3326785,0.2735238,0.05768914,0.01678714,0.2320888,0.07687444,0.02184993,0.03783768,0.08833232,0.03304135,0.08886525,0.09792498,0.1057856,0.09179633,0.09912406,0.06914702,0.06461716,0.06248546,0.05955438,0.01998469,0.04596478,0.01771976,0.06328485,0.03397397,0.04583155,0.02158346,0.03890353,0.0319755,0.04196784,0.03330781,0.06235223,0.0536922,0.06941348,0.07034611,0.07434304,0.07767382,0.07221134],\"type\":\"scatter\"},{\"name\":\"lb_gz\",\"x\":[0,1,2,3,4,5,6,7,8,9,10,11,12,13,14,15,16,17,18,19,20,21,22,23,24,25,26,27,28,29,30,31,32,33,34,35,36,37,38,39,40,41,42,43,44,45,46,47,48,49,50,51,52,53,54,55,56,57,58,59,60,61,62,63,64,65,66,67,68,69,70,71,72,73,74,75,76,77,78,79,80,81,82,83,84,85,86,87,88,89,90,91,92,93,94,95,96,97,98,99,100,101,102,103,104,105,106,107,108,109,110,111,112,113,114,115,116,117,118,119,120,121,122,123,124,125,126,127,128,129],\"y\":[0.01398928,0.01572129,0.01265697,0.02065084,0.02118377,0.01305666,0.01865238,0.02171669,0.02145023,0.01465544,0.007860644,0.002797856,0.004663094,-0.0009326187,0.006261869,0.0255804,0.03304135,0.03130934,0.02584686,0.01985146,0.009992343,0.01225728,0.01758653,0.02145023,0.019585,0.0149219,0.005462481,-0.001199081,0.02145023,0.02598009,0.03490659,0.03317458,0.02518071,0.02971057,0.0298438,0.02957734,0.06554978,0.1032542,0.1907871,0.2562037,0.2283584,0.3160245,0.3478668,0.3645207,0.2284916,0.4336677,0.3510643,0.4336677,0.5238653,0.4038239,0.335876,0.2695268,0.2827167,0.2977719,0.3541287,0.3737137,0.3960965,0.3638546,0.2941746,0.2279587,0.2347535,0.2512741,0.2006463,0.170536,0.1476202,0.1184426,0.09219603,0.02224962,-0.01838591,-0.09725882,-0.1441562,-0.2095728,-0.2669954,-0.3269495,-0.3337443,-0.3081639,-0.2992374,-0.2791195,-0.2979051,-0.3789097,-0.4292711,-0.5836861,-0.5928791,-0.6159281,-0.5217336,-0.4432604,-0.3928989,-0.4047565,-0.4158147,-0.394631,-0.3325452,-0.3037673,-0.2276922,0.05649005,0.1063185,0.06128638,-0.02398163,0.03956968,0.02411486,0.01692037,-0.006794794,0.01465544,0.008793262,0.01159112,0.01612098,0.00746095,0.02598009,0.01891884,0.01585452,0.03277489,0.02744564,0.02264931,0.02051761,0.01838591,0.01052527,0.0191853,0.01025881,0.01732006,0.008393569,0.004529863,0.005196019,0.009859113,0.009326188,0.01225728,0.01545483,0.01345636,0.01678714,0.01545483,0.01159112,0.009059726],\"type\":\"scatter\"}],                        {\"template\":{\"data\":{\"bar\":[{\"error_x\":{\"color\":\"#2a3f5f\"},\"error_y\":{\"color\":\"#2a3f5f\"},\"marker\":{\"line\":{\"color\":\"#E5ECF6\",\"width\":0.5},\"pattern\":{\"fillmode\":\"overlay\",\"size\":10,\"solidity\":0.2}},\"type\":\"bar\"}],\"barpolar\":[{\"marker\":{\"line\":{\"color\":\"#E5ECF6\",\"width\":0.5},\"pattern\":{\"fillmode\":\"overlay\",\"size\":10,\"solidity\":0.2}},\"type\":\"barpolar\"}],\"carpet\":[{\"aaxis\":{\"endlinecolor\":\"#2a3f5f\",\"gridcolor\":\"white\",\"linecolor\":\"white\",\"minorgridcolor\":\"white\",\"startlinecolor\":\"#2a3f5f\"},\"baxis\":{\"endlinecolor\":\"#2a3f5f\",\"gridcolor\":\"white\",\"linecolor\":\"white\",\"minorgridcolor\":\"white\",\"startlinecolor\":\"#2a3f5f\"},\"type\":\"carpet\"}],\"choropleth\":[{\"colorbar\":{\"outlinewidth\":0,\"ticks\":\"\"},\"type\":\"choropleth\"}],\"contour\":[{\"colorbar\":{\"outlinewidth\":0,\"ticks\":\"\"},\"colorscale\":[[0.0,\"#0d0887\"],[0.1111111111111111,\"#46039f\"],[0.2222222222222222,\"#7201a8\"],[0.3333333333333333,\"#9c179e\"],[0.4444444444444444,\"#bd3786\"],[0.5555555555555556,\"#d8576b\"],[0.6666666666666666,\"#ed7953\"],[0.7777777777777778,\"#fb9f3a\"],[0.8888888888888888,\"#fdca26\"],[1.0,\"#f0f921\"]],\"type\":\"contour\"}],\"contourcarpet\":[{\"colorbar\":{\"outlinewidth\":0,\"ticks\":\"\"},\"type\":\"contourcarpet\"}],\"heatmap\":[{\"colorbar\":{\"outlinewidth\":0,\"ticks\":\"\"},\"colorscale\":[[0.0,\"#0d0887\"],[0.1111111111111111,\"#46039f\"],[0.2222222222222222,\"#7201a8\"],[0.3333333333333333,\"#9c179e\"],[0.4444444444444444,\"#bd3786\"],[0.5555555555555556,\"#d8576b\"],[0.6666666666666666,\"#ed7953\"],[0.7777777777777778,\"#fb9f3a\"],[0.8888888888888888,\"#fdca26\"],[1.0,\"#f0f921\"]],\"type\":\"heatmap\"}],\"heatmapgl\":[{\"colorbar\":{\"outlinewidth\":0,\"ticks\":\"\"},\"colorscale\":[[0.0,\"#0d0887\"],[0.1111111111111111,\"#46039f\"],[0.2222222222222222,\"#7201a8\"],[0.3333333333333333,\"#9c179e\"],[0.4444444444444444,\"#bd3786\"],[0.5555555555555556,\"#d8576b\"],[0.6666666666666666,\"#ed7953\"],[0.7777777777777778,\"#fb9f3a\"],[0.8888888888888888,\"#fdca26\"],[1.0,\"#f0f921\"]],\"type\":\"heatmapgl\"}],\"histogram\":[{\"marker\":{\"pattern\":{\"fillmode\":\"overlay\",\"size\":10,\"solidity\":0.2}},\"type\":\"histogram\"}],\"histogram2d\":[{\"colorbar\":{\"outlinewidth\":0,\"ticks\":\"\"},\"colorscale\":[[0.0,\"#0d0887\"],[0.1111111111111111,\"#46039f\"],[0.2222222222222222,\"#7201a8\"],[0.3333333333333333,\"#9c179e\"],[0.4444444444444444,\"#bd3786\"],[0.5555555555555556,\"#d8576b\"],[0.6666666666666666,\"#ed7953\"],[0.7777777777777778,\"#fb9f3a\"],[0.8888888888888888,\"#fdca26\"],[1.0,\"#f0f921\"]],\"type\":\"histogram2d\"}],\"histogram2dcontour\":[{\"colorbar\":{\"outlinewidth\":0,\"ticks\":\"\"},\"colorscale\":[[0.0,\"#0d0887\"],[0.1111111111111111,\"#46039f\"],[0.2222222222222222,\"#7201a8\"],[0.3333333333333333,\"#9c179e\"],[0.4444444444444444,\"#bd3786\"],[0.5555555555555556,\"#d8576b\"],[0.6666666666666666,\"#ed7953\"],[0.7777777777777778,\"#fb9f3a\"],[0.8888888888888888,\"#fdca26\"],[1.0,\"#f0f921\"]],\"type\":\"histogram2dcontour\"}],\"mesh3d\":[{\"colorbar\":{\"outlinewidth\":0,\"ticks\":\"\"},\"type\":\"mesh3d\"}],\"parcoords\":[{\"line\":{\"colorbar\":{\"outlinewidth\":0,\"ticks\":\"\"}},\"type\":\"parcoords\"}],\"pie\":[{\"automargin\":true,\"type\":\"pie\"}],\"scatter\":[{\"marker\":{\"colorbar\":{\"outlinewidth\":0,\"ticks\":\"\"}},\"type\":\"scatter\"}],\"scatter3d\":[{\"line\":{\"colorbar\":{\"outlinewidth\":0,\"ticks\":\"\"}},\"marker\":{\"colorbar\":{\"outlinewidth\":0,\"ticks\":\"\"}},\"type\":\"scatter3d\"}],\"scattercarpet\":[{\"marker\":{\"colorbar\":{\"outlinewidth\":0,\"ticks\":\"\"}},\"type\":\"scattercarpet\"}],\"scattergeo\":[{\"marker\":{\"colorbar\":{\"outlinewidth\":0,\"ticks\":\"\"}},\"type\":\"scattergeo\"}],\"scattergl\":[{\"marker\":{\"colorbar\":{\"outlinewidth\":0,\"ticks\":\"\"}},\"type\":\"scattergl\"}],\"scattermapbox\":[{\"marker\":{\"colorbar\":{\"outlinewidth\":0,\"ticks\":\"\"}},\"type\":\"scattermapbox\"}],\"scatterpolar\":[{\"marker\":{\"colorbar\":{\"outlinewidth\":0,\"ticks\":\"\"}},\"type\":\"scatterpolar\"}],\"scatterpolargl\":[{\"marker\":{\"colorbar\":{\"outlinewidth\":0,\"ticks\":\"\"}},\"type\":\"scatterpolargl\"}],\"scatterternary\":[{\"marker\":{\"colorbar\":{\"outlinewidth\":0,\"ticks\":\"\"}},\"type\":\"scatterternary\"}],\"surface\":[{\"colorbar\":{\"outlinewidth\":0,\"ticks\":\"\"},\"colorscale\":[[0.0,\"#0d0887\"],[0.1111111111111111,\"#46039f\"],[0.2222222222222222,\"#7201a8\"],[0.3333333333333333,\"#9c179e\"],[0.4444444444444444,\"#bd3786\"],[0.5555555555555556,\"#d8576b\"],[0.6666666666666666,\"#ed7953\"],[0.7777777777777778,\"#fb9f3a\"],[0.8888888888888888,\"#fdca26\"],[1.0,\"#f0f921\"]],\"type\":\"surface\"}],\"table\":[{\"cells\":{\"fill\":{\"color\":\"#EBF0F8\"},\"line\":{\"color\":\"white\"}},\"header\":{\"fill\":{\"color\":\"#C8D4E3\"},\"line\":{\"color\":\"white\"}},\"type\":\"table\"}]},\"layout\":{\"annotationdefaults\":{\"arrowcolor\":\"#2a3f5f\",\"arrowhead\":0,\"arrowwidth\":1},\"autotypenumbers\":\"strict\",\"coloraxis\":{\"colorbar\":{\"outlinewidth\":0,\"ticks\":\"\"}},\"colorscale\":{\"diverging\":[[0,\"#8e0152\"],[0.1,\"#c51b7d\"],[0.2,\"#de77ae\"],[0.3,\"#f1b6da\"],[0.4,\"#fde0ef\"],[0.5,\"#f7f7f7\"],[0.6,\"#e6f5d0\"],[0.7,\"#b8e186\"],[0.8,\"#7fbc41\"],[0.9,\"#4d9221\"],[1,\"#276419\"]],\"sequential\":[[0.0,\"#0d0887\"],[0.1111111111111111,\"#46039f\"],[0.2222222222222222,\"#7201a8\"],[0.3333333333333333,\"#9c179e\"],[0.4444444444444444,\"#bd3786\"],[0.5555555555555556,\"#d8576b\"],[0.6666666666666666,\"#ed7953\"],[0.7777777777777778,\"#fb9f3a\"],[0.8888888888888888,\"#fdca26\"],[1.0,\"#f0f921\"]],\"sequentialminus\":[[0.0,\"#0d0887\"],[0.1111111111111111,\"#46039f\"],[0.2222222222222222,\"#7201a8\"],[0.3333333333333333,\"#9c179e\"],[0.4444444444444444,\"#bd3786\"],[0.5555555555555556,\"#d8576b\"],[0.6666666666666666,\"#ed7953\"],[0.7777777777777778,\"#fb9f3a\"],[0.8888888888888888,\"#fdca26\"],[1.0,\"#f0f921\"]]},\"colorway\":[\"#636efa\",\"#EF553B\",\"#00cc96\",\"#ab63fa\",\"#FFA15A\",\"#19d3f3\",\"#FF6692\",\"#B6E880\",\"#FF97FF\",\"#FECB52\"],\"font\":{\"color\":\"#2a3f5f\"},\"geo\":{\"bgcolor\":\"white\",\"lakecolor\":\"white\",\"landcolor\":\"#E5ECF6\",\"showlakes\":true,\"showland\":true,\"subunitcolor\":\"white\"},\"hoverlabel\":{\"align\":\"left\"},\"hovermode\":\"closest\",\"mapbox\":{\"style\":\"light\"},\"paper_bgcolor\":\"white\",\"plot_bgcolor\":\"#E5ECF6\",\"polar\":{\"angularaxis\":{\"gridcolor\":\"white\",\"linecolor\":\"white\",\"ticks\":\"\"},\"bgcolor\":\"#E5ECF6\",\"radialaxis\":{\"gridcolor\":\"white\",\"linecolor\":\"white\",\"ticks\":\"\"}},\"scene\":{\"xaxis\":{\"backgroundcolor\":\"#E5ECF6\",\"gridcolor\":\"white\",\"gridwidth\":2,\"linecolor\":\"white\",\"showbackground\":true,\"ticks\":\"\",\"zerolinecolor\":\"white\"},\"yaxis\":{\"backgroundcolor\":\"#E5ECF6\",\"gridcolor\":\"white\",\"gridwidth\":2,\"linecolor\":\"white\",\"showbackground\":true,\"ticks\":\"\",\"zerolinecolor\":\"white\"},\"zaxis\":{\"backgroundcolor\":\"#E5ECF6\",\"gridcolor\":\"white\",\"gridwidth\":2,\"linecolor\":\"white\",\"showbackground\":true,\"ticks\":\"\",\"zerolinecolor\":\"white\"}},\"shapedefaults\":{\"line\":{\"color\":\"#2a3f5f\"}},\"ternary\":{\"aaxis\":{\"gridcolor\":\"white\",\"linecolor\":\"white\",\"ticks\":\"\"},\"baxis\":{\"gridcolor\":\"white\",\"linecolor\":\"white\",\"ticks\":\"\"},\"bgcolor\":\"#E5ECF6\",\"caxis\":{\"gridcolor\":\"white\",\"linecolor\":\"white\",\"ticks\":\"\"}},\"title\":{\"x\":0.05},\"xaxis\":{\"automargin\":true,\"gridcolor\":\"white\",\"linecolor\":\"white\",\"ticks\":\"\",\"title\":{\"standoff\":15},\"zerolinecolor\":\"white\",\"zerolinewidth\":2},\"yaxis\":{\"automargin\":true,\"gridcolor\":\"white\",\"linecolor\":\"white\",\"ticks\":\"\",\"title\":{\"standoff\":15},\"zerolinecolor\":\"white\",\"zerolinewidth\":2}}},\"title\":{\"text\":\"first  gyro\"}},                        {\"responsive\": true}                    ).then(function(){\n",
       "                            \n",
       "var gd = document.getElementById('cfc265b1-fbce-420c-9137-2f63bd374925');\n",
       "var x = new MutationObserver(function (mutations, observer) {{\n",
       "        var display = window.getComputedStyle(gd).display;\n",
       "        if (!display || display === 'none') {{\n",
       "            console.log([gd, 'removed!']);\n",
       "            Plotly.purge(gd);\n",
       "            observer.disconnect();\n",
       "        }}\n",
       "}});\n",
       "\n",
       "// Listen for the removal of the full notebook cells\n",
       "var notebookContainer = gd.closest('#notebook-container');\n",
       "if (notebookContainer) {{\n",
       "    x.observe(notebookContainer, {childList: true});\n",
       "}}\n",
       "\n",
       "// Listen for the clearing of the current output cell\n",
       "var outputEl = gd.closest('.output');\n",
       "if (outputEl) {{\n",
       "    x.observe(outputEl, {childList: true});\n",
       "}}\n",
       "\n",
       "                        })                };                });            </script>        </div>"
      ]
     },
     "metadata": {},
     "output_type": "display_data"
    },
    {
     "data": {
      "application/vnd.plotly.v1+json": {
       "config": {
        "plotlyServerURL": "https://plot.ly"
       },
       "data": [
        {
         "name": "lb_gx",
         "type": "scatter",
         "x": [
          0,
          1,
          2,
          3,
          4,
          5,
          6,
          7,
          8,
          9,
          10,
          11,
          12,
          13,
          14,
          15,
          16,
          17,
          18,
          19,
          20,
          21,
          22,
          23,
          24,
          25,
          26,
          27,
          28,
          29,
          30,
          31,
          32,
          33,
          34,
          35,
          36,
          37,
          38,
          39,
          40,
          41,
          42,
          43,
          44,
          45,
          46,
          47,
          48,
          49,
          50,
          51,
          52,
          53,
          54,
          55,
          56,
          57,
          58,
          59,
          60,
          61,
          62,
          63,
          64,
          65,
          66,
          67,
          68,
          69,
          70,
          71,
          72,
          73,
          74,
          75,
          76,
          77,
          78,
          79,
          80,
          81,
          82,
          83,
          84,
          85,
          86,
          87,
          88,
          89,
          90,
          91,
          92,
          93,
          94,
          95,
          96,
          97,
          98,
          99,
          100,
          101,
          102,
          103,
          104,
          105,
          106,
          107,
          108,
          109,
          110,
          111,
          112,
          113,
          114,
          115,
          116,
          117,
          118,
          119,
          120,
          121,
          122,
          123,
          124,
          125,
          126,
          127,
          128,
          129
         ],
         "y": [
          -0.005046041420765021,
          -0.015704541420765022,
          0.00014997857923497449,
          0.00454664857923498,
          -0.004779581420765025,
          -0.0003829414207650178,
          0.0005496685792349826,
          -0.006778051420765027,
          -0.004513121420765029,
          -0.005312511420765026,
          -0.009176211420765024,
          0.00014997857923497449,
          -0.0013155614207650268,
          -0.009575901420765018,
          -0.008643291420765017,
          -0.005578961420765027,
          -0.0009158814207650273,
          0.00201520857923497,
          -0.0015820314207650177,
          -0.005312511420765026,
          -0.0038469714207650246,
          -0.002914331420765026,
          -0.00238141142076502,
          -0.00011649142076503027,
          -0.004113421420765026,
          -0.0011823314207650287,
          0.005212748579234983,
          0.010009048579234972,
          -0.00011649142076503027,
          0.0006828985792349807,
          0.0021484485792349767,
          -0.00238141142076502,
          -0.005845431420765018,
          -0.008376821420765027,
          -0.008243591420765028,
          -0.003713721420765023,
          -0.0006494114207650226,
          -0.0025146514207650267,
          0.004146948579234977,
          0.007211248579234969,
          0.022932548579234976,
          0.014938648579234978,
          0.004013648579234974,
          0.003214288579234975,
          -0.002914331420765026,
          -0.006644821420765029,
          -0.005046041420765021,
          0.0056124485792349715,
          0.009742648579234972,
          0.00694474857923498,
          0.007477648579234969,
          0.00201520857923497,
          0.002681368579234969,
          -0.0007826414207650206,
          -0.0010491014207650307,
          -0.004513121420765029,
          -0.010774981420765023,
          -0.011974071420765023,
          -0.007044501420765029,
          -0.002114951420765024,
          0.008143848579234975,
          0.00907644857923498,
          0.00028320857923497256,
          0.007078048579234969,
          0.003880448579234974,
          0.010675248579234978,
          0.005079548579234983,
          -0.011041451420765028,
          -0.005578961420765027,
          -0.0014488014207650196,
          0.004413348579234977,
          -0.005312511420765026,
          0.0029478385792349737,
          -0.003713721420765023,
          -0.007710661420765028,
          -0.0031808114207650257,
          -0.00011649142076503027,
          -0.003447261420765027,
          0.007211248579234969,
          0.012806948579234978,
          0.004280148579234977,
          -0.0005161814207650245,
          -0.0005161814207650245,
          0.0016155285792349705,
          -0.0030475614207650242,
          -0.006378351420765024,
          0.0013490585792349796,
          -0.0015820314207650177,
          -0.006111901420765023,
          0.0005496685792349826,
          0.004946348579234983,
          -0.00264787142076503,
          -0.004113421420765026,
          0.009875848579234972,
          0.008143848579234975,
          0.00454664857923498,
          0.006411848579234977,
          -0.005845431420765018,
          -0.005578961420765027,
          -0.0033140414207650237,
          -0.0007826414207650206,
          0.0004164285792349759,
          -0.0006494114207650226,
          0.001881978579234972,
          0.00028320857923497256,
          0.00467984857923498,
          0.001881978579234972,
          -0.005978671420765025,
          0.0004164285792349759,
          0.006278648579234977,
          -0.0025146514207650267,
          0.007610948579234972,
          0.002681368579234969,
          0.0004164285792349759,
          0.003613988579234978,
          0.0014822985792349724,
          0.00348075857923498,
          0.0016155285792349705,
          0.002681368579234969,
          0.004280148579234977,
          0.0004164285792349759,
          -0.003980201420765023,
          -0.0018485014207650224,
          0.005878948579234974,
          0.003880448579234974,
          0.004946348579234983,
          0.002681368579234969,
          0.0028146085792349756,
          -0.0015820314207650177,
          0.005079548579234983
         ]
        },
        {
         "name": "lb_gy",
         "type": "scatter",
         "x": [
          0,
          1,
          2,
          3,
          4,
          5,
          6,
          7,
          8,
          9,
          10,
          11,
          12,
          13,
          14,
          15,
          16,
          17,
          18,
          19,
          20,
          21,
          22,
          23,
          24,
          25,
          26,
          27,
          28,
          29,
          30,
          31,
          32,
          33,
          34,
          35,
          36,
          37,
          38,
          39,
          40,
          41,
          42,
          43,
          44,
          45,
          46,
          47,
          48,
          49,
          50,
          51,
          52,
          53,
          54,
          55,
          56,
          57,
          58,
          59,
          60,
          61,
          62,
          63,
          64,
          65,
          66,
          67,
          68,
          69,
          70,
          71,
          72,
          73,
          74,
          75,
          76,
          77,
          78,
          79,
          80,
          81,
          82,
          83,
          84,
          85,
          86,
          87,
          88,
          89,
          90,
          91,
          92,
          93,
          94,
          95,
          96,
          97,
          98,
          99,
          100,
          101,
          102,
          103,
          104,
          105,
          106,
          107,
          108,
          109,
          110,
          111,
          112,
          113,
          114,
          115,
          116,
          117,
          118,
          119,
          120,
          121,
          122,
          123,
          124,
          125,
          126,
          127,
          128,
          129
         ],
         "y": [
          -0.016979349890710385,
          0.001406570109289615,
          -0.0013912798907103827,
          0.007002280109289612,
          0.009267220109289619,
          0.007135520109289618,
          0.013397380109289612,
          0.007668440109289611,
          0.0036715001092896132,
          0.02338973010928961,
          0.005137050109289616,
          0.009800140109289611,
          0.015529080109289613,
          0.0058032001092896204,
          0.0036715001092896132,
          0.002339190109289617,
          0.003804740109289613,
          -0.0028568298907103856,
          -0.0023238998907103847,
          0.006336130109289621,
          0.007135520109289618,
          0.011398920109289619,
          -0.00032542989071038253,
          -0.006054379890710386,
          0.007668440109289611,
          0.004204430109289614,
          0.002872120109289618,
          -0.008319309890710384,
          -0.003922679890710386,
          -0.00032542989071038253,
          0.005403510109289612,
          -0.0011248198907103865,
          -0.006187609890710384,
          -0.00045865989071038754,
          0.002339190109289617,
          0.0048705801092896114,
          0.01939279010928962,
          0.006469360109289619,
          0.011798610109289613,
          -0.0005918898907103856,
          0.027519890109289617,
          0.003538280109289617,
          0.03791193010928961,
          0.009666910109289613,
          0.019659250109289615,
          -0.025106449890710383,
          0.006069670109289611,
          -0.021908899890710383,
          -0.0008583598907103834,
          -0.007519919890710387,
          -0.002990049890710382,
          -0.022575049890710387,
          -0.013515329890710387,
          -0.0016577398907103857,
          -0.011117169890710384,
          -0.01604671989071039,
          0.006202900109289609,
          0.011798610109289613,
          -0.00032542989071038253,
          0.010599530109289608,
          0.02152449010928962,
          -0.006320839890710382,
          0.0008736501092896157,
          -0.004322369890710387,
          0.003804740109289613,
          -0.0009915898907103884,
          -0.009784859890710387,
          0.012065080109289618,
          -0.0011248198907103865,
          -0.0008583598907103834,
          0.0012733501092896116,
          -0.005921139890710386,
          0.011798610109289613,
          0.013130920109289616,
          0.006869050109289614,
          -0.014048259890710388,
          -0.021109509890710386,
          0.004071200109289616,
          -0.007519919890710387,
          -0.012049789890710386,
          -0.010184549890710388,
          0.0019395001092896158,
          -0.0031232998907103834,
          0.002072730109289614,
          -0.010717469890710388,
          0.003538280109289617,
          -0.0016577398907103857,
          0.004204430109289614,
          -0.009918089890710385,
          0.00034072010928961477,
          0.005003820109289618,
          0.010199830109289619,
          -0.0007251298907103854,
          0.003937970109289611,
          -0.014314709890710382,
          -0.025905839890710387,
          -0.016979349890710385,
          -0.005388219890710387,
          -0.003389749890710385,
          -0.010184549890710388,
          -0.0009915898907103884,
          -0.003522979890710383,
          0.00047395010928961284,
          -0.0031232998907103834,
          0.0026056601092896148,
          -0.005521449890710385,
          -0.019111039890710384,
          0.003138580109289614,
          0.0015398101092896146,
          -0.009518389890710383,
          0.005137050109289616,
          -0.0028568298907103856,
          0.003804740109289613,
          0.0002074901092896167,
          -0.005521449890710385,
          -0.007120229890710386,
          -0.004588829890710383,
          -0.008186079890710386,
          -0.0008583598907103834,
          0.0036715001092896132,
          -0.008852239890710385,
          0.001140100109289617,
          0.001406570109289615,
          -0.012582709890710385,
          -0.005521449890710385,
          0.006469360109289619,
          -0.005921139890710386,
          -0.0016577398907103857,
          0.006336130109289621,
          -0.008186079890710386
         ]
        },
        {
         "name": "lb_gz",
         "type": "scatter",
         "x": [
          0,
          1,
          2,
          3,
          4,
          5,
          6,
          7,
          8,
          9,
          10,
          11,
          12,
          13,
          14,
          15,
          16,
          17,
          18,
          19,
          20,
          21,
          22,
          23,
          24,
          25,
          26,
          27,
          28,
          29,
          30,
          31,
          32,
          33,
          34,
          35,
          36,
          37,
          38,
          39,
          40,
          41,
          42,
          43,
          44,
          45,
          46,
          47,
          48,
          49,
          50,
          51,
          52,
          53,
          54,
          55,
          56,
          57,
          58,
          59,
          60,
          61,
          62,
          63,
          64,
          65,
          66,
          67,
          68,
          69,
          70,
          71,
          72,
          73,
          74,
          75,
          76,
          77,
          78,
          79,
          80,
          81,
          82,
          83,
          84,
          85,
          86,
          87,
          88,
          89,
          90,
          91,
          92,
          93,
          94,
          95,
          96,
          97,
          98,
          99,
          100,
          101,
          102,
          103,
          104,
          105,
          106,
          107,
          108,
          109,
          110,
          111,
          112,
          113,
          114,
          115,
          116,
          117,
          118,
          119,
          120,
          121,
          122,
          123,
          124,
          125,
          126,
          127,
          128,
          129
         ],
         "y": [
          0.00039241280765027475,
          0.007053972807650275,
          0.0002591828076502767,
          -0.007334999192349723,
          0.0037231928076502767,
          0.004655812807650275,
          -0.001073127192349723,
          0.005188732807650278,
          0.001724722807650278,
          0.009318902807650277,
          0.004122892807650276,
          0.0009253428076502757,
          0.0061213528076502766,
          0.013182612807650276,
          0.007586902807650276,
          0.003057042807650276,
          -0.006402380192349724,
          -0.007734693192349724,
          -0.0029383671923497237,
          0.004522582807650277,
          0.0013250328076502768,
          0.007720132807650278,
          0.005055502807650276,
          -0.0025386771923497243,
          0.0005256428076502763,
          0.002923802807650276,
          0.00039241280765027475,
          -0.006135918192349724,
          0.0015914928076502764,
          0.00039241280765027475,
          0.0006588728076502778,
          0.005188732807650278,
          0.011450602807650277,
          0.018778322807650277,
          0.007586902807650276,
          0.005588432807650277,
          0.010517982807650275,
          0.007053972807650275,
          0.0005256428076502763,
          -0.016394724792349723,
          -0.018126731192349723,
          -0.019459044192349725,
          -0.0020057471923497234,
          -0.010665781192349724,
          0.0022576528076502754,
          -0.011065474192349723,
          -0.005869455192349724,
          -0.023056287192349725,
          -0.022256900192349723,
          -0.03424771719234972,
          -0.008001156192349724,
          -0.0042706771923497235,
          -0.002671907192349724,
          0.006254592807650276,
          0.007453672807650278,
          0.011983532807650275,
          0.020377102807650278,
          0.02890390280765028,
          0.027438362807650277,
          0.013449072807650276,
          0.009985062807650276,
          0.0027905728076502746,
          0.0021244228076502773,
          -0.004137447192349724,
          -0.004004217192349724,
          -0.013063943192349724,
          -0.014929180892349724,
          0.011983532807650275,
          0.005854892807650277,
          -0.003338057192349723,
          -0.008134387192349723,
          -0.0006734371923497236,
          0.0021244228076502773,
          -0.0025386771923497243,
          0.007586902807650276,
          -0.008667312192349723,
          -0.015328874692349724,
          -0.006802075192349724,
          -0.019192581192349723,
          -0.009200236192349723,
          -0.012397787192349723,
          -0.0057362241923497245,
          -0.0018725171923497236,
          -0.007734693192349724,
          -0.002138977192349723,
          0.0026573428076502766,
          -0.005869455192349724,
          0.0006588728076502778,
          -0.006269149192349725,
          -0.011331937192349723,
          -0.011598399192349724,
          0.003057042807650276,
          0.0022576528076502754,
          -0.005869455192349724,
          -0.014129793192349725,
          -0.008667312192349723,
          -0.0046703771923497246,
          -0.002671907192349724,
          0.004256122807650278,
          0.008919212807650276,
          0.008386292807650277,
          0.005588432807650277,
          0.0031902728076502775,
          0.006254592807650276,
          0.004789042807650277,
          0.0037231928076502767,
          0.004122892807650276,
          0.0002591828076502767,
          0.004922272807650275,
          -0.013063943192349724,
          -0.005469757192349723,
          -0.004403907192349723,
          -0.002138977192349723,
          0.0006588728076502778,
          0.002390882807650277,
          0.002524112807650275,
          0.003057042807650276,
          0.005455202807650276,
          0.0009253428076502757,
          -0.005336527192349724,
          0.0061213528076502766,
          0.005854892807650277,
          0.0037231928076502767,
          -0.0014728271923497242,
          0.004655812807650275,
          -0.001073127192349723,
          -0.003870987192349724,
          0.0007921028076502759,
          -0.001073127192349723,
          -0.002272207192349723
         ]
        }
       ],
       "layout": {
        "template": {
         "data": {
          "bar": [
           {
            "error_x": {
             "color": "#2a3f5f"
            },
            "error_y": {
             "color": "#2a3f5f"
            },
            "marker": {
             "line": {
              "color": "#E5ECF6",
              "width": 0.5
             },
             "pattern": {
              "fillmode": "overlay",
              "size": 10,
              "solidity": 0.2
             }
            },
            "type": "bar"
           }
          ],
          "barpolar": [
           {
            "marker": {
             "line": {
              "color": "#E5ECF6",
              "width": 0.5
             },
             "pattern": {
              "fillmode": "overlay",
              "size": 10,
              "solidity": 0.2
             }
            },
            "type": "barpolar"
           }
          ],
          "carpet": [
           {
            "aaxis": {
             "endlinecolor": "#2a3f5f",
             "gridcolor": "white",
             "linecolor": "white",
             "minorgridcolor": "white",
             "startlinecolor": "#2a3f5f"
            },
            "baxis": {
             "endlinecolor": "#2a3f5f",
             "gridcolor": "white",
             "linecolor": "white",
             "minorgridcolor": "white",
             "startlinecolor": "#2a3f5f"
            },
            "type": "carpet"
           }
          ],
          "choropleth": [
           {
            "colorbar": {
             "outlinewidth": 0,
             "ticks": ""
            },
            "type": "choropleth"
           }
          ],
          "contour": [
           {
            "colorbar": {
             "outlinewidth": 0,
             "ticks": ""
            },
            "colorscale": [
             [
              0,
              "#0d0887"
             ],
             [
              0.1111111111111111,
              "#46039f"
             ],
             [
              0.2222222222222222,
              "#7201a8"
             ],
             [
              0.3333333333333333,
              "#9c179e"
             ],
             [
              0.4444444444444444,
              "#bd3786"
             ],
             [
              0.5555555555555556,
              "#d8576b"
             ],
             [
              0.6666666666666666,
              "#ed7953"
             ],
             [
              0.7777777777777778,
              "#fb9f3a"
             ],
             [
              0.8888888888888888,
              "#fdca26"
             ],
             [
              1,
              "#f0f921"
             ]
            ],
            "type": "contour"
           }
          ],
          "contourcarpet": [
           {
            "colorbar": {
             "outlinewidth": 0,
             "ticks": ""
            },
            "type": "contourcarpet"
           }
          ],
          "heatmap": [
           {
            "colorbar": {
             "outlinewidth": 0,
             "ticks": ""
            },
            "colorscale": [
             [
              0,
              "#0d0887"
             ],
             [
              0.1111111111111111,
              "#46039f"
             ],
             [
              0.2222222222222222,
              "#7201a8"
             ],
             [
              0.3333333333333333,
              "#9c179e"
             ],
             [
              0.4444444444444444,
              "#bd3786"
             ],
             [
              0.5555555555555556,
              "#d8576b"
             ],
             [
              0.6666666666666666,
              "#ed7953"
             ],
             [
              0.7777777777777778,
              "#fb9f3a"
             ],
             [
              0.8888888888888888,
              "#fdca26"
             ],
             [
              1,
              "#f0f921"
             ]
            ],
            "type": "heatmap"
           }
          ],
          "heatmapgl": [
           {
            "colorbar": {
             "outlinewidth": 0,
             "ticks": ""
            },
            "colorscale": [
             [
              0,
              "#0d0887"
             ],
             [
              0.1111111111111111,
              "#46039f"
             ],
             [
              0.2222222222222222,
              "#7201a8"
             ],
             [
              0.3333333333333333,
              "#9c179e"
             ],
             [
              0.4444444444444444,
              "#bd3786"
             ],
             [
              0.5555555555555556,
              "#d8576b"
             ],
             [
              0.6666666666666666,
              "#ed7953"
             ],
             [
              0.7777777777777778,
              "#fb9f3a"
             ],
             [
              0.8888888888888888,
              "#fdca26"
             ],
             [
              1,
              "#f0f921"
             ]
            ],
            "type": "heatmapgl"
           }
          ],
          "histogram": [
           {
            "marker": {
             "pattern": {
              "fillmode": "overlay",
              "size": 10,
              "solidity": 0.2
             }
            },
            "type": "histogram"
           }
          ],
          "histogram2d": [
           {
            "colorbar": {
             "outlinewidth": 0,
             "ticks": ""
            },
            "colorscale": [
             [
              0,
              "#0d0887"
             ],
             [
              0.1111111111111111,
              "#46039f"
             ],
             [
              0.2222222222222222,
              "#7201a8"
             ],
             [
              0.3333333333333333,
              "#9c179e"
             ],
             [
              0.4444444444444444,
              "#bd3786"
             ],
             [
              0.5555555555555556,
              "#d8576b"
             ],
             [
              0.6666666666666666,
              "#ed7953"
             ],
             [
              0.7777777777777778,
              "#fb9f3a"
             ],
             [
              0.8888888888888888,
              "#fdca26"
             ],
             [
              1,
              "#f0f921"
             ]
            ],
            "type": "histogram2d"
           }
          ],
          "histogram2dcontour": [
           {
            "colorbar": {
             "outlinewidth": 0,
             "ticks": ""
            },
            "colorscale": [
             [
              0,
              "#0d0887"
             ],
             [
              0.1111111111111111,
              "#46039f"
             ],
             [
              0.2222222222222222,
              "#7201a8"
             ],
             [
              0.3333333333333333,
              "#9c179e"
             ],
             [
              0.4444444444444444,
              "#bd3786"
             ],
             [
              0.5555555555555556,
              "#d8576b"
             ],
             [
              0.6666666666666666,
              "#ed7953"
             ],
             [
              0.7777777777777778,
              "#fb9f3a"
             ],
             [
              0.8888888888888888,
              "#fdca26"
             ],
             [
              1,
              "#f0f921"
             ]
            ],
            "type": "histogram2dcontour"
           }
          ],
          "mesh3d": [
           {
            "colorbar": {
             "outlinewidth": 0,
             "ticks": ""
            },
            "type": "mesh3d"
           }
          ],
          "parcoords": [
           {
            "line": {
             "colorbar": {
              "outlinewidth": 0,
              "ticks": ""
             }
            },
            "type": "parcoords"
           }
          ],
          "pie": [
           {
            "automargin": true,
            "type": "pie"
           }
          ],
          "scatter": [
           {
            "marker": {
             "colorbar": {
              "outlinewidth": 0,
              "ticks": ""
             }
            },
            "type": "scatter"
           }
          ],
          "scatter3d": [
           {
            "line": {
             "colorbar": {
              "outlinewidth": 0,
              "ticks": ""
             }
            },
            "marker": {
             "colorbar": {
              "outlinewidth": 0,
              "ticks": ""
             }
            },
            "type": "scatter3d"
           }
          ],
          "scattercarpet": [
           {
            "marker": {
             "colorbar": {
              "outlinewidth": 0,
              "ticks": ""
             }
            },
            "type": "scattercarpet"
           }
          ],
          "scattergeo": [
           {
            "marker": {
             "colorbar": {
              "outlinewidth": 0,
              "ticks": ""
             }
            },
            "type": "scattergeo"
           }
          ],
          "scattergl": [
           {
            "marker": {
             "colorbar": {
              "outlinewidth": 0,
              "ticks": ""
             }
            },
            "type": "scattergl"
           }
          ],
          "scattermapbox": [
           {
            "marker": {
             "colorbar": {
              "outlinewidth": 0,
              "ticks": ""
             }
            },
            "type": "scattermapbox"
           }
          ],
          "scatterpolar": [
           {
            "marker": {
             "colorbar": {
              "outlinewidth": 0,
              "ticks": ""
             }
            },
            "type": "scatterpolar"
           }
          ],
          "scatterpolargl": [
           {
            "marker": {
             "colorbar": {
              "outlinewidth": 0,
              "ticks": ""
             }
            },
            "type": "scatterpolargl"
           }
          ],
          "scatterternary": [
           {
            "marker": {
             "colorbar": {
              "outlinewidth": 0,
              "ticks": ""
             }
            },
            "type": "scatterternary"
           }
          ],
          "surface": [
           {
            "colorbar": {
             "outlinewidth": 0,
             "ticks": ""
            },
            "colorscale": [
             [
              0,
              "#0d0887"
             ],
             [
              0.1111111111111111,
              "#46039f"
             ],
             [
              0.2222222222222222,
              "#7201a8"
             ],
             [
              0.3333333333333333,
              "#9c179e"
             ],
             [
              0.4444444444444444,
              "#bd3786"
             ],
             [
              0.5555555555555556,
              "#d8576b"
             ],
             [
              0.6666666666666666,
              "#ed7953"
             ],
             [
              0.7777777777777778,
              "#fb9f3a"
             ],
             [
              0.8888888888888888,
              "#fdca26"
             ],
             [
              1,
              "#f0f921"
             ]
            ],
            "type": "surface"
           }
          ],
          "table": [
           {
            "cells": {
             "fill": {
              "color": "#EBF0F8"
             },
             "line": {
              "color": "white"
             }
            },
            "header": {
             "fill": {
              "color": "#C8D4E3"
             },
             "line": {
              "color": "white"
             }
            },
            "type": "table"
           }
          ]
         },
         "layout": {
          "annotationdefaults": {
           "arrowcolor": "#2a3f5f",
           "arrowhead": 0,
           "arrowwidth": 1
          },
          "autotypenumbers": "strict",
          "coloraxis": {
           "colorbar": {
            "outlinewidth": 0,
            "ticks": ""
           }
          },
          "colorscale": {
           "diverging": [
            [
             0,
             "#8e0152"
            ],
            [
             0.1,
             "#c51b7d"
            ],
            [
             0.2,
             "#de77ae"
            ],
            [
             0.3,
             "#f1b6da"
            ],
            [
             0.4,
             "#fde0ef"
            ],
            [
             0.5,
             "#f7f7f7"
            ],
            [
             0.6,
             "#e6f5d0"
            ],
            [
             0.7,
             "#b8e186"
            ],
            [
             0.8,
             "#7fbc41"
            ],
            [
             0.9,
             "#4d9221"
            ],
            [
             1,
             "#276419"
            ]
           ],
           "sequential": [
            [
             0,
             "#0d0887"
            ],
            [
             0.1111111111111111,
             "#46039f"
            ],
            [
             0.2222222222222222,
             "#7201a8"
            ],
            [
             0.3333333333333333,
             "#9c179e"
            ],
            [
             0.4444444444444444,
             "#bd3786"
            ],
            [
             0.5555555555555556,
             "#d8576b"
            ],
            [
             0.6666666666666666,
             "#ed7953"
            ],
            [
             0.7777777777777778,
             "#fb9f3a"
            ],
            [
             0.8888888888888888,
             "#fdca26"
            ],
            [
             1,
             "#f0f921"
            ]
           ],
           "sequentialminus": [
            [
             0,
             "#0d0887"
            ],
            [
             0.1111111111111111,
             "#46039f"
            ],
            [
             0.2222222222222222,
             "#7201a8"
            ],
            [
             0.3333333333333333,
             "#9c179e"
            ],
            [
             0.4444444444444444,
             "#bd3786"
            ],
            [
             0.5555555555555556,
             "#d8576b"
            ],
            [
             0.6666666666666666,
             "#ed7953"
            ],
            [
             0.7777777777777778,
             "#fb9f3a"
            ],
            [
             0.8888888888888888,
             "#fdca26"
            ],
            [
             1,
             "#f0f921"
            ]
           ]
          },
          "colorway": [
           "#636efa",
           "#EF553B",
           "#00cc96",
           "#ab63fa",
           "#FFA15A",
           "#19d3f3",
           "#FF6692",
           "#B6E880",
           "#FF97FF",
           "#FECB52"
          ],
          "font": {
           "color": "#2a3f5f"
          },
          "geo": {
           "bgcolor": "white",
           "lakecolor": "white",
           "landcolor": "#E5ECF6",
           "showlakes": true,
           "showland": true,
           "subunitcolor": "white"
          },
          "hoverlabel": {
           "align": "left"
          },
          "hovermode": "closest",
          "mapbox": {
           "style": "light"
          },
          "paper_bgcolor": "white",
          "plot_bgcolor": "#E5ECF6",
          "polar": {
           "angularaxis": {
            "gridcolor": "white",
            "linecolor": "white",
            "ticks": ""
           },
           "bgcolor": "#E5ECF6",
           "radialaxis": {
            "gridcolor": "white",
            "linecolor": "white",
            "ticks": ""
           }
          },
          "scene": {
           "xaxis": {
            "backgroundcolor": "#E5ECF6",
            "gridcolor": "white",
            "gridwidth": 2,
            "linecolor": "white",
            "showbackground": true,
            "ticks": "",
            "zerolinecolor": "white"
           },
           "yaxis": {
            "backgroundcolor": "#E5ECF6",
            "gridcolor": "white",
            "gridwidth": 2,
            "linecolor": "white",
            "showbackground": true,
            "ticks": "",
            "zerolinecolor": "white"
           },
           "zaxis": {
            "backgroundcolor": "#E5ECF6",
            "gridcolor": "white",
            "gridwidth": 2,
            "linecolor": "white",
            "showbackground": true,
            "ticks": "",
            "zerolinecolor": "white"
           }
          },
          "shapedefaults": {
           "line": {
            "color": "#2a3f5f"
           }
          },
          "ternary": {
           "aaxis": {
            "gridcolor": "white",
            "linecolor": "white",
            "ticks": ""
           },
           "baxis": {
            "gridcolor": "white",
            "linecolor": "white",
            "ticks": ""
           },
           "bgcolor": "#E5ECF6",
           "caxis": {
            "gridcolor": "white",
            "linecolor": "white",
            "ticks": ""
           }
          },
          "title": {
           "x": 0.05
          },
          "xaxis": {
           "automargin": true,
           "gridcolor": "white",
           "linecolor": "white",
           "ticks": "",
           "title": {
            "standoff": 15
           },
           "zerolinecolor": "white",
           "zerolinewidth": 2
          },
          "yaxis": {
           "automargin": true,
           "gridcolor": "white",
           "linecolor": "white",
           "ticks": "",
           "title": {
            "standoff": 15
           },
           "zerolinecolor": "white",
           "zerolinewidth": 2
          }
         }
        },
        "title": {
         "text": "calibrated  gyro"
        }
       }
      },
      "text/html": [
       "<div>                            <div id=\"6ed87c31-b5f9-4388-bb22-dc95c7d2ede6\" class=\"plotly-graph-div\" style=\"height:525px; width:100%;\"></div>            <script type=\"text/javascript\">                require([\"plotly\"], function(Plotly) {                    window.PLOTLYENV=window.PLOTLYENV || {};                                    if (document.getElementById(\"6ed87c31-b5f9-4388-bb22-dc95c7d2ede6\")) {                    Plotly.newPlot(                        \"6ed87c31-b5f9-4388-bb22-dc95c7d2ede6\",                        [{\"name\":\"lb_gx\",\"x\":[0,1,2,3,4,5,6,7,8,9,10,11,12,13,14,15,16,17,18,19,20,21,22,23,24,25,26,27,28,29,30,31,32,33,34,35,36,37,38,39,40,41,42,43,44,45,46,47,48,49,50,51,52,53,54,55,56,57,58,59,60,61,62,63,64,65,66,67,68,69,70,71,72,73,74,75,76,77,78,79,80,81,82,83,84,85,86,87,88,89,90,91,92,93,94,95,96,97,98,99,100,101,102,103,104,105,106,107,108,109,110,111,112,113,114,115,116,117,118,119,120,121,122,123,124,125,126,127,128,129],\"y\":[-0.005046041420765021,-0.015704541420765022,0.00014997857923497449,0.00454664857923498,-0.004779581420765025,-0.0003829414207650178,0.0005496685792349826,-0.006778051420765027,-0.004513121420765029,-0.005312511420765026,-0.009176211420765024,0.00014997857923497449,-0.0013155614207650268,-0.009575901420765018,-0.008643291420765017,-0.005578961420765027,-0.0009158814207650273,0.00201520857923497,-0.0015820314207650177,-0.005312511420765026,-0.0038469714207650246,-0.002914331420765026,-0.00238141142076502,-0.00011649142076503027,-0.004113421420765026,-0.0011823314207650287,0.005212748579234983,0.010009048579234972,-0.00011649142076503027,0.0006828985792349807,0.0021484485792349767,-0.00238141142076502,-0.005845431420765018,-0.008376821420765027,-0.008243591420765028,-0.003713721420765023,-0.0006494114207650226,-0.0025146514207650267,0.004146948579234977,0.007211248579234969,0.022932548579234976,0.014938648579234978,0.004013648579234974,0.003214288579234975,-0.002914331420765026,-0.006644821420765029,-0.005046041420765021,0.0056124485792349715,0.009742648579234972,0.00694474857923498,0.007477648579234969,0.00201520857923497,0.002681368579234969,-0.0007826414207650206,-0.0010491014207650307,-0.004513121420765029,-0.010774981420765023,-0.011974071420765023,-0.007044501420765029,-0.002114951420765024,0.008143848579234975,0.00907644857923498,0.00028320857923497256,0.007078048579234969,0.003880448579234974,0.010675248579234978,0.005079548579234983,-0.011041451420765028,-0.005578961420765027,-0.0014488014207650196,0.004413348579234977,-0.005312511420765026,0.0029478385792349737,-0.003713721420765023,-0.007710661420765028,-0.0031808114207650257,-0.00011649142076503027,-0.003447261420765027,0.007211248579234969,0.012806948579234978,0.004280148579234977,-0.0005161814207650245,-0.0005161814207650245,0.0016155285792349705,-0.0030475614207650242,-0.006378351420765024,0.0013490585792349796,-0.0015820314207650177,-0.006111901420765023,0.0005496685792349826,0.004946348579234983,-0.00264787142076503,-0.004113421420765026,0.009875848579234972,0.008143848579234975,0.00454664857923498,0.006411848579234977,-0.005845431420765018,-0.005578961420765027,-0.0033140414207650237,-0.0007826414207650206,0.0004164285792349759,-0.0006494114207650226,0.001881978579234972,0.00028320857923497256,0.00467984857923498,0.001881978579234972,-0.005978671420765025,0.0004164285792349759,0.006278648579234977,-0.0025146514207650267,0.007610948579234972,0.002681368579234969,0.0004164285792349759,0.003613988579234978,0.0014822985792349724,0.00348075857923498,0.0016155285792349705,0.002681368579234969,0.004280148579234977,0.0004164285792349759,-0.003980201420765023,-0.0018485014207650224,0.005878948579234974,0.003880448579234974,0.004946348579234983,0.002681368579234969,0.0028146085792349756,-0.0015820314207650177,0.005079548579234983],\"type\":\"scatter\"},{\"name\":\"lb_gy\",\"x\":[0,1,2,3,4,5,6,7,8,9,10,11,12,13,14,15,16,17,18,19,20,21,22,23,24,25,26,27,28,29,30,31,32,33,34,35,36,37,38,39,40,41,42,43,44,45,46,47,48,49,50,51,52,53,54,55,56,57,58,59,60,61,62,63,64,65,66,67,68,69,70,71,72,73,74,75,76,77,78,79,80,81,82,83,84,85,86,87,88,89,90,91,92,93,94,95,96,97,98,99,100,101,102,103,104,105,106,107,108,109,110,111,112,113,114,115,116,117,118,119,120,121,122,123,124,125,126,127,128,129],\"y\":[-0.016979349890710385,0.001406570109289615,-0.0013912798907103827,0.007002280109289612,0.009267220109289619,0.007135520109289618,0.013397380109289612,0.007668440109289611,0.0036715001092896132,0.02338973010928961,0.005137050109289616,0.009800140109289611,0.015529080109289613,0.0058032001092896204,0.0036715001092896132,0.002339190109289617,0.003804740109289613,-0.0028568298907103856,-0.0023238998907103847,0.006336130109289621,0.007135520109289618,0.011398920109289619,-0.00032542989071038253,-0.006054379890710386,0.007668440109289611,0.004204430109289614,0.002872120109289618,-0.008319309890710384,-0.003922679890710386,-0.00032542989071038253,0.005403510109289612,-0.0011248198907103865,-0.006187609890710384,-0.00045865989071038754,0.002339190109289617,0.0048705801092896114,0.01939279010928962,0.006469360109289619,0.011798610109289613,-0.0005918898907103856,0.027519890109289617,0.003538280109289617,0.03791193010928961,0.009666910109289613,0.019659250109289615,-0.025106449890710383,0.006069670109289611,-0.021908899890710383,-0.0008583598907103834,-0.007519919890710387,-0.002990049890710382,-0.022575049890710387,-0.013515329890710387,-0.0016577398907103857,-0.011117169890710384,-0.01604671989071039,0.006202900109289609,0.011798610109289613,-0.00032542989071038253,0.010599530109289608,0.02152449010928962,-0.006320839890710382,0.0008736501092896157,-0.004322369890710387,0.003804740109289613,-0.0009915898907103884,-0.009784859890710387,0.012065080109289618,-0.0011248198907103865,-0.0008583598907103834,0.0012733501092896116,-0.005921139890710386,0.011798610109289613,0.013130920109289616,0.006869050109289614,-0.014048259890710388,-0.021109509890710386,0.004071200109289616,-0.007519919890710387,-0.012049789890710386,-0.010184549890710388,0.0019395001092896158,-0.0031232998907103834,0.002072730109289614,-0.010717469890710388,0.003538280109289617,-0.0016577398907103857,0.004204430109289614,-0.009918089890710385,0.00034072010928961477,0.005003820109289618,0.010199830109289619,-0.0007251298907103854,0.003937970109289611,-0.014314709890710382,-0.025905839890710387,-0.016979349890710385,-0.005388219890710387,-0.003389749890710385,-0.010184549890710388,-0.0009915898907103884,-0.003522979890710383,0.00047395010928961284,-0.0031232998907103834,0.0026056601092896148,-0.005521449890710385,-0.019111039890710384,0.003138580109289614,0.0015398101092896146,-0.009518389890710383,0.005137050109289616,-0.0028568298907103856,0.003804740109289613,0.0002074901092896167,-0.005521449890710385,-0.007120229890710386,-0.004588829890710383,-0.008186079890710386,-0.0008583598907103834,0.0036715001092896132,-0.008852239890710385,0.001140100109289617,0.001406570109289615,-0.012582709890710385,-0.005521449890710385,0.006469360109289619,-0.005921139890710386,-0.0016577398907103857,0.006336130109289621,-0.008186079890710386],\"type\":\"scatter\"},{\"name\":\"lb_gz\",\"x\":[0,1,2,3,4,5,6,7,8,9,10,11,12,13,14,15,16,17,18,19,20,21,22,23,24,25,26,27,28,29,30,31,32,33,34,35,36,37,38,39,40,41,42,43,44,45,46,47,48,49,50,51,52,53,54,55,56,57,58,59,60,61,62,63,64,65,66,67,68,69,70,71,72,73,74,75,76,77,78,79,80,81,82,83,84,85,86,87,88,89,90,91,92,93,94,95,96,97,98,99,100,101,102,103,104,105,106,107,108,109,110,111,112,113,114,115,116,117,118,119,120,121,122,123,124,125,126,127,128,129],\"y\":[0.00039241280765027475,0.007053972807650275,0.0002591828076502767,-0.007334999192349723,0.0037231928076502767,0.004655812807650275,-0.001073127192349723,0.005188732807650278,0.001724722807650278,0.009318902807650277,0.004122892807650276,0.0009253428076502757,0.0061213528076502766,0.013182612807650276,0.007586902807650276,0.003057042807650276,-0.006402380192349724,-0.007734693192349724,-0.0029383671923497237,0.004522582807650277,0.0013250328076502768,0.007720132807650278,0.005055502807650276,-0.0025386771923497243,0.0005256428076502763,0.002923802807650276,0.00039241280765027475,-0.006135918192349724,0.0015914928076502764,0.00039241280765027475,0.0006588728076502778,0.005188732807650278,0.011450602807650277,0.018778322807650277,0.007586902807650276,0.005588432807650277,0.010517982807650275,0.007053972807650275,0.0005256428076502763,-0.016394724792349723,-0.018126731192349723,-0.019459044192349725,-0.0020057471923497234,-0.010665781192349724,0.0022576528076502754,-0.011065474192349723,-0.005869455192349724,-0.023056287192349725,-0.022256900192349723,-0.03424771719234972,-0.008001156192349724,-0.0042706771923497235,-0.002671907192349724,0.006254592807650276,0.007453672807650278,0.011983532807650275,0.020377102807650278,0.02890390280765028,0.027438362807650277,0.013449072807650276,0.009985062807650276,0.0027905728076502746,0.0021244228076502773,-0.004137447192349724,-0.004004217192349724,-0.013063943192349724,-0.014929180892349724,0.011983532807650275,0.005854892807650277,-0.003338057192349723,-0.008134387192349723,-0.0006734371923497236,0.0021244228076502773,-0.0025386771923497243,0.007586902807650276,-0.008667312192349723,-0.015328874692349724,-0.006802075192349724,-0.019192581192349723,-0.009200236192349723,-0.012397787192349723,-0.0057362241923497245,-0.0018725171923497236,-0.007734693192349724,-0.002138977192349723,0.0026573428076502766,-0.005869455192349724,0.0006588728076502778,-0.006269149192349725,-0.011331937192349723,-0.011598399192349724,0.003057042807650276,0.0022576528076502754,-0.005869455192349724,-0.014129793192349725,-0.008667312192349723,-0.0046703771923497246,-0.002671907192349724,0.004256122807650278,0.008919212807650276,0.008386292807650277,0.005588432807650277,0.0031902728076502775,0.006254592807650276,0.004789042807650277,0.0037231928076502767,0.004122892807650276,0.0002591828076502767,0.004922272807650275,-0.013063943192349724,-0.005469757192349723,-0.004403907192349723,-0.002138977192349723,0.0006588728076502778,0.002390882807650277,0.002524112807650275,0.003057042807650276,0.005455202807650276,0.0009253428076502757,-0.005336527192349724,0.0061213528076502766,0.005854892807650277,0.0037231928076502767,-0.0014728271923497242,0.004655812807650275,-0.001073127192349723,-0.003870987192349724,0.0007921028076502759,-0.001073127192349723,-0.002272207192349723],\"type\":\"scatter\"}],                        {\"template\":{\"data\":{\"bar\":[{\"error_x\":{\"color\":\"#2a3f5f\"},\"error_y\":{\"color\":\"#2a3f5f\"},\"marker\":{\"line\":{\"color\":\"#E5ECF6\",\"width\":0.5},\"pattern\":{\"fillmode\":\"overlay\",\"size\":10,\"solidity\":0.2}},\"type\":\"bar\"}],\"barpolar\":[{\"marker\":{\"line\":{\"color\":\"#E5ECF6\",\"width\":0.5},\"pattern\":{\"fillmode\":\"overlay\",\"size\":10,\"solidity\":0.2}},\"type\":\"barpolar\"}],\"carpet\":[{\"aaxis\":{\"endlinecolor\":\"#2a3f5f\",\"gridcolor\":\"white\",\"linecolor\":\"white\",\"minorgridcolor\":\"white\",\"startlinecolor\":\"#2a3f5f\"},\"baxis\":{\"endlinecolor\":\"#2a3f5f\",\"gridcolor\":\"white\",\"linecolor\":\"white\",\"minorgridcolor\":\"white\",\"startlinecolor\":\"#2a3f5f\"},\"type\":\"carpet\"}],\"choropleth\":[{\"colorbar\":{\"outlinewidth\":0,\"ticks\":\"\"},\"type\":\"choropleth\"}],\"contour\":[{\"colorbar\":{\"outlinewidth\":0,\"ticks\":\"\"},\"colorscale\":[[0.0,\"#0d0887\"],[0.1111111111111111,\"#46039f\"],[0.2222222222222222,\"#7201a8\"],[0.3333333333333333,\"#9c179e\"],[0.4444444444444444,\"#bd3786\"],[0.5555555555555556,\"#d8576b\"],[0.6666666666666666,\"#ed7953\"],[0.7777777777777778,\"#fb9f3a\"],[0.8888888888888888,\"#fdca26\"],[1.0,\"#f0f921\"]],\"type\":\"contour\"}],\"contourcarpet\":[{\"colorbar\":{\"outlinewidth\":0,\"ticks\":\"\"},\"type\":\"contourcarpet\"}],\"heatmap\":[{\"colorbar\":{\"outlinewidth\":0,\"ticks\":\"\"},\"colorscale\":[[0.0,\"#0d0887\"],[0.1111111111111111,\"#46039f\"],[0.2222222222222222,\"#7201a8\"],[0.3333333333333333,\"#9c179e\"],[0.4444444444444444,\"#bd3786\"],[0.5555555555555556,\"#d8576b\"],[0.6666666666666666,\"#ed7953\"],[0.7777777777777778,\"#fb9f3a\"],[0.8888888888888888,\"#fdca26\"],[1.0,\"#f0f921\"]],\"type\":\"heatmap\"}],\"heatmapgl\":[{\"colorbar\":{\"outlinewidth\":0,\"ticks\":\"\"},\"colorscale\":[[0.0,\"#0d0887\"],[0.1111111111111111,\"#46039f\"],[0.2222222222222222,\"#7201a8\"],[0.3333333333333333,\"#9c179e\"],[0.4444444444444444,\"#bd3786\"],[0.5555555555555556,\"#d8576b\"],[0.6666666666666666,\"#ed7953\"],[0.7777777777777778,\"#fb9f3a\"],[0.8888888888888888,\"#fdca26\"],[1.0,\"#f0f921\"]],\"type\":\"heatmapgl\"}],\"histogram\":[{\"marker\":{\"pattern\":{\"fillmode\":\"overlay\",\"size\":10,\"solidity\":0.2}},\"type\":\"histogram\"}],\"histogram2d\":[{\"colorbar\":{\"outlinewidth\":0,\"ticks\":\"\"},\"colorscale\":[[0.0,\"#0d0887\"],[0.1111111111111111,\"#46039f\"],[0.2222222222222222,\"#7201a8\"],[0.3333333333333333,\"#9c179e\"],[0.4444444444444444,\"#bd3786\"],[0.5555555555555556,\"#d8576b\"],[0.6666666666666666,\"#ed7953\"],[0.7777777777777778,\"#fb9f3a\"],[0.8888888888888888,\"#fdca26\"],[1.0,\"#f0f921\"]],\"type\":\"histogram2d\"}],\"histogram2dcontour\":[{\"colorbar\":{\"outlinewidth\":0,\"ticks\":\"\"},\"colorscale\":[[0.0,\"#0d0887\"],[0.1111111111111111,\"#46039f\"],[0.2222222222222222,\"#7201a8\"],[0.3333333333333333,\"#9c179e\"],[0.4444444444444444,\"#bd3786\"],[0.5555555555555556,\"#d8576b\"],[0.6666666666666666,\"#ed7953\"],[0.7777777777777778,\"#fb9f3a\"],[0.8888888888888888,\"#fdca26\"],[1.0,\"#f0f921\"]],\"type\":\"histogram2dcontour\"}],\"mesh3d\":[{\"colorbar\":{\"outlinewidth\":0,\"ticks\":\"\"},\"type\":\"mesh3d\"}],\"parcoords\":[{\"line\":{\"colorbar\":{\"outlinewidth\":0,\"ticks\":\"\"}},\"type\":\"parcoords\"}],\"pie\":[{\"automargin\":true,\"type\":\"pie\"}],\"scatter\":[{\"marker\":{\"colorbar\":{\"outlinewidth\":0,\"ticks\":\"\"}},\"type\":\"scatter\"}],\"scatter3d\":[{\"line\":{\"colorbar\":{\"outlinewidth\":0,\"ticks\":\"\"}},\"marker\":{\"colorbar\":{\"outlinewidth\":0,\"ticks\":\"\"}},\"type\":\"scatter3d\"}],\"scattercarpet\":[{\"marker\":{\"colorbar\":{\"outlinewidth\":0,\"ticks\":\"\"}},\"type\":\"scattercarpet\"}],\"scattergeo\":[{\"marker\":{\"colorbar\":{\"outlinewidth\":0,\"ticks\":\"\"}},\"type\":\"scattergeo\"}],\"scattergl\":[{\"marker\":{\"colorbar\":{\"outlinewidth\":0,\"ticks\":\"\"}},\"type\":\"scattergl\"}],\"scattermapbox\":[{\"marker\":{\"colorbar\":{\"outlinewidth\":0,\"ticks\":\"\"}},\"type\":\"scattermapbox\"}],\"scatterpolar\":[{\"marker\":{\"colorbar\":{\"outlinewidth\":0,\"ticks\":\"\"}},\"type\":\"scatterpolar\"}],\"scatterpolargl\":[{\"marker\":{\"colorbar\":{\"outlinewidth\":0,\"ticks\":\"\"}},\"type\":\"scatterpolargl\"}],\"scatterternary\":[{\"marker\":{\"colorbar\":{\"outlinewidth\":0,\"ticks\":\"\"}},\"type\":\"scatterternary\"}],\"surface\":[{\"colorbar\":{\"outlinewidth\":0,\"ticks\":\"\"},\"colorscale\":[[0.0,\"#0d0887\"],[0.1111111111111111,\"#46039f\"],[0.2222222222222222,\"#7201a8\"],[0.3333333333333333,\"#9c179e\"],[0.4444444444444444,\"#bd3786\"],[0.5555555555555556,\"#d8576b\"],[0.6666666666666666,\"#ed7953\"],[0.7777777777777778,\"#fb9f3a\"],[0.8888888888888888,\"#fdca26\"],[1.0,\"#f0f921\"]],\"type\":\"surface\"}],\"table\":[{\"cells\":{\"fill\":{\"color\":\"#EBF0F8\"},\"line\":{\"color\":\"white\"}},\"header\":{\"fill\":{\"color\":\"#C8D4E3\"},\"line\":{\"color\":\"white\"}},\"type\":\"table\"}]},\"layout\":{\"annotationdefaults\":{\"arrowcolor\":\"#2a3f5f\",\"arrowhead\":0,\"arrowwidth\":1},\"autotypenumbers\":\"strict\",\"coloraxis\":{\"colorbar\":{\"outlinewidth\":0,\"ticks\":\"\"}},\"colorscale\":{\"diverging\":[[0,\"#8e0152\"],[0.1,\"#c51b7d\"],[0.2,\"#de77ae\"],[0.3,\"#f1b6da\"],[0.4,\"#fde0ef\"],[0.5,\"#f7f7f7\"],[0.6,\"#e6f5d0\"],[0.7,\"#b8e186\"],[0.8,\"#7fbc41\"],[0.9,\"#4d9221\"],[1,\"#276419\"]],\"sequential\":[[0.0,\"#0d0887\"],[0.1111111111111111,\"#46039f\"],[0.2222222222222222,\"#7201a8\"],[0.3333333333333333,\"#9c179e\"],[0.4444444444444444,\"#bd3786\"],[0.5555555555555556,\"#d8576b\"],[0.6666666666666666,\"#ed7953\"],[0.7777777777777778,\"#fb9f3a\"],[0.8888888888888888,\"#fdca26\"],[1.0,\"#f0f921\"]],\"sequentialminus\":[[0.0,\"#0d0887\"],[0.1111111111111111,\"#46039f\"],[0.2222222222222222,\"#7201a8\"],[0.3333333333333333,\"#9c179e\"],[0.4444444444444444,\"#bd3786\"],[0.5555555555555556,\"#d8576b\"],[0.6666666666666666,\"#ed7953\"],[0.7777777777777778,\"#fb9f3a\"],[0.8888888888888888,\"#fdca26\"],[1.0,\"#f0f921\"]]},\"colorway\":[\"#636efa\",\"#EF553B\",\"#00cc96\",\"#ab63fa\",\"#FFA15A\",\"#19d3f3\",\"#FF6692\",\"#B6E880\",\"#FF97FF\",\"#FECB52\"],\"font\":{\"color\":\"#2a3f5f\"},\"geo\":{\"bgcolor\":\"white\",\"lakecolor\":\"white\",\"landcolor\":\"#E5ECF6\",\"showlakes\":true,\"showland\":true,\"subunitcolor\":\"white\"},\"hoverlabel\":{\"align\":\"left\"},\"hovermode\":\"closest\",\"mapbox\":{\"style\":\"light\"},\"paper_bgcolor\":\"white\",\"plot_bgcolor\":\"#E5ECF6\",\"polar\":{\"angularaxis\":{\"gridcolor\":\"white\",\"linecolor\":\"white\",\"ticks\":\"\"},\"bgcolor\":\"#E5ECF6\",\"radialaxis\":{\"gridcolor\":\"white\",\"linecolor\":\"white\",\"ticks\":\"\"}},\"scene\":{\"xaxis\":{\"backgroundcolor\":\"#E5ECF6\",\"gridcolor\":\"white\",\"gridwidth\":2,\"linecolor\":\"white\",\"showbackground\":true,\"ticks\":\"\",\"zerolinecolor\":\"white\"},\"yaxis\":{\"backgroundcolor\":\"#E5ECF6\",\"gridcolor\":\"white\",\"gridwidth\":2,\"linecolor\":\"white\",\"showbackground\":true,\"ticks\":\"\",\"zerolinecolor\":\"white\"},\"zaxis\":{\"backgroundcolor\":\"#E5ECF6\",\"gridcolor\":\"white\",\"gridwidth\":2,\"linecolor\":\"white\",\"showbackground\":true,\"ticks\":\"\",\"zerolinecolor\":\"white\"}},\"shapedefaults\":{\"line\":{\"color\":\"#2a3f5f\"}},\"ternary\":{\"aaxis\":{\"gridcolor\":\"white\",\"linecolor\":\"white\",\"ticks\":\"\"},\"baxis\":{\"gridcolor\":\"white\",\"linecolor\":\"white\",\"ticks\":\"\"},\"bgcolor\":\"#E5ECF6\",\"caxis\":{\"gridcolor\":\"white\",\"linecolor\":\"white\",\"ticks\":\"\"}},\"title\":{\"x\":0.05},\"xaxis\":{\"automargin\":true,\"gridcolor\":\"white\",\"linecolor\":\"white\",\"ticks\":\"\",\"title\":{\"standoff\":15},\"zerolinecolor\":\"white\",\"zerolinewidth\":2},\"yaxis\":{\"automargin\":true,\"gridcolor\":\"white\",\"linecolor\":\"white\",\"ticks\":\"\",\"title\":{\"standoff\":15},\"zerolinecolor\":\"white\",\"zerolinewidth\":2}}},\"title\":{\"text\":\"calibrated  gyro\"}},                        {\"responsive\": true}                    ).then(function(){\n",
       "                            \n",
       "var gd = document.getElementById('6ed87c31-b5f9-4388-bb22-dc95c7d2ede6');\n",
       "var x = new MutationObserver(function (mutations, observer) {{\n",
       "        var display = window.getComputedStyle(gd).display;\n",
       "        if (!display || display === 'none') {{\n",
       "            console.log([gd, 'removed!']);\n",
       "            Plotly.purge(gd);\n",
       "            observer.disconnect();\n",
       "        }}\n",
       "}});\n",
       "\n",
       "// Listen for the removal of the full notebook cells\n",
       "var notebookContainer = gd.closest('#notebook-container');\n",
       "if (notebookContainer) {{\n",
       "    x.observe(notebookContainer, {childList: true});\n",
       "}}\n",
       "\n",
       "// Listen for the clearing of the current output cell\n",
       "var outputEl = gd.closest('.output');\n",
       "if (outputEl) {{\n",
       "    x.observe(outputEl, {childList: true});\n",
       "}}\n",
       "\n",
       "                        })                };                });            </script>        </div>"
      ]
     },
     "metadata": {},
     "output_type": "display_data"
    }
   ],
   "source": [
    "name = 'Vadim'\n",
    "сalibration_set= read_csv_file(f'calibration/10_{name}.csv')\n",
    "\n",
    "\n",
    "filenames = next(walk(f'D:/Thesis/{name}/'), (None, None, []))[2]  # [] if no file\n",
    "filenames[0]\n",
    "for i in range(len(filenames)-30):\n",
    "    filename = f\"D:/Thesis/{name}/{filenames[i]}\"\n",
    "    print(filename)\n",
    "    IMU_set = read_csv_file(filename)\n",
    "    orientation_rb, orientation_rt, orientation_bb, orientation_bt, orientation_lb, orientation_lt = all_calibrate(сalibration_set,IMU_set)\n",
    "    ready_dataset = pd.concat([orientation_bt, orientation_bb, orientation_lt, orientation_lb, orientation_rt, orientation_rb],axis = 1)    \n",
    "#     print(ready_dataset)\n",
    "    ready_dataset.to_csv(f\"D:\\Thesis\\dataset\\lifting_orientation_{i}_0.csv\", sep=\",\")\n",
    "\n",
    "    \n",
    "# orientation_lb = find_orientation(calibrated_lb)\n",
    "# show_plot(orientation_rt,'Orientation left_bot sensor')\n",
    "\n",
    "# def all_find_orientations(calibrated_lb,):\n",
    "    \n",
    "# def all_calibrated(df):\n",
    "  \n",
    "# #первый фрейм калибровочный файл\n",
    "# calibrated_lb = calibration(lt_outl,lt_1)\n",
    "# #calibrated_lb = lb_1\n",
    "\n"
   ]
  },
  {
   "cell_type": "code",
   "execution_count": 129,
   "id": "7c4b3640",
   "metadata": {},
   "outputs": [
    {
     "data": {
      "application/vnd.plotly.v1+json": {
       "config": {
        "plotlyServerURL": "https://plot.ly"
       },
       "data": [
        {
         "name": "roll_lb",
         "type": "scatter",
         "x": [
          0,
          1,
          2,
          3,
          4,
          5,
          6,
          7,
          8,
          9,
          10,
          11,
          12,
          13,
          14,
          15,
          16,
          17,
          18,
          19,
          20,
          21,
          22,
          23,
          24,
          25,
          26,
          27,
          28,
          29,
          30,
          31,
          32,
          33,
          34,
          35,
          36,
          37,
          38,
          39,
          40,
          41,
          42,
          43,
          44,
          45,
          46,
          47,
          48,
          49,
          50,
          51,
          52,
          53,
          54,
          55,
          56,
          57,
          58,
          59,
          60,
          61,
          62,
          63,
          64,
          65,
          66,
          67,
          68,
          69,
          70,
          71,
          72,
          73,
          74,
          75,
          76,
          77,
          78,
          79,
          80,
          81,
          82,
          83,
          84,
          85,
          86,
          87,
          88,
          89,
          90,
          91,
          92,
          93,
          94,
          95,
          96,
          97,
          98,
          99,
          100,
          101,
          102,
          103,
          104,
          105,
          106,
          107,
          108,
          109,
          110,
          111,
          112,
          113,
          114,
          115,
          116,
          117,
          118,
          119,
          120,
          121,
          122,
          123,
          124,
          125,
          126,
          127,
          128,
          129,
          130,
          131,
          132,
          133,
          134,
          135,
          136,
          137,
          138,
          139,
          140,
          141,
          142,
          143,
          144,
          145,
          146,
          147,
          148,
          149,
          150,
          151,
          152,
          153,
          154,
          155,
          156,
          157,
          158,
          159,
          160,
          161,
          162,
          163,
          164,
          165,
          166,
          167,
          168,
          169,
          170,
          171,
          172,
          173,
          174,
          175,
          176,
          177,
          178,
          179,
          180,
          181,
          182
         ],
         "y": [
          -6.884477413115172,
          -13.71515563286004,
          -20.34609291859804,
          -26.78810649157225,
          -33.07812238347535,
          -39.17606222161195,
          -45.09172325874893,
          -50.863578086915005,
          -56.4752555807432,
          -61.93536252586259,
          -67.27186937492509,
          -72.44877584155445,
          -77.49774548898652,
          -82.4634854824035,
          -87.31409775341115,
          -92.05238428871736,
          -87.14734734300653,
          -91.61310569544676,
          -87.54054709822195,
          -91.46647445709736,
          -87.71709121469453,
          -90.96360965749064,
          -87.89913121663324,
          -91.24776072354167,
          -86.67040206917724,
          -91.09116473785993,
          -86.24062143839315,
          -90.7341783016502,
          -86.35807339984547,
          -90.58256997762832,
          -85.52687027769663,
          -90.260551762455,
          -85.26731655184406,
          -90.01441064769908,
          -86.62394004774231,
          -90.13819414325664,
          -87.39849460759201,
          -90.54103718847183,
          -90.41451644296184,
          -90.81027077233986,
          -87.97827645347228,
          -89.88594811010091,
          -92.1003480950131,
          -89.53398472672076,
          -91.69774913098064,
          -89.94572171315109,
          -93.10308346336606,
          -89.30940405928602,
          -93.68278491173167,
          -88.93403568635148,
          -93.35481933673628,
          -89.40853677125027,
          -92.00975537417328,
          -88.83175179711581,
          -93.16246211928322,
          -88.35036365886877,
          -93.03629403195532,
          -88.12615636787456,
          -92.86162832998792,
          -87.8617088064396,
          -92.48503325115855,
          -87.52951812995038,
          -91.40510269527806,
          -88.45788145301309,
          -90.99474846129664,
          -88.95560450476313,
          -90.82597138230228,
          -88.28751068473751,
          -91.4785652166466,
          -87.03391905605703,
          -91.44049200557352,
          -86.72115356625434,
          -91.02949072843712,
          -87.55714745039275,
          -90.84100781779192,
          -88.99037855841385,
          -90.33563191692132,
          -90.82819169324864,
          -90.15592866634243,
          -88.47672343384933,
          -90.5873601881228,
          -88.31103468263474,
          -90.1345988564086,
          -90.09582057653265,
          -89.92897828002255,
          -90.59877323285528,
          -89.49892544908039,
          -93.82880617658532,
          -88.97672887515499,
          -93.61753290109948,
          -88.6530685734785,
          -93.04961667700564,
          -89.08265962319496,
          -92.41544035876984,
          -88.53476634404132,
          -92.64476740978564,
          -88.15391487233782,
          -91.8114955852272,
          -88.31484526049452,
          -92.4625584818098,
          -87.5574052282695,
          -92.26363732905013,
          -87.29916569397106,
          -91.81960725945908,
          -87.74938890272577,
          -91.28090550855843,
          -87.86657721512233,
          -90.90741880126558,
          -87.55578910728808,
          -91.17037556266216,
          -86.94142353184469,
          -90.98885445323616,
          -87.01130456563286,
          -90.67498121857194,
          -88.18123327166509,
          -89.99552088399544,
          -91.57095615999194,
          -89.11582893761168,
          -92.7269059350504,
          -88.9483901136157,
          -93.35160986887772,
          -88.43398903332277,
          -93.09995456124986,
          -88.21310898873935,
          -92.76604037449404,
          -87.79797022456701,
          -92.43274671617064,
          -87.72487641136772,
          -91.95333681173136,
          -87.39877922893703,
          -91.67253228192612,
          -87.09556635501264,
          -91.5908180524868,
          -86.7883043067242,
          -91.46071681043573,
          -86.56815437901137,
          -91.13857918080684,
          -86.15476060405334,
          -90.82333696941149,
          -86.0172737111223,
          -90.76696644394173,
          -87.35900566811264,
          -90.715352607332,
          -86.46618806777595,
          -90.82925437336873,
          -86.32084350756656,
          -90.32260038105846,
          -88.86547179369119,
          -90.45271334395984,
          -85.47357940721803,
          -89.95453506516728,
          -91.97887591018998,
          -89.59283600395925,
          -90.4646485455198,
          -90.22195951350945,
          -88.45628816957951,
          -90.21216794200188,
          -86.3664354470357,
          -90.13243577333073,
          -85.10565972138774,
          -89.86814264802304,
          -89.68031672286688,
          -88.84983317729807,
          -93.381671231881,
          -88.53470073817354,
          -92.77737270297752,
          -88.29048645518586,
          -92.98810757976382,
          -87.98059122428039,
          -92.61440298735477,
          -87.62140976470351,
          -92.27359583554848,
          -87.55931689933934,
          -91.92118680284476,
          -87.1391414504531,
          -91.753735837317,
          -86.81776007202133,
          -91.31680433043122,
          -86.98193424891193,
          -91.44005609105388,
          -86.76109920450025,
          -91.08183854410906,
          -88.70363853785203
         ]
        },
        {
         "name": "pitch_lb",
         "type": "scatter",
         "x": [
          0,
          1,
          2,
          3,
          4,
          5,
          6,
          7,
          8,
          9,
          10,
          11,
          12,
          13,
          14,
          15,
          16,
          17,
          18,
          19,
          20,
          21,
          22,
          23,
          24,
          25,
          26,
          27,
          28,
          29,
          30,
          31,
          32,
          33,
          34,
          35,
          36,
          37,
          38,
          39,
          40,
          41,
          42,
          43,
          44,
          45,
          46,
          47,
          48,
          49,
          50,
          51,
          52,
          53,
          54,
          55,
          56,
          57,
          58,
          59,
          60,
          61,
          62,
          63,
          64,
          65,
          66,
          67,
          68,
          69,
          70,
          71,
          72,
          73,
          74,
          75,
          76,
          77,
          78,
          79,
          80,
          81,
          82,
          83,
          84,
          85,
          86,
          87,
          88,
          89,
          90,
          91,
          92,
          93,
          94,
          95,
          96,
          97,
          98,
          99,
          100,
          101,
          102,
          103,
          104,
          105,
          106,
          107,
          108,
          109,
          110,
          111,
          112,
          113,
          114,
          115,
          116,
          117,
          118,
          119,
          120,
          121,
          122,
          123,
          124,
          125,
          126,
          127,
          128,
          129,
          130,
          131,
          132,
          133,
          134,
          135,
          136,
          137,
          138,
          139,
          140,
          141,
          142,
          143,
          144,
          145,
          146,
          147,
          148,
          149,
          150,
          151,
          152,
          153,
          154,
          155,
          156,
          157,
          158,
          159,
          160,
          161,
          162,
          163,
          164,
          165,
          166,
          167,
          168,
          169,
          170,
          171,
          172,
          173,
          174,
          175,
          176,
          177,
          178,
          179,
          180,
          181,
          182
         ],
         "y": [
          0.0066083698883153,
          0.0449165418982713,
          0.0622261696564019,
          0.0431536701310981,
          0.0561998086665813,
          0.0701217852321818,
          0.0488545383139405,
          0.0564450926995063,
          0.0653043357578234,
          0.0292689068637955,
          0.027354718085816,
          0.0009873087118885,
          -0.0379604857920947,
          -0.0344672828739491,
          -0.0357461476910533,
          -0.0629983468648355,
          -0.1038349149225515,
          -0.0955741394957363,
          -0.1541010285219017,
          -0.1036302995407614,
          -0.2221274595476188,
          -0.1902937544978942,
          -0.2669827577691252,
          -0.1442006454479487,
          -0.2320647588384267,
          -0.17373257444071,
          -0.2431724232738687,
          -0.1615340647282341,
          -0.2554828127435211,
          -0.1376239715235797,
          -0.1290725073459254,
          -0.1453143592324711,
          -0.0876057277036179,
          -0.1200835695983812,
          0.0250421782581731,
          -0.1621602824554903,
          -0.3465579709412335,
          -0.218874048018515,
          -0.2520990591217965,
          -0.2754977859127886,
          -0.234642080713076,
          -0.3362003836222342,
          -0.5507188542967417,
          -0.4825551331103119,
          -0.6365590120434538,
          -0.4815741297438168,
          -0.5770573041349804,
          -0.3921304426904761,
          -0.4186218919524649,
          -0.3623212773533093,
          -0.1980665417852845,
          -0.1835503190247801,
          -0.0617072780089622,
          -0.1597596195251273,
          -0.0847813709799428,
          -0.1050495417277793,
          -0.0919854223756771,
          -0.1593470413581412,
          -0.1904236331343085,
          -0.1572563391429249,
          -0.2794675098576055,
          -0.3092564594464085,
          -0.3556946146514741,
          -0.3521381971233434,
          -0.3577695808339435,
          -0.3723302396923739,
          -0.3207208579533352,
          -0.3797801392472228,
          -0.3316004687843899,
          -0.3204950089202714,
          -0.2987321310867556,
          -0.3039468566898448,
          -0.3373837229242999,
          -0.4528968464678169,
          -0.4098843231536566,
          -0.4217106192032201,
          -0.3071443905637032,
          -0.3031167548712752,
          -0.2982954851317651,
          -0.3153629728650263,
          -0.1990616388945718,
          -0.2959155927679949,
          -0.2155149610007383,
          -0.2243542548512701,
          -0.195958563533183,
          -0.179020661057871,
          -0.2202912344680917,
          -0.2004766109095797,
          -0.2516488329548552,
          -0.2688986437517454,
          -0.2616790368610286,
          -0.189379855947634,
          -0.2222804943396838,
          -0.1902744032151258,
          -0.2038430073544271,
          -0.0851597494809054,
          -0.0685079244111702,
          0.0262218381586459,
          -0.0182705408978701,
          0.0179321136198934,
          -0.0540806508603648,
          -0.0147118739344397,
          -0.0179813340162924,
          0.027273591178781,
          0.0657171344826875,
          0.054682903483888,
          0.1684361365666466,
          0.121938657623327,
          0.1548937804389749,
          0.1181615344218267,
          0.1505229020275619,
          0.1026293999347208,
          0.1705683056378784,
          0.0969282142739616,
          0.2030086736221029,
          0.1683965023707619,
          0.1321023816369261,
          0.2506238528414533,
          0.1714368960318454,
          0.2373486564785281,
          0.2600910118892897,
          0.3152492447151479,
          0.2649359993303062,
          0.3236700313777258,
          0.330836388846954,
          0.3401570435944428,
          0.3343670112745922,
          0.3060317653642005,
          0.2926554680966796,
          0.3161572795391066,
          0.3741604798042083,
          0.3730808754058894,
          0.4228939561532908,
          0.405591088176077,
          0.4562130349370484,
          0.5622091131657472,
          0.504995649291321,
          0.5313455856923839,
          0.5057265342731933,
          0.5641579340352482,
          0.4904804074867304,
          0.4145227678314797,
          0.4769696387983954,
          0.3673456027319752,
          0.4556862114622749,
          0.5644932225451033,
          0.4949785672232421,
          0.5615285554038452,
          0.5061413000674936,
          0.4016424401255532,
          0.4944512170097132,
          0.624324714510255,
          0.5249881728059835,
          0.6119392435989536,
          0.5801300908551454,
          0.4681908242013373,
          0.5609972327369653,
          0.4351985122257675,
          0.59324194181706,
          0.5692506465975951,
          0.6698567665757545,
          0.7143809453966791,
          0.7630658549287237,
          0.7348827581657924,
          0.7595763458364132,
          0.6929084165869684,
          0.7924187541113172,
          0.8512468306142684,
          0.8605207414907522,
          0.8471254789907463,
          0.8174145044305445,
          0.7914717413865909,
          0.7964226539670396,
          0.7037417841204697,
          0.7171027181114918,
          0.6324973148711427,
          0.600111145117306,
          0.6922277623807538,
          0.6093886596841062,
          0.7000705294919494,
          0.6815872069008326,
          0.5901618956018497,
          0.6327054656989334
         ]
        },
        {
         "name": "yaw_lb",
         "type": "scatter",
         "x": [
          0,
          1,
          2,
          3,
          4,
          5,
          6,
          7,
          8,
          9,
          10,
          11,
          12,
          13,
          14,
          15,
          16,
          17,
          18,
          19,
          20,
          21,
          22,
          23,
          24,
          25,
          26,
          27,
          28,
          29,
          30,
          31,
          32,
          33,
          34,
          35,
          36,
          37,
          38,
          39,
          40,
          41,
          42,
          43,
          44,
          45,
          46,
          47,
          48,
          49,
          50,
          51,
          52,
          53,
          54,
          55,
          56,
          57,
          58,
          59,
          60,
          61,
          62,
          63,
          64,
          65,
          66,
          67,
          68,
          69,
          70,
          71,
          72,
          73,
          74,
          75,
          76,
          77,
          78,
          79,
          80,
          81,
          82,
          83,
          84,
          85,
          86,
          87,
          88,
          89,
          90,
          91,
          92,
          93,
          94,
          95,
          96,
          97,
          98,
          99,
          100,
          101,
          102,
          103,
          104,
          105,
          106,
          107,
          108,
          109,
          110,
          111,
          112,
          113,
          114,
          115,
          116,
          117,
          118,
          119,
          120,
          121,
          122,
          123,
          124,
          125,
          126,
          127,
          128,
          129,
          130,
          131,
          132,
          133,
          134,
          135,
          136,
          137,
          138,
          139,
          140,
          141,
          142,
          143,
          144,
          145,
          146,
          147,
          148,
          149,
          150,
          151,
          152,
          153,
          154,
          155,
          156,
          157,
          158,
          159,
          160,
          161,
          162,
          163,
          164,
          165,
          166,
          167,
          168,
          169,
          170,
          171,
          172,
          173,
          174,
          175,
          176,
          177,
          178,
          179,
          180,
          181,
          182
         ],
         "y": [
          -0.0874361475495851,
          -0.164785826394455,
          -0.0998999315954649,
          -0.1197844067738173,
          -0.1705093108517419,
          -0.0905086127875057,
          -0.0994927361544087,
          -0.1688694254827829,
          -0.1323140016990242,
          -0.1131257474523675,
          -0.0317446137691353,
          -0.0213683838664492,
          -0.0680787621087796,
          -0.2277280754674444,
          0.0490258150339402,
          0.43510484620984,
          -1.0898391311904636,
          1.0905154875769003,
          -2.980422913873725,
          0.8870081076239703,
          -3.7356982736588384,
          1.285500285972695,
          -4.190601085393326,
          0.6696588222542277,
          -2.185176567745612,
          0.3250542967929591,
          -1.7183983708305086,
          0.3283930790350352,
          -3.151377531815781,
          -0.0085810132147871,
          0.6421222509290279,
          -0.1251625513655895,
          0.9447649117208644,
          0.0095629033116822,
          5.170468178821746,
          0.4717390250574424,
          -5.322285684765396,
          -0.1042198478125564,
          6.770870966842678,
          -0.1385489826019097,
          5.661787414283699,
          -0.7188989119564998,
          5.21527602919393,
          -0.6778503133957506,
          5.318621583622521,
          -1.1201924827239442,
          3.8357466260360846,
          -0.6921823276798151,
          1.4470896246315206,
          -0.9130819566902484,
          -3.0873854580504907,
          1.146243517674421,
          -4.524461498495082,
          0.8161440447612116,
          -1.811785243072247,
          0.0308177352576518,
          -0.8023972016475952,
          0.3599740689606017,
          0.4926314951907726,
          1.1914174844679537,
          0.0938528415109372,
          -1.2946240497157275,
          2.591049035729568,
          -3.014897061684918,
          2.706973181762417,
          -3.665981622786833,
          2.5364055201913263,
          -3.339060456403974,
          1.7264380135959845,
          -1.5312076791539952,
          0.830092768324634,
          -1.479332719578882,
          1.3487123315471563,
          -3.6406369884741,
          1.3226227810396884,
          -5.134347486311808,
          1.383546826713562,
          -5.46106981877813,
          1.304851531153784,
          -5.270480151493711,
          0.830479526743027,
          -5.372687211475818,
          0.9627331842469748,
          -5.9369937795192325,
          0.9334763182216096,
          -5.833824513609972,
          0.8685581103543892,
          -1.7580414800433035,
          -0.3071979762715207,
          0.6888901490964077,
          -0.1643635473368498,
          -2.5919405242237903,
          1.599003835382743,
          -3.19293433338775,
          1.1836287669438068,
          -2.1278330168580366,
          0.965460067908132,
          -3.369025521612373,
          1.5723325237856056,
          -1.6083130422379182,
          -0.1237971589046071,
          -0.5324112489489109,
          0.5071425630603562,
          -1.3692381816993928,
          2.7265442436241263,
          -1.7809254289860927,
          3.332940246649947,
          -1.9312582912631524,
          3.2515038317934306,
          -1.1814502808825234,
          2.5480426482252474,
          -0.9788617722213196,
          3.316186506747849,
          -1.03444803643515,
          5.009870068549169,
          -1.318678793698283,
          5.107501716799158,
          -0.8686909868530165,
          3.476747163324033,
          -1.083566724492833,
          1.2633528718062574,
          0.1374934734962767,
          0.9921654046353078,
          -0.6701038904487361,
          0.9640871939581026,
          -0.2119957524483293,
          0.8263049929362188,
          -1.6534348990997974,
          1.4397256186133236,
          -1.579689518682297,
          1.4294340171495057,
          -1.3925252842915072,
          0.8804145314477171,
          -1.251256706130465,
          0.0241740344126137,
          1.593827347740174,
          -0.2457419437652091,
          0.8967096008859351,
          -0.3057931020913352,
          1.6235715240265751,
          1.045357064725449,
          -4.1696717202306175,
          0.7922173003385127,
          -3.0610139068289564,
          -0.2573407469714242,
          2.8715920240674624,
          -0.7545024981295995,
          5.868787936588122,
          -0.5768764351747198,
          -1.8605732342593229,
          0.6549135598227487,
          -5.456568174188282,
          0.4772788165661978,
          -6.260383611187049,
          0.6338395101534231,
          -5.89154378820238,
          0.5394626488550482,
          -4.048408940770055,
          0.2269381401677054,
          -0.9503187642443812,
          -0.7963563425102408,
          6.085862792636107,
          -0.6801623607323766,
          1.2941783735816723,
          -0.3212949498894232,
          2.65058376488089,
          -0.5957186867607268,
          -0.2372212115695673,
          -0.6986483307170959,
          0.6379764753362719,
          0.3197039605827894,
          -0.6475380881438489,
          1.6953244139018786,
          -0.775151698865256,
          1.0862260289947705,
          -0.0988939266038017,
          -1.650222128106046,
          0.584241644400976,
          -3.000739425534555,
          -0.4123286736662988,
          2.129456964588176,
          -0.4726996550652052,
          5.657709587002076
         ]
        }
       ],
       "layout": {
        "template": {
         "data": {
          "bar": [
           {
            "error_x": {
             "color": "#2a3f5f"
            },
            "error_y": {
             "color": "#2a3f5f"
            },
            "marker": {
             "line": {
              "color": "#E5ECF6",
              "width": 0.5
             },
             "pattern": {
              "fillmode": "overlay",
              "size": 10,
              "solidity": 0.2
             }
            },
            "type": "bar"
           }
          ],
          "barpolar": [
           {
            "marker": {
             "line": {
              "color": "#E5ECF6",
              "width": 0.5
             },
             "pattern": {
              "fillmode": "overlay",
              "size": 10,
              "solidity": 0.2
             }
            },
            "type": "barpolar"
           }
          ],
          "carpet": [
           {
            "aaxis": {
             "endlinecolor": "#2a3f5f",
             "gridcolor": "white",
             "linecolor": "white",
             "minorgridcolor": "white",
             "startlinecolor": "#2a3f5f"
            },
            "baxis": {
             "endlinecolor": "#2a3f5f",
             "gridcolor": "white",
             "linecolor": "white",
             "minorgridcolor": "white",
             "startlinecolor": "#2a3f5f"
            },
            "type": "carpet"
           }
          ],
          "choropleth": [
           {
            "colorbar": {
             "outlinewidth": 0,
             "ticks": ""
            },
            "type": "choropleth"
           }
          ],
          "contour": [
           {
            "colorbar": {
             "outlinewidth": 0,
             "ticks": ""
            },
            "colorscale": [
             [
              0,
              "#0d0887"
             ],
             [
              0.1111111111111111,
              "#46039f"
             ],
             [
              0.2222222222222222,
              "#7201a8"
             ],
             [
              0.3333333333333333,
              "#9c179e"
             ],
             [
              0.4444444444444444,
              "#bd3786"
             ],
             [
              0.5555555555555556,
              "#d8576b"
             ],
             [
              0.6666666666666666,
              "#ed7953"
             ],
             [
              0.7777777777777778,
              "#fb9f3a"
             ],
             [
              0.8888888888888888,
              "#fdca26"
             ],
             [
              1,
              "#f0f921"
             ]
            ],
            "type": "contour"
           }
          ],
          "contourcarpet": [
           {
            "colorbar": {
             "outlinewidth": 0,
             "ticks": ""
            },
            "type": "contourcarpet"
           }
          ],
          "heatmap": [
           {
            "colorbar": {
             "outlinewidth": 0,
             "ticks": ""
            },
            "colorscale": [
             [
              0,
              "#0d0887"
             ],
             [
              0.1111111111111111,
              "#46039f"
             ],
             [
              0.2222222222222222,
              "#7201a8"
             ],
             [
              0.3333333333333333,
              "#9c179e"
             ],
             [
              0.4444444444444444,
              "#bd3786"
             ],
             [
              0.5555555555555556,
              "#d8576b"
             ],
             [
              0.6666666666666666,
              "#ed7953"
             ],
             [
              0.7777777777777778,
              "#fb9f3a"
             ],
             [
              0.8888888888888888,
              "#fdca26"
             ],
             [
              1,
              "#f0f921"
             ]
            ],
            "type": "heatmap"
           }
          ],
          "heatmapgl": [
           {
            "colorbar": {
             "outlinewidth": 0,
             "ticks": ""
            },
            "colorscale": [
             [
              0,
              "#0d0887"
             ],
             [
              0.1111111111111111,
              "#46039f"
             ],
             [
              0.2222222222222222,
              "#7201a8"
             ],
             [
              0.3333333333333333,
              "#9c179e"
             ],
             [
              0.4444444444444444,
              "#bd3786"
             ],
             [
              0.5555555555555556,
              "#d8576b"
             ],
             [
              0.6666666666666666,
              "#ed7953"
             ],
             [
              0.7777777777777778,
              "#fb9f3a"
             ],
             [
              0.8888888888888888,
              "#fdca26"
             ],
             [
              1,
              "#f0f921"
             ]
            ],
            "type": "heatmapgl"
           }
          ],
          "histogram": [
           {
            "marker": {
             "pattern": {
              "fillmode": "overlay",
              "size": 10,
              "solidity": 0.2
             }
            },
            "type": "histogram"
           }
          ],
          "histogram2d": [
           {
            "colorbar": {
             "outlinewidth": 0,
             "ticks": ""
            },
            "colorscale": [
             [
              0,
              "#0d0887"
             ],
             [
              0.1111111111111111,
              "#46039f"
             ],
             [
              0.2222222222222222,
              "#7201a8"
             ],
             [
              0.3333333333333333,
              "#9c179e"
             ],
             [
              0.4444444444444444,
              "#bd3786"
             ],
             [
              0.5555555555555556,
              "#d8576b"
             ],
             [
              0.6666666666666666,
              "#ed7953"
             ],
             [
              0.7777777777777778,
              "#fb9f3a"
             ],
             [
              0.8888888888888888,
              "#fdca26"
             ],
             [
              1,
              "#f0f921"
             ]
            ],
            "type": "histogram2d"
           }
          ],
          "histogram2dcontour": [
           {
            "colorbar": {
             "outlinewidth": 0,
             "ticks": ""
            },
            "colorscale": [
             [
              0,
              "#0d0887"
             ],
             [
              0.1111111111111111,
              "#46039f"
             ],
             [
              0.2222222222222222,
              "#7201a8"
             ],
             [
              0.3333333333333333,
              "#9c179e"
             ],
             [
              0.4444444444444444,
              "#bd3786"
             ],
             [
              0.5555555555555556,
              "#d8576b"
             ],
             [
              0.6666666666666666,
              "#ed7953"
             ],
             [
              0.7777777777777778,
              "#fb9f3a"
             ],
             [
              0.8888888888888888,
              "#fdca26"
             ],
             [
              1,
              "#f0f921"
             ]
            ],
            "type": "histogram2dcontour"
           }
          ],
          "mesh3d": [
           {
            "colorbar": {
             "outlinewidth": 0,
             "ticks": ""
            },
            "type": "mesh3d"
           }
          ],
          "parcoords": [
           {
            "line": {
             "colorbar": {
              "outlinewidth": 0,
              "ticks": ""
             }
            },
            "type": "parcoords"
           }
          ],
          "pie": [
           {
            "automargin": true,
            "type": "pie"
           }
          ],
          "scatter": [
           {
            "marker": {
             "colorbar": {
              "outlinewidth": 0,
              "ticks": ""
             }
            },
            "type": "scatter"
           }
          ],
          "scatter3d": [
           {
            "line": {
             "colorbar": {
              "outlinewidth": 0,
              "ticks": ""
             }
            },
            "marker": {
             "colorbar": {
              "outlinewidth": 0,
              "ticks": ""
             }
            },
            "type": "scatter3d"
           }
          ],
          "scattercarpet": [
           {
            "marker": {
             "colorbar": {
              "outlinewidth": 0,
              "ticks": ""
             }
            },
            "type": "scattercarpet"
           }
          ],
          "scattergeo": [
           {
            "marker": {
             "colorbar": {
              "outlinewidth": 0,
              "ticks": ""
             }
            },
            "type": "scattergeo"
           }
          ],
          "scattergl": [
           {
            "marker": {
             "colorbar": {
              "outlinewidth": 0,
              "ticks": ""
             }
            },
            "type": "scattergl"
           }
          ],
          "scattermapbox": [
           {
            "marker": {
             "colorbar": {
              "outlinewidth": 0,
              "ticks": ""
             }
            },
            "type": "scattermapbox"
           }
          ],
          "scatterpolar": [
           {
            "marker": {
             "colorbar": {
              "outlinewidth": 0,
              "ticks": ""
             }
            },
            "type": "scatterpolar"
           }
          ],
          "scatterpolargl": [
           {
            "marker": {
             "colorbar": {
              "outlinewidth": 0,
              "ticks": ""
             }
            },
            "type": "scatterpolargl"
           }
          ],
          "scatterternary": [
           {
            "marker": {
             "colorbar": {
              "outlinewidth": 0,
              "ticks": ""
             }
            },
            "type": "scatterternary"
           }
          ],
          "surface": [
           {
            "colorbar": {
             "outlinewidth": 0,
             "ticks": ""
            },
            "colorscale": [
             [
              0,
              "#0d0887"
             ],
             [
              0.1111111111111111,
              "#46039f"
             ],
             [
              0.2222222222222222,
              "#7201a8"
             ],
             [
              0.3333333333333333,
              "#9c179e"
             ],
             [
              0.4444444444444444,
              "#bd3786"
             ],
             [
              0.5555555555555556,
              "#d8576b"
             ],
             [
              0.6666666666666666,
              "#ed7953"
             ],
             [
              0.7777777777777778,
              "#fb9f3a"
             ],
             [
              0.8888888888888888,
              "#fdca26"
             ],
             [
              1,
              "#f0f921"
             ]
            ],
            "type": "surface"
           }
          ],
          "table": [
           {
            "cells": {
             "fill": {
              "color": "#EBF0F8"
             },
             "line": {
              "color": "white"
             }
            },
            "header": {
             "fill": {
              "color": "#C8D4E3"
             },
             "line": {
              "color": "white"
             }
            },
            "type": "table"
           }
          ]
         },
         "layout": {
          "annotationdefaults": {
           "arrowcolor": "#2a3f5f",
           "arrowhead": 0,
           "arrowwidth": 1
          },
          "autotypenumbers": "strict",
          "coloraxis": {
           "colorbar": {
            "outlinewidth": 0,
            "ticks": ""
           }
          },
          "colorscale": {
           "diverging": [
            [
             0,
             "#8e0152"
            ],
            [
             0.1,
             "#c51b7d"
            ],
            [
             0.2,
             "#de77ae"
            ],
            [
             0.3,
             "#f1b6da"
            ],
            [
             0.4,
             "#fde0ef"
            ],
            [
             0.5,
             "#f7f7f7"
            ],
            [
             0.6,
             "#e6f5d0"
            ],
            [
             0.7,
             "#b8e186"
            ],
            [
             0.8,
             "#7fbc41"
            ],
            [
             0.9,
             "#4d9221"
            ],
            [
             1,
             "#276419"
            ]
           ],
           "sequential": [
            [
             0,
             "#0d0887"
            ],
            [
             0.1111111111111111,
             "#46039f"
            ],
            [
             0.2222222222222222,
             "#7201a8"
            ],
            [
             0.3333333333333333,
             "#9c179e"
            ],
            [
             0.4444444444444444,
             "#bd3786"
            ],
            [
             0.5555555555555556,
             "#d8576b"
            ],
            [
             0.6666666666666666,
             "#ed7953"
            ],
            [
             0.7777777777777778,
             "#fb9f3a"
            ],
            [
             0.8888888888888888,
             "#fdca26"
            ],
            [
             1,
             "#f0f921"
            ]
           ],
           "sequentialminus": [
            [
             0,
             "#0d0887"
            ],
            [
             0.1111111111111111,
             "#46039f"
            ],
            [
             0.2222222222222222,
             "#7201a8"
            ],
            [
             0.3333333333333333,
             "#9c179e"
            ],
            [
             0.4444444444444444,
             "#bd3786"
            ],
            [
             0.5555555555555556,
             "#d8576b"
            ],
            [
             0.6666666666666666,
             "#ed7953"
            ],
            [
             0.7777777777777778,
             "#fb9f3a"
            ],
            [
             0.8888888888888888,
             "#fdca26"
            ],
            [
             1,
             "#f0f921"
            ]
           ]
          },
          "colorway": [
           "#636efa",
           "#EF553B",
           "#00cc96",
           "#ab63fa",
           "#FFA15A",
           "#19d3f3",
           "#FF6692",
           "#B6E880",
           "#FF97FF",
           "#FECB52"
          ],
          "font": {
           "color": "#2a3f5f"
          },
          "geo": {
           "bgcolor": "white",
           "lakecolor": "white",
           "landcolor": "#E5ECF6",
           "showlakes": true,
           "showland": true,
           "subunitcolor": "white"
          },
          "hoverlabel": {
           "align": "left"
          },
          "hovermode": "closest",
          "mapbox": {
           "style": "light"
          },
          "paper_bgcolor": "white",
          "plot_bgcolor": "#E5ECF6",
          "polar": {
           "angularaxis": {
            "gridcolor": "white",
            "linecolor": "white",
            "ticks": ""
           },
           "bgcolor": "#E5ECF6",
           "radialaxis": {
            "gridcolor": "white",
            "linecolor": "white",
            "ticks": ""
           }
          },
          "scene": {
           "xaxis": {
            "backgroundcolor": "#E5ECF6",
            "gridcolor": "white",
            "gridwidth": 2,
            "linecolor": "white",
            "showbackground": true,
            "ticks": "",
            "zerolinecolor": "white"
           },
           "yaxis": {
            "backgroundcolor": "#E5ECF6",
            "gridcolor": "white",
            "gridwidth": 2,
            "linecolor": "white",
            "showbackground": true,
            "ticks": "",
            "zerolinecolor": "white"
           },
           "zaxis": {
            "backgroundcolor": "#E5ECF6",
            "gridcolor": "white",
            "gridwidth": 2,
            "linecolor": "white",
            "showbackground": true,
            "ticks": "",
            "zerolinecolor": "white"
           }
          },
          "shapedefaults": {
           "line": {
            "color": "#2a3f5f"
           }
          },
          "ternary": {
           "aaxis": {
            "gridcolor": "white",
            "linecolor": "white",
            "ticks": ""
           },
           "baxis": {
            "gridcolor": "white",
            "linecolor": "white",
            "ticks": ""
           },
           "bgcolor": "#E5ECF6",
           "caxis": {
            "gridcolor": "white",
            "linecolor": "white",
            "ticks": ""
           }
          },
          "title": {
           "x": 0.05
          },
          "xaxis": {
           "automargin": true,
           "gridcolor": "white",
           "linecolor": "white",
           "ticks": "",
           "title": {
            "standoff": 15
           },
           "zerolinecolor": "white",
           "zerolinewidth": 2
          },
          "yaxis": {
           "automargin": true,
           "gridcolor": "white",
           "linecolor": "white",
           "ticks": "",
           "title": {
            "standoff": 15
           },
           "zerolinecolor": "white",
           "zerolinewidth": 2
          }
         }
        },
        "title": {
         "text": "Orientation left_bot sensor"
        }
       }
      },
      "text/html": [
       "<div>                            <div id=\"78501053-192e-4efe-b865-d09da1a961c6\" class=\"plotly-graph-div\" style=\"height:525px; width:100%;\"></div>            <script type=\"text/javascript\">                require([\"plotly\"], function(Plotly) {                    window.PLOTLYENV=window.PLOTLYENV || {};                                    if (document.getElementById(\"78501053-192e-4efe-b865-d09da1a961c6\")) {                    Plotly.newPlot(                        \"78501053-192e-4efe-b865-d09da1a961c6\",                        [{\"name\":\"roll_lb\",\"x\":[0,1,2,3,4,5,6,7,8,9,10,11,12,13,14,15,16,17,18,19,20,21,22,23,24,25,26,27,28,29,30,31,32,33,34,35,36,37,38,39,40,41,42,43,44,45,46,47,48,49,50,51,52,53,54,55,56,57,58,59,60,61,62,63,64,65,66,67,68,69,70,71,72,73,74,75,76,77,78,79,80,81,82,83,84,85,86,87,88,89,90,91,92,93,94,95,96,97,98,99,100,101,102,103,104,105,106,107,108,109,110,111,112,113,114,115,116,117,118,119,120,121,122,123,124,125,126,127,128,129,130,131,132,133,134,135,136,137,138,139,140,141,142,143,144,145,146,147,148,149,150,151,152,153,154,155,156,157,158,159,160,161,162,163,164,165,166,167,168,169,170,171,172,173,174,175,176,177,178,179,180,181,182],\"y\":[-6.884477413115172,-13.71515563286004,-20.34609291859804,-26.78810649157225,-33.07812238347535,-39.17606222161195,-45.09172325874893,-50.863578086915005,-56.4752555807432,-61.93536252586259,-67.27186937492509,-72.44877584155445,-77.49774548898652,-82.4634854824035,-87.31409775341115,-92.05238428871736,-87.14734734300653,-91.61310569544676,-87.54054709822195,-91.46647445709736,-87.71709121469453,-90.96360965749064,-87.89913121663324,-91.24776072354167,-86.67040206917724,-91.09116473785993,-86.24062143839315,-90.7341783016502,-86.35807339984547,-90.58256997762832,-85.52687027769663,-90.260551762455,-85.26731655184406,-90.01441064769908,-86.62394004774231,-90.13819414325664,-87.39849460759201,-90.54103718847183,-90.41451644296184,-90.81027077233986,-87.97827645347228,-89.88594811010091,-92.1003480950131,-89.53398472672076,-91.69774913098064,-89.94572171315109,-93.10308346336606,-89.30940405928602,-93.68278491173167,-88.93403568635148,-93.35481933673628,-89.40853677125027,-92.00975537417328,-88.83175179711581,-93.16246211928322,-88.35036365886877,-93.03629403195532,-88.12615636787456,-92.86162832998792,-87.8617088064396,-92.48503325115855,-87.52951812995038,-91.40510269527806,-88.45788145301309,-90.99474846129664,-88.95560450476313,-90.82597138230228,-88.28751068473751,-91.4785652166466,-87.03391905605703,-91.44049200557352,-86.72115356625434,-91.02949072843712,-87.55714745039275,-90.84100781779192,-88.99037855841385,-90.33563191692132,-90.82819169324864,-90.15592866634243,-88.47672343384933,-90.5873601881228,-88.31103468263474,-90.1345988564086,-90.09582057653265,-89.92897828002255,-90.59877323285528,-89.49892544908039,-93.82880617658532,-88.97672887515499,-93.61753290109948,-88.6530685734785,-93.04961667700564,-89.08265962319496,-92.41544035876984,-88.53476634404132,-92.64476740978564,-88.15391487233782,-91.8114955852272,-88.31484526049452,-92.4625584818098,-87.5574052282695,-92.26363732905013,-87.29916569397106,-91.81960725945908,-87.74938890272577,-91.28090550855843,-87.86657721512233,-90.90741880126558,-87.55578910728808,-91.17037556266216,-86.94142353184469,-90.98885445323616,-87.01130456563286,-90.67498121857194,-88.18123327166509,-89.99552088399544,-91.57095615999194,-89.11582893761168,-92.7269059350504,-88.9483901136157,-93.35160986887772,-88.43398903332277,-93.09995456124986,-88.21310898873935,-92.76604037449404,-87.79797022456701,-92.43274671617064,-87.72487641136772,-91.95333681173136,-87.39877922893703,-91.67253228192612,-87.09556635501264,-91.5908180524868,-86.7883043067242,-91.46071681043573,-86.56815437901137,-91.13857918080684,-86.15476060405334,-90.82333696941149,-86.0172737111223,-90.76696644394173,-87.35900566811264,-90.715352607332,-86.46618806777595,-90.82925437336873,-86.32084350756656,-90.32260038105846,-88.86547179369119,-90.45271334395984,-85.47357940721803,-89.95453506516728,-91.97887591018998,-89.59283600395925,-90.4646485455198,-90.22195951350945,-88.45628816957951,-90.21216794200188,-86.3664354470357,-90.13243577333073,-85.10565972138774,-89.86814264802304,-89.68031672286688,-88.84983317729807,-93.381671231881,-88.53470073817354,-92.77737270297752,-88.29048645518586,-92.98810757976382,-87.98059122428039,-92.61440298735477,-87.62140976470351,-92.27359583554848,-87.55931689933934,-91.92118680284476,-87.1391414504531,-91.753735837317,-86.81776007202133,-91.31680433043122,-86.98193424891193,-91.44005609105388,-86.76109920450025,-91.08183854410906,-88.70363853785203],\"type\":\"scatter\"},{\"name\":\"pitch_lb\",\"x\":[0,1,2,3,4,5,6,7,8,9,10,11,12,13,14,15,16,17,18,19,20,21,22,23,24,25,26,27,28,29,30,31,32,33,34,35,36,37,38,39,40,41,42,43,44,45,46,47,48,49,50,51,52,53,54,55,56,57,58,59,60,61,62,63,64,65,66,67,68,69,70,71,72,73,74,75,76,77,78,79,80,81,82,83,84,85,86,87,88,89,90,91,92,93,94,95,96,97,98,99,100,101,102,103,104,105,106,107,108,109,110,111,112,113,114,115,116,117,118,119,120,121,122,123,124,125,126,127,128,129,130,131,132,133,134,135,136,137,138,139,140,141,142,143,144,145,146,147,148,149,150,151,152,153,154,155,156,157,158,159,160,161,162,163,164,165,166,167,168,169,170,171,172,173,174,175,176,177,178,179,180,181,182],\"y\":[0.0066083698883153,0.0449165418982713,0.0622261696564019,0.0431536701310981,0.0561998086665813,0.0701217852321818,0.0488545383139405,0.0564450926995063,0.0653043357578234,0.0292689068637955,0.027354718085816,0.0009873087118885,-0.0379604857920947,-0.0344672828739491,-0.0357461476910533,-0.0629983468648355,-0.1038349149225515,-0.0955741394957363,-0.1541010285219017,-0.1036302995407614,-0.2221274595476188,-0.1902937544978942,-0.2669827577691252,-0.1442006454479487,-0.2320647588384267,-0.17373257444071,-0.2431724232738687,-0.1615340647282341,-0.2554828127435211,-0.1376239715235797,-0.1290725073459254,-0.1453143592324711,-0.0876057277036179,-0.1200835695983812,0.0250421782581731,-0.1621602824554903,-0.3465579709412335,-0.218874048018515,-0.2520990591217965,-0.2754977859127886,-0.234642080713076,-0.3362003836222342,-0.5507188542967417,-0.4825551331103119,-0.6365590120434538,-0.4815741297438168,-0.5770573041349804,-0.3921304426904761,-0.4186218919524649,-0.3623212773533093,-0.1980665417852845,-0.1835503190247801,-0.0617072780089622,-0.1597596195251273,-0.0847813709799428,-0.1050495417277793,-0.0919854223756771,-0.1593470413581412,-0.1904236331343085,-0.1572563391429249,-0.2794675098576055,-0.3092564594464085,-0.3556946146514741,-0.3521381971233434,-0.3577695808339435,-0.3723302396923739,-0.3207208579533352,-0.3797801392472228,-0.3316004687843899,-0.3204950089202714,-0.2987321310867556,-0.3039468566898448,-0.3373837229242999,-0.4528968464678169,-0.4098843231536566,-0.4217106192032201,-0.3071443905637032,-0.3031167548712752,-0.2982954851317651,-0.3153629728650263,-0.1990616388945718,-0.2959155927679949,-0.2155149610007383,-0.2243542548512701,-0.195958563533183,-0.179020661057871,-0.2202912344680917,-0.2004766109095797,-0.2516488329548552,-0.2688986437517454,-0.2616790368610286,-0.189379855947634,-0.2222804943396838,-0.1902744032151258,-0.2038430073544271,-0.0851597494809054,-0.0685079244111702,0.0262218381586459,-0.0182705408978701,0.0179321136198934,-0.0540806508603648,-0.0147118739344397,-0.0179813340162924,0.027273591178781,0.0657171344826875,0.054682903483888,0.1684361365666466,0.121938657623327,0.1548937804389749,0.1181615344218267,0.1505229020275619,0.1026293999347208,0.1705683056378784,0.0969282142739616,0.2030086736221029,0.1683965023707619,0.1321023816369261,0.2506238528414533,0.1714368960318454,0.2373486564785281,0.2600910118892897,0.3152492447151479,0.2649359993303062,0.3236700313777258,0.330836388846954,0.3401570435944428,0.3343670112745922,0.3060317653642005,0.2926554680966796,0.3161572795391066,0.3741604798042083,0.3730808754058894,0.4228939561532908,0.405591088176077,0.4562130349370484,0.5622091131657472,0.504995649291321,0.5313455856923839,0.5057265342731933,0.5641579340352482,0.4904804074867304,0.4145227678314797,0.4769696387983954,0.3673456027319752,0.4556862114622749,0.5644932225451033,0.4949785672232421,0.5615285554038452,0.5061413000674936,0.4016424401255532,0.4944512170097132,0.624324714510255,0.5249881728059835,0.6119392435989536,0.5801300908551454,0.4681908242013373,0.5609972327369653,0.4351985122257675,0.59324194181706,0.5692506465975951,0.6698567665757545,0.7143809453966791,0.7630658549287237,0.7348827581657924,0.7595763458364132,0.6929084165869684,0.7924187541113172,0.8512468306142684,0.8605207414907522,0.8471254789907463,0.8174145044305445,0.7914717413865909,0.7964226539670396,0.7037417841204697,0.7171027181114918,0.6324973148711427,0.600111145117306,0.6922277623807538,0.6093886596841062,0.7000705294919494,0.6815872069008326,0.5901618956018497,0.6327054656989334],\"type\":\"scatter\"},{\"name\":\"yaw_lb\",\"x\":[0,1,2,3,4,5,6,7,8,9,10,11,12,13,14,15,16,17,18,19,20,21,22,23,24,25,26,27,28,29,30,31,32,33,34,35,36,37,38,39,40,41,42,43,44,45,46,47,48,49,50,51,52,53,54,55,56,57,58,59,60,61,62,63,64,65,66,67,68,69,70,71,72,73,74,75,76,77,78,79,80,81,82,83,84,85,86,87,88,89,90,91,92,93,94,95,96,97,98,99,100,101,102,103,104,105,106,107,108,109,110,111,112,113,114,115,116,117,118,119,120,121,122,123,124,125,126,127,128,129,130,131,132,133,134,135,136,137,138,139,140,141,142,143,144,145,146,147,148,149,150,151,152,153,154,155,156,157,158,159,160,161,162,163,164,165,166,167,168,169,170,171,172,173,174,175,176,177,178,179,180,181,182],\"y\":[-0.0874361475495851,-0.164785826394455,-0.0998999315954649,-0.1197844067738173,-0.1705093108517419,-0.0905086127875057,-0.0994927361544087,-0.1688694254827829,-0.1323140016990242,-0.1131257474523675,-0.0317446137691353,-0.0213683838664492,-0.0680787621087796,-0.2277280754674444,0.0490258150339402,0.43510484620984,-1.0898391311904636,1.0905154875769003,-2.980422913873725,0.8870081076239703,-3.7356982736588384,1.285500285972695,-4.190601085393326,0.6696588222542277,-2.185176567745612,0.3250542967929591,-1.7183983708305086,0.3283930790350352,-3.151377531815781,-0.0085810132147871,0.6421222509290279,-0.1251625513655895,0.9447649117208644,0.0095629033116822,5.170468178821746,0.4717390250574424,-5.322285684765396,-0.1042198478125564,6.770870966842678,-0.1385489826019097,5.661787414283699,-0.7188989119564998,5.21527602919393,-0.6778503133957506,5.318621583622521,-1.1201924827239442,3.8357466260360846,-0.6921823276798151,1.4470896246315206,-0.9130819566902484,-3.0873854580504907,1.146243517674421,-4.524461498495082,0.8161440447612116,-1.811785243072247,0.0308177352576518,-0.8023972016475952,0.3599740689606017,0.4926314951907726,1.1914174844679537,0.0938528415109372,-1.2946240497157275,2.591049035729568,-3.014897061684918,2.706973181762417,-3.665981622786833,2.5364055201913263,-3.339060456403974,1.7264380135959845,-1.5312076791539952,0.830092768324634,-1.479332719578882,1.3487123315471563,-3.6406369884741,1.3226227810396884,-5.134347486311808,1.383546826713562,-5.46106981877813,1.304851531153784,-5.270480151493711,0.830479526743027,-5.372687211475818,0.9627331842469748,-5.9369937795192325,0.9334763182216096,-5.833824513609972,0.8685581103543892,-1.7580414800433035,-0.3071979762715207,0.6888901490964077,-0.1643635473368498,-2.5919405242237903,1.599003835382743,-3.19293433338775,1.1836287669438068,-2.1278330168580366,0.965460067908132,-3.369025521612373,1.5723325237856056,-1.6083130422379182,-0.1237971589046071,-0.5324112489489109,0.5071425630603562,-1.3692381816993928,2.7265442436241263,-1.7809254289860927,3.332940246649947,-1.9312582912631524,3.2515038317934306,-1.1814502808825234,2.5480426482252474,-0.9788617722213196,3.316186506747849,-1.03444803643515,5.009870068549169,-1.318678793698283,5.107501716799158,-0.8686909868530165,3.476747163324033,-1.083566724492833,1.2633528718062574,0.1374934734962767,0.9921654046353078,-0.6701038904487361,0.9640871939581026,-0.2119957524483293,0.8263049929362188,-1.6534348990997974,1.4397256186133236,-1.579689518682297,1.4294340171495057,-1.3925252842915072,0.8804145314477171,-1.251256706130465,0.0241740344126137,1.593827347740174,-0.2457419437652091,0.8967096008859351,-0.3057931020913352,1.6235715240265751,1.045357064725449,-4.1696717202306175,0.7922173003385127,-3.0610139068289564,-0.2573407469714242,2.8715920240674624,-0.7545024981295995,5.868787936588122,-0.5768764351747198,-1.8605732342593229,0.6549135598227487,-5.456568174188282,0.4772788165661978,-6.260383611187049,0.6338395101534231,-5.89154378820238,0.5394626488550482,-4.048408940770055,0.2269381401677054,-0.9503187642443812,-0.7963563425102408,6.085862792636107,-0.6801623607323766,1.2941783735816723,-0.3212949498894232,2.65058376488089,-0.5957186867607268,-0.2372212115695673,-0.6986483307170959,0.6379764753362719,0.3197039605827894,-0.6475380881438489,1.6953244139018786,-0.775151698865256,1.0862260289947705,-0.0988939266038017,-1.650222128106046,0.584241644400976,-3.000739425534555,-0.4123286736662988,2.129456964588176,-0.4726996550652052,5.657709587002076],\"type\":\"scatter\"}],                        {\"template\":{\"data\":{\"bar\":[{\"error_x\":{\"color\":\"#2a3f5f\"},\"error_y\":{\"color\":\"#2a3f5f\"},\"marker\":{\"line\":{\"color\":\"#E5ECF6\",\"width\":0.5},\"pattern\":{\"fillmode\":\"overlay\",\"size\":10,\"solidity\":0.2}},\"type\":\"bar\"}],\"barpolar\":[{\"marker\":{\"line\":{\"color\":\"#E5ECF6\",\"width\":0.5},\"pattern\":{\"fillmode\":\"overlay\",\"size\":10,\"solidity\":0.2}},\"type\":\"barpolar\"}],\"carpet\":[{\"aaxis\":{\"endlinecolor\":\"#2a3f5f\",\"gridcolor\":\"white\",\"linecolor\":\"white\",\"minorgridcolor\":\"white\",\"startlinecolor\":\"#2a3f5f\"},\"baxis\":{\"endlinecolor\":\"#2a3f5f\",\"gridcolor\":\"white\",\"linecolor\":\"white\",\"minorgridcolor\":\"white\",\"startlinecolor\":\"#2a3f5f\"},\"type\":\"carpet\"}],\"choropleth\":[{\"colorbar\":{\"outlinewidth\":0,\"ticks\":\"\"},\"type\":\"choropleth\"}],\"contour\":[{\"colorbar\":{\"outlinewidth\":0,\"ticks\":\"\"},\"colorscale\":[[0.0,\"#0d0887\"],[0.1111111111111111,\"#46039f\"],[0.2222222222222222,\"#7201a8\"],[0.3333333333333333,\"#9c179e\"],[0.4444444444444444,\"#bd3786\"],[0.5555555555555556,\"#d8576b\"],[0.6666666666666666,\"#ed7953\"],[0.7777777777777778,\"#fb9f3a\"],[0.8888888888888888,\"#fdca26\"],[1.0,\"#f0f921\"]],\"type\":\"contour\"}],\"contourcarpet\":[{\"colorbar\":{\"outlinewidth\":0,\"ticks\":\"\"},\"type\":\"contourcarpet\"}],\"heatmap\":[{\"colorbar\":{\"outlinewidth\":0,\"ticks\":\"\"},\"colorscale\":[[0.0,\"#0d0887\"],[0.1111111111111111,\"#46039f\"],[0.2222222222222222,\"#7201a8\"],[0.3333333333333333,\"#9c179e\"],[0.4444444444444444,\"#bd3786\"],[0.5555555555555556,\"#d8576b\"],[0.6666666666666666,\"#ed7953\"],[0.7777777777777778,\"#fb9f3a\"],[0.8888888888888888,\"#fdca26\"],[1.0,\"#f0f921\"]],\"type\":\"heatmap\"}],\"heatmapgl\":[{\"colorbar\":{\"outlinewidth\":0,\"ticks\":\"\"},\"colorscale\":[[0.0,\"#0d0887\"],[0.1111111111111111,\"#46039f\"],[0.2222222222222222,\"#7201a8\"],[0.3333333333333333,\"#9c179e\"],[0.4444444444444444,\"#bd3786\"],[0.5555555555555556,\"#d8576b\"],[0.6666666666666666,\"#ed7953\"],[0.7777777777777778,\"#fb9f3a\"],[0.8888888888888888,\"#fdca26\"],[1.0,\"#f0f921\"]],\"type\":\"heatmapgl\"}],\"histogram\":[{\"marker\":{\"pattern\":{\"fillmode\":\"overlay\",\"size\":10,\"solidity\":0.2}},\"type\":\"histogram\"}],\"histogram2d\":[{\"colorbar\":{\"outlinewidth\":0,\"ticks\":\"\"},\"colorscale\":[[0.0,\"#0d0887\"],[0.1111111111111111,\"#46039f\"],[0.2222222222222222,\"#7201a8\"],[0.3333333333333333,\"#9c179e\"],[0.4444444444444444,\"#bd3786\"],[0.5555555555555556,\"#d8576b\"],[0.6666666666666666,\"#ed7953\"],[0.7777777777777778,\"#fb9f3a\"],[0.8888888888888888,\"#fdca26\"],[1.0,\"#f0f921\"]],\"type\":\"histogram2d\"}],\"histogram2dcontour\":[{\"colorbar\":{\"outlinewidth\":0,\"ticks\":\"\"},\"colorscale\":[[0.0,\"#0d0887\"],[0.1111111111111111,\"#46039f\"],[0.2222222222222222,\"#7201a8\"],[0.3333333333333333,\"#9c179e\"],[0.4444444444444444,\"#bd3786\"],[0.5555555555555556,\"#d8576b\"],[0.6666666666666666,\"#ed7953\"],[0.7777777777777778,\"#fb9f3a\"],[0.8888888888888888,\"#fdca26\"],[1.0,\"#f0f921\"]],\"type\":\"histogram2dcontour\"}],\"mesh3d\":[{\"colorbar\":{\"outlinewidth\":0,\"ticks\":\"\"},\"type\":\"mesh3d\"}],\"parcoords\":[{\"line\":{\"colorbar\":{\"outlinewidth\":0,\"ticks\":\"\"}},\"type\":\"parcoords\"}],\"pie\":[{\"automargin\":true,\"type\":\"pie\"}],\"scatter\":[{\"marker\":{\"colorbar\":{\"outlinewidth\":0,\"ticks\":\"\"}},\"type\":\"scatter\"}],\"scatter3d\":[{\"line\":{\"colorbar\":{\"outlinewidth\":0,\"ticks\":\"\"}},\"marker\":{\"colorbar\":{\"outlinewidth\":0,\"ticks\":\"\"}},\"type\":\"scatter3d\"}],\"scattercarpet\":[{\"marker\":{\"colorbar\":{\"outlinewidth\":0,\"ticks\":\"\"}},\"type\":\"scattercarpet\"}],\"scattergeo\":[{\"marker\":{\"colorbar\":{\"outlinewidth\":0,\"ticks\":\"\"}},\"type\":\"scattergeo\"}],\"scattergl\":[{\"marker\":{\"colorbar\":{\"outlinewidth\":0,\"ticks\":\"\"}},\"type\":\"scattergl\"}],\"scattermapbox\":[{\"marker\":{\"colorbar\":{\"outlinewidth\":0,\"ticks\":\"\"}},\"type\":\"scattermapbox\"}],\"scatterpolar\":[{\"marker\":{\"colorbar\":{\"outlinewidth\":0,\"ticks\":\"\"}},\"type\":\"scatterpolar\"}],\"scatterpolargl\":[{\"marker\":{\"colorbar\":{\"outlinewidth\":0,\"ticks\":\"\"}},\"type\":\"scatterpolargl\"}],\"scatterternary\":[{\"marker\":{\"colorbar\":{\"outlinewidth\":0,\"ticks\":\"\"}},\"type\":\"scatterternary\"}],\"surface\":[{\"colorbar\":{\"outlinewidth\":0,\"ticks\":\"\"},\"colorscale\":[[0.0,\"#0d0887\"],[0.1111111111111111,\"#46039f\"],[0.2222222222222222,\"#7201a8\"],[0.3333333333333333,\"#9c179e\"],[0.4444444444444444,\"#bd3786\"],[0.5555555555555556,\"#d8576b\"],[0.6666666666666666,\"#ed7953\"],[0.7777777777777778,\"#fb9f3a\"],[0.8888888888888888,\"#fdca26\"],[1.0,\"#f0f921\"]],\"type\":\"surface\"}],\"table\":[{\"cells\":{\"fill\":{\"color\":\"#EBF0F8\"},\"line\":{\"color\":\"white\"}},\"header\":{\"fill\":{\"color\":\"#C8D4E3\"},\"line\":{\"color\":\"white\"}},\"type\":\"table\"}]},\"layout\":{\"annotationdefaults\":{\"arrowcolor\":\"#2a3f5f\",\"arrowhead\":0,\"arrowwidth\":1},\"autotypenumbers\":\"strict\",\"coloraxis\":{\"colorbar\":{\"outlinewidth\":0,\"ticks\":\"\"}},\"colorscale\":{\"diverging\":[[0,\"#8e0152\"],[0.1,\"#c51b7d\"],[0.2,\"#de77ae\"],[0.3,\"#f1b6da\"],[0.4,\"#fde0ef\"],[0.5,\"#f7f7f7\"],[0.6,\"#e6f5d0\"],[0.7,\"#b8e186\"],[0.8,\"#7fbc41\"],[0.9,\"#4d9221\"],[1,\"#276419\"]],\"sequential\":[[0.0,\"#0d0887\"],[0.1111111111111111,\"#46039f\"],[0.2222222222222222,\"#7201a8\"],[0.3333333333333333,\"#9c179e\"],[0.4444444444444444,\"#bd3786\"],[0.5555555555555556,\"#d8576b\"],[0.6666666666666666,\"#ed7953\"],[0.7777777777777778,\"#fb9f3a\"],[0.8888888888888888,\"#fdca26\"],[1.0,\"#f0f921\"]],\"sequentialminus\":[[0.0,\"#0d0887\"],[0.1111111111111111,\"#46039f\"],[0.2222222222222222,\"#7201a8\"],[0.3333333333333333,\"#9c179e\"],[0.4444444444444444,\"#bd3786\"],[0.5555555555555556,\"#d8576b\"],[0.6666666666666666,\"#ed7953\"],[0.7777777777777778,\"#fb9f3a\"],[0.8888888888888888,\"#fdca26\"],[1.0,\"#f0f921\"]]},\"colorway\":[\"#636efa\",\"#EF553B\",\"#00cc96\",\"#ab63fa\",\"#FFA15A\",\"#19d3f3\",\"#FF6692\",\"#B6E880\",\"#FF97FF\",\"#FECB52\"],\"font\":{\"color\":\"#2a3f5f\"},\"geo\":{\"bgcolor\":\"white\",\"lakecolor\":\"white\",\"landcolor\":\"#E5ECF6\",\"showlakes\":true,\"showland\":true,\"subunitcolor\":\"white\"},\"hoverlabel\":{\"align\":\"left\"},\"hovermode\":\"closest\",\"mapbox\":{\"style\":\"light\"},\"paper_bgcolor\":\"white\",\"plot_bgcolor\":\"#E5ECF6\",\"polar\":{\"angularaxis\":{\"gridcolor\":\"white\",\"linecolor\":\"white\",\"ticks\":\"\"},\"bgcolor\":\"#E5ECF6\",\"radialaxis\":{\"gridcolor\":\"white\",\"linecolor\":\"white\",\"ticks\":\"\"}},\"scene\":{\"xaxis\":{\"backgroundcolor\":\"#E5ECF6\",\"gridcolor\":\"white\",\"gridwidth\":2,\"linecolor\":\"white\",\"showbackground\":true,\"ticks\":\"\",\"zerolinecolor\":\"white\"},\"yaxis\":{\"backgroundcolor\":\"#E5ECF6\",\"gridcolor\":\"white\",\"gridwidth\":2,\"linecolor\":\"white\",\"showbackground\":true,\"ticks\":\"\",\"zerolinecolor\":\"white\"},\"zaxis\":{\"backgroundcolor\":\"#E5ECF6\",\"gridcolor\":\"white\",\"gridwidth\":2,\"linecolor\":\"white\",\"showbackground\":true,\"ticks\":\"\",\"zerolinecolor\":\"white\"}},\"shapedefaults\":{\"line\":{\"color\":\"#2a3f5f\"}},\"ternary\":{\"aaxis\":{\"gridcolor\":\"white\",\"linecolor\":\"white\",\"ticks\":\"\"},\"baxis\":{\"gridcolor\":\"white\",\"linecolor\":\"white\",\"ticks\":\"\"},\"bgcolor\":\"#E5ECF6\",\"caxis\":{\"gridcolor\":\"white\",\"linecolor\":\"white\",\"ticks\":\"\"}},\"title\":{\"x\":0.05},\"xaxis\":{\"automargin\":true,\"gridcolor\":\"white\",\"linecolor\":\"white\",\"ticks\":\"\",\"title\":{\"standoff\":15},\"zerolinecolor\":\"white\",\"zerolinewidth\":2},\"yaxis\":{\"automargin\":true,\"gridcolor\":\"white\",\"linecolor\":\"white\",\"ticks\":\"\",\"title\":{\"standoff\":15},\"zerolinecolor\":\"white\",\"zerolinewidth\":2}}},\"title\":{\"text\":\"Orientation left_bot sensor\"}},                        {\"responsive\": true}                    ).then(function(){\n",
       "                            \n",
       "var gd = document.getElementById('78501053-192e-4efe-b865-d09da1a961c6');\n",
       "var x = new MutationObserver(function (mutations, observer) {{\n",
       "        var display = window.getComputedStyle(gd).display;\n",
       "        if (!display || display === 'none') {{\n",
       "            console.log([gd, 'removed!']);\n",
       "            Plotly.purge(gd);\n",
       "            observer.disconnect();\n",
       "        }}\n",
       "}});\n",
       "\n",
       "// Listen for the removal of the full notebook cells\n",
       "var notebookContainer = gd.closest('#notebook-container');\n",
       "if (notebookContainer) {{\n",
       "    x.observe(notebookContainer, {childList: true});\n",
       "}}\n",
       "\n",
       "// Listen for the clearing of the current output cell\n",
       "var outputEl = gd.closest('.output');\n",
       "if (outputEl) {{\n",
       "    x.observe(outputEl, {childList: true});\n",
       "}}\n",
       "\n",
       "                        })                };                });            </script>        </div>"
      ]
     },
     "metadata": {},
     "output_type": "display_data"
    }
   ],
   "source": [
    "test_plot = pd.read_csv('D:/Thesis/dataset/lifting_orientation_0_0.csv')\n",
    "\n",
    "def preprocessing_dataset(dataset):\n",
    "    df = dataset.drop(columns = \"Unnamed: 0\")\n",
    "    df.columns = [\"roll_bt\",\"pitch_bt\",\"yaw_bt\",\n",
    "                  \"roll_bb\",\"pitch_bb\",\"yaw_bb\",\n",
    "                  \"roll_lt\",\"pitch_lt\",\"yaw_lt\",\n",
    "                  \"roll_lb\",\"pitch_lb\",\"yaw_lb\",\n",
    "                  \"roll_rt\",\"pitch_rt\",\"yaw_rt\",\n",
    "                  \"roll_rb\",\"pitch_rb\",\"yaw_rb\"\n",
    "                 ]\n",
    "    return df\n",
    "test_plot_1 = preprocessing_dataset(test_plot)\n",
    "\n",
    "orientation_lb_test= test_plot_1[[\"roll_lb\",\"pitch_lb\",\"yaw_lb\"]]\n",
    "show_plot(orientation_lb_test,'Orientation left_bot sensor')\n",
    "\n",
    "\n",
    "# plt.figure\n",
    "# plt.plot(orientation_lb_test.index, orientation_lb_test[\"roll_lb\"], 'b', alpha=0.75)\n",
    "# plt.plot(orientation_lb_test.index, frame['pitch'], 'r', orientation_lb_test.index,  orientation_lb_test[\"yaw_lb\"], 'g')\n",
    "# plt.legend(('roll', 'pitch', 'yaw'), loc='best')\n",
    "# plt.grid(True)\n",
    "# plt.show()\n"
   ]
  },
  {
   "cell_type": "code",
   "execution_count": 130,
   "id": "7af79d6f",
   "metadata": {},
   "outputs": [],
   "source": [
    "# orientation_lb_test.loc[:]"
   ]
  },
  {
   "cell_type": "markdown",
   "id": "c140361d",
   "metadata": {},
   "source": [
    "# Filter dataset"
   ]
  },
  {
   "cell_type": "code",
   "execution_count": 113,
   "id": "5eb3b422",
   "metadata": {},
   "outputs": [],
   "source": [
    "def find_headers_orient(mpu):\n",
    "    headers = []\n",
    "    for i in mpu:\n",
    "        headers.append(i)\n",
    "    return headers"
   ]
  },
  {
   "cell_type": "code",
   "execution_count": 114,
   "id": "0937ae22",
   "metadata": {},
   "outputs": [],
   "source": [
    "def filter_scipy(dataset):\n",
    "    xn = dataset\n",
    "    b, a = signal.butter(3, 0.05)\n",
    "    zi = signal.lfilter_zi(b, a)\n",
    "    z, _ = signal.lfilter(b, a, xn, zi=zi* xn[0])\n",
    "    z2, _ = signal.lfilter(b, a, z, zi=zi*z[0])\n",
    "    y = signal.filtfilt(b, a, xn)\n",
    "    plt.figure\n",
    "    plt.plot(orientation_lb_test.index, xn, 'b', alpha=0.75)\n",
    "    plt.plot(orientation_lb_test.index, z, 'r--', orientation_lb_test.index, z2, 'r', orientation_lb_test.index, y, 'k')\n",
    "    plt.legend(('noisy signal', 'lfilter, once', 'lfilter, twice',\n",
    "            'filtfilt'), loc='best')\n",
    "    plt.grid(True)\n",
    "    plt.show()\n",
    "    \n",
    "    return y"
   ]
  },
  {
   "cell_type": "code",
   "execution_count": 115,
   "id": "c57589a5",
   "metadata": {},
   "outputs": [],
   "source": [
    "# xn = orientation_lb_test['yaw_lb']\n",
    "# b, a = signal.butter(3, 0.05)\n",
    "# zi = signal.lfilter_zi(b, a)\n",
    "# z, _ = signal.lfilter(b, a, orientation_lb_test['yaw_lb'], zi=zi* orientation_lb_test['yaw_lb'][0])"
   ]
  },
  {
   "cell_type": "code",
   "execution_count": 116,
   "id": "1a2dc853",
   "metadata": {},
   "outputs": [
    {
     "data": {
      "text/plain": [
       "['roll_lb', 'pitch_lb', 'yaw_lb']"
      ]
     },
     "execution_count": 116,
     "metadata": {},
     "output_type": "execute_result"
    }
   ],
   "source": [
    "# z2, _ = signal.lfilter(b, a, z, zi=zi*z[0])\n",
    "# y = signal.filtfilt(b, a, xn)\n",
    "headers_orient  = find_headers_orient(orientation_lb_test)\n",
    "headers_orient"
   ]
  },
  {
   "cell_type": "code",
   "execution_count": 117,
   "id": "e0caa5ac",
   "metadata": {},
   "outputs": [
    {
     "data": {
      "image/png": "[encoded data removed]",
      "text/plain": [
       "<Figure size 432x288 with 1 Axes>"
      ]
     },
     "metadata": {
      "needs_background": "light"
     },
     "output_type": "display_data"
    }
   ],
   "source": [
    "# filtered_roll =  filter_scipy(orientation_lb_test[headers_orient[0]])\n",
    "# filtered_pitch =  filter_scipy(orientation_lb_test[headers_orient[1]]) \n",
    "filtered_yaw =  filter_scipy(orientation_lb_test[headers_orient[2]])\n",
    "\n",
    "\n"
   ]
  },
  {
   "cell_type": "code",
   "execution_count": 118,
   "id": "d7b42ba6",
   "metadata": {},
   "outputs": [
    {
     "ename": "NameError",
     "evalue": "name 'filtered_roll' is not defined",
     "output_type": "error",
     "traceback": [
      "\u001b[1;31m---------------------------------------------------------------------------\u001b[0m",
      "\u001b[1;31mNameError\u001b[0m                                 Traceback (most recent call last)",
      "\u001b[1;32m<ipython-input-118-d942227de4e5>\u001b[0m in \u001b[0;36m<module>\u001b[1;34m\u001b[0m\n\u001b[1;32m----> 1\u001b[1;33m \u001b[0mfiltered_roll_pd\u001b[0m \u001b[1;33m=\u001b[0m \u001b[0mpd\u001b[0m\u001b[1;33m.\u001b[0m\u001b[0mDataFrame\u001b[0m\u001b[1;33m(\u001b[0m\u001b[0mfiltered_roll\u001b[0m\u001b[1;33m)\u001b[0m\u001b[1;33m\u001b[0m\u001b[1;33m\u001b[0m\u001b[0m\n\u001b[0m\u001b[0;32m      2\u001b[0m \u001b[0mfiltered_pitch_pd\u001b[0m \u001b[1;33m=\u001b[0m \u001b[0mpd\u001b[0m\u001b[1;33m.\u001b[0m\u001b[0mDataFrame\u001b[0m\u001b[1;33m(\u001b[0m\u001b[0mfiltered_pitch\u001b[0m\u001b[1;33m)\u001b[0m\u001b[1;33m\u001b[0m\u001b[1;33m\u001b[0m\u001b[0m\n\u001b[0;32m      3\u001b[0m \u001b[0mfiltered_yaw_pd\u001b[0m \u001b[1;33m=\u001b[0m \u001b[0mpd\u001b[0m\u001b[1;33m.\u001b[0m\u001b[0mDataFrame\u001b[0m\u001b[1;33m(\u001b[0m\u001b[0mfiltered_yaw\u001b[0m\u001b[1;33m)\u001b[0m\u001b[1;33m\u001b[0m\u001b[1;33m\u001b[0m\u001b[0m\n\u001b[0;32m      4\u001b[0m \u001b[0mframe\u001b[0m \u001b[1;33m=\u001b[0m \u001b[0mpd\u001b[0m\u001b[1;33m.\u001b[0m\u001b[0mconcat\u001b[0m\u001b[1;33m(\u001b[0m\u001b[1;33m[\u001b[0m\u001b[0mfiltered_roll_pd\u001b[0m\u001b[1;33m,\u001b[0m\u001b[0mfiltered_pitch_pd\u001b[0m\u001b[1;33m,\u001b[0m\u001b[0mfiltered_yaw_pd\u001b[0m\u001b[1;33m]\u001b[0m\u001b[1;33m,\u001b[0m\u001b[0maxis\u001b[0m \u001b[1;33m=\u001b[0m \u001b[1;36m1\u001b[0m\u001b[1;33m)\u001b[0m\u001b[1;33m\u001b[0m\u001b[1;33m\u001b[0m\u001b[0m\n\u001b[0;32m      5\u001b[0m \u001b[0mframe\u001b[0m\u001b[1;33m.\u001b[0m\u001b[0mcolumns\u001b[0m \u001b[1;33m=\u001b[0m \u001b[1;33m[\u001b[0m\u001b[1;34m\"roll\"\u001b[0m\u001b[1;33m,\u001b[0m \u001b[1;34m\"pitch\"\u001b[0m\u001b[1;33m,\u001b[0m \u001b[1;34m\"yaw\"\u001b[0m\u001b[1;33m]\u001b[0m\u001b[1;33m\u001b[0m\u001b[1;33m\u001b[0m\u001b[0m\n",
      "\u001b[1;31mNameError\u001b[0m: name 'filtered_roll' is not defined"
     ]
    }
   ],
   "source": [
    "\n",
    "filtered_roll_pd = pd.DataFrame(filtered_roll)\n",
    "filtered_pitch_pd = pd.DataFrame(filtered_pitch)\n",
    "filtered_yaw_pd = pd.DataFrame(filtered_yaw)\n",
    "frame = pd.concat([filtered_roll_pd,filtered_pitch_pd,filtered_yaw_pd],axis = 1)\n",
    "frame.columns = [\"roll\", \"pitch\", \"yaw\"]\n",
    "frame"
   ]
  },
  {
   "cell_type": "code",
   "execution_count": null,
   "id": "2677a13a",
   "metadata": {},
   "outputs": [],
   "source": []
  },
  {
   "cell_type": "code",
   "execution_count": 119,
   "id": "ccd3743e",
   "metadata": {},
   "outputs": [
    {
     "ename": "NameError",
     "evalue": "name 'frame' is not defined",
     "output_type": "error",
     "traceback": [
      "\u001b[1;31m---------------------------------------------------------------------------\u001b[0m",
      "\u001b[1;31mNameError\u001b[0m                                 Traceback (most recent call last)",
      "\u001b[1;32m<ipython-input-119-876c0ac96c7c>\u001b[0m in \u001b[0;36m<module>\u001b[1;34m\u001b[0m\n\u001b[0;32m      1\u001b[0m \u001b[0mplt\u001b[0m\u001b[1;33m.\u001b[0m\u001b[0mfigure\u001b[0m\u001b[1;33m\u001b[0m\u001b[1;33m\u001b[0m\u001b[0m\n\u001b[1;32m----> 2\u001b[1;33m \u001b[0mplt\u001b[0m\u001b[1;33m.\u001b[0m\u001b[0mplot\u001b[0m\u001b[1;33m(\u001b[0m\u001b[0mframe\u001b[0m\u001b[1;33m.\u001b[0m\u001b[0mindex\u001b[0m\u001b[1;33m,\u001b[0m \u001b[0mframe\u001b[0m\u001b[1;33m[\u001b[0m\u001b[1;34m'roll'\u001b[0m\u001b[1;33m]\u001b[0m\u001b[1;33m,\u001b[0m \u001b[1;34m'b'\u001b[0m\u001b[1;33m,\u001b[0m \u001b[0malpha\u001b[0m\u001b[1;33m=\u001b[0m\u001b[1;36m0.75\u001b[0m\u001b[1;33m)\u001b[0m\u001b[1;33m\u001b[0m\u001b[1;33m\u001b[0m\u001b[0m\n\u001b[0m\u001b[0;32m      3\u001b[0m \u001b[0mplt\u001b[0m\u001b[1;33m.\u001b[0m\u001b[0mplot\u001b[0m\u001b[1;33m(\u001b[0m\u001b[0mframe\u001b[0m\u001b[1;33m.\u001b[0m\u001b[0mindex\u001b[0m\u001b[1;33m,\u001b[0m \u001b[0mframe\u001b[0m\u001b[1;33m[\u001b[0m\u001b[1;34m'pitch'\u001b[0m\u001b[1;33m]\u001b[0m\u001b[1;33m,\u001b[0m \u001b[1;34m'r'\u001b[0m\u001b[1;33m,\u001b[0m \u001b[0mframe\u001b[0m\u001b[1;33m.\u001b[0m\u001b[0mindex\u001b[0m\u001b[1;33m,\u001b[0m  \u001b[0mframe\u001b[0m\u001b[1;33m[\u001b[0m\u001b[1;34m'yaw'\u001b[0m\u001b[1;33m]\u001b[0m\u001b[1;33m,\u001b[0m \u001b[1;34m'g'\u001b[0m\u001b[1;33m)\u001b[0m\u001b[1;33m\u001b[0m\u001b[1;33m\u001b[0m\u001b[0m\n\u001b[0;32m      4\u001b[0m \u001b[0mplt\u001b[0m\u001b[1;33m.\u001b[0m\u001b[0mlegend\u001b[0m\u001b[1;33m(\u001b[0m\u001b[1;33m(\u001b[0m\u001b[1;34m'roll'\u001b[0m\u001b[1;33m,\u001b[0m \u001b[1;34m'pitch'\u001b[0m\u001b[1;33m,\u001b[0m \u001b[1;34m'yaw'\u001b[0m\u001b[1;33m)\u001b[0m\u001b[1;33m,\u001b[0m \u001b[0mloc\u001b[0m\u001b[1;33m=\u001b[0m\u001b[1;34m'best'\u001b[0m\u001b[1;33m)\u001b[0m\u001b[1;33m\u001b[0m\u001b[1;33m\u001b[0m\u001b[0m\n\u001b[0;32m      5\u001b[0m \u001b[0mplt\u001b[0m\u001b[1;33m.\u001b[0m\u001b[0mgrid\u001b[0m\u001b[1;33m(\u001b[0m\u001b[1;32mTrue\u001b[0m\u001b[1;33m)\u001b[0m\u001b[1;33m\u001b[0m\u001b[1;33m\u001b[0m\u001b[0m\n",
      "\u001b[1;31mNameError\u001b[0m: name 'frame' is not defined"
     ]
    }
   ],
   "source": [
    "plt.figure\n",
    "plt.plot(frame.index, frame['roll'], 'b', alpha=0.75)\n",
    "plt.plot(frame.index, frame['pitch'], 'r', frame.index,  frame['yaw'], 'g')\n",
    "plt.legend(('roll', 'pitch', 'yaw'), loc='best')\n",
    "plt.grid(True)\n",
    "plt.show()\n",
    "\n",
    "\n"
   ]
  },
  {
   "cell_type": "markdown",
   "id": "50a84d77",
   "metadata": {
    "code_folding": []
   },
   "source": [
    "# Orientation only with gyro "
   ]
  },
  {
   "cell_type": "code",
   "execution_count": 86,
   "id": "b23e121b",
   "metadata": {},
   "outputs": [
    {
     "ename": "NameError",
     "evalue": "name 'calibrated_lb' is not defined",
     "output_type": "error",
     "traceback": [
      "\u001b[1;31m---------------------------------------------------------------------------\u001b[0m",
      "\u001b[1;31mNameError\u001b[0m                                 Traceback (most recent call last)",
      "\u001b[1;32m<ipython-input-86-4b341e69e048>\u001b[0m in \u001b[0;36m<module>\u001b[1;34m\u001b[0m\n\u001b[1;32m----> 1\u001b[1;33m \u001b[0mpitch\u001b[0m \u001b[1;33m=\u001b[0m \u001b[0mnp\u001b[0m\u001b[1;33m.\u001b[0m\u001b[0mzeros\u001b[0m\u001b[1;33m(\u001b[0m\u001b[0mlen\u001b[0m\u001b[1;33m(\u001b[0m\u001b[0mcalibrated_lb\u001b[0m\u001b[1;33m)\u001b[0m\u001b[1;33m)\u001b[0m\u001b[1;33m\u001b[0m\u001b[1;33m\u001b[0m\u001b[0m\n\u001b[0m\u001b[0;32m      2\u001b[0m \u001b[0myaw\u001b[0m \u001b[1;33m=\u001b[0m \u001b[0mnp\u001b[0m\u001b[1;33m.\u001b[0m\u001b[0mzeros\u001b[0m\u001b[1;33m(\u001b[0m\u001b[0mlen\u001b[0m\u001b[1;33m(\u001b[0m\u001b[0mcalibrated_lb\u001b[0m\u001b[1;33m)\u001b[0m\u001b[1;33m)\u001b[0m\u001b[1;33m\u001b[0m\u001b[1;33m\u001b[0m\u001b[0m\n\u001b[0;32m      3\u001b[0m \u001b[0mroll\u001b[0m \u001b[1;33m=\u001b[0m \u001b[0mnp\u001b[0m\u001b[1;33m.\u001b[0m\u001b[0mzeros\u001b[0m\u001b[1;33m(\u001b[0m\u001b[0mlen\u001b[0m\u001b[1;33m(\u001b[0m\u001b[0mcalibrated_lb\u001b[0m\u001b[1;33m)\u001b[0m\u001b[1;33m)\u001b[0m\u001b[1;33m\u001b[0m\u001b[1;33m\u001b[0m\u001b[0m\n\u001b[0;32m      4\u001b[0m \u001b[1;33m\u001b[0m\u001b[0m\n\u001b[0;32m      5\u001b[0m \u001b[1;32mfor\u001b[0m \u001b[0mi\u001b[0m \u001b[1;32min\u001b[0m \u001b[0mrange\u001b[0m\u001b[1;33m(\u001b[0m\u001b[0mlen\u001b[0m\u001b[1;33m(\u001b[0m\u001b[0mcalibrated_lb\u001b[0m\u001b[1;33m)\u001b[0m\u001b[1;33m-\u001b[0m\u001b[1;36m1\u001b[0m\u001b[1;33m)\u001b[0m\u001b[1;33m:\u001b[0m\u001b[1;33m\u001b[0m\u001b[1;33m\u001b[0m\u001b[0m\n",
      "\u001b[1;31mNameError\u001b[0m: name 'calibrated_lb' is not defined"
     ]
    }
   ],
   "source": [
    "\n",
    "\n",
    "pitch = np.zeros(len(calibrated_lb))\n",
    "yaw = np.zeros(len(calibrated_lb))\n",
    "roll = np.zeros(len(calibrated_lb))\n",
    "\n",
    "for i in range(len(calibrated_lb)-1):\n",
    "    delta_t = 0.06\n",
    "    \n",
    "    pitch[i+1] = pitch[i] + calibrated_lb['lb_gy'][i]*delta_t\n",
    "    yaw[i+1] = yaw[i]+calibrated_lb['lb_gz'][i]*delta_t\n",
    "    roll[i+1] = roll[i]+calibrated_lb['lb_gx'][i]*delta_t\n",
    "    \n",
    "\n",
    "orientation_d = pd.DataFrame({'roll':np.rad2deg(roll),'pitch':np.rad2deg(pitch),'yaw':np.rad2deg(yaw)})\n",
    "\n",
    "show_plot(orientation_d,'Orientation only with  gyro')"
   ]
  },
  {
   "cell_type": "code",
   "execution_count": 161,
   "id": "6cd41de5",
   "metadata": {},
   "outputs": [],
   "source": [
    "#(-0.02213089742574257, 0.01005698124752475, -0.013309934386138617)"
   ]
  },
  {
   "cell_type": "code",
   "execution_count": null,
   "id": "85c72040",
   "metadata": {},
   "outputs": [],
   "source": []
  }
 ],
 "metadata": {
  "kernelspec": {
   "display_name": "Python 3",
   "language": "python",
   "name": "python3"
  },
  "language_info": {
   "codemirror_mode": {
    "name": "ipython",
    "version": 3
   },
   "file_extension": ".py",
   "mimetype": "text/x-python",
   "name": "python",
   "nbconvert_exporter": "python",
   "pygments_lexer": "ipython3",
   "version": "3.8.8"
  },
  "toc": {
   "base_numbering": 1,
   "nav_menu": {},
   "number_sections": true,
   "sideBar": true,
   "skip_h1_title": false,
   "title_cell": "Table of Contents",
   "title_sidebar": "Contents",
   "toc_cell": false,
   "toc_position": {},
   "toc_section_display": true,
   "toc_window_display": false
  }
 },
 "nbformat": 4,
 "nbformat_minor": 5
}
