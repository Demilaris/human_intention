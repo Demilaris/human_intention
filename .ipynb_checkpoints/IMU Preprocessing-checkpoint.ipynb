{
 "cells": [
  {
   "cell_type": "markdown",
   "id": "4b83d4c5",
   "metadata": {},
   "source": [
    "# Read Data From CSV"
   ]
  },
  {
   "cell_type": "code",
   "execution_count": 1,
   "id": "448519ea",
   "metadata": {},
   "outputs": [],
   "source": [
    "import plotly\n",
    "import plotly.graph_objs as go\n",
    "import plotly.express as px\n",
    "from plotly.subplots import make_subplots\n",
    "import pandas as pd\n",
    "import numpy as np\n",
    "from numpy.linalg import norm\n",
    "from quaternion import Quaternion\n",
    "from scipy import stats"
   ]
  },
  {
   "cell_type": "code",
   "execution_count": 2,
   "id": "8b3d7cb3",
   "metadata": {},
   "outputs": [],
   "source": [
    "#функции калибровки\n",
    "def find_offsets(mpu,counts = 85):\n",
    "#     calibration_set = mpu.loc[:counts]\n",
    "    calibration_set =mpu \n",
    "    n = float(len(calibration_set))\n",
    "    summ = []\n",
    "    offsets = []\n",
    "    for i in calibration_set:\n",
    "        summ.append(calibration_set[i].sum())\n",
    "    for s in summ:\n",
    "        offsets.append(s/n)\n",
    "    return offsets\n",
    "\n",
    "def find_headers(mpu):\n",
    "    headers = []\n",
    "    for i in mpu:\n",
    "        headers.append(i)\n",
    "    return headers\n",
    "\n",
    "def calibration(mpu,dataset):\n",
    "    \n",
    "    headers = find_headers(mpu)\n",
    "    print(headers)\n",
    "    \n",
    "    off = find_offsets(mpu)\n",
    "    calibrated = dataset.copy()\n",
    "    #не калибровать ускорение для фильтра маджвика!\n",
    "    calibrated[headers[0]] = mpu[headers[0]] - off[0]\n",
    "#     calibrated[headers[1]] = mpu[headers[1]] - off[1]\n",
    "    calibrated[headers[2]] = mpu[headers[2]] - off[2]\n",
    "    \n",
    "    calibrated[headers[3]] = mpu[headers[3]] - off[3]\n",
    "    calibrated[headers[4]] = mpu[headers[4]] - off[4]\n",
    "    calibrated[headers[5]] = mpu[headers[5]] - off[5]\n",
    "    \n",
    "    return calibrated\n"
   ]
  },
  {
   "cell_type": "code",
   "execution_count": 95,
   "id": "587f445e",
   "metadata": {},
   "outputs": [],
   "source": [
    "#функции для вывода графиков\n",
    "def show_plots(mpu_t,mpu_b,title_t,title_b,accel=None):\n",
    "    \n",
    "    headers_t = find_headers(mpu_t)\n",
    "    headers_b = find_headers(mpu_b)\n",
    "    \n",
    "    if accel == True:\n",
    "        headers_t = headers_t[:3]\n",
    "        headers_b = headers_b[:3]\n",
    "        title_t += ' accel'\n",
    "        title_b += ' accel'\n",
    "    elif accel == None:\n",
    "        headers_t = headers_t[:3]\n",
    "        title_t +='accel'\n",
    "        headers_b = headers_b[3:]\n",
    "        title_b += ' gyro'\n",
    "    else:\n",
    "        headers_t = headers_t[3:]\n",
    "        headers_b = headers_b[3:]\n",
    "        title_t += ' gyro'\n",
    "        title_b += ' gyro'\n",
    "        \n",
    "\n",
    "\n",
    "    fig = make_subplots(rows=1, cols=2, subplot_titles=(title_t,title_b))\n",
    "\n",
    "\n",
    "    fig.add_trace(go.Scatter(x=mpu_t.index, y=mpu_t[headers_t[0]],name=headers_t[0]),1,1)\n",
    "    fig.add_trace(go.Scatter(x=mpu_t.index, y=mpu_t[headers_t[1]],name=headers_t[1]),1,1)\n",
    "    fig.add_trace(go.Scatter(x=mpu_t.index, y=mpu_t[headers_t[2]],name=headers_t[2]),1,1)\n",
    "\n",
    "    fig.add_trace(go.Scatter(x=mpu_t.index, y=mpu_b[headers_b[0]],name=headers_b[0]),1,2)\n",
    "    fig.add_trace(go.Scatter(x=mpu_t.index, y=mpu_b[headers_b[1]],name=headers_b[1]),1,2)\n",
    "    fig.add_trace(go.Scatter(x=mpu_t.index, y=mpu_b[headers_b[2]],name=headers_b[2]),1,2)\n",
    "\n",
    "\n",
    "    fig.update_layout(legend_orientation=\"h\",\n",
    "                      legend=dict(x=.5, xanchor=\"center\"),\n",
    "                      hovermode=\"x\",\n",
    "                      margin=dict(l=0, r=0, t=40, b=0))\n",
    "    fig.show()\n",
    "\n",
    "\n",
    "def show_plot(mpu_t,title_t,accel=None):\n",
    "    \n",
    "    headers_t = find_headers(mpu_t)\n",
    "    \n",
    "    if accel == True:\n",
    "        headers_t = headers_t[:3]\n",
    "        title_t += ' accel'\n",
    "    elif accel == None:\n",
    "        headers_t = headers_t\n",
    "    else:\n",
    "        headers_t = headers_t[3:]\n",
    "        title_t += ' gyro'\n",
    "        \n",
    "\n",
    "\n",
    "    fig = go.Figure() \n",
    "    fig.update_layout(title=title_t)\n",
    "    fig.add_trace(go.Scatter(x=mpu_t.index, y=mpu_t[headers_t[0]],name=headers_t[0]))\n",
    "    fig.add_trace(go.Scatter(x=mpu_t.index, y=mpu_t[headers_t[1]],name=headers_t[1]))\n",
    "    fig.add_trace(go.Scatter(x=mpu_t.index, y=mpu_t[headers_t[2]],name=headers_t[2]))\n",
    "\n",
    "    fig.show()\n"
   ]
  },
  {
   "cell_type": "code",
   "execution_count": 96,
   "id": "d2db9682",
   "metadata": {},
   "outputs": [
    {
     "data": {
      "text/html": [
       "<div>\n",
       "<style scoped>\n",
       "    .dataframe tbody tr th:only-of-type {\n",
       "        vertical-align: middle;\n",
       "    }\n",
       "\n",
       "    .dataframe tbody tr th {\n",
       "        vertical-align: top;\n",
       "    }\n",
       "\n",
       "    .dataframe thead th {\n",
       "        text-align: right;\n",
       "    }\n",
       "</style>\n",
       "<table border=\"1\" class=\"dataframe\">\n",
       "  <thead>\n",
       "    <tr style=\"text-align: right;\">\n",
       "      <th></th>\n",
       "      <th>s1</th>\n",
       "      <th>bt_ax</th>\n",
       "      <th>bt_ay</th>\n",
       "      <th>bt_az</th>\n",
       "      <th>bt_gx</th>\n",
       "      <th>bt_gy</th>\n",
       "      <th>bt_gz</th>\n",
       "      <th>s2</th>\n",
       "      <th>bb_ax</th>\n",
       "      <th>bb_ay</th>\n",
       "      <th>...</th>\n",
       "      <th>rt_gx</th>\n",
       "      <th>rt_gy</th>\n",
       "      <th>rt_gz</th>\n",
       "      <th>s6</th>\n",
       "      <th>rb_ax</th>\n",
       "      <th>rb_ay</th>\n",
       "      <th>rb_az</th>\n",
       "      <th>rb_gx</th>\n",
       "      <th>rb_gy</th>\n",
       "      <th>rb_gz</th>\n",
       "    </tr>\n",
       "  </thead>\n",
       "  <tbody>\n",
       "    <tr>\n",
       "      <th>0</th>\n",
       "      <td>s1</td>\n",
       "      <td>0.308852</td>\n",
       "      <td>-9.696517</td>\n",
       "      <td>-2.147599</td>\n",
       "      <td>-0.014389</td>\n",
       "      <td>0.001865</td>\n",
       "      <td>-0.018919</td>\n",
       "      <td>s2</td>\n",
       "      <td>0.074220</td>\n",
       "      <td>10.29986</td>\n",
       "      <td>...</td>\n",
       "      <td>0.018119</td>\n",
       "      <td>0.041302</td>\n",
       "      <td>0.001066</td>\n",
       "      <td>s6</td>\n",
       "      <td>-2.731784</td>\n",
       "      <td>9.749189</td>\n",
       "      <td>-0.694318</td>\n",
       "      <td>0.000666</td>\n",
       "      <td>-0.027712</td>\n",
       "      <td>-0.007461</td>\n",
       "    </tr>\n",
       "    <tr>\n",
       "      <th>1</th>\n",
       "      <td>s1</td>\n",
       "      <td>0.284910</td>\n",
       "      <td>-9.744401</td>\n",
       "      <td>-2.020706</td>\n",
       "      <td>-0.027046</td>\n",
       "      <td>0.000666</td>\n",
       "      <td>-0.020118</td>\n",
       "      <td>s2</td>\n",
       "      <td>0.093374</td>\n",
       "      <td>10.29028</td>\n",
       "      <td>...</td>\n",
       "      <td>0.018786</td>\n",
       "      <td>0.050761</td>\n",
       "      <td>-0.002531</td>\n",
       "      <td>s6</td>\n",
       "      <td>-2.703054</td>\n",
       "      <td>9.756371</td>\n",
       "      <td>-0.514753</td>\n",
       "      <td>-0.000266</td>\n",
       "      <td>-0.009859</td>\n",
       "      <td>-0.010925</td>\n",
       "    </tr>\n",
       "    <tr>\n",
       "      <th>2</th>\n",
       "      <td>s1</td>\n",
       "      <td>0.313640</td>\n",
       "      <td>-9.725247</td>\n",
       "      <td>-2.190695</td>\n",
       "      <td>-0.030643</td>\n",
       "      <td>-0.001732</td>\n",
       "      <td>-0.015855</td>\n",
       "      <td>s2</td>\n",
       "      <td>0.031125</td>\n",
       "      <td>10.31662</td>\n",
       "      <td>...</td>\n",
       "      <td>0.018652</td>\n",
       "      <td>0.043966</td>\n",
       "      <td>0.002531</td>\n",
       "      <td>s6</td>\n",
       "      <td>-2.810793</td>\n",
       "      <td>9.761160</td>\n",
       "      <td>-0.658405</td>\n",
       "      <td>-0.001732</td>\n",
       "      <td>-0.016121</td>\n",
       "      <td>-0.007061</td>\n",
       "    </tr>\n",
       "    <tr>\n",
       "      <th>3</th>\n",
       "      <td>s1</td>\n",
       "      <td>0.260968</td>\n",
       "      <td>-9.727641</td>\n",
       "      <td>-2.114080</td>\n",
       "      <td>-0.002665</td>\n",
       "      <td>0.015322</td>\n",
       "      <td>-0.012257</td>\n",
       "      <td>s2</td>\n",
       "      <td>0.064643</td>\n",
       "      <td>10.32380</td>\n",
       "      <td>...</td>\n",
       "      <td>0.014389</td>\n",
       "      <td>0.040502</td>\n",
       "      <td>0.007328</td>\n",
       "      <td>s6</td>\n",
       "      <td>-2.758120</td>\n",
       "      <td>9.737218</td>\n",
       "      <td>-0.608127</td>\n",
       "      <td>0.003064</td>\n",
       "      <td>-0.038371</td>\n",
       "      <td>-0.006262</td>\n",
       "    </tr>\n",
       "    <tr>\n",
       "      <th>4</th>\n",
       "      <td>s1</td>\n",
       "      <td>0.373495</td>\n",
       "      <td>-9.722853</td>\n",
       "      <td>-2.106898</td>\n",
       "      <td>-0.018519</td>\n",
       "      <td>0.019851</td>\n",
       "      <td>-0.009726</td>\n",
       "      <td>s2</td>\n",
       "      <td>0.028730</td>\n",
       "      <td>10.28549</td>\n",
       "      <td>...</td>\n",
       "      <td>0.018386</td>\n",
       "      <td>0.032508</td>\n",
       "      <td>0.009593</td>\n",
       "      <td>s6</td>\n",
       "      <td>-2.770091</td>\n",
       "      <td>9.753978</td>\n",
       "      <td>-0.577003</td>\n",
       "      <td>-0.008394</td>\n",
       "      <td>-0.035440</td>\n",
       "      <td>-0.002265</td>\n",
       "    </tr>\n",
       "    <tr>\n",
       "      <th>5</th>\n",
       "      <td>s1</td>\n",
       "      <td>0.308852</td>\n",
       "      <td>-9.706094</td>\n",
       "      <td>-2.152387</td>\n",
       "      <td>-0.022516</td>\n",
       "      <td>0.009326</td>\n",
       "      <td>-0.009992</td>\n",
       "      <td>s2</td>\n",
       "      <td>0.038307</td>\n",
       "      <td>10.27352</td>\n",
       "      <td>...</td>\n",
       "      <td>0.018119</td>\n",
       "      <td>0.042900</td>\n",
       "      <td>0.008394</td>\n",
       "      <td>s6</td>\n",
       "      <td>-2.801216</td>\n",
       "      <td>9.718064</td>\n",
       "      <td>-0.538695</td>\n",
       "      <td>0.003064</td>\n",
       "      <td>-0.035440</td>\n",
       "      <td>0.000933</td>\n",
       "    </tr>\n",
       "    <tr>\n",
       "      <th>6</th>\n",
       "      <td>s1</td>\n",
       "      <td>0.313640</td>\n",
       "      <td>-9.682152</td>\n",
       "      <td>-2.200271</td>\n",
       "      <td>-0.036772</td>\n",
       "      <td>0.013323</td>\n",
       "      <td>-0.009726</td>\n",
       "      <td>s2</td>\n",
       "      <td>0.079009</td>\n",
       "      <td>10.31901</td>\n",
       "      <td>...</td>\n",
       "      <td>0.017853</td>\n",
       "      <td>0.040236</td>\n",
       "      <td>0.004263</td>\n",
       "      <td>s6</td>\n",
       "      <td>-2.767697</td>\n",
       "      <td>9.689334</td>\n",
       "      <td>-0.593762</td>\n",
       "      <td>0.000000</td>\n",
       "      <td>-0.033041</td>\n",
       "      <td>-0.006795</td>\n",
       "    </tr>\n",
       "    <tr>\n",
       "      <th>7</th>\n",
       "      <td>s1</td>\n",
       "      <td>0.313640</td>\n",
       "      <td>-9.670180</td>\n",
       "      <td>-2.128445</td>\n",
       "      <td>-0.033974</td>\n",
       "      <td>0.007061</td>\n",
       "      <td>-0.015588</td>\n",
       "      <td>s2</td>\n",
       "      <td>0.079009</td>\n",
       "      <td>10.29267</td>\n",
       "      <td>...</td>\n",
       "      <td>0.017054</td>\n",
       "      <td>0.023982</td>\n",
       "      <td>0.006262</td>\n",
       "      <td>s6</td>\n",
       "      <td>-2.705448</td>\n",
       "      <td>9.782708</td>\n",
       "      <td>-0.644040</td>\n",
       "      <td>-0.001199</td>\n",
       "      <td>-0.037838</td>\n",
       "      <td>-0.005462</td>\n",
       "    </tr>\n",
       "    <tr>\n",
       "      <th>8</th>\n",
       "      <td>s1</td>\n",
       "      <td>0.366313</td>\n",
       "      <td>-9.694122</td>\n",
       "      <td>-2.260126</td>\n",
       "      <td>-0.031309</td>\n",
       "      <td>0.029577</td>\n",
       "      <td>-0.007061</td>\n",
       "      <td>s2</td>\n",
       "      <td>0.023942</td>\n",
       "      <td>10.27112</td>\n",
       "      <td>...</td>\n",
       "      <td>0.020518</td>\n",
       "      <td>0.035839</td>\n",
       "      <td>0.009326</td>\n",
       "      <td>s6</td>\n",
       "      <td>-2.748544</td>\n",
       "      <td>9.775525</td>\n",
       "      <td>-0.543484</td>\n",
       "      <td>0.001599</td>\n",
       "      <td>-0.041168</td>\n",
       "      <td>-0.004530</td>\n",
       "    </tr>\n",
       "    <tr>\n",
       "      <th>9</th>\n",
       "      <td>s1</td>\n",
       "      <td>0.258574</td>\n",
       "      <td>-9.713276</td>\n",
       "      <td>-2.070984</td>\n",
       "      <td>-0.024381</td>\n",
       "      <td>0.012391</td>\n",
       "      <td>-0.011591</td>\n",
       "      <td>s2</td>\n",
       "      <td>0.069432</td>\n",
       "      <td>10.27352</td>\n",
       "      <td>...</td>\n",
       "      <td>0.013190</td>\n",
       "      <td>0.047830</td>\n",
       "      <td>0.006262</td>\n",
       "      <td>s6</td>\n",
       "      <td>-2.703054</td>\n",
       "      <td>9.763555</td>\n",
       "      <td>-0.591368</td>\n",
       "      <td>0.003464</td>\n",
       "      <td>-0.028645</td>\n",
       "      <td>-0.006129</td>\n",
       "    </tr>\n",
       "    <tr>\n",
       "      <th>10</th>\n",
       "      <td>s1</td>\n",
       "      <td>0.277727</td>\n",
       "      <td>-9.737218</td>\n",
       "      <td>-2.190695</td>\n",
       "      <td>-0.018652</td>\n",
       "      <td>0.010658</td>\n",
       "      <td>-0.014389</td>\n",
       "      <td>s2</td>\n",
       "      <td>0.071826</td>\n",
       "      <td>10.33337</td>\n",
       "      <td>...</td>\n",
       "      <td>0.017187</td>\n",
       "      <td>0.048896</td>\n",
       "      <td>0.009193</td>\n",
       "      <td>s6</td>\n",
       "      <td>-2.765303</td>\n",
       "      <td>9.744401</td>\n",
       "      <td>-0.639252</td>\n",
       "      <td>-0.002398</td>\n",
       "      <td>-0.030643</td>\n",
       "      <td>-0.005462</td>\n",
       "    </tr>\n",
       "    <tr>\n",
       "      <th>11</th>\n",
       "      <td>s1</td>\n",
       "      <td>0.272939</td>\n",
       "      <td>-9.701305</td>\n",
       "      <td>-2.183512</td>\n",
       "      <td>-0.015721</td>\n",
       "      <td>0.004930</td>\n",
       "      <td>-0.017587</td>\n",
       "      <td>s2</td>\n",
       "      <td>0.102951</td>\n",
       "      <td>10.31183</td>\n",
       "      <td>...</td>\n",
       "      <td>0.012257</td>\n",
       "      <td>0.041302</td>\n",
       "      <td>0.001332</td>\n",
       "      <td>s6</td>\n",
       "      <td>-2.767697</td>\n",
       "      <td>9.770737</td>\n",
       "      <td>-0.651223</td>\n",
       "      <td>-0.001332</td>\n",
       "      <td>-0.025980</td>\n",
       "      <td>-0.006795</td>\n",
       "    </tr>\n",
       "    <tr>\n",
       "      <th>12</th>\n",
       "      <td>s1</td>\n",
       "      <td>0.304064</td>\n",
       "      <td>-9.744401</td>\n",
       "      <td>-2.149993</td>\n",
       "      <td>-0.019985</td>\n",
       "      <td>0.011325</td>\n",
       "      <td>-0.019452</td>\n",
       "      <td>s2</td>\n",
       "      <td>0.074220</td>\n",
       "      <td>10.30225</td>\n",
       "      <td>...</td>\n",
       "      <td>0.017986</td>\n",
       "      <td>0.049695</td>\n",
       "      <td>0.001066</td>\n",
       "      <td>s6</td>\n",
       "      <td>-2.791639</td>\n",
       "      <td>9.737218</td>\n",
       "      <td>-0.622492</td>\n",
       "      <td>-0.005063</td>\n",
       "      <td>-0.026380</td>\n",
       "      <td>-0.006262</td>\n",
       "    </tr>\n",
       "    <tr>\n",
       "      <th>13</th>\n",
       "      <td>s1</td>\n",
       "      <td>0.359130</td>\n",
       "      <td>-9.763555</td>\n",
       "      <td>-2.190695</td>\n",
       "      <td>-0.004930</td>\n",
       "      <td>0.012790</td>\n",
       "      <td>-0.011325</td>\n",
       "      <td>s2</td>\n",
       "      <td>0.069432</td>\n",
       "      <td>10.37647</td>\n",
       "      <td>...</td>\n",
       "      <td>0.012391</td>\n",
       "      <td>0.035972</td>\n",
       "      <td>0.009593</td>\n",
       "      <td>s6</td>\n",
       "      <td>-2.712631</td>\n",
       "      <td>9.794679</td>\n",
       "      <td>-0.555455</td>\n",
       "      <td>-0.000933</td>\n",
       "      <td>-0.031576</td>\n",
       "      <td>-0.008926</td>\n",
       "    </tr>\n",
       "    <tr>\n",
       "      <th>14</th>\n",
       "      <td>s1</td>\n",
       "      <td>0.299275</td>\n",
       "      <td>-9.713276</td>\n",
       "      <td>-2.054225</td>\n",
       "      <td>-0.014922</td>\n",
       "      <td>0.006662</td>\n",
       "      <td>-0.008660</td>\n",
       "      <td>s2</td>\n",
       "      <td>0.138864</td>\n",
       "      <td>10.29986</td>\n",
       "      <td>...</td>\n",
       "      <td>0.016654</td>\n",
       "      <td>0.036639</td>\n",
       "      <td>0.008926</td>\n",
       "      <td>s6</td>\n",
       "      <td>-2.674323</td>\n",
       "      <td>9.773131</td>\n",
       "      <td>-0.629675</td>\n",
       "      <td>-0.001599</td>\n",
       "      <td>-0.037038</td>\n",
       "      <td>-0.001865</td>\n",
       "    </tr>\n",
       "    <tr>\n",
       "      <th>15</th>\n",
       "      <td>s1</td>\n",
       "      <td>0.289698</td>\n",
       "      <td>-9.725247</td>\n",
       "      <td>-2.011129</td>\n",
       "      <td>-0.020784</td>\n",
       "      <td>0.019851</td>\n",
       "      <td>-0.010126</td>\n",
       "      <td>s2</td>\n",
       "      <td>0.143652</td>\n",
       "      <td>10.30465</td>\n",
       "      <td>...</td>\n",
       "      <td>0.014123</td>\n",
       "      <td>0.037571</td>\n",
       "      <td>0.003331</td>\n",
       "      <td>s6</td>\n",
       "      <td>-2.671929</td>\n",
       "      <td>9.768343</td>\n",
       "      <td>-0.591368</td>\n",
       "      <td>-0.002531</td>\n",
       "      <td>-0.030377</td>\n",
       "      <td>-0.006395</td>\n",
       "    </tr>\n",
       "    <tr>\n",
       "      <th>16</th>\n",
       "      <td>s1</td>\n",
       "      <td>0.299275</td>\n",
       "      <td>-9.725247</td>\n",
       "      <td>-2.133234</td>\n",
       "      <td>-0.025314</td>\n",
       "      <td>0.016254</td>\n",
       "      <td>-0.012257</td>\n",
       "      <td>s2</td>\n",
       "      <td>0.090980</td>\n",
       "      <td>10.28070</td>\n",
       "      <td>...</td>\n",
       "      <td>0.020917</td>\n",
       "      <td>0.040502</td>\n",
       "      <td>0.003864</td>\n",
       "      <td>s6</td>\n",
       "      <td>-2.731784</td>\n",
       "      <td>9.732430</td>\n",
       "      <td>-0.598550</td>\n",
       "      <td>-0.002132</td>\n",
       "      <td>-0.036505</td>\n",
       "      <td>-0.003064</td>\n",
       "    </tr>\n",
       "    <tr>\n",
       "      <th>17</th>\n",
       "      <td>s1</td>\n",
       "      <td>0.260968</td>\n",
       "      <td>-9.749189</td>\n",
       "      <td>-2.066196</td>\n",
       "      <td>-0.019319</td>\n",
       "      <td>0.005729</td>\n",
       "      <td>-0.012657</td>\n",
       "      <td>s2</td>\n",
       "      <td>0.107739</td>\n",
       "      <td>10.28788</td>\n",
       "      <td>...</td>\n",
       "      <td>0.013057</td>\n",
       "      <td>0.043700</td>\n",
       "      <td>0.003331</td>\n",
       "      <td>s6</td>\n",
       "      <td>-2.657564</td>\n",
       "      <td>9.763555</td>\n",
       "      <td>-0.562637</td>\n",
       "      <td>-0.001199</td>\n",
       "      <td>-0.033708</td>\n",
       "      <td>-0.009193</td>\n",
       "    </tr>\n",
       "    <tr>\n",
       "      <th>18</th>\n",
       "      <td>s1</td>\n",
       "      <td>0.359130</td>\n",
       "      <td>-9.696517</td>\n",
       "      <td>-2.063802</td>\n",
       "      <td>-0.026646</td>\n",
       "      <td>0.002132</td>\n",
       "      <td>-0.011991</td>\n",
       "      <td>s2</td>\n",
       "      <td>0.095768</td>\n",
       "      <td>10.26155</td>\n",
       "      <td>...</td>\n",
       "      <td>0.019052</td>\n",
       "      <td>0.044766</td>\n",
       "      <td>0.001199</td>\n",
       "      <td>s6</td>\n",
       "      <td>-2.659958</td>\n",
       "      <td>9.777920</td>\n",
       "      <td>-0.624887</td>\n",
       "      <td>0.000400</td>\n",
       "      <td>-0.039436</td>\n",
       "      <td>-0.007461</td>\n",
       "    </tr>\n",
       "    <tr>\n",
       "      <th>19</th>\n",
       "      <td>s1</td>\n",
       "      <td>0.311246</td>\n",
       "      <td>-9.725247</td>\n",
       "      <td>-2.205060</td>\n",
       "      <td>-0.025447</td>\n",
       "      <td>0.016787</td>\n",
       "      <td>-0.012524</td>\n",
       "      <td>s2</td>\n",
       "      <td>0.076614</td>\n",
       "      <td>10.29267</td>\n",
       "      <td>...</td>\n",
       "      <td>0.020384</td>\n",
       "      <td>0.039436</td>\n",
       "      <td>0.005462</td>\n",
       "      <td>s6</td>\n",
       "      <td>-2.762909</td>\n",
       "      <td>9.768343</td>\n",
       "      <td>-0.600945</td>\n",
       "      <td>-0.006528</td>\n",
       "      <td>-0.024648</td>\n",
       "      <td>-0.005063</td>\n",
       "    </tr>\n",
       "    <tr>\n",
       "      <th>20</th>\n",
       "      <td>s1</td>\n",
       "      <td>0.371101</td>\n",
       "      <td>-9.658210</td>\n",
       "      <td>-2.078167</td>\n",
       "      <td>-0.033574</td>\n",
       "      <td>0.020784</td>\n",
       "      <td>-0.018652</td>\n",
       "      <td>s2</td>\n",
       "      <td>0.090980</td>\n",
       "      <td>10.29507</td>\n",
       "      <td>...</td>\n",
       "      <td>0.017187</td>\n",
       "      <td>0.045299</td>\n",
       "      <td>0.000799</td>\n",
       "      <td>s6</td>\n",
       "      <td>-2.726996</td>\n",
       "      <td>9.768343</td>\n",
       "      <td>-0.550666</td>\n",
       "      <td>-0.005063</td>\n",
       "      <td>-0.019185</td>\n",
       "      <td>-0.005729</td>\n",
       "    </tr>\n",
       "    <tr>\n",
       "      <th>21</th>\n",
       "      <td>s1</td>\n",
       "      <td>0.308852</td>\n",
       "      <td>-9.662998</td>\n",
       "      <td>-2.185906</td>\n",
       "      <td>-0.033574</td>\n",
       "      <td>0.014123</td>\n",
       "      <td>-0.015055</td>\n",
       "      <td>s2</td>\n",
       "      <td>0.064643</td>\n",
       "      <td>10.27352</td>\n",
       "      <td>...</td>\n",
       "      <td>0.018119</td>\n",
       "      <td>0.038371</td>\n",
       "      <td>0.006395</td>\n",
       "      <td>s6</td>\n",
       "      <td>-2.698265</td>\n",
       "      <td>9.753978</td>\n",
       "      <td>-0.605733</td>\n",
       "      <td>0.005995</td>\n",
       "      <td>-0.035573</td>\n",
       "      <td>-0.009326</td>\n",
       "    </tr>\n",
       "    <tr>\n",
       "      <th>22</th>\n",
       "      <td>s1</td>\n",
       "      <td>0.292093</td>\n",
       "      <td>-9.727641</td>\n",
       "      <td>-2.128445</td>\n",
       "      <td>-0.036106</td>\n",
       "      <td>0.006129</td>\n",
       "      <td>-0.013456</td>\n",
       "      <td>s2</td>\n",
       "      <td>0.047884</td>\n",
       "      <td>10.28310</td>\n",
       "      <td>...</td>\n",
       "      <td>0.016521</td>\n",
       "      <td>0.055025</td>\n",
       "      <td>0.001066</td>\n",
       "      <td>s6</td>\n",
       "      <td>-2.726996</td>\n",
       "      <td>9.765948</td>\n",
       "      <td>-0.622492</td>\n",
       "      <td>0.004130</td>\n",
       "      <td>-0.026380</td>\n",
       "      <td>-0.007328</td>\n",
       "    </tr>\n",
       "    <tr>\n",
       "      <th>23</th>\n",
       "      <td>s1</td>\n",
       "      <td>0.332794</td>\n",
       "      <td>-9.710882</td>\n",
       "      <td>-2.255338</td>\n",
       "      <td>-0.029311</td>\n",
       "      <td>0.002665</td>\n",
       "      <td>-0.013057</td>\n",
       "      <td>s2</td>\n",
       "      <td>0.047884</td>\n",
       "      <td>10.32140</td>\n",
       "      <td>...</td>\n",
       "      <td>0.016654</td>\n",
       "      <td>0.044766</td>\n",
       "      <td>0.003864</td>\n",
       "      <td>s6</td>\n",
       "      <td>-2.688689</td>\n",
       "      <td>9.775525</td>\n",
       "      <td>-0.598550</td>\n",
       "      <td>0.002931</td>\n",
       "      <td>-0.024914</td>\n",
       "      <td>-0.007861</td>\n",
       "    </tr>\n",
       "    <tr>\n",
       "      <th>24</th>\n",
       "      <td>s1</td>\n",
       "      <td>0.383072</td>\n",
       "      <td>-9.708488</td>\n",
       "      <td>-2.305616</td>\n",
       "      <td>-0.018119</td>\n",
       "      <td>0.009459</td>\n",
       "      <td>-0.001466</td>\n",
       "      <td>s2</td>\n",
       "      <td>0.002394</td>\n",
       "      <td>10.28788</td>\n",
       "      <td>...</td>\n",
       "      <td>0.017453</td>\n",
       "      <td>0.053692</td>\n",
       "      <td>0.004130</td>\n",
       "      <td>s6</td>\n",
       "      <td>-2.731784</td>\n",
       "      <td>9.811439</td>\n",
       "      <td>-0.687136</td>\n",
       "      <td>-0.002798</td>\n",
       "      <td>-0.021051</td>\n",
       "      <td>-0.002398</td>\n",
       "    </tr>\n",
       "    <tr>\n",
       "      <th>25</th>\n",
       "      <td>s1</td>\n",
       "      <td>0.304064</td>\n",
       "      <td>-9.742006</td>\n",
       "      <td>-2.152387</td>\n",
       "      <td>-0.023848</td>\n",
       "      <td>0.023982</td>\n",
       "      <td>-0.000533</td>\n",
       "      <td>s2</td>\n",
       "      <td>0.117316</td>\n",
       "      <td>10.34535</td>\n",
       "      <td>...</td>\n",
       "      <td>0.013190</td>\n",
       "      <td>0.044233</td>\n",
       "      <td>0.006129</td>\n",
       "      <td>s6</td>\n",
       "      <td>-2.700660</td>\n",
       "      <td>9.789890</td>\n",
       "      <td>-0.565032</td>\n",
       "      <td>-0.006662</td>\n",
       "      <td>-0.017453</td>\n",
       "      <td>-0.005995</td>\n",
       "    </tr>\n",
       "    <tr>\n",
       "      <th>26</th>\n",
       "      <td>s1</td>\n",
       "      <td>0.210690</td>\n",
       "      <td>-9.713276</td>\n",
       "      <td>-2.250550</td>\n",
       "      <td>-0.019452</td>\n",
       "      <td>0.023049</td>\n",
       "      <td>-0.000400</td>\n",
       "      <td>s2</td>\n",
       "      <td>0.122104</td>\n",
       "      <td>10.37647</td>\n",
       "      <td>...</td>\n",
       "      <td>0.012257</td>\n",
       "      <td>0.035173</td>\n",
       "      <td>0.004263</td>\n",
       "      <td>s6</td>\n",
       "      <td>-2.748544</td>\n",
       "      <td>9.737218</td>\n",
       "      <td>-0.560243</td>\n",
       "      <td>0.000533</td>\n",
       "      <td>-0.032642</td>\n",
       "      <td>-0.003864</td>\n",
       "    </tr>\n",
       "    <tr>\n",
       "      <th>27</th>\n",
       "      <td>s1</td>\n",
       "      <td>0.246603</td>\n",
       "      <td>-9.698911</td>\n",
       "      <td>-2.164358</td>\n",
       "      <td>-0.014389</td>\n",
       "      <td>0.012657</td>\n",
       "      <td>-0.006262</td>\n",
       "      <td>s2</td>\n",
       "      <td>0.198719</td>\n",
       "      <td>10.29986</td>\n",
       "      <td>...</td>\n",
       "      <td>0.011724</td>\n",
       "      <td>0.058489</td>\n",
       "      <td>0.003064</td>\n",
       "      <td>s6</td>\n",
       "      <td>-2.760514</td>\n",
       "      <td>9.734824</td>\n",
       "      <td>-0.605733</td>\n",
       "      <td>0.002531</td>\n",
       "      <td>-0.013190</td>\n",
       "      <td>-0.011458</td>\n",
       "    </tr>\n",
       "    <tr>\n",
       "      <th>28</th>\n",
       "      <td>s1</td>\n",
       "      <td>0.227449</td>\n",
       "      <td>-9.737218</td>\n",
       "      <td>-2.109292</td>\n",
       "      <td>-0.024248</td>\n",
       "      <td>-0.001199</td>\n",
       "      <td>-0.020518</td>\n",
       "      <td>s2</td>\n",
       "      <td>0.155623</td>\n",
       "      <td>10.29986</td>\n",
       "      <td>...</td>\n",
       "      <td>0.014123</td>\n",
       "      <td>0.036372</td>\n",
       "      <td>0.003997</td>\n",
       "      <td>s6</td>\n",
       "      <td>-2.710236</td>\n",
       "      <td>9.730036</td>\n",
       "      <td>-0.632069</td>\n",
       "      <td>-0.001865</td>\n",
       "      <td>-0.039303</td>\n",
       "      <td>-0.004397</td>\n",
       "    </tr>\n",
       "    <tr>\n",
       "      <th>29</th>\n",
       "      <td>s1</td>\n",
       "      <td>0.270545</td>\n",
       "      <td>-9.686940</td>\n",
       "      <td>-2.219425</td>\n",
       "      <td>-0.014522</td>\n",
       "      <td>0.013590</td>\n",
       "      <td>-0.012391</td>\n",
       "      <td>s2</td>\n",
       "      <td>0.110133</td>\n",
       "      <td>10.32859</td>\n",
       "      <td>...</td>\n",
       "      <td>0.016920</td>\n",
       "      <td>0.044632</td>\n",
       "      <td>0.001998</td>\n",
       "      <td>s6</td>\n",
       "      <td>-2.786851</td>\n",
       "      <td>9.732430</td>\n",
       "      <td>-0.605733</td>\n",
       "      <td>-0.003464</td>\n",
       "      <td>-0.034374</td>\n",
       "      <td>-0.006528</td>\n",
       "    </tr>\n",
       "    <tr>\n",
       "      <th>30</th>\n",
       "      <td>s1</td>\n",
       "      <td>0.239420</td>\n",
       "      <td>-9.639056</td>\n",
       "      <td>-2.075773</td>\n",
       "      <td>-0.024515</td>\n",
       "      <td>0.012923</td>\n",
       "      <td>-0.018652</td>\n",
       "      <td>s2</td>\n",
       "      <td>0.138864</td>\n",
       "      <td>10.31422</td>\n",
       "      <td>...</td>\n",
       "      <td>0.016387</td>\n",
       "      <td>0.039703</td>\n",
       "      <td>-0.004130</td>\n",
       "      <td>s6</td>\n",
       "      <td>-2.743755</td>\n",
       "      <td>9.758766</td>\n",
       "      <td>-0.646435</td>\n",
       "      <td>0.000799</td>\n",
       "      <td>-0.033574</td>\n",
       "      <td>-0.003331</td>\n",
       "    </tr>\n",
       "    <tr>\n",
       "      <th>31</th>\n",
       "      <td>s1</td>\n",
       "      <td>0.244209</td>\n",
       "      <td>-9.732430</td>\n",
       "      <td>-2.147599</td>\n",
       "      <td>-0.021983</td>\n",
       "      <td>0.004530</td>\n",
       "      <td>-0.023715</td>\n",
       "      <td>s2</td>\n",
       "      <td>0.169988</td>\n",
       "      <td>10.36450</td>\n",
       "      <td>...</td>\n",
       "      <td>0.015721</td>\n",
       "      <td>0.040902</td>\n",
       "      <td>0.000933</td>\n",
       "      <td>s6</td>\n",
       "      <td>-2.657564</td>\n",
       "      <td>9.751583</td>\n",
       "      <td>-0.627281</td>\n",
       "      <td>-0.001332</td>\n",
       "      <td>-0.023182</td>\n",
       "      <td>-0.010392</td>\n",
       "    </tr>\n",
       "    <tr>\n",
       "      <th>32</th>\n",
       "      <td>s1</td>\n",
       "      <td>0.263362</td>\n",
       "      <td>-9.679757</td>\n",
       "      <td>-2.128445</td>\n",
       "      <td>-0.024515</td>\n",
       "      <td>-0.005063</td>\n",
       "      <td>-0.016654</td>\n",
       "      <td>s2</td>\n",
       "      <td>0.153229</td>\n",
       "      <td>10.32140</td>\n",
       "      <td>...</td>\n",
       "      <td>0.016521</td>\n",
       "      <td>0.032508</td>\n",
       "      <td>0.003064</td>\n",
       "      <td>s6</td>\n",
       "      <td>-2.705448</td>\n",
       "      <td>9.782708</td>\n",
       "      <td>-0.553061</td>\n",
       "      <td>0.003198</td>\n",
       "      <td>-0.028378</td>\n",
       "      <td>-0.006395</td>\n",
       "    </tr>\n",
       "    <tr>\n",
       "      <th>33</th>\n",
       "      <td>s1</td>\n",
       "      <td>0.330400</td>\n",
       "      <td>-9.710882</td>\n",
       "      <td>-2.054225</td>\n",
       "      <td>-0.021583</td>\n",
       "      <td>-0.007861</td>\n",
       "      <td>-0.013590</td>\n",
       "      <td>s2</td>\n",
       "      <td>0.153229</td>\n",
       "      <td>10.34535</td>\n",
       "      <td>...</td>\n",
       "      <td>0.020518</td>\n",
       "      <td>0.049695</td>\n",
       "      <td>0.001466</td>\n",
       "      <td>s6</td>\n",
       "      <td>-2.717419</td>\n",
       "      <td>9.777920</td>\n",
       "      <td>-0.586579</td>\n",
       "      <td>0.002798</td>\n",
       "      <td>-0.029577</td>\n",
       "      <td>-0.005596</td>\n",
       "    </tr>\n",
       "    <tr>\n",
       "      <th>34</th>\n",
       "      <td>s1</td>\n",
       "      <td>0.239420</td>\n",
       "      <td>-9.727641</td>\n",
       "      <td>-2.154782</td>\n",
       "      <td>-0.022916</td>\n",
       "      <td>-0.015588</td>\n",
       "      <td>-0.019052</td>\n",
       "      <td>s2</td>\n",
       "      <td>0.134075</td>\n",
       "      <td>10.30465</td>\n",
       "      <td>...</td>\n",
       "      <td>0.013456</td>\n",
       "      <td>0.048763</td>\n",
       "      <td>0.000933</td>\n",
       "      <td>s6</td>\n",
       "      <td>-2.760514</td>\n",
       "      <td>9.765948</td>\n",
       "      <td>-0.562637</td>\n",
       "      <td>0.001466</td>\n",
       "      <td>-0.030510</td>\n",
       "      <td>-0.004397</td>\n",
       "    </tr>\n",
       "    <tr>\n",
       "      <th>35</th>\n",
       "      <td>s1</td>\n",
       "      <td>0.339977</td>\n",
       "      <td>-9.718064</td>\n",
       "      <td>-2.264915</td>\n",
       "      <td>-0.016387</td>\n",
       "      <td>0.008260</td>\n",
       "      <td>-0.022116</td>\n",
       "      <td>s2</td>\n",
       "      <td>0.040701</td>\n",
       "      <td>10.30465</td>\n",
       "      <td>...</td>\n",
       "      <td>0.017453</td>\n",
       "      <td>0.045165</td>\n",
       "      <td>0.011058</td>\n",
       "      <td>s6</td>\n",
       "      <td>-2.765303</td>\n",
       "      <td>9.765948</td>\n",
       "      <td>-0.579397</td>\n",
       "      <td>-0.001066</td>\n",
       "      <td>-0.017853</td>\n",
       "      <td>-0.005462</td>\n",
       "    </tr>\n",
       "    <tr>\n",
       "      <th>36</th>\n",
       "      <td>s1</td>\n",
       "      <td>0.339977</td>\n",
       "      <td>-9.689334</td>\n",
       "      <td>-2.193089</td>\n",
       "      <td>-0.022250</td>\n",
       "      <td>-0.002265</td>\n",
       "      <td>-0.016920</td>\n",
       "      <td>s2</td>\n",
       "      <td>0.062249</td>\n",
       "      <td>10.27112</td>\n",
       "      <td>...</td>\n",
       "      <td>0.015188</td>\n",
       "      <td>0.051028</td>\n",
       "      <td>0.005729</td>\n",
       "      <td>s6</td>\n",
       "      <td>-2.703054</td>\n",
       "      <td>9.785102</td>\n",
       "      <td>-0.557849</td>\n",
       "      <td>0.000533</td>\n",
       "      <td>-0.020651</td>\n",
       "      <td>-0.009326</td>\n",
       "    </tr>\n",
       "    <tr>\n",
       "      <th>37</th>\n",
       "      <td>s1</td>\n",
       "      <td>0.316035</td>\n",
       "      <td>-9.703699</td>\n",
       "      <td>-2.138022</td>\n",
       "      <td>-0.025447</td>\n",
       "      <td>0.005196</td>\n",
       "      <td>-0.017587</td>\n",
       "      <td>s2</td>\n",
       "      <td>0.069432</td>\n",
       "      <td>10.34774</td>\n",
       "      <td>...</td>\n",
       "      <td>0.017853</td>\n",
       "      <td>0.043567</td>\n",
       "      <td>0.003464</td>\n",
       "      <td>s6</td>\n",
       "      <td>-2.657564</td>\n",
       "      <td>9.753978</td>\n",
       "      <td>-0.569820</td>\n",
       "      <td>0.004263</td>\n",
       "      <td>-0.031043</td>\n",
       "      <td>-0.006129</td>\n",
       "    </tr>\n",
       "    <tr>\n",
       "      <th>38</th>\n",
       "      <td>s1</td>\n",
       "      <td>0.294487</td>\n",
       "      <td>-9.722853</td>\n",
       "      <td>-2.164358</td>\n",
       "      <td>-0.024248</td>\n",
       "      <td>-0.009992</td>\n",
       "      <td>-0.018652</td>\n",
       "      <td>s2</td>\n",
       "      <td>0.114922</td>\n",
       "      <td>10.33098</td>\n",
       "      <td>...</td>\n",
       "      <td>0.015322</td>\n",
       "      <td>0.050095</td>\n",
       "      <td>0.008127</td>\n",
       "      <td>s6</td>\n",
       "      <td>-2.796427</td>\n",
       "      <td>9.780313</td>\n",
       "      <td>-0.636858</td>\n",
       "      <td>-0.002665</td>\n",
       "      <td>-0.023315</td>\n",
       "      <td>-0.007061</td>\n",
       "    </tr>\n",
       "    <tr>\n",
       "      <th>39</th>\n",
       "      <td>s1</td>\n",
       "      <td>0.349553</td>\n",
       "      <td>-9.703699</td>\n",
       "      <td>-2.138022</td>\n",
       "      <td>-0.029444</td>\n",
       "      <td>-0.013590</td>\n",
       "      <td>-0.015855</td>\n",
       "      <td>s2</td>\n",
       "      <td>0.067038</td>\n",
       "      <td>10.37408</td>\n",
       "      <td>...</td>\n",
       "      <td>0.018519</td>\n",
       "      <td>0.050361</td>\n",
       "      <td>0.004796</td>\n",
       "      <td>s6</td>\n",
       "      <td>-2.691083</td>\n",
       "      <td>9.761160</td>\n",
       "      <td>-0.620098</td>\n",
       "      <td>0.000400</td>\n",
       "      <td>-0.018786</td>\n",
       "      <td>-0.012257</td>\n",
       "    </tr>\n",
       "    <tr>\n",
       "      <th>40</th>\n",
       "      <td>s1</td>\n",
       "      <td>0.339977</td>\n",
       "      <td>-9.756371</td>\n",
       "      <td>-2.140416</td>\n",
       "      <td>-0.023982</td>\n",
       "      <td>0.006129</td>\n",
       "      <td>-0.011191</td>\n",
       "      <td>s2</td>\n",
       "      <td>0.052672</td>\n",
       "      <td>10.35253</td>\n",
       "      <td>...</td>\n",
       "      <td>0.015055</td>\n",
       "      <td>0.044632</td>\n",
       "      <td>0.003864</td>\n",
       "      <td>s6</td>\n",
       "      <td>-2.705448</td>\n",
       "      <td>9.742006</td>\n",
       "      <td>-0.588974</td>\n",
       "      <td>-0.004263</td>\n",
       "      <td>-0.023582</td>\n",
       "      <td>0.000933</td>\n",
       "    </tr>\n",
       "    <tr>\n",
       "      <th>41</th>\n",
       "      <td>s1</td>\n",
       "      <td>0.287304</td>\n",
       "      <td>-9.718064</td>\n",
       "      <td>-2.166753</td>\n",
       "      <td>-0.020651</td>\n",
       "      <td>0.015455</td>\n",
       "      <td>-0.011858</td>\n",
       "      <td>s2</td>\n",
       "      <td>0.093374</td>\n",
       "      <td>10.28788</td>\n",
       "      <td>...</td>\n",
       "      <td>0.015322</td>\n",
       "      <td>0.040902</td>\n",
       "      <td>0.005729</td>\n",
       "      <td>s6</td>\n",
       "      <td>-2.705448</td>\n",
       "      <td>9.756371</td>\n",
       "      <td>-0.569820</td>\n",
       "      <td>0.000666</td>\n",
       "      <td>-0.024914</td>\n",
       "      <td>-0.007727</td>\n",
       "    </tr>\n",
       "    <tr>\n",
       "      <th>42</th>\n",
       "      <td>s1</td>\n",
       "      <td>0.265756</td>\n",
       "      <td>-9.694122</td>\n",
       "      <td>-2.094927</td>\n",
       "      <td>-0.026913</td>\n",
       "      <td>0.014922</td>\n",
       "      <td>-0.010392</td>\n",
       "      <td>s2</td>\n",
       "      <td>0.148441</td>\n",
       "      <td>10.32140</td>\n",
       "      <td>...</td>\n",
       "      <td>0.018253</td>\n",
       "      <td>0.043567</td>\n",
       "      <td>-0.003597</td>\n",
       "      <td>s6</td>\n",
       "      <td>-2.712631</td>\n",
       "      <td>9.782708</td>\n",
       "      <td>-0.521936</td>\n",
       "      <td>-0.009326</td>\n",
       "      <td>-0.030643</td>\n",
       "      <td>-0.005329</td>\n",
       "    </tr>\n",
       "    <tr>\n",
       "      <th>43</th>\n",
       "      <td>s1</td>\n",
       "      <td>0.246603</td>\n",
       "      <td>-9.679757</td>\n",
       "      <td>-2.185906</td>\n",
       "      <td>-0.029711</td>\n",
       "      <td>0.013190</td>\n",
       "      <td>-0.015721</td>\n",
       "      <td>s2</td>\n",
       "      <td>0.098162</td>\n",
       "      <td>10.31183</td>\n",
       "      <td>...</td>\n",
       "      <td>0.019185</td>\n",
       "      <td>0.035306</td>\n",
       "      <td>0.002665</td>\n",
       "      <td>s6</td>\n",
       "      <td>-2.724602</td>\n",
       "      <td>9.753978</td>\n",
       "      <td>-0.612916</td>\n",
       "      <td>-0.001865</td>\n",
       "      <td>-0.033175</td>\n",
       "      <td>-0.009859</td>\n",
       "    </tr>\n",
       "    <tr>\n",
       "      <th>44</th>\n",
       "      <td>s1</td>\n",
       "      <td>0.292093</td>\n",
       "      <td>-9.703699</td>\n",
       "      <td>-2.183512</td>\n",
       "      <td>-0.026113</td>\n",
       "      <td>0.014123</td>\n",
       "      <td>-0.012923</td>\n",
       "      <td>s2</td>\n",
       "      <td>0.098162</td>\n",
       "      <td>10.24958</td>\n",
       "      <td>...</td>\n",
       "      <td>0.021184</td>\n",
       "      <td>0.040502</td>\n",
       "      <td>0.000133</td>\n",
       "      <td>s6</td>\n",
       "      <td>-2.674323</td>\n",
       "      <td>9.742006</td>\n",
       "      <td>-0.603339</td>\n",
       "      <td>0.002132</td>\n",
       "      <td>-0.023715</td>\n",
       "      <td>-0.015588</td>\n",
       "    </tr>\n",
       "    <tr>\n",
       "      <th>45</th>\n",
       "      <td>s1</td>\n",
       "      <td>0.287304</td>\n",
       "      <td>-9.715671</td>\n",
       "      <td>-2.152387</td>\n",
       "      <td>-0.017320</td>\n",
       "      <td>0.007061</td>\n",
       "      <td>-0.006928</td>\n",
       "      <td>s2</td>\n",
       "      <td>0.119710</td>\n",
       "      <td>10.31901</td>\n",
       "      <td>...</td>\n",
       "      <td>0.018519</td>\n",
       "      <td>0.047697</td>\n",
       "      <td>0.004796</td>\n",
       "      <td>s6</td>\n",
       "      <td>-2.693477</td>\n",
       "      <td>9.768343</td>\n",
       "      <td>-0.615310</td>\n",
       "      <td>0.001998</td>\n",
       "      <td>-0.022649</td>\n",
       "      <td>-0.009859</td>\n",
       "    </tr>\n",
       "    <tr>\n",
       "      <th>46</th>\n",
       "      <td>s1</td>\n",
       "      <td>0.378284</td>\n",
       "      <td>-9.679757</td>\n",
       "      <td>-2.166753</td>\n",
       "      <td>-0.028245</td>\n",
       "      <td>0.010259</td>\n",
       "      <td>-0.007861</td>\n",
       "      <td>s2</td>\n",
       "      <td>0.064643</td>\n",
       "      <td>10.29746</td>\n",
       "      <td>...</td>\n",
       "      <td>0.018519</td>\n",
       "      <td>0.035440</td>\n",
       "      <td>0.004130</td>\n",
       "      <td>s6</td>\n",
       "      <td>-2.700660</td>\n",
       "      <td>9.768343</td>\n",
       "      <td>-0.569820</td>\n",
       "      <td>-0.000933</td>\n",
       "      <td>-0.030377</td>\n",
       "      <td>-0.005462</td>\n",
       "    </tr>\n",
       "    <tr>\n",
       "      <th>47</th>\n",
       "      <td>s1</td>\n",
       "      <td>0.356736</td>\n",
       "      <td>-9.722853</td>\n",
       "      <td>-2.217031</td>\n",
       "      <td>-0.030110</td>\n",
       "      <td>0.011458</td>\n",
       "      <td>-0.018786</td>\n",
       "      <td>s2</td>\n",
       "      <td>0.098162</td>\n",
       "      <td>10.29507</td>\n",
       "      <td>...</td>\n",
       "      <td>0.015988</td>\n",
       "      <td>0.037704</td>\n",
       "      <td>0.006395</td>\n",
       "      <td>s6</td>\n",
       "      <td>-2.770091</td>\n",
       "      <td>9.715671</td>\n",
       "      <td>-0.572214</td>\n",
       "      <td>0.001599</td>\n",
       "      <td>-0.037571</td>\n",
       "      <td>-0.009193</td>\n",
       "    </tr>\n",
       "    <tr>\n",
       "      <th>48</th>\n",
       "      <td>s1</td>\n",
       "      <td>0.342371</td>\n",
       "      <td>-9.718064</td>\n",
       "      <td>-2.221819</td>\n",
       "      <td>-0.041302</td>\n",
       "      <td>0.021583</td>\n",
       "      <td>-0.009326</td>\n",
       "      <td>s2</td>\n",
       "      <td>0.055067</td>\n",
       "      <td>10.31662</td>\n",
       "      <td>...</td>\n",
       "      <td>0.015588</td>\n",
       "      <td>0.041968</td>\n",
       "      <td>-0.000400</td>\n",
       "      <td>s6</td>\n",
       "      <td>-2.736573</td>\n",
       "      <td>9.742006</td>\n",
       "      <td>-0.627281</td>\n",
       "      <td>-0.001998</td>\n",
       "      <td>-0.025580</td>\n",
       "      <td>-0.013989</td>\n",
       "    </tr>\n",
       "    <tr>\n",
       "      <th>49</th>\n",
       "      <td>s1</td>\n",
       "      <td>0.308852</td>\n",
       "      <td>-9.696517</td>\n",
       "      <td>-2.183512</td>\n",
       "      <td>-0.030243</td>\n",
       "      <td>0.023982</td>\n",
       "      <td>-0.011591</td>\n",
       "      <td>s2</td>\n",
       "      <td>0.100556</td>\n",
       "      <td>10.31901</td>\n",
       "      <td>...</td>\n",
       "      <td>0.016387</td>\n",
       "      <td>0.036639</td>\n",
       "      <td>0.003198</td>\n",
       "      <td>s6</td>\n",
       "      <td>-2.722207</td>\n",
       "      <td>9.777920</td>\n",
       "      <td>-0.624887</td>\n",
       "      <td>0.000533</td>\n",
       "      <td>-0.039570</td>\n",
       "      <td>-0.007328</td>\n",
       "    </tr>\n",
       "    <tr>\n",
       "      <th>50</th>\n",
       "      <td>s1</td>\n",
       "      <td>0.277727</td>\n",
       "      <td>-9.720459</td>\n",
       "      <td>-2.195483</td>\n",
       "      <td>-0.025714</td>\n",
       "      <td>0.011325</td>\n",
       "      <td>-0.003198</td>\n",
       "      <td>s2</td>\n",
       "      <td>0.110133</td>\n",
       "      <td>10.30704</td>\n",
       "      <td>...</td>\n",
       "      <td>0.012391</td>\n",
       "      <td>0.047164</td>\n",
       "      <td>0.004796</td>\n",
       "      <td>s6</td>\n",
       "      <td>-2.705448</td>\n",
       "      <td>9.787497</td>\n",
       "      <td>-0.567426</td>\n",
       "      <td>0.001732</td>\n",
       "      <td>-0.031709</td>\n",
       "      <td>-0.011591</td>\n",
       "    </tr>\n",
       "    <tr>\n",
       "      <th>51</th>\n",
       "      <td>s1</td>\n",
       "      <td>0.253785</td>\n",
       "      <td>-9.722853</td>\n",
       "      <td>-2.262521</td>\n",
       "      <td>-0.014789</td>\n",
       "      <td>0.008926</td>\n",
       "      <td>-0.007461</td>\n",
       "      <td>s2</td>\n",
       "      <td>0.107739</td>\n",
       "      <td>10.29267</td>\n",
       "      <td>...</td>\n",
       "      <td>0.016254</td>\n",
       "      <td>0.048629</td>\n",
       "      <td>0.003464</td>\n",
       "      <td>s6</td>\n",
       "      <td>-2.722207</td>\n",
       "      <td>9.751583</td>\n",
       "      <td>-0.574608</td>\n",
       "      <td>-0.001732</td>\n",
       "      <td>-0.031576</td>\n",
       "      <td>-0.004397</td>\n",
       "    </tr>\n",
       "    <tr>\n",
       "      <th>52</th>\n",
       "      <td>s1</td>\n",
       "      <td>0.272939</td>\n",
       "      <td>-9.667787</td>\n",
       "      <td>-2.248155</td>\n",
       "      <td>-0.021583</td>\n",
       "      <td>0.002398</td>\n",
       "      <td>-0.008127</td>\n",
       "      <td>s2</td>\n",
       "      <td>0.081403</td>\n",
       "      <td>10.28549</td>\n",
       "      <td>...</td>\n",
       "      <td>0.013590</td>\n",
       "      <td>0.053026</td>\n",
       "      <td>0.004263</td>\n",
       "      <td>s6</td>\n",
       "      <td>-2.683900</td>\n",
       "      <td>9.785102</td>\n",
       "      <td>-0.660800</td>\n",
       "      <td>-0.004397</td>\n",
       "      <td>-0.016387</td>\n",
       "      <td>-0.010792</td>\n",
       "    </tr>\n",
       "  </tbody>\n",
       "</table>\n",
       "<p>53 rows × 42 columns</p>\n",
       "</div>"
      ],
      "text/plain": [
       "    s1     bt_ax     bt_ay     bt_az     bt_gx     bt_gy     bt_gz  s2  \\\n",
       "0   s1  0.308852 -9.696517 -2.147599 -0.014389  0.001865 -0.018919  s2   \n",
       "1   s1  0.284910 -9.744401 -2.020706 -0.027046  0.000666 -0.020118  s2   \n",
       "2   s1  0.313640 -9.725247 -2.190695 -0.030643 -0.001732 -0.015855  s2   \n",
       "3   s1  0.260968 -9.727641 -2.114080 -0.002665  0.015322 -0.012257  s2   \n",
       "4   s1  0.373495 -9.722853 -2.106898 -0.018519  0.019851 -0.009726  s2   \n",
       "5   s1  0.308852 -9.706094 -2.152387 -0.022516  0.009326 -0.009992  s2   \n",
       "6   s1  0.313640 -9.682152 -2.200271 -0.036772  0.013323 -0.009726  s2   \n",
       "7   s1  0.313640 -9.670180 -2.128445 -0.033974  0.007061 -0.015588  s2   \n",
       "8   s1  0.366313 -9.694122 -2.260126 -0.031309  0.029577 -0.007061  s2   \n",
       "9   s1  0.258574 -9.713276 -2.070984 -0.024381  0.012391 -0.011591  s2   \n",
       "10  s1  0.277727 -9.737218 -2.190695 -0.018652  0.010658 -0.014389  s2   \n",
       "11  s1  0.272939 -9.701305 -2.183512 -0.015721  0.004930 -0.017587  s2   \n",
       "12  s1  0.304064 -9.744401 -2.149993 -0.019985  0.011325 -0.019452  s2   \n",
       "13  s1  0.359130 -9.763555 -2.190695 -0.004930  0.012790 -0.011325  s2   \n",
       "14  s1  0.299275 -9.713276 -2.054225 -0.014922  0.006662 -0.008660  s2   \n",
       "15  s1  0.289698 -9.725247 -2.011129 -0.020784  0.019851 -0.010126  s2   \n",
       "16  s1  0.299275 -9.725247 -2.133234 -0.025314  0.016254 -0.012257  s2   \n",
       "17  s1  0.260968 -9.749189 -2.066196 -0.019319  0.005729 -0.012657  s2   \n",
       "18  s1  0.359130 -9.696517 -2.063802 -0.026646  0.002132 -0.011991  s2   \n",
       "19  s1  0.311246 -9.725247 -2.205060 -0.025447  0.016787 -0.012524  s2   \n",
       "20  s1  0.371101 -9.658210 -2.078167 -0.033574  0.020784 -0.018652  s2   \n",
       "21  s1  0.308852 -9.662998 -2.185906 -0.033574  0.014123 -0.015055  s2   \n",
       "22  s1  0.292093 -9.727641 -2.128445 -0.036106  0.006129 -0.013456  s2   \n",
       "23  s1  0.332794 -9.710882 -2.255338 -0.029311  0.002665 -0.013057  s2   \n",
       "24  s1  0.383072 -9.708488 -2.305616 -0.018119  0.009459 -0.001466  s2   \n",
       "25  s1  0.304064 -9.742006 -2.152387 -0.023848  0.023982 -0.000533  s2   \n",
       "26  s1  0.210690 -9.713276 -2.250550 -0.019452  0.023049 -0.000400  s2   \n",
       "27  s1  0.246603 -9.698911 -2.164358 -0.014389  0.012657 -0.006262  s2   \n",
       "28  s1  0.227449 -9.737218 -2.109292 -0.024248 -0.001199 -0.020518  s2   \n",
       "29  s1  0.270545 -9.686940 -2.219425 -0.014522  0.013590 -0.012391  s2   \n",
       "30  s1  0.239420 -9.639056 -2.075773 -0.024515  0.012923 -0.018652  s2   \n",
       "31  s1  0.244209 -9.732430 -2.147599 -0.021983  0.004530 -0.023715  s2   \n",
       "32  s1  0.263362 -9.679757 -2.128445 -0.024515 -0.005063 -0.016654  s2   \n",
       "33  s1  0.330400 -9.710882 -2.054225 -0.021583 -0.007861 -0.013590  s2   \n",
       "34  s1  0.239420 -9.727641 -2.154782 -0.022916 -0.015588 -0.019052  s2   \n",
       "35  s1  0.339977 -9.718064 -2.264915 -0.016387  0.008260 -0.022116  s2   \n",
       "36  s1  0.339977 -9.689334 -2.193089 -0.022250 -0.002265 -0.016920  s2   \n",
       "37  s1  0.316035 -9.703699 -2.138022 -0.025447  0.005196 -0.017587  s2   \n",
       "38  s1  0.294487 -9.722853 -2.164358 -0.024248 -0.009992 -0.018652  s2   \n",
       "39  s1  0.349553 -9.703699 -2.138022 -0.029444 -0.013590 -0.015855  s2   \n",
       "40  s1  0.339977 -9.756371 -2.140416 -0.023982  0.006129 -0.011191  s2   \n",
       "41  s1  0.287304 -9.718064 -2.166753 -0.020651  0.015455 -0.011858  s2   \n",
       "42  s1  0.265756 -9.694122 -2.094927 -0.026913  0.014922 -0.010392  s2   \n",
       "43  s1  0.246603 -9.679757 -2.185906 -0.029711  0.013190 -0.015721  s2   \n",
       "44  s1  0.292093 -9.703699 -2.183512 -0.026113  0.014123 -0.012923  s2   \n",
       "45  s1  0.287304 -9.715671 -2.152387 -0.017320  0.007061 -0.006928  s2   \n",
       "46  s1  0.378284 -9.679757 -2.166753 -0.028245  0.010259 -0.007861  s2   \n",
       "47  s1  0.356736 -9.722853 -2.217031 -0.030110  0.011458 -0.018786  s2   \n",
       "48  s1  0.342371 -9.718064 -2.221819 -0.041302  0.021583 -0.009326  s2   \n",
       "49  s1  0.308852 -9.696517 -2.183512 -0.030243  0.023982 -0.011591  s2   \n",
       "50  s1  0.277727 -9.720459 -2.195483 -0.025714  0.011325 -0.003198  s2   \n",
       "51  s1  0.253785 -9.722853 -2.262521 -0.014789  0.008926 -0.007461  s2   \n",
       "52  s1  0.272939 -9.667787 -2.248155 -0.021583  0.002398 -0.008127  s2   \n",
       "\n",
       "       bb_ax     bb_ay  ...     rt_gx     rt_gy     rt_gz  s6     rb_ax  \\\n",
       "0   0.074220  10.29986  ...  0.018119  0.041302  0.001066  s6 -2.731784   \n",
       "1   0.093374  10.29028  ...  0.018786  0.050761 -0.002531  s6 -2.703054   \n",
       "2   0.031125  10.31662  ...  0.018652  0.043966  0.002531  s6 -2.810793   \n",
       "3   0.064643  10.32380  ...  0.014389  0.040502  0.007328  s6 -2.758120   \n",
       "4   0.028730  10.28549  ...  0.018386  0.032508  0.009593  s6 -2.770091   \n",
       "5   0.038307  10.27352  ...  0.018119  0.042900  0.008394  s6 -2.801216   \n",
       "6   0.079009  10.31901  ...  0.017853  0.040236  0.004263  s6 -2.767697   \n",
       "7   0.079009  10.29267  ...  0.017054  0.023982  0.006262  s6 -2.705448   \n",
       "8   0.023942  10.27112  ...  0.020518  0.035839  0.009326  s6 -2.748544   \n",
       "9   0.069432  10.27352  ...  0.013190  0.047830  0.006262  s6 -2.703054   \n",
       "10  0.071826  10.33337  ...  0.017187  0.048896  0.009193  s6 -2.765303   \n",
       "11  0.102951  10.31183  ...  0.012257  0.041302  0.001332  s6 -2.767697   \n",
       "12  0.074220  10.30225  ...  0.017986  0.049695  0.001066  s6 -2.791639   \n",
       "13  0.069432  10.37647  ...  0.012391  0.035972  0.009593  s6 -2.712631   \n",
       "14  0.138864  10.29986  ...  0.016654  0.036639  0.008926  s6 -2.674323   \n",
       "15  0.143652  10.30465  ...  0.014123  0.037571  0.003331  s6 -2.671929   \n",
       "16  0.090980  10.28070  ...  0.020917  0.040502  0.003864  s6 -2.731784   \n",
       "17  0.107739  10.28788  ...  0.013057  0.043700  0.003331  s6 -2.657564   \n",
       "18  0.095768  10.26155  ...  0.019052  0.044766  0.001199  s6 -2.659958   \n",
       "19  0.076614  10.29267  ...  0.020384  0.039436  0.005462  s6 -2.762909   \n",
       "20  0.090980  10.29507  ...  0.017187  0.045299  0.000799  s6 -2.726996   \n",
       "21  0.064643  10.27352  ...  0.018119  0.038371  0.006395  s6 -2.698265   \n",
       "22  0.047884  10.28310  ...  0.016521  0.055025  0.001066  s6 -2.726996   \n",
       "23  0.047884  10.32140  ...  0.016654  0.044766  0.003864  s6 -2.688689   \n",
       "24  0.002394  10.28788  ...  0.017453  0.053692  0.004130  s6 -2.731784   \n",
       "25  0.117316  10.34535  ...  0.013190  0.044233  0.006129  s6 -2.700660   \n",
       "26  0.122104  10.37647  ...  0.012257  0.035173  0.004263  s6 -2.748544   \n",
       "27  0.198719  10.29986  ...  0.011724  0.058489  0.003064  s6 -2.760514   \n",
       "28  0.155623  10.29986  ...  0.014123  0.036372  0.003997  s6 -2.710236   \n",
       "29  0.110133  10.32859  ...  0.016920  0.044632  0.001998  s6 -2.786851   \n",
       "30  0.138864  10.31422  ...  0.016387  0.039703 -0.004130  s6 -2.743755   \n",
       "31  0.169988  10.36450  ...  0.015721  0.040902  0.000933  s6 -2.657564   \n",
       "32  0.153229  10.32140  ...  0.016521  0.032508  0.003064  s6 -2.705448   \n",
       "33  0.153229  10.34535  ...  0.020518  0.049695  0.001466  s6 -2.717419   \n",
       "34  0.134075  10.30465  ...  0.013456  0.048763  0.000933  s6 -2.760514   \n",
       "35  0.040701  10.30465  ...  0.017453  0.045165  0.011058  s6 -2.765303   \n",
       "36  0.062249  10.27112  ...  0.015188  0.051028  0.005729  s6 -2.703054   \n",
       "37  0.069432  10.34774  ...  0.017853  0.043567  0.003464  s6 -2.657564   \n",
       "38  0.114922  10.33098  ...  0.015322  0.050095  0.008127  s6 -2.796427   \n",
       "39  0.067038  10.37408  ...  0.018519  0.050361  0.004796  s6 -2.691083   \n",
       "40  0.052672  10.35253  ...  0.015055  0.044632  0.003864  s6 -2.705448   \n",
       "41  0.093374  10.28788  ...  0.015322  0.040902  0.005729  s6 -2.705448   \n",
       "42  0.148441  10.32140  ...  0.018253  0.043567 -0.003597  s6 -2.712631   \n",
       "43  0.098162  10.31183  ...  0.019185  0.035306  0.002665  s6 -2.724602   \n",
       "44  0.098162  10.24958  ...  0.021184  0.040502  0.000133  s6 -2.674323   \n",
       "45  0.119710  10.31901  ...  0.018519  0.047697  0.004796  s6 -2.693477   \n",
       "46  0.064643  10.29746  ...  0.018519  0.035440  0.004130  s6 -2.700660   \n",
       "47  0.098162  10.29507  ...  0.015988  0.037704  0.006395  s6 -2.770091   \n",
       "48  0.055067  10.31662  ...  0.015588  0.041968 -0.000400  s6 -2.736573   \n",
       "49  0.100556  10.31901  ...  0.016387  0.036639  0.003198  s6 -2.722207   \n",
       "50  0.110133  10.30704  ...  0.012391  0.047164  0.004796  s6 -2.705448   \n",
       "51  0.107739  10.29267  ...  0.016254  0.048629  0.003464  s6 -2.722207   \n",
       "52  0.081403  10.28549  ...  0.013590  0.053026  0.004263  s6 -2.683900   \n",
       "\n",
       "       rb_ay     rb_az     rb_gx     rb_gy     rb_gz  \n",
       "0   9.749189 -0.694318  0.000666 -0.027712 -0.007461  \n",
       "1   9.756371 -0.514753 -0.000266 -0.009859 -0.010925  \n",
       "2   9.761160 -0.658405 -0.001732 -0.016121 -0.007061  \n",
       "3   9.737218 -0.608127  0.003064 -0.038371 -0.006262  \n",
       "4   9.753978 -0.577003 -0.008394 -0.035440 -0.002265  \n",
       "5   9.718064 -0.538695  0.003064 -0.035440  0.000933  \n",
       "6   9.689334 -0.593762  0.000000 -0.033041 -0.006795  \n",
       "7   9.782708 -0.644040 -0.001199 -0.037838 -0.005462  \n",
       "8   9.775525 -0.543484  0.001599 -0.041168 -0.004530  \n",
       "9   9.763555 -0.591368  0.003464 -0.028645 -0.006129  \n",
       "10  9.744401 -0.639252 -0.002398 -0.030643 -0.005462  \n",
       "11  9.770737 -0.651223 -0.001332 -0.025980 -0.006795  \n",
       "12  9.737218 -0.622492 -0.005063 -0.026380 -0.006262  \n",
       "13  9.794679 -0.555455 -0.000933 -0.031576 -0.008926  \n",
       "14  9.773131 -0.629675 -0.001599 -0.037038 -0.001865  \n",
       "15  9.768343 -0.591368 -0.002531 -0.030377 -0.006395  \n",
       "16  9.732430 -0.598550 -0.002132 -0.036505 -0.003064  \n",
       "17  9.763555 -0.562637 -0.001199 -0.033708 -0.009193  \n",
       "18  9.777920 -0.624887  0.000400 -0.039436 -0.007461  \n",
       "19  9.768343 -0.600945 -0.006528 -0.024648 -0.005063  \n",
       "20  9.768343 -0.550666 -0.005063 -0.019185 -0.005729  \n",
       "21  9.753978 -0.605733  0.005995 -0.035573 -0.009326  \n",
       "22  9.765948 -0.622492  0.004130 -0.026380 -0.007328  \n",
       "23  9.775525 -0.598550  0.002931 -0.024914 -0.007861  \n",
       "24  9.811439 -0.687136 -0.002798 -0.021051 -0.002398  \n",
       "25  9.789890 -0.565032 -0.006662 -0.017453 -0.005995  \n",
       "26  9.737218 -0.560243  0.000533 -0.032642 -0.003864  \n",
       "27  9.734824 -0.605733  0.002531 -0.013190 -0.011458  \n",
       "28  9.730036 -0.632069 -0.001865 -0.039303 -0.004397  \n",
       "29  9.732430 -0.605733 -0.003464 -0.034374 -0.006528  \n",
       "30  9.758766 -0.646435  0.000799 -0.033574 -0.003331  \n",
       "31  9.751583 -0.627281 -0.001332 -0.023182 -0.010392  \n",
       "32  9.782708 -0.553061  0.003198 -0.028378 -0.006395  \n",
       "33  9.777920 -0.586579  0.002798 -0.029577 -0.005596  \n",
       "34  9.765948 -0.562637  0.001466 -0.030510 -0.004397  \n",
       "35  9.765948 -0.579397 -0.001066 -0.017853 -0.005462  \n",
       "36  9.785102 -0.557849  0.000533 -0.020651 -0.009326  \n",
       "37  9.753978 -0.569820  0.004263 -0.031043 -0.006129  \n",
       "38  9.780313 -0.636858 -0.002665 -0.023315 -0.007061  \n",
       "39  9.761160 -0.620098  0.000400 -0.018786 -0.012257  \n",
       "40  9.742006 -0.588974 -0.004263 -0.023582  0.000933  \n",
       "41  9.756371 -0.569820  0.000666 -0.024914 -0.007727  \n",
       "42  9.782708 -0.521936 -0.009326 -0.030643 -0.005329  \n",
       "43  9.753978 -0.612916 -0.001865 -0.033175 -0.009859  \n",
       "44  9.742006 -0.603339  0.002132 -0.023715 -0.015588  \n",
       "45  9.768343 -0.615310  0.001998 -0.022649 -0.009859  \n",
       "46  9.768343 -0.569820 -0.000933 -0.030377 -0.005462  \n",
       "47  9.715671 -0.572214  0.001599 -0.037571 -0.009193  \n",
       "48  9.742006 -0.627281 -0.001998 -0.025580 -0.013989  \n",
       "49  9.777920 -0.624887  0.000533 -0.039570 -0.007328  \n",
       "50  9.787497 -0.567426  0.001732 -0.031709 -0.011591  \n",
       "51  9.751583 -0.574608 -0.001732 -0.031576 -0.004397  \n",
       "52  9.785102 -0.660800 -0.004397 -0.016387 -0.010792  \n",
       "\n",
       "[53 rows x 42 columns]"
      ]
     },
     "execution_count": 96,
     "metadata": {},
     "output_type": "execute_result"
    }
   ],
   "source": [
    "df = pd.read_csv('dataset/__Vadim.csv',sep = ' ',header = None)\n",
    "df.columns = [\"s1\",\"bt_ax\",\"bt_ay\",\"bt_az\",\"bt_gx\",\"bt_gy\",\"bt_gz\",\n",
    "             \"s2\",\"bb_ax\",\"bb_ay\",\"bb_az\",\"bb_gx\",\"bb_gy\",\"bb_gz\",\n",
    "             \"s3\",\"lt_ax\",\"lt_ay\",\"lt_az\",\"lt_gx\",\"lt_gy\",\"lt_gz\",\n",
    "             \"s4\",\"lb_ax\",\"lb_ay\",\"lb_az\",\"lb_gx\",\"lb_gy\",\"lb_gz\",\n",
    "            \"s5\",\"rt_ax\",\"rt_ay\",\"rt_az\",\"rt_gx\",\"rt_gy\",\"rt_gz\",\n",
    "             \"s6\",\"rb_ax\",\"rb_ay\",\"rb_az\",\"rb_gx\",\"rb_gy\",\"rb_gz\",\n",
    "             ]\n",
    "df"
   ]
  },
  {
   "cell_type": "code",
   "execution_count": 150,
   "id": "3271fb4f",
   "metadata": {},
   "outputs": [],
   "source": [
    "#each  IMU for calibration\n",
    "bt = df[[\"bt_ax\",\"bt_ay\",\"bt_az\",\"bt_gx\",\"bt_gy\",\"bt_gz\"]]\n",
    "bb = df[[\"bb_ax\",\"bb_ay\",\"bb_az\",\"bb_gx\",\"bb_gy\",\"bb_gz\"]]\n",
    "lt = df[[\"lt_ax\",\"lt_ay\",\"lt_az\",\"lt_gx\",\"lt_gy\",\"lt_gz\"]]\n",
    "lb = df[[\"lb_ax\",\"lb_ay\",\"lb_az\",\"lb_gx\",\"lb_gy\",\"lb_gz\"]]\n",
    "rt = df[[\"rt_ax\",\"rt_ay\",\"rt_az\",\"rt_gx\",\"rt_gy\",\"rt_gz\"]]\n",
    "rb = df[[\"rb_ax\",\"rb_ay\",\"rb_az\",\"rb_gx\",\"rb_gy\",\"rb_gz\"]]"
   ]
  },
  {
   "cell_type": "code",
   "execution_count": 151,
   "id": "e2c78146",
   "metadata": {},
   "outputs": [
    {
     "data": {
      "application/vnd.plotly.v1+json": {
       "config": {
        "plotlyServerURL": "https://plot.ly"
       },
       "data": [
        {
         "name": "lb_ax",
         "type": "scatter",
         "x": [
          0,
          1,
          2,
          3,
          4,
          5,
          6,
          7,
          8,
          9,
          10,
          11,
          12,
          13,
          14,
          15,
          16,
          17,
          18,
          19,
          20,
          21,
          22,
          23,
          24,
          25,
          26,
          27,
          28,
          29,
          30,
          31,
          32,
          33,
          34,
          35,
          36,
          37,
          38,
          39,
          40,
          41,
          42,
          43,
          44,
          45,
          46,
          47,
          48,
          49,
          50,
          51,
          52
         ],
         "y": [
          0.2705448,
          0.2944868,
          0.1771709,
          0.3184288,
          0.2106898,
          0.1508347,
          0.2298434,
          0.1747767,
          0.272939,
          0.2394202,
          0.237026,
          0.2777274,
          0.2466028,
          0.2106898,
          0.3160346,
          0.2298434,
          0.248997,
          0.3184288,
          0.3184288,
          0.3136404,
          0.2202666,
          0.1675941,
          0.2561796,
          0.2011129,
          0.2585738,
          0.1891419,
          0.2106898,
          0.2920926,
          0.2418144,
          0.2178724,
          0.2992752,
          0.2801216,
          0.2944868,
          0.2178724,
          0.225055,
          0.2513912,
          0.2657564,
          0.213084,
          0.2274492,
          0.2011129,
          0.28491,
          0.3112462,
          0.2992752,
          0.2322376,
          0.2298434,
          0.3567361,
          0.3112462,
          0.2753332,
          0.2633622,
          0.2011129,
          0.2825158,
          0.3016694,
          0.248997
         ]
        },
        {
         "name": "lb_ay",
         "type": "scatter",
         "x": [
          0,
          1,
          2,
          3,
          4,
          5,
          6,
          7,
          8,
          9,
          10,
          11,
          12,
          13,
          14,
          15,
          16,
          17,
          18,
          19,
          20,
          21,
          22,
          23,
          24,
          25,
          26,
          27,
          28,
          29,
          30,
          31,
          32,
          33,
          34,
          35,
          36,
          37,
          38,
          39,
          40,
          41,
          42,
          43,
          44,
          45,
          46,
          47,
          48,
          49,
          50,
          51,
          52
         ],
         "y": [
          -9.67018,
          -9.691729,
          -9.691729,
          -9.684546,
          -9.636662,
          -9.631873,
          -9.67018,
          -9.691729,
          -9.696517,
          -9.68694,
          -9.631873,
          -9.662998,
          -9.68694,
          -9.655815,
          -9.665392,
          -9.67018,
          -9.65821,
          -9.655815,
          -9.639056,
          -9.68694,
          -9.636662,
          -9.619903,
          -9.694122,
          -9.603143,
          -9.703699,
          -9.713276,
          -9.660604,
          -9.636662,
          -9.660604,
          -9.682152,
          -9.639056,
          -9.610326,
          -9.694122,
          -9.631873,
          -0.0005985504,
          -9.720459,
          -9.672575,
          -9.631873,
          -9.665392,
          -9.674969,
          -9.682152,
          -9.653421,
          -9.662998,
          -9.689334,
          -9.636662,
          -9.631873,
          -9.651027,
          -9.720459,
          -9.64145,
          -9.624691,
          -9.667787,
          -9.662998,
          -9.643845
         ]
        },
        {
         "name": "lb_az",
         "type": "scatter",
         "x": [
          0,
          1,
          2,
          3,
          4,
          5,
          6,
          7,
          8,
          9,
          10,
          11,
          12,
          13,
          14,
          15,
          16,
          17,
          18,
          19,
          20,
          21,
          22,
          23,
          24,
          25,
          26,
          27,
          28,
          29,
          30,
          31,
          32,
          33,
          34,
          35,
          36,
          37,
          38,
          39,
          40,
          41,
          42,
          43,
          44,
          45,
          46,
          47,
          48,
          49,
          50,
          51,
          52
         ],
         "y": [
          -0.2753332,
          -0.2274492,
          -0.2059013,
          -0.28491,
          -0.1747767,
          -0.2202666,
          -0.3136404,
          -0.1747767,
          -0.2106898,
          -0.2346318,
          -0.2561796,
          -0.2561796,
          -0.2106898,
          -0.2082956,
          -0.2801216,
          -0.2753332,
          -0.260968,
          -0.272939,
          -0.2011129,
          -0.2825158,
          -0.2992752,
          -0.237026,
          -0.2298434,
          -0.260968,
          -0.2753332,
          -0.1574188,
          -0.308852,
          -0.2896984,
          -0.248997,
          -0.2825158,
          -0.3112462,
          -0.3280056,
          -0.2585738,
          -0.3375824,
          -0.2178724,
          -0.2537854,
          -0.2513912,
          -0.260968,
          -0.2298434,
          -0.2178724,
          -0.2418144,
          -0.3303998,
          -0.248997,
          -0.2178724,
          -0.3375824,
          -0.3303998,
          -0.2705448,
          -0.1795651,
          -0.2537854,
          -0.2442086,
          -0.2442086,
          -0.2106898,
          -0.2825158
         ]
        }
       ],
       "layout": {
        "template": {
         "data": {
          "bar": [
           {
            "error_x": {
             "color": "#2a3f5f"
            },
            "error_y": {
             "color": "#2a3f5f"
            },
            "marker": {
             "line": {
              "color": "#E5ECF6",
              "width": 0.5
             },
             "pattern": {
              "fillmode": "overlay",
              "size": 10,
              "solidity": 0.2
             }
            },
            "type": "bar"
           }
          ],
          "barpolar": [
           {
            "marker": {
             "line": {
              "color": "#E5ECF6",
              "width": 0.5
             },
             "pattern": {
              "fillmode": "overlay",
              "size": 10,
              "solidity": 0.2
             }
            },
            "type": "barpolar"
           }
          ],
          "carpet": [
           {
            "aaxis": {
             "endlinecolor": "#2a3f5f",
             "gridcolor": "white",
             "linecolor": "white",
             "minorgridcolor": "white",
             "startlinecolor": "#2a3f5f"
            },
            "baxis": {
             "endlinecolor": "#2a3f5f",
             "gridcolor": "white",
             "linecolor": "white",
             "minorgridcolor": "white",
             "startlinecolor": "#2a3f5f"
            },
            "type": "carpet"
           }
          ],
          "choropleth": [
           {
            "colorbar": {
             "outlinewidth": 0,
             "ticks": ""
            },
            "type": "choropleth"
           }
          ],
          "contour": [
           {
            "colorbar": {
             "outlinewidth": 0,
             "ticks": ""
            },
            "colorscale": [
             [
              0,
              "#0d0887"
             ],
             [
              0.1111111111111111,
              "#46039f"
             ],
             [
              0.2222222222222222,
              "#7201a8"
             ],
             [
              0.3333333333333333,
              "#9c179e"
             ],
             [
              0.4444444444444444,
              "#bd3786"
             ],
             [
              0.5555555555555556,
              "#d8576b"
             ],
             [
              0.6666666666666666,
              "#ed7953"
             ],
             [
              0.7777777777777778,
              "#fb9f3a"
             ],
             [
              0.8888888888888888,
              "#fdca26"
             ],
             [
              1,
              "#f0f921"
             ]
            ],
            "type": "contour"
           }
          ],
          "contourcarpet": [
           {
            "colorbar": {
             "outlinewidth": 0,
             "ticks": ""
            },
            "type": "contourcarpet"
           }
          ],
          "heatmap": [
           {
            "colorbar": {
             "outlinewidth": 0,
             "ticks": ""
            },
            "colorscale": [
             [
              0,
              "#0d0887"
             ],
             [
              0.1111111111111111,
              "#46039f"
             ],
             [
              0.2222222222222222,
              "#7201a8"
             ],
             [
              0.3333333333333333,
              "#9c179e"
             ],
             [
              0.4444444444444444,
              "#bd3786"
             ],
             [
              0.5555555555555556,
              "#d8576b"
             ],
             [
              0.6666666666666666,
              "#ed7953"
             ],
             [
              0.7777777777777778,
              "#fb9f3a"
             ],
             [
              0.8888888888888888,
              "#fdca26"
             ],
             [
              1,
              "#f0f921"
             ]
            ],
            "type": "heatmap"
           }
          ],
          "heatmapgl": [
           {
            "colorbar": {
             "outlinewidth": 0,
             "ticks": ""
            },
            "colorscale": [
             [
              0,
              "#0d0887"
             ],
             [
              0.1111111111111111,
              "#46039f"
             ],
             [
              0.2222222222222222,
              "#7201a8"
             ],
             [
              0.3333333333333333,
              "#9c179e"
             ],
             [
              0.4444444444444444,
              "#bd3786"
             ],
             [
              0.5555555555555556,
              "#d8576b"
             ],
             [
              0.6666666666666666,
              "#ed7953"
             ],
             [
              0.7777777777777778,
              "#fb9f3a"
             ],
             [
              0.8888888888888888,
              "#fdca26"
             ],
             [
              1,
              "#f0f921"
             ]
            ],
            "type": "heatmapgl"
           }
          ],
          "histogram": [
           {
            "marker": {
             "pattern": {
              "fillmode": "overlay",
              "size": 10,
              "solidity": 0.2
             }
            },
            "type": "histogram"
           }
          ],
          "histogram2d": [
           {
            "colorbar": {
             "outlinewidth": 0,
             "ticks": ""
            },
            "colorscale": [
             [
              0,
              "#0d0887"
             ],
             [
              0.1111111111111111,
              "#46039f"
             ],
             [
              0.2222222222222222,
              "#7201a8"
             ],
             [
              0.3333333333333333,
              "#9c179e"
             ],
             [
              0.4444444444444444,
              "#bd3786"
             ],
             [
              0.5555555555555556,
              "#d8576b"
             ],
             [
              0.6666666666666666,
              "#ed7953"
             ],
             [
              0.7777777777777778,
              "#fb9f3a"
             ],
             [
              0.8888888888888888,
              "#fdca26"
             ],
             [
              1,
              "#f0f921"
             ]
            ],
            "type": "histogram2d"
           }
          ],
          "histogram2dcontour": [
           {
            "colorbar": {
             "outlinewidth": 0,
             "ticks": ""
            },
            "colorscale": [
             [
              0,
              "#0d0887"
             ],
             [
              0.1111111111111111,
              "#46039f"
             ],
             [
              0.2222222222222222,
              "#7201a8"
             ],
             [
              0.3333333333333333,
              "#9c179e"
             ],
             [
              0.4444444444444444,
              "#bd3786"
             ],
             [
              0.5555555555555556,
              "#d8576b"
             ],
             [
              0.6666666666666666,
              "#ed7953"
             ],
             [
              0.7777777777777778,
              "#fb9f3a"
             ],
             [
              0.8888888888888888,
              "#fdca26"
             ],
             [
              1,
              "#f0f921"
             ]
            ],
            "type": "histogram2dcontour"
           }
          ],
          "mesh3d": [
           {
            "colorbar": {
             "outlinewidth": 0,
             "ticks": ""
            },
            "type": "mesh3d"
           }
          ],
          "parcoords": [
           {
            "line": {
             "colorbar": {
              "outlinewidth": 0,
              "ticks": ""
             }
            },
            "type": "parcoords"
           }
          ],
          "pie": [
           {
            "automargin": true,
            "type": "pie"
           }
          ],
          "scatter": [
           {
            "fillpattern": {
             "fillmode": "overlay",
             "size": 10,
             "solidity": 0.2
            },
            "type": "scatter"
           }
          ],
          "scatter3d": [
           {
            "line": {
             "colorbar": {
              "outlinewidth": 0,
              "ticks": ""
             }
            },
            "marker": {
             "colorbar": {
              "outlinewidth": 0,
              "ticks": ""
             }
            },
            "type": "scatter3d"
           }
          ],
          "scattercarpet": [
           {
            "marker": {
             "colorbar": {
              "outlinewidth": 0,
              "ticks": ""
             }
            },
            "type": "scattercarpet"
           }
          ],
          "scattergeo": [
           {
            "marker": {
             "colorbar": {
              "outlinewidth": 0,
              "ticks": ""
             }
            },
            "type": "scattergeo"
           }
          ],
          "scattergl": [
           {
            "marker": {
             "colorbar": {
              "outlinewidth": 0,
              "ticks": ""
             }
            },
            "type": "scattergl"
           }
          ],
          "scattermapbox": [
           {
            "marker": {
             "colorbar": {
              "outlinewidth": 0,
              "ticks": ""
             }
            },
            "type": "scattermapbox"
           }
          ],
          "scatterpolar": [
           {
            "marker": {
             "colorbar": {
              "outlinewidth": 0,
              "ticks": ""
             }
            },
            "type": "scatterpolar"
           }
          ],
          "scatterpolargl": [
           {
            "marker": {
             "colorbar": {
              "outlinewidth": 0,
              "ticks": ""
             }
            },
            "type": "scatterpolargl"
           }
          ],
          "scatterternary": [
           {
            "marker": {
             "colorbar": {
              "outlinewidth": 0,
              "ticks": ""
             }
            },
            "type": "scatterternary"
           }
          ],
          "surface": [
           {
            "colorbar": {
             "outlinewidth": 0,
             "ticks": ""
            },
            "colorscale": [
             [
              0,
              "#0d0887"
             ],
             [
              0.1111111111111111,
              "#46039f"
             ],
             [
              0.2222222222222222,
              "#7201a8"
             ],
             [
              0.3333333333333333,
              "#9c179e"
             ],
             [
              0.4444444444444444,
              "#bd3786"
             ],
             [
              0.5555555555555556,
              "#d8576b"
             ],
             [
              0.6666666666666666,
              "#ed7953"
             ],
             [
              0.7777777777777778,
              "#fb9f3a"
             ],
             [
              0.8888888888888888,
              "#fdca26"
             ],
             [
              1,
              "#f0f921"
             ]
            ],
            "type": "surface"
           }
          ],
          "table": [
           {
            "cells": {
             "fill": {
              "color": "#EBF0F8"
             },
             "line": {
              "color": "white"
             }
            },
            "header": {
             "fill": {
              "color": "#C8D4E3"
             },
             "line": {
              "color": "white"
             }
            },
            "type": "table"
           }
          ]
         },
         "layout": {
          "annotationdefaults": {
           "arrowcolor": "#2a3f5f",
           "arrowhead": 0,
           "arrowwidth": 1
          },
          "autotypenumbers": "strict",
          "coloraxis": {
           "colorbar": {
            "outlinewidth": 0,
            "ticks": ""
           }
          },
          "colorscale": {
           "diverging": [
            [
             0,
             "#8e0152"
            ],
            [
             0.1,
             "#c51b7d"
            ],
            [
             0.2,
             "#de77ae"
            ],
            [
             0.3,
             "#f1b6da"
            ],
            [
             0.4,
             "#fde0ef"
            ],
            [
             0.5,
             "#f7f7f7"
            ],
            [
             0.6,
             "#e6f5d0"
            ],
            [
             0.7,
             "#b8e186"
            ],
            [
             0.8,
             "#7fbc41"
            ],
            [
             0.9,
             "#4d9221"
            ],
            [
             1,
             "#276419"
            ]
           ],
           "sequential": [
            [
             0,
             "#0d0887"
            ],
            [
             0.1111111111111111,
             "#46039f"
            ],
            [
             0.2222222222222222,
             "#7201a8"
            ],
            [
             0.3333333333333333,
             "#9c179e"
            ],
            [
             0.4444444444444444,
             "#bd3786"
            ],
            [
             0.5555555555555556,
             "#d8576b"
            ],
            [
             0.6666666666666666,
             "#ed7953"
            ],
            [
             0.7777777777777778,
             "#fb9f3a"
            ],
            [
             0.8888888888888888,
             "#fdca26"
            ],
            [
             1,
             "#f0f921"
            ]
           ],
           "sequentialminus": [
            [
             0,
             "#0d0887"
            ],
            [
             0.1111111111111111,
             "#46039f"
            ],
            [
             0.2222222222222222,
             "#7201a8"
            ],
            [
             0.3333333333333333,
             "#9c179e"
            ],
            [
             0.4444444444444444,
             "#bd3786"
            ],
            [
             0.5555555555555556,
             "#d8576b"
            ],
            [
             0.6666666666666666,
             "#ed7953"
            ],
            [
             0.7777777777777778,
             "#fb9f3a"
            ],
            [
             0.8888888888888888,
             "#fdca26"
            ],
            [
             1,
             "#f0f921"
            ]
           ]
          },
          "colorway": [
           "#636efa",
           "#EF553B",
           "#00cc96",
           "#ab63fa",
           "#FFA15A",
           "#19d3f3",
           "#FF6692",
           "#B6E880",
           "#FF97FF",
           "#FECB52"
          ],
          "font": {
           "color": "#2a3f5f"
          },
          "geo": {
           "bgcolor": "white",
           "lakecolor": "white",
           "landcolor": "#E5ECF6",
           "showlakes": true,
           "showland": true,
           "subunitcolor": "white"
          },
          "hoverlabel": {
           "align": "left"
          },
          "hovermode": "closest",
          "mapbox": {
           "style": "light"
          },
          "paper_bgcolor": "white",
          "plot_bgcolor": "#E5ECF6",
          "polar": {
           "angularaxis": {
            "gridcolor": "white",
            "linecolor": "white",
            "ticks": ""
           },
           "bgcolor": "#E5ECF6",
           "radialaxis": {
            "gridcolor": "white",
            "linecolor": "white",
            "ticks": ""
           }
          },
          "scene": {
           "xaxis": {
            "backgroundcolor": "#E5ECF6",
            "gridcolor": "white",
            "gridwidth": 2,
            "linecolor": "white",
            "showbackground": true,
            "ticks": "",
            "zerolinecolor": "white"
           },
           "yaxis": {
            "backgroundcolor": "#E5ECF6",
            "gridcolor": "white",
            "gridwidth": 2,
            "linecolor": "white",
            "showbackground": true,
            "ticks": "",
            "zerolinecolor": "white"
           },
           "zaxis": {
            "backgroundcolor": "#E5ECF6",
            "gridcolor": "white",
            "gridwidth": 2,
            "linecolor": "white",
            "showbackground": true,
            "ticks": "",
            "zerolinecolor": "white"
           }
          },
          "shapedefaults": {
           "line": {
            "color": "#2a3f5f"
           }
          },
          "ternary": {
           "aaxis": {
            "gridcolor": "white",
            "linecolor": "white",
            "ticks": ""
           },
           "baxis": {
            "gridcolor": "white",
            "linecolor": "white",
            "ticks": ""
           },
           "bgcolor": "#E5ECF6",
           "caxis": {
            "gridcolor": "white",
            "linecolor": "white",
            "ticks": ""
           }
          },
          "title": {
           "x": 0.05
          },
          "xaxis": {
           "automargin": true,
           "gridcolor": "white",
           "linecolor": "white",
           "ticks": "",
           "title": {
            "standoff": 15
           },
           "zerolinecolor": "white",
           "zerolinewidth": 2
          },
          "yaxis": {
           "automargin": true,
           "gridcolor": "white",
           "linecolor": "white",
           "ticks": "",
           "title": {
            "standoff": 15
           },
           "zerolinecolor": "white",
           "zerolinewidth": 2
          }
         }
        },
        "title": {
         "text": "Non calibrated left-bot  accel"
        }
       }
      },
      "text/html": [
       "<div>                            <div id=\"13906e55-dbfa-4d10-80be-7be09f427268\" class=\"plotly-graph-div\" style=\"height:525px; width:100%;\"></div>            <script type=\"text/javascript\">                require([\"plotly\"], function(Plotly) {                    window.PLOTLYENV=window.PLOTLYENV || {};                                    if (document.getElementById(\"13906e55-dbfa-4d10-80be-7be09f427268\")) {                    Plotly.newPlot(                        \"13906e55-dbfa-4d10-80be-7be09f427268\",                        [{\"name\":\"lb_ax\",\"x\":[0,1,2,3,4,5,6,7,8,9,10,11,12,13,14,15,16,17,18,19,20,21,22,23,24,25,26,27,28,29,30,31,32,33,34,35,36,37,38,39,40,41,42,43,44,45,46,47,48,49,50,51,52],\"y\":[0.2705448,0.2944868,0.1771709,0.3184288,0.2106898,0.1508347,0.2298434,0.1747767,0.272939,0.2394202,0.237026,0.2777274,0.2466028,0.2106898,0.3160346,0.2298434,0.248997,0.3184288,0.3184288,0.3136404,0.2202666,0.1675941,0.2561796,0.2011129,0.2585738,0.1891419,0.2106898,0.2920926,0.2418144,0.2178724,0.2992752,0.2801216,0.2944868,0.2178724,0.225055,0.2513912,0.2657564,0.213084,0.2274492,0.2011129,0.28491,0.3112462,0.2992752,0.2322376,0.2298434,0.3567361,0.3112462,0.2753332,0.2633622,0.2011129,0.2825158,0.3016694,0.248997],\"type\":\"scatter\"},{\"name\":\"lb_ay\",\"x\":[0,1,2,3,4,5,6,7,8,9,10,11,12,13,14,15,16,17,18,19,20,21,22,23,24,25,26,27,28,29,30,31,32,33,34,35,36,37,38,39,40,41,42,43,44,45,46,47,48,49,50,51,52],\"y\":[-9.67018,-9.691729,-9.691729,-9.684546,-9.636662,-9.631873,-9.67018,-9.691729,-9.696517,-9.68694,-9.631873,-9.662998,-9.68694,-9.655815,-9.665392,-9.67018,-9.65821,-9.655815,-9.639056,-9.68694,-9.636662,-9.619903,-9.694122,-9.603143,-9.703699,-9.713276,-9.660604,-9.636662,-9.660604,-9.682152,-9.639056,-9.610326,-9.694122,-9.631873,-0.0005985504,-9.720459,-9.672575,-9.631873,-9.665392,-9.674969,-9.682152,-9.653421,-9.662998,-9.689334,-9.636662,-9.631873,-9.651027,-9.720459,-9.64145,-9.624691,-9.667787,-9.662998,-9.643845],\"type\":\"scatter\"},{\"name\":\"lb_az\",\"x\":[0,1,2,3,4,5,6,7,8,9,10,11,12,13,14,15,16,17,18,19,20,21,22,23,24,25,26,27,28,29,30,31,32,33,34,35,36,37,38,39,40,41,42,43,44,45,46,47,48,49,50,51,52],\"y\":[-0.2753332,-0.2274492,-0.2059013,-0.28491,-0.1747767,-0.2202666,-0.3136404,-0.1747767,-0.2106898,-0.2346318,-0.2561796,-0.2561796,-0.2106898,-0.2082956,-0.2801216,-0.2753332,-0.260968,-0.272939,-0.2011129,-0.2825158,-0.2992752,-0.237026,-0.2298434,-0.260968,-0.2753332,-0.1574188,-0.308852,-0.2896984,-0.248997,-0.2825158,-0.3112462,-0.3280056,-0.2585738,-0.3375824,-0.2178724,-0.2537854,-0.2513912,-0.260968,-0.2298434,-0.2178724,-0.2418144,-0.3303998,-0.248997,-0.2178724,-0.3375824,-0.3303998,-0.2705448,-0.1795651,-0.2537854,-0.2442086,-0.2442086,-0.2106898,-0.2825158],\"type\":\"scatter\"}],                        {\"template\":{\"data\":{\"histogram2dcontour\":[{\"type\":\"histogram2dcontour\",\"colorbar\":{\"outlinewidth\":0,\"ticks\":\"\"},\"colorscale\":[[0.0,\"#0d0887\"],[0.1111111111111111,\"#46039f\"],[0.2222222222222222,\"#7201a8\"],[0.3333333333333333,\"#9c179e\"],[0.4444444444444444,\"#bd3786\"],[0.5555555555555556,\"#d8576b\"],[0.6666666666666666,\"#ed7953\"],[0.7777777777777778,\"#fb9f3a\"],[0.8888888888888888,\"#fdca26\"],[1.0,\"#f0f921\"]]}],\"choropleth\":[{\"type\":\"choropleth\",\"colorbar\":{\"outlinewidth\":0,\"ticks\":\"\"}}],\"histogram2d\":[{\"type\":\"histogram2d\",\"colorbar\":{\"outlinewidth\":0,\"ticks\":\"\"},\"colorscale\":[[0.0,\"#0d0887\"],[0.1111111111111111,\"#46039f\"],[0.2222222222222222,\"#7201a8\"],[0.3333333333333333,\"#9c179e\"],[0.4444444444444444,\"#bd3786\"],[0.5555555555555556,\"#d8576b\"],[0.6666666666666666,\"#ed7953\"],[0.7777777777777778,\"#fb9f3a\"],[0.8888888888888888,\"#fdca26\"],[1.0,\"#f0f921\"]]}],\"heatmap\":[{\"type\":\"heatmap\",\"colorbar\":{\"outlinewidth\":0,\"ticks\":\"\"},\"colorscale\":[[0.0,\"#0d0887\"],[0.1111111111111111,\"#46039f\"],[0.2222222222222222,\"#7201a8\"],[0.3333333333333333,\"#9c179e\"],[0.4444444444444444,\"#bd3786\"],[0.5555555555555556,\"#d8576b\"],[0.6666666666666666,\"#ed7953\"],[0.7777777777777778,\"#fb9f3a\"],[0.8888888888888888,\"#fdca26\"],[1.0,\"#f0f921\"]]}],\"heatmapgl\":[{\"type\":\"heatmapgl\",\"colorbar\":{\"outlinewidth\":0,\"ticks\":\"\"},\"colorscale\":[[0.0,\"#0d0887\"],[0.1111111111111111,\"#46039f\"],[0.2222222222222222,\"#7201a8\"],[0.3333333333333333,\"#9c179e\"],[0.4444444444444444,\"#bd3786\"],[0.5555555555555556,\"#d8576b\"],[0.6666666666666666,\"#ed7953\"],[0.7777777777777778,\"#fb9f3a\"],[0.8888888888888888,\"#fdca26\"],[1.0,\"#f0f921\"]]}],\"contourcarpet\":[{\"type\":\"contourcarpet\",\"colorbar\":{\"outlinewidth\":0,\"ticks\":\"\"}}],\"contour\":[{\"type\":\"contour\",\"colorbar\":{\"outlinewidth\":0,\"ticks\":\"\"},\"colorscale\":[[0.0,\"#0d0887\"],[0.1111111111111111,\"#46039f\"],[0.2222222222222222,\"#7201a8\"],[0.3333333333333333,\"#9c179e\"],[0.4444444444444444,\"#bd3786\"],[0.5555555555555556,\"#d8576b\"],[0.6666666666666666,\"#ed7953\"],[0.7777777777777778,\"#fb9f3a\"],[0.8888888888888888,\"#fdca26\"],[1.0,\"#f0f921\"]]}],\"surface\":[{\"type\":\"surface\",\"colorbar\":{\"outlinewidth\":0,\"ticks\":\"\"},\"colorscale\":[[0.0,\"#0d0887\"],[0.1111111111111111,\"#46039f\"],[0.2222222222222222,\"#7201a8\"],[0.3333333333333333,\"#9c179e\"],[0.4444444444444444,\"#bd3786\"],[0.5555555555555556,\"#d8576b\"],[0.6666666666666666,\"#ed7953\"],[0.7777777777777778,\"#fb9f3a\"],[0.8888888888888888,\"#fdca26\"],[1.0,\"#f0f921\"]]}],\"mesh3d\":[{\"type\":\"mesh3d\",\"colorbar\":{\"outlinewidth\":0,\"ticks\":\"\"}}],\"scatter\":[{\"fillpattern\":{\"fillmode\":\"overlay\",\"size\":10,\"solidity\":0.2},\"type\":\"scatter\"}],\"parcoords\":[{\"type\":\"parcoords\",\"line\":{\"colorbar\":{\"outlinewidth\":0,\"ticks\":\"\"}}}],\"scatterpolargl\":[{\"type\":\"scatterpolargl\",\"marker\":{\"colorbar\":{\"outlinewidth\":0,\"ticks\":\"\"}}}],\"bar\":[{\"error_x\":{\"color\":\"#2a3f5f\"},\"error_y\":{\"color\":\"#2a3f5f\"},\"marker\":{\"line\":{\"color\":\"#E5ECF6\",\"width\":0.5},\"pattern\":{\"fillmode\":\"overlay\",\"size\":10,\"solidity\":0.2}},\"type\":\"bar\"}],\"scattergeo\":[{\"type\":\"scattergeo\",\"marker\":{\"colorbar\":{\"outlinewidth\":0,\"ticks\":\"\"}}}],\"scatterpolar\":[{\"type\":\"scatterpolar\",\"marker\":{\"colorbar\":{\"outlinewidth\":0,\"ticks\":\"\"}}}],\"histogram\":[{\"marker\":{\"pattern\":{\"fillmode\":\"overlay\",\"size\":10,\"solidity\":0.2}},\"type\":\"histogram\"}],\"scattergl\":[{\"type\":\"scattergl\",\"marker\":{\"colorbar\":{\"outlinewidth\":0,\"ticks\":\"\"}}}],\"scatter3d\":[{\"type\":\"scatter3d\",\"line\":{\"colorbar\":{\"outlinewidth\":0,\"ticks\":\"\"}},\"marker\":{\"colorbar\":{\"outlinewidth\":0,\"ticks\":\"\"}}}],\"scattermapbox\":[{\"type\":\"scattermapbox\",\"marker\":{\"colorbar\":{\"outlinewidth\":0,\"ticks\":\"\"}}}],\"scatterternary\":[{\"type\":\"scatterternary\",\"marker\":{\"colorbar\":{\"outlinewidth\":0,\"ticks\":\"\"}}}],\"scattercarpet\":[{\"type\":\"scattercarpet\",\"marker\":{\"colorbar\":{\"outlinewidth\":0,\"ticks\":\"\"}}}],\"carpet\":[{\"aaxis\":{\"endlinecolor\":\"#2a3f5f\",\"gridcolor\":\"white\",\"linecolor\":\"white\",\"minorgridcolor\":\"white\",\"startlinecolor\":\"#2a3f5f\"},\"baxis\":{\"endlinecolor\":\"#2a3f5f\",\"gridcolor\":\"white\",\"linecolor\":\"white\",\"minorgridcolor\":\"white\",\"startlinecolor\":\"#2a3f5f\"},\"type\":\"carpet\"}],\"table\":[{\"cells\":{\"fill\":{\"color\":\"#EBF0F8\"},\"line\":{\"color\":\"white\"}},\"header\":{\"fill\":{\"color\":\"#C8D4E3\"},\"line\":{\"color\":\"white\"}},\"type\":\"table\"}],\"barpolar\":[{\"marker\":{\"line\":{\"color\":\"#E5ECF6\",\"width\":0.5},\"pattern\":{\"fillmode\":\"overlay\",\"size\":10,\"solidity\":0.2}},\"type\":\"barpolar\"}],\"pie\":[{\"automargin\":true,\"type\":\"pie\"}]},\"layout\":{\"autotypenumbers\":\"strict\",\"colorway\":[\"#636efa\",\"#EF553B\",\"#00cc96\",\"#ab63fa\",\"#FFA15A\",\"#19d3f3\",\"#FF6692\",\"#B6E880\",\"#FF97FF\",\"#FECB52\"],\"font\":{\"color\":\"#2a3f5f\"},\"hovermode\":\"closest\",\"hoverlabel\":{\"align\":\"left\"},\"paper_bgcolor\":\"white\",\"plot_bgcolor\":\"#E5ECF6\",\"polar\":{\"bgcolor\":\"#E5ECF6\",\"angularaxis\":{\"gridcolor\":\"white\",\"linecolor\":\"white\",\"ticks\":\"\"},\"radialaxis\":{\"gridcolor\":\"white\",\"linecolor\":\"white\",\"ticks\":\"\"}},\"ternary\":{\"bgcolor\":\"#E5ECF6\",\"aaxis\":{\"gridcolor\":\"white\",\"linecolor\":\"white\",\"ticks\":\"\"},\"baxis\":{\"gridcolor\":\"white\",\"linecolor\":\"white\",\"ticks\":\"\"},\"caxis\":{\"gridcolor\":\"white\",\"linecolor\":\"white\",\"ticks\":\"\"}},\"coloraxis\":{\"colorbar\":{\"outlinewidth\":0,\"ticks\":\"\"}},\"colorscale\":{\"sequential\":[[0.0,\"#0d0887\"],[0.1111111111111111,\"#46039f\"],[0.2222222222222222,\"#7201a8\"],[0.3333333333333333,\"#9c179e\"],[0.4444444444444444,\"#bd3786\"],[0.5555555555555556,\"#d8576b\"],[0.6666666666666666,\"#ed7953\"],[0.7777777777777778,\"#fb9f3a\"],[0.8888888888888888,\"#fdca26\"],[1.0,\"#f0f921\"]],\"sequentialminus\":[[0.0,\"#0d0887\"],[0.1111111111111111,\"#46039f\"],[0.2222222222222222,\"#7201a8\"],[0.3333333333333333,\"#9c179e\"],[0.4444444444444444,\"#bd3786\"],[0.5555555555555556,\"#d8576b\"],[0.6666666666666666,\"#ed7953\"],[0.7777777777777778,\"#fb9f3a\"],[0.8888888888888888,\"#fdca26\"],[1.0,\"#f0f921\"]],\"diverging\":[[0,\"#8e0152\"],[0.1,\"#c51b7d\"],[0.2,\"#de77ae\"],[0.3,\"#f1b6da\"],[0.4,\"#fde0ef\"],[0.5,\"#f7f7f7\"],[0.6,\"#e6f5d0\"],[0.7,\"#b8e186\"],[0.8,\"#7fbc41\"],[0.9,\"#4d9221\"],[1,\"#276419\"]]},\"xaxis\":{\"gridcolor\":\"white\",\"linecolor\":\"white\",\"ticks\":\"\",\"title\":{\"standoff\":15},\"zerolinecolor\":\"white\",\"automargin\":true,\"zerolinewidth\":2},\"yaxis\":{\"gridcolor\":\"white\",\"linecolor\":\"white\",\"ticks\":\"\",\"title\":{\"standoff\":15},\"zerolinecolor\":\"white\",\"automargin\":true,\"zerolinewidth\":2},\"scene\":{\"xaxis\":{\"backgroundcolor\":\"#E5ECF6\",\"gridcolor\":\"white\",\"linecolor\":\"white\",\"showbackground\":true,\"ticks\":\"\",\"zerolinecolor\":\"white\",\"gridwidth\":2},\"yaxis\":{\"backgroundcolor\":\"#E5ECF6\",\"gridcolor\":\"white\",\"linecolor\":\"white\",\"showbackground\":true,\"ticks\":\"\",\"zerolinecolor\":\"white\",\"gridwidth\":2},\"zaxis\":{\"backgroundcolor\":\"#E5ECF6\",\"gridcolor\":\"white\",\"linecolor\":\"white\",\"showbackground\":true,\"ticks\":\"\",\"zerolinecolor\":\"white\",\"gridwidth\":2}},\"shapedefaults\":{\"line\":{\"color\":\"#2a3f5f\"}},\"annotationdefaults\":{\"arrowcolor\":\"#2a3f5f\",\"arrowhead\":0,\"arrowwidth\":1},\"geo\":{\"bgcolor\":\"white\",\"landcolor\":\"#E5ECF6\",\"subunitcolor\":\"white\",\"showland\":true,\"showlakes\":true,\"lakecolor\":\"white\"},\"title\":{\"x\":0.05},\"mapbox\":{\"style\":\"light\"}}},\"title\":{\"text\":\"Non calibrated left-bot  accel\"}},                        {\"responsive\": true}                    ).then(function(){\n",
       "                            \n",
       "var gd = document.getElementById('13906e55-dbfa-4d10-80be-7be09f427268');\n",
       "var x = new MutationObserver(function (mutations, observer) {{\n",
       "        var display = window.getComputedStyle(gd).display;\n",
       "        if (!display || display === 'none') {{\n",
       "            console.log([gd, 'removed!']);\n",
       "            Plotly.purge(gd);\n",
       "            observer.disconnect();\n",
       "        }}\n",
       "}});\n",
       "\n",
       "// Listen for the removal of the full notebook cells\n",
       "var notebookContainer = gd.closest('#notebook-container');\n",
       "if (notebookContainer) {{\n",
       "    x.observe(notebookContainer, {childList: true});\n",
       "}}\n",
       "\n",
       "// Listen for the clearing of the current output cell\n",
       "var outputEl = gd.closest('.output');\n",
       "if (outputEl) {{\n",
       "    x.observe(outputEl, {childList: true});\n",
       "}}\n",
       "\n",
       "                        })                };                });            </script>        </div>"
      ]
     },
     "metadata": {},
     "output_type": "display_data"
    },
    {
     "data": {
      "application/vnd.plotly.v1+json": {
       "config": {
        "plotlyServerURL": "https://plot.ly"
       },
       "data": [
        {
         "name": "lb_gx",
         "type": "scatter",
         "x": [
          0,
          1,
          2,
          3,
          4,
          5,
          6,
          7,
          8,
          9,
          10,
          11,
          12,
          13,
          14,
          15,
          16,
          17,
          18,
          19,
          20,
          21,
          22,
          23,
          24,
          25,
          26,
          27,
          28,
          29,
          30,
          31,
          32,
          33,
          34,
          35,
          36,
          37,
          38,
          39,
          40,
          41,
          42,
          43,
          44,
          45,
          46,
          47,
          48,
          49,
          50,
          51,
          52
         ],
         "y": [
          0.09992344,
          0.09819143,
          0.0963262,
          0.09246248,
          0.1019219,
          0.09859113,
          0.09246248,
          0.09979021,
          0.09872436,
          0.09965697,
          0.1019219,
          0.09885758,
          0.09579327,
          0.09925729,
          0.09113017,
          0.09979021,
          0.09339512,
          0.09366158,
          0.09605973,
          0.1029878,
          0.1012558,
          0.09592651,
          0.09859113,
          0.0984579,
          0.101389,
          0.09912406,
          0.101389,
          0.09232925,
          0.1001899,
          0.1019219,
          0.09685912,
          0.1040536,
          0.1072512,
          0.1007228,
          0.09232925,
          0.1109816,
          0.09592651,
          0.09406126,
          0.1025881,
          0.09566004,
          0.09819143,
          0.1024548,
          0.1037871,
          0.0963262,
          0.09645943,
          0.1075176,
          0.09246248,
          0.1027213,
          0.09326189,
          0.1003231,
          0.09166309,
          0.1059188,
          0.1021884
         ]
        },
        {
         "name": "lb_gy",
         "type": "scatter",
         "x": [
          0,
          1,
          2,
          3,
          4,
          5,
          6,
          7,
          8,
          9,
          10,
          11,
          12,
          13,
          14,
          15,
          16,
          17,
          18,
          19,
          20,
          21,
          22,
          23,
          24,
          25,
          26,
          27,
          28,
          29,
          30,
          31,
          32,
          33,
          34,
          35,
          36,
          37,
          38,
          39,
          40,
          41,
          42,
          43,
          44,
          45,
          46,
          47,
          48,
          49,
          50,
          51,
          52
         ],
         "y": [
          0.05728944,
          0.06395101,
          0.05102757,
          0.06381777,
          0.07181165,
          0.04836294,
          0.05822206,
          0.07181165,
          0.05462481,
          0.06594947,
          0.05275958,
          0.06967995,
          0.05902144,
          0.05995407,
          0.05262635,
          0.06874733,
          0.04463247,
          0.05649005,
          0.05275958,
          0.06781471,
          0.06781471,
          0.04796326,
          0.06035376,
          0.05902144,
          0.05249311,
          0.05875498,
          0.05635682,
          0.04236754,
          0.05235989,
          0.06075345,
          0.05888822,
          0.05262635,
          0.04862941,
          0.05635682,
          0.06248546,
          0.05342574,
          0.06834764,
          0.0596876,
          0.07181165,
          0.04156815,
          0.05782237,
          0.06528331,
          0.06714855,
          0.03890353,
          0.05995407,
          0.04849617,
          0.04862941,
          0.06714855,
          0.06714855,
          0.0728775,
          0.04569832,
          0.05435835,
          0.05475805
         ]
        },
        {
         "name": "lb_gz",
         "type": "scatter",
         "x": [
          0,
          1,
          2,
          3,
          4,
          5,
          6,
          7,
          8,
          9,
          10,
          11,
          12,
          13,
          14,
          15,
          16,
          17,
          18,
          19,
          20,
          21,
          22,
          23,
          24,
          25,
          26,
          27,
          28,
          29,
          30,
          31,
          32,
          33,
          34,
          35,
          36,
          37,
          38,
          39,
          40,
          41,
          42,
          43,
          44,
          45,
          46,
          47,
          48,
          49,
          50,
          51,
          52
         ],
         "y": [
          0.02278254,
          0.02451455,
          0.01612098,
          0.01692037,
          0.01505513,
          0.01372282,
          0.021317,
          0.02158346,
          0.019585,
          0.02837825,
          0.02464778,
          0.01771976,
          0.01652068,
          0.01545483,
          0.02384839,
          0.01625421,
          0.01745329,
          0.01692037,
          0.02371516,
          0.01558806,
          0.01465544,
          0.01612098,
          0.01678714,
          0.02731241,
          0.01905207,
          0.01732006,
          0.01652068,
          0.01865238,
          0.01572129,
          0.01625421,
          0.01732006,
          0.01465544,
          0.01252374,
          0.01745329,
          0.01572129,
          0.01838591,
          0.02291577,
          0.01052527,
          0.02851149,
          0.02424809,
          0.02504747,
          0.01985146,
          0.02598009,
          0.02331547,
          0.01305666,
          0.02318224,
          0.01798622,
          0.03517305,
          0.02291577,
          0.021317,
          0.02318224,
          0.02171669,
          0.02198316
         ]
        }
       ],
       "layout": {
        "template": {
         "data": {
          "bar": [
           {
            "error_x": {
             "color": "#2a3f5f"
            },
            "error_y": {
             "color": "#2a3f5f"
            },
            "marker": {
             "line": {
              "color": "#E5ECF6",
              "width": 0.5
             },
             "pattern": {
              "fillmode": "overlay",
              "size": 10,
              "solidity": 0.2
             }
            },
            "type": "bar"
           }
          ],
          "barpolar": [
           {
            "marker": {
             "line": {
              "color": "#E5ECF6",
              "width": 0.5
             },
             "pattern": {
              "fillmode": "overlay",
              "size": 10,
              "solidity": 0.2
             }
            },
            "type": "barpolar"
           }
          ],
          "carpet": [
           {
            "aaxis": {
             "endlinecolor": "#2a3f5f",
             "gridcolor": "white",
             "linecolor": "white",
             "minorgridcolor": "white",
             "startlinecolor": "#2a3f5f"
            },
            "baxis": {
             "endlinecolor": "#2a3f5f",
             "gridcolor": "white",
             "linecolor": "white",
             "minorgridcolor": "white",
             "startlinecolor": "#2a3f5f"
            },
            "type": "carpet"
           }
          ],
          "choropleth": [
           {
            "colorbar": {
             "outlinewidth": 0,
             "ticks": ""
            },
            "type": "choropleth"
           }
          ],
          "contour": [
           {
            "colorbar": {
             "outlinewidth": 0,
             "ticks": ""
            },
            "colorscale": [
             [
              0,
              "#0d0887"
             ],
             [
              0.1111111111111111,
              "#46039f"
             ],
             [
              0.2222222222222222,
              "#7201a8"
             ],
             [
              0.3333333333333333,
              "#9c179e"
             ],
             [
              0.4444444444444444,
              "#bd3786"
             ],
             [
              0.5555555555555556,
              "#d8576b"
             ],
             [
              0.6666666666666666,
              "#ed7953"
             ],
             [
              0.7777777777777778,
              "#fb9f3a"
             ],
             [
              0.8888888888888888,
              "#fdca26"
             ],
             [
              1,
              "#f0f921"
             ]
            ],
            "type": "contour"
           }
          ],
          "contourcarpet": [
           {
            "colorbar": {
             "outlinewidth": 0,
             "ticks": ""
            },
            "type": "contourcarpet"
           }
          ],
          "heatmap": [
           {
            "colorbar": {
             "outlinewidth": 0,
             "ticks": ""
            },
            "colorscale": [
             [
              0,
              "#0d0887"
             ],
             [
              0.1111111111111111,
              "#46039f"
             ],
             [
              0.2222222222222222,
              "#7201a8"
             ],
             [
              0.3333333333333333,
              "#9c179e"
             ],
             [
              0.4444444444444444,
              "#bd3786"
             ],
             [
              0.5555555555555556,
              "#d8576b"
             ],
             [
              0.6666666666666666,
              "#ed7953"
             ],
             [
              0.7777777777777778,
              "#fb9f3a"
             ],
             [
              0.8888888888888888,
              "#fdca26"
             ],
             [
              1,
              "#f0f921"
             ]
            ],
            "type": "heatmap"
           }
          ],
          "heatmapgl": [
           {
            "colorbar": {
             "outlinewidth": 0,
             "ticks": ""
            },
            "colorscale": [
             [
              0,
              "#0d0887"
             ],
             [
              0.1111111111111111,
              "#46039f"
             ],
             [
              0.2222222222222222,
              "#7201a8"
             ],
             [
              0.3333333333333333,
              "#9c179e"
             ],
             [
              0.4444444444444444,
              "#bd3786"
             ],
             [
              0.5555555555555556,
              "#d8576b"
             ],
             [
              0.6666666666666666,
              "#ed7953"
             ],
             [
              0.7777777777777778,
              "#fb9f3a"
             ],
             [
              0.8888888888888888,
              "#fdca26"
             ],
             [
              1,
              "#f0f921"
             ]
            ],
            "type": "heatmapgl"
           }
          ],
          "histogram": [
           {
            "marker": {
             "pattern": {
              "fillmode": "overlay",
              "size": 10,
              "solidity": 0.2
             }
            },
            "type": "histogram"
           }
          ],
          "histogram2d": [
           {
            "colorbar": {
             "outlinewidth": 0,
             "ticks": ""
            },
            "colorscale": [
             [
              0,
              "#0d0887"
             ],
             [
              0.1111111111111111,
              "#46039f"
             ],
             [
              0.2222222222222222,
              "#7201a8"
             ],
             [
              0.3333333333333333,
              "#9c179e"
             ],
             [
              0.4444444444444444,
              "#bd3786"
             ],
             [
              0.5555555555555556,
              "#d8576b"
             ],
             [
              0.6666666666666666,
              "#ed7953"
             ],
             [
              0.7777777777777778,
              "#fb9f3a"
             ],
             [
              0.8888888888888888,
              "#fdca26"
             ],
             [
              1,
              "#f0f921"
             ]
            ],
            "type": "histogram2d"
           }
          ],
          "histogram2dcontour": [
           {
            "colorbar": {
             "outlinewidth": 0,
             "ticks": ""
            },
            "colorscale": [
             [
              0,
              "#0d0887"
             ],
             [
              0.1111111111111111,
              "#46039f"
             ],
             [
              0.2222222222222222,
              "#7201a8"
             ],
             [
              0.3333333333333333,
              "#9c179e"
             ],
             [
              0.4444444444444444,
              "#bd3786"
             ],
             [
              0.5555555555555556,
              "#d8576b"
             ],
             [
              0.6666666666666666,
              "#ed7953"
             ],
             [
              0.7777777777777778,
              "#fb9f3a"
             ],
             [
              0.8888888888888888,
              "#fdca26"
             ],
             [
              1,
              "#f0f921"
             ]
            ],
            "type": "histogram2dcontour"
           }
          ],
          "mesh3d": [
           {
            "colorbar": {
             "outlinewidth": 0,
             "ticks": ""
            },
            "type": "mesh3d"
           }
          ],
          "parcoords": [
           {
            "line": {
             "colorbar": {
              "outlinewidth": 0,
              "ticks": ""
             }
            },
            "type": "parcoords"
           }
          ],
          "pie": [
           {
            "automargin": true,
            "type": "pie"
           }
          ],
          "scatter": [
           {
            "fillpattern": {
             "fillmode": "overlay",
             "size": 10,
             "solidity": 0.2
            },
            "type": "scatter"
           }
          ],
          "scatter3d": [
           {
            "line": {
             "colorbar": {
              "outlinewidth": 0,
              "ticks": ""
             }
            },
            "marker": {
             "colorbar": {
              "outlinewidth": 0,
              "ticks": ""
             }
            },
            "type": "scatter3d"
           }
          ],
          "scattercarpet": [
           {
            "marker": {
             "colorbar": {
              "outlinewidth": 0,
              "ticks": ""
             }
            },
            "type": "scattercarpet"
           }
          ],
          "scattergeo": [
           {
            "marker": {
             "colorbar": {
              "outlinewidth": 0,
              "ticks": ""
             }
            },
            "type": "scattergeo"
           }
          ],
          "scattergl": [
           {
            "marker": {
             "colorbar": {
              "outlinewidth": 0,
              "ticks": ""
             }
            },
            "type": "scattergl"
           }
          ],
          "scattermapbox": [
           {
            "marker": {
             "colorbar": {
              "outlinewidth": 0,
              "ticks": ""
             }
            },
            "type": "scattermapbox"
           }
          ],
          "scatterpolar": [
           {
            "marker": {
             "colorbar": {
              "outlinewidth": 0,
              "ticks": ""
             }
            },
            "type": "scatterpolar"
           }
          ],
          "scatterpolargl": [
           {
            "marker": {
             "colorbar": {
              "outlinewidth": 0,
              "ticks": ""
             }
            },
            "type": "scatterpolargl"
           }
          ],
          "scatterternary": [
           {
            "marker": {
             "colorbar": {
              "outlinewidth": 0,
              "ticks": ""
             }
            },
            "type": "scatterternary"
           }
          ],
          "surface": [
           {
            "colorbar": {
             "outlinewidth": 0,
             "ticks": ""
            },
            "colorscale": [
             [
              0,
              "#0d0887"
             ],
             [
              0.1111111111111111,
              "#46039f"
             ],
             [
              0.2222222222222222,
              "#7201a8"
             ],
             [
              0.3333333333333333,
              "#9c179e"
             ],
             [
              0.4444444444444444,
              "#bd3786"
             ],
             [
              0.5555555555555556,
              "#d8576b"
             ],
             [
              0.6666666666666666,
              "#ed7953"
             ],
             [
              0.7777777777777778,
              "#fb9f3a"
             ],
             [
              0.8888888888888888,
              "#fdca26"
             ],
             [
              1,
              "#f0f921"
             ]
            ],
            "type": "surface"
           }
          ],
          "table": [
           {
            "cells": {
             "fill": {
              "color": "#EBF0F8"
             },
             "line": {
              "color": "white"
             }
            },
            "header": {
             "fill": {
              "color": "#C8D4E3"
             },
             "line": {
              "color": "white"
             }
            },
            "type": "table"
           }
          ]
         },
         "layout": {
          "annotationdefaults": {
           "arrowcolor": "#2a3f5f",
           "arrowhead": 0,
           "arrowwidth": 1
          },
          "autotypenumbers": "strict",
          "coloraxis": {
           "colorbar": {
            "outlinewidth": 0,
            "ticks": ""
           }
          },
          "colorscale": {
           "diverging": [
            [
             0,
             "#8e0152"
            ],
            [
             0.1,
             "#c51b7d"
            ],
            [
             0.2,
             "#de77ae"
            ],
            [
             0.3,
             "#f1b6da"
            ],
            [
             0.4,
             "#fde0ef"
            ],
            [
             0.5,
             "#f7f7f7"
            ],
            [
             0.6,
             "#e6f5d0"
            ],
            [
             0.7,
             "#b8e186"
            ],
            [
             0.8,
             "#7fbc41"
            ],
            [
             0.9,
             "#4d9221"
            ],
            [
             1,
             "#276419"
            ]
           ],
           "sequential": [
            [
             0,
             "#0d0887"
            ],
            [
             0.1111111111111111,
             "#46039f"
            ],
            [
             0.2222222222222222,
             "#7201a8"
            ],
            [
             0.3333333333333333,
             "#9c179e"
            ],
            [
             0.4444444444444444,
             "#bd3786"
            ],
            [
             0.5555555555555556,
             "#d8576b"
            ],
            [
             0.6666666666666666,
             "#ed7953"
            ],
            [
             0.7777777777777778,
             "#fb9f3a"
            ],
            [
             0.8888888888888888,
             "#fdca26"
            ],
            [
             1,
             "#f0f921"
            ]
           ],
           "sequentialminus": [
            [
             0,
             "#0d0887"
            ],
            [
             0.1111111111111111,
             "#46039f"
            ],
            [
             0.2222222222222222,
             "#7201a8"
            ],
            [
             0.3333333333333333,
             "#9c179e"
            ],
            [
             0.4444444444444444,
             "#bd3786"
            ],
            [
             0.5555555555555556,
             "#d8576b"
            ],
            [
             0.6666666666666666,
             "#ed7953"
            ],
            [
             0.7777777777777778,
             "#fb9f3a"
            ],
            [
             0.8888888888888888,
             "#fdca26"
            ],
            [
             1,
             "#f0f921"
            ]
           ]
          },
          "colorway": [
           "#636efa",
           "#EF553B",
           "#00cc96",
           "#ab63fa",
           "#FFA15A",
           "#19d3f3",
           "#FF6692",
           "#B6E880",
           "#FF97FF",
           "#FECB52"
          ],
          "font": {
           "color": "#2a3f5f"
          },
          "geo": {
           "bgcolor": "white",
           "lakecolor": "white",
           "landcolor": "#E5ECF6",
           "showlakes": true,
           "showland": true,
           "subunitcolor": "white"
          },
          "hoverlabel": {
           "align": "left"
          },
          "hovermode": "closest",
          "mapbox": {
           "style": "light"
          },
          "paper_bgcolor": "white",
          "plot_bgcolor": "#E5ECF6",
          "polar": {
           "angularaxis": {
            "gridcolor": "white",
            "linecolor": "white",
            "ticks": ""
           },
           "bgcolor": "#E5ECF6",
           "radialaxis": {
            "gridcolor": "white",
            "linecolor": "white",
            "ticks": ""
           }
          },
          "scene": {
           "xaxis": {
            "backgroundcolor": "#E5ECF6",
            "gridcolor": "white",
            "gridwidth": 2,
            "linecolor": "white",
            "showbackground": true,
            "ticks": "",
            "zerolinecolor": "white"
           },
           "yaxis": {
            "backgroundcolor": "#E5ECF6",
            "gridcolor": "white",
            "gridwidth": 2,
            "linecolor": "white",
            "showbackground": true,
            "ticks": "",
            "zerolinecolor": "white"
           },
           "zaxis": {
            "backgroundcolor": "#E5ECF6",
            "gridcolor": "white",
            "gridwidth": 2,
            "linecolor": "white",
            "showbackground": true,
            "ticks": "",
            "zerolinecolor": "white"
           }
          },
          "shapedefaults": {
           "line": {
            "color": "#2a3f5f"
           }
          },
          "ternary": {
           "aaxis": {
            "gridcolor": "white",
            "linecolor": "white",
            "ticks": ""
           },
           "baxis": {
            "gridcolor": "white",
            "linecolor": "white",
            "ticks": ""
           },
           "bgcolor": "#E5ECF6",
           "caxis": {
            "gridcolor": "white",
            "linecolor": "white",
            "ticks": ""
           }
          },
          "title": {
           "x": 0.05
          },
          "xaxis": {
           "automargin": true,
           "gridcolor": "white",
           "linecolor": "white",
           "ticks": "",
           "title": {
            "standoff": 15
           },
           "zerolinecolor": "white",
           "zerolinewidth": 2
          },
          "yaxis": {
           "automargin": true,
           "gridcolor": "white",
           "linecolor": "white",
           "ticks": "",
           "title": {
            "standoff": 15
           },
           "zerolinecolor": "white",
           "zerolinewidth": 2
          }
         }
        },
        "title": {
         "text": "Non calibrated left-bot  gyro"
        }
       }
      },
      "text/html": [
       "<div>                            <div id=\"f831f313-4918-402f-8b51-dad8243c6692\" class=\"plotly-graph-div\" style=\"height:525px; width:100%;\"></div>            <script type=\"text/javascript\">                require([\"plotly\"], function(Plotly) {                    window.PLOTLYENV=window.PLOTLYENV || {};                                    if (document.getElementById(\"f831f313-4918-402f-8b51-dad8243c6692\")) {                    Plotly.newPlot(                        \"f831f313-4918-402f-8b51-dad8243c6692\",                        [{\"name\":\"lb_gx\",\"x\":[0,1,2,3,4,5,6,7,8,9,10,11,12,13,14,15,16,17,18,19,20,21,22,23,24,25,26,27,28,29,30,31,32,33,34,35,36,37,38,39,40,41,42,43,44,45,46,47,48,49,50,51,52],\"y\":[0.09992344,0.09819143,0.0963262,0.09246248,0.1019219,0.09859113,0.09246248,0.09979021,0.09872436,0.09965697,0.1019219,0.09885758,0.09579327,0.09925729,0.09113017,0.09979021,0.09339512,0.09366158,0.09605973,0.1029878,0.1012558,0.09592651,0.09859113,0.0984579,0.101389,0.09912406,0.101389,0.09232925,0.1001899,0.1019219,0.09685912,0.1040536,0.1072512,0.1007228,0.09232925,0.1109816,0.09592651,0.09406126,0.1025881,0.09566004,0.09819143,0.1024548,0.1037871,0.0963262,0.09645943,0.1075176,0.09246248,0.1027213,0.09326189,0.1003231,0.09166309,0.1059188,0.1021884],\"type\":\"scatter\"},{\"name\":\"lb_gy\",\"x\":[0,1,2,3,4,5,6,7,8,9,10,11,12,13,14,15,16,17,18,19,20,21,22,23,24,25,26,27,28,29,30,31,32,33,34,35,36,37,38,39,40,41,42,43,44,45,46,47,48,49,50,51,52],\"y\":[0.05728944,0.06395101,0.05102757,0.06381777,0.07181165,0.04836294,0.05822206,0.07181165,0.05462481,0.06594947,0.05275958,0.06967995,0.05902144,0.05995407,0.05262635,0.06874733,0.04463247,0.05649005,0.05275958,0.06781471,0.06781471,0.04796326,0.06035376,0.05902144,0.05249311,0.05875498,0.05635682,0.04236754,0.05235989,0.06075345,0.05888822,0.05262635,0.04862941,0.05635682,0.06248546,0.05342574,0.06834764,0.0596876,0.07181165,0.04156815,0.05782237,0.06528331,0.06714855,0.03890353,0.05995407,0.04849617,0.04862941,0.06714855,0.06714855,0.0728775,0.04569832,0.05435835,0.05475805],\"type\":\"scatter\"},{\"name\":\"lb_gz\",\"x\":[0,1,2,3,4,5,6,7,8,9,10,11,12,13,14,15,16,17,18,19,20,21,22,23,24,25,26,27,28,29,30,31,32,33,34,35,36,37,38,39,40,41,42,43,44,45,46,47,48,49,50,51,52],\"y\":[0.02278254,0.02451455,0.01612098,0.01692037,0.01505513,0.01372282,0.021317,0.02158346,0.019585,0.02837825,0.02464778,0.01771976,0.01652068,0.01545483,0.02384839,0.01625421,0.01745329,0.01692037,0.02371516,0.01558806,0.01465544,0.01612098,0.01678714,0.02731241,0.01905207,0.01732006,0.01652068,0.01865238,0.01572129,0.01625421,0.01732006,0.01465544,0.01252374,0.01745329,0.01572129,0.01838591,0.02291577,0.01052527,0.02851149,0.02424809,0.02504747,0.01985146,0.02598009,0.02331547,0.01305666,0.02318224,0.01798622,0.03517305,0.02291577,0.021317,0.02318224,0.02171669,0.02198316],\"type\":\"scatter\"}],                        {\"template\":{\"data\":{\"histogram2dcontour\":[{\"type\":\"histogram2dcontour\",\"colorbar\":{\"outlinewidth\":0,\"ticks\":\"\"},\"colorscale\":[[0.0,\"#0d0887\"],[0.1111111111111111,\"#46039f\"],[0.2222222222222222,\"#7201a8\"],[0.3333333333333333,\"#9c179e\"],[0.4444444444444444,\"#bd3786\"],[0.5555555555555556,\"#d8576b\"],[0.6666666666666666,\"#ed7953\"],[0.7777777777777778,\"#fb9f3a\"],[0.8888888888888888,\"#fdca26\"],[1.0,\"#f0f921\"]]}],\"choropleth\":[{\"type\":\"choropleth\",\"colorbar\":{\"outlinewidth\":0,\"ticks\":\"\"}}],\"histogram2d\":[{\"type\":\"histogram2d\",\"colorbar\":{\"outlinewidth\":0,\"ticks\":\"\"},\"colorscale\":[[0.0,\"#0d0887\"],[0.1111111111111111,\"#46039f\"],[0.2222222222222222,\"#7201a8\"],[0.3333333333333333,\"#9c179e\"],[0.4444444444444444,\"#bd3786\"],[0.5555555555555556,\"#d8576b\"],[0.6666666666666666,\"#ed7953\"],[0.7777777777777778,\"#fb9f3a\"],[0.8888888888888888,\"#fdca26\"],[1.0,\"#f0f921\"]]}],\"heatmap\":[{\"type\":\"heatmap\",\"colorbar\":{\"outlinewidth\":0,\"ticks\":\"\"},\"colorscale\":[[0.0,\"#0d0887\"],[0.1111111111111111,\"#46039f\"],[0.2222222222222222,\"#7201a8\"],[0.3333333333333333,\"#9c179e\"],[0.4444444444444444,\"#bd3786\"],[0.5555555555555556,\"#d8576b\"],[0.6666666666666666,\"#ed7953\"],[0.7777777777777778,\"#fb9f3a\"],[0.8888888888888888,\"#fdca26\"],[1.0,\"#f0f921\"]]}],\"heatmapgl\":[{\"type\":\"heatmapgl\",\"colorbar\":{\"outlinewidth\":0,\"ticks\":\"\"},\"colorscale\":[[0.0,\"#0d0887\"],[0.1111111111111111,\"#46039f\"],[0.2222222222222222,\"#7201a8\"],[0.3333333333333333,\"#9c179e\"],[0.4444444444444444,\"#bd3786\"],[0.5555555555555556,\"#d8576b\"],[0.6666666666666666,\"#ed7953\"],[0.7777777777777778,\"#fb9f3a\"],[0.8888888888888888,\"#fdca26\"],[1.0,\"#f0f921\"]]}],\"contourcarpet\":[{\"type\":\"contourcarpet\",\"colorbar\":{\"outlinewidth\":0,\"ticks\":\"\"}}],\"contour\":[{\"type\":\"contour\",\"colorbar\":{\"outlinewidth\":0,\"ticks\":\"\"},\"colorscale\":[[0.0,\"#0d0887\"],[0.1111111111111111,\"#46039f\"],[0.2222222222222222,\"#7201a8\"],[0.3333333333333333,\"#9c179e\"],[0.4444444444444444,\"#bd3786\"],[0.5555555555555556,\"#d8576b\"],[0.6666666666666666,\"#ed7953\"],[0.7777777777777778,\"#fb9f3a\"],[0.8888888888888888,\"#fdca26\"],[1.0,\"#f0f921\"]]}],\"surface\":[{\"type\":\"surface\",\"colorbar\":{\"outlinewidth\":0,\"ticks\":\"\"},\"colorscale\":[[0.0,\"#0d0887\"],[0.1111111111111111,\"#46039f\"],[0.2222222222222222,\"#7201a8\"],[0.3333333333333333,\"#9c179e\"],[0.4444444444444444,\"#bd3786\"],[0.5555555555555556,\"#d8576b\"],[0.6666666666666666,\"#ed7953\"],[0.7777777777777778,\"#fb9f3a\"],[0.8888888888888888,\"#fdca26\"],[1.0,\"#f0f921\"]]}],\"mesh3d\":[{\"type\":\"mesh3d\",\"colorbar\":{\"outlinewidth\":0,\"ticks\":\"\"}}],\"scatter\":[{\"fillpattern\":{\"fillmode\":\"overlay\",\"size\":10,\"solidity\":0.2},\"type\":\"scatter\"}],\"parcoords\":[{\"type\":\"parcoords\",\"line\":{\"colorbar\":{\"outlinewidth\":0,\"ticks\":\"\"}}}],\"scatterpolargl\":[{\"type\":\"scatterpolargl\",\"marker\":{\"colorbar\":{\"outlinewidth\":0,\"ticks\":\"\"}}}],\"bar\":[{\"error_x\":{\"color\":\"#2a3f5f\"},\"error_y\":{\"color\":\"#2a3f5f\"},\"marker\":{\"line\":{\"color\":\"#E5ECF6\",\"width\":0.5},\"pattern\":{\"fillmode\":\"overlay\",\"size\":10,\"solidity\":0.2}},\"type\":\"bar\"}],\"scattergeo\":[{\"type\":\"scattergeo\",\"marker\":{\"colorbar\":{\"outlinewidth\":0,\"ticks\":\"\"}}}],\"scatterpolar\":[{\"type\":\"scatterpolar\",\"marker\":{\"colorbar\":{\"outlinewidth\":0,\"ticks\":\"\"}}}],\"histogram\":[{\"marker\":{\"pattern\":{\"fillmode\":\"overlay\",\"size\":10,\"solidity\":0.2}},\"type\":\"histogram\"}],\"scattergl\":[{\"type\":\"scattergl\",\"marker\":{\"colorbar\":{\"outlinewidth\":0,\"ticks\":\"\"}}}],\"scatter3d\":[{\"type\":\"scatter3d\",\"line\":{\"colorbar\":{\"outlinewidth\":0,\"ticks\":\"\"}},\"marker\":{\"colorbar\":{\"outlinewidth\":0,\"ticks\":\"\"}}}],\"scattermapbox\":[{\"type\":\"scattermapbox\",\"marker\":{\"colorbar\":{\"outlinewidth\":0,\"ticks\":\"\"}}}],\"scatterternary\":[{\"type\":\"scatterternary\",\"marker\":{\"colorbar\":{\"outlinewidth\":0,\"ticks\":\"\"}}}],\"scattercarpet\":[{\"type\":\"scattercarpet\",\"marker\":{\"colorbar\":{\"outlinewidth\":0,\"ticks\":\"\"}}}],\"carpet\":[{\"aaxis\":{\"endlinecolor\":\"#2a3f5f\",\"gridcolor\":\"white\",\"linecolor\":\"white\",\"minorgridcolor\":\"white\",\"startlinecolor\":\"#2a3f5f\"},\"baxis\":{\"endlinecolor\":\"#2a3f5f\",\"gridcolor\":\"white\",\"linecolor\":\"white\",\"minorgridcolor\":\"white\",\"startlinecolor\":\"#2a3f5f\"},\"type\":\"carpet\"}],\"table\":[{\"cells\":{\"fill\":{\"color\":\"#EBF0F8\"},\"line\":{\"color\":\"white\"}},\"header\":{\"fill\":{\"color\":\"#C8D4E3\"},\"line\":{\"color\":\"white\"}},\"type\":\"table\"}],\"barpolar\":[{\"marker\":{\"line\":{\"color\":\"#E5ECF6\",\"width\":0.5},\"pattern\":{\"fillmode\":\"overlay\",\"size\":10,\"solidity\":0.2}},\"type\":\"barpolar\"}],\"pie\":[{\"automargin\":true,\"type\":\"pie\"}]},\"layout\":{\"autotypenumbers\":\"strict\",\"colorway\":[\"#636efa\",\"#EF553B\",\"#00cc96\",\"#ab63fa\",\"#FFA15A\",\"#19d3f3\",\"#FF6692\",\"#B6E880\",\"#FF97FF\",\"#FECB52\"],\"font\":{\"color\":\"#2a3f5f\"},\"hovermode\":\"closest\",\"hoverlabel\":{\"align\":\"left\"},\"paper_bgcolor\":\"white\",\"plot_bgcolor\":\"#E5ECF6\",\"polar\":{\"bgcolor\":\"#E5ECF6\",\"angularaxis\":{\"gridcolor\":\"white\",\"linecolor\":\"white\",\"ticks\":\"\"},\"radialaxis\":{\"gridcolor\":\"white\",\"linecolor\":\"white\",\"ticks\":\"\"}},\"ternary\":{\"bgcolor\":\"#E5ECF6\",\"aaxis\":{\"gridcolor\":\"white\",\"linecolor\":\"white\",\"ticks\":\"\"},\"baxis\":{\"gridcolor\":\"white\",\"linecolor\":\"white\",\"ticks\":\"\"},\"caxis\":{\"gridcolor\":\"white\",\"linecolor\":\"white\",\"ticks\":\"\"}},\"coloraxis\":{\"colorbar\":{\"outlinewidth\":0,\"ticks\":\"\"}},\"colorscale\":{\"sequential\":[[0.0,\"#0d0887\"],[0.1111111111111111,\"#46039f\"],[0.2222222222222222,\"#7201a8\"],[0.3333333333333333,\"#9c179e\"],[0.4444444444444444,\"#bd3786\"],[0.5555555555555556,\"#d8576b\"],[0.6666666666666666,\"#ed7953\"],[0.7777777777777778,\"#fb9f3a\"],[0.8888888888888888,\"#fdca26\"],[1.0,\"#f0f921\"]],\"sequentialminus\":[[0.0,\"#0d0887\"],[0.1111111111111111,\"#46039f\"],[0.2222222222222222,\"#7201a8\"],[0.3333333333333333,\"#9c179e\"],[0.4444444444444444,\"#bd3786\"],[0.5555555555555556,\"#d8576b\"],[0.6666666666666666,\"#ed7953\"],[0.7777777777777778,\"#fb9f3a\"],[0.8888888888888888,\"#fdca26\"],[1.0,\"#f0f921\"]],\"diverging\":[[0,\"#8e0152\"],[0.1,\"#c51b7d\"],[0.2,\"#de77ae\"],[0.3,\"#f1b6da\"],[0.4,\"#fde0ef\"],[0.5,\"#f7f7f7\"],[0.6,\"#e6f5d0\"],[0.7,\"#b8e186\"],[0.8,\"#7fbc41\"],[0.9,\"#4d9221\"],[1,\"#276419\"]]},\"xaxis\":{\"gridcolor\":\"white\",\"linecolor\":\"white\",\"ticks\":\"\",\"title\":{\"standoff\":15},\"zerolinecolor\":\"white\",\"automargin\":true,\"zerolinewidth\":2},\"yaxis\":{\"gridcolor\":\"white\",\"linecolor\":\"white\",\"ticks\":\"\",\"title\":{\"standoff\":15},\"zerolinecolor\":\"white\",\"automargin\":true,\"zerolinewidth\":2},\"scene\":{\"xaxis\":{\"backgroundcolor\":\"#E5ECF6\",\"gridcolor\":\"white\",\"linecolor\":\"white\",\"showbackground\":true,\"ticks\":\"\",\"zerolinecolor\":\"white\",\"gridwidth\":2},\"yaxis\":{\"backgroundcolor\":\"#E5ECF6\",\"gridcolor\":\"white\",\"linecolor\":\"white\",\"showbackground\":true,\"ticks\":\"\",\"zerolinecolor\":\"white\",\"gridwidth\":2},\"zaxis\":{\"backgroundcolor\":\"#E5ECF6\",\"gridcolor\":\"white\",\"linecolor\":\"white\",\"showbackground\":true,\"ticks\":\"\",\"zerolinecolor\":\"white\",\"gridwidth\":2}},\"shapedefaults\":{\"line\":{\"color\":\"#2a3f5f\"}},\"annotationdefaults\":{\"arrowcolor\":\"#2a3f5f\",\"arrowhead\":0,\"arrowwidth\":1},\"geo\":{\"bgcolor\":\"white\",\"landcolor\":\"#E5ECF6\",\"subunitcolor\":\"white\",\"showland\":true,\"showlakes\":true,\"lakecolor\":\"white\"},\"title\":{\"x\":0.05},\"mapbox\":{\"style\":\"light\"}}},\"title\":{\"text\":\"Non calibrated left-bot  gyro\"}},                        {\"responsive\": true}                    ).then(function(){\n",
       "                            \n",
       "var gd = document.getElementById('f831f313-4918-402f-8b51-dad8243c6692');\n",
       "var x = new MutationObserver(function (mutations, observer) {{\n",
       "        var display = window.getComputedStyle(gd).display;\n",
       "        if (!display || display === 'none') {{\n",
       "            console.log([gd, 'removed!']);\n",
       "            Plotly.purge(gd);\n",
       "            observer.disconnect();\n",
       "        }}\n",
       "}});\n",
       "\n",
       "// Listen for the removal of the full notebook cells\n",
       "var notebookContainer = gd.closest('#notebook-container');\n",
       "if (notebookContainer) {{\n",
       "    x.observe(notebookContainer, {childList: true});\n",
       "}}\n",
       "\n",
       "// Listen for the clearing of the current output cell\n",
       "var outputEl = gd.closest('.output');\n",
       "if (outputEl) {{\n",
       "    x.observe(outputEl, {childList: true});\n",
       "}}\n",
       "\n",
       "                        })                };                });            </script>        </div>"
      ]
     },
     "metadata": {},
     "output_type": "display_data"
    }
   ],
   "source": [
    "show_plot(lb,'Non calibrated left-bot ',True)\n",
    "show_plot(lb,'Non calibrated left-bot ',False)"
   ]
  },
  {
   "cell_type": "markdown",
   "id": "430e8bcb",
   "metadata": {},
   "source": [
    "# Filter outliers"
   ]
  },
  {
   "cell_type": "code",
   "execution_count": 159,
   "id": "8f7e41d0",
   "metadata": {},
   "outputs": [
    {
     "data": {
      "application/vnd.plotly.v1+json": {
       "config": {
        "plotlyServerURL": "https://plot.ly"
       },
       "data": [
        {
         "name": "lb_ax",
         "type": "scatter",
         "x": [
          0,
          1,
          2,
          3,
          4,
          5,
          6,
          7,
          8,
          9,
          10,
          11,
          12,
          13,
          14,
          15,
          16,
          17,
          18,
          19,
          20,
          21,
          22,
          23,
          24,
          25,
          26,
          27,
          28,
          29,
          30,
          31,
          32,
          33,
          34,
          35,
          36,
          37,
          38,
          39,
          40,
          41,
          42,
          43,
          44,
          45,
          46,
          47,
          48,
          49,
          50,
          51,
          52
         ],
         "y": [
          0.2705448,
          0.2944868,
          0.1771709,
          0.3184288,
          0.2106898,
          0.1508347,
          0.2298434,
          0.1747767,
          0.272939,
          0.2394202,
          0.237026,
          0.2777274,
          0.2466028,
          0.2106898,
          0.3160346,
          0.2298434,
          0.248997,
          0.3184288,
          0.3184288,
          0.3136404,
          0.2202666,
          0.1675941,
          0.2561796,
          0.2011129,
          0.2585738,
          0.1891419,
          0.2106898,
          0.2920926,
          0.2418144,
          0.2178724,
          0.2992752,
          0.2801216,
          0.2944868,
          0.2178724,
          0.225055,
          0.2513912,
          0.2657564,
          0.213084,
          0.2274492,
          0.2011129,
          0.28491,
          0.3112462,
          0.2992752,
          0.2322376,
          0.2298434,
          0.3567361,
          0.3112462,
          0.2753332,
          0.2633622,
          0.2011129,
          0.2825158,
          0.3016694,
          0.248997
         ]
        },
        {
         "name": "lb_ay",
         "type": "scatter",
         "x": [
          0,
          1,
          2,
          3,
          4,
          5,
          6,
          7,
          8,
          9,
          10,
          11,
          12,
          13,
          14,
          15,
          16,
          17,
          18,
          19,
          20,
          21,
          22,
          23,
          24,
          25,
          26,
          27,
          28,
          29,
          30,
          31,
          32,
          33,
          34,
          35,
          36,
          37,
          38,
          39,
          40,
          41,
          42,
          43,
          44,
          45,
          46,
          47,
          48,
          49,
          50,
          51,
          52
         ],
         "y": [
          -9.67018,
          -9.691729,
          -9.691729,
          -9.684546,
          -9.636662,
          -9.631873,
          -9.67018,
          -9.691729,
          -9.696517,
          -9.68694,
          -9.631873,
          -9.662998,
          -9.68694,
          -9.655815,
          -9.665392,
          -9.67018,
          -9.65821,
          -9.655815,
          -9.639056,
          -9.68694,
          -9.636662,
          -9.619903,
          -9.694122,
          -9.603143,
          -9.703699,
          -9.713276,
          -9.660604,
          -9.636662,
          -9.660604,
          -9.682152,
          -9.639056,
          -9.610326,
          -9.694122,
          -9.631873,
          -0.0005985504,
          -9.720459,
          -9.672575,
          -9.631873,
          -9.665392,
          -9.674969,
          -9.682152,
          -9.653421,
          -9.662998,
          -9.689334,
          -9.636662,
          -9.631873,
          -9.651027,
          -9.720459,
          -9.64145,
          -9.624691,
          -9.667787,
          -9.662998,
          -9.643845
         ]
        },
        {
         "name": "lb_az",
         "type": "scatter",
         "x": [
          0,
          1,
          2,
          3,
          4,
          5,
          6,
          7,
          8,
          9,
          10,
          11,
          12,
          13,
          14,
          15,
          16,
          17,
          18,
          19,
          20,
          21,
          22,
          23,
          24,
          25,
          26,
          27,
          28,
          29,
          30,
          31,
          32,
          33,
          34,
          35,
          36,
          37,
          38,
          39,
          40,
          41,
          42,
          43,
          44,
          45,
          46,
          47,
          48,
          49,
          50,
          51,
          52
         ],
         "y": [
          -0.2753332,
          -0.2274492,
          -0.2059013,
          -0.28491,
          -0.1747767,
          -0.2202666,
          -0.3136404,
          -0.1747767,
          -0.2106898,
          -0.2346318,
          -0.2561796,
          -0.2561796,
          -0.2106898,
          -0.2082956,
          -0.2801216,
          -0.2753332,
          -0.260968,
          -0.272939,
          -0.2011129,
          -0.2825158,
          -0.2992752,
          -0.237026,
          -0.2298434,
          -0.260968,
          -0.2753332,
          -0.1574188,
          -0.308852,
          -0.2896984,
          -0.248997,
          -0.2825158,
          -0.3112462,
          -0.3280056,
          -0.2585738,
          -0.3375824,
          -0.2178724,
          -0.2537854,
          -0.2513912,
          -0.260968,
          -0.2298434,
          -0.2178724,
          -0.2418144,
          -0.3303998,
          -0.248997,
          -0.2178724,
          -0.3375824,
          -0.3303998,
          -0.2705448,
          -0.1795651,
          -0.2537854,
          -0.2442086,
          -0.2442086,
          -0.2106898,
          -0.2825158
         ]
        }
       ],
       "layout": {
        "template": {
         "data": {
          "bar": [
           {
            "error_x": {
             "color": "#2a3f5f"
            },
            "error_y": {
             "color": "#2a3f5f"
            },
            "marker": {
             "line": {
              "color": "#E5ECF6",
              "width": 0.5
             },
             "pattern": {
              "fillmode": "overlay",
              "size": 10,
              "solidity": 0.2
             }
            },
            "type": "bar"
           }
          ],
          "barpolar": [
           {
            "marker": {
             "line": {
              "color": "#E5ECF6",
              "width": 0.5
             },
             "pattern": {
              "fillmode": "overlay",
              "size": 10,
              "solidity": 0.2
             }
            },
            "type": "barpolar"
           }
          ],
          "carpet": [
           {
            "aaxis": {
             "endlinecolor": "#2a3f5f",
             "gridcolor": "white",
             "linecolor": "white",
             "minorgridcolor": "white",
             "startlinecolor": "#2a3f5f"
            },
            "baxis": {
             "endlinecolor": "#2a3f5f",
             "gridcolor": "white",
             "linecolor": "white",
             "minorgridcolor": "white",
             "startlinecolor": "#2a3f5f"
            },
            "type": "carpet"
           }
          ],
          "choropleth": [
           {
            "colorbar": {
             "outlinewidth": 0,
             "ticks": ""
            },
            "type": "choropleth"
           }
          ],
          "contour": [
           {
            "colorbar": {
             "outlinewidth": 0,
             "ticks": ""
            },
            "colorscale": [
             [
              0,
              "#0d0887"
             ],
             [
              0.1111111111111111,
              "#46039f"
             ],
             [
              0.2222222222222222,
              "#7201a8"
             ],
             [
              0.3333333333333333,
              "#9c179e"
             ],
             [
              0.4444444444444444,
              "#bd3786"
             ],
             [
              0.5555555555555556,
              "#d8576b"
             ],
             [
              0.6666666666666666,
              "#ed7953"
             ],
             [
              0.7777777777777778,
              "#fb9f3a"
             ],
             [
              0.8888888888888888,
              "#fdca26"
             ],
             [
              1,
              "#f0f921"
             ]
            ],
            "type": "contour"
           }
          ],
          "contourcarpet": [
           {
            "colorbar": {
             "outlinewidth": 0,
             "ticks": ""
            },
            "type": "contourcarpet"
           }
          ],
          "heatmap": [
           {
            "colorbar": {
             "outlinewidth": 0,
             "ticks": ""
            },
            "colorscale": [
             [
              0,
              "#0d0887"
             ],
             [
              0.1111111111111111,
              "#46039f"
             ],
             [
              0.2222222222222222,
              "#7201a8"
             ],
             [
              0.3333333333333333,
              "#9c179e"
             ],
             [
              0.4444444444444444,
              "#bd3786"
             ],
             [
              0.5555555555555556,
              "#d8576b"
             ],
             [
              0.6666666666666666,
              "#ed7953"
             ],
             [
              0.7777777777777778,
              "#fb9f3a"
             ],
             [
              0.8888888888888888,
              "#fdca26"
             ],
             [
              1,
              "#f0f921"
             ]
            ],
            "type": "heatmap"
           }
          ],
          "heatmapgl": [
           {
            "colorbar": {
             "outlinewidth": 0,
             "ticks": ""
            },
            "colorscale": [
             [
              0,
              "#0d0887"
             ],
             [
              0.1111111111111111,
              "#46039f"
             ],
             [
              0.2222222222222222,
              "#7201a8"
             ],
             [
              0.3333333333333333,
              "#9c179e"
             ],
             [
              0.4444444444444444,
              "#bd3786"
             ],
             [
              0.5555555555555556,
              "#d8576b"
             ],
             [
              0.6666666666666666,
              "#ed7953"
             ],
             [
              0.7777777777777778,
              "#fb9f3a"
             ],
             [
              0.8888888888888888,
              "#fdca26"
             ],
             [
              1,
              "#f0f921"
             ]
            ],
            "type": "heatmapgl"
           }
          ],
          "histogram": [
           {
            "marker": {
             "pattern": {
              "fillmode": "overlay",
              "size": 10,
              "solidity": 0.2
             }
            },
            "type": "histogram"
           }
          ],
          "histogram2d": [
           {
            "colorbar": {
             "outlinewidth": 0,
             "ticks": ""
            },
            "colorscale": [
             [
              0,
              "#0d0887"
             ],
             [
              0.1111111111111111,
              "#46039f"
             ],
             [
              0.2222222222222222,
              "#7201a8"
             ],
             [
              0.3333333333333333,
              "#9c179e"
             ],
             [
              0.4444444444444444,
              "#bd3786"
             ],
             [
              0.5555555555555556,
              "#d8576b"
             ],
             [
              0.6666666666666666,
              "#ed7953"
             ],
             [
              0.7777777777777778,
              "#fb9f3a"
             ],
             [
              0.8888888888888888,
              "#fdca26"
             ],
             [
              1,
              "#f0f921"
             ]
            ],
            "type": "histogram2d"
           }
          ],
          "histogram2dcontour": [
           {
            "colorbar": {
             "outlinewidth": 0,
             "ticks": ""
            },
            "colorscale": [
             [
              0,
              "#0d0887"
             ],
             [
              0.1111111111111111,
              "#46039f"
             ],
             [
              0.2222222222222222,
              "#7201a8"
             ],
             [
              0.3333333333333333,
              "#9c179e"
             ],
             [
              0.4444444444444444,
              "#bd3786"
             ],
             [
              0.5555555555555556,
              "#d8576b"
             ],
             [
              0.6666666666666666,
              "#ed7953"
             ],
             [
              0.7777777777777778,
              "#fb9f3a"
             ],
             [
              0.8888888888888888,
              "#fdca26"
             ],
             [
              1,
              "#f0f921"
             ]
            ],
            "type": "histogram2dcontour"
           }
          ],
          "mesh3d": [
           {
            "colorbar": {
             "outlinewidth": 0,
             "ticks": ""
            },
            "type": "mesh3d"
           }
          ],
          "parcoords": [
           {
            "line": {
             "colorbar": {
              "outlinewidth": 0,
              "ticks": ""
             }
            },
            "type": "parcoords"
           }
          ],
          "pie": [
           {
            "automargin": true,
            "type": "pie"
           }
          ],
          "scatter": [
           {
            "fillpattern": {
             "fillmode": "overlay",
             "size": 10,
             "solidity": 0.2
            },
            "type": "scatter"
           }
          ],
          "scatter3d": [
           {
            "line": {
             "colorbar": {
              "outlinewidth": 0,
              "ticks": ""
             }
            },
            "marker": {
             "colorbar": {
              "outlinewidth": 0,
              "ticks": ""
             }
            },
            "type": "scatter3d"
           }
          ],
          "scattercarpet": [
           {
            "marker": {
             "colorbar": {
              "outlinewidth": 0,
              "ticks": ""
             }
            },
            "type": "scattercarpet"
           }
          ],
          "scattergeo": [
           {
            "marker": {
             "colorbar": {
              "outlinewidth": 0,
              "ticks": ""
             }
            },
            "type": "scattergeo"
           }
          ],
          "scattergl": [
           {
            "marker": {
             "colorbar": {
              "outlinewidth": 0,
              "ticks": ""
             }
            },
            "type": "scattergl"
           }
          ],
          "scattermapbox": [
           {
            "marker": {
             "colorbar": {
              "outlinewidth": 0,
              "ticks": ""
             }
            },
            "type": "scattermapbox"
           }
          ],
          "scatterpolar": [
           {
            "marker": {
             "colorbar": {
              "outlinewidth": 0,
              "ticks": ""
             }
            },
            "type": "scatterpolar"
           }
          ],
          "scatterpolargl": [
           {
            "marker": {
             "colorbar": {
              "outlinewidth": 0,
              "ticks": ""
             }
            },
            "type": "scatterpolargl"
           }
          ],
          "scatterternary": [
           {
            "marker": {
             "colorbar": {
              "outlinewidth": 0,
              "ticks": ""
             }
            },
            "type": "scatterternary"
           }
          ],
          "surface": [
           {
            "colorbar": {
             "outlinewidth": 0,
             "ticks": ""
            },
            "colorscale": [
             [
              0,
              "#0d0887"
             ],
             [
              0.1111111111111111,
              "#46039f"
             ],
             [
              0.2222222222222222,
              "#7201a8"
             ],
             [
              0.3333333333333333,
              "#9c179e"
             ],
             [
              0.4444444444444444,
              "#bd3786"
             ],
             [
              0.5555555555555556,
              "#d8576b"
             ],
             [
              0.6666666666666666,
              "#ed7953"
             ],
             [
              0.7777777777777778,
              "#fb9f3a"
             ],
             [
              0.8888888888888888,
              "#fdca26"
             ],
             [
              1,
              "#f0f921"
             ]
            ],
            "type": "surface"
           }
          ],
          "table": [
           {
            "cells": {
             "fill": {
              "color": "#EBF0F8"
             },
             "line": {
              "color": "white"
             }
            },
            "header": {
             "fill": {
              "color": "#C8D4E3"
             },
             "line": {
              "color": "white"
             }
            },
            "type": "table"
           }
          ]
         },
         "layout": {
          "annotationdefaults": {
           "arrowcolor": "#2a3f5f",
           "arrowhead": 0,
           "arrowwidth": 1
          },
          "autotypenumbers": "strict",
          "coloraxis": {
           "colorbar": {
            "outlinewidth": 0,
            "ticks": ""
           }
          },
          "colorscale": {
           "diverging": [
            [
             0,
             "#8e0152"
            ],
            [
             0.1,
             "#c51b7d"
            ],
            [
             0.2,
             "#de77ae"
            ],
            [
             0.3,
             "#f1b6da"
            ],
            [
             0.4,
             "#fde0ef"
            ],
            [
             0.5,
             "#f7f7f7"
            ],
            [
             0.6,
             "#e6f5d0"
            ],
            [
             0.7,
             "#b8e186"
            ],
            [
             0.8,
             "#7fbc41"
            ],
            [
             0.9,
             "#4d9221"
            ],
            [
             1,
             "#276419"
            ]
           ],
           "sequential": [
            [
             0,
             "#0d0887"
            ],
            [
             0.1111111111111111,
             "#46039f"
            ],
            [
             0.2222222222222222,
             "#7201a8"
            ],
            [
             0.3333333333333333,
             "#9c179e"
            ],
            [
             0.4444444444444444,
             "#bd3786"
            ],
            [
             0.5555555555555556,
             "#d8576b"
            ],
            [
             0.6666666666666666,
             "#ed7953"
            ],
            [
             0.7777777777777778,
             "#fb9f3a"
            ],
            [
             0.8888888888888888,
             "#fdca26"
            ],
            [
             1,
             "#f0f921"
            ]
           ],
           "sequentialminus": [
            [
             0,
             "#0d0887"
            ],
            [
             0.1111111111111111,
             "#46039f"
            ],
            [
             0.2222222222222222,
             "#7201a8"
            ],
            [
             0.3333333333333333,
             "#9c179e"
            ],
            [
             0.4444444444444444,
             "#bd3786"
            ],
            [
             0.5555555555555556,
             "#d8576b"
            ],
            [
             0.6666666666666666,
             "#ed7953"
            ],
            [
             0.7777777777777778,
             "#fb9f3a"
            ],
            [
             0.8888888888888888,
             "#fdca26"
            ],
            [
             1,
             "#f0f921"
            ]
           ]
          },
          "colorway": [
           "#636efa",
           "#EF553B",
           "#00cc96",
           "#ab63fa",
           "#FFA15A",
           "#19d3f3",
           "#FF6692",
           "#B6E880",
           "#FF97FF",
           "#FECB52"
          ],
          "font": {
           "color": "#2a3f5f"
          },
          "geo": {
           "bgcolor": "white",
           "lakecolor": "white",
           "landcolor": "#E5ECF6",
           "showlakes": true,
           "showland": true,
           "subunitcolor": "white"
          },
          "hoverlabel": {
           "align": "left"
          },
          "hovermode": "closest",
          "mapbox": {
           "style": "light"
          },
          "paper_bgcolor": "white",
          "plot_bgcolor": "#E5ECF6",
          "polar": {
           "angularaxis": {
            "gridcolor": "white",
            "linecolor": "white",
            "ticks": ""
           },
           "bgcolor": "#E5ECF6",
           "radialaxis": {
            "gridcolor": "white",
            "linecolor": "white",
            "ticks": ""
           }
          },
          "scene": {
           "xaxis": {
            "backgroundcolor": "#E5ECF6",
            "gridcolor": "white",
            "gridwidth": 2,
            "linecolor": "white",
            "showbackground": true,
            "ticks": "",
            "zerolinecolor": "white"
           },
           "yaxis": {
            "backgroundcolor": "#E5ECF6",
            "gridcolor": "white",
            "gridwidth": 2,
            "linecolor": "white",
            "showbackground": true,
            "ticks": "",
            "zerolinecolor": "white"
           },
           "zaxis": {
            "backgroundcolor": "#E5ECF6",
            "gridcolor": "white",
            "gridwidth": 2,
            "linecolor": "white",
            "showbackground": true,
            "ticks": "",
            "zerolinecolor": "white"
           }
          },
          "shapedefaults": {
           "line": {
            "color": "#2a3f5f"
           }
          },
          "ternary": {
           "aaxis": {
            "gridcolor": "white",
            "linecolor": "white",
            "ticks": ""
           },
           "baxis": {
            "gridcolor": "white",
            "linecolor": "white",
            "ticks": ""
           },
           "bgcolor": "#E5ECF6",
           "caxis": {
            "gridcolor": "white",
            "linecolor": "white",
            "ticks": ""
           }
          },
          "title": {
           "x": 0.05
          },
          "xaxis": {
           "automargin": true,
           "gridcolor": "white",
           "linecolor": "white",
           "ticks": "",
           "title": {
            "standoff": 15
           },
           "zerolinecolor": "white",
           "zerolinewidth": 2
          },
          "yaxis": {
           "automargin": true,
           "gridcolor": "white",
           "linecolor": "white",
           "ticks": "",
           "title": {
            "standoff": 15
           },
           "zerolinecolor": "white",
           "zerolinewidth": 2
          }
         }
        },
        "title": {
         "text": "With outliers  accel"
        }
       }
      },
      "text/html": [
       "<div>                            <div id=\"47a834b1-e077-4850-96a4-335124f2c553\" class=\"plotly-graph-div\" style=\"height:525px; width:100%;\"></div>            <script type=\"text/javascript\">                require([\"plotly\"], function(Plotly) {                    window.PLOTLYENV=window.PLOTLYENV || {};                                    if (document.getElementById(\"47a834b1-e077-4850-96a4-335124f2c553\")) {                    Plotly.newPlot(                        \"47a834b1-e077-4850-96a4-335124f2c553\",                        [{\"name\":\"lb_ax\",\"x\":[0,1,2,3,4,5,6,7,8,9,10,11,12,13,14,15,16,17,18,19,20,21,22,23,24,25,26,27,28,29,30,31,32,33,34,35,36,37,38,39,40,41,42,43,44,45,46,47,48,49,50,51,52],\"y\":[0.2705448,0.2944868,0.1771709,0.3184288,0.2106898,0.1508347,0.2298434,0.1747767,0.272939,0.2394202,0.237026,0.2777274,0.2466028,0.2106898,0.3160346,0.2298434,0.248997,0.3184288,0.3184288,0.3136404,0.2202666,0.1675941,0.2561796,0.2011129,0.2585738,0.1891419,0.2106898,0.2920926,0.2418144,0.2178724,0.2992752,0.2801216,0.2944868,0.2178724,0.225055,0.2513912,0.2657564,0.213084,0.2274492,0.2011129,0.28491,0.3112462,0.2992752,0.2322376,0.2298434,0.3567361,0.3112462,0.2753332,0.2633622,0.2011129,0.2825158,0.3016694,0.248997],\"type\":\"scatter\"},{\"name\":\"lb_ay\",\"x\":[0,1,2,3,4,5,6,7,8,9,10,11,12,13,14,15,16,17,18,19,20,21,22,23,24,25,26,27,28,29,30,31,32,33,34,35,36,37,38,39,40,41,42,43,44,45,46,47,48,49,50,51,52],\"y\":[-9.67018,-9.691729,-9.691729,-9.684546,-9.636662,-9.631873,-9.67018,-9.691729,-9.696517,-9.68694,-9.631873,-9.662998,-9.68694,-9.655815,-9.665392,-9.67018,-9.65821,-9.655815,-9.639056,-9.68694,-9.636662,-9.619903,-9.694122,-9.603143,-9.703699,-9.713276,-9.660604,-9.636662,-9.660604,-9.682152,-9.639056,-9.610326,-9.694122,-9.631873,-0.0005985504,-9.720459,-9.672575,-9.631873,-9.665392,-9.674969,-9.682152,-9.653421,-9.662998,-9.689334,-9.636662,-9.631873,-9.651027,-9.720459,-9.64145,-9.624691,-9.667787,-9.662998,-9.643845],\"type\":\"scatter\"},{\"name\":\"lb_az\",\"x\":[0,1,2,3,4,5,6,7,8,9,10,11,12,13,14,15,16,17,18,19,20,21,22,23,24,25,26,27,28,29,30,31,32,33,34,35,36,37,38,39,40,41,42,43,44,45,46,47,48,49,50,51,52],\"y\":[-0.2753332,-0.2274492,-0.2059013,-0.28491,-0.1747767,-0.2202666,-0.3136404,-0.1747767,-0.2106898,-0.2346318,-0.2561796,-0.2561796,-0.2106898,-0.2082956,-0.2801216,-0.2753332,-0.260968,-0.272939,-0.2011129,-0.2825158,-0.2992752,-0.237026,-0.2298434,-0.260968,-0.2753332,-0.1574188,-0.308852,-0.2896984,-0.248997,-0.2825158,-0.3112462,-0.3280056,-0.2585738,-0.3375824,-0.2178724,-0.2537854,-0.2513912,-0.260968,-0.2298434,-0.2178724,-0.2418144,-0.3303998,-0.248997,-0.2178724,-0.3375824,-0.3303998,-0.2705448,-0.1795651,-0.2537854,-0.2442086,-0.2442086,-0.2106898,-0.2825158],\"type\":\"scatter\"}],                        {\"template\":{\"data\":{\"histogram2dcontour\":[{\"type\":\"histogram2dcontour\",\"colorbar\":{\"outlinewidth\":0,\"ticks\":\"\"},\"colorscale\":[[0.0,\"#0d0887\"],[0.1111111111111111,\"#46039f\"],[0.2222222222222222,\"#7201a8\"],[0.3333333333333333,\"#9c179e\"],[0.4444444444444444,\"#bd3786\"],[0.5555555555555556,\"#d8576b\"],[0.6666666666666666,\"#ed7953\"],[0.7777777777777778,\"#fb9f3a\"],[0.8888888888888888,\"#fdca26\"],[1.0,\"#f0f921\"]]}],\"choropleth\":[{\"type\":\"choropleth\",\"colorbar\":{\"outlinewidth\":0,\"ticks\":\"\"}}],\"histogram2d\":[{\"type\":\"histogram2d\",\"colorbar\":{\"outlinewidth\":0,\"ticks\":\"\"},\"colorscale\":[[0.0,\"#0d0887\"],[0.1111111111111111,\"#46039f\"],[0.2222222222222222,\"#7201a8\"],[0.3333333333333333,\"#9c179e\"],[0.4444444444444444,\"#bd3786\"],[0.5555555555555556,\"#d8576b\"],[0.6666666666666666,\"#ed7953\"],[0.7777777777777778,\"#fb9f3a\"],[0.8888888888888888,\"#fdca26\"],[1.0,\"#f0f921\"]]}],\"heatmap\":[{\"type\":\"heatmap\",\"colorbar\":{\"outlinewidth\":0,\"ticks\":\"\"},\"colorscale\":[[0.0,\"#0d0887\"],[0.1111111111111111,\"#46039f\"],[0.2222222222222222,\"#7201a8\"],[0.3333333333333333,\"#9c179e\"],[0.4444444444444444,\"#bd3786\"],[0.5555555555555556,\"#d8576b\"],[0.6666666666666666,\"#ed7953\"],[0.7777777777777778,\"#fb9f3a\"],[0.8888888888888888,\"#fdca26\"],[1.0,\"#f0f921\"]]}],\"heatmapgl\":[{\"type\":\"heatmapgl\",\"colorbar\":{\"outlinewidth\":0,\"ticks\":\"\"},\"colorscale\":[[0.0,\"#0d0887\"],[0.1111111111111111,\"#46039f\"],[0.2222222222222222,\"#7201a8\"],[0.3333333333333333,\"#9c179e\"],[0.4444444444444444,\"#bd3786\"],[0.5555555555555556,\"#d8576b\"],[0.6666666666666666,\"#ed7953\"],[0.7777777777777778,\"#fb9f3a\"],[0.8888888888888888,\"#fdca26\"],[1.0,\"#f0f921\"]]}],\"contourcarpet\":[{\"type\":\"contourcarpet\",\"colorbar\":{\"outlinewidth\":0,\"ticks\":\"\"}}],\"contour\":[{\"type\":\"contour\",\"colorbar\":{\"outlinewidth\":0,\"ticks\":\"\"},\"colorscale\":[[0.0,\"#0d0887\"],[0.1111111111111111,\"#46039f\"],[0.2222222222222222,\"#7201a8\"],[0.3333333333333333,\"#9c179e\"],[0.4444444444444444,\"#bd3786\"],[0.5555555555555556,\"#d8576b\"],[0.6666666666666666,\"#ed7953\"],[0.7777777777777778,\"#fb9f3a\"],[0.8888888888888888,\"#fdca26\"],[1.0,\"#f0f921\"]]}],\"surface\":[{\"type\":\"surface\",\"colorbar\":{\"outlinewidth\":0,\"ticks\":\"\"},\"colorscale\":[[0.0,\"#0d0887\"],[0.1111111111111111,\"#46039f\"],[0.2222222222222222,\"#7201a8\"],[0.3333333333333333,\"#9c179e\"],[0.4444444444444444,\"#bd3786\"],[0.5555555555555556,\"#d8576b\"],[0.6666666666666666,\"#ed7953\"],[0.7777777777777778,\"#fb9f3a\"],[0.8888888888888888,\"#fdca26\"],[1.0,\"#f0f921\"]]}],\"mesh3d\":[{\"type\":\"mesh3d\",\"colorbar\":{\"outlinewidth\":0,\"ticks\":\"\"}}],\"scatter\":[{\"fillpattern\":{\"fillmode\":\"overlay\",\"size\":10,\"solidity\":0.2},\"type\":\"scatter\"}],\"parcoords\":[{\"type\":\"parcoords\",\"line\":{\"colorbar\":{\"outlinewidth\":0,\"ticks\":\"\"}}}],\"scatterpolargl\":[{\"type\":\"scatterpolargl\",\"marker\":{\"colorbar\":{\"outlinewidth\":0,\"ticks\":\"\"}}}],\"bar\":[{\"error_x\":{\"color\":\"#2a3f5f\"},\"error_y\":{\"color\":\"#2a3f5f\"},\"marker\":{\"line\":{\"color\":\"#E5ECF6\",\"width\":0.5},\"pattern\":{\"fillmode\":\"overlay\",\"size\":10,\"solidity\":0.2}},\"type\":\"bar\"}],\"scattergeo\":[{\"type\":\"scattergeo\",\"marker\":{\"colorbar\":{\"outlinewidth\":0,\"ticks\":\"\"}}}],\"scatterpolar\":[{\"type\":\"scatterpolar\",\"marker\":{\"colorbar\":{\"outlinewidth\":0,\"ticks\":\"\"}}}],\"histogram\":[{\"marker\":{\"pattern\":{\"fillmode\":\"overlay\",\"size\":10,\"solidity\":0.2}},\"type\":\"histogram\"}],\"scattergl\":[{\"type\":\"scattergl\",\"marker\":{\"colorbar\":{\"outlinewidth\":0,\"ticks\":\"\"}}}],\"scatter3d\":[{\"type\":\"scatter3d\",\"line\":{\"colorbar\":{\"outlinewidth\":0,\"ticks\":\"\"}},\"marker\":{\"colorbar\":{\"outlinewidth\":0,\"ticks\":\"\"}}}],\"scattermapbox\":[{\"type\":\"scattermapbox\",\"marker\":{\"colorbar\":{\"outlinewidth\":0,\"ticks\":\"\"}}}],\"scatterternary\":[{\"type\":\"scatterternary\",\"marker\":{\"colorbar\":{\"outlinewidth\":0,\"ticks\":\"\"}}}],\"scattercarpet\":[{\"type\":\"scattercarpet\",\"marker\":{\"colorbar\":{\"outlinewidth\":0,\"ticks\":\"\"}}}],\"carpet\":[{\"aaxis\":{\"endlinecolor\":\"#2a3f5f\",\"gridcolor\":\"white\",\"linecolor\":\"white\",\"minorgridcolor\":\"white\",\"startlinecolor\":\"#2a3f5f\"},\"baxis\":{\"endlinecolor\":\"#2a3f5f\",\"gridcolor\":\"white\",\"linecolor\":\"white\",\"minorgridcolor\":\"white\",\"startlinecolor\":\"#2a3f5f\"},\"type\":\"carpet\"}],\"table\":[{\"cells\":{\"fill\":{\"color\":\"#EBF0F8\"},\"line\":{\"color\":\"white\"}},\"header\":{\"fill\":{\"color\":\"#C8D4E3\"},\"line\":{\"color\":\"white\"}},\"type\":\"table\"}],\"barpolar\":[{\"marker\":{\"line\":{\"color\":\"#E5ECF6\",\"width\":0.5},\"pattern\":{\"fillmode\":\"overlay\",\"size\":10,\"solidity\":0.2}},\"type\":\"barpolar\"}],\"pie\":[{\"automargin\":true,\"type\":\"pie\"}]},\"layout\":{\"autotypenumbers\":\"strict\",\"colorway\":[\"#636efa\",\"#EF553B\",\"#00cc96\",\"#ab63fa\",\"#FFA15A\",\"#19d3f3\",\"#FF6692\",\"#B6E880\",\"#FF97FF\",\"#FECB52\"],\"font\":{\"color\":\"#2a3f5f\"},\"hovermode\":\"closest\",\"hoverlabel\":{\"align\":\"left\"},\"paper_bgcolor\":\"white\",\"plot_bgcolor\":\"#E5ECF6\",\"polar\":{\"bgcolor\":\"#E5ECF6\",\"angularaxis\":{\"gridcolor\":\"white\",\"linecolor\":\"white\",\"ticks\":\"\"},\"radialaxis\":{\"gridcolor\":\"white\",\"linecolor\":\"white\",\"ticks\":\"\"}},\"ternary\":{\"bgcolor\":\"#E5ECF6\",\"aaxis\":{\"gridcolor\":\"white\",\"linecolor\":\"white\",\"ticks\":\"\"},\"baxis\":{\"gridcolor\":\"white\",\"linecolor\":\"white\",\"ticks\":\"\"},\"caxis\":{\"gridcolor\":\"white\",\"linecolor\":\"white\",\"ticks\":\"\"}},\"coloraxis\":{\"colorbar\":{\"outlinewidth\":0,\"ticks\":\"\"}},\"colorscale\":{\"sequential\":[[0.0,\"#0d0887\"],[0.1111111111111111,\"#46039f\"],[0.2222222222222222,\"#7201a8\"],[0.3333333333333333,\"#9c179e\"],[0.4444444444444444,\"#bd3786\"],[0.5555555555555556,\"#d8576b\"],[0.6666666666666666,\"#ed7953\"],[0.7777777777777778,\"#fb9f3a\"],[0.8888888888888888,\"#fdca26\"],[1.0,\"#f0f921\"]],\"sequentialminus\":[[0.0,\"#0d0887\"],[0.1111111111111111,\"#46039f\"],[0.2222222222222222,\"#7201a8\"],[0.3333333333333333,\"#9c179e\"],[0.4444444444444444,\"#bd3786\"],[0.5555555555555556,\"#d8576b\"],[0.6666666666666666,\"#ed7953\"],[0.7777777777777778,\"#fb9f3a\"],[0.8888888888888888,\"#fdca26\"],[1.0,\"#f0f921\"]],\"diverging\":[[0,\"#8e0152\"],[0.1,\"#c51b7d\"],[0.2,\"#de77ae\"],[0.3,\"#f1b6da\"],[0.4,\"#fde0ef\"],[0.5,\"#f7f7f7\"],[0.6,\"#e6f5d0\"],[0.7,\"#b8e186\"],[0.8,\"#7fbc41\"],[0.9,\"#4d9221\"],[1,\"#276419\"]]},\"xaxis\":{\"gridcolor\":\"white\",\"linecolor\":\"white\",\"ticks\":\"\",\"title\":{\"standoff\":15},\"zerolinecolor\":\"white\",\"automargin\":true,\"zerolinewidth\":2},\"yaxis\":{\"gridcolor\":\"white\",\"linecolor\":\"white\",\"ticks\":\"\",\"title\":{\"standoff\":15},\"zerolinecolor\":\"white\",\"automargin\":true,\"zerolinewidth\":2},\"scene\":{\"xaxis\":{\"backgroundcolor\":\"#E5ECF6\",\"gridcolor\":\"white\",\"linecolor\":\"white\",\"showbackground\":true,\"ticks\":\"\",\"zerolinecolor\":\"white\",\"gridwidth\":2},\"yaxis\":{\"backgroundcolor\":\"#E5ECF6\",\"gridcolor\":\"white\",\"linecolor\":\"white\",\"showbackground\":true,\"ticks\":\"\",\"zerolinecolor\":\"white\",\"gridwidth\":2},\"zaxis\":{\"backgroundcolor\":\"#E5ECF6\",\"gridcolor\":\"white\",\"linecolor\":\"white\",\"showbackground\":true,\"ticks\":\"\",\"zerolinecolor\":\"white\",\"gridwidth\":2}},\"shapedefaults\":{\"line\":{\"color\":\"#2a3f5f\"}},\"annotationdefaults\":{\"arrowcolor\":\"#2a3f5f\",\"arrowhead\":0,\"arrowwidth\":1},\"geo\":{\"bgcolor\":\"white\",\"landcolor\":\"#E5ECF6\",\"subunitcolor\":\"white\",\"showland\":true,\"showlakes\":true,\"lakecolor\":\"white\"},\"title\":{\"x\":0.05},\"mapbox\":{\"style\":\"light\"}}},\"title\":{\"text\":\"With outliers  accel\"}},                        {\"responsive\": true}                    ).then(function(){\n",
       "                            \n",
       "var gd = document.getElementById('47a834b1-e077-4850-96a4-335124f2c553');\n",
       "var x = new MutationObserver(function (mutations, observer) {{\n",
       "        var display = window.getComputedStyle(gd).display;\n",
       "        if (!display || display === 'none') {{\n",
       "            console.log([gd, 'removed!']);\n",
       "            Plotly.purge(gd);\n",
       "            observer.disconnect();\n",
       "        }}\n",
       "}});\n",
       "\n",
       "// Listen for the removal of the full notebook cells\n",
       "var notebookContainer = gd.closest('#notebook-container');\n",
       "if (notebookContainer) {{\n",
       "    x.observe(notebookContainer, {childList: true});\n",
       "}}\n",
       "\n",
       "// Listen for the clearing of the current output cell\n",
       "var outputEl = gd.closest('.output');\n",
       "if (outputEl) {{\n",
       "    x.observe(outputEl, {childList: true});\n",
       "}}\n",
       "\n",
       "                        })                };                });            </script>        </div>"
      ]
     },
     "metadata": {},
     "output_type": "display_data"
    },
    {
     "data": {
      "application/vnd.plotly.v1+json": {
       "config": {
        "plotlyServerURL": "https://plot.ly"
       },
       "data": [
        {
         "name": "lb_ax",
         "type": "scatter",
         "x": [
          0,
          1,
          2,
          3,
          4,
          5,
          6,
          7,
          8,
          9,
          10,
          11,
          12,
          13,
          14,
          15,
          16,
          17,
          18,
          19,
          20,
          21,
          22,
          23,
          24,
          25,
          26,
          27,
          28,
          29,
          30,
          31,
          32,
          33,
          34,
          35,
          36,
          37,
          38,
          39,
          40,
          41,
          42,
          43,
          44,
          45,
          46,
          47,
          48,
          49,
          50,
          51,
          52
         ],
         "y": [
          0.2705448,
          0.2944868,
          0.248997,
          0.248997,
          0.2106898,
          0.248997,
          0.2298434,
          0.248997,
          0.272939,
          0.2394202,
          0.237026,
          0.2777274,
          0.2466028,
          0.2106898,
          0.248997,
          0.2298434,
          0.248997,
          0.248997,
          0.248997,
          0.248997,
          0.2202666,
          0.248997,
          0.2561796,
          0.248997,
          0.2585738,
          0.248997,
          0.2106898,
          0.2920926,
          0.2418144,
          0.2178724,
          0.248997,
          0.2801216,
          0.2944868,
          0.2178724,
          0.225055,
          0.2513912,
          0.2657564,
          0.213084,
          0.2274492,
          0.248997,
          0.28491,
          0.248997,
          0.248997,
          0.2322376,
          0.2298434,
          0.248997,
          0.248997,
          0.2753332,
          0.2633622,
          0.248997,
          0.2825158,
          0.248997,
          0.248997
         ]
        },
        {
         "name": "lb_ay",
         "type": "scatter",
         "x": [
          0,
          1,
          2,
          3,
          4,
          5,
          6,
          7,
          8,
          9,
          10,
          11,
          12,
          13,
          14,
          15,
          16,
          17,
          18,
          19,
          20,
          21,
          22,
          23,
          24,
          25,
          26,
          27,
          28,
          29,
          30,
          31,
          32,
          33,
          34,
          35,
          36,
          37,
          38,
          39,
          40,
          41,
          42,
          43,
          44,
          45,
          46,
          47,
          48,
          49,
          50,
          51,
          52
         ],
         "y": [
          -9.67018,
          -9.691729,
          -9.691729,
          -9.684546,
          -9.636662,
          -9.631873,
          -9.67018,
          -9.691729,
          -9.696517,
          -9.68694,
          -9.631873,
          -9.662998,
          -9.68694,
          -9.655815,
          -9.665392,
          -9.67018,
          -9.65821,
          -9.655815,
          -9.639056,
          -9.68694,
          -9.636662,
          -9.619903,
          -9.694122,
          -9.603143,
          -9.703699,
          -9.713276,
          -9.660604,
          -9.636662,
          -9.660604,
          -9.682152,
          -9.639056,
          -9.610326,
          -9.694122,
          -9.631873,
          -9.662998,
          -9.720459,
          -9.672575,
          -9.631873,
          -9.665392,
          -9.674969,
          -9.682152,
          -9.653421,
          -9.662998,
          -9.689334,
          -9.636662,
          -9.631873,
          -9.651027,
          -9.720459,
          -9.64145,
          -9.624691,
          -9.667787,
          -9.662998,
          -9.643845
         ]
        },
        {
         "name": "lb_az",
         "type": "scatter",
         "x": [
          0,
          1,
          2,
          3,
          4,
          5,
          6,
          7,
          8,
          9,
          10,
          11,
          12,
          13,
          14,
          15,
          16,
          17,
          18,
          19,
          20,
          21,
          22,
          23,
          24,
          25,
          26,
          27,
          28,
          29,
          30,
          31,
          32,
          33,
          34,
          35,
          36,
          37,
          38,
          39,
          40,
          41,
          42,
          43,
          44,
          45,
          46,
          47,
          48,
          49,
          50,
          51,
          52
         ],
         "y": [
          -0.2753332,
          -0.2274492,
          -0.2537854,
          -0.28491,
          -0.2537854,
          -0.2202666,
          -0.2537854,
          -0.2537854,
          -0.2106898,
          -0.2346318,
          -0.2561796,
          -0.2561796,
          -0.2106898,
          -0.2537854,
          -0.2801216,
          -0.2753332,
          -0.260968,
          -0.272939,
          -0.2537854,
          -0.2825158,
          -0.2537854,
          -0.237026,
          -0.2298434,
          -0.260968,
          -0.2753332,
          -0.2537854,
          -0.2537854,
          -0.2896984,
          -0.248997,
          -0.2825158,
          -0.2537854,
          -0.2537854,
          -0.2585738,
          -0.2537854,
          -0.2178724,
          -0.2537854,
          -0.2513912,
          -0.260968,
          -0.2298434,
          -0.2178724,
          -0.2418144,
          -0.2537854,
          -0.248997,
          -0.2178724,
          -0.2537854,
          -0.2537854,
          -0.2705448,
          -0.2537854,
          -0.2537854,
          -0.2442086,
          -0.2442086,
          -0.2106898,
          -0.2825158
         ]
        }
       ],
       "layout": {
        "template": {
         "data": {
          "bar": [
           {
            "error_x": {
             "color": "#2a3f5f"
            },
            "error_y": {
             "color": "#2a3f5f"
            },
            "marker": {
             "line": {
              "color": "#E5ECF6",
              "width": 0.5
             },
             "pattern": {
              "fillmode": "overlay",
              "size": 10,
              "solidity": 0.2
             }
            },
            "type": "bar"
           }
          ],
          "barpolar": [
           {
            "marker": {
             "line": {
              "color": "#E5ECF6",
              "width": 0.5
             },
             "pattern": {
              "fillmode": "overlay",
              "size": 10,
              "solidity": 0.2
             }
            },
            "type": "barpolar"
           }
          ],
          "carpet": [
           {
            "aaxis": {
             "endlinecolor": "#2a3f5f",
             "gridcolor": "white",
             "linecolor": "white",
             "minorgridcolor": "white",
             "startlinecolor": "#2a3f5f"
            },
            "baxis": {
             "endlinecolor": "#2a3f5f",
             "gridcolor": "white",
             "linecolor": "white",
             "minorgridcolor": "white",
             "startlinecolor": "#2a3f5f"
            },
            "type": "carpet"
           }
          ],
          "choropleth": [
           {
            "colorbar": {
             "outlinewidth": 0,
             "ticks": ""
            },
            "type": "choropleth"
           }
          ],
          "contour": [
           {
            "colorbar": {
             "outlinewidth": 0,
             "ticks": ""
            },
            "colorscale": [
             [
              0,
              "#0d0887"
             ],
             [
              0.1111111111111111,
              "#46039f"
             ],
             [
              0.2222222222222222,
              "#7201a8"
             ],
             [
              0.3333333333333333,
              "#9c179e"
             ],
             [
              0.4444444444444444,
              "#bd3786"
             ],
             [
              0.5555555555555556,
              "#d8576b"
             ],
             [
              0.6666666666666666,
              "#ed7953"
             ],
             [
              0.7777777777777778,
              "#fb9f3a"
             ],
             [
              0.8888888888888888,
              "#fdca26"
             ],
             [
              1,
              "#f0f921"
             ]
            ],
            "type": "contour"
           }
          ],
          "contourcarpet": [
           {
            "colorbar": {
             "outlinewidth": 0,
             "ticks": ""
            },
            "type": "contourcarpet"
           }
          ],
          "heatmap": [
           {
            "colorbar": {
             "outlinewidth": 0,
             "ticks": ""
            },
            "colorscale": [
             [
              0,
              "#0d0887"
             ],
             [
              0.1111111111111111,
              "#46039f"
             ],
             [
              0.2222222222222222,
              "#7201a8"
             ],
             [
              0.3333333333333333,
              "#9c179e"
             ],
             [
              0.4444444444444444,
              "#bd3786"
             ],
             [
              0.5555555555555556,
              "#d8576b"
             ],
             [
              0.6666666666666666,
              "#ed7953"
             ],
             [
              0.7777777777777778,
              "#fb9f3a"
             ],
             [
              0.8888888888888888,
              "#fdca26"
             ],
             [
              1,
              "#f0f921"
             ]
            ],
            "type": "heatmap"
           }
          ],
          "heatmapgl": [
           {
            "colorbar": {
             "outlinewidth": 0,
             "ticks": ""
            },
            "colorscale": [
             [
              0,
              "#0d0887"
             ],
             [
              0.1111111111111111,
              "#46039f"
             ],
             [
              0.2222222222222222,
              "#7201a8"
             ],
             [
              0.3333333333333333,
              "#9c179e"
             ],
             [
              0.4444444444444444,
              "#bd3786"
             ],
             [
              0.5555555555555556,
              "#d8576b"
             ],
             [
              0.6666666666666666,
              "#ed7953"
             ],
             [
              0.7777777777777778,
              "#fb9f3a"
             ],
             [
              0.8888888888888888,
              "#fdca26"
             ],
             [
              1,
              "#f0f921"
             ]
            ],
            "type": "heatmapgl"
           }
          ],
          "histogram": [
           {
            "marker": {
             "pattern": {
              "fillmode": "overlay",
              "size": 10,
              "solidity": 0.2
             }
            },
            "type": "histogram"
           }
          ],
          "histogram2d": [
           {
            "colorbar": {
             "outlinewidth": 0,
             "ticks": ""
            },
            "colorscale": [
             [
              0,
              "#0d0887"
             ],
             [
              0.1111111111111111,
              "#46039f"
             ],
             [
              0.2222222222222222,
              "#7201a8"
             ],
             [
              0.3333333333333333,
              "#9c179e"
             ],
             [
              0.4444444444444444,
              "#bd3786"
             ],
             [
              0.5555555555555556,
              "#d8576b"
             ],
             [
              0.6666666666666666,
              "#ed7953"
             ],
             [
              0.7777777777777778,
              "#fb9f3a"
             ],
             [
              0.8888888888888888,
              "#fdca26"
             ],
             [
              1,
              "#f0f921"
             ]
            ],
            "type": "histogram2d"
           }
          ],
          "histogram2dcontour": [
           {
            "colorbar": {
             "outlinewidth": 0,
             "ticks": ""
            },
            "colorscale": [
             [
              0,
              "#0d0887"
             ],
             [
              0.1111111111111111,
              "#46039f"
             ],
             [
              0.2222222222222222,
              "#7201a8"
             ],
             [
              0.3333333333333333,
              "#9c179e"
             ],
             [
              0.4444444444444444,
              "#bd3786"
             ],
             [
              0.5555555555555556,
              "#d8576b"
             ],
             [
              0.6666666666666666,
              "#ed7953"
             ],
             [
              0.7777777777777778,
              "#fb9f3a"
             ],
             [
              0.8888888888888888,
              "#fdca26"
             ],
             [
              1,
              "#f0f921"
             ]
            ],
            "type": "histogram2dcontour"
           }
          ],
          "mesh3d": [
           {
            "colorbar": {
             "outlinewidth": 0,
             "ticks": ""
            },
            "type": "mesh3d"
           }
          ],
          "parcoords": [
           {
            "line": {
             "colorbar": {
              "outlinewidth": 0,
              "ticks": ""
             }
            },
            "type": "parcoords"
           }
          ],
          "pie": [
           {
            "automargin": true,
            "type": "pie"
           }
          ],
          "scatter": [
           {
            "fillpattern": {
             "fillmode": "overlay",
             "size": 10,
             "solidity": 0.2
            },
            "type": "scatter"
           }
          ],
          "scatter3d": [
           {
            "line": {
             "colorbar": {
              "outlinewidth": 0,
              "ticks": ""
             }
            },
            "marker": {
             "colorbar": {
              "outlinewidth": 0,
              "ticks": ""
             }
            },
            "type": "scatter3d"
           }
          ],
          "scattercarpet": [
           {
            "marker": {
             "colorbar": {
              "outlinewidth": 0,
              "ticks": ""
             }
            },
            "type": "scattercarpet"
           }
          ],
          "scattergeo": [
           {
            "marker": {
             "colorbar": {
              "outlinewidth": 0,
              "ticks": ""
             }
            },
            "type": "scattergeo"
           }
          ],
          "scattergl": [
           {
            "marker": {
             "colorbar": {
              "outlinewidth": 0,
              "ticks": ""
             }
            },
            "type": "scattergl"
           }
          ],
          "scattermapbox": [
           {
            "marker": {
             "colorbar": {
              "outlinewidth": 0,
              "ticks": ""
             }
            },
            "type": "scattermapbox"
           }
          ],
          "scatterpolar": [
           {
            "marker": {
             "colorbar": {
              "outlinewidth": 0,
              "ticks": ""
             }
            },
            "type": "scatterpolar"
           }
          ],
          "scatterpolargl": [
           {
            "marker": {
             "colorbar": {
              "outlinewidth": 0,
              "ticks": ""
             }
            },
            "type": "scatterpolargl"
           }
          ],
          "scatterternary": [
           {
            "marker": {
             "colorbar": {
              "outlinewidth": 0,
              "ticks": ""
             }
            },
            "type": "scatterternary"
           }
          ],
          "surface": [
           {
            "colorbar": {
             "outlinewidth": 0,
             "ticks": ""
            },
            "colorscale": [
             [
              0,
              "#0d0887"
             ],
             [
              0.1111111111111111,
              "#46039f"
             ],
             [
              0.2222222222222222,
              "#7201a8"
             ],
             [
              0.3333333333333333,
              "#9c179e"
             ],
             [
              0.4444444444444444,
              "#bd3786"
             ],
             [
              0.5555555555555556,
              "#d8576b"
             ],
             [
              0.6666666666666666,
              "#ed7953"
             ],
             [
              0.7777777777777778,
              "#fb9f3a"
             ],
             [
              0.8888888888888888,
              "#fdca26"
             ],
             [
              1,
              "#f0f921"
             ]
            ],
            "type": "surface"
           }
          ],
          "table": [
           {
            "cells": {
             "fill": {
              "color": "#EBF0F8"
             },
             "line": {
              "color": "white"
             }
            },
            "header": {
             "fill": {
              "color": "#C8D4E3"
             },
             "line": {
              "color": "white"
             }
            },
            "type": "table"
           }
          ]
         },
         "layout": {
          "annotationdefaults": {
           "arrowcolor": "#2a3f5f",
           "arrowhead": 0,
           "arrowwidth": 1
          },
          "autotypenumbers": "strict",
          "coloraxis": {
           "colorbar": {
            "outlinewidth": 0,
            "ticks": ""
           }
          },
          "colorscale": {
           "diverging": [
            [
             0,
             "#8e0152"
            ],
            [
             0.1,
             "#c51b7d"
            ],
            [
             0.2,
             "#de77ae"
            ],
            [
             0.3,
             "#f1b6da"
            ],
            [
             0.4,
             "#fde0ef"
            ],
            [
             0.5,
             "#f7f7f7"
            ],
            [
             0.6,
             "#e6f5d0"
            ],
            [
             0.7,
             "#b8e186"
            ],
            [
             0.8,
             "#7fbc41"
            ],
            [
             0.9,
             "#4d9221"
            ],
            [
             1,
             "#276419"
            ]
           ],
           "sequential": [
            [
             0,
             "#0d0887"
            ],
            [
             0.1111111111111111,
             "#46039f"
            ],
            [
             0.2222222222222222,
             "#7201a8"
            ],
            [
             0.3333333333333333,
             "#9c179e"
            ],
            [
             0.4444444444444444,
             "#bd3786"
            ],
            [
             0.5555555555555556,
             "#d8576b"
            ],
            [
             0.6666666666666666,
             "#ed7953"
            ],
            [
             0.7777777777777778,
             "#fb9f3a"
            ],
            [
             0.8888888888888888,
             "#fdca26"
            ],
            [
             1,
             "#f0f921"
            ]
           ],
           "sequentialminus": [
            [
             0,
             "#0d0887"
            ],
            [
             0.1111111111111111,
             "#46039f"
            ],
            [
             0.2222222222222222,
             "#7201a8"
            ],
            [
             0.3333333333333333,
             "#9c179e"
            ],
            [
             0.4444444444444444,
             "#bd3786"
            ],
            [
             0.5555555555555556,
             "#d8576b"
            ],
            [
             0.6666666666666666,
             "#ed7953"
            ],
            [
             0.7777777777777778,
             "#fb9f3a"
            ],
            [
             0.8888888888888888,
             "#fdca26"
            ],
            [
             1,
             "#f0f921"
            ]
           ]
          },
          "colorway": [
           "#636efa",
           "#EF553B",
           "#00cc96",
           "#ab63fa",
           "#FFA15A",
           "#19d3f3",
           "#FF6692",
           "#B6E880",
           "#FF97FF",
           "#FECB52"
          ],
          "font": {
           "color": "#2a3f5f"
          },
          "geo": {
           "bgcolor": "white",
           "lakecolor": "white",
           "landcolor": "#E5ECF6",
           "showlakes": true,
           "showland": true,
           "subunitcolor": "white"
          },
          "hoverlabel": {
           "align": "left"
          },
          "hovermode": "closest",
          "mapbox": {
           "style": "light"
          },
          "paper_bgcolor": "white",
          "plot_bgcolor": "#E5ECF6",
          "polar": {
           "angularaxis": {
            "gridcolor": "white",
            "linecolor": "white",
            "ticks": ""
           },
           "bgcolor": "#E5ECF6",
           "radialaxis": {
            "gridcolor": "white",
            "linecolor": "white",
            "ticks": ""
           }
          },
          "scene": {
           "xaxis": {
            "backgroundcolor": "#E5ECF6",
            "gridcolor": "white",
            "gridwidth": 2,
            "linecolor": "white",
            "showbackground": true,
            "ticks": "",
            "zerolinecolor": "white"
           },
           "yaxis": {
            "backgroundcolor": "#E5ECF6",
            "gridcolor": "white",
            "gridwidth": 2,
            "linecolor": "white",
            "showbackground": true,
            "ticks": "",
            "zerolinecolor": "white"
           },
           "zaxis": {
            "backgroundcolor": "#E5ECF6",
            "gridcolor": "white",
            "gridwidth": 2,
            "linecolor": "white",
            "showbackground": true,
            "ticks": "",
            "zerolinecolor": "white"
           }
          },
          "shapedefaults": {
           "line": {
            "color": "#2a3f5f"
           }
          },
          "ternary": {
           "aaxis": {
            "gridcolor": "white",
            "linecolor": "white",
            "ticks": ""
           },
           "baxis": {
            "gridcolor": "white",
            "linecolor": "white",
            "ticks": ""
           },
           "bgcolor": "#E5ECF6",
           "caxis": {
            "gridcolor": "white",
            "linecolor": "white",
            "ticks": ""
           }
          },
          "title": {
           "x": 0.05
          },
          "xaxis": {
           "automargin": true,
           "gridcolor": "white",
           "linecolor": "white",
           "ticks": "",
           "title": {
            "standoff": 15
           },
           "zerolinecolor": "white",
           "zerolinewidth": 2
          },
          "yaxis": {
           "automargin": true,
           "gridcolor": "white",
           "linecolor": "white",
           "ticks": "",
           "title": {
            "standoff": 15
           },
           "zerolinecolor": "white",
           "zerolinewidth": 2
          }
         }
        },
        "title": {
         "text": "Without outliers accel"
        }
       }
      },
      "text/html": [
       "<div>                            <div id=\"19dddf7a-a9b3-49a7-8673-f4021fed1a65\" class=\"plotly-graph-div\" style=\"height:525px; width:100%;\"></div>            <script type=\"text/javascript\">                require([\"plotly\"], function(Plotly) {                    window.PLOTLYENV=window.PLOTLYENV || {};                                    if (document.getElementById(\"19dddf7a-a9b3-49a7-8673-f4021fed1a65\")) {                    Plotly.newPlot(                        \"19dddf7a-a9b3-49a7-8673-f4021fed1a65\",                        [{\"name\":\"lb_ax\",\"x\":[0,1,2,3,4,5,6,7,8,9,10,11,12,13,14,15,16,17,18,19,20,21,22,23,24,25,26,27,28,29,30,31,32,33,34,35,36,37,38,39,40,41,42,43,44,45,46,47,48,49,50,51,52],\"y\":[0.2705448,0.2944868,0.248997,0.248997,0.2106898,0.248997,0.2298434,0.248997,0.272939,0.2394202,0.237026,0.2777274,0.2466028,0.2106898,0.248997,0.2298434,0.248997,0.248997,0.248997,0.248997,0.2202666,0.248997,0.2561796,0.248997,0.2585738,0.248997,0.2106898,0.2920926,0.2418144,0.2178724,0.248997,0.2801216,0.2944868,0.2178724,0.225055,0.2513912,0.2657564,0.213084,0.2274492,0.248997,0.28491,0.248997,0.248997,0.2322376,0.2298434,0.248997,0.248997,0.2753332,0.2633622,0.248997,0.2825158,0.248997,0.248997],\"type\":\"scatter\"},{\"name\":\"lb_ay\",\"x\":[0,1,2,3,4,5,6,7,8,9,10,11,12,13,14,15,16,17,18,19,20,21,22,23,24,25,26,27,28,29,30,31,32,33,34,35,36,37,38,39,40,41,42,43,44,45,46,47,48,49,50,51,52],\"y\":[-9.67018,-9.691729,-9.691729,-9.684546,-9.636662,-9.631873,-9.67018,-9.691729,-9.696517,-9.68694,-9.631873,-9.662998,-9.68694,-9.655815,-9.665392,-9.67018,-9.65821,-9.655815,-9.639056,-9.68694,-9.636662,-9.619903,-9.694122,-9.603143,-9.703699,-9.713276,-9.660604,-9.636662,-9.660604,-9.682152,-9.639056,-9.610326,-9.694122,-9.631873,-9.662998,-9.720459,-9.672575,-9.631873,-9.665392,-9.674969,-9.682152,-9.653421,-9.662998,-9.689334,-9.636662,-9.631873,-9.651027,-9.720459,-9.64145,-9.624691,-9.667787,-9.662998,-9.643845],\"type\":\"scatter\"},{\"name\":\"lb_az\",\"x\":[0,1,2,3,4,5,6,7,8,9,10,11,12,13,14,15,16,17,18,19,20,21,22,23,24,25,26,27,28,29,30,31,32,33,34,35,36,37,38,39,40,41,42,43,44,45,46,47,48,49,50,51,52],\"y\":[-0.2753332,-0.2274492,-0.2537854,-0.28491,-0.2537854,-0.2202666,-0.2537854,-0.2537854,-0.2106898,-0.2346318,-0.2561796,-0.2561796,-0.2106898,-0.2537854,-0.2801216,-0.2753332,-0.260968,-0.272939,-0.2537854,-0.2825158,-0.2537854,-0.237026,-0.2298434,-0.260968,-0.2753332,-0.2537854,-0.2537854,-0.2896984,-0.248997,-0.2825158,-0.2537854,-0.2537854,-0.2585738,-0.2537854,-0.2178724,-0.2537854,-0.2513912,-0.260968,-0.2298434,-0.2178724,-0.2418144,-0.2537854,-0.248997,-0.2178724,-0.2537854,-0.2537854,-0.2705448,-0.2537854,-0.2537854,-0.2442086,-0.2442086,-0.2106898,-0.2825158],\"type\":\"scatter\"}],                        {\"template\":{\"data\":{\"histogram2dcontour\":[{\"type\":\"histogram2dcontour\",\"colorbar\":{\"outlinewidth\":0,\"ticks\":\"\"},\"colorscale\":[[0.0,\"#0d0887\"],[0.1111111111111111,\"#46039f\"],[0.2222222222222222,\"#7201a8\"],[0.3333333333333333,\"#9c179e\"],[0.4444444444444444,\"#bd3786\"],[0.5555555555555556,\"#d8576b\"],[0.6666666666666666,\"#ed7953\"],[0.7777777777777778,\"#fb9f3a\"],[0.8888888888888888,\"#fdca26\"],[1.0,\"#f0f921\"]]}],\"choropleth\":[{\"type\":\"choropleth\",\"colorbar\":{\"outlinewidth\":0,\"ticks\":\"\"}}],\"histogram2d\":[{\"type\":\"histogram2d\",\"colorbar\":{\"outlinewidth\":0,\"ticks\":\"\"},\"colorscale\":[[0.0,\"#0d0887\"],[0.1111111111111111,\"#46039f\"],[0.2222222222222222,\"#7201a8\"],[0.3333333333333333,\"#9c179e\"],[0.4444444444444444,\"#bd3786\"],[0.5555555555555556,\"#d8576b\"],[0.6666666666666666,\"#ed7953\"],[0.7777777777777778,\"#fb9f3a\"],[0.8888888888888888,\"#fdca26\"],[1.0,\"#f0f921\"]]}],\"heatmap\":[{\"type\":\"heatmap\",\"colorbar\":{\"outlinewidth\":0,\"ticks\":\"\"},\"colorscale\":[[0.0,\"#0d0887\"],[0.1111111111111111,\"#46039f\"],[0.2222222222222222,\"#7201a8\"],[0.3333333333333333,\"#9c179e\"],[0.4444444444444444,\"#bd3786\"],[0.5555555555555556,\"#d8576b\"],[0.6666666666666666,\"#ed7953\"],[0.7777777777777778,\"#fb9f3a\"],[0.8888888888888888,\"#fdca26\"],[1.0,\"#f0f921\"]]}],\"heatmapgl\":[{\"type\":\"heatmapgl\",\"colorbar\":{\"outlinewidth\":0,\"ticks\":\"\"},\"colorscale\":[[0.0,\"#0d0887\"],[0.1111111111111111,\"#46039f\"],[0.2222222222222222,\"#7201a8\"],[0.3333333333333333,\"#9c179e\"],[0.4444444444444444,\"#bd3786\"],[0.5555555555555556,\"#d8576b\"],[0.6666666666666666,\"#ed7953\"],[0.7777777777777778,\"#fb9f3a\"],[0.8888888888888888,\"#fdca26\"],[1.0,\"#f0f921\"]]}],\"contourcarpet\":[{\"type\":\"contourcarpet\",\"colorbar\":{\"outlinewidth\":0,\"ticks\":\"\"}}],\"contour\":[{\"type\":\"contour\",\"colorbar\":{\"outlinewidth\":0,\"ticks\":\"\"},\"colorscale\":[[0.0,\"#0d0887\"],[0.1111111111111111,\"#46039f\"],[0.2222222222222222,\"#7201a8\"],[0.3333333333333333,\"#9c179e\"],[0.4444444444444444,\"#bd3786\"],[0.5555555555555556,\"#d8576b\"],[0.6666666666666666,\"#ed7953\"],[0.7777777777777778,\"#fb9f3a\"],[0.8888888888888888,\"#fdca26\"],[1.0,\"#f0f921\"]]}],\"surface\":[{\"type\":\"surface\",\"colorbar\":{\"outlinewidth\":0,\"ticks\":\"\"},\"colorscale\":[[0.0,\"#0d0887\"],[0.1111111111111111,\"#46039f\"],[0.2222222222222222,\"#7201a8\"],[0.3333333333333333,\"#9c179e\"],[0.4444444444444444,\"#bd3786\"],[0.5555555555555556,\"#d8576b\"],[0.6666666666666666,\"#ed7953\"],[0.7777777777777778,\"#fb9f3a\"],[0.8888888888888888,\"#fdca26\"],[1.0,\"#f0f921\"]]}],\"mesh3d\":[{\"type\":\"mesh3d\",\"colorbar\":{\"outlinewidth\":0,\"ticks\":\"\"}}],\"scatter\":[{\"fillpattern\":{\"fillmode\":\"overlay\",\"size\":10,\"solidity\":0.2},\"type\":\"scatter\"}],\"parcoords\":[{\"type\":\"parcoords\",\"line\":{\"colorbar\":{\"outlinewidth\":0,\"ticks\":\"\"}}}],\"scatterpolargl\":[{\"type\":\"scatterpolargl\",\"marker\":{\"colorbar\":{\"outlinewidth\":0,\"ticks\":\"\"}}}],\"bar\":[{\"error_x\":{\"color\":\"#2a3f5f\"},\"error_y\":{\"color\":\"#2a3f5f\"},\"marker\":{\"line\":{\"color\":\"#E5ECF6\",\"width\":0.5},\"pattern\":{\"fillmode\":\"overlay\",\"size\":10,\"solidity\":0.2}},\"type\":\"bar\"}],\"scattergeo\":[{\"type\":\"scattergeo\",\"marker\":{\"colorbar\":{\"outlinewidth\":0,\"ticks\":\"\"}}}],\"scatterpolar\":[{\"type\":\"scatterpolar\",\"marker\":{\"colorbar\":{\"outlinewidth\":0,\"ticks\":\"\"}}}],\"histogram\":[{\"marker\":{\"pattern\":{\"fillmode\":\"overlay\",\"size\":10,\"solidity\":0.2}},\"type\":\"histogram\"}],\"scattergl\":[{\"type\":\"scattergl\",\"marker\":{\"colorbar\":{\"outlinewidth\":0,\"ticks\":\"\"}}}],\"scatter3d\":[{\"type\":\"scatter3d\",\"line\":{\"colorbar\":{\"outlinewidth\":0,\"ticks\":\"\"}},\"marker\":{\"colorbar\":{\"outlinewidth\":0,\"ticks\":\"\"}}}],\"scattermapbox\":[{\"type\":\"scattermapbox\",\"marker\":{\"colorbar\":{\"outlinewidth\":0,\"ticks\":\"\"}}}],\"scatterternary\":[{\"type\":\"scatterternary\",\"marker\":{\"colorbar\":{\"outlinewidth\":0,\"ticks\":\"\"}}}],\"scattercarpet\":[{\"type\":\"scattercarpet\",\"marker\":{\"colorbar\":{\"outlinewidth\":0,\"ticks\":\"\"}}}],\"carpet\":[{\"aaxis\":{\"endlinecolor\":\"#2a3f5f\",\"gridcolor\":\"white\",\"linecolor\":\"white\",\"minorgridcolor\":\"white\",\"startlinecolor\":\"#2a3f5f\"},\"baxis\":{\"endlinecolor\":\"#2a3f5f\",\"gridcolor\":\"white\",\"linecolor\":\"white\",\"minorgridcolor\":\"white\",\"startlinecolor\":\"#2a3f5f\"},\"type\":\"carpet\"}],\"table\":[{\"cells\":{\"fill\":{\"color\":\"#EBF0F8\"},\"line\":{\"color\":\"white\"}},\"header\":{\"fill\":{\"color\":\"#C8D4E3\"},\"line\":{\"color\":\"white\"}},\"type\":\"table\"}],\"barpolar\":[{\"marker\":{\"line\":{\"color\":\"#E5ECF6\",\"width\":0.5},\"pattern\":{\"fillmode\":\"overlay\",\"size\":10,\"solidity\":0.2}},\"type\":\"barpolar\"}],\"pie\":[{\"automargin\":true,\"type\":\"pie\"}]},\"layout\":{\"autotypenumbers\":\"strict\",\"colorway\":[\"#636efa\",\"#EF553B\",\"#00cc96\",\"#ab63fa\",\"#FFA15A\",\"#19d3f3\",\"#FF6692\",\"#B6E880\",\"#FF97FF\",\"#FECB52\"],\"font\":{\"color\":\"#2a3f5f\"},\"hovermode\":\"closest\",\"hoverlabel\":{\"align\":\"left\"},\"paper_bgcolor\":\"white\",\"plot_bgcolor\":\"#E5ECF6\",\"polar\":{\"bgcolor\":\"#E5ECF6\",\"angularaxis\":{\"gridcolor\":\"white\",\"linecolor\":\"white\",\"ticks\":\"\"},\"radialaxis\":{\"gridcolor\":\"white\",\"linecolor\":\"white\",\"ticks\":\"\"}},\"ternary\":{\"bgcolor\":\"#E5ECF6\",\"aaxis\":{\"gridcolor\":\"white\",\"linecolor\":\"white\",\"ticks\":\"\"},\"baxis\":{\"gridcolor\":\"white\",\"linecolor\":\"white\",\"ticks\":\"\"},\"caxis\":{\"gridcolor\":\"white\",\"linecolor\":\"white\",\"ticks\":\"\"}},\"coloraxis\":{\"colorbar\":{\"outlinewidth\":0,\"ticks\":\"\"}},\"colorscale\":{\"sequential\":[[0.0,\"#0d0887\"],[0.1111111111111111,\"#46039f\"],[0.2222222222222222,\"#7201a8\"],[0.3333333333333333,\"#9c179e\"],[0.4444444444444444,\"#bd3786\"],[0.5555555555555556,\"#d8576b\"],[0.6666666666666666,\"#ed7953\"],[0.7777777777777778,\"#fb9f3a\"],[0.8888888888888888,\"#fdca26\"],[1.0,\"#f0f921\"]],\"sequentialminus\":[[0.0,\"#0d0887\"],[0.1111111111111111,\"#46039f\"],[0.2222222222222222,\"#7201a8\"],[0.3333333333333333,\"#9c179e\"],[0.4444444444444444,\"#bd3786\"],[0.5555555555555556,\"#d8576b\"],[0.6666666666666666,\"#ed7953\"],[0.7777777777777778,\"#fb9f3a\"],[0.8888888888888888,\"#fdca26\"],[1.0,\"#f0f921\"]],\"diverging\":[[0,\"#8e0152\"],[0.1,\"#c51b7d\"],[0.2,\"#de77ae\"],[0.3,\"#f1b6da\"],[0.4,\"#fde0ef\"],[0.5,\"#f7f7f7\"],[0.6,\"#e6f5d0\"],[0.7,\"#b8e186\"],[0.8,\"#7fbc41\"],[0.9,\"#4d9221\"],[1,\"#276419\"]]},\"xaxis\":{\"gridcolor\":\"white\",\"linecolor\":\"white\",\"ticks\":\"\",\"title\":{\"standoff\":15},\"zerolinecolor\":\"white\",\"automargin\":true,\"zerolinewidth\":2},\"yaxis\":{\"gridcolor\":\"white\",\"linecolor\":\"white\",\"ticks\":\"\",\"title\":{\"standoff\":15},\"zerolinecolor\":\"white\",\"automargin\":true,\"zerolinewidth\":2},\"scene\":{\"xaxis\":{\"backgroundcolor\":\"#E5ECF6\",\"gridcolor\":\"white\",\"linecolor\":\"white\",\"showbackground\":true,\"ticks\":\"\",\"zerolinecolor\":\"white\",\"gridwidth\":2},\"yaxis\":{\"backgroundcolor\":\"#E5ECF6\",\"gridcolor\":\"white\",\"linecolor\":\"white\",\"showbackground\":true,\"ticks\":\"\",\"zerolinecolor\":\"white\",\"gridwidth\":2},\"zaxis\":{\"backgroundcolor\":\"#E5ECF6\",\"gridcolor\":\"white\",\"linecolor\":\"white\",\"showbackground\":true,\"ticks\":\"\",\"zerolinecolor\":\"white\",\"gridwidth\":2}},\"shapedefaults\":{\"line\":{\"color\":\"#2a3f5f\"}},\"annotationdefaults\":{\"arrowcolor\":\"#2a3f5f\",\"arrowhead\":0,\"arrowwidth\":1},\"geo\":{\"bgcolor\":\"white\",\"landcolor\":\"#E5ECF6\",\"subunitcolor\":\"white\",\"showland\":true,\"showlakes\":true,\"lakecolor\":\"white\"},\"title\":{\"x\":0.05},\"mapbox\":{\"style\":\"light\"}}},\"title\":{\"text\":\"Without outliers accel\"}},                        {\"responsive\": true}                    ).then(function(){\n",
       "                            \n",
       "var gd = document.getElementById('19dddf7a-a9b3-49a7-8673-f4021fed1a65');\n",
       "var x = new MutationObserver(function (mutations, observer) {{\n",
       "        var display = window.getComputedStyle(gd).display;\n",
       "        if (!display || display === 'none') {{\n",
       "            console.log([gd, 'removed!']);\n",
       "            Plotly.purge(gd);\n",
       "            observer.disconnect();\n",
       "        }}\n",
       "}});\n",
       "\n",
       "// Listen for the removal of the full notebook cells\n",
       "var notebookContainer = gd.closest('#notebook-container');\n",
       "if (notebookContainer) {{\n",
       "    x.observe(notebookContainer, {childList: true});\n",
       "}}\n",
       "\n",
       "// Listen for the clearing of the current output cell\n",
       "var outputEl = gd.closest('.output');\n",
       "if (outputEl) {{\n",
       "    x.observe(outputEl, {childList: true});\n",
       "}}\n",
       "\n",
       "                        })                };                });            </script>        </div>"
      ]
     },
     "metadata": {},
     "output_type": "display_data"
    }
   ],
   "source": [
    "def filter_outliers(df_local):\n",
    "    \n",
    "    outl = find_headers(df_local)\n",
    "    df= df_local.copy()\n",
    "    for o in outl:\n",
    "        median = df[o].median()\n",
    "        std = df[o].std()\n",
    "        df.loc[(df[o] - median).abs() > std,o]=np.nan\n",
    "        df[o].fillna(median, inplace=True)\n",
    "    return df\n",
    "\n",
    "\n",
    "\n",
    "\n",
    "rb_outl = filter_outliers(rb)\n",
    "rt_outl =filter_outliers(rt)\n",
    "lb_outl = filter_outliers(lb)\n",
    "lt_outl = filter_outliers(lt)\n",
    "bb_outl = filter_outliers(bb)\n",
    "bt_outl = filter_outliers(bt)\n",
    "\n",
    "\n",
    "\n",
    "show_plot(lb,'With outliers ',True)\n",
    "show_plot(lb_outl,'Without outliers',True)"
   ]
  },
  {
   "cell_type": "markdown",
   "id": "ea559918",
   "metadata": {},
   "source": [
    " Calibrate DF of each sensor"
   ]
  },
  {
   "cell_type": "code",
   "execution_count": 130,
   "id": "283d19a8",
   "metadata": {},
   "outputs": [],
   "source": [
    "# show_plot(lb,'With outliers ',True)\n",
    "# show_plot(lb_outl,'Without outliers',True)"
   ]
  },
  {
   "cell_type": "code",
   "execution_count": null,
   "id": "89226f97",
   "metadata": {},
   "outputs": [],
   "source": []
  },
  {
   "cell_type": "code",
   "execution_count": null,
   "id": "efdb26b0",
   "metadata": {},
   "outputs": [],
   "source": []
  },
  {
   "cell_type": "code",
   "execution_count": 123,
   "id": "17a0247b",
   "metadata": {
    "scrolled": true
   },
   "outputs": [
    {
     "name": "stderr",
     "output_type": "stream",
     "text": [
      "C:\\Python39\\lib\\site-packages\\seaborn\\_decorators.py:36: FutureWarning:\n",
      "\n",
      "Pass the following variable as a keyword arg: x. From version 0.12, the only valid positional argument will be `data`, and passing other arguments without an explicit keyword will result in an error or misinterpretation.\n",
      "\n"
     ]
    },
    {
     "data": {
      "text/plain": [
       "<AxesSubplot:xlabel='lb_ay'>"
      ]
     },
     "execution_count": 123,
     "metadata": {},
     "output_type": "execute_result"
    },
    {
     "data": {
      "image/png": "[encoded data removed]",
      "text/plain": [
       "<Figure size 432x288 with 1 Axes>"
      ]
     },
     "metadata": {
      "needs_background": "light"
     },
     "output_type": "display_data"
    }
   ],
   "source": []
  },
  {
   "cell_type": "code",
   "execution_count": 91,
   "id": "6b86fbcc",
   "metadata": {
    "scrolled": true
   },
   "outputs": [
    {
     "data": {
      "text/html": [
       "<div>\n",
       "<style scoped>\n",
       "    .dataframe tbody tr th:only-of-type {\n",
       "        vertical-align: middle;\n",
       "    }\n",
       "\n",
       "    .dataframe tbody tr th {\n",
       "        vertical-align: top;\n",
       "    }\n",
       "\n",
       "    .dataframe thead th {\n",
       "        text-align: right;\n",
       "    }\n",
       "</style>\n",
       "<table border=\"1\" class=\"dataframe\">\n",
       "  <thead>\n",
       "    <tr style=\"text-align: right;\">\n",
       "      <th></th>\n",
       "      <th>lt_ax</th>\n",
       "      <th>lt_ay</th>\n",
       "      <th>lt_az</th>\n",
       "      <th>lt_gx</th>\n",
       "      <th>lt_gy</th>\n",
       "      <th>lt_gz</th>\n",
       "    </tr>\n",
       "  </thead>\n",
       "  <tbody>\n",
       "    <tr>\n",
       "      <th>0</th>\n",
       "      <td>17.965212</td>\n",
       "      <td>17.965212</td>\n",
       "      <td>17.965212</td>\n",
       "      <td>17.965212</td>\n",
       "      <td>17.965212</td>\n",
       "      <td>17.965212</td>\n",
       "    </tr>\n",
       "    <tr>\n",
       "      <th>2</th>\n",
       "      <td>17.965212</td>\n",
       "      <td>17.965212</td>\n",
       "      <td>17.965212</td>\n",
       "      <td>17.965212</td>\n",
       "      <td>17.965212</td>\n",
       "      <td>17.965212</td>\n",
       "    </tr>\n",
       "    <tr>\n",
       "      <th>3</th>\n",
       "      <td>17.965212</td>\n",
       "      <td>17.965212</td>\n",
       "      <td>17.965212</td>\n",
       "      <td>17.965212</td>\n",
       "      <td>17.965212</td>\n",
       "      <td>17.965212</td>\n",
       "    </tr>\n",
       "    <tr>\n",
       "      <th>4</th>\n",
       "      <td>17.965212</td>\n",
       "      <td>17.965212</td>\n",
       "      <td>17.965212</td>\n",
       "      <td>17.965212</td>\n",
       "      <td>17.965212</td>\n",
       "      <td>17.965212</td>\n",
       "    </tr>\n",
       "    <tr>\n",
       "      <th>5</th>\n",
       "      <td>17.965212</td>\n",
       "      <td>17.965212</td>\n",
       "      <td>17.965212</td>\n",
       "      <td>17.965212</td>\n",
       "      <td>17.965212</td>\n",
       "      <td>17.965212</td>\n",
       "    </tr>\n",
       "    <tr>\n",
       "      <th>6</th>\n",
       "      <td>17.965212</td>\n",
       "      <td>17.965212</td>\n",
       "      <td>17.965212</td>\n",
       "      <td>17.965212</td>\n",
       "      <td>17.965212</td>\n",
       "      <td>17.965212</td>\n",
       "    </tr>\n",
       "    <tr>\n",
       "      <th>7</th>\n",
       "      <td>17.965212</td>\n",
       "      <td>17.965212</td>\n",
       "      <td>17.965212</td>\n",
       "      <td>17.965212</td>\n",
       "      <td>17.965212</td>\n",
       "      <td>17.965212</td>\n",
       "    </tr>\n",
       "    <tr>\n",
       "      <th>8</th>\n",
       "      <td>17.965212</td>\n",
       "      <td>17.965212</td>\n",
       "      <td>17.965212</td>\n",
       "      <td>17.965212</td>\n",
       "      <td>17.965212</td>\n",
       "      <td>17.965212</td>\n",
       "    </tr>\n",
       "    <tr>\n",
       "      <th>9</th>\n",
       "      <td>17.965212</td>\n",
       "      <td>17.965212</td>\n",
       "      <td>17.965212</td>\n",
       "      <td>17.965212</td>\n",
       "      <td>17.965212</td>\n",
       "      <td>17.965212</td>\n",
       "    </tr>\n",
       "    <tr>\n",
       "      <th>10</th>\n",
       "      <td>17.965212</td>\n",
       "      <td>17.965212</td>\n",
       "      <td>17.965212</td>\n",
       "      <td>17.965212</td>\n",
       "      <td>17.965212</td>\n",
       "      <td>17.965212</td>\n",
       "    </tr>\n",
       "    <tr>\n",
       "      <th>11</th>\n",
       "      <td>17.965212</td>\n",
       "      <td>17.965212</td>\n",
       "      <td>17.965212</td>\n",
       "      <td>17.965212</td>\n",
       "      <td>17.965212</td>\n",
       "      <td>17.965212</td>\n",
       "    </tr>\n",
       "    <tr>\n",
       "      <th>12</th>\n",
       "      <td>17.965212</td>\n",
       "      <td>17.965212</td>\n",
       "      <td>17.965212</td>\n",
       "      <td>17.965212</td>\n",
       "      <td>17.965212</td>\n",
       "      <td>17.965212</td>\n",
       "    </tr>\n",
       "    <tr>\n",
       "      <th>13</th>\n",
       "      <td>17.965212</td>\n",
       "      <td>17.965212</td>\n",
       "      <td>17.965212</td>\n",
       "      <td>17.965212</td>\n",
       "      <td>17.965212</td>\n",
       "      <td>17.965212</td>\n",
       "    </tr>\n",
       "    <tr>\n",
       "      <th>14</th>\n",
       "      <td>17.965212</td>\n",
       "      <td>17.965212</td>\n",
       "      <td>17.965212</td>\n",
       "      <td>17.965212</td>\n",
       "      <td>17.965212</td>\n",
       "      <td>17.965212</td>\n",
       "    </tr>\n",
       "    <tr>\n",
       "      <th>15</th>\n",
       "      <td>17.965212</td>\n",
       "      <td>17.965212</td>\n",
       "      <td>17.965212</td>\n",
       "      <td>17.965212</td>\n",
       "      <td>17.965212</td>\n",
       "      <td>17.965212</td>\n",
       "    </tr>\n",
       "    <tr>\n",
       "      <th>16</th>\n",
       "      <td>17.965212</td>\n",
       "      <td>17.965212</td>\n",
       "      <td>17.965212</td>\n",
       "      <td>17.965212</td>\n",
       "      <td>17.965212</td>\n",
       "      <td>17.965212</td>\n",
       "    </tr>\n",
       "    <tr>\n",
       "      <th>17</th>\n",
       "      <td>17.965212</td>\n",
       "      <td>17.965212</td>\n",
       "      <td>17.965212</td>\n",
       "      <td>17.965212</td>\n",
       "      <td>17.965212</td>\n",
       "      <td>17.965212</td>\n",
       "    </tr>\n",
       "    <tr>\n",
       "      <th>18</th>\n",
       "      <td>17.965212</td>\n",
       "      <td>17.965212</td>\n",
       "      <td>17.965212</td>\n",
       "      <td>17.965212</td>\n",
       "      <td>17.965212</td>\n",
       "      <td>17.965212</td>\n",
       "    </tr>\n",
       "    <tr>\n",
       "      <th>19</th>\n",
       "      <td>17.965212</td>\n",
       "      <td>17.965212</td>\n",
       "      <td>17.965212</td>\n",
       "      <td>17.965212</td>\n",
       "      <td>17.965212</td>\n",
       "      <td>17.965212</td>\n",
       "    </tr>\n",
       "    <tr>\n",
       "      <th>20</th>\n",
       "      <td>17.965212</td>\n",
       "      <td>17.965212</td>\n",
       "      <td>17.965212</td>\n",
       "      <td>17.965212</td>\n",
       "      <td>17.965212</td>\n",
       "      <td>17.965212</td>\n",
       "    </tr>\n",
       "    <tr>\n",
       "      <th>21</th>\n",
       "      <td>17.965212</td>\n",
       "      <td>17.965212</td>\n",
       "      <td>17.965212</td>\n",
       "      <td>17.965212</td>\n",
       "      <td>17.965212</td>\n",
       "      <td>17.965212</td>\n",
       "    </tr>\n",
       "    <tr>\n",
       "      <th>22</th>\n",
       "      <td>17.965212</td>\n",
       "      <td>17.965212</td>\n",
       "      <td>17.965212</td>\n",
       "      <td>17.965212</td>\n",
       "      <td>17.965212</td>\n",
       "      <td>17.965212</td>\n",
       "    </tr>\n",
       "    <tr>\n",
       "      <th>23</th>\n",
       "      <td>17.965212</td>\n",
       "      <td>17.965212</td>\n",
       "      <td>17.965212</td>\n",
       "      <td>17.965212</td>\n",
       "      <td>17.965212</td>\n",
       "      <td>17.965212</td>\n",
       "    </tr>\n",
       "    <tr>\n",
       "      <th>24</th>\n",
       "      <td>17.965212</td>\n",
       "      <td>17.965212</td>\n",
       "      <td>17.965212</td>\n",
       "      <td>17.965212</td>\n",
       "      <td>17.965212</td>\n",
       "      <td>17.965212</td>\n",
       "    </tr>\n",
       "    <tr>\n",
       "      <th>25</th>\n",
       "      <td>17.965212</td>\n",
       "      <td>17.965212</td>\n",
       "      <td>17.965212</td>\n",
       "      <td>17.965212</td>\n",
       "      <td>17.965212</td>\n",
       "      <td>17.965212</td>\n",
       "    </tr>\n",
       "    <tr>\n",
       "      <th>26</th>\n",
       "      <td>17.965212</td>\n",
       "      <td>17.965212</td>\n",
       "      <td>17.965212</td>\n",
       "      <td>17.965212</td>\n",
       "      <td>17.965212</td>\n",
       "      <td>17.965212</td>\n",
       "    </tr>\n",
       "    <tr>\n",
       "      <th>27</th>\n",
       "      <td>17.965212</td>\n",
       "      <td>17.965212</td>\n",
       "      <td>17.965212</td>\n",
       "      <td>17.965212</td>\n",
       "      <td>17.965212</td>\n",
       "      <td>17.965212</td>\n",
       "    </tr>\n",
       "    <tr>\n",
       "      <th>28</th>\n",
       "      <td>17.965212</td>\n",
       "      <td>17.965212</td>\n",
       "      <td>17.965212</td>\n",
       "      <td>17.965212</td>\n",
       "      <td>17.965212</td>\n",
       "      <td>17.965212</td>\n",
       "    </tr>\n",
       "    <tr>\n",
       "      <th>29</th>\n",
       "      <td>17.965212</td>\n",
       "      <td>17.965212</td>\n",
       "      <td>17.965212</td>\n",
       "      <td>17.965212</td>\n",
       "      <td>17.965212</td>\n",
       "      <td>17.965212</td>\n",
       "    </tr>\n",
       "    <tr>\n",
       "      <th>30</th>\n",
       "      <td>17.965212</td>\n",
       "      <td>17.965212</td>\n",
       "      <td>17.965212</td>\n",
       "      <td>17.965212</td>\n",
       "      <td>17.965212</td>\n",
       "      <td>17.965212</td>\n",
       "    </tr>\n",
       "    <tr>\n",
       "      <th>31</th>\n",
       "      <td>17.965212</td>\n",
       "      <td>17.965212</td>\n",
       "      <td>17.965212</td>\n",
       "      <td>17.965212</td>\n",
       "      <td>17.965212</td>\n",
       "      <td>17.965212</td>\n",
       "    </tr>\n",
       "    <tr>\n",
       "      <th>32</th>\n",
       "      <td>17.965212</td>\n",
       "      <td>17.965212</td>\n",
       "      <td>17.965212</td>\n",
       "      <td>17.965212</td>\n",
       "      <td>17.965212</td>\n",
       "      <td>17.965212</td>\n",
       "    </tr>\n",
       "    <tr>\n",
       "      <th>33</th>\n",
       "      <td>17.965212</td>\n",
       "      <td>17.965212</td>\n",
       "      <td>17.965212</td>\n",
       "      <td>17.965212</td>\n",
       "      <td>17.965212</td>\n",
       "      <td>17.965212</td>\n",
       "    </tr>\n",
       "    <tr>\n",
       "      <th>34</th>\n",
       "      <td>17.965212</td>\n",
       "      <td>17.965212</td>\n",
       "      <td>17.965212</td>\n",
       "      <td>17.965212</td>\n",
       "      <td>17.965212</td>\n",
       "      <td>17.965212</td>\n",
       "    </tr>\n",
       "    <tr>\n",
       "      <th>35</th>\n",
       "      <td>17.965212</td>\n",
       "      <td>17.965212</td>\n",
       "      <td>17.965212</td>\n",
       "      <td>17.965212</td>\n",
       "      <td>17.965212</td>\n",
       "      <td>17.965212</td>\n",
       "    </tr>\n",
       "    <tr>\n",
       "      <th>36</th>\n",
       "      <td>17.965212</td>\n",
       "      <td>17.965212</td>\n",
       "      <td>17.965212</td>\n",
       "      <td>17.965212</td>\n",
       "      <td>17.965212</td>\n",
       "      <td>17.965212</td>\n",
       "    </tr>\n",
       "    <tr>\n",
       "      <th>37</th>\n",
       "      <td>17.965212</td>\n",
       "      <td>17.965212</td>\n",
       "      <td>17.965212</td>\n",
       "      <td>17.965212</td>\n",
       "      <td>17.965212</td>\n",
       "      <td>17.965212</td>\n",
       "    </tr>\n",
       "    <tr>\n",
       "      <th>38</th>\n",
       "      <td>17.965212</td>\n",
       "      <td>17.965212</td>\n",
       "      <td>17.965212</td>\n",
       "      <td>17.965212</td>\n",
       "      <td>17.965212</td>\n",
       "      <td>17.965212</td>\n",
       "    </tr>\n",
       "    <tr>\n",
       "      <th>42</th>\n",
       "      <td>17.965212</td>\n",
       "      <td>17.965212</td>\n",
       "      <td>17.965212</td>\n",
       "      <td>17.965212</td>\n",
       "      <td>17.965212</td>\n",
       "      <td>17.965212</td>\n",
       "    </tr>\n",
       "    <tr>\n",
       "      <th>43</th>\n",
       "      <td>17.965212</td>\n",
       "      <td>17.965212</td>\n",
       "      <td>17.965212</td>\n",
       "      <td>17.965212</td>\n",
       "      <td>17.965212</td>\n",
       "      <td>17.965212</td>\n",
       "    </tr>\n",
       "    <tr>\n",
       "      <th>44</th>\n",
       "      <td>17.965212</td>\n",
       "      <td>17.965212</td>\n",
       "      <td>17.965212</td>\n",
       "      <td>17.965212</td>\n",
       "      <td>17.965212</td>\n",
       "      <td>17.965212</td>\n",
       "    </tr>\n",
       "    <tr>\n",
       "      <th>46</th>\n",
       "      <td>17.965212</td>\n",
       "      <td>17.965212</td>\n",
       "      <td>17.965212</td>\n",
       "      <td>17.965212</td>\n",
       "      <td>17.965212</td>\n",
       "      <td>17.965212</td>\n",
       "    </tr>\n",
       "    <tr>\n",
       "      <th>49</th>\n",
       "      <td>17.965212</td>\n",
       "      <td>17.965212</td>\n",
       "      <td>17.965212</td>\n",
       "      <td>17.965212</td>\n",
       "      <td>17.965212</td>\n",
       "      <td>17.965212</td>\n",
       "    </tr>\n",
       "    <tr>\n",
       "      <th>50</th>\n",
       "      <td>17.965212</td>\n",
       "      <td>17.965212</td>\n",
       "      <td>17.965212</td>\n",
       "      <td>17.965212</td>\n",
       "      <td>17.965212</td>\n",
       "      <td>17.965212</td>\n",
       "    </tr>\n",
       "    <tr>\n",
       "      <th>52</th>\n",
       "      <td>17.965212</td>\n",
       "      <td>17.965212</td>\n",
       "      <td>17.965212</td>\n",
       "      <td>17.965212</td>\n",
       "      <td>17.965212</td>\n",
       "      <td>17.965212</td>\n",
       "    </tr>\n",
       "  </tbody>\n",
       "</table>\n",
       "</div>"
      ],
      "text/plain": [
       "        lt_ax      lt_ay      lt_az      lt_gx      lt_gy      lt_gz\n",
       "0   17.965212  17.965212  17.965212  17.965212  17.965212  17.965212\n",
       "2   17.965212  17.965212  17.965212  17.965212  17.965212  17.965212\n",
       "3   17.965212  17.965212  17.965212  17.965212  17.965212  17.965212\n",
       "4   17.965212  17.965212  17.965212  17.965212  17.965212  17.965212\n",
       "5   17.965212  17.965212  17.965212  17.965212  17.965212  17.965212\n",
       "6   17.965212  17.965212  17.965212  17.965212  17.965212  17.965212\n",
       "7   17.965212  17.965212  17.965212  17.965212  17.965212  17.965212\n",
       "8   17.965212  17.965212  17.965212  17.965212  17.965212  17.965212\n",
       "9   17.965212  17.965212  17.965212  17.965212  17.965212  17.965212\n",
       "10  17.965212  17.965212  17.965212  17.965212  17.965212  17.965212\n",
       "11  17.965212  17.965212  17.965212  17.965212  17.965212  17.965212\n",
       "12  17.965212  17.965212  17.965212  17.965212  17.965212  17.965212\n",
       "13  17.965212  17.965212  17.965212  17.965212  17.965212  17.965212\n",
       "14  17.965212  17.965212  17.965212  17.965212  17.965212  17.965212\n",
       "15  17.965212  17.965212  17.965212  17.965212  17.965212  17.965212\n",
       "16  17.965212  17.965212  17.965212  17.965212  17.965212  17.965212\n",
       "17  17.965212  17.965212  17.965212  17.965212  17.965212  17.965212\n",
       "18  17.965212  17.965212  17.965212  17.965212  17.965212  17.965212\n",
       "19  17.965212  17.965212  17.965212  17.965212  17.965212  17.965212\n",
       "20  17.965212  17.965212  17.965212  17.965212  17.965212  17.965212\n",
       "21  17.965212  17.965212  17.965212  17.965212  17.965212  17.965212\n",
       "22  17.965212  17.965212  17.965212  17.965212  17.965212  17.965212\n",
       "23  17.965212  17.965212  17.965212  17.965212  17.965212  17.965212\n",
       "24  17.965212  17.965212  17.965212  17.965212  17.965212  17.965212\n",
       "25  17.965212  17.965212  17.965212  17.965212  17.965212  17.965212\n",
       "26  17.965212  17.965212  17.965212  17.965212  17.965212  17.965212\n",
       "27  17.965212  17.965212  17.965212  17.965212  17.965212  17.965212\n",
       "28  17.965212  17.965212  17.965212  17.965212  17.965212  17.965212\n",
       "29  17.965212  17.965212  17.965212  17.965212  17.965212  17.965212\n",
       "30  17.965212  17.965212  17.965212  17.965212  17.965212  17.965212\n",
       "31  17.965212  17.965212  17.965212  17.965212  17.965212  17.965212\n",
       "32  17.965212  17.965212  17.965212  17.965212  17.965212  17.965212\n",
       "33  17.965212  17.965212  17.965212  17.965212  17.965212  17.965212\n",
       "34  17.965212  17.965212  17.965212  17.965212  17.965212  17.965212\n",
       "35  17.965212  17.965212  17.965212  17.965212  17.965212  17.965212\n",
       "36  17.965212  17.965212  17.965212  17.965212  17.965212  17.965212\n",
       "37  17.965212  17.965212  17.965212  17.965212  17.965212  17.965212\n",
       "38  17.965212  17.965212  17.965212  17.965212  17.965212  17.965212\n",
       "42  17.965212  17.965212  17.965212  17.965212  17.965212  17.965212\n",
       "43  17.965212  17.965212  17.965212  17.965212  17.965212  17.965212\n",
       "44  17.965212  17.965212  17.965212  17.965212  17.965212  17.965212\n",
       "46  17.965212  17.965212  17.965212  17.965212  17.965212  17.965212\n",
       "49  17.965212  17.965212  17.965212  17.965212  17.965212  17.965212\n",
       "50  17.965212  17.965212  17.965212  17.965212  17.965212  17.965212\n",
       "52  17.965212  17.965212  17.965212  17.965212  17.965212  17.965212"
      ]
     },
     "execution_count": 91,
     "metadata": {},
     "output_type": "execute_result"
    }
   ],
   "source": [
    "mean= np.mean(lt['lt_ax'])\n",
    "frame\n",
    "# sns.boxplot(fr['lt_ax'])"
   ]
  },
  {
   "cell_type": "code",
   "execution_count": 92,
   "id": "9ad6c1a7",
   "metadata": {},
   "outputs": [
    {
     "data": {
      "text/plain": [
       "0.5"
      ]
     },
     "execution_count": 92,
     "metadata": {},
     "output_type": "execute_result"
    }
   ],
   "source": []
  },
  {
   "cell_type": "code",
   "execution_count": 45,
   "id": "e719d89b",
   "metadata": {},
   "outputs": [
    {
     "name": "stdout",
     "output_type": "stream",
     "text": [
      "['bt_ax', 'bt_ay', 'bt_az', 'bt_gx', 'bt_gy', 'bt_gz']\n",
      "['bb_ax', 'bb_ay', 'bb_az', 'bb_gx', 'bb_gy', 'bb_gz']\n",
      "['lt_ax', 'lt_ay', 'lt_az', 'lt_gx', 'lt_gy', 'lt_gz']\n",
      "['lb_ax', 'lb_ay', 'lb_az', 'lb_gx', 'lb_gy', 'lb_gz']\n",
      "['rt_ax', 'rt_ay', 'rt_az', 'rt_gx', 'rt_gy', 'rt_gz']\n",
      "['rb_ax', 'rb_ay', 'rb_az', 'rb_gx', 'rb_gy', 'rb_gz']\n"
     ]
    },
    {
     "name": "stderr",
     "output_type": "stream",
     "text": [
      "C:\\Users\\Lera\\AppData\\Local\\Temp/ipykernel_8904/491120000.py:11: RuntimeWarning:\n",
      "\n",
      "invalid value encountered in double_scalars\n",
      "\n"
     ]
    }
   ],
   "source": [
    "# calibrated_bt = calibration(bt_outl)\n",
    "# calibrated_bb = calibration(bb_outl)\n",
    "# calibrated_lt = calibration(lt_outl)\n",
    "# calibrated_lb = calibration(lb_outl)\n",
    "# calibrated_rt = calibration(rt_outl)\n",
    "# calibrated_rb = calibration(rb_outl)\n",
    "\n",
    "# calibrated_bt = bt\n",
    "# calibrated_bb = bb\n",
    "# calibrated_lt = lt\n",
    "# calibrated_lb = lb\n",
    "# calibrated_rt = rt\n",
    "# calibrated_rb = rb\n"
   ]
  },
  {
   "cell_type": "code",
   "execution_count": 49,
   "id": "3c495375",
   "metadata": {},
   "outputs": [
    {
     "data": {
      "application/vnd.plotly.v1+json": {
       "config": {
        "plotlyServerURL": "https://plot.ly"
       },
       "data": [
        {
         "name": "lb_ax",
         "type": "scatter",
         "x": [
          0,
          1,
          2,
          3,
          4,
          5,
          6,
          7,
          8,
          9,
          10,
          11,
          12,
          13,
          14,
          15,
          16,
          17,
          18,
          19,
          20,
          21,
          22,
          23,
          24,
          25,
          26,
          27,
          28,
          29,
          30,
          31,
          32,
          33,
          34,
          35,
          36,
          37,
          38,
          39,
          40,
          41,
          42,
          43,
          44,
          45,
          46,
          47,
          48,
          49,
          50,
          51,
          52
         ],
         "xaxis": "x",
         "y": [
          0.2705448,
          0.2944868,
          0.1771709,
          0.3184288,
          0.2106898,
          0.1508347,
          0.2298434,
          0.1747767,
          0.272939,
          0.2394202,
          0.237026,
          0.2777274,
          0.2466028,
          0.2106898,
          0.3160346,
          0.2298434,
          0.248997,
          0.3184288,
          0.3184288,
          0.3136404,
          0.2202666,
          0.1675941,
          0.2561796,
          0.2011129,
          0.2585738,
          0.1891419,
          0.2106898,
          0.2920926,
          0.2418144,
          0.2178724,
          0.2992752,
          0.2801216,
          0.2944868,
          0.2178724,
          0.225055,
          0.2513912,
          0.2657564,
          0.213084,
          0.2274492,
          0.2011129,
          0.28491,
          0.3112462,
          0.2992752,
          0.2322376,
          0.2298434,
          0.3567361,
          0.3112462,
          0.2753332,
          0.2633622,
          0.2011129,
          0.2825158,
          0.3016694,
          0.248997
         ],
         "yaxis": "y"
        },
        {
         "name": "lb_ay",
         "type": "scatter",
         "x": [
          0,
          1,
          2,
          3,
          4,
          5,
          6,
          7,
          8,
          9,
          10,
          11,
          12,
          13,
          14,
          15,
          16,
          17,
          18,
          19,
          20,
          21,
          22,
          23,
          24,
          25,
          26,
          27,
          28,
          29,
          30,
          31,
          32,
          33,
          34,
          35,
          36,
          37,
          38,
          39,
          40,
          41,
          42,
          43,
          44,
          45,
          46,
          47,
          48,
          49,
          50,
          51,
          52
         ],
         "xaxis": "x",
         "y": [
          -9.67018,
          -9.691729,
          -9.691729,
          -9.684546,
          -9.636662,
          -9.631873,
          -9.67018,
          -9.691729,
          -9.696517,
          -9.68694,
          -9.631873,
          -9.662998,
          -9.68694,
          -9.655815,
          -9.665392,
          -9.67018,
          -9.65821,
          -9.655815,
          -9.639056,
          -9.68694,
          -9.636662,
          -9.619903,
          -9.694122,
          -9.603143,
          -9.703699,
          -9.713276,
          -9.660604,
          -9.636662,
          -9.660604,
          -9.682152,
          -9.639056,
          -9.610326,
          -9.694122,
          -9.631873,
          -0.0005985504,
          -9.720459,
          -9.672575,
          -9.631873,
          -9.665392,
          -9.674969,
          -9.682152,
          -9.653421,
          -9.662998,
          -9.689334,
          -9.636662,
          -9.631873,
          -9.651027,
          -9.720459,
          -9.64145,
          -9.624691,
          -9.667787,
          -9.662998,
          -9.643845
         ],
         "yaxis": "y"
        },
        {
         "name": "lb_az",
         "type": "scatter",
         "x": [
          0,
          1,
          2,
          3,
          4,
          5,
          6,
          7,
          8,
          9,
          10,
          11,
          12,
          13,
          14,
          15,
          16,
          17,
          18,
          19,
          20,
          21,
          22,
          23,
          24,
          25,
          26,
          27,
          28,
          29,
          30,
          31,
          32,
          33,
          34,
          35,
          36,
          37,
          38,
          39,
          40,
          41,
          42,
          43,
          44,
          45,
          46,
          47,
          48,
          49,
          50,
          51,
          52
         ],
         "xaxis": "x",
         "y": [
          -0.2753332,
          -0.2274492,
          -0.2059013,
          -0.28491,
          -0.1747767,
          -0.2202666,
          -0.3136404,
          -0.1747767,
          -0.2106898,
          -0.2346318,
          -0.2561796,
          -0.2561796,
          -0.2106898,
          -0.2082956,
          -0.2801216,
          -0.2753332,
          -0.260968,
          -0.272939,
          -0.2011129,
          -0.2825158,
          -0.2992752,
          -0.237026,
          -0.2298434,
          -0.260968,
          -0.2753332,
          -0.1574188,
          -0.308852,
          -0.2896984,
          -0.248997,
          -0.2825158,
          -0.3112462,
          -0.3280056,
          -0.2585738,
          -0.3375824,
          -0.2178724,
          -0.2537854,
          -0.2513912,
          -0.260968,
          -0.2298434,
          -0.2178724,
          -0.2418144,
          -0.3303998,
          -0.248997,
          -0.2178724,
          -0.3375824,
          -0.3303998,
          -0.2705448,
          -0.1795651,
          -0.2537854,
          -0.2442086,
          -0.2442086,
          -0.2106898,
          -0.2825158
         ],
         "yaxis": "y"
        },
        {
         "name": "lb_ax",
         "type": "scatter",
         "x": [
          0,
          1,
          2,
          3,
          4,
          5,
          6,
          7,
          8,
          9,
          10,
          11,
          12,
          13,
          14,
          15,
          16,
          17,
          18,
          19,
          20,
          21,
          22,
          23,
          24,
          25,
          26,
          27,
          28,
          29,
          30,
          31,
          32,
          33,
          34,
          35,
          36,
          37,
          38,
          39,
          40,
          41,
          42,
          43,
          44,
          45,
          46,
          47,
          48,
          49,
          50,
          51,
          52
         ],
         "xaxis": "x2",
         "y": [
          0.017886096078431335,
          0.041828096078431354,
          -0.07548780392156865,
          0.06577009607843137,
          -0.04196890392156863,
          -0.10182400392156865,
          -0.022815303921568636,
          -0.07788200392156863,
          0.020280296078431348,
          -0.01323850392156864,
          -0.015632703921568653,
          0.025068696078431374,
          -0.006055903921568628,
          -0.04196890392156863,
          0.06337589607843136,
          -0.022815303921568636,
          -0.003661703921568643,
          0.06577009607843137,
          0.06577009607843137,
          0.06098169607843135,
          -0.03239210392156863,
          -0.08506460392156864,
          0.003520896078431368,
          -0.05154580392156863,
          0.005915096078431381,
          -0.06351680392156864,
          -0.04196890392156863,
          0.03943389607843134,
          -0.010844303921568627,
          -0.034786303921568645,
          0.04661649607843138,
          0.027462896078431387,
          0.041828096078431354,
          -0.034786303921568645,
          -0.0012675039215686579,
          0.013097696078431365,
          -0.039574703921568644,
          -0.02520950392156865,
          -0.05154580392156863,
          0.03225129607843136,
          0.058587496078431334,
          0.04661649607843138,
          -0.02042110392156865,
          -0.022815303921568636,
          0.10407739607843136,
          0.058587496078431334,
          0.010703496078431352,
          -0.05154580392156863,
          0.029857096078431344,
          0.04901069607843134,
          -0.003661703921568643
         ],
         "yaxis": "y2"
        },
        {
         "name": "lb_ay",
         "type": "scatter",
         "x": [
          0,
          1,
          2,
          3,
          4,
          5,
          6,
          7,
          8,
          9,
          10,
          11,
          12,
          13,
          14,
          15,
          16,
          17,
          18,
          19,
          20,
          21,
          22,
          23,
          24,
          25,
          26,
          27,
          28,
          29,
          30,
          31,
          32,
          33,
          34,
          35,
          36,
          37,
          38,
          39,
          40,
          41,
          42,
          43,
          44,
          45,
          46,
          47,
          48,
          49,
          50,
          51,
          52
         ],
         "xaxis": "x2",
         "y": [
          -9.67018,
          -9.691729,
          -9.691729,
          -9.684546,
          -9.636662,
          -9.631873,
          -9.67018,
          -9.691729,
          -9.696517,
          -9.68694,
          -9.631873,
          -9.662998,
          -9.68694,
          -9.655815,
          -9.665392,
          -9.67018,
          -9.65821,
          -9.655815,
          -9.639056,
          -9.68694,
          -9.636662,
          -9.619903,
          -9.694122,
          -9.603143,
          -9.703699,
          -9.713276,
          -9.660604,
          -9.636662,
          -9.660604,
          -9.682152,
          -9.639056,
          -9.610326,
          -9.694122,
          -9.631873,
          -9.720459,
          -9.672575,
          -9.631873,
          -9.665392,
          -9.674969,
          -9.682152,
          -9.653421,
          -9.662998,
          -9.689334,
          -9.636662,
          -9.631873,
          -9.651027,
          -9.64145,
          -9.624691,
          -9.667787,
          -9.662998,
          -9.643845
         ],
         "yaxis": "y2"
        },
        {
         "name": "lb_az",
         "type": "scatter",
         "x": [
          0,
          1,
          2,
          3,
          4,
          5,
          6,
          7,
          8,
          9,
          10,
          11,
          12,
          13,
          14,
          15,
          16,
          17,
          18,
          19,
          20,
          21,
          22,
          23,
          24,
          25,
          26,
          27,
          28,
          29,
          30,
          31,
          32,
          33,
          34,
          35,
          36,
          37,
          38,
          39,
          40,
          41,
          42,
          43,
          44,
          45,
          46,
          47,
          48,
          49,
          50,
          51,
          52
         ],
         "xaxis": "x2",
         "y": [
          -0.018883674509803883,
          0.029000325490196127,
          0.05054822549019611,
          -0.02846047450980388,
          0.08167282549019611,
          0.03618292549019611,
          -0.05719087450980387,
          0.08167282549019611,
          0.04575972549019611,
          0.021817725490196116,
          0.0002699254901961101,
          0.0002699254901961101,
          0.04575972549019611,
          0.04815392549019612,
          -0.02367207450980391,
          -0.018883674509803883,
          -0.00451847450980386,
          -0.01648947450980387,
          0.055336625490196106,
          -0.026066274509803866,
          -0.0428256745098039,
          0.01942352549019613,
          0.026606125490196114,
          -0.00451847450980386,
          -0.018883674509803883,
          0.09903072549019612,
          -0.0524024745098039,
          -0.033248874509803905,
          0.007452525490196121,
          -0.026066274509803866,
          -0.054796674509803855,
          -0.07155607450980389,
          -0.002124274509803903,
          -0.08113287450980389,
          0.002664125490196123,
          0.005058325490196136,
          -0.00451847450980386,
          0.026606125490196114,
          0.038577125490196124,
          0.014635125490196105,
          -0.0739502745098039,
          0.007452525490196121,
          0.038577125490196124,
          -0.08113287450980389,
          -0.0739502745098039,
          -0.014095274509803857,
          0.002664125490196123,
          0.01224092549019612,
          0.01224092549019612,
          0.04575972549019611,
          -0.026066274509803866
         ],
         "yaxis": "y2"
        }
       ],
       "layout": {
        "annotations": [
         {
          "font": {
           "size": 16
          },
          "showarrow": false,
          "text": "Non-calibrated left-bot sensor  accel",
          "x": 0.225,
          "xanchor": "center",
          "xref": "paper",
          "y": 1,
          "yanchor": "bottom",
          "yref": "paper"
         },
         {
          "font": {
           "size": 16
          },
          "showarrow": false,
          "text": "Calibrated left-bot sensor  accel",
          "x": 0.775,
          "xanchor": "center",
          "xref": "paper",
          "y": 1,
          "yanchor": "bottom",
          "yref": "paper"
         }
        ],
        "hovermode": "x",
        "legend": {
         "orientation": "h",
         "x": 0.5,
         "xanchor": "center"
        },
        "margin": {
         "b": 0,
         "l": 0,
         "r": 0,
         "t": 40
        },
        "template": {
         "data": {
          "bar": [
           {
            "error_x": {
             "color": "#2a3f5f"
            },
            "error_y": {
             "color": "#2a3f5f"
            },
            "marker": {
             "line": {
              "color": "#E5ECF6",
              "width": 0.5
             },
             "pattern": {
              "fillmode": "overlay",
              "size": 10,
              "solidity": 0.2
             }
            },
            "type": "bar"
           }
          ],
          "barpolar": [
           {
            "marker": {
             "line": {
              "color": "#E5ECF6",
              "width": 0.5
             },
             "pattern": {
              "fillmode": "overlay",
              "size": 10,
              "solidity": 0.2
             }
            },
            "type": "barpolar"
           }
          ],
          "carpet": [
           {
            "aaxis": {
             "endlinecolor": "#2a3f5f",
             "gridcolor": "white",
             "linecolor": "white",
             "minorgridcolor": "white",
             "startlinecolor": "#2a3f5f"
            },
            "baxis": {
             "endlinecolor": "#2a3f5f",
             "gridcolor": "white",
             "linecolor": "white",
             "minorgridcolor": "white",
             "startlinecolor": "#2a3f5f"
            },
            "type": "carpet"
           }
          ],
          "choropleth": [
           {
            "colorbar": {
             "outlinewidth": 0,
             "ticks": ""
            },
            "type": "choropleth"
           }
          ],
          "contour": [
           {
            "colorbar": {
             "outlinewidth": 0,
             "ticks": ""
            },
            "colorscale": [
             [
              0,
              "#0d0887"
             ],
             [
              0.1111111111111111,
              "#46039f"
             ],
             [
              0.2222222222222222,
              "#7201a8"
             ],
             [
              0.3333333333333333,
              "#9c179e"
             ],
             [
              0.4444444444444444,
              "#bd3786"
             ],
             [
              0.5555555555555556,
              "#d8576b"
             ],
             [
              0.6666666666666666,
              "#ed7953"
             ],
             [
              0.7777777777777778,
              "#fb9f3a"
             ],
             [
              0.8888888888888888,
              "#fdca26"
             ],
             [
              1,
              "#f0f921"
             ]
            ],
            "type": "contour"
           }
          ],
          "contourcarpet": [
           {
            "colorbar": {
             "outlinewidth": 0,
             "ticks": ""
            },
            "type": "contourcarpet"
           }
          ],
          "heatmap": [
           {
            "colorbar": {
             "outlinewidth": 0,
             "ticks": ""
            },
            "colorscale": [
             [
              0,
              "#0d0887"
             ],
             [
              0.1111111111111111,
              "#46039f"
             ],
             [
              0.2222222222222222,
              "#7201a8"
             ],
             [
              0.3333333333333333,
              "#9c179e"
             ],
             [
              0.4444444444444444,
              "#bd3786"
             ],
             [
              0.5555555555555556,
              "#d8576b"
             ],
             [
              0.6666666666666666,
              "#ed7953"
             ],
             [
              0.7777777777777778,
              "#fb9f3a"
             ],
             [
              0.8888888888888888,
              "#fdca26"
             ],
             [
              1,
              "#f0f921"
             ]
            ],
            "type": "heatmap"
           }
          ],
          "heatmapgl": [
           {
            "colorbar": {
             "outlinewidth": 0,
             "ticks": ""
            },
            "colorscale": [
             [
              0,
              "#0d0887"
             ],
             [
              0.1111111111111111,
              "#46039f"
             ],
             [
              0.2222222222222222,
              "#7201a8"
             ],
             [
              0.3333333333333333,
              "#9c179e"
             ],
             [
              0.4444444444444444,
              "#bd3786"
             ],
             [
              0.5555555555555556,
              "#d8576b"
             ],
             [
              0.6666666666666666,
              "#ed7953"
             ],
             [
              0.7777777777777778,
              "#fb9f3a"
             ],
             [
              0.8888888888888888,
              "#fdca26"
             ],
             [
              1,
              "#f0f921"
             ]
            ],
            "type": "heatmapgl"
           }
          ],
          "histogram": [
           {
            "marker": {
             "pattern": {
              "fillmode": "overlay",
              "size": 10,
              "solidity": 0.2
             }
            },
            "type": "histogram"
           }
          ],
          "histogram2d": [
           {
            "colorbar": {
             "outlinewidth": 0,
             "ticks": ""
            },
            "colorscale": [
             [
              0,
              "#0d0887"
             ],
             [
              0.1111111111111111,
              "#46039f"
             ],
             [
              0.2222222222222222,
              "#7201a8"
             ],
             [
              0.3333333333333333,
              "#9c179e"
             ],
             [
              0.4444444444444444,
              "#bd3786"
             ],
             [
              0.5555555555555556,
              "#d8576b"
             ],
             [
              0.6666666666666666,
              "#ed7953"
             ],
             [
              0.7777777777777778,
              "#fb9f3a"
             ],
             [
              0.8888888888888888,
              "#fdca26"
             ],
             [
              1,
              "#f0f921"
             ]
            ],
            "type": "histogram2d"
           }
          ],
          "histogram2dcontour": [
           {
            "colorbar": {
             "outlinewidth": 0,
             "ticks": ""
            },
            "colorscale": [
             [
              0,
              "#0d0887"
             ],
             [
              0.1111111111111111,
              "#46039f"
             ],
             [
              0.2222222222222222,
              "#7201a8"
             ],
             [
              0.3333333333333333,
              "#9c179e"
             ],
             [
              0.4444444444444444,
              "#bd3786"
             ],
             [
              0.5555555555555556,
              "#d8576b"
             ],
             [
              0.6666666666666666,
              "#ed7953"
             ],
             [
              0.7777777777777778,
              "#fb9f3a"
             ],
             [
              0.8888888888888888,
              "#fdca26"
             ],
             [
              1,
              "#f0f921"
             ]
            ],
            "type": "histogram2dcontour"
           }
          ],
          "mesh3d": [
           {
            "colorbar": {
             "outlinewidth": 0,
             "ticks": ""
            },
            "type": "mesh3d"
           }
          ],
          "parcoords": [
           {
            "line": {
             "colorbar": {
              "outlinewidth": 0,
              "ticks": ""
             }
            },
            "type": "parcoords"
           }
          ],
          "pie": [
           {
            "automargin": true,
            "type": "pie"
           }
          ],
          "scatter": [
           {
            "fillpattern": {
             "fillmode": "overlay",
             "size": 10,
             "solidity": 0.2
            },
            "type": "scatter"
           }
          ],
          "scatter3d": [
           {
            "line": {
             "colorbar": {
              "outlinewidth": 0,
              "ticks": ""
             }
            },
            "marker": {
             "colorbar": {
              "outlinewidth": 0,
              "ticks": ""
             }
            },
            "type": "scatter3d"
           }
          ],
          "scattercarpet": [
           {
            "marker": {
             "colorbar": {
              "outlinewidth": 0,
              "ticks": ""
             }
            },
            "type": "scattercarpet"
           }
          ],
          "scattergeo": [
           {
            "marker": {
             "colorbar": {
              "outlinewidth": 0,
              "ticks": ""
             }
            },
            "type": "scattergeo"
           }
          ],
          "scattergl": [
           {
            "marker": {
             "colorbar": {
              "outlinewidth": 0,
              "ticks": ""
             }
            },
            "type": "scattergl"
           }
          ],
          "scattermapbox": [
           {
            "marker": {
             "colorbar": {
              "outlinewidth": 0,
              "ticks": ""
             }
            },
            "type": "scattermapbox"
           }
          ],
          "scatterpolar": [
           {
            "marker": {
             "colorbar": {
              "outlinewidth": 0,
              "ticks": ""
             }
            },
            "type": "scatterpolar"
           }
          ],
          "scatterpolargl": [
           {
            "marker": {
             "colorbar": {
              "outlinewidth": 0,
              "ticks": ""
             }
            },
            "type": "scatterpolargl"
           }
          ],
          "scatterternary": [
           {
            "marker": {
             "colorbar": {
              "outlinewidth": 0,
              "ticks": ""
             }
            },
            "type": "scatterternary"
           }
          ],
          "surface": [
           {
            "colorbar": {
             "outlinewidth": 0,
             "ticks": ""
            },
            "colorscale": [
             [
              0,
              "#0d0887"
             ],
             [
              0.1111111111111111,
              "#46039f"
             ],
             [
              0.2222222222222222,
              "#7201a8"
             ],
             [
              0.3333333333333333,
              "#9c179e"
             ],
             [
              0.4444444444444444,
              "#bd3786"
             ],
             [
              0.5555555555555556,
              "#d8576b"
             ],
             [
              0.6666666666666666,
              "#ed7953"
             ],
             [
              0.7777777777777778,
              "#fb9f3a"
             ],
             [
              0.8888888888888888,
              "#fdca26"
             ],
             [
              1,
              "#f0f921"
             ]
            ],
            "type": "surface"
           }
          ],
          "table": [
           {
            "cells": {
             "fill": {
              "color": "#EBF0F8"
             },
             "line": {
              "color": "white"
             }
            },
            "header": {
             "fill": {
              "color": "#C8D4E3"
             },
             "line": {
              "color": "white"
             }
            },
            "type": "table"
           }
          ]
         },
         "layout": {
          "annotationdefaults": {
           "arrowcolor": "#2a3f5f",
           "arrowhead": 0,
           "arrowwidth": 1
          },
          "autotypenumbers": "strict",
          "coloraxis": {
           "colorbar": {
            "outlinewidth": 0,
            "ticks": ""
           }
          },
          "colorscale": {
           "diverging": [
            [
             0,
             "#8e0152"
            ],
            [
             0.1,
             "#c51b7d"
            ],
            [
             0.2,
             "#de77ae"
            ],
            [
             0.3,
             "#f1b6da"
            ],
            [
             0.4,
             "#fde0ef"
            ],
            [
             0.5,
             "#f7f7f7"
            ],
            [
             0.6,
             "#e6f5d0"
            ],
            [
             0.7,
             "#b8e186"
            ],
            [
             0.8,
             "#7fbc41"
            ],
            [
             0.9,
             "#4d9221"
            ],
            [
             1,
             "#276419"
            ]
           ],
           "sequential": [
            [
             0,
             "#0d0887"
            ],
            [
             0.1111111111111111,
             "#46039f"
            ],
            [
             0.2222222222222222,
             "#7201a8"
            ],
            [
             0.3333333333333333,
             "#9c179e"
            ],
            [
             0.4444444444444444,
             "#bd3786"
            ],
            [
             0.5555555555555556,
             "#d8576b"
            ],
            [
             0.6666666666666666,
             "#ed7953"
            ],
            [
             0.7777777777777778,
             "#fb9f3a"
            ],
            [
             0.8888888888888888,
             "#fdca26"
            ],
            [
             1,
             "#f0f921"
            ]
           ],
           "sequentialminus": [
            [
             0,
             "#0d0887"
            ],
            [
             0.1111111111111111,
             "#46039f"
            ],
            [
             0.2222222222222222,
             "#7201a8"
            ],
            [
             0.3333333333333333,
             "#9c179e"
            ],
            [
             0.4444444444444444,
             "#bd3786"
            ],
            [
             0.5555555555555556,
             "#d8576b"
            ],
            [
             0.6666666666666666,
             "#ed7953"
            ],
            [
             0.7777777777777778,
             "#fb9f3a"
            ],
            [
             0.8888888888888888,
             "#fdca26"
            ],
            [
             1,
             "#f0f921"
            ]
           ]
          },
          "colorway": [
           "#636efa",
           "#EF553B",
           "#00cc96",
           "#ab63fa",
           "#FFA15A",
           "#19d3f3",
           "#FF6692",
           "#B6E880",
           "#FF97FF",
           "#FECB52"
          ],
          "font": {
           "color": "#2a3f5f"
          },
          "geo": {
           "bgcolor": "white",
           "lakecolor": "white",
           "landcolor": "#E5ECF6",
           "showlakes": true,
           "showland": true,
           "subunitcolor": "white"
          },
          "hoverlabel": {
           "align": "left"
          },
          "hovermode": "closest",
          "mapbox": {
           "style": "light"
          },
          "paper_bgcolor": "white",
          "plot_bgcolor": "#E5ECF6",
          "polar": {
           "angularaxis": {
            "gridcolor": "white",
            "linecolor": "white",
            "ticks": ""
           },
           "bgcolor": "#E5ECF6",
           "radialaxis": {
            "gridcolor": "white",
            "linecolor": "white",
            "ticks": ""
           }
          },
          "scene": {
           "xaxis": {
            "backgroundcolor": "#E5ECF6",
            "gridcolor": "white",
            "gridwidth": 2,
            "linecolor": "white",
            "showbackground": true,
            "ticks": "",
            "zerolinecolor": "white"
           },
           "yaxis": {
            "backgroundcolor": "#E5ECF6",
            "gridcolor": "white",
            "gridwidth": 2,
            "linecolor": "white",
            "showbackground": true,
            "ticks": "",
            "zerolinecolor": "white"
           },
           "zaxis": {
            "backgroundcolor": "#E5ECF6",
            "gridcolor": "white",
            "gridwidth": 2,
            "linecolor": "white",
            "showbackground": true,
            "ticks": "",
            "zerolinecolor": "white"
           }
          },
          "shapedefaults": {
           "line": {
            "color": "#2a3f5f"
           }
          },
          "ternary": {
           "aaxis": {
            "gridcolor": "white",
            "linecolor": "white",
            "ticks": ""
           },
           "baxis": {
            "gridcolor": "white",
            "linecolor": "white",
            "ticks": ""
           },
           "bgcolor": "#E5ECF6",
           "caxis": {
            "gridcolor": "white",
            "linecolor": "white",
            "ticks": ""
           }
          },
          "title": {
           "x": 0.05
          },
          "xaxis": {
           "automargin": true,
           "gridcolor": "white",
           "linecolor": "white",
           "ticks": "",
           "title": {
            "standoff": 15
           },
           "zerolinecolor": "white",
           "zerolinewidth": 2
          },
          "yaxis": {
           "automargin": true,
           "gridcolor": "white",
           "linecolor": "white",
           "ticks": "",
           "title": {
            "standoff": 15
           },
           "zerolinecolor": "white",
           "zerolinewidth": 2
          }
         }
        },
        "xaxis": {
         "anchor": "y",
         "domain": [
          0,
          0.45
         ]
        },
        "xaxis2": {
         "anchor": "y2",
         "domain": [
          0.55,
          1
         ]
        },
        "yaxis": {
         "anchor": "x",
         "domain": [
          0,
          1
         ]
        },
        "yaxis2": {
         "anchor": "x2",
         "domain": [
          0,
          1
         ]
        }
       }
      },
      "text/html": [
       "<div>                            <div id=\"2c3543ab-3904-49c3-9b27-f09c2df1b9e0\" class=\"plotly-graph-div\" style=\"height:525px; width:100%;\"></div>            <script type=\"text/javascript\">                require([\"plotly\"], function(Plotly) {                    window.PLOTLYENV=window.PLOTLYENV || {};                                    if (document.getElementById(\"2c3543ab-3904-49c3-9b27-f09c2df1b9e0\")) {                    Plotly.newPlot(                        \"2c3543ab-3904-49c3-9b27-f09c2df1b9e0\",                        [{\"name\":\"lb_ax\",\"x\":[0,1,2,3,4,5,6,7,8,9,10,11,12,13,14,15,16,17,18,19,20,21,22,23,24,25,26,27,28,29,30,31,32,33,34,35,36,37,38,39,40,41,42,43,44,45,46,47,48,49,50,51,52],\"y\":[0.2705448,0.2944868,0.1771709,0.3184288,0.2106898,0.1508347,0.2298434,0.1747767,0.272939,0.2394202,0.237026,0.2777274,0.2466028,0.2106898,0.3160346,0.2298434,0.248997,0.3184288,0.3184288,0.3136404,0.2202666,0.1675941,0.2561796,0.2011129,0.2585738,0.1891419,0.2106898,0.2920926,0.2418144,0.2178724,0.2992752,0.2801216,0.2944868,0.2178724,0.225055,0.2513912,0.2657564,0.213084,0.2274492,0.2011129,0.28491,0.3112462,0.2992752,0.2322376,0.2298434,0.3567361,0.3112462,0.2753332,0.2633622,0.2011129,0.2825158,0.3016694,0.248997],\"type\":\"scatter\",\"xaxis\":\"x\",\"yaxis\":\"y\"},{\"name\":\"lb_ay\",\"x\":[0,1,2,3,4,5,6,7,8,9,10,11,12,13,14,15,16,17,18,19,20,21,22,23,24,25,26,27,28,29,30,31,32,33,34,35,36,37,38,39,40,41,42,43,44,45,46,47,48,49,50,51,52],\"y\":[-9.67018,-9.691729,-9.691729,-9.684546,-9.636662,-9.631873,-9.67018,-9.691729,-9.696517,-9.68694,-9.631873,-9.662998,-9.68694,-9.655815,-9.665392,-9.67018,-9.65821,-9.655815,-9.639056,-9.68694,-9.636662,-9.619903,-9.694122,-9.603143,-9.703699,-9.713276,-9.660604,-9.636662,-9.660604,-9.682152,-9.639056,-9.610326,-9.694122,-9.631873,-0.0005985504,-9.720459,-9.672575,-9.631873,-9.665392,-9.674969,-9.682152,-9.653421,-9.662998,-9.689334,-9.636662,-9.631873,-9.651027,-9.720459,-9.64145,-9.624691,-9.667787,-9.662998,-9.643845],\"type\":\"scatter\",\"xaxis\":\"x\",\"yaxis\":\"y\"},{\"name\":\"lb_az\",\"x\":[0,1,2,3,4,5,6,7,8,9,10,11,12,13,14,15,16,17,18,19,20,21,22,23,24,25,26,27,28,29,30,31,32,33,34,35,36,37,38,39,40,41,42,43,44,45,46,47,48,49,50,51,52],\"y\":[-0.2753332,-0.2274492,-0.2059013,-0.28491,-0.1747767,-0.2202666,-0.3136404,-0.1747767,-0.2106898,-0.2346318,-0.2561796,-0.2561796,-0.2106898,-0.2082956,-0.2801216,-0.2753332,-0.260968,-0.272939,-0.2011129,-0.2825158,-0.2992752,-0.237026,-0.2298434,-0.260968,-0.2753332,-0.1574188,-0.308852,-0.2896984,-0.248997,-0.2825158,-0.3112462,-0.3280056,-0.2585738,-0.3375824,-0.2178724,-0.2537854,-0.2513912,-0.260968,-0.2298434,-0.2178724,-0.2418144,-0.3303998,-0.248997,-0.2178724,-0.3375824,-0.3303998,-0.2705448,-0.1795651,-0.2537854,-0.2442086,-0.2442086,-0.2106898,-0.2825158],\"type\":\"scatter\",\"xaxis\":\"x\",\"yaxis\":\"y\"},{\"name\":\"lb_ax\",\"x\":[0,1,2,3,4,5,6,7,8,9,10,11,12,13,14,15,16,17,18,19,20,21,22,23,24,25,26,27,28,29,30,31,32,33,34,35,36,37,38,39,40,41,42,43,44,45,46,47,48,49,50,51,52],\"y\":[0.017886096078431335,0.041828096078431354,-0.07548780392156865,0.06577009607843137,-0.04196890392156863,-0.10182400392156865,-0.022815303921568636,-0.07788200392156863,0.020280296078431348,-0.01323850392156864,-0.015632703921568653,0.025068696078431374,-0.006055903921568628,-0.04196890392156863,0.06337589607843136,-0.022815303921568636,-0.003661703921568643,0.06577009607843137,0.06577009607843137,0.06098169607843135,-0.03239210392156863,-0.08506460392156864,0.003520896078431368,-0.05154580392156863,0.005915096078431381,-0.06351680392156864,-0.04196890392156863,0.03943389607843134,-0.010844303921568627,-0.034786303921568645,0.04661649607843138,0.027462896078431387,0.041828096078431354,-0.034786303921568645,-0.0012675039215686579,0.013097696078431365,-0.039574703921568644,-0.02520950392156865,-0.05154580392156863,0.03225129607843136,0.058587496078431334,0.04661649607843138,-0.02042110392156865,-0.022815303921568636,0.10407739607843136,0.058587496078431334,0.010703496078431352,-0.05154580392156863,0.029857096078431344,0.04901069607843134,-0.003661703921568643],\"type\":\"scatter\",\"xaxis\":\"x2\",\"yaxis\":\"y2\"},{\"name\":\"lb_ay\",\"x\":[0,1,2,3,4,5,6,7,8,9,10,11,12,13,14,15,16,17,18,19,20,21,22,23,24,25,26,27,28,29,30,31,32,33,34,35,36,37,38,39,40,41,42,43,44,45,46,47,48,49,50,51,52],\"y\":[-9.67018,-9.691729,-9.691729,-9.684546,-9.636662,-9.631873,-9.67018,-9.691729,-9.696517,-9.68694,-9.631873,-9.662998,-9.68694,-9.655815,-9.665392,-9.67018,-9.65821,-9.655815,-9.639056,-9.68694,-9.636662,-9.619903,-9.694122,-9.603143,-9.703699,-9.713276,-9.660604,-9.636662,-9.660604,-9.682152,-9.639056,-9.610326,-9.694122,-9.631873,-9.720459,-9.672575,-9.631873,-9.665392,-9.674969,-9.682152,-9.653421,-9.662998,-9.689334,-9.636662,-9.631873,-9.651027,-9.64145,-9.624691,-9.667787,-9.662998,-9.643845],\"type\":\"scatter\",\"xaxis\":\"x2\",\"yaxis\":\"y2\"},{\"name\":\"lb_az\",\"x\":[0,1,2,3,4,5,6,7,8,9,10,11,12,13,14,15,16,17,18,19,20,21,22,23,24,25,26,27,28,29,30,31,32,33,34,35,36,37,38,39,40,41,42,43,44,45,46,47,48,49,50,51,52],\"y\":[-0.018883674509803883,0.029000325490196127,0.05054822549019611,-0.02846047450980388,0.08167282549019611,0.03618292549019611,-0.05719087450980387,0.08167282549019611,0.04575972549019611,0.021817725490196116,0.0002699254901961101,0.0002699254901961101,0.04575972549019611,0.04815392549019612,-0.02367207450980391,-0.018883674509803883,-0.00451847450980386,-0.01648947450980387,0.055336625490196106,-0.026066274509803866,-0.0428256745098039,0.01942352549019613,0.026606125490196114,-0.00451847450980386,-0.018883674509803883,0.09903072549019612,-0.0524024745098039,-0.033248874509803905,0.007452525490196121,-0.026066274509803866,-0.054796674509803855,-0.07155607450980389,-0.002124274509803903,-0.08113287450980389,0.002664125490196123,0.005058325490196136,-0.00451847450980386,0.026606125490196114,0.038577125490196124,0.014635125490196105,-0.0739502745098039,0.007452525490196121,0.038577125490196124,-0.08113287450980389,-0.0739502745098039,-0.014095274509803857,0.002664125490196123,0.01224092549019612,0.01224092549019612,0.04575972549019611,-0.026066274509803866],\"type\":\"scatter\",\"xaxis\":\"x2\",\"yaxis\":\"y2\"}],                        {\"template\":{\"data\":{\"histogram2dcontour\":[{\"type\":\"histogram2dcontour\",\"colorbar\":{\"outlinewidth\":0,\"ticks\":\"\"},\"colorscale\":[[0.0,\"#0d0887\"],[0.1111111111111111,\"#46039f\"],[0.2222222222222222,\"#7201a8\"],[0.3333333333333333,\"#9c179e\"],[0.4444444444444444,\"#bd3786\"],[0.5555555555555556,\"#d8576b\"],[0.6666666666666666,\"#ed7953\"],[0.7777777777777778,\"#fb9f3a\"],[0.8888888888888888,\"#fdca26\"],[1.0,\"#f0f921\"]]}],\"choropleth\":[{\"type\":\"choropleth\",\"colorbar\":{\"outlinewidth\":0,\"ticks\":\"\"}}],\"histogram2d\":[{\"type\":\"histogram2d\",\"colorbar\":{\"outlinewidth\":0,\"ticks\":\"\"},\"colorscale\":[[0.0,\"#0d0887\"],[0.1111111111111111,\"#46039f\"],[0.2222222222222222,\"#7201a8\"],[0.3333333333333333,\"#9c179e\"],[0.4444444444444444,\"#bd3786\"],[0.5555555555555556,\"#d8576b\"],[0.6666666666666666,\"#ed7953\"],[0.7777777777777778,\"#fb9f3a\"],[0.8888888888888888,\"#fdca26\"],[1.0,\"#f0f921\"]]}],\"heatmap\":[{\"type\":\"heatmap\",\"colorbar\":{\"outlinewidth\":0,\"ticks\":\"\"},\"colorscale\":[[0.0,\"#0d0887\"],[0.1111111111111111,\"#46039f\"],[0.2222222222222222,\"#7201a8\"],[0.3333333333333333,\"#9c179e\"],[0.4444444444444444,\"#bd3786\"],[0.5555555555555556,\"#d8576b\"],[0.6666666666666666,\"#ed7953\"],[0.7777777777777778,\"#fb9f3a\"],[0.8888888888888888,\"#fdca26\"],[1.0,\"#f0f921\"]]}],\"heatmapgl\":[{\"type\":\"heatmapgl\",\"colorbar\":{\"outlinewidth\":0,\"ticks\":\"\"},\"colorscale\":[[0.0,\"#0d0887\"],[0.1111111111111111,\"#46039f\"],[0.2222222222222222,\"#7201a8\"],[0.3333333333333333,\"#9c179e\"],[0.4444444444444444,\"#bd3786\"],[0.5555555555555556,\"#d8576b\"],[0.6666666666666666,\"#ed7953\"],[0.7777777777777778,\"#fb9f3a\"],[0.8888888888888888,\"#fdca26\"],[1.0,\"#f0f921\"]]}],\"contourcarpet\":[{\"type\":\"contourcarpet\",\"colorbar\":{\"outlinewidth\":0,\"ticks\":\"\"}}],\"contour\":[{\"type\":\"contour\",\"colorbar\":{\"outlinewidth\":0,\"ticks\":\"\"},\"colorscale\":[[0.0,\"#0d0887\"],[0.1111111111111111,\"#46039f\"],[0.2222222222222222,\"#7201a8\"],[0.3333333333333333,\"#9c179e\"],[0.4444444444444444,\"#bd3786\"],[0.5555555555555556,\"#d8576b\"],[0.6666666666666666,\"#ed7953\"],[0.7777777777777778,\"#fb9f3a\"],[0.8888888888888888,\"#fdca26\"],[1.0,\"#f0f921\"]]}],\"surface\":[{\"type\":\"surface\",\"colorbar\":{\"outlinewidth\":0,\"ticks\":\"\"},\"colorscale\":[[0.0,\"#0d0887\"],[0.1111111111111111,\"#46039f\"],[0.2222222222222222,\"#7201a8\"],[0.3333333333333333,\"#9c179e\"],[0.4444444444444444,\"#bd3786\"],[0.5555555555555556,\"#d8576b\"],[0.6666666666666666,\"#ed7953\"],[0.7777777777777778,\"#fb9f3a\"],[0.8888888888888888,\"#fdca26\"],[1.0,\"#f0f921\"]]}],\"mesh3d\":[{\"type\":\"mesh3d\",\"colorbar\":{\"outlinewidth\":0,\"ticks\":\"\"}}],\"scatter\":[{\"fillpattern\":{\"fillmode\":\"overlay\",\"size\":10,\"solidity\":0.2},\"type\":\"scatter\"}],\"parcoords\":[{\"type\":\"parcoords\",\"line\":{\"colorbar\":{\"outlinewidth\":0,\"ticks\":\"\"}}}],\"scatterpolargl\":[{\"type\":\"scatterpolargl\",\"marker\":{\"colorbar\":{\"outlinewidth\":0,\"ticks\":\"\"}}}],\"bar\":[{\"error_x\":{\"color\":\"#2a3f5f\"},\"error_y\":{\"color\":\"#2a3f5f\"},\"marker\":{\"line\":{\"color\":\"#E5ECF6\",\"width\":0.5},\"pattern\":{\"fillmode\":\"overlay\",\"size\":10,\"solidity\":0.2}},\"type\":\"bar\"}],\"scattergeo\":[{\"type\":\"scattergeo\",\"marker\":{\"colorbar\":{\"outlinewidth\":0,\"ticks\":\"\"}}}],\"scatterpolar\":[{\"type\":\"scatterpolar\",\"marker\":{\"colorbar\":{\"outlinewidth\":0,\"ticks\":\"\"}}}],\"histogram\":[{\"marker\":{\"pattern\":{\"fillmode\":\"overlay\",\"size\":10,\"solidity\":0.2}},\"type\":\"histogram\"}],\"scattergl\":[{\"type\":\"scattergl\",\"marker\":{\"colorbar\":{\"outlinewidth\":0,\"ticks\":\"\"}}}],\"scatter3d\":[{\"type\":\"scatter3d\",\"line\":{\"colorbar\":{\"outlinewidth\":0,\"ticks\":\"\"}},\"marker\":{\"colorbar\":{\"outlinewidth\":0,\"ticks\":\"\"}}}],\"scattermapbox\":[{\"type\":\"scattermapbox\",\"marker\":{\"colorbar\":{\"outlinewidth\":0,\"ticks\":\"\"}}}],\"scatterternary\":[{\"type\":\"scatterternary\",\"marker\":{\"colorbar\":{\"outlinewidth\":0,\"ticks\":\"\"}}}],\"scattercarpet\":[{\"type\":\"scattercarpet\",\"marker\":{\"colorbar\":{\"outlinewidth\":0,\"ticks\":\"\"}}}],\"carpet\":[{\"aaxis\":{\"endlinecolor\":\"#2a3f5f\",\"gridcolor\":\"white\",\"linecolor\":\"white\",\"minorgridcolor\":\"white\",\"startlinecolor\":\"#2a3f5f\"},\"baxis\":{\"endlinecolor\":\"#2a3f5f\",\"gridcolor\":\"white\",\"linecolor\":\"white\",\"minorgridcolor\":\"white\",\"startlinecolor\":\"#2a3f5f\"},\"type\":\"carpet\"}],\"table\":[{\"cells\":{\"fill\":{\"color\":\"#EBF0F8\"},\"line\":{\"color\":\"white\"}},\"header\":{\"fill\":{\"color\":\"#C8D4E3\"},\"line\":{\"color\":\"white\"}},\"type\":\"table\"}],\"barpolar\":[{\"marker\":{\"line\":{\"color\":\"#E5ECF6\",\"width\":0.5},\"pattern\":{\"fillmode\":\"overlay\",\"size\":10,\"solidity\":0.2}},\"type\":\"barpolar\"}],\"pie\":[{\"automargin\":true,\"type\":\"pie\"}]},\"layout\":{\"autotypenumbers\":\"strict\",\"colorway\":[\"#636efa\",\"#EF553B\",\"#00cc96\",\"#ab63fa\",\"#FFA15A\",\"#19d3f3\",\"#FF6692\",\"#B6E880\",\"#FF97FF\",\"#FECB52\"],\"font\":{\"color\":\"#2a3f5f\"},\"hovermode\":\"closest\",\"hoverlabel\":{\"align\":\"left\"},\"paper_bgcolor\":\"white\",\"plot_bgcolor\":\"#E5ECF6\",\"polar\":{\"bgcolor\":\"#E5ECF6\",\"angularaxis\":{\"gridcolor\":\"white\",\"linecolor\":\"white\",\"ticks\":\"\"},\"radialaxis\":{\"gridcolor\":\"white\",\"linecolor\":\"white\",\"ticks\":\"\"}},\"ternary\":{\"bgcolor\":\"#E5ECF6\",\"aaxis\":{\"gridcolor\":\"white\",\"linecolor\":\"white\",\"ticks\":\"\"},\"baxis\":{\"gridcolor\":\"white\",\"linecolor\":\"white\",\"ticks\":\"\"},\"caxis\":{\"gridcolor\":\"white\",\"linecolor\":\"white\",\"ticks\":\"\"}},\"coloraxis\":{\"colorbar\":{\"outlinewidth\":0,\"ticks\":\"\"}},\"colorscale\":{\"sequential\":[[0.0,\"#0d0887\"],[0.1111111111111111,\"#46039f\"],[0.2222222222222222,\"#7201a8\"],[0.3333333333333333,\"#9c179e\"],[0.4444444444444444,\"#bd3786\"],[0.5555555555555556,\"#d8576b\"],[0.6666666666666666,\"#ed7953\"],[0.7777777777777778,\"#fb9f3a\"],[0.8888888888888888,\"#fdca26\"],[1.0,\"#f0f921\"]],\"sequentialminus\":[[0.0,\"#0d0887\"],[0.1111111111111111,\"#46039f\"],[0.2222222222222222,\"#7201a8\"],[0.3333333333333333,\"#9c179e\"],[0.4444444444444444,\"#bd3786\"],[0.5555555555555556,\"#d8576b\"],[0.6666666666666666,\"#ed7953\"],[0.7777777777777778,\"#fb9f3a\"],[0.8888888888888888,\"#fdca26\"],[1.0,\"#f0f921\"]],\"diverging\":[[0,\"#8e0152\"],[0.1,\"#c51b7d\"],[0.2,\"#de77ae\"],[0.3,\"#f1b6da\"],[0.4,\"#fde0ef\"],[0.5,\"#f7f7f7\"],[0.6,\"#e6f5d0\"],[0.7,\"#b8e186\"],[0.8,\"#7fbc41\"],[0.9,\"#4d9221\"],[1,\"#276419\"]]},\"xaxis\":{\"gridcolor\":\"white\",\"linecolor\":\"white\",\"ticks\":\"\",\"title\":{\"standoff\":15},\"zerolinecolor\":\"white\",\"automargin\":true,\"zerolinewidth\":2},\"yaxis\":{\"gridcolor\":\"white\",\"linecolor\":\"white\",\"ticks\":\"\",\"title\":{\"standoff\":15},\"zerolinecolor\":\"white\",\"automargin\":true,\"zerolinewidth\":2},\"scene\":{\"xaxis\":{\"backgroundcolor\":\"#E5ECF6\",\"gridcolor\":\"white\",\"linecolor\":\"white\",\"showbackground\":true,\"ticks\":\"\",\"zerolinecolor\":\"white\",\"gridwidth\":2},\"yaxis\":{\"backgroundcolor\":\"#E5ECF6\",\"gridcolor\":\"white\",\"linecolor\":\"white\",\"showbackground\":true,\"ticks\":\"\",\"zerolinecolor\":\"white\",\"gridwidth\":2},\"zaxis\":{\"backgroundcolor\":\"#E5ECF6\",\"gridcolor\":\"white\",\"linecolor\":\"white\",\"showbackground\":true,\"ticks\":\"\",\"zerolinecolor\":\"white\",\"gridwidth\":2}},\"shapedefaults\":{\"line\":{\"color\":\"#2a3f5f\"}},\"annotationdefaults\":{\"arrowcolor\":\"#2a3f5f\",\"arrowhead\":0,\"arrowwidth\":1},\"geo\":{\"bgcolor\":\"white\",\"landcolor\":\"#E5ECF6\",\"subunitcolor\":\"white\",\"showland\":true,\"showlakes\":true,\"lakecolor\":\"white\"},\"title\":{\"x\":0.05},\"mapbox\":{\"style\":\"light\"}}},\"xaxis\":{\"anchor\":\"y\",\"domain\":[0.0,0.45]},\"yaxis\":{\"anchor\":\"x\",\"domain\":[0.0,1.0]},\"xaxis2\":{\"anchor\":\"y2\",\"domain\":[0.55,1.0]},\"yaxis2\":{\"anchor\":\"x2\",\"domain\":[0.0,1.0]},\"annotations\":[{\"font\":{\"size\":16},\"showarrow\":false,\"text\":\"Non-calibrated left-bot sensor  accel\",\"x\":0.225,\"xanchor\":\"center\",\"xref\":\"paper\",\"y\":1.0,\"yanchor\":\"bottom\",\"yref\":\"paper\"},{\"font\":{\"size\":16},\"showarrow\":false,\"text\":\"Calibrated left-bot sensor  accel\",\"x\":0.775,\"xanchor\":\"center\",\"xref\":\"paper\",\"y\":1.0,\"yanchor\":\"bottom\",\"yref\":\"paper\"}],\"legend\":{\"orientation\":\"h\",\"x\":0.5,\"xanchor\":\"center\"},\"margin\":{\"l\":0,\"r\":0,\"t\":40,\"b\":0},\"hovermode\":\"x\"},                        {\"responsive\": true}                    ).then(function(){\n",
       "                            \n",
       "var gd = document.getElementById('2c3543ab-3904-49c3-9b27-f09c2df1b9e0');\n",
       "var x = new MutationObserver(function (mutations, observer) {{\n",
       "        var display = window.getComputedStyle(gd).display;\n",
       "        if (!display || display === 'none') {{\n",
       "            console.log([gd, 'removed!']);\n",
       "            Plotly.purge(gd);\n",
       "            observer.disconnect();\n",
       "        }}\n",
       "}});\n",
       "\n",
       "// Listen for the removal of the full notebook cells\n",
       "var notebookContainer = gd.closest('#notebook-container');\n",
       "if (notebookContainer) {{\n",
       "    x.observe(notebookContainer, {childList: true});\n",
       "}}\n",
       "\n",
       "// Listen for the clearing of the current output cell\n",
       "var outputEl = gd.closest('.output');\n",
       "if (outputEl) {{\n",
       "    x.observe(outputEl, {childList: true});\n",
       "}}\n",
       "\n",
       "                        })                };                });            </script>        </div>"
      ]
     },
     "metadata": {},
     "output_type": "display_data"
    }
   ],
   "source": [
    "# title_t = 'Non-calibrated left-bot sensor '\n",
    "# title_b = 'Calibrated left-bot sensor '\n",
    "\n",
    "# show_plots(lb,calibrated_lb,title_t,title_b,True)"
   ]
  },
  {
   "cell_type": "markdown",
   "id": "18551ec2",
   "metadata": {},
   "source": [
    "# Calibration data"
   ]
  },
  {
   "cell_type": "code",
   "execution_count": 64,
   "id": "1044359d",
   "metadata": {},
   "outputs": [
    {
     "name": "stdout",
     "output_type": "stream",
     "text": [
      "['bt_ax', 'bt_ay', 'bt_az', 'bt_gx', 'bt_gy', 'bt_gz']\n"
     ]
    },
    {
     "data": {
      "application/vnd.plotly.v1+json": {
       "config": {
        "plotlyServerURL": "https://plot.ly"
       },
       "data": [
        {
         "name": "bt_ax",
         "type": "scatter",
         "x": [
          0,
          1,
          2,
          3,
          4,
          5,
          6,
          7,
          8,
          9,
          10,
          11,
          12,
          13,
          14,
          15,
          16,
          17,
          18,
          19,
          20,
          21,
          22,
          23,
          24,
          25,
          26,
          27,
          28,
          29,
          30,
          31,
          32,
          33,
          34,
          35,
          36,
          37,
          38,
          39,
          40,
          41,
          42,
          43,
          44,
          45,
          46
         ],
         "xaxis": "x",
         "y": [
          0.3926491,
          0.521936,
          0.3830723,
          0.4285621,
          0.3184288,
          0.3615245,
          0.4788404,
          0.2442086,
          0.2322376,
          0.5267244,
          0.629675,
          0.7015011,
          0.344765,
          0.3232172,
          -0.09097966,
          0.1795651,
          0.3495534,
          1.00317,
          0.5171475,
          0.6009446,
          0.5075707,
          0.7972692,
          0.7589619,
          0.7637503,
          0.8140285,
          0.5075707,
          0.6009446,
          0.4094085,
          0.2059013,
          -0.4237737,
          -0.3926491,
          -0.3280056,
          -0.01915361,
          0.272939,
          0.1651999,
          0.3280056,
          0.1795651,
          0.2466028,
          0.1771709,
          0.1891419,
          0.3423708,
          0.2944868,
          0.2298434,
          0.2992752,
          0.3040636,
          0.3016694,
          0.296881
         ],
         "yaxis": "y"
        },
        {
         "name": "bt_ay",
         "type": "scatter",
         "x": [
          0,
          1,
          2,
          3,
          4,
          5,
          6,
          7,
          8,
          9,
          10,
          11,
          12,
          13,
          14,
          15,
          16,
          17,
          18,
          19,
          20,
          21,
          22,
          23,
          24,
          25,
          26,
          27,
          28,
          29,
          30,
          31,
          32,
          33,
          34,
          35,
          36,
          37,
          38,
          39,
          40,
          41,
          42,
          43,
          44,
          45,
          46
         ],
         "xaxis": "x",
         "y": [
          -9.691729,
          -9.674969,
          -9.715671,
          -9.744401,
          -9.689334,
          -9.701305,
          -9.76116,
          -9.780313,
          -9.756371,
          -9.76116,
          -9.80665,
          -9.904813,
          -9.974244,
          -9.991004,
          -7.781156,
          -7.900866,
          -6.574478,
          -6.052542,
          -5.075707,
          -4.122815,
          -3.801992,
          -4.197036,
          -4.692636,
          -4.627992,
          -5.762844,
          -6.47871,
          -6.332664,
          -8.269572,
          -8.281544,
          -9.68694,
          -9.844957,
          -10.04368,
          -9.636662,
          -9.622296,
          -9.581595,
          -9.646238,
          -9.560047,
          -9.593566,
          -9.713276,
          -9.61272,
          -9.555259,
          -9.619903,
          -9.591172,
          -9.674969,
          -9.722853,
          -9.572019,
          -9.651027
         ],
         "yaxis": "y"
        },
        {
         "name": "bt_az",
         "type": "scatter",
         "x": [
          0,
          1,
          2,
          3,
          4,
          5,
          6,
          7,
          8,
          9,
          10,
          11,
          12,
          13,
          14,
          15,
          16,
          17,
          18,
          19,
          20,
          21,
          22,
          23,
          24,
          25,
          26,
          27,
          28,
          29,
          30,
          31,
          32,
          33,
          34,
          35,
          36,
          37,
          38,
          39,
          40,
          41,
          42,
          43,
          44,
          45,
          46
         ],
         "xaxis": "x",
         "y": [
          -2.049437,
          -2.090138,
          -2.094927,
          -2.15957,
          -2.217031,
          -2.178724,
          -2.245761,
          -1.970428,
          -1.853112,
          -1.853112,
          -1.817199,
          -1.637634,
          -1.462857,
          -0.8164227,
          0.8020576,
          2.633622,
          4.596867,
          6.512228,
          8.549694,
          8.884883,
          9.706094,
          10.64701,
          9.945514,
          8.99741,
          7.81228,
          5.801151,
          3.44765,
          1.223437,
          -0.4884171,
          -1.479617,
          -1.94888,
          -2.396596,
          -2.942474,
          -2.736573,
          -2.664747,
          -2.777274,
          -2.664747,
          -2.70066,
          -2.810793,
          -2.681506,
          -2.659958,
          -2.626439,
          -2.547431,
          -2.427721,
          -2.537854,
          -2.485181,
          -2.420538
         ],
         "yaxis": "y"
        },
        {
         "name": "bt_ax",
         "type": "scatter",
         "x": [
          0,
          1,
          2,
          3,
          4,
          5,
          6,
          7,
          8,
          9,
          10,
          11,
          12,
          13,
          14,
          15,
          16,
          17,
          18,
          19,
          20,
          21,
          22,
          23,
          24,
          25,
          26,
          27,
          28,
          29,
          30,
          31,
          32,
          33,
          34,
          35,
          36,
          37,
          38,
          39,
          40,
          41,
          42,
          43,
          44,
          45,
          46
         ],
         "xaxis": "x2",
         "y": [
          0.04635586319148932,
          0.1756427631914893,
          0.036779063191489325,
          0.08226886319148935,
          -0.02786443680851064,
          0.015231263191489375,
          0.13254716319148935,
          -0.10208463680851065,
          -0.11405563680851066,
          0.18043116319148933,
          0.28338176319148933,
          0.35520786319148934,
          -0.0015282368085106635,
          -0.02307603680851067,
          -0.43727289680851067,
          -0.16672813680851065,
          0.0032601631914893625,
          0.6568767631914892,
          0.17085426319148933,
          0.2546513631914894,
          0.1612774631914894,
          0.45097596319148936,
          0.4126686631914893,
          0.41745706319148934,
          0.4677352631914894,
          0.1612774631914894,
          0.2546513631914894,
          0.06311526319148936,
          -0.14039193680851064,
          -0.7700669368085107,
          -0.7389423368085106,
          -0.6742988368085107,
          -0.36544684680851064,
          -0.07335423680851066,
          -0.18109333680851064,
          -0.018287636808510643,
          -0.16672813680851065,
          -0.09969043680851064,
          -0.16912233680851066,
          -0.15715133680851065,
          -0.0039224368085106764,
          -0.05180643680851066,
          -0.11644983680851065,
          -0.04701803680851063,
          -0.04222963680851066,
          -0.044623836808510675,
          -0.049412236808510646
         ],
         "yaxis": "y2"
        },
        {
         "name": "bt_ay",
         "type": "scatter",
         "x": [
          0,
          1,
          2,
          3,
          4,
          5,
          6,
          7,
          8,
          9,
          10,
          11,
          12,
          13,
          14,
          15,
          16,
          17,
          18,
          19,
          20,
          21,
          22,
          23,
          24,
          25,
          26,
          27,
          28,
          29,
          30,
          31,
          32,
          33,
          34,
          35,
          36,
          37,
          38,
          39,
          40,
          41,
          42,
          43,
          44,
          45,
          46
         ],
         "xaxis": "x2",
         "y": [
          -9.691729,
          -9.674969,
          -9.715671,
          -9.744401,
          -9.689334,
          -9.701305,
          -9.76116,
          -9.780313,
          -9.756371,
          -9.76116,
          -9.80665,
          -9.904813,
          -9.974244,
          -9.991004,
          -7.781156,
          -7.900866,
          -6.574478,
          -6.052542,
          -5.075707,
          -4.122815,
          -3.801992,
          -4.197036,
          -4.692636,
          -4.627992,
          -5.762844,
          -6.47871,
          -6.332664,
          -8.269572,
          -8.281544,
          -9.68694,
          -9.844957,
          -10.04368,
          -9.636662,
          -9.622296,
          -9.581595,
          -9.646238,
          -9.560047,
          -9.593566,
          -9.713276,
          -9.61272,
          -9.555259,
          -9.619903,
          -9.591172,
          -9.674969,
          -9.722853,
          -9.572019,
          -9.651027
         ],
         "yaxis": "y2"
        },
        {
         "name": "bt_az",
         "type": "scatter",
         "x": [
          0,
          1,
          2,
          3,
          4,
          5,
          6,
          7,
          8,
          9,
          10,
          11,
          12,
          13,
          14,
          15,
          16,
          17,
          18,
          19,
          20,
          21,
          22,
          23,
          24,
          25,
          26,
          27,
          28,
          29,
          30,
          31,
          32,
          33,
          34,
          35,
          36,
          37,
          38,
          39,
          40,
          41,
          42,
          43,
          44,
          45,
          46
         ],
         "xaxis": "x2",
         "y": [
          -2.4136101659574467,
          -2.4543111659574466,
          -2.4591001659574467,
          -2.5237431659574465,
          -2.5812041659574465,
          -2.5428971659574464,
          -2.6099341659574464,
          -2.3346011659574466,
          -2.217285165957447,
          -2.217285165957447,
          -2.1813721659574465,
          -2.001807165957447,
          -1.8270301659574468,
          -1.1805958659574467,
          0.43788443404255334,
          2.2694488340425534,
          4.232693834042553,
          6.148054834042553,
          8.185520834042554,
          8.520709834042554,
          9.341920834042554,
          10.282836834042554,
          9.581340834042553,
          8.633236834042554,
          7.448106834042553,
          5.436977834042553,
          3.0834768340425533,
          0.8592638340425534,
          -0.8525902659574467,
          -1.8437901659574467,
          -2.3130531659574465,
          -2.7607691659574467,
          -3.3066471659574463,
          -3.1007461659574465,
          -3.0289201659574467,
          -3.1414471659574463,
          -3.0289201659574467,
          -3.0648331659574466,
          -3.1749661659574464,
          -3.0456791659574467,
          -3.0241311659574466,
          -2.9906121659574465,
          -2.9116041659574465,
          -2.7918941659574465,
          -2.9020271659574464,
          -2.8493541659574464,
          -2.7847111659574466
         ],
         "yaxis": "y2"
        }
       ],
       "layout": {
        "annotations": [
         {
          "font": {
           "size": 16
          },
          "showarrow": false,
          "text": "Non-calibrated left-bot sensor  accel",
          "x": 0.225,
          "xanchor": "center",
          "xref": "paper",
          "y": 1,
          "yanchor": "bottom",
          "yref": "paper"
         },
         {
          "font": {
           "size": 16
          },
          "showarrow": false,
          "text": "Calibrated left-bot sensor  accel",
          "x": 0.775,
          "xanchor": "center",
          "xref": "paper",
          "y": 1,
          "yanchor": "bottom",
          "yref": "paper"
         }
        ],
        "hovermode": "x",
        "legend": {
         "orientation": "h",
         "x": 0.5,
         "xanchor": "center"
        },
        "margin": {
         "b": 0,
         "l": 0,
         "r": 0,
         "t": 40
        },
        "template": {
         "data": {
          "bar": [
           {
            "error_x": {
             "color": "#2a3f5f"
            },
            "error_y": {
             "color": "#2a3f5f"
            },
            "marker": {
             "line": {
              "color": "#E5ECF6",
              "width": 0.5
             },
             "pattern": {
              "fillmode": "overlay",
              "size": 10,
              "solidity": 0.2
             }
            },
            "type": "bar"
           }
          ],
          "barpolar": [
           {
            "marker": {
             "line": {
              "color": "#E5ECF6",
              "width": 0.5
             },
             "pattern": {
              "fillmode": "overlay",
              "size": 10,
              "solidity": 0.2
             }
            },
            "type": "barpolar"
           }
          ],
          "carpet": [
           {
            "aaxis": {
             "endlinecolor": "#2a3f5f",
             "gridcolor": "white",
             "linecolor": "white",
             "minorgridcolor": "white",
             "startlinecolor": "#2a3f5f"
            },
            "baxis": {
             "endlinecolor": "#2a3f5f",
             "gridcolor": "white",
             "linecolor": "white",
             "minorgridcolor": "white",
             "startlinecolor": "#2a3f5f"
            },
            "type": "carpet"
           }
          ],
          "choropleth": [
           {
            "colorbar": {
             "outlinewidth": 0,
             "ticks": ""
            },
            "type": "choropleth"
           }
          ],
          "contour": [
           {
            "colorbar": {
             "outlinewidth": 0,
             "ticks": ""
            },
            "colorscale": [
             [
              0,
              "#0d0887"
             ],
             [
              0.1111111111111111,
              "#46039f"
             ],
             [
              0.2222222222222222,
              "#7201a8"
             ],
             [
              0.3333333333333333,
              "#9c179e"
             ],
             [
              0.4444444444444444,
              "#bd3786"
             ],
             [
              0.5555555555555556,
              "#d8576b"
             ],
             [
              0.6666666666666666,
              "#ed7953"
             ],
             [
              0.7777777777777778,
              "#fb9f3a"
             ],
             [
              0.8888888888888888,
              "#fdca26"
             ],
             [
              1,
              "#f0f921"
             ]
            ],
            "type": "contour"
           }
          ],
          "contourcarpet": [
           {
            "colorbar": {
             "outlinewidth": 0,
             "ticks": ""
            },
            "type": "contourcarpet"
           }
          ],
          "heatmap": [
           {
            "colorbar": {
             "outlinewidth": 0,
             "ticks": ""
            },
            "colorscale": [
             [
              0,
              "#0d0887"
             ],
             [
              0.1111111111111111,
              "#46039f"
             ],
             [
              0.2222222222222222,
              "#7201a8"
             ],
             [
              0.3333333333333333,
              "#9c179e"
             ],
             [
              0.4444444444444444,
              "#bd3786"
             ],
             [
              0.5555555555555556,
              "#d8576b"
             ],
             [
              0.6666666666666666,
              "#ed7953"
             ],
             [
              0.7777777777777778,
              "#fb9f3a"
             ],
             [
              0.8888888888888888,
              "#fdca26"
             ],
             [
              1,
              "#f0f921"
             ]
            ],
            "type": "heatmap"
           }
          ],
          "heatmapgl": [
           {
            "colorbar": {
             "outlinewidth": 0,
             "ticks": ""
            },
            "colorscale": [
             [
              0,
              "#0d0887"
             ],
             [
              0.1111111111111111,
              "#46039f"
             ],
             [
              0.2222222222222222,
              "#7201a8"
             ],
             [
              0.3333333333333333,
              "#9c179e"
             ],
             [
              0.4444444444444444,
              "#bd3786"
             ],
             [
              0.5555555555555556,
              "#d8576b"
             ],
             [
              0.6666666666666666,
              "#ed7953"
             ],
             [
              0.7777777777777778,
              "#fb9f3a"
             ],
             [
              0.8888888888888888,
              "#fdca26"
             ],
             [
              1,
              "#f0f921"
             ]
            ],
            "type": "heatmapgl"
           }
          ],
          "histogram": [
           {
            "marker": {
             "pattern": {
              "fillmode": "overlay",
              "size": 10,
              "solidity": 0.2
             }
            },
            "type": "histogram"
           }
          ],
          "histogram2d": [
           {
            "colorbar": {
             "outlinewidth": 0,
             "ticks": ""
            },
            "colorscale": [
             [
              0,
              "#0d0887"
             ],
             [
              0.1111111111111111,
              "#46039f"
             ],
             [
              0.2222222222222222,
              "#7201a8"
             ],
             [
              0.3333333333333333,
              "#9c179e"
             ],
             [
              0.4444444444444444,
              "#bd3786"
             ],
             [
              0.5555555555555556,
              "#d8576b"
             ],
             [
              0.6666666666666666,
              "#ed7953"
             ],
             [
              0.7777777777777778,
              "#fb9f3a"
             ],
             [
              0.8888888888888888,
              "#fdca26"
             ],
             [
              1,
              "#f0f921"
             ]
            ],
            "type": "histogram2d"
           }
          ],
          "histogram2dcontour": [
           {
            "colorbar": {
             "outlinewidth": 0,
             "ticks": ""
            },
            "colorscale": [
             [
              0,
              "#0d0887"
             ],
             [
              0.1111111111111111,
              "#46039f"
             ],
             [
              0.2222222222222222,
              "#7201a8"
             ],
             [
              0.3333333333333333,
              "#9c179e"
             ],
             [
              0.4444444444444444,
              "#bd3786"
             ],
             [
              0.5555555555555556,
              "#d8576b"
             ],
             [
              0.6666666666666666,
              "#ed7953"
             ],
             [
              0.7777777777777778,
              "#fb9f3a"
             ],
             [
              0.8888888888888888,
              "#fdca26"
             ],
             [
              1,
              "#f0f921"
             ]
            ],
            "type": "histogram2dcontour"
           }
          ],
          "mesh3d": [
           {
            "colorbar": {
             "outlinewidth": 0,
             "ticks": ""
            },
            "type": "mesh3d"
           }
          ],
          "parcoords": [
           {
            "line": {
             "colorbar": {
              "outlinewidth": 0,
              "ticks": ""
             }
            },
            "type": "parcoords"
           }
          ],
          "pie": [
           {
            "automargin": true,
            "type": "pie"
           }
          ],
          "scatter": [
           {
            "fillpattern": {
             "fillmode": "overlay",
             "size": 10,
             "solidity": 0.2
            },
            "type": "scatter"
           }
          ],
          "scatter3d": [
           {
            "line": {
             "colorbar": {
              "outlinewidth": 0,
              "ticks": ""
             }
            },
            "marker": {
             "colorbar": {
              "outlinewidth": 0,
              "ticks": ""
             }
            },
            "type": "scatter3d"
           }
          ],
          "scattercarpet": [
           {
            "marker": {
             "colorbar": {
              "outlinewidth": 0,
              "ticks": ""
             }
            },
            "type": "scattercarpet"
           }
          ],
          "scattergeo": [
           {
            "marker": {
             "colorbar": {
              "outlinewidth": 0,
              "ticks": ""
             }
            },
            "type": "scattergeo"
           }
          ],
          "scattergl": [
           {
            "marker": {
             "colorbar": {
              "outlinewidth": 0,
              "ticks": ""
             }
            },
            "type": "scattergl"
           }
          ],
          "scattermapbox": [
           {
            "marker": {
             "colorbar": {
              "outlinewidth": 0,
              "ticks": ""
             }
            },
            "type": "scattermapbox"
           }
          ],
          "scatterpolar": [
           {
            "marker": {
             "colorbar": {
              "outlinewidth": 0,
              "ticks": ""
             }
            },
            "type": "scatterpolar"
           }
          ],
          "scatterpolargl": [
           {
            "marker": {
             "colorbar": {
              "outlinewidth": 0,
              "ticks": ""
             }
            },
            "type": "scatterpolargl"
           }
          ],
          "scatterternary": [
           {
            "marker": {
             "colorbar": {
              "outlinewidth": 0,
              "ticks": ""
             }
            },
            "type": "scatterternary"
           }
          ],
          "surface": [
           {
            "colorbar": {
             "outlinewidth": 0,
             "ticks": ""
            },
            "colorscale": [
             [
              0,
              "#0d0887"
             ],
             [
              0.1111111111111111,
              "#46039f"
             ],
             [
              0.2222222222222222,
              "#7201a8"
             ],
             [
              0.3333333333333333,
              "#9c179e"
             ],
             [
              0.4444444444444444,
              "#bd3786"
             ],
             [
              0.5555555555555556,
              "#d8576b"
             ],
             [
              0.6666666666666666,
              "#ed7953"
             ],
             [
              0.7777777777777778,
              "#fb9f3a"
             ],
             [
              0.8888888888888888,
              "#fdca26"
             ],
             [
              1,
              "#f0f921"
             ]
            ],
            "type": "surface"
           }
          ],
          "table": [
           {
            "cells": {
             "fill": {
              "color": "#EBF0F8"
             },
             "line": {
              "color": "white"
             }
            },
            "header": {
             "fill": {
              "color": "#C8D4E3"
             },
             "line": {
              "color": "white"
             }
            },
            "type": "table"
           }
          ]
         },
         "layout": {
          "annotationdefaults": {
           "arrowcolor": "#2a3f5f",
           "arrowhead": 0,
           "arrowwidth": 1
          },
          "autotypenumbers": "strict",
          "coloraxis": {
           "colorbar": {
            "outlinewidth": 0,
            "ticks": ""
           }
          },
          "colorscale": {
           "diverging": [
            [
             0,
             "#8e0152"
            ],
            [
             0.1,
             "#c51b7d"
            ],
            [
             0.2,
             "#de77ae"
            ],
            [
             0.3,
             "#f1b6da"
            ],
            [
             0.4,
             "#fde0ef"
            ],
            [
             0.5,
             "#f7f7f7"
            ],
            [
             0.6,
             "#e6f5d0"
            ],
            [
             0.7,
             "#b8e186"
            ],
            [
             0.8,
             "#7fbc41"
            ],
            [
             0.9,
             "#4d9221"
            ],
            [
             1,
             "#276419"
            ]
           ],
           "sequential": [
            [
             0,
             "#0d0887"
            ],
            [
             0.1111111111111111,
             "#46039f"
            ],
            [
             0.2222222222222222,
             "#7201a8"
            ],
            [
             0.3333333333333333,
             "#9c179e"
            ],
            [
             0.4444444444444444,
             "#bd3786"
            ],
            [
             0.5555555555555556,
             "#d8576b"
            ],
            [
             0.6666666666666666,
             "#ed7953"
            ],
            [
             0.7777777777777778,
             "#fb9f3a"
            ],
            [
             0.8888888888888888,
             "#fdca26"
            ],
            [
             1,
             "#f0f921"
            ]
           ],
           "sequentialminus": [
            [
             0,
             "#0d0887"
            ],
            [
             0.1111111111111111,
             "#46039f"
            ],
            [
             0.2222222222222222,
             "#7201a8"
            ],
            [
             0.3333333333333333,
             "#9c179e"
            ],
            [
             0.4444444444444444,
             "#bd3786"
            ],
            [
             0.5555555555555556,
             "#d8576b"
            ],
            [
             0.6666666666666666,
             "#ed7953"
            ],
            [
             0.7777777777777778,
             "#fb9f3a"
            ],
            [
             0.8888888888888888,
             "#fdca26"
            ],
            [
             1,
             "#f0f921"
            ]
           ]
          },
          "colorway": [
           "#636efa",
           "#EF553B",
           "#00cc96",
           "#ab63fa",
           "#FFA15A",
           "#19d3f3",
           "#FF6692",
           "#B6E880",
           "#FF97FF",
           "#FECB52"
          ],
          "font": {
           "color": "#2a3f5f"
          },
          "geo": {
           "bgcolor": "white",
           "lakecolor": "white",
           "landcolor": "#E5ECF6",
           "showlakes": true,
           "showland": true,
           "subunitcolor": "white"
          },
          "hoverlabel": {
           "align": "left"
          },
          "hovermode": "closest",
          "mapbox": {
           "style": "light"
          },
          "paper_bgcolor": "white",
          "plot_bgcolor": "#E5ECF6",
          "polar": {
           "angularaxis": {
            "gridcolor": "white",
            "linecolor": "white",
            "ticks": ""
           },
           "bgcolor": "#E5ECF6",
           "radialaxis": {
            "gridcolor": "white",
            "linecolor": "white",
            "ticks": ""
           }
          },
          "scene": {
           "xaxis": {
            "backgroundcolor": "#E5ECF6",
            "gridcolor": "white",
            "gridwidth": 2,
            "linecolor": "white",
            "showbackground": true,
            "ticks": "",
            "zerolinecolor": "white"
           },
           "yaxis": {
            "backgroundcolor": "#E5ECF6",
            "gridcolor": "white",
            "gridwidth": 2,
            "linecolor": "white",
            "showbackground": true,
            "ticks": "",
            "zerolinecolor": "white"
           },
           "zaxis": {
            "backgroundcolor": "#E5ECF6",
            "gridcolor": "white",
            "gridwidth": 2,
            "linecolor": "white",
            "showbackground": true,
            "ticks": "",
            "zerolinecolor": "white"
           }
          },
          "shapedefaults": {
           "line": {
            "color": "#2a3f5f"
           }
          },
          "ternary": {
           "aaxis": {
            "gridcolor": "white",
            "linecolor": "white",
            "ticks": ""
           },
           "baxis": {
            "gridcolor": "white",
            "linecolor": "white",
            "ticks": ""
           },
           "bgcolor": "#E5ECF6",
           "caxis": {
            "gridcolor": "white",
            "linecolor": "white",
            "ticks": ""
           }
          },
          "title": {
           "x": 0.05
          },
          "xaxis": {
           "automargin": true,
           "gridcolor": "white",
           "linecolor": "white",
           "ticks": "",
           "title": {
            "standoff": 15
           },
           "zerolinecolor": "white",
           "zerolinewidth": 2
          },
          "yaxis": {
           "automargin": true,
           "gridcolor": "white",
           "linecolor": "white",
           "ticks": "",
           "title": {
            "standoff": 15
           },
           "zerolinecolor": "white",
           "zerolinewidth": 2
          }
         }
        },
        "xaxis": {
         "anchor": "y",
         "domain": [
          0,
          0.45
         ]
        },
        "xaxis2": {
         "anchor": "y2",
         "domain": [
          0.55,
          1
         ]
        },
        "yaxis": {
         "anchor": "x",
         "domain": [
          0,
          1
         ]
        },
        "yaxis2": {
         "anchor": "x2",
         "domain": [
          0,
          1
         ]
        }
       }
      },
      "text/html": [
       "<div>                            <div id=\"85fd9a2e-dd22-4be4-a4d5-6562f2c4f19c\" class=\"plotly-graph-div\" style=\"height:525px; width:100%;\"></div>            <script type=\"text/javascript\">                require([\"plotly\"], function(Plotly) {                    window.PLOTLYENV=window.PLOTLYENV || {};                                    if (document.getElementById(\"85fd9a2e-dd22-4be4-a4d5-6562f2c4f19c\")) {                    Plotly.newPlot(                        \"85fd9a2e-dd22-4be4-a4d5-6562f2c4f19c\",                        [{\"name\":\"bt_ax\",\"x\":[0,1,2,3,4,5,6,7,8,9,10,11,12,13,14,15,16,17,18,19,20,21,22,23,24,25,26,27,28,29,30,31,32,33,34,35,36,37,38,39,40,41,42,43,44,45,46],\"y\":[0.3926491,0.521936,0.3830723,0.4285621,0.3184288,0.3615245,0.4788404,0.2442086,0.2322376,0.5267244,0.629675,0.7015011,0.344765,0.3232172,-0.09097966,0.1795651,0.3495534,1.00317,0.5171475,0.6009446,0.5075707,0.7972692,0.7589619,0.7637503,0.8140285,0.5075707,0.6009446,0.4094085,0.2059013,-0.4237737,-0.3926491,-0.3280056,-0.01915361,0.272939,0.1651999,0.3280056,0.1795651,0.2466028,0.1771709,0.1891419,0.3423708,0.2944868,0.2298434,0.2992752,0.3040636,0.3016694,0.296881],\"type\":\"scatter\",\"xaxis\":\"x\",\"yaxis\":\"y\"},{\"name\":\"bt_ay\",\"x\":[0,1,2,3,4,5,6,7,8,9,10,11,12,13,14,15,16,17,18,19,20,21,22,23,24,25,26,27,28,29,30,31,32,33,34,35,36,37,38,39,40,41,42,43,44,45,46],\"y\":[-9.691729,-9.674969,-9.715671,-9.744401,-9.689334,-9.701305,-9.76116,-9.780313,-9.756371,-9.76116,-9.80665,-9.904813,-9.974244,-9.991004,-7.781156,-7.900866,-6.574478,-6.052542,-5.075707,-4.122815,-3.801992,-4.197036,-4.692636,-4.627992,-5.762844,-6.47871,-6.332664,-8.269572,-8.281544,-9.68694,-9.844957,-10.04368,-9.636662,-9.622296,-9.581595,-9.646238,-9.560047,-9.593566,-9.713276,-9.61272,-9.555259,-9.619903,-9.591172,-9.674969,-9.722853,-9.572019,-9.651027],\"type\":\"scatter\",\"xaxis\":\"x\",\"yaxis\":\"y\"},{\"name\":\"bt_az\",\"x\":[0,1,2,3,4,5,6,7,8,9,10,11,12,13,14,15,16,17,18,19,20,21,22,23,24,25,26,27,28,29,30,31,32,33,34,35,36,37,38,39,40,41,42,43,44,45,46],\"y\":[-2.049437,-2.090138,-2.094927,-2.15957,-2.217031,-2.178724,-2.245761,-1.970428,-1.853112,-1.853112,-1.817199,-1.637634,-1.462857,-0.8164227,0.8020576,2.633622,4.596867,6.512228,8.549694,8.884883,9.706094,10.64701,9.945514,8.99741,7.81228,5.801151,3.44765,1.223437,-0.4884171,-1.479617,-1.94888,-2.396596,-2.942474,-2.736573,-2.664747,-2.777274,-2.664747,-2.70066,-2.810793,-2.681506,-2.659958,-2.626439,-2.547431,-2.427721,-2.537854,-2.485181,-2.420538],\"type\":\"scatter\",\"xaxis\":\"x\",\"yaxis\":\"y\"},{\"name\":\"bt_ax\",\"x\":[0,1,2,3,4,5,6,7,8,9,10,11,12,13,14,15,16,17,18,19,20,21,22,23,24,25,26,27,28,29,30,31,32,33,34,35,36,37,38,39,40,41,42,43,44,45,46],\"y\":[0.04635586319148932,0.1756427631914893,0.036779063191489325,0.08226886319148935,-0.02786443680851064,0.015231263191489375,0.13254716319148935,-0.10208463680851065,-0.11405563680851066,0.18043116319148933,0.28338176319148933,0.35520786319148934,-0.0015282368085106635,-0.02307603680851067,-0.43727289680851067,-0.16672813680851065,0.0032601631914893625,0.6568767631914892,0.17085426319148933,0.2546513631914894,0.1612774631914894,0.45097596319148936,0.4126686631914893,0.41745706319148934,0.4677352631914894,0.1612774631914894,0.2546513631914894,0.06311526319148936,-0.14039193680851064,-0.7700669368085107,-0.7389423368085106,-0.6742988368085107,-0.36544684680851064,-0.07335423680851066,-0.18109333680851064,-0.018287636808510643,-0.16672813680851065,-0.09969043680851064,-0.16912233680851066,-0.15715133680851065,-0.0039224368085106764,-0.05180643680851066,-0.11644983680851065,-0.04701803680851063,-0.04222963680851066,-0.044623836808510675,-0.049412236808510646],\"type\":\"scatter\",\"xaxis\":\"x2\",\"yaxis\":\"y2\"},{\"name\":\"bt_ay\",\"x\":[0,1,2,3,4,5,6,7,8,9,10,11,12,13,14,15,16,17,18,19,20,21,22,23,24,25,26,27,28,29,30,31,32,33,34,35,36,37,38,39,40,41,42,43,44,45,46],\"y\":[-9.691729,-9.674969,-9.715671,-9.744401,-9.689334,-9.701305,-9.76116,-9.780313,-9.756371,-9.76116,-9.80665,-9.904813,-9.974244,-9.991004,-7.781156,-7.900866,-6.574478,-6.052542,-5.075707,-4.122815,-3.801992,-4.197036,-4.692636,-4.627992,-5.762844,-6.47871,-6.332664,-8.269572,-8.281544,-9.68694,-9.844957,-10.04368,-9.636662,-9.622296,-9.581595,-9.646238,-9.560047,-9.593566,-9.713276,-9.61272,-9.555259,-9.619903,-9.591172,-9.674969,-9.722853,-9.572019,-9.651027],\"type\":\"scatter\",\"xaxis\":\"x2\",\"yaxis\":\"y2\"},{\"name\":\"bt_az\",\"x\":[0,1,2,3,4,5,6,7,8,9,10,11,12,13,14,15,16,17,18,19,20,21,22,23,24,25,26,27,28,29,30,31,32,33,34,35,36,37,38,39,40,41,42,43,44,45,46],\"y\":[-2.4136101659574467,-2.4543111659574466,-2.4591001659574467,-2.5237431659574465,-2.5812041659574465,-2.5428971659574464,-2.6099341659574464,-2.3346011659574466,-2.217285165957447,-2.217285165957447,-2.1813721659574465,-2.001807165957447,-1.8270301659574468,-1.1805958659574467,0.43788443404255334,2.2694488340425534,4.232693834042553,6.148054834042553,8.185520834042554,8.520709834042554,9.341920834042554,10.282836834042554,9.581340834042553,8.633236834042554,7.448106834042553,5.436977834042553,3.0834768340425533,0.8592638340425534,-0.8525902659574467,-1.8437901659574467,-2.3130531659574465,-2.7607691659574467,-3.3066471659574463,-3.1007461659574465,-3.0289201659574467,-3.1414471659574463,-3.0289201659574467,-3.0648331659574466,-3.1749661659574464,-3.0456791659574467,-3.0241311659574466,-2.9906121659574465,-2.9116041659574465,-2.7918941659574465,-2.9020271659574464,-2.8493541659574464,-2.7847111659574466],\"type\":\"scatter\",\"xaxis\":\"x2\",\"yaxis\":\"y2\"}],                        {\"template\":{\"data\":{\"histogram2dcontour\":[{\"type\":\"histogram2dcontour\",\"colorbar\":{\"outlinewidth\":0,\"ticks\":\"\"},\"colorscale\":[[0.0,\"#0d0887\"],[0.1111111111111111,\"#46039f\"],[0.2222222222222222,\"#7201a8\"],[0.3333333333333333,\"#9c179e\"],[0.4444444444444444,\"#bd3786\"],[0.5555555555555556,\"#d8576b\"],[0.6666666666666666,\"#ed7953\"],[0.7777777777777778,\"#fb9f3a\"],[0.8888888888888888,\"#fdca26\"],[1.0,\"#f0f921\"]]}],\"choropleth\":[{\"type\":\"choropleth\",\"colorbar\":{\"outlinewidth\":0,\"ticks\":\"\"}}],\"histogram2d\":[{\"type\":\"histogram2d\",\"colorbar\":{\"outlinewidth\":0,\"ticks\":\"\"},\"colorscale\":[[0.0,\"#0d0887\"],[0.1111111111111111,\"#46039f\"],[0.2222222222222222,\"#7201a8\"],[0.3333333333333333,\"#9c179e\"],[0.4444444444444444,\"#bd3786\"],[0.5555555555555556,\"#d8576b\"],[0.6666666666666666,\"#ed7953\"],[0.7777777777777778,\"#fb9f3a\"],[0.8888888888888888,\"#fdca26\"],[1.0,\"#f0f921\"]]}],\"heatmap\":[{\"type\":\"heatmap\",\"colorbar\":{\"outlinewidth\":0,\"ticks\":\"\"},\"colorscale\":[[0.0,\"#0d0887\"],[0.1111111111111111,\"#46039f\"],[0.2222222222222222,\"#7201a8\"],[0.3333333333333333,\"#9c179e\"],[0.4444444444444444,\"#bd3786\"],[0.5555555555555556,\"#d8576b\"],[0.6666666666666666,\"#ed7953\"],[0.7777777777777778,\"#fb9f3a\"],[0.8888888888888888,\"#fdca26\"],[1.0,\"#f0f921\"]]}],\"heatmapgl\":[{\"type\":\"heatmapgl\",\"colorbar\":{\"outlinewidth\":0,\"ticks\":\"\"},\"colorscale\":[[0.0,\"#0d0887\"],[0.1111111111111111,\"#46039f\"],[0.2222222222222222,\"#7201a8\"],[0.3333333333333333,\"#9c179e\"],[0.4444444444444444,\"#bd3786\"],[0.5555555555555556,\"#d8576b\"],[0.6666666666666666,\"#ed7953\"],[0.7777777777777778,\"#fb9f3a\"],[0.8888888888888888,\"#fdca26\"],[1.0,\"#f0f921\"]]}],\"contourcarpet\":[{\"type\":\"contourcarpet\",\"colorbar\":{\"outlinewidth\":0,\"ticks\":\"\"}}],\"contour\":[{\"type\":\"contour\",\"colorbar\":{\"outlinewidth\":0,\"ticks\":\"\"},\"colorscale\":[[0.0,\"#0d0887\"],[0.1111111111111111,\"#46039f\"],[0.2222222222222222,\"#7201a8\"],[0.3333333333333333,\"#9c179e\"],[0.4444444444444444,\"#bd3786\"],[0.5555555555555556,\"#d8576b\"],[0.6666666666666666,\"#ed7953\"],[0.7777777777777778,\"#fb9f3a\"],[0.8888888888888888,\"#fdca26\"],[1.0,\"#f0f921\"]]}],\"surface\":[{\"type\":\"surface\",\"colorbar\":{\"outlinewidth\":0,\"ticks\":\"\"},\"colorscale\":[[0.0,\"#0d0887\"],[0.1111111111111111,\"#46039f\"],[0.2222222222222222,\"#7201a8\"],[0.3333333333333333,\"#9c179e\"],[0.4444444444444444,\"#bd3786\"],[0.5555555555555556,\"#d8576b\"],[0.6666666666666666,\"#ed7953\"],[0.7777777777777778,\"#fb9f3a\"],[0.8888888888888888,\"#fdca26\"],[1.0,\"#f0f921\"]]}],\"mesh3d\":[{\"type\":\"mesh3d\",\"colorbar\":{\"outlinewidth\":0,\"ticks\":\"\"}}],\"scatter\":[{\"fillpattern\":{\"fillmode\":\"overlay\",\"size\":10,\"solidity\":0.2},\"type\":\"scatter\"}],\"parcoords\":[{\"type\":\"parcoords\",\"line\":{\"colorbar\":{\"outlinewidth\":0,\"ticks\":\"\"}}}],\"scatterpolargl\":[{\"type\":\"scatterpolargl\",\"marker\":{\"colorbar\":{\"outlinewidth\":0,\"ticks\":\"\"}}}],\"bar\":[{\"error_x\":{\"color\":\"#2a3f5f\"},\"error_y\":{\"color\":\"#2a3f5f\"},\"marker\":{\"line\":{\"color\":\"#E5ECF6\",\"width\":0.5},\"pattern\":{\"fillmode\":\"overlay\",\"size\":10,\"solidity\":0.2}},\"type\":\"bar\"}],\"scattergeo\":[{\"type\":\"scattergeo\",\"marker\":{\"colorbar\":{\"outlinewidth\":0,\"ticks\":\"\"}}}],\"scatterpolar\":[{\"type\":\"scatterpolar\",\"marker\":{\"colorbar\":{\"outlinewidth\":0,\"ticks\":\"\"}}}],\"histogram\":[{\"marker\":{\"pattern\":{\"fillmode\":\"overlay\",\"size\":10,\"solidity\":0.2}},\"type\":\"histogram\"}],\"scattergl\":[{\"type\":\"scattergl\",\"marker\":{\"colorbar\":{\"outlinewidth\":0,\"ticks\":\"\"}}}],\"scatter3d\":[{\"type\":\"scatter3d\",\"line\":{\"colorbar\":{\"outlinewidth\":0,\"ticks\":\"\"}},\"marker\":{\"colorbar\":{\"outlinewidth\":0,\"ticks\":\"\"}}}],\"scattermapbox\":[{\"type\":\"scattermapbox\",\"marker\":{\"colorbar\":{\"outlinewidth\":0,\"ticks\":\"\"}}}],\"scatterternary\":[{\"type\":\"scatterternary\",\"marker\":{\"colorbar\":{\"outlinewidth\":0,\"ticks\":\"\"}}}],\"scattercarpet\":[{\"type\":\"scattercarpet\",\"marker\":{\"colorbar\":{\"outlinewidth\":0,\"ticks\":\"\"}}}],\"carpet\":[{\"aaxis\":{\"endlinecolor\":\"#2a3f5f\",\"gridcolor\":\"white\",\"linecolor\":\"white\",\"minorgridcolor\":\"white\",\"startlinecolor\":\"#2a3f5f\"},\"baxis\":{\"endlinecolor\":\"#2a3f5f\",\"gridcolor\":\"white\",\"linecolor\":\"white\",\"minorgridcolor\":\"white\",\"startlinecolor\":\"#2a3f5f\"},\"type\":\"carpet\"}],\"table\":[{\"cells\":{\"fill\":{\"color\":\"#EBF0F8\"},\"line\":{\"color\":\"white\"}},\"header\":{\"fill\":{\"color\":\"#C8D4E3\"},\"line\":{\"color\":\"white\"}},\"type\":\"table\"}],\"barpolar\":[{\"marker\":{\"line\":{\"color\":\"#E5ECF6\",\"width\":0.5},\"pattern\":{\"fillmode\":\"overlay\",\"size\":10,\"solidity\":0.2}},\"type\":\"barpolar\"}],\"pie\":[{\"automargin\":true,\"type\":\"pie\"}]},\"layout\":{\"autotypenumbers\":\"strict\",\"colorway\":[\"#636efa\",\"#EF553B\",\"#00cc96\",\"#ab63fa\",\"#FFA15A\",\"#19d3f3\",\"#FF6692\",\"#B6E880\",\"#FF97FF\",\"#FECB52\"],\"font\":{\"color\":\"#2a3f5f\"},\"hovermode\":\"closest\",\"hoverlabel\":{\"align\":\"left\"},\"paper_bgcolor\":\"white\",\"plot_bgcolor\":\"#E5ECF6\",\"polar\":{\"bgcolor\":\"#E5ECF6\",\"angularaxis\":{\"gridcolor\":\"white\",\"linecolor\":\"white\",\"ticks\":\"\"},\"radialaxis\":{\"gridcolor\":\"white\",\"linecolor\":\"white\",\"ticks\":\"\"}},\"ternary\":{\"bgcolor\":\"#E5ECF6\",\"aaxis\":{\"gridcolor\":\"white\",\"linecolor\":\"white\",\"ticks\":\"\"},\"baxis\":{\"gridcolor\":\"white\",\"linecolor\":\"white\",\"ticks\":\"\"},\"caxis\":{\"gridcolor\":\"white\",\"linecolor\":\"white\",\"ticks\":\"\"}},\"coloraxis\":{\"colorbar\":{\"outlinewidth\":0,\"ticks\":\"\"}},\"colorscale\":{\"sequential\":[[0.0,\"#0d0887\"],[0.1111111111111111,\"#46039f\"],[0.2222222222222222,\"#7201a8\"],[0.3333333333333333,\"#9c179e\"],[0.4444444444444444,\"#bd3786\"],[0.5555555555555556,\"#d8576b\"],[0.6666666666666666,\"#ed7953\"],[0.7777777777777778,\"#fb9f3a\"],[0.8888888888888888,\"#fdca26\"],[1.0,\"#f0f921\"]],\"sequentialminus\":[[0.0,\"#0d0887\"],[0.1111111111111111,\"#46039f\"],[0.2222222222222222,\"#7201a8\"],[0.3333333333333333,\"#9c179e\"],[0.4444444444444444,\"#bd3786\"],[0.5555555555555556,\"#d8576b\"],[0.6666666666666666,\"#ed7953\"],[0.7777777777777778,\"#fb9f3a\"],[0.8888888888888888,\"#fdca26\"],[1.0,\"#f0f921\"]],\"diverging\":[[0,\"#8e0152\"],[0.1,\"#c51b7d\"],[0.2,\"#de77ae\"],[0.3,\"#f1b6da\"],[0.4,\"#fde0ef\"],[0.5,\"#f7f7f7\"],[0.6,\"#e6f5d0\"],[0.7,\"#b8e186\"],[0.8,\"#7fbc41\"],[0.9,\"#4d9221\"],[1,\"#276419\"]]},\"xaxis\":{\"gridcolor\":\"white\",\"linecolor\":\"white\",\"ticks\":\"\",\"title\":{\"standoff\":15},\"zerolinecolor\":\"white\",\"automargin\":true,\"zerolinewidth\":2},\"yaxis\":{\"gridcolor\":\"white\",\"linecolor\":\"white\",\"ticks\":\"\",\"title\":{\"standoff\":15},\"zerolinecolor\":\"white\",\"automargin\":true,\"zerolinewidth\":2},\"scene\":{\"xaxis\":{\"backgroundcolor\":\"#E5ECF6\",\"gridcolor\":\"white\",\"linecolor\":\"white\",\"showbackground\":true,\"ticks\":\"\",\"zerolinecolor\":\"white\",\"gridwidth\":2},\"yaxis\":{\"backgroundcolor\":\"#E5ECF6\",\"gridcolor\":\"white\",\"linecolor\":\"white\",\"showbackground\":true,\"ticks\":\"\",\"zerolinecolor\":\"white\",\"gridwidth\":2},\"zaxis\":{\"backgroundcolor\":\"#E5ECF6\",\"gridcolor\":\"white\",\"linecolor\":\"white\",\"showbackground\":true,\"ticks\":\"\",\"zerolinecolor\":\"white\",\"gridwidth\":2}},\"shapedefaults\":{\"line\":{\"color\":\"#2a3f5f\"}},\"annotationdefaults\":{\"arrowcolor\":\"#2a3f5f\",\"arrowhead\":0,\"arrowwidth\":1},\"geo\":{\"bgcolor\":\"white\",\"landcolor\":\"#E5ECF6\",\"subunitcolor\":\"white\",\"showland\":true,\"showlakes\":true,\"lakecolor\":\"white\"},\"title\":{\"x\":0.05},\"mapbox\":{\"style\":\"light\"}}},\"xaxis\":{\"anchor\":\"y\",\"domain\":[0.0,0.45]},\"yaxis\":{\"anchor\":\"x\",\"domain\":[0.0,1.0]},\"xaxis2\":{\"anchor\":\"y2\",\"domain\":[0.55,1.0]},\"yaxis2\":{\"anchor\":\"x2\",\"domain\":[0.0,1.0]},\"annotations\":[{\"font\":{\"size\":16},\"showarrow\":false,\"text\":\"Non-calibrated left-bot sensor  accel\",\"x\":0.225,\"xanchor\":\"center\",\"xref\":\"paper\",\"y\":1.0,\"yanchor\":\"bottom\",\"yref\":\"paper\"},{\"font\":{\"size\":16},\"showarrow\":false,\"text\":\"Calibrated left-bot sensor  accel\",\"x\":0.775,\"xanchor\":\"center\",\"xref\":\"paper\",\"y\":1.0,\"yanchor\":\"bottom\",\"yref\":\"paper\"}],\"legend\":{\"orientation\":\"h\",\"x\":0.5,\"xanchor\":\"center\"},\"margin\":{\"l\":0,\"r\":0,\"t\":40,\"b\":0},\"hovermode\":\"x\"},                        {\"responsive\": true}                    ).then(function(){\n",
       "                            \n",
       "var gd = document.getElementById('85fd9a2e-dd22-4be4-a4d5-6562f2c4f19c');\n",
       "var x = new MutationObserver(function (mutations, observer) {{\n",
       "        var display = window.getComputedStyle(gd).display;\n",
       "        if (!display || display === 'none') {{\n",
       "            console.log([gd, 'removed!']);\n",
       "            Plotly.purge(gd);\n",
       "            observer.disconnect();\n",
       "        }}\n",
       "}});\n",
       "\n",
       "// Listen for the removal of the full notebook cells\n",
       "var notebookContainer = gd.closest('#notebook-container');\n",
       "if (notebookContainer) {{\n",
       "    x.observe(notebookContainer, {childList: true});\n",
       "}}\n",
       "\n",
       "// Listen for the clearing of the current output cell\n",
       "var outputEl = gd.closest('.output');\n",
       "if (outputEl) {{\n",
       "    x.observe(outputEl, {childList: true});\n",
       "}}\n",
       "\n",
       "                        })                };                });            </script>        </div>"
      ]
     },
     "metadata": {},
     "output_type": "display_data"
    }
   ],
   "source": [
    "df_1 = pd.read_csv('dataset/__Vadim1.csv',sep = ' ',header = None)\n",
    "df_1.columns = [\"s1\",\"bt_ax\",\"bt_ay\",\"bt_az\",\"bt_gx\",\"bt_gy\",\"bt_gz\",\n",
    "             \"s2\",\"bb_ax\",\"bb_ay\",\"bb_az\",\"bb_gx\",\"bb_gy\",\"bb_gz\",\n",
    "             \"s3\",\"lt_ax\",\"lt_ay\",\"lt_az\",\"lt_gx\",\"lt_gy\",\"lt_gz\",\n",
    "             \"s4\",\"lb_ax\",\"lb_ay\",\"lb_az\",\"lb_gx\",\"lb_gy\",\"lb_gz\",\n",
    "            \"s5\",\"rt_ax\",\"rt_ay\",\"rt_az\",\"rt_gx\",\"rt_gy\",\"rt_gz\",\n",
    "             \"s6\",\"rb_ax\",\"rb_ay\",\"rb_az\",\"rb_gx\",\"rb_gy\",\"rb_gz\",\n",
    "             ]\n",
    "df\n",
    "\n",
    "bt_1 = df_1[[\"bt_ax\",\"bt_ay\",\"bt_az\",\"bt_gx\",\"bt_gy\",\"bt_gz\"]]\n",
    "bb_1 = df_1[[\"bb_ax\",\"bb_ay\",\"bb_az\",\"bb_gx\",\"bb_gy\",\"bb_gz\"]]\n",
    "lt_1 = df_1[[\"lt_ax\",\"lt_ay\",\"lt_az\",\"lt_gx\",\"lt_gy\",\"lt_gz\"]]\n",
    "lb_1 = df_1[[\"lb_ax\",\"lb_ay\",\"lb_az\",\"lb_gx\",\"lb_gy\",\"lb_gz\"]]\n",
    "rt_1 = df_1[[\"rt_ax\",\"rt_ay\",\"rt_az\",\"rt_gx\",\"rt_gy\",\"rt_gz\"]]\n",
    "rb_1 = df_1[[\"rb_ax\",\"rb_ay\",\"rb_az\",\"rb_gx\",\"rb_gy\",\"rb_gz\"]]\n",
    "\n",
    "\n",
    "calibrated_bt = calibration(bt,bt_outl)\n",
    "show_plots(bt,calibrated_bt,title_t,title_b,True)"
   ]
  },
  {
   "cell_type": "markdown",
   "id": "fe875119",
   "metadata": {},
   "source": [
    "# find orientation"
   ]
  },
  {
   "cell_type": "code",
   "execution_count": 38,
   "id": "218e64cf",
   "metadata": {},
   "outputs": [],
   "source": [
    "import madgwickahrs as mg\n",
    "from quaternion import Quaternion"
   ]
  },
  {
   "cell_type": "code",
   "execution_count": 39,
   "id": "f125a81a",
   "metadata": {},
   "outputs": [
    {
     "data": {
      "application/vnd.plotly.v1+json": {
       "config": {
        "plotlyServerURL": "https://plot.ly"
       },
       "data": [
        {
         "name": "roll",
         "type": "scatter",
         "x": [
          0,
          1,
          2,
          3,
          4,
          5,
          6,
          7,
          8,
          9,
          10,
          11,
          12,
          13,
          14,
          15,
          16,
          17,
          18,
          19,
          20,
          21,
          22,
          23,
          24,
          25,
          26,
          27,
          28,
          29,
          30,
          31,
          32,
          33
         ],
         "y": [
          0,
          -0.07018409471418731,
          0.6061966885229365,
          1.3856308067078804,
          3.0407903493383923,
          3.771674888752926,
          4.194315239063736,
          3.9386349351786665,
          2.953794377693415,
          1.5631522219190745,
          0.17342588188447114,
          -0.43904836176207074,
          -0.9557974121196716,
          -1.181248714835069,
          -1.1813564730298032,
          -1.114594074853389,
          -1.0318011197101278,
          -0.9902294985459945,
          -0.9156806039337527,
          -0.8397579857119052,
          -0.8110107757437821,
          -0.6947826392825436,
          -0.6202337446703017,
          -0.5676695844319065,
          -0.4922048740799276,
          -0.41444993682925163,
          -0.35180974080568583,
          -0.3207724414487366,
          -0.31630005524328636,
          -0.273812274564739,
          -0.23590474141877918,
          -0.15356969414538651,
          -0.08497532071482124,
          -0.028747209968123518
         ]
        },
        {
         "name": "pitch",
         "type": "scatter",
         "x": [
          0,
          1,
          2,
          3,
          4,
          5,
          6,
          7,
          8,
          9,
          10,
          11,
          12,
          13,
          14,
          15,
          16,
          17,
          18,
          19,
          20,
          21,
          22,
          23,
          24,
          25,
          26,
          27,
          28,
          29,
          30,
          31,
          32,
          33
         ],
         "y": [
          0,
          -0.35665919323238326,
          -1.1218678788801475,
          -0.49058819580611235,
          -0.7194611161933279,
          -2.159326574283605,
          -3.1301843657318185,
          -3.18317941112826,
          -2.903655478035773,
          -2.9827573912039735,
          -2.651477492927965,
          -1.7696634195660503,
          -0.8090706287541821,
          -0.5139740465647163,
          0.28035899717167995,
          0.4073638570315224,
          0.3168115656741264,
          0.3952669155184939,
          0.5076152857957719,
          0.6309561951473116,
          0.5060527348448627,
          0.5235920713476139,
          0.5933451433938841,
          0.550426408802355,
          0.5221641981708582,
          0.5406195223006851,
          0.5796855477975434,
          0.4845530776624953,
          0.35827558435323137,
          0.33413550711964735,
          0.2660259611383698,
          0.1924202487523644,
          0.17560841631006266,
          0.0777278801613844
         ]
        },
        {
         "name": "yaw",
         "type": "scatter",
         "x": [
          0,
          1,
          2,
          3,
          4,
          5,
          6,
          7,
          8,
          9,
          10,
          11,
          12,
          13,
          14,
          15,
          16,
          17,
          18,
          19,
          20,
          21,
          22,
          23,
          24,
          25,
          26,
          27,
          28,
          29,
          30,
          31,
          32,
          33
         ],
         "y": [
          0,
          2.146987102870314,
          4.805577273746103,
          6.68141966311365,
          7.444284659946033,
          8.072951023636637,
          8.710319699502808,
          8.547535694489865,
          7.560324253590071,
          6.364715572121263,
          4.7500228701650835,
          2.7373147225809644,
          0.6403319317844387,
          -1.751612625917529,
          -2.5702744366178316,
          -2.657943949708866,
          -2.446987470366415,
          -2.341374518493013,
          -2.2101127098501236,
          -2.151217313364526,
          -1.9072837324613043,
          -1.559838702475588,
          -1.4189585596525898,
          -1.2730402614271357,
          -1.1216257624194859,
          -1.0302112788131363,
          -0.8792547908077583,
          -0.7617334497428896,
          -0.6588685879473453,
          -0.5587518127919114,
          -0.5145129093266251,
          -0.38737323408164814,
          -0.2373328024582811,
          -0.09370455924418519
         ]
        }
       ],
       "layout": {
        "template": {
         "data": {
          "bar": [
           {
            "error_x": {
             "color": "#2a3f5f"
            },
            "error_y": {
             "color": "#2a3f5f"
            },
            "marker": {
             "line": {
              "color": "#E5ECF6",
              "width": 0.5
             },
             "pattern": {
              "fillmode": "overlay",
              "size": 10,
              "solidity": 0.2
             }
            },
            "type": "bar"
           }
          ],
          "barpolar": [
           {
            "marker": {
             "line": {
              "color": "#E5ECF6",
              "width": 0.5
             },
             "pattern": {
              "fillmode": "overlay",
              "size": 10,
              "solidity": 0.2
             }
            },
            "type": "barpolar"
           }
          ],
          "carpet": [
           {
            "aaxis": {
             "endlinecolor": "#2a3f5f",
             "gridcolor": "white",
             "linecolor": "white",
             "minorgridcolor": "white",
             "startlinecolor": "#2a3f5f"
            },
            "baxis": {
             "endlinecolor": "#2a3f5f",
             "gridcolor": "white",
             "linecolor": "white",
             "minorgridcolor": "white",
             "startlinecolor": "#2a3f5f"
            },
            "type": "carpet"
           }
          ],
          "choropleth": [
           {
            "colorbar": {
             "outlinewidth": 0,
             "ticks": ""
            },
            "type": "choropleth"
           }
          ],
          "contour": [
           {
            "colorbar": {
             "outlinewidth": 0,
             "ticks": ""
            },
            "colorscale": [
             [
              0,
              "#0d0887"
             ],
             [
              0.1111111111111111,
              "#46039f"
             ],
             [
              0.2222222222222222,
              "#7201a8"
             ],
             [
              0.3333333333333333,
              "#9c179e"
             ],
             [
              0.4444444444444444,
              "#bd3786"
             ],
             [
              0.5555555555555556,
              "#d8576b"
             ],
             [
              0.6666666666666666,
              "#ed7953"
             ],
             [
              0.7777777777777778,
              "#fb9f3a"
             ],
             [
              0.8888888888888888,
              "#fdca26"
             ],
             [
              1,
              "#f0f921"
             ]
            ],
            "type": "contour"
           }
          ],
          "contourcarpet": [
           {
            "colorbar": {
             "outlinewidth": 0,
             "ticks": ""
            },
            "type": "contourcarpet"
           }
          ],
          "heatmap": [
           {
            "colorbar": {
             "outlinewidth": 0,
             "ticks": ""
            },
            "colorscale": [
             [
              0,
              "#0d0887"
             ],
             [
              0.1111111111111111,
              "#46039f"
             ],
             [
              0.2222222222222222,
              "#7201a8"
             ],
             [
              0.3333333333333333,
              "#9c179e"
             ],
             [
              0.4444444444444444,
              "#bd3786"
             ],
             [
              0.5555555555555556,
              "#d8576b"
             ],
             [
              0.6666666666666666,
              "#ed7953"
             ],
             [
              0.7777777777777778,
              "#fb9f3a"
             ],
             [
              0.8888888888888888,
              "#fdca26"
             ],
             [
              1,
              "#f0f921"
             ]
            ],
            "type": "heatmap"
           }
          ],
          "heatmapgl": [
           {
            "colorbar": {
             "outlinewidth": 0,
             "ticks": ""
            },
            "colorscale": [
             [
              0,
              "#0d0887"
             ],
             [
              0.1111111111111111,
              "#46039f"
             ],
             [
              0.2222222222222222,
              "#7201a8"
             ],
             [
              0.3333333333333333,
              "#9c179e"
             ],
             [
              0.4444444444444444,
              "#bd3786"
             ],
             [
              0.5555555555555556,
              "#d8576b"
             ],
             [
              0.6666666666666666,
              "#ed7953"
             ],
             [
              0.7777777777777778,
              "#fb9f3a"
             ],
             [
              0.8888888888888888,
              "#fdca26"
             ],
             [
              1,
              "#f0f921"
             ]
            ],
            "type": "heatmapgl"
           }
          ],
          "histogram": [
           {
            "marker": {
             "pattern": {
              "fillmode": "overlay",
              "size": 10,
              "solidity": 0.2
             }
            },
            "type": "histogram"
           }
          ],
          "histogram2d": [
           {
            "colorbar": {
             "outlinewidth": 0,
             "ticks": ""
            },
            "colorscale": [
             [
              0,
              "#0d0887"
             ],
             [
              0.1111111111111111,
              "#46039f"
             ],
             [
              0.2222222222222222,
              "#7201a8"
             ],
             [
              0.3333333333333333,
              "#9c179e"
             ],
             [
              0.4444444444444444,
              "#bd3786"
             ],
             [
              0.5555555555555556,
              "#d8576b"
             ],
             [
              0.6666666666666666,
              "#ed7953"
             ],
             [
              0.7777777777777778,
              "#fb9f3a"
             ],
             [
              0.8888888888888888,
              "#fdca26"
             ],
             [
              1,
              "#f0f921"
             ]
            ],
            "type": "histogram2d"
           }
          ],
          "histogram2dcontour": [
           {
            "colorbar": {
             "outlinewidth": 0,
             "ticks": ""
            },
            "colorscale": [
             [
              0,
              "#0d0887"
             ],
             [
              0.1111111111111111,
              "#46039f"
             ],
             [
              0.2222222222222222,
              "#7201a8"
             ],
             [
              0.3333333333333333,
              "#9c179e"
             ],
             [
              0.4444444444444444,
              "#bd3786"
             ],
             [
              0.5555555555555556,
              "#d8576b"
             ],
             [
              0.6666666666666666,
              "#ed7953"
             ],
             [
              0.7777777777777778,
              "#fb9f3a"
             ],
             [
              0.8888888888888888,
              "#fdca26"
             ],
             [
              1,
              "#f0f921"
             ]
            ],
            "type": "histogram2dcontour"
           }
          ],
          "mesh3d": [
           {
            "colorbar": {
             "outlinewidth": 0,
             "ticks": ""
            },
            "type": "mesh3d"
           }
          ],
          "parcoords": [
           {
            "line": {
             "colorbar": {
              "outlinewidth": 0,
              "ticks": ""
             }
            },
            "type": "parcoords"
           }
          ],
          "pie": [
           {
            "automargin": true,
            "type": "pie"
           }
          ],
          "scatter": [
           {
            "fillpattern": {
             "fillmode": "overlay",
             "size": 10,
             "solidity": 0.2
            },
            "type": "scatter"
           }
          ],
          "scatter3d": [
           {
            "line": {
             "colorbar": {
              "outlinewidth": 0,
              "ticks": ""
             }
            },
            "marker": {
             "colorbar": {
              "outlinewidth": 0,
              "ticks": ""
             }
            },
            "type": "scatter3d"
           }
          ],
          "scattercarpet": [
           {
            "marker": {
             "colorbar": {
              "outlinewidth": 0,
              "ticks": ""
             }
            },
            "type": "scattercarpet"
           }
          ],
          "scattergeo": [
           {
            "marker": {
             "colorbar": {
              "outlinewidth": 0,
              "ticks": ""
             }
            },
            "type": "scattergeo"
           }
          ],
          "scattergl": [
           {
            "marker": {
             "colorbar": {
              "outlinewidth": 0,
              "ticks": ""
             }
            },
            "type": "scattergl"
           }
          ],
          "scattermapbox": [
           {
            "marker": {
             "colorbar": {
              "outlinewidth": 0,
              "ticks": ""
             }
            },
            "type": "scattermapbox"
           }
          ],
          "scatterpolar": [
           {
            "marker": {
             "colorbar": {
              "outlinewidth": 0,
              "ticks": ""
             }
            },
            "type": "scatterpolar"
           }
          ],
          "scatterpolargl": [
           {
            "marker": {
             "colorbar": {
              "outlinewidth": 0,
              "ticks": ""
             }
            },
            "type": "scatterpolargl"
           }
          ],
          "scatterternary": [
           {
            "marker": {
             "colorbar": {
              "outlinewidth": 0,
              "ticks": ""
             }
            },
            "type": "scatterternary"
           }
          ],
          "surface": [
           {
            "colorbar": {
             "outlinewidth": 0,
             "ticks": ""
            },
            "colorscale": [
             [
              0,
              "#0d0887"
             ],
             [
              0.1111111111111111,
              "#46039f"
             ],
             [
              0.2222222222222222,
              "#7201a8"
             ],
             [
              0.3333333333333333,
              "#9c179e"
             ],
             [
              0.4444444444444444,
              "#bd3786"
             ],
             [
              0.5555555555555556,
              "#d8576b"
             ],
             [
              0.6666666666666666,
              "#ed7953"
             ],
             [
              0.7777777777777778,
              "#fb9f3a"
             ],
             [
              0.8888888888888888,
              "#fdca26"
             ],
             [
              1,
              "#f0f921"
             ]
            ],
            "type": "surface"
           }
          ],
          "table": [
           {
            "cells": {
             "fill": {
              "color": "#EBF0F8"
             },
             "line": {
              "color": "white"
             }
            },
            "header": {
             "fill": {
              "color": "#C8D4E3"
             },
             "line": {
              "color": "white"
             }
            },
            "type": "table"
           }
          ]
         },
         "layout": {
          "annotationdefaults": {
           "arrowcolor": "#2a3f5f",
           "arrowhead": 0,
           "arrowwidth": 1
          },
          "autotypenumbers": "strict",
          "coloraxis": {
           "colorbar": {
            "outlinewidth": 0,
            "ticks": ""
           }
          },
          "colorscale": {
           "diverging": [
            [
             0,
             "#8e0152"
            ],
            [
             0.1,
             "#c51b7d"
            ],
            [
             0.2,
             "#de77ae"
            ],
            [
             0.3,
             "#f1b6da"
            ],
            [
             0.4,
             "#fde0ef"
            ],
            [
             0.5,
             "#f7f7f7"
            ],
            [
             0.6,
             "#e6f5d0"
            ],
            [
             0.7,
             "#b8e186"
            ],
            [
             0.8,
             "#7fbc41"
            ],
            [
             0.9,
             "#4d9221"
            ],
            [
             1,
             "#276419"
            ]
           ],
           "sequential": [
            [
             0,
             "#0d0887"
            ],
            [
             0.1111111111111111,
             "#46039f"
            ],
            [
             0.2222222222222222,
             "#7201a8"
            ],
            [
             0.3333333333333333,
             "#9c179e"
            ],
            [
             0.4444444444444444,
             "#bd3786"
            ],
            [
             0.5555555555555556,
             "#d8576b"
            ],
            [
             0.6666666666666666,
             "#ed7953"
            ],
            [
             0.7777777777777778,
             "#fb9f3a"
            ],
            [
             0.8888888888888888,
             "#fdca26"
            ],
            [
             1,
             "#f0f921"
            ]
           ],
           "sequentialminus": [
            [
             0,
             "#0d0887"
            ],
            [
             0.1111111111111111,
             "#46039f"
            ],
            [
             0.2222222222222222,
             "#7201a8"
            ],
            [
             0.3333333333333333,
             "#9c179e"
            ],
            [
             0.4444444444444444,
             "#bd3786"
            ],
            [
             0.5555555555555556,
             "#d8576b"
            ],
            [
             0.6666666666666666,
             "#ed7953"
            ],
            [
             0.7777777777777778,
             "#fb9f3a"
            ],
            [
             0.8888888888888888,
             "#fdca26"
            ],
            [
             1,
             "#f0f921"
            ]
           ]
          },
          "colorway": [
           "#636efa",
           "#EF553B",
           "#00cc96",
           "#ab63fa",
           "#FFA15A",
           "#19d3f3",
           "#FF6692",
           "#B6E880",
           "#FF97FF",
           "#FECB52"
          ],
          "font": {
           "color": "#2a3f5f"
          },
          "geo": {
           "bgcolor": "white",
           "lakecolor": "white",
           "landcolor": "#E5ECF6",
           "showlakes": true,
           "showland": true,
           "subunitcolor": "white"
          },
          "hoverlabel": {
           "align": "left"
          },
          "hovermode": "closest",
          "mapbox": {
           "style": "light"
          },
          "paper_bgcolor": "white",
          "plot_bgcolor": "#E5ECF6",
          "polar": {
           "angularaxis": {
            "gridcolor": "white",
            "linecolor": "white",
            "ticks": ""
           },
           "bgcolor": "#E5ECF6",
           "radialaxis": {
            "gridcolor": "white",
            "linecolor": "white",
            "ticks": ""
           }
          },
          "scene": {
           "xaxis": {
            "backgroundcolor": "#E5ECF6",
            "gridcolor": "white",
            "gridwidth": 2,
            "linecolor": "white",
            "showbackground": true,
            "ticks": "",
            "zerolinecolor": "white"
           },
           "yaxis": {
            "backgroundcolor": "#E5ECF6",
            "gridcolor": "white",
            "gridwidth": 2,
            "linecolor": "white",
            "showbackground": true,
            "ticks": "",
            "zerolinecolor": "white"
           },
           "zaxis": {
            "backgroundcolor": "#E5ECF6",
            "gridcolor": "white",
            "gridwidth": 2,
            "linecolor": "white",
            "showbackground": true,
            "ticks": "",
            "zerolinecolor": "white"
           }
          },
          "shapedefaults": {
           "line": {
            "color": "#2a3f5f"
           }
          },
          "ternary": {
           "aaxis": {
            "gridcolor": "white",
            "linecolor": "white",
            "ticks": ""
           },
           "baxis": {
            "gridcolor": "white",
            "linecolor": "white",
            "ticks": ""
           },
           "bgcolor": "#E5ECF6",
           "caxis": {
            "gridcolor": "white",
            "linecolor": "white",
            "ticks": ""
           }
          },
          "title": {
           "x": 0.05
          },
          "xaxis": {
           "automargin": true,
           "gridcolor": "white",
           "linecolor": "white",
           "ticks": "",
           "title": {
            "standoff": 15
           },
           "zerolinecolor": "white",
           "zerolinewidth": 2
          },
          "yaxis": {
           "automargin": true,
           "gridcolor": "white",
           "linecolor": "white",
           "ticks": "",
           "title": {
            "standoff": 15
           },
           "zerolinecolor": "white",
           "zerolinewidth": 2
          }
         }
        },
        "title": {
         "text": "Orientation only with  gyro"
        }
       }
      },
      "text/html": [
       "<div>                            <div id=\"721d2a9c-2bb5-43f2-bc3b-d656e5a5c9da\" class=\"plotly-graph-div\" style=\"height:525px; width:100%;\"></div>            <script type=\"text/javascript\">                require([\"plotly\"], function(Plotly) {                    window.PLOTLYENV=window.PLOTLYENV || {};                                    if (document.getElementById(\"721d2a9c-2bb5-43f2-bc3b-d656e5a5c9da\")) {                    Plotly.newPlot(                        \"721d2a9c-2bb5-43f2-bc3b-d656e5a5c9da\",                        [{\"name\":\"roll\",\"x\":[0,1,2,3,4,5,6,7,8,9,10,11,12,13,14,15,16,17,18,19,20,21,22,23,24,25,26,27,28,29,30,31,32,33],\"y\":[0.0,-0.07018409471418731,0.6061966885229365,1.3856308067078804,3.0407903493383923,3.771674888752926,4.194315239063736,3.9386349351786665,2.953794377693415,1.5631522219190745,0.17342588188447114,-0.43904836176207074,-0.9557974121196716,-1.181248714835069,-1.1813564730298032,-1.114594074853389,-1.0318011197101278,-0.9902294985459945,-0.9156806039337527,-0.8397579857119052,-0.8110107757437821,-0.6947826392825436,-0.6202337446703017,-0.5676695844319065,-0.4922048740799276,-0.41444993682925163,-0.35180974080568583,-0.3207724414487366,-0.31630005524328636,-0.273812274564739,-0.23590474141877918,-0.15356969414538651,-0.08497532071482124,-0.028747209968123518],\"type\":\"scatter\"},{\"name\":\"pitch\",\"x\":[0,1,2,3,4,5,6,7,8,9,10,11,12,13,14,15,16,17,18,19,20,21,22,23,24,25,26,27,28,29,30,31,32,33],\"y\":[0.0,-0.35665919323238326,-1.1218678788801475,-0.49058819580611235,-0.7194611161933279,-2.159326574283605,-3.1301843657318185,-3.18317941112826,-2.903655478035773,-2.9827573912039735,-2.651477492927965,-1.7696634195660503,-0.8090706287541821,-0.5139740465647163,0.28035899717167995,0.4073638570315224,0.3168115656741264,0.3952669155184939,0.5076152857957719,0.6309561951473116,0.5060527348448627,0.5235920713476139,0.5933451433938841,0.550426408802355,0.5221641981708582,0.5406195223006851,0.5796855477975434,0.4845530776624953,0.35827558435323137,0.33413550711964735,0.2660259611383698,0.1924202487523644,0.17560841631006266,0.0777278801613844],\"type\":\"scatter\"},{\"name\":\"yaw\",\"x\":[0,1,2,3,4,5,6,7,8,9,10,11,12,13,14,15,16,17,18,19,20,21,22,23,24,25,26,27,28,29,30,31,32,33],\"y\":[0.0,2.146987102870314,4.805577273746103,6.68141966311365,7.444284659946033,8.072951023636637,8.710319699502808,8.547535694489865,7.560324253590071,6.364715572121263,4.7500228701650835,2.7373147225809644,0.6403319317844387,-1.751612625917529,-2.5702744366178316,-2.657943949708866,-2.446987470366415,-2.341374518493013,-2.2101127098501236,-2.151217313364526,-1.9072837324613043,-1.559838702475588,-1.4189585596525898,-1.2730402614271357,-1.1216257624194859,-1.0302112788131363,-0.8792547908077583,-0.7617334497428896,-0.6588685879473453,-0.5587518127919114,-0.5145129093266251,-0.38737323408164814,-0.2373328024582811,-0.09370455924418519],\"type\":\"scatter\"}],                        {\"template\":{\"data\":{\"histogram2dcontour\":[{\"type\":\"histogram2dcontour\",\"colorbar\":{\"outlinewidth\":0,\"ticks\":\"\"},\"colorscale\":[[0.0,\"#0d0887\"],[0.1111111111111111,\"#46039f\"],[0.2222222222222222,\"#7201a8\"],[0.3333333333333333,\"#9c179e\"],[0.4444444444444444,\"#bd3786\"],[0.5555555555555556,\"#d8576b\"],[0.6666666666666666,\"#ed7953\"],[0.7777777777777778,\"#fb9f3a\"],[0.8888888888888888,\"#fdca26\"],[1.0,\"#f0f921\"]]}],\"choropleth\":[{\"type\":\"choropleth\",\"colorbar\":{\"outlinewidth\":0,\"ticks\":\"\"}}],\"histogram2d\":[{\"type\":\"histogram2d\",\"colorbar\":{\"outlinewidth\":0,\"ticks\":\"\"},\"colorscale\":[[0.0,\"#0d0887\"],[0.1111111111111111,\"#46039f\"],[0.2222222222222222,\"#7201a8\"],[0.3333333333333333,\"#9c179e\"],[0.4444444444444444,\"#bd3786\"],[0.5555555555555556,\"#d8576b\"],[0.6666666666666666,\"#ed7953\"],[0.7777777777777778,\"#fb9f3a\"],[0.8888888888888888,\"#fdca26\"],[1.0,\"#f0f921\"]]}],\"heatmap\":[{\"type\":\"heatmap\",\"colorbar\":{\"outlinewidth\":0,\"ticks\":\"\"},\"colorscale\":[[0.0,\"#0d0887\"],[0.1111111111111111,\"#46039f\"],[0.2222222222222222,\"#7201a8\"],[0.3333333333333333,\"#9c179e\"],[0.4444444444444444,\"#bd3786\"],[0.5555555555555556,\"#d8576b\"],[0.6666666666666666,\"#ed7953\"],[0.7777777777777778,\"#fb9f3a\"],[0.8888888888888888,\"#fdca26\"],[1.0,\"#f0f921\"]]}],\"heatmapgl\":[{\"type\":\"heatmapgl\",\"colorbar\":{\"outlinewidth\":0,\"ticks\":\"\"},\"colorscale\":[[0.0,\"#0d0887\"],[0.1111111111111111,\"#46039f\"],[0.2222222222222222,\"#7201a8\"],[0.3333333333333333,\"#9c179e\"],[0.4444444444444444,\"#bd3786\"],[0.5555555555555556,\"#d8576b\"],[0.6666666666666666,\"#ed7953\"],[0.7777777777777778,\"#fb9f3a\"],[0.8888888888888888,\"#fdca26\"],[1.0,\"#f0f921\"]]}],\"contourcarpet\":[{\"type\":\"contourcarpet\",\"colorbar\":{\"outlinewidth\":0,\"ticks\":\"\"}}],\"contour\":[{\"type\":\"contour\",\"colorbar\":{\"outlinewidth\":0,\"ticks\":\"\"},\"colorscale\":[[0.0,\"#0d0887\"],[0.1111111111111111,\"#46039f\"],[0.2222222222222222,\"#7201a8\"],[0.3333333333333333,\"#9c179e\"],[0.4444444444444444,\"#bd3786\"],[0.5555555555555556,\"#d8576b\"],[0.6666666666666666,\"#ed7953\"],[0.7777777777777778,\"#fb9f3a\"],[0.8888888888888888,\"#fdca26\"],[1.0,\"#f0f921\"]]}],\"surface\":[{\"type\":\"surface\",\"colorbar\":{\"outlinewidth\":0,\"ticks\":\"\"},\"colorscale\":[[0.0,\"#0d0887\"],[0.1111111111111111,\"#46039f\"],[0.2222222222222222,\"#7201a8\"],[0.3333333333333333,\"#9c179e\"],[0.4444444444444444,\"#bd3786\"],[0.5555555555555556,\"#d8576b\"],[0.6666666666666666,\"#ed7953\"],[0.7777777777777778,\"#fb9f3a\"],[0.8888888888888888,\"#fdca26\"],[1.0,\"#f0f921\"]]}],\"mesh3d\":[{\"type\":\"mesh3d\",\"colorbar\":{\"outlinewidth\":0,\"ticks\":\"\"}}],\"scatter\":[{\"fillpattern\":{\"fillmode\":\"overlay\",\"size\":10,\"solidity\":0.2},\"type\":\"scatter\"}],\"parcoords\":[{\"type\":\"parcoords\",\"line\":{\"colorbar\":{\"outlinewidth\":0,\"ticks\":\"\"}}}],\"scatterpolargl\":[{\"type\":\"scatterpolargl\",\"marker\":{\"colorbar\":{\"outlinewidth\":0,\"ticks\":\"\"}}}],\"bar\":[{\"error_x\":{\"color\":\"#2a3f5f\"},\"error_y\":{\"color\":\"#2a3f5f\"},\"marker\":{\"line\":{\"color\":\"#E5ECF6\",\"width\":0.5},\"pattern\":{\"fillmode\":\"overlay\",\"size\":10,\"solidity\":0.2}},\"type\":\"bar\"}],\"scattergeo\":[{\"type\":\"scattergeo\",\"marker\":{\"colorbar\":{\"outlinewidth\":0,\"ticks\":\"\"}}}],\"scatterpolar\":[{\"type\":\"scatterpolar\",\"marker\":{\"colorbar\":{\"outlinewidth\":0,\"ticks\":\"\"}}}],\"histogram\":[{\"marker\":{\"pattern\":{\"fillmode\":\"overlay\",\"size\":10,\"solidity\":0.2}},\"type\":\"histogram\"}],\"scattergl\":[{\"type\":\"scattergl\",\"marker\":{\"colorbar\":{\"outlinewidth\":0,\"ticks\":\"\"}}}],\"scatter3d\":[{\"type\":\"scatter3d\",\"line\":{\"colorbar\":{\"outlinewidth\":0,\"ticks\":\"\"}},\"marker\":{\"colorbar\":{\"outlinewidth\":0,\"ticks\":\"\"}}}],\"scattermapbox\":[{\"type\":\"scattermapbox\",\"marker\":{\"colorbar\":{\"outlinewidth\":0,\"ticks\":\"\"}}}],\"scatterternary\":[{\"type\":\"scatterternary\",\"marker\":{\"colorbar\":{\"outlinewidth\":0,\"ticks\":\"\"}}}],\"scattercarpet\":[{\"type\":\"scattercarpet\",\"marker\":{\"colorbar\":{\"outlinewidth\":0,\"ticks\":\"\"}}}],\"carpet\":[{\"aaxis\":{\"endlinecolor\":\"#2a3f5f\",\"gridcolor\":\"white\",\"linecolor\":\"white\",\"minorgridcolor\":\"white\",\"startlinecolor\":\"#2a3f5f\"},\"baxis\":{\"endlinecolor\":\"#2a3f5f\",\"gridcolor\":\"white\",\"linecolor\":\"white\",\"minorgridcolor\":\"white\",\"startlinecolor\":\"#2a3f5f\"},\"type\":\"carpet\"}],\"table\":[{\"cells\":{\"fill\":{\"color\":\"#EBF0F8\"},\"line\":{\"color\":\"white\"}},\"header\":{\"fill\":{\"color\":\"#C8D4E3\"},\"line\":{\"color\":\"white\"}},\"type\":\"table\"}],\"barpolar\":[{\"marker\":{\"line\":{\"color\":\"#E5ECF6\",\"width\":0.5},\"pattern\":{\"fillmode\":\"overlay\",\"size\":10,\"solidity\":0.2}},\"type\":\"barpolar\"}],\"pie\":[{\"automargin\":true,\"type\":\"pie\"}]},\"layout\":{\"autotypenumbers\":\"strict\",\"colorway\":[\"#636efa\",\"#EF553B\",\"#00cc96\",\"#ab63fa\",\"#FFA15A\",\"#19d3f3\",\"#FF6692\",\"#B6E880\",\"#FF97FF\",\"#FECB52\"],\"font\":{\"color\":\"#2a3f5f\"},\"hovermode\":\"closest\",\"hoverlabel\":{\"align\":\"left\"},\"paper_bgcolor\":\"white\",\"plot_bgcolor\":\"#E5ECF6\",\"polar\":{\"bgcolor\":\"#E5ECF6\",\"angularaxis\":{\"gridcolor\":\"white\",\"linecolor\":\"white\",\"ticks\":\"\"},\"radialaxis\":{\"gridcolor\":\"white\",\"linecolor\":\"white\",\"ticks\":\"\"}},\"ternary\":{\"bgcolor\":\"#E5ECF6\",\"aaxis\":{\"gridcolor\":\"white\",\"linecolor\":\"white\",\"ticks\":\"\"},\"baxis\":{\"gridcolor\":\"white\",\"linecolor\":\"white\",\"ticks\":\"\"},\"caxis\":{\"gridcolor\":\"white\",\"linecolor\":\"white\",\"ticks\":\"\"}},\"coloraxis\":{\"colorbar\":{\"outlinewidth\":0,\"ticks\":\"\"}},\"colorscale\":{\"sequential\":[[0.0,\"#0d0887\"],[0.1111111111111111,\"#46039f\"],[0.2222222222222222,\"#7201a8\"],[0.3333333333333333,\"#9c179e\"],[0.4444444444444444,\"#bd3786\"],[0.5555555555555556,\"#d8576b\"],[0.6666666666666666,\"#ed7953\"],[0.7777777777777778,\"#fb9f3a\"],[0.8888888888888888,\"#fdca26\"],[1.0,\"#f0f921\"]],\"sequentialminus\":[[0.0,\"#0d0887\"],[0.1111111111111111,\"#46039f\"],[0.2222222222222222,\"#7201a8\"],[0.3333333333333333,\"#9c179e\"],[0.4444444444444444,\"#bd3786\"],[0.5555555555555556,\"#d8576b\"],[0.6666666666666666,\"#ed7953\"],[0.7777777777777778,\"#fb9f3a\"],[0.8888888888888888,\"#fdca26\"],[1.0,\"#f0f921\"]],\"diverging\":[[0,\"#8e0152\"],[0.1,\"#c51b7d\"],[0.2,\"#de77ae\"],[0.3,\"#f1b6da\"],[0.4,\"#fde0ef\"],[0.5,\"#f7f7f7\"],[0.6,\"#e6f5d0\"],[0.7,\"#b8e186\"],[0.8,\"#7fbc41\"],[0.9,\"#4d9221\"],[1,\"#276419\"]]},\"xaxis\":{\"gridcolor\":\"white\",\"linecolor\":\"white\",\"ticks\":\"\",\"title\":{\"standoff\":15},\"zerolinecolor\":\"white\",\"automargin\":true,\"zerolinewidth\":2},\"yaxis\":{\"gridcolor\":\"white\",\"linecolor\":\"white\",\"ticks\":\"\",\"title\":{\"standoff\":15},\"zerolinecolor\":\"white\",\"automargin\":true,\"zerolinewidth\":2},\"scene\":{\"xaxis\":{\"backgroundcolor\":\"#E5ECF6\",\"gridcolor\":\"white\",\"linecolor\":\"white\",\"showbackground\":true,\"ticks\":\"\",\"zerolinecolor\":\"white\",\"gridwidth\":2},\"yaxis\":{\"backgroundcolor\":\"#E5ECF6\",\"gridcolor\":\"white\",\"linecolor\":\"white\",\"showbackground\":true,\"ticks\":\"\",\"zerolinecolor\":\"white\",\"gridwidth\":2},\"zaxis\":{\"backgroundcolor\":\"#E5ECF6\",\"gridcolor\":\"white\",\"linecolor\":\"white\",\"showbackground\":true,\"ticks\":\"\",\"zerolinecolor\":\"white\",\"gridwidth\":2}},\"shapedefaults\":{\"line\":{\"color\":\"#2a3f5f\"}},\"annotationdefaults\":{\"arrowcolor\":\"#2a3f5f\",\"arrowhead\":0,\"arrowwidth\":1},\"geo\":{\"bgcolor\":\"white\",\"landcolor\":\"#E5ECF6\",\"subunitcolor\":\"white\",\"showland\":true,\"showlakes\":true,\"lakecolor\":\"white\"},\"title\":{\"x\":0.05},\"mapbox\":{\"style\":\"light\"}}},\"title\":{\"text\":\"Orientation only with  gyro\"}},                        {\"responsive\": true}                    ).then(function(){\n",
       "                            \n",
       "var gd = document.getElementById('721d2a9c-2bb5-43f2-bc3b-d656e5a5c9da');\n",
       "var x = new MutationObserver(function (mutations, observer) {{\n",
       "        var display = window.getComputedStyle(gd).display;\n",
       "        if (!display || display === 'none') {{\n",
       "            console.log([gd, 'removed!']);\n",
       "            Plotly.purge(gd);\n",
       "            observer.disconnect();\n",
       "        }}\n",
       "}});\n",
       "\n",
       "// Listen for the removal of the full notebook cells\n",
       "var notebookContainer = gd.closest('#notebook-container');\n",
       "if (notebookContainer) {{\n",
       "    x.observe(notebookContainer, {childList: true});\n",
       "}}\n",
       "\n",
       "// Listen for the clearing of the current output cell\n",
       "var outputEl = gd.closest('.output');\n",
       "if (outputEl) {{\n",
       "    x.observe(outputEl, {childList: true});\n",
       "}}\n",
       "\n",
       "                        })                };                });            </script>        </div>"
      ]
     },
     "metadata": {},
     "output_type": "display_data"
    }
   ],
   "source": [
    "#find only with gyro \n",
    "\n",
    "pitch = np.zeros(len(calibrated_lb))\n",
    "yaw = np.zeros(len(calibrated_lb))\n",
    "roll = np.zeros(len(calibrated_lb))\n",
    "\n",
    "for i in range(len(calibrated_lb)-1):\n",
    "    delta_t = 0.06\n",
    "    \n",
    "    pitch[i+1] = pitch[i] + calibrated_lb['lb_gy'][i]*delta_t\n",
    "    yaw[i+1] = yaw[i]+calibrated_lb['lb_gz'][i]*delta_t\n",
    "    roll[i+1] = roll[i]+calibrated_lb['lb_gx'][i]*delta_t\n",
    "    \n",
    "\n",
    "orientation_d = pd.DataFrame({'roll':np.rad2deg(roll),'pitch':np.rad2deg(pitch),'yaw':np.rad2deg(yaw)})\n",
    "\n",
    "show_plot(orientation_d,'Orientation only with  gyro')\n"
   ]
  },
  {
   "cell_type": "code",
   "execution_count": 40,
   "id": "aa9462e7",
   "metadata": {},
   "outputs": [],
   "source": [
    "# Madgwick filter"
   ]
  },
  {
   "cell_type": "code",
   "execution_count": 41,
   "id": "668774e2",
   "metadata": {},
   "outputs": [],
   "source": [
    "def find_orientation(calibrated_mpu):\n",
    "    \n",
    "    headers = find_headers(calibrated_mpu)\n",
    "        \n",
    "    quaternions = []\n",
    "\n",
    "    heading = mg.MadgwickAHRS(sampleperiod = 0.06,beta = 1)\n",
    "    for i,row in calibrated_mpu.iterrows():\n",
    "        gyro_d  = []\n",
    "        accel_d = []\n",
    "        gyro_d.append(row[headers[3]])\n",
    "        gyro_d.append(row[headers[4]])\n",
    "        gyro_d.append(row[headers[5]])\n",
    "        accel_d.append(row[headers[0]])\n",
    "        accel_d.append(row[headers[1]])\n",
    "        accel_d.append(row[headers[2]])\n",
    "\n",
    "        heading.update_imu(gyro_d,accel_d)\n",
    "        quaternions.append(heading.quaternion._get_q())\n",
    "\n",
    "    # print(quaternions)\n",
    "    pitch = []\n",
    "    roll = []\n",
    "    yaw = []\n",
    "    for i in range(len(quaternions)):\n",
    "        pitch.append(np.arcsin(2 * quaternions[i][1] * quaternions[i][2] + 2 * quaternions[i][0] * quaternions[i][3]))\n",
    "        if np.abs(quaternions[i][1] * quaternions[i][2] + quaternions[i][3] * quaternions[i][0] - 0.5) < 1e-8:\n",
    "            roll.append(0) \n",
    "            yaw.append(2 * np.arctan2(quaternions[i][1], quaternions[i][0]))\n",
    "        elif np.abs(quaternions[i][1] * quaternions[i][2] + quaternions[i][3] * quaternions[i][0] + 0.5) < 1e-8:\n",
    "            roll.append(-2 * np.arctan2(quaternions[i][1], quaternions[i][0]))\n",
    "            yaw.append(0)\n",
    "        else:\n",
    "            roll.append(np.arctan2(2 * quaternions[i][0] * quaternions[i][1] - 2 * quaternions[i][2] *quaternions[i][3], 1 - 2 * quaternions[i][1] ** 2 - 2 *quaternions[i][3] ** 2))\n",
    "            yaw.append(np.arctan2(2 * quaternions[i][0] * quaternions[i][2] - 2 * quaternions[i][1] * quaternions[i][3], 1 - 2 * quaternions[i][2] ** 2 - 2 * quaternions[i][3] ** 2))\n",
    "\n",
    "\n",
    "    orientation_d = pd.DataFrame({'roll':np.rad2deg(roll),'pitch':np.rad2deg(pitch),'yaw':np.rad2deg(yaw)})\n",
    "    return orientation_d"
   ]
  },
  {
   "cell_type": "code",
   "execution_count": 42,
   "id": "a58a4d9a",
   "metadata": {},
   "outputs": [
    {
     "data": {
      "application/vnd.plotly.v1+json": {
       "config": {
        "plotlyServerURL": "https://plot.ly"
       },
       "data": [
        {
         "name": "roll",
         "type": "scatter",
         "x": [
          0,
          1,
          2,
          3,
          4,
          5,
          6,
          7,
          8,
          9,
          10,
          11,
          12,
          13,
          14,
          15,
          16,
          17,
          18,
          19,
          20,
          21,
          22,
          23,
          24,
          25,
          26,
          27,
          28,
          29,
          30,
          31,
          32,
          33
         ],
         "y": [
          -6.919277363910411,
          -12.923529272079845,
          -18.7262968723126,
          -23.266540261488203,
          -28.51197981138571,
          -33.8090130075257,
          -38.73484913765065,
          -44.77719429311142,
          -51.46737985524297,
          -58.05368037799126,
          -64.0242044577272,
          -70.02626439700198,
          -75.82490827706881,
          -81.04350393970842,
          -85.96831928121377,
          -90.64759279554231,
          -94.90040204511617,
          -93.2074663407337,
          -93.76002592488749,
          -98.30341021684058,
          -93.25118807110859,
          -97.52148967321278,
          -92.93152951912187,
          -97.64961082207972,
          -92.41421849748075,
          -97.12566281124533,
          -91.95701350363386,
          -96.77502622692026,
          -91.6246024831432,
          -96.31648828061915,
          -91.33078567882275,
          -95.42155061404331,
          -91.451892455837,
          -95.16721931698291
         ]
        },
        {
         "name": "pitch",
         "type": "scatter",
         "x": [
          0,
          1,
          2,
          3,
          4,
          5,
          6,
          7,
          8,
          9,
          10,
          11,
          12,
          13,
          14,
          15,
          16,
          17,
          18,
          19,
          20,
          21,
          22,
          23,
          24,
          25,
          26,
          27,
          28,
          29,
          30,
          31,
          32,
          33
         ],
         "y": [
          2.1254590090994463,
          4.7314165366674015,
          6.047549699277733,
          6.1836660060176305,
          6.4139475529788195,
          6.382873489792991,
          5.151554142413029,
          2.6799307620881687,
          0.22197577394577858,
          -2.5818415659389897,
          -5.751040227030903,
          -8.610789290983222,
          -10.369046191757633,
          -11.54482701236576,
          -11.537406996030576,
          -11.13959550975928,
          -10.771502262846479,
          -11.023945256348563,
          -11.103685601472268,
          -10.201259654986634,
          -11.073365495978733,
          -10.630471684280081,
          -11.147053330137396,
          -10.441053134413258,
          -11.15772942940766,
          -10.60709942575554,
          -11.154832080427878,
          -10.399378392279068,
          -11.010015694403585,
          -10.35464686333744,
          -10.864213969917287,
          -10.331375684009792,
          -10.69123183520183,
          -10.197840950377559
         ]
        },
        {
         "name": "yaw",
         "type": "scatter",
         "x": [
          0,
          1,
          2,
          3,
          4,
          5,
          6,
          7,
          8,
          9,
          10,
          11,
          12,
          13,
          14,
          15,
          16,
          17,
          18,
          19,
          20,
          21,
          22,
          23,
          24,
          25,
          26,
          27,
          28,
          29,
          30,
          31,
          32,
          33
         ],
         "y": [
          0.35218670397401947,
          1.6141403517297641,
          4.989211058871554,
          7.8350522590422,
          9.200845732411036,
          11.411912672424302,
          15.531373064627667,
          17.77601649586164,
          17.182405244918893,
          16.50748927409872,
          13.833711574004504,
          10.84194374681205,
          5.160891691338939,
          0.2701925753220022,
          -3.6512576727597517,
          -3.5623096491957984,
          -8.523562126889171,
          -1.3992651335864863,
          -8.291105367150102,
          -11.669706444437919,
          -7.515376925060135,
          -6.203314865262965,
          -7.7061568437546235,
          -8.80490068826032,
          -6.68433687713744,
          -7.697634126746574,
          -6.635407261182155,
          -8.623802383140683,
          -5.619445230960992,
          -8.866753458732816,
          -4.798708755481837,
          -9.707206561972386,
          -3.7165427864332976,
          -9.286596429681609
         ]
        }
       ],
       "layout": {
        "template": {
         "data": {
          "bar": [
           {
            "error_x": {
             "color": "#2a3f5f"
            },
            "error_y": {
             "color": "#2a3f5f"
            },
            "marker": {
             "line": {
              "color": "#E5ECF6",
              "width": 0.5
             },
             "pattern": {
              "fillmode": "overlay",
              "size": 10,
              "solidity": 0.2
             }
            },
            "type": "bar"
           }
          ],
          "barpolar": [
           {
            "marker": {
             "line": {
              "color": "#E5ECF6",
              "width": 0.5
             },
             "pattern": {
              "fillmode": "overlay",
              "size": 10,
              "solidity": 0.2
             }
            },
            "type": "barpolar"
           }
          ],
          "carpet": [
           {
            "aaxis": {
             "endlinecolor": "#2a3f5f",
             "gridcolor": "white",
             "linecolor": "white",
             "minorgridcolor": "white",
             "startlinecolor": "#2a3f5f"
            },
            "baxis": {
             "endlinecolor": "#2a3f5f",
             "gridcolor": "white",
             "linecolor": "white",
             "minorgridcolor": "white",
             "startlinecolor": "#2a3f5f"
            },
            "type": "carpet"
           }
          ],
          "choropleth": [
           {
            "colorbar": {
             "outlinewidth": 0,
             "ticks": ""
            },
            "type": "choropleth"
           }
          ],
          "contour": [
           {
            "colorbar": {
             "outlinewidth": 0,
             "ticks": ""
            },
            "colorscale": [
             [
              0,
              "#0d0887"
             ],
             [
              0.1111111111111111,
              "#46039f"
             ],
             [
              0.2222222222222222,
              "#7201a8"
             ],
             [
              0.3333333333333333,
              "#9c179e"
             ],
             [
              0.4444444444444444,
              "#bd3786"
             ],
             [
              0.5555555555555556,
              "#d8576b"
             ],
             [
              0.6666666666666666,
              "#ed7953"
             ],
             [
              0.7777777777777778,
              "#fb9f3a"
             ],
             [
              0.8888888888888888,
              "#fdca26"
             ],
             [
              1,
              "#f0f921"
             ]
            ],
            "type": "contour"
           }
          ],
          "contourcarpet": [
           {
            "colorbar": {
             "outlinewidth": 0,
             "ticks": ""
            },
            "type": "contourcarpet"
           }
          ],
          "heatmap": [
           {
            "colorbar": {
             "outlinewidth": 0,
             "ticks": ""
            },
            "colorscale": [
             [
              0,
              "#0d0887"
             ],
             [
              0.1111111111111111,
              "#46039f"
             ],
             [
              0.2222222222222222,
              "#7201a8"
             ],
             [
              0.3333333333333333,
              "#9c179e"
             ],
             [
              0.4444444444444444,
              "#bd3786"
             ],
             [
              0.5555555555555556,
              "#d8576b"
             ],
             [
              0.6666666666666666,
              "#ed7953"
             ],
             [
              0.7777777777777778,
              "#fb9f3a"
             ],
             [
              0.8888888888888888,
              "#fdca26"
             ],
             [
              1,
              "#f0f921"
             ]
            ],
            "type": "heatmap"
           }
          ],
          "heatmapgl": [
           {
            "colorbar": {
             "outlinewidth": 0,
             "ticks": ""
            },
            "colorscale": [
             [
              0,
              "#0d0887"
             ],
             [
              0.1111111111111111,
              "#46039f"
             ],
             [
              0.2222222222222222,
              "#7201a8"
             ],
             [
              0.3333333333333333,
              "#9c179e"
             ],
             [
              0.4444444444444444,
              "#bd3786"
             ],
             [
              0.5555555555555556,
              "#d8576b"
             ],
             [
              0.6666666666666666,
              "#ed7953"
             ],
             [
              0.7777777777777778,
              "#fb9f3a"
             ],
             [
              0.8888888888888888,
              "#fdca26"
             ],
             [
              1,
              "#f0f921"
             ]
            ],
            "type": "heatmapgl"
           }
          ],
          "histogram": [
           {
            "marker": {
             "pattern": {
              "fillmode": "overlay",
              "size": 10,
              "solidity": 0.2
             }
            },
            "type": "histogram"
           }
          ],
          "histogram2d": [
           {
            "colorbar": {
             "outlinewidth": 0,
             "ticks": ""
            },
            "colorscale": [
             [
              0,
              "#0d0887"
             ],
             [
              0.1111111111111111,
              "#46039f"
             ],
             [
              0.2222222222222222,
              "#7201a8"
             ],
             [
              0.3333333333333333,
              "#9c179e"
             ],
             [
              0.4444444444444444,
              "#bd3786"
             ],
             [
              0.5555555555555556,
              "#d8576b"
             ],
             [
              0.6666666666666666,
              "#ed7953"
             ],
             [
              0.7777777777777778,
              "#fb9f3a"
             ],
             [
              0.8888888888888888,
              "#fdca26"
             ],
             [
              1,
              "#f0f921"
             ]
            ],
            "type": "histogram2d"
           }
          ],
          "histogram2dcontour": [
           {
            "colorbar": {
             "outlinewidth": 0,
             "ticks": ""
            },
            "colorscale": [
             [
              0,
              "#0d0887"
             ],
             [
              0.1111111111111111,
              "#46039f"
             ],
             [
              0.2222222222222222,
              "#7201a8"
             ],
             [
              0.3333333333333333,
              "#9c179e"
             ],
             [
              0.4444444444444444,
              "#bd3786"
             ],
             [
              0.5555555555555556,
              "#d8576b"
             ],
             [
              0.6666666666666666,
              "#ed7953"
             ],
             [
              0.7777777777777778,
              "#fb9f3a"
             ],
             [
              0.8888888888888888,
              "#fdca26"
             ],
             [
              1,
              "#f0f921"
             ]
            ],
            "type": "histogram2dcontour"
           }
          ],
          "mesh3d": [
           {
            "colorbar": {
             "outlinewidth": 0,
             "ticks": ""
            },
            "type": "mesh3d"
           }
          ],
          "parcoords": [
           {
            "line": {
             "colorbar": {
              "outlinewidth": 0,
              "ticks": ""
             }
            },
            "type": "parcoords"
           }
          ],
          "pie": [
           {
            "automargin": true,
            "type": "pie"
           }
          ],
          "scatter": [
           {
            "fillpattern": {
             "fillmode": "overlay",
             "size": 10,
             "solidity": 0.2
            },
            "type": "scatter"
           }
          ],
          "scatter3d": [
           {
            "line": {
             "colorbar": {
              "outlinewidth": 0,
              "ticks": ""
             }
            },
            "marker": {
             "colorbar": {
              "outlinewidth": 0,
              "ticks": ""
             }
            },
            "type": "scatter3d"
           }
          ],
          "scattercarpet": [
           {
            "marker": {
             "colorbar": {
              "outlinewidth": 0,
              "ticks": ""
             }
            },
            "type": "scattercarpet"
           }
          ],
          "scattergeo": [
           {
            "marker": {
             "colorbar": {
              "outlinewidth": 0,
              "ticks": ""
             }
            },
            "type": "scattergeo"
           }
          ],
          "scattergl": [
           {
            "marker": {
             "colorbar": {
              "outlinewidth": 0,
              "ticks": ""
             }
            },
            "type": "scattergl"
           }
          ],
          "scattermapbox": [
           {
            "marker": {
             "colorbar": {
              "outlinewidth": 0,
              "ticks": ""
             }
            },
            "type": "scattermapbox"
           }
          ],
          "scatterpolar": [
           {
            "marker": {
             "colorbar": {
              "outlinewidth": 0,
              "ticks": ""
             }
            },
            "type": "scatterpolar"
           }
          ],
          "scatterpolargl": [
           {
            "marker": {
             "colorbar": {
              "outlinewidth": 0,
              "ticks": ""
             }
            },
            "type": "scatterpolargl"
           }
          ],
          "scatterternary": [
           {
            "marker": {
             "colorbar": {
              "outlinewidth": 0,
              "ticks": ""
             }
            },
            "type": "scatterternary"
           }
          ],
          "surface": [
           {
            "colorbar": {
             "outlinewidth": 0,
             "ticks": ""
            },
            "colorscale": [
             [
              0,
              "#0d0887"
             ],
             [
              0.1111111111111111,
              "#46039f"
             ],
             [
              0.2222222222222222,
              "#7201a8"
             ],
             [
              0.3333333333333333,
              "#9c179e"
             ],
             [
              0.4444444444444444,
              "#bd3786"
             ],
             [
              0.5555555555555556,
              "#d8576b"
             ],
             [
              0.6666666666666666,
              "#ed7953"
             ],
             [
              0.7777777777777778,
              "#fb9f3a"
             ],
             [
              0.8888888888888888,
              "#fdca26"
             ],
             [
              1,
              "#f0f921"
             ]
            ],
            "type": "surface"
           }
          ],
          "table": [
           {
            "cells": {
             "fill": {
              "color": "#EBF0F8"
             },
             "line": {
              "color": "white"
             }
            },
            "header": {
             "fill": {
              "color": "#C8D4E3"
             },
             "line": {
              "color": "white"
             }
            },
            "type": "table"
           }
          ]
         },
         "layout": {
          "annotationdefaults": {
           "arrowcolor": "#2a3f5f",
           "arrowhead": 0,
           "arrowwidth": 1
          },
          "autotypenumbers": "strict",
          "coloraxis": {
           "colorbar": {
            "outlinewidth": 0,
            "ticks": ""
           }
          },
          "colorscale": {
           "diverging": [
            [
             0,
             "#8e0152"
            ],
            [
             0.1,
             "#c51b7d"
            ],
            [
             0.2,
             "#de77ae"
            ],
            [
             0.3,
             "#f1b6da"
            ],
            [
             0.4,
             "#fde0ef"
            ],
            [
             0.5,
             "#f7f7f7"
            ],
            [
             0.6,
             "#e6f5d0"
            ],
            [
             0.7,
             "#b8e186"
            ],
            [
             0.8,
             "#7fbc41"
            ],
            [
             0.9,
             "#4d9221"
            ],
            [
             1,
             "#276419"
            ]
           ],
           "sequential": [
            [
             0,
             "#0d0887"
            ],
            [
             0.1111111111111111,
             "#46039f"
            ],
            [
             0.2222222222222222,
             "#7201a8"
            ],
            [
             0.3333333333333333,
             "#9c179e"
            ],
            [
             0.4444444444444444,
             "#bd3786"
            ],
            [
             0.5555555555555556,
             "#d8576b"
            ],
            [
             0.6666666666666666,
             "#ed7953"
            ],
            [
             0.7777777777777778,
             "#fb9f3a"
            ],
            [
             0.8888888888888888,
             "#fdca26"
            ],
            [
             1,
             "#f0f921"
            ]
           ],
           "sequentialminus": [
            [
             0,
             "#0d0887"
            ],
            [
             0.1111111111111111,
             "#46039f"
            ],
            [
             0.2222222222222222,
             "#7201a8"
            ],
            [
             0.3333333333333333,
             "#9c179e"
            ],
            [
             0.4444444444444444,
             "#bd3786"
            ],
            [
             0.5555555555555556,
             "#d8576b"
            ],
            [
             0.6666666666666666,
             "#ed7953"
            ],
            [
             0.7777777777777778,
             "#fb9f3a"
            ],
            [
             0.8888888888888888,
             "#fdca26"
            ],
            [
             1,
             "#f0f921"
            ]
           ]
          },
          "colorway": [
           "#636efa",
           "#EF553B",
           "#00cc96",
           "#ab63fa",
           "#FFA15A",
           "#19d3f3",
           "#FF6692",
           "#B6E880",
           "#FF97FF",
           "#FECB52"
          ],
          "font": {
           "color": "#2a3f5f"
          },
          "geo": {
           "bgcolor": "white",
           "lakecolor": "white",
           "landcolor": "#E5ECF6",
           "showlakes": true,
           "showland": true,
           "subunitcolor": "white"
          },
          "hoverlabel": {
           "align": "left"
          },
          "hovermode": "closest",
          "mapbox": {
           "style": "light"
          },
          "paper_bgcolor": "white",
          "plot_bgcolor": "#E5ECF6",
          "polar": {
           "angularaxis": {
            "gridcolor": "white",
            "linecolor": "white",
            "ticks": ""
           },
           "bgcolor": "#E5ECF6",
           "radialaxis": {
            "gridcolor": "white",
            "linecolor": "white",
            "ticks": ""
           }
          },
          "scene": {
           "xaxis": {
            "backgroundcolor": "#E5ECF6",
            "gridcolor": "white",
            "gridwidth": 2,
            "linecolor": "white",
            "showbackground": true,
            "ticks": "",
            "zerolinecolor": "white"
           },
           "yaxis": {
            "backgroundcolor": "#E5ECF6",
            "gridcolor": "white",
            "gridwidth": 2,
            "linecolor": "white",
            "showbackground": true,
            "ticks": "",
            "zerolinecolor": "white"
           },
           "zaxis": {
            "backgroundcolor": "#E5ECF6",
            "gridcolor": "white",
            "gridwidth": 2,
            "linecolor": "white",
            "showbackground": true,
            "ticks": "",
            "zerolinecolor": "white"
           }
          },
          "shapedefaults": {
           "line": {
            "color": "#2a3f5f"
           }
          },
          "ternary": {
           "aaxis": {
            "gridcolor": "white",
            "linecolor": "white",
            "ticks": ""
           },
           "baxis": {
            "gridcolor": "white",
            "linecolor": "white",
            "ticks": ""
           },
           "bgcolor": "#E5ECF6",
           "caxis": {
            "gridcolor": "white",
            "linecolor": "white",
            "ticks": ""
           }
          },
          "title": {
           "x": 0.05
          },
          "xaxis": {
           "automargin": true,
           "gridcolor": "white",
           "linecolor": "white",
           "ticks": "",
           "title": {
            "standoff": 15
           },
           "zerolinecolor": "white",
           "zerolinewidth": 2
          },
          "yaxis": {
           "automargin": true,
           "gridcolor": "white",
           "linecolor": "white",
           "ticks": "",
           "title": {
            "standoff": 15
           },
           "zerolinecolor": "white",
           "zerolinewidth": 2
          }
         }
        },
        "title": {
         "text": "Orientation left_bot sensor"
        }
       }
      },
      "text/html": [
       "<div>                            <div id=\"68326427-b9f0-4972-be49-889bb4ef255b\" class=\"plotly-graph-div\" style=\"height:525px; width:100%;\"></div>            <script type=\"text/javascript\">                require([\"plotly\"], function(Plotly) {                    window.PLOTLYENV=window.PLOTLYENV || {};                                    if (document.getElementById(\"68326427-b9f0-4972-be49-889bb4ef255b\")) {                    Plotly.newPlot(                        \"68326427-b9f0-4972-be49-889bb4ef255b\",                        [{\"name\":\"roll\",\"x\":[0,1,2,3,4,5,6,7,8,9,10,11,12,13,14,15,16,17,18,19,20,21,22,23,24,25,26,27,28,29,30,31,32,33],\"y\":[-6.919277363910411,-12.923529272079845,-18.7262968723126,-23.266540261488203,-28.51197981138571,-33.8090130075257,-38.73484913765065,-44.77719429311142,-51.46737985524297,-58.05368037799126,-64.0242044577272,-70.02626439700198,-75.82490827706881,-81.04350393970842,-85.96831928121377,-90.64759279554231,-94.90040204511617,-93.2074663407337,-93.76002592488749,-98.30341021684058,-93.25118807110859,-97.52148967321278,-92.93152951912187,-97.64961082207972,-92.41421849748075,-97.12566281124533,-91.95701350363386,-96.77502622692026,-91.6246024831432,-96.31648828061915,-91.33078567882275,-95.42155061404331,-91.451892455837,-95.16721931698291],\"type\":\"scatter\"},{\"name\":\"pitch\",\"x\":[0,1,2,3,4,5,6,7,8,9,10,11,12,13,14,15,16,17,18,19,20,21,22,23,24,25,26,27,28,29,30,31,32,33],\"y\":[2.1254590090994463,4.7314165366674015,6.047549699277733,6.1836660060176305,6.4139475529788195,6.382873489792991,5.151554142413029,2.6799307620881687,0.22197577394577858,-2.5818415659389897,-5.751040227030903,-8.610789290983222,-10.369046191757633,-11.54482701236576,-11.537406996030576,-11.13959550975928,-10.771502262846479,-11.023945256348563,-11.103685601472268,-10.201259654986634,-11.073365495978733,-10.630471684280081,-11.147053330137396,-10.441053134413258,-11.15772942940766,-10.60709942575554,-11.154832080427878,-10.399378392279068,-11.010015694403585,-10.35464686333744,-10.864213969917287,-10.331375684009792,-10.69123183520183,-10.197840950377559],\"type\":\"scatter\"},{\"name\":\"yaw\",\"x\":[0,1,2,3,4,5,6,7,8,9,10,11,12,13,14,15,16,17,18,19,20,21,22,23,24,25,26,27,28,29,30,31,32,33],\"y\":[0.35218670397401947,1.6141403517297641,4.989211058871554,7.8350522590422,9.200845732411036,11.411912672424302,15.531373064627667,17.77601649586164,17.182405244918893,16.50748927409872,13.833711574004504,10.84194374681205,5.160891691338939,0.2701925753220022,-3.6512576727597517,-3.5623096491957984,-8.523562126889171,-1.3992651335864863,-8.291105367150102,-11.669706444437919,-7.515376925060135,-6.203314865262965,-7.7061568437546235,-8.80490068826032,-6.68433687713744,-7.697634126746574,-6.635407261182155,-8.623802383140683,-5.619445230960992,-8.866753458732816,-4.798708755481837,-9.707206561972386,-3.7165427864332976,-9.286596429681609],\"type\":\"scatter\"}],                        {\"template\":{\"data\":{\"histogram2dcontour\":[{\"type\":\"histogram2dcontour\",\"colorbar\":{\"outlinewidth\":0,\"ticks\":\"\"},\"colorscale\":[[0.0,\"#0d0887\"],[0.1111111111111111,\"#46039f\"],[0.2222222222222222,\"#7201a8\"],[0.3333333333333333,\"#9c179e\"],[0.4444444444444444,\"#bd3786\"],[0.5555555555555556,\"#d8576b\"],[0.6666666666666666,\"#ed7953\"],[0.7777777777777778,\"#fb9f3a\"],[0.8888888888888888,\"#fdca26\"],[1.0,\"#f0f921\"]]}],\"choropleth\":[{\"type\":\"choropleth\",\"colorbar\":{\"outlinewidth\":0,\"ticks\":\"\"}}],\"histogram2d\":[{\"type\":\"histogram2d\",\"colorbar\":{\"outlinewidth\":0,\"ticks\":\"\"},\"colorscale\":[[0.0,\"#0d0887\"],[0.1111111111111111,\"#46039f\"],[0.2222222222222222,\"#7201a8\"],[0.3333333333333333,\"#9c179e\"],[0.4444444444444444,\"#bd3786\"],[0.5555555555555556,\"#d8576b\"],[0.6666666666666666,\"#ed7953\"],[0.7777777777777778,\"#fb9f3a\"],[0.8888888888888888,\"#fdca26\"],[1.0,\"#f0f921\"]]}],\"heatmap\":[{\"type\":\"heatmap\",\"colorbar\":{\"outlinewidth\":0,\"ticks\":\"\"},\"colorscale\":[[0.0,\"#0d0887\"],[0.1111111111111111,\"#46039f\"],[0.2222222222222222,\"#7201a8\"],[0.3333333333333333,\"#9c179e\"],[0.4444444444444444,\"#bd3786\"],[0.5555555555555556,\"#d8576b\"],[0.6666666666666666,\"#ed7953\"],[0.7777777777777778,\"#fb9f3a\"],[0.8888888888888888,\"#fdca26\"],[1.0,\"#f0f921\"]]}],\"heatmapgl\":[{\"type\":\"heatmapgl\",\"colorbar\":{\"outlinewidth\":0,\"ticks\":\"\"},\"colorscale\":[[0.0,\"#0d0887\"],[0.1111111111111111,\"#46039f\"],[0.2222222222222222,\"#7201a8\"],[0.3333333333333333,\"#9c179e\"],[0.4444444444444444,\"#bd3786\"],[0.5555555555555556,\"#d8576b\"],[0.6666666666666666,\"#ed7953\"],[0.7777777777777778,\"#fb9f3a\"],[0.8888888888888888,\"#fdca26\"],[1.0,\"#f0f921\"]]}],\"contourcarpet\":[{\"type\":\"contourcarpet\",\"colorbar\":{\"outlinewidth\":0,\"ticks\":\"\"}}],\"contour\":[{\"type\":\"contour\",\"colorbar\":{\"outlinewidth\":0,\"ticks\":\"\"},\"colorscale\":[[0.0,\"#0d0887\"],[0.1111111111111111,\"#46039f\"],[0.2222222222222222,\"#7201a8\"],[0.3333333333333333,\"#9c179e\"],[0.4444444444444444,\"#bd3786\"],[0.5555555555555556,\"#d8576b\"],[0.6666666666666666,\"#ed7953\"],[0.7777777777777778,\"#fb9f3a\"],[0.8888888888888888,\"#fdca26\"],[1.0,\"#f0f921\"]]}],\"surface\":[{\"type\":\"surface\",\"colorbar\":{\"outlinewidth\":0,\"ticks\":\"\"},\"colorscale\":[[0.0,\"#0d0887\"],[0.1111111111111111,\"#46039f\"],[0.2222222222222222,\"#7201a8\"],[0.3333333333333333,\"#9c179e\"],[0.4444444444444444,\"#bd3786\"],[0.5555555555555556,\"#d8576b\"],[0.6666666666666666,\"#ed7953\"],[0.7777777777777778,\"#fb9f3a\"],[0.8888888888888888,\"#fdca26\"],[1.0,\"#f0f921\"]]}],\"mesh3d\":[{\"type\":\"mesh3d\",\"colorbar\":{\"outlinewidth\":0,\"ticks\":\"\"}}],\"scatter\":[{\"fillpattern\":{\"fillmode\":\"overlay\",\"size\":10,\"solidity\":0.2},\"type\":\"scatter\"}],\"parcoords\":[{\"type\":\"parcoords\",\"line\":{\"colorbar\":{\"outlinewidth\":0,\"ticks\":\"\"}}}],\"scatterpolargl\":[{\"type\":\"scatterpolargl\",\"marker\":{\"colorbar\":{\"outlinewidth\":0,\"ticks\":\"\"}}}],\"bar\":[{\"error_x\":{\"color\":\"#2a3f5f\"},\"error_y\":{\"color\":\"#2a3f5f\"},\"marker\":{\"line\":{\"color\":\"#E5ECF6\",\"width\":0.5},\"pattern\":{\"fillmode\":\"overlay\",\"size\":10,\"solidity\":0.2}},\"type\":\"bar\"}],\"scattergeo\":[{\"type\":\"scattergeo\",\"marker\":{\"colorbar\":{\"outlinewidth\":0,\"ticks\":\"\"}}}],\"scatterpolar\":[{\"type\":\"scatterpolar\",\"marker\":{\"colorbar\":{\"outlinewidth\":0,\"ticks\":\"\"}}}],\"histogram\":[{\"marker\":{\"pattern\":{\"fillmode\":\"overlay\",\"size\":10,\"solidity\":0.2}},\"type\":\"histogram\"}],\"scattergl\":[{\"type\":\"scattergl\",\"marker\":{\"colorbar\":{\"outlinewidth\":0,\"ticks\":\"\"}}}],\"scatter3d\":[{\"type\":\"scatter3d\",\"line\":{\"colorbar\":{\"outlinewidth\":0,\"ticks\":\"\"}},\"marker\":{\"colorbar\":{\"outlinewidth\":0,\"ticks\":\"\"}}}],\"scattermapbox\":[{\"type\":\"scattermapbox\",\"marker\":{\"colorbar\":{\"outlinewidth\":0,\"ticks\":\"\"}}}],\"scatterternary\":[{\"type\":\"scatterternary\",\"marker\":{\"colorbar\":{\"outlinewidth\":0,\"ticks\":\"\"}}}],\"scattercarpet\":[{\"type\":\"scattercarpet\",\"marker\":{\"colorbar\":{\"outlinewidth\":0,\"ticks\":\"\"}}}],\"carpet\":[{\"aaxis\":{\"endlinecolor\":\"#2a3f5f\",\"gridcolor\":\"white\",\"linecolor\":\"white\",\"minorgridcolor\":\"white\",\"startlinecolor\":\"#2a3f5f\"},\"baxis\":{\"endlinecolor\":\"#2a3f5f\",\"gridcolor\":\"white\",\"linecolor\":\"white\",\"minorgridcolor\":\"white\",\"startlinecolor\":\"#2a3f5f\"},\"type\":\"carpet\"}],\"table\":[{\"cells\":{\"fill\":{\"color\":\"#EBF0F8\"},\"line\":{\"color\":\"white\"}},\"header\":{\"fill\":{\"color\":\"#C8D4E3\"},\"line\":{\"color\":\"white\"}},\"type\":\"table\"}],\"barpolar\":[{\"marker\":{\"line\":{\"color\":\"#E5ECF6\",\"width\":0.5},\"pattern\":{\"fillmode\":\"overlay\",\"size\":10,\"solidity\":0.2}},\"type\":\"barpolar\"}],\"pie\":[{\"automargin\":true,\"type\":\"pie\"}]},\"layout\":{\"autotypenumbers\":\"strict\",\"colorway\":[\"#636efa\",\"#EF553B\",\"#00cc96\",\"#ab63fa\",\"#FFA15A\",\"#19d3f3\",\"#FF6692\",\"#B6E880\",\"#FF97FF\",\"#FECB52\"],\"font\":{\"color\":\"#2a3f5f\"},\"hovermode\":\"closest\",\"hoverlabel\":{\"align\":\"left\"},\"paper_bgcolor\":\"white\",\"plot_bgcolor\":\"#E5ECF6\",\"polar\":{\"bgcolor\":\"#E5ECF6\",\"angularaxis\":{\"gridcolor\":\"white\",\"linecolor\":\"white\",\"ticks\":\"\"},\"radialaxis\":{\"gridcolor\":\"white\",\"linecolor\":\"white\",\"ticks\":\"\"}},\"ternary\":{\"bgcolor\":\"#E5ECF6\",\"aaxis\":{\"gridcolor\":\"white\",\"linecolor\":\"white\",\"ticks\":\"\"},\"baxis\":{\"gridcolor\":\"white\",\"linecolor\":\"white\",\"ticks\":\"\"},\"caxis\":{\"gridcolor\":\"white\",\"linecolor\":\"white\",\"ticks\":\"\"}},\"coloraxis\":{\"colorbar\":{\"outlinewidth\":0,\"ticks\":\"\"}},\"colorscale\":{\"sequential\":[[0.0,\"#0d0887\"],[0.1111111111111111,\"#46039f\"],[0.2222222222222222,\"#7201a8\"],[0.3333333333333333,\"#9c179e\"],[0.4444444444444444,\"#bd3786\"],[0.5555555555555556,\"#d8576b\"],[0.6666666666666666,\"#ed7953\"],[0.7777777777777778,\"#fb9f3a\"],[0.8888888888888888,\"#fdca26\"],[1.0,\"#f0f921\"]],\"sequentialminus\":[[0.0,\"#0d0887\"],[0.1111111111111111,\"#46039f\"],[0.2222222222222222,\"#7201a8\"],[0.3333333333333333,\"#9c179e\"],[0.4444444444444444,\"#bd3786\"],[0.5555555555555556,\"#d8576b\"],[0.6666666666666666,\"#ed7953\"],[0.7777777777777778,\"#fb9f3a\"],[0.8888888888888888,\"#fdca26\"],[1.0,\"#f0f921\"]],\"diverging\":[[0,\"#8e0152\"],[0.1,\"#c51b7d\"],[0.2,\"#de77ae\"],[0.3,\"#f1b6da\"],[0.4,\"#fde0ef\"],[0.5,\"#f7f7f7\"],[0.6,\"#e6f5d0\"],[0.7,\"#b8e186\"],[0.8,\"#7fbc41\"],[0.9,\"#4d9221\"],[1,\"#276419\"]]},\"xaxis\":{\"gridcolor\":\"white\",\"linecolor\":\"white\",\"ticks\":\"\",\"title\":{\"standoff\":15},\"zerolinecolor\":\"white\",\"automargin\":true,\"zerolinewidth\":2},\"yaxis\":{\"gridcolor\":\"white\",\"linecolor\":\"white\",\"ticks\":\"\",\"title\":{\"standoff\":15},\"zerolinecolor\":\"white\",\"automargin\":true,\"zerolinewidth\":2},\"scene\":{\"xaxis\":{\"backgroundcolor\":\"#E5ECF6\",\"gridcolor\":\"white\",\"linecolor\":\"white\",\"showbackground\":true,\"ticks\":\"\",\"zerolinecolor\":\"white\",\"gridwidth\":2},\"yaxis\":{\"backgroundcolor\":\"#E5ECF6\",\"gridcolor\":\"white\",\"linecolor\":\"white\",\"showbackground\":true,\"ticks\":\"\",\"zerolinecolor\":\"white\",\"gridwidth\":2},\"zaxis\":{\"backgroundcolor\":\"#E5ECF6\",\"gridcolor\":\"white\",\"linecolor\":\"white\",\"showbackground\":true,\"ticks\":\"\",\"zerolinecolor\":\"white\",\"gridwidth\":2}},\"shapedefaults\":{\"line\":{\"color\":\"#2a3f5f\"}},\"annotationdefaults\":{\"arrowcolor\":\"#2a3f5f\",\"arrowhead\":0,\"arrowwidth\":1},\"geo\":{\"bgcolor\":\"white\",\"landcolor\":\"#E5ECF6\",\"subunitcolor\":\"white\",\"showland\":true,\"showlakes\":true,\"lakecolor\":\"white\"},\"title\":{\"x\":0.05},\"mapbox\":{\"style\":\"light\"}}},\"title\":{\"text\":\"Orientation left_bot sensor\"}},                        {\"responsive\": true}                    ).then(function(){\n",
       "                            \n",
       "var gd = document.getElementById('68326427-b9f0-4972-be49-889bb4ef255b');\n",
       "var x = new MutationObserver(function (mutations, observer) {{\n",
       "        var display = window.getComputedStyle(gd).display;\n",
       "        if (!display || display === 'none') {{\n",
       "            console.log([gd, 'removed!']);\n",
       "            Plotly.purge(gd);\n",
       "            observer.disconnect();\n",
       "        }}\n",
       "}});\n",
       "\n",
       "// Listen for the removal of the full notebook cells\n",
       "var notebookContainer = gd.closest('#notebook-container');\n",
       "if (notebookContainer) {{\n",
       "    x.observe(notebookContainer, {childList: true});\n",
       "}}\n",
       "\n",
       "// Listen for the clearing of the current output cell\n",
       "var outputEl = gd.closest('.output');\n",
       "if (outputEl) {{\n",
       "    x.observe(outputEl, {childList: true});\n",
       "}}\n",
       "\n",
       "                        })                };                });            </script>        </div>"
      ]
     },
     "metadata": {},
     "output_type": "display_data"
    }
   ],
   "source": [
    "orientation_lb = find_orientation(calibrated_lb)\n",
    "show_plot(orientation_lb,'Orientation left_bot sensor')"
   ]
  },
  {
   "cell_type": "code",
   "execution_count": 29,
   "id": "6d4136d7",
   "metadata": {},
   "outputs": [],
   "source": [
    "\n",
    "\n",
    "# quaternions = []\n",
    "\n",
    "# heading = mg.MadgwickAHRS(sampleperiod = 0.06,beta = 1)\n",
    "# for i,row in calibrated_lb.iterrows():\n",
    "#     gyro_d  = []\n",
    "#     accel_d = []\n",
    "#     gyro_d.append(row['lb_gx'])\n",
    "#     gyro_d.append(row['lb_gy'])\n",
    "#     gyro_d.append(row['lb_gz'])\n",
    "#     accel_d.append(row['lb_ax'])\n",
    "#     accel_d.append(row['lb_ay'])\n",
    "#     accel_d.append(row['lb_az'])\n",
    "\n",
    "#     heading.update_imu(gyro_d,accel_d)\n",
    "#     quaternions.append(heading.quaternion._get_q())\n",
    "\n",
    "# # print(quaternions)\n",
    "# pitch = []\n",
    "# roll = []\n",
    "# yaw = []\n",
    "# for i in range(len(quaternions)):\n",
    "#     pitch.append(np.arcsin(2 * quaternions[i][1] * quaternions[i][2] + 2 * quaternions[i][0] * quaternions[i][3]))\n",
    "#     if np.abs(quaternions[i][1] * quaternions[i][2] + quaternions[i][3] * quaternions[i][0] - 0.5) < 1e-8:\n",
    "#         roll.append(0) \n",
    "#         yaw.append(2 * np.arctan2(quaternions[i][1], quaternions[i][0]))\n",
    "#         print('thth')\n",
    "#     elif np.abs(quaternions[i][1] * quaternions[i][2] + quaternions[i][3] * quaternions[i][0] + 0.5) < 1e-8:\n",
    "#         roll.append(-2 * np.arctan2(quaternions[i][1], quaternions[i][0]))\n",
    "#         yaw.append(0)\n",
    "#     else:\n",
    "#         roll.append(np.arctan2(2 * quaternions[i][0] * quaternions[i][1] - 2 * quaternions[i][2] *quaternions[i][3], 1 - 2 * quaternions[i][1] ** 2 - 2 *quaternions[i][3] ** 2))\n",
    "#         yaw.append(np.arctan2(2 * quaternions[i][0] * quaternions[i][2] - 2 * quaternions[i][1] * quaternions[i][3], 1 - 2 * quaternions[i][2] ** 2 - 2 * quaternions[i][3] ** 2))\n",
    "\n",
    "\n",
    "# orientation_d = pd.DataFrame({'roll':roll,'pitch':pitch,'yaw':yaw})"
   ]
  },
  {
   "cell_type": "code",
   "execution_count": 30,
   "id": "011c1ef7",
   "metadata": {},
   "outputs": [],
   "source": [
    "# orientation_d"
   ]
  },
  {
   "cell_type": "code",
   "execution_count": 31,
   "id": "3655a175",
   "metadata": {},
   "outputs": [],
   "source": [
    "# show_plot(lb,'gyro_lb',False)"
   ]
  },
  {
   "cell_type": "code",
   "execution_count": 32,
   "id": "72f145f0",
   "metadata": {},
   "outputs": [],
   "source": [
    "# fig = go.Figure() \n",
    "# fig.update_layout(title='roll lb')\n",
    "\n",
    "# fig.add_trace(go.Scatter(x=orientation_d.index, y=np.rad2deg(orientation_d['roll']),name='roll'))\n",
    "# fig.add_trace(go.Scatter(x=orientation_d.index, y=np.rad2deg(orientation_d['pitch']),name='pitch'))\n",
    "# fig.add_trace(go.Scatter(x=orientation_d.index, y=np.rad2deg(orientation_d['yaw']),name='yaw'))\n",
    "# # fig.add_trace(go.Scatter(x=agles.index, y=agles['x'],name='gyro'))\n",
    "\n",
    "# fig.show()"
   ]
  },
  {
   "cell_type": "code",
   "execution_count": null,
   "id": "c3d0edaf",
   "metadata": {},
   "outputs": [],
   "source": []
  },
  {
   "cell_type": "code",
   "execution_count": null,
   "id": "c57589a5",
   "metadata": {},
   "outputs": [],
   "source": []
  },
  {
   "cell_type": "code",
   "execution_count": null,
   "id": "1a2dc853",
   "metadata": {},
   "outputs": [],
   "source": []
  },
  {
   "cell_type": "code",
   "execution_count": null,
   "id": "ccd3743e",
   "metadata": {},
   "outputs": [],
   "source": [
    "\n"
   ]
  },
  {
   "cell_type": "code",
   "execution_count": null,
   "id": "7ca80d97",
   "metadata": {},
   "outputs": [],
   "source": []
  },
  {
   "cell_type": "code",
   "execution_count": null,
   "id": "b23e121b",
   "metadata": {},
   "outputs": [],
   "source": []
  },
  {
   "cell_type": "code",
   "execution_count": null,
   "id": "6cd41de5",
   "metadata": {},
   "outputs": [],
   "source": [
    "#(-0.02213089742574257, 0.01005698124752475, -0.013309934386138617)"
   ]
  }
 ],
 "metadata": {
  "kernelspec": {
   "display_name": "Python 3 (ipykernel)",
   "language": "python",
   "name": "python3"
  },
  "language_info": {
   "codemirror_mode": {
    "name": "ipython",
    "version": 3
   },
   "file_extension": ".py",
   "mimetype": "text/x-python",
   "name": "python",
   "nbconvert_exporter": "python",
   "pygments_lexer": "ipython3",
   "version": "3.9.7"
  }
 },
 "nbformat": 4,
 "nbformat_minor": 5
}
