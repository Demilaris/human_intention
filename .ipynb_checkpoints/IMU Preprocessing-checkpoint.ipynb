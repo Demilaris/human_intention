{
 "cells": [
  {
   "cell_type": "markdown",
   "id": "4b83d4c5",
   "metadata": {},
   "source": [
    "# Read Data From CSV"
   ]
  },
  {
   "cell_type": "code",
   "execution_count": 1,
   "id": "448519ea",
   "metadata": {},
   "outputs": [
    {
     "name": "stdout",
     "output_type": "stream",
     "text": [
      "1\n"
     ]
    },
    {
     "name": "stderr",
     "output_type": "stream",
     "text": [
      "D:\\Thesis\\madgwickahrs.py:60: SyntaxWarning: \"is\" with a literal. Did you mean \"==\"?\n",
      "  if norm(accelerometer) is 0:\n",
      "D:\\Thesis\\madgwickahrs.py:66: SyntaxWarning: \"is\" with a literal. Did you mean \"==\"?\n",
      "  if norm(magnetometer) is 0:\n",
      "D:\\Thesis\\madgwickahrs.py:113: SyntaxWarning: \"is\" with a literal. Did you mean \"==\"?\n",
      "  if norm(accelerometer) is 0:\n"
     ]
    }
   ],
   "source": [
    "import plotly\n",
    "import plotly.graph_objs as go\n",
    "import plotly.express as px\n",
    "\n",
    "from plotly.subplots import make_subplots\n",
    "import pandas as pd\n",
    "import numpy as np\n",
    "from numpy.linalg import norm\n",
    "from quaternion import Quaternion\n",
    "from scipy import stats\n",
    "from scipy import signal\n",
    "import matplotlib.pyplot as plt\n",
    "import os\n",
    "from os import walk\n",
    "import madgwickahrs as mg\n",
    "from quaternion import Quaternion\n",
    "\n",
    "print(mg.MadgwickAHRS.beta)"
   ]
  },
  {
   "cell_type": "code",
   "execution_count": 2,
   "id": "8b3d7cb3",
   "metadata": {},
   "outputs": [],
   "source": [
    "#функции калибровки\n",
    "def find_offsets(mpu,counts = 15):\n",
    "#     calibration_set = mpu.loc[:counts]\n",
    "    calibration_set =mpu \n",
    "    n = float(len(calibration_set))\n",
    "    summ = []\n",
    "    offsets = []\n",
    "    for i in calibration_set:\n",
    "        summ.append(calibration_set[i].sum())\n",
    "    for s in summ:\n",
    "        offsets.append(s/n)\n",
    "    return offsets\n",
    "\n",
    "def find_headers(mpu):\n",
    "    headers = []\n",
    "    for i in mpu:\n",
    "        headers.append(i)\n",
    "    return headers\n",
    "\n",
    "def calibration(mpu,dataset):\n",
    "    \n",
    "    headers = find_headers(mpu)\n",
    "#     print(headers)\n",
    "    \n",
    "    off = find_offsets(mpu)\n",
    "    calibrated = dataset.copy()\n",
    "    #не калибровать ускорение для фильтра маджвика!\n",
    "#     calibrated[headers[0]] = mpu[headers[0]] - off[0]\n",
    "#     calibrated[headers[1]] = mpu[headers[1]] - off[1]\n",
    "#     calibrated[headers[2]] = mpu[headers[2]] - off[2]\n",
    "    \n",
    "    calibrated[headers[3]] = mpu[headers[3]] - off[3]\n",
    "    calibrated[headers[4]] = mpu[headers[4]] - off[4]\n",
    "    calibrated[headers[5]] = mpu[headers[5]] - off[5]\n",
    "    \n",
    "    return calibrated\n"
   ]
  },
  {
   "cell_type": "code",
   "execution_count": 3,
   "id": "587f445e",
   "metadata": {
    "code_folding": []
   },
   "outputs": [],
   "source": [
    "#функции для вывода графиков\n",
    "def show_plots(mpu_t,mpu_b,title_t,title_b,accel=None):\n",
    "    \n",
    "    headers_t = find_headers(mpu_t)\n",
    "    headers_b = find_headers(mpu_b)\n",
    "    \n",
    "    if accel == True:\n",
    "        headers_t = headers_t[:3]\n",
    "        headers_b = headers_b[:3]\n",
    "        title_t += ' accel'\n",
    "        title_b += ' accel'\n",
    "    elif accel == None:\n",
    "        headers_t = headers_t[:3]\n",
    "        title_t +='accel'\n",
    "        headers_b = headers_b[3:]\n",
    "        title_b += ' gyro'\n",
    "    else:\n",
    "        headers_t = headers_t[3:]\n",
    "        headers_b = headers_b[3:]\n",
    "        title_t += ' gyro'\n",
    "        title_b += ' gyro'\n",
    "        \n",
    "\n",
    "\n",
    "    fig = make_subplots(rows=1, cols=2, subplot_titles=(title_t,title_b))\n",
    "\n",
    "\n",
    "    fig.add_trace(go.Scatter(x=mpu_t.index, y=mpu_t[headers_t[0]],name=headers_t[0]),1,1)\n",
    "    fig.add_trace(go.Scatter(x=mpu_t.index, y=mpu_t[headers_t[1]],name=headers_t[1]),1,1)\n",
    "    fig.add_trace(go.Scatter(x=mpu_t.index, y=mpu_t[headers_t[2]],name=headers_t[2]),1,1)\n",
    "\n",
    "    fig.add_trace(go.Scatter(x=mpu_t.index, y=mpu_b[headers_b[0]],name=headers_b[0]),1,2)\n",
    "    fig.add_trace(go.Scatter(x=mpu_t.index, y=mpu_b[headers_b[1]],name=headers_b[1]),1,2)\n",
    "    fig.add_trace(go.Scatter(x=mpu_t.index, y=mpu_b[headers_b[2]],name=headers_b[2]),1,2)\n",
    "\n",
    "\n",
    "    fig.update_layout(legend_orientation=\"h\",\n",
    "                      legend=dict(x=.5, xanchor=\"center\"),\n",
    "                      hovermode=\"x\",\n",
    "                      margin=dict(l=0, r=0, t=40, b=0))\n",
    "    fig.show()\n",
    "\n",
    "\n",
    "def show_plot(mpu_t,title_t,accel=None):\n",
    "    \n",
    "    headers_t = find_headers(mpu_t)\n",
    "    \n",
    "    if accel == True:\n",
    "        headers_t = headers_t[:3]\n",
    "        title_t += ' accel'\n",
    "    elif accel == None:\n",
    "        headers_t = headers_t\n",
    "    else:\n",
    "        headers_t = headers_t[3:]\n",
    "        title_t += ' gyro'\n",
    "        \n",
    "\n",
    "\n",
    "    fig = go.Figure() \n",
    "    fig.update_layout(title=title_t)\n",
    "    fig.add_trace(go.Scatter(x=mpu_t.index, y=mpu_t[headers_t[0]],name=headers_t[0]))\n",
    "    fig.add_trace(go.Scatter(x=mpu_t.index, y=mpu_t[headers_t[1]],name=headers_t[1]))\n",
    "    fig.add_trace(go.Scatter(x=mpu_t.index, y=mpu_t[headers_t[2]],name=headers_t[2]))\n",
    "\n",
    "    fig.show()\n"
   ]
  },
  {
   "cell_type": "code",
   "execution_count": 4,
   "id": "d2db9682",
   "metadata": {
    "code_folding": []
   },
   "outputs": [],
   "source": [
    "def read_csv_file(file_path):\n",
    "    df = pd.read_csv(file_path,sep = ' ',header = None)\n",
    "    df.columns = [\"s1\",\"bt_ax\",\"bt_ay\",\"bt_az\",\"bt_gx\",\"bt_gy\",\"bt_gz\",\n",
    "                 \"s2\",\"bb_ax\",\"bb_ay\",\"bb_az\",\"bb_gx\",\"bb_gy\",\"bb_gz\",\n",
    "                 \"s3\",\"lt_ax\",\"lt_ay\",\"lt_az\",\"lt_gx\",\"lt_gy\",\"lt_gz\",\n",
    "                 \"s4\",\"lb_ax\",\"lb_ay\",\"lb_az\",\"lb_gx\",\"lb_gy\",\"lb_gz\",\n",
    "                \"s5\",\"rt_ax\",\"rt_ay\",\"rt_az\",\"rt_gx\",\"rt_gy\",\"rt_gz\",\n",
    "                 \"s6\",\"rb_ax\",\"rb_ay\",\"rb_az\",\"rb_gx\",\"rb_gy\",\"rb_gz\",\n",
    "                 ]\n",
    "\n",
    "    return df"
   ]
  },
  {
   "cell_type": "code",
   "execution_count": 5,
   "id": "3271fb4f",
   "metadata": {
    "code_folding": []
   },
   "outputs": [],
   "source": [
    "#each  IMU for calibration\n",
    "def parse_to_sensors(df):\n",
    "    bt = df[[\"bt_ax\",\"bt_ay\",\"bt_az\",\"bt_gx\",\"bt_gy\",\"bt_gz\"]]\n",
    "    bb = df[[\"bb_ax\",\"bb_ay\",\"bb_az\",\"bb_gx\",\"bb_gy\",\"bb_gz\"]]\n",
    "    lt = df[[\"lt_ax\",\"lt_ay\",\"lt_az\",\"lt_gx\",\"lt_gy\",\"lt_gz\"]]\n",
    "    lb = df[[\"lb_ax\",\"lb_ay\",\"lb_az\",\"lb_gx\",\"lb_gy\",\"lb_gz\"]]\n",
    "    rt = df[[\"rt_ax\",\"rt_ay\",\"rt_az\",\"rt_gx\",\"rt_gy\",\"rt_gz\"]]\n",
    "    rb = df[[\"rb_ax\",\"rb_ay\",\"rb_az\",\"rb_gx\",\"rb_gy\",\"rb_gz\"]]\n",
    "    \n",
    "#     show_plot(lb,'Non calibrated left-bot ',True)\n",
    "#     show_plot(lb,'Non calibrated left-bot ',False)\n",
    "    return bt,bb,lt,lb,rt,rb\n"
   ]
  },
  {
   "cell_type": "markdown",
   "id": "430e8bcb",
   "metadata": {},
   "source": [
    "# Filter outliers"
   ]
  },
  {
   "cell_type": "code",
   "execution_count": 6,
   "id": "8f7e41d0",
   "metadata": {},
   "outputs": [],
   "source": [
    "def filter_outliers(df_local):\n",
    "    \n",
    "    outl = find_headers(df_local)\n",
    "    df= df_local.copy()\n",
    "    for o in outl:\n",
    "        median = df[o].median()\n",
    "        std = df[o].std()\n",
    "        df.loc[(df[o] - median).abs() > std,o]=np.nan\n",
    "        df[o].fillna(median, inplace=True)\n",
    "    return df\n",
    "\n",
    "def find_outliers(df):\n",
    "    \n",
    "    bt,bb,lt,lb,rt,rb = parse_to_sensors(df)\n",
    "    \n",
    "    rb_outl = filter_outliers(rb)\n",
    "    rt_outl =filter_outliers(rt)\n",
    "    lb_outl = filter_outliers(lb)\n",
    "    lt_outl = filter_outliers(lt)\n",
    "    bb_outl = filter_outliers(bb)\n",
    "    bt_outl = filter_outliers(bt)\n",
    "    \n",
    "\n",
    "    return bt_outl,bb_outl,lt_outl,lb_outl,rt_outl,rb_outl \n"
   ]
  },
  {
   "cell_type": "markdown",
   "id": "ea559918",
   "metadata": {},
   "source": [
    " Calibrate DF of each sensor"
   ]
  },
  {
   "cell_type": "markdown",
   "id": "c866da0b",
   "metadata": {},
   "source": [
    "# Madgwick filter"
   ]
  },
  {
   "cell_type": "code",
   "execution_count": 7,
   "id": "634e2c75",
   "metadata": {},
   "outputs": [],
   "source": [
    "def find_orientation(calibrated_mpu):\n",
    "    \n",
    "    headers = find_headers(calibrated_mpu)\n",
    "        \n",
    "    quaternions = []\n",
    "\n",
    "    heading = mg.MadgwickAHRS(sampleperiod = 0.06,beta = 1)\n",
    "    for i,row in calibrated_mpu.iterrows():\n",
    "        gyro_d  = []\n",
    "        accel_d = []\n",
    "        gyro_d.append(row[headers[3]])\n",
    "        gyro_d.append(row[headers[4]])\n",
    "        gyro_d.append(row[headers[5]])\n",
    "        accel_d.append(row[headers[0]])\n",
    "        accel_d.append(row[headers[1]])\n",
    "        accel_d.append(row[headers[2]])\n",
    "\n",
    "        heading.update_imu(gyro_d,accel_d)\n",
    "        quaternions.append(heading.quaternion._get_q())\n",
    "\n",
    "    # print(quaternions)\n",
    "    pitch = []\n",
    "    roll = []\n",
    "    yaw = []\n",
    "    for i in range(len(quaternions)):\n",
    "        pitch.append(np.arcsin(2 * quaternions[i][1] * quaternions[i][2] + 2 * quaternions[i][0] * quaternions[i][3]))\n",
    "        if np.abs(quaternions[i][1] * quaternions[i][2] + quaternions[i][3] * quaternions[i][0] - 0.5) < 1e-8:\n",
    "            roll.append(0) \n",
    "            yaw.append(2 * np.arctan2(quaternions[i][1], quaternions[i][0]))\n",
    "        elif np.abs(quaternions[i][1] * quaternions[i][2] + quaternions[i][3] * quaternions[i][0] + 0.5) < 1e-8:\n",
    "            roll.append(-2 * np.arctan2(quaternions[i][1], quaternions[i][0]))\n",
    "            yaw.append(0)\n",
    "        else:\n",
    "            roll.append(np.arctan2(2 * quaternions[i][0] * quaternions[i][1] - 2 * quaternions[i][2] *quaternions[i][3], 1 - 2 * quaternions[i][1] ** 2 - 2 *quaternions[i][3] ** 2))\n",
    "            yaw.append(np.arctan2(2 * quaternions[i][0] * quaternions[i][2] - 2 * quaternions[i][1] * quaternions[i][3], 1 - 2 * quaternions[i][2] ** 2 - 2 * quaternions[i][3] ** 2))\n",
    "\n",
    "\n",
    "    orientation_d = pd.DataFrame({'roll':np.rad2deg(roll),'pitch':np.rad2deg(pitch),'yaw':np.rad2deg(yaw)})\n",
    "    return orientation_d\n",
    "\n",
    "    "
   ]
  },
  {
   "cell_type": "markdown",
   "id": "18551ec2",
   "metadata": {},
   "source": [
    "# Calibration data"
   ]
  },
  {
   "cell_type": "code",
   "execution_count": 8,
   "id": "afd33970",
   "metadata": {},
   "outputs": [],
   "source": [
    "\n",
    "def all_calibrate(calibration_set,dataset):\n",
    "\n",
    "\n",
    "#     bt_outl,bb_outl,lt_outl,lb_outl,rt_outl,rb_outl =  find_outliers(calibration_set)\n",
    "    \n",
    "    bt_outl,bb_outl,lt_outl,lb_outl,rt_outl,rb_outl =  find_outliers(calibration_set)\n",
    "    bt_1,bb_1,lt_1,lb_1,rt_1,rb_1=parse_to_sensors(dataset)\n",
    "\n",
    "    show_plot(lb_1,'first ',False)\n",
    "    \n",
    "    calibrated_bt = calibration(bt_outl,bt_1)\n",
    "    calibrated_bb = calibration(bb_outl,bb_1)\n",
    "    calibrated_lt = calibration(lt_outl,lt_1)\n",
    "    calibrated_lb = calibration(lb_outl,lb_1)\n",
    "    calibrated_rb = calibration(rb_outl,rb_1)\n",
    "    calibrated_rt = calibration(rt_outl,rt_1)\n",
    "   \n",
    "       \n",
    "    show_plot(calibrated_lb,'calibrated ',False)\n",
    "\n",
    "#     print(calibrated_lb)\n",
    "    orientation_bt = find_orientation(calibrated_bt)\n",
    "    orientation_bb = find_orientation(calibrated_bb)\n",
    "    orientation_lt = find_orientation(calibrated_lt)\n",
    "    orientation_lb = find_orientation(calibrated_lb)\n",
    "    orientation_rt = find_orientation(calibrated_rt)\n",
    "    orientation_rb = find_orientation(calibrated_rb)\n",
    "\n",
    "    \n",
    "    return   orientation_bt, orientation_bb, orientation_lt, orientation_lb, orientation_rt, orientation_rb\n",
    "    \n"
   ]
  },
  {
   "cell_type": "code",
   "execution_count": 196,
   "id": "1044359d",
   "metadata": {},
   "outputs": [
    {
     "name": "stdout",
     "output_type": "stream",
     "text": [
      "D:/Thesis/Vadim/10_Vadim.csv\n"
     ]
    },
    {
     "data": {
      "application/vnd.plotly.v1+json": {
       "config": {
        "plotlyServerURL": "https://plot.ly"
       },
       "data": [
        {
         "name": "lb_gx",
         "type": "scatter",
         "x": [
          20,
          21,
          22,
          23,
          24,
          25,
          26,
          27,
          28,
          29,
          30,
          31,
          32,
          33,
          34,
          35,
          36,
          37,
          38,
          39,
          40,
          41,
          42,
          43,
          44,
          45,
          46,
          47,
          48,
          49,
          50,
          51,
          52,
          53,
          54,
          55,
          56,
          57,
          58,
          59,
          60,
          61,
          62,
          63,
          64,
          65,
          66,
          67,
          68,
          69,
          70,
          71,
          72,
          73,
          74,
          75,
          76,
          77,
          78,
          79,
          80,
          81,
          82,
          83,
          84,
          85,
          86,
          87,
          88,
          89,
          90,
          91,
          92,
          93,
          94,
          95,
          96,
          97,
          98,
          99,
          100,
          101,
          102,
          103,
          104,
          105,
          106,
          107,
          108,
          109,
          110,
          111,
          112,
          113,
          114,
          115,
          116,
          117,
          118,
          119,
          120,
          121,
          122,
          123,
          124,
          125,
          126,
          127,
          128,
          129,
          130,
          131,
          132,
          133,
          134,
          135,
          136,
          137,
          138,
          139,
          140,
          141,
          142,
          143,
          144,
          145,
          146,
          147,
          148,
          149,
          150,
          151,
          152,
          153,
          154,
          155,
          156,
          157,
          158,
          159,
          160,
          161,
          162,
          163,
          164,
          165,
          166,
          167,
          168,
          169,
          170,
          171,
          172,
          173,
          174,
          175,
          176,
          177,
          178,
          179,
          180,
          181,
          182
         ],
         "y": [
          0.09246248,
          0.09339512,
          0.09392804,
          0.09619296,
          0.09219603,
          0.09512712,
          0.1015222,
          0.1063185,
          0.09619296,
          0.09699235,
          0.0984579,
          0.09392804,
          0.09046402,
          0.08793263,
          0.08806586,
          0.09259573,
          0.09566004,
          0.0937948,
          0.1004564,
          0.1035207,
          0.119242,
          0.1112481,
          0.1003231,
          0.09952374,
          0.09339512,
          0.08966463,
          0.09126341,
          0.1019219,
          0.1060521,
          0.1032542,
          0.1037871,
          0.09832466,
          0.09899082,
          0.09552681,
          0.09526035,
          0.09179633,
          0.08553447,
          0.08433538,
          0.08926495,
          0.0941945,
          0.1044533,
          0.1053859,
          0.09659266,
          0.1033875,
          0.1001899,
          0.1069847,
          0.101389,
          0.085268,
          0.09073049,
          0.09486065,
          0.1007228,
          0.09099694,
          0.09925729,
          0.09259573,
          0.08859879,
          0.09312864,
          0.09619296,
          0.09286219,
          0.1035207,
          0.1091164,
          0.1005896,
          0.09579327,
          0.09579327,
          0.09792498,
          0.09326189,
          0.0899311,
          0.09765851,
          0.09472742,
          0.09019755,
          0.09685912,
          0.1012558,
          0.09366158,
          0.09219603,
          0.1061853,
          0.1044533,
          0.1008561,
          0.1027213,
          0.09046402,
          0.09073049,
          0.09299541,
          0.09552681,
          0.09672588,
          0.09566004,
          0.09819143,
          0.09659266,
          0.1009893,
          0.09819143,
          0.09033078,
          0.09672588,
          0.1025881,
          0.0937948,
          0.1039204,
          0.09899082,
          0.09672588,
          0.09992344,
          0.09779175,
          0.09979021,
          0.09792498,
          0.09899082,
          0.1005896,
          0.09672588,
          0.09232925,
          0.09446095,
          0.1021884,
          0.1001899,
          0.1012558,
          0.09899082,
          0.09912406,
          0.09472742,
          0.101389,
          0.09272896,
          0.08700001,
          0.09113017,
          0.09659266,
          0.09113017,
          0.09352834,
          0.08979786,
          0.09859113,
          0.09139664,
          0.0877994,
          0.08966463,
          0.09605973,
          0.09272896,
          0.09912406,
          0.09645943,
          0.1016554,
          0.09392804,
          0.09552681,
          0.1037871,
          0.09792498,
          0.09406126,
          0.1104487,
          0.1103155,
          0.1009893,
          0.0899311,
          0.09446095,
          0.09579327,
          0.09832466,
          0.1015222,
          0.104853,
          0.09352834,
          0.09246248,
          0.08660031,
          0.09166309,
          0.0920628,
          0.09899082,
          0.1020551,
          0.09579327,
          0.0984579,
          0.09566004,
          0.09579327,
          0.09339512,
          0.1027213,
          0.09739204,
          0.09033078,
          0.1059188,
          0.1016554,
          0.0937948,
          0.09486065,
          0.08793263,
          0.09073049,
          0.09752527,
          0.1011225
         ]
        },
        {
         "name": "lb_gy",
         "type": "scatter",
         "x": [
          20,
          21,
          22,
          23,
          24,
          25,
          26,
          27,
          28,
          29,
          30,
          31,
          32,
          33,
          34,
          35,
          36,
          37,
          38,
          39,
          40,
          41,
          42,
          43,
          44,
          45,
          46,
          47,
          48,
          49,
          50,
          51,
          52,
          53,
          54,
          55,
          56,
          57,
          58,
          59,
          60,
          61,
          62,
          63,
          64,
          65,
          66,
          67,
          68,
          69,
          70,
          71,
          72,
          73,
          74,
          75,
          76,
          77,
          78,
          79,
          80,
          81,
          82,
          83,
          84,
          85,
          86,
          87,
          88,
          89,
          90,
          91,
          92,
          93,
          94,
          95,
          96,
          97,
          98,
          99,
          100,
          101,
          102,
          103,
          104,
          105,
          106,
          107,
          108,
          109,
          110,
          111,
          112,
          113,
          114,
          115,
          116,
          117,
          118,
          119,
          120,
          121,
          122,
          123,
          124,
          125,
          126,
          127,
          128,
          129,
          130,
          131,
          132,
          133,
          134,
          135,
          136,
          137,
          138,
          139,
          140,
          141,
          142,
          143,
          144,
          145,
          146,
          147,
          148,
          149,
          150,
          151,
          152,
          153,
          154,
          155,
          156,
          157,
          158,
          159,
          160,
          161,
          162,
          163,
          164,
          165,
          166,
          167,
          168,
          169,
          170,
          171,
          172,
          173,
          174,
          175,
          176,
          177,
          178,
          179,
          180,
          181,
          182
         ],
         "y": [
          0.06541655,
          0.06967995,
          0.0579556,
          0.05222665,
          0.06594947,
          0.06248546,
          0.06115315,
          0.04996172,
          0.05435835,
          0.0579556,
          0.06368454,
          0.05715621,
          0.05209342,
          0.05782237,
          0.06062022,
          0.06315161,
          0.07767382,
          0.06475039,
          0.07007964,
          0.05768914,
          0.08580092,
          0.06181931,
          0.09619296,
          0.06794794,
          0.07794028,
          0.03317458,
          0.0643507,
          0.03637213,
          0.05742267,
          0.05076111,
          0.05529098,
          0.03570598,
          0.0447657,
          0.05662329,
          0.04716386,
          0.04223431,
          0.06448393,
          0.07007964,
          0.0579556,
          0.06888056,
          0.07980552,
          0.05196019,
          0.05915468,
          0.05395866,
          0.06208577,
          0.05728944,
          0.04849617,
          0.07034611,
          0.05715621,
          0.05742267,
          0.05955438,
          0.05235989,
          0.07007964,
          0.07141195,
          0.06515008,
          0.04423277,
          0.03717152,
          0.06235223,
          0.05076111,
          0.04623124,
          0.04809648,
          0.06022053,
          0.05515773,
          0.06035376,
          0.04756356,
          0.06181931,
          0.05662329,
          0.06248546,
          0.04836294,
          0.05862175,
          0.06328485,
          0.06848086,
          0.0575559,
          0.062219,
          0.04396632,
          0.03237519,
          0.04130168,
          0.05289281,
          0.05489128,
          0.04809648,
          0.05728944,
          0.05475805,
          0.05875498,
          0.05515773,
          0.06088669,
          0.05275958,
          0.03916999,
          0.06141961,
          0.05982084,
          0.04876264,
          0.06341808,
          0.0554242,
          0.06208577,
          0.05848852,
          0.05275958,
          0.0511608,
          0.0536922,
          0.05009495,
          0.05742267,
          0.06195253,
          0.04942879,
          0.05942113,
          0.0596876,
          0.04569832,
          0.05275958,
          0.06475039,
          0.05235989,
          0.05662329,
          0.06461716,
          0.05009495,
          0.042634,
          0.05915468,
          0.0490291,
          0.05875498,
          0.05835528,
          0.04796326,
          0.05955438,
          0.05875498,
          0.05915468,
          0.05728944,
          0.0468974,
          0.05355896,
          0.06874733,
          0.06541655,
          0.06994641,
          0.05662329,
          0.0575559,
          0.05782237,
          0.05209342,
          0.05782237,
          0.04449924,
          0.0447657,
          0.05915468,
          0.04556509,
          0.06328485,
          0.06714855,
          0.05502451,
          0.06048699,
          0.04876264,
          0.05609035,
          0.05062788,
          0.04783002,
          0.05662329,
          0.05955438,
          0.06235223,
          0.05222665,
          0.05315928,
          0.05049465,
          0.04463247,
          0.06315161,
          0.07807351,
          0.07047934,
          0.06914702,
          0.07540888,
          0.05822206,
          0.07101226,
          0.0468974,
          0.042634,
          0.05582389,
          0.07154518,
          0.08220368,
          0.06848086,
          0.07660797
         ]
        },
        {
         "name": "lb_gz",
         "type": "scatter",
         "x": [
          20,
          21,
          22,
          23,
          24,
          25,
          26,
          27,
          28,
          29,
          30,
          31,
          32,
          33,
          34,
          35,
          36,
          37,
          38,
          39,
          40,
          41,
          42,
          43,
          44,
          45,
          46,
          47,
          48,
          49,
          50,
          51,
          52,
          53,
          54,
          55,
          56,
          57,
          58,
          59,
          60,
          61,
          62,
          63,
          64,
          65,
          66,
          67,
          68,
          69,
          70,
          71,
          72,
          73,
          74,
          75,
          76,
          77,
          78,
          79,
          80,
          81,
          82,
          83,
          84,
          85,
          86,
          87,
          88,
          89,
          90,
          91,
          92,
          93,
          94,
          95,
          96,
          97,
          98,
          99,
          100,
          101,
          102,
          103,
          104,
          105,
          106,
          107,
          108,
          109,
          110,
          111,
          112,
          113,
          114,
          115,
          116,
          117,
          118,
          119,
          120,
          121,
          122,
          123,
          124,
          125,
          126,
          127,
          128,
          129,
          130,
          131,
          132,
          133,
          134,
          135,
          136,
          137,
          138,
          139,
          140,
          141,
          142,
          143,
          144,
          145,
          146,
          147,
          148,
          149,
          150,
          151,
          152,
          153,
          154,
          155,
          156,
          157,
          158,
          159,
          160,
          161,
          162,
          163,
          164,
          165,
          166,
          167,
          168,
          169,
          170,
          171,
          172,
          173,
          174,
          175,
          176,
          177,
          178,
          179,
          180,
          181,
          182
         ],
         "y": [
          0.01692037,
          0.02331547,
          0.02065084,
          0.01305666,
          0.01612098,
          0.01851914,
          0.01598775,
          0.009459419,
          0.01718683,
          0.01598775,
          0.01625421,
          0.02078407,
          0.02704594,
          0.03437366,
          0.02318224,
          0.02118377,
          0.02611332,
          0.02264931,
          0.01612098,
          -0.0007993876,
          -0.002531394,
          -0.003863707,
          0.01358959,
          0.004929556,
          0.01785299,
          0.004529863,
          0.009725882,
          -0.00746095,
          -0.006661563,
          -0.01865238,
          0.007594181,
          0.01132466,
          0.01292343,
          0.02184993,
          0.02304901,
          0.02757887,
          0.03597244,
          0.04449924,
          0.0430337,
          0.02904441,
          0.0255804,
          0.01838591,
          0.01771976,
          0.01145789,
          0.01159112,
          0.002531394,
          0.0006661563,
          0.02757887,
          0.02145023,
          0.01225728,
          0.00746095,
          0.0149219,
          0.01771976,
          0.01305666,
          0.02318224,
          0.006928025,
          0.0002664625,
          0.008793262,
          -0.003597244,
          0.006395101,
          0.00319755,
          0.009859113,
          0.01372282,
          0.007860644,
          0.01345636,
          0.01825268,
          0.009725882,
          0.01625421,
          0.009326188,
          0.0042634,
          0.003996938,
          0.01865238,
          0.01785299,
          0.009725882,
          0.001465544,
          0.006928025,
          0.01092496,
          0.01292343,
          0.01985146,
          0.02451455,
          0.02398163,
          0.02118377,
          0.01878561,
          0.02184993,
          0.02038438,
          0.01931853,
          0.01971823,
          0.01585452,
          0.02051761,
          0.002531394,
          0.01012558,
          0.01119143,
          0.01345636,
          0.01625421,
          0.01798622,
          0.01811945,
          0.01865238,
          0.02105054,
          0.01652068,
          0.01025881,
          0.02171669,
          0.02145023,
          0.01931853,
          0.01412251,
          0.02025115,
          0.01452221,
          0.01172435,
          0.01638744,
          0.01452221,
          0.01332313,
          0.02198316,
          0.01811945,
          0.01305666,
          0.01598775,
          0.02198316,
          0.0170536,
          0.01652068,
          0.01998469,
          0.02051761,
          0.02065084,
          0.01092496,
          0.009459419,
          0.01052527,
          0.0127902,
          0.01758653,
          0.01798622,
          0.02331547,
          0.01998469,
          0.01092496,
          0.02304901,
          0.01718683,
          -0.001998469,
          -0.006794794,
          0.002797856,
          0.02438132,
          0.01598775,
          0.01465544,
          0.02011792,
          0.01345636,
          0.01305666,
          0.02611332,
          0.01798622,
          0.0234487,
          0.02318224,
          0.02624656,
          0.009859113,
          0.005728944,
          0.005462481,
          0.009192957,
          0.01771976,
          0.01838591,
          0.02224962,
          0.01239051,
          0.008926495,
          0.01185758,
          0.001998469,
          -0.003863707,
          0.009192957,
          0.01798622,
          0.03330781,
          0.04716386,
          0.04170138,
          0.02957734
         ]
        }
       ],
       "layout": {
        "template": {
         "data": {
          "bar": [
           {
            "error_x": {
             "color": "#2a3f5f"
            },
            "error_y": {
             "color": "#2a3f5f"
            },
            "marker": {
             "line": {
              "color": "#E5ECF6",
              "width": 0.5
             },
             "pattern": {
              "fillmode": "overlay",
              "size": 10,
              "solidity": 0.2
             }
            },
            "type": "bar"
           }
          ],
          "barpolar": [
           {
            "marker": {
             "line": {
              "color": "#E5ECF6",
              "width": 0.5
             },
             "pattern": {
              "fillmode": "overlay",
              "size": 10,
              "solidity": 0.2
             }
            },
            "type": "barpolar"
           }
          ],
          "carpet": [
           {
            "aaxis": {
             "endlinecolor": "#2a3f5f",
             "gridcolor": "white",
             "linecolor": "white",
             "minorgridcolor": "white",
             "startlinecolor": "#2a3f5f"
            },
            "baxis": {
             "endlinecolor": "#2a3f5f",
             "gridcolor": "white",
             "linecolor": "white",
             "minorgridcolor": "white",
             "startlinecolor": "#2a3f5f"
            },
            "type": "carpet"
           }
          ],
          "choropleth": [
           {
            "colorbar": {
             "outlinewidth": 0,
             "ticks": ""
            },
            "type": "choropleth"
           }
          ],
          "contour": [
           {
            "colorbar": {
             "outlinewidth": 0,
             "ticks": ""
            },
            "colorscale": [
             [
              0,
              "#0d0887"
             ],
             [
              0.1111111111111111,
              "#46039f"
             ],
             [
              0.2222222222222222,
              "#7201a8"
             ],
             [
              0.3333333333333333,
              "#9c179e"
             ],
             [
              0.4444444444444444,
              "#bd3786"
             ],
             [
              0.5555555555555556,
              "#d8576b"
             ],
             [
              0.6666666666666666,
              "#ed7953"
             ],
             [
              0.7777777777777778,
              "#fb9f3a"
             ],
             [
              0.8888888888888888,
              "#fdca26"
             ],
             [
              1,
              "#f0f921"
             ]
            ],
            "type": "contour"
           }
          ],
          "contourcarpet": [
           {
            "colorbar": {
             "outlinewidth": 0,
             "ticks": ""
            },
            "type": "contourcarpet"
           }
          ],
          "heatmap": [
           {
            "colorbar": {
             "outlinewidth": 0,
             "ticks": ""
            },
            "colorscale": [
             [
              0,
              "#0d0887"
             ],
             [
              0.1111111111111111,
              "#46039f"
             ],
             [
              0.2222222222222222,
              "#7201a8"
             ],
             [
              0.3333333333333333,
              "#9c179e"
             ],
             [
              0.4444444444444444,
              "#bd3786"
             ],
             [
              0.5555555555555556,
              "#d8576b"
             ],
             [
              0.6666666666666666,
              "#ed7953"
             ],
             [
              0.7777777777777778,
              "#fb9f3a"
             ],
             [
              0.8888888888888888,
              "#fdca26"
             ],
             [
              1,
              "#f0f921"
             ]
            ],
            "type": "heatmap"
           }
          ],
          "heatmapgl": [
           {
            "colorbar": {
             "outlinewidth": 0,
             "ticks": ""
            },
            "colorscale": [
             [
              0,
              "#0d0887"
             ],
             [
              0.1111111111111111,
              "#46039f"
             ],
             [
              0.2222222222222222,
              "#7201a8"
             ],
             [
              0.3333333333333333,
              "#9c179e"
             ],
             [
              0.4444444444444444,
              "#bd3786"
             ],
             [
              0.5555555555555556,
              "#d8576b"
             ],
             [
              0.6666666666666666,
              "#ed7953"
             ],
             [
              0.7777777777777778,
              "#fb9f3a"
             ],
             [
              0.8888888888888888,
              "#fdca26"
             ],
             [
              1,
              "#f0f921"
             ]
            ],
            "type": "heatmapgl"
           }
          ],
          "histogram": [
           {
            "marker": {
             "pattern": {
              "fillmode": "overlay",
              "size": 10,
              "solidity": 0.2
             }
            },
            "type": "histogram"
           }
          ],
          "histogram2d": [
           {
            "colorbar": {
             "outlinewidth": 0,
             "ticks": ""
            },
            "colorscale": [
             [
              0,
              "#0d0887"
             ],
             [
              0.1111111111111111,
              "#46039f"
             ],
             [
              0.2222222222222222,
              "#7201a8"
             ],
             [
              0.3333333333333333,
              "#9c179e"
             ],
             [
              0.4444444444444444,
              "#bd3786"
             ],
             [
              0.5555555555555556,
              "#d8576b"
             ],
             [
              0.6666666666666666,
              "#ed7953"
             ],
             [
              0.7777777777777778,
              "#fb9f3a"
             ],
             [
              0.8888888888888888,
              "#fdca26"
             ],
             [
              1,
              "#f0f921"
             ]
            ],
            "type": "histogram2d"
           }
          ],
          "histogram2dcontour": [
           {
            "colorbar": {
             "outlinewidth": 0,
             "ticks": ""
            },
            "colorscale": [
             [
              0,
              "#0d0887"
             ],
             [
              0.1111111111111111,
              "#46039f"
             ],
             [
              0.2222222222222222,
              "#7201a8"
             ],
             [
              0.3333333333333333,
              "#9c179e"
             ],
             [
              0.4444444444444444,
              "#bd3786"
             ],
             [
              0.5555555555555556,
              "#d8576b"
             ],
             [
              0.6666666666666666,
              "#ed7953"
             ],
             [
              0.7777777777777778,
              "#fb9f3a"
             ],
             [
              0.8888888888888888,
              "#fdca26"
             ],
             [
              1,
              "#f0f921"
             ]
            ],
            "type": "histogram2dcontour"
           }
          ],
          "mesh3d": [
           {
            "colorbar": {
             "outlinewidth": 0,
             "ticks": ""
            },
            "type": "mesh3d"
           }
          ],
          "parcoords": [
           {
            "line": {
             "colorbar": {
              "outlinewidth": 0,
              "ticks": ""
             }
            },
            "type": "parcoords"
           }
          ],
          "pie": [
           {
            "automargin": true,
            "type": "pie"
           }
          ],
          "scatter": [
           {
            "marker": {
             "colorbar": {
              "outlinewidth": 0,
              "ticks": ""
             }
            },
            "type": "scatter"
           }
          ],
          "scatter3d": [
           {
            "line": {
             "colorbar": {
              "outlinewidth": 0,
              "ticks": ""
             }
            },
            "marker": {
             "colorbar": {
              "outlinewidth": 0,
              "ticks": ""
             }
            },
            "type": "scatter3d"
           }
          ],
          "scattercarpet": [
           {
            "marker": {
             "colorbar": {
              "outlinewidth": 0,
              "ticks": ""
             }
            },
            "type": "scattercarpet"
           }
          ],
          "scattergeo": [
           {
            "marker": {
             "colorbar": {
              "outlinewidth": 0,
              "ticks": ""
             }
            },
            "type": "scattergeo"
           }
          ],
          "scattergl": [
           {
            "marker": {
             "colorbar": {
              "outlinewidth": 0,
              "ticks": ""
             }
            },
            "type": "scattergl"
           }
          ],
          "scattermapbox": [
           {
            "marker": {
             "colorbar": {
              "outlinewidth": 0,
              "ticks": ""
             }
            },
            "type": "scattermapbox"
           }
          ],
          "scatterpolar": [
           {
            "marker": {
             "colorbar": {
              "outlinewidth": 0,
              "ticks": ""
             }
            },
            "type": "scatterpolar"
           }
          ],
          "scatterpolargl": [
           {
            "marker": {
             "colorbar": {
              "outlinewidth": 0,
              "ticks": ""
             }
            },
            "type": "scatterpolargl"
           }
          ],
          "scatterternary": [
           {
            "marker": {
             "colorbar": {
              "outlinewidth": 0,
              "ticks": ""
             }
            },
            "type": "scatterternary"
           }
          ],
          "surface": [
           {
            "colorbar": {
             "outlinewidth": 0,
             "ticks": ""
            },
            "colorscale": [
             [
              0,
              "#0d0887"
             ],
             [
              0.1111111111111111,
              "#46039f"
             ],
             [
              0.2222222222222222,
              "#7201a8"
             ],
             [
              0.3333333333333333,
              "#9c179e"
             ],
             [
              0.4444444444444444,
              "#bd3786"
             ],
             [
              0.5555555555555556,
              "#d8576b"
             ],
             [
              0.6666666666666666,
              "#ed7953"
             ],
             [
              0.7777777777777778,
              "#fb9f3a"
             ],
             [
              0.8888888888888888,
              "#fdca26"
             ],
             [
              1,
              "#f0f921"
             ]
            ],
            "type": "surface"
           }
          ],
          "table": [
           {
            "cells": {
             "fill": {
              "color": "#EBF0F8"
             },
             "line": {
              "color": "white"
             }
            },
            "header": {
             "fill": {
              "color": "#C8D4E3"
             },
             "line": {
              "color": "white"
             }
            },
            "type": "table"
           }
          ]
         },
         "layout": {
          "annotationdefaults": {
           "arrowcolor": "#2a3f5f",
           "arrowhead": 0,
           "arrowwidth": 1
          },
          "autotypenumbers": "strict",
          "coloraxis": {
           "colorbar": {
            "outlinewidth": 0,
            "ticks": ""
           }
          },
          "colorscale": {
           "diverging": [
            [
             0,
             "#8e0152"
            ],
            [
             0.1,
             "#c51b7d"
            ],
            [
             0.2,
             "#de77ae"
            ],
            [
             0.3,
             "#f1b6da"
            ],
            [
             0.4,
             "#fde0ef"
            ],
            [
             0.5,
             "#f7f7f7"
            ],
            [
             0.6,
             "#e6f5d0"
            ],
            [
             0.7,
             "#b8e186"
            ],
            [
             0.8,
             "#7fbc41"
            ],
            [
             0.9,
             "#4d9221"
            ],
            [
             1,
             "#276419"
            ]
           ],
           "sequential": [
            [
             0,
             "#0d0887"
            ],
            [
             0.1111111111111111,
             "#46039f"
            ],
            [
             0.2222222222222222,
             "#7201a8"
            ],
            [
             0.3333333333333333,
             "#9c179e"
            ],
            [
             0.4444444444444444,
             "#bd3786"
            ],
            [
             0.5555555555555556,
             "#d8576b"
            ],
            [
             0.6666666666666666,
             "#ed7953"
            ],
            [
             0.7777777777777778,
             "#fb9f3a"
            ],
            [
             0.8888888888888888,
             "#fdca26"
            ],
            [
             1,
             "#f0f921"
            ]
           ],
           "sequentialminus": [
            [
             0,
             "#0d0887"
            ],
            [
             0.1111111111111111,
             "#46039f"
            ],
            [
             0.2222222222222222,
             "#7201a8"
            ],
            [
             0.3333333333333333,
             "#9c179e"
            ],
            [
             0.4444444444444444,
             "#bd3786"
            ],
            [
             0.5555555555555556,
             "#d8576b"
            ],
            [
             0.6666666666666666,
             "#ed7953"
            ],
            [
             0.7777777777777778,
             "#fb9f3a"
            ],
            [
             0.8888888888888888,
             "#fdca26"
            ],
            [
             1,
             "#f0f921"
            ]
           ]
          },
          "colorway": [
           "#636efa",
           "#EF553B",
           "#00cc96",
           "#ab63fa",
           "#FFA15A",
           "#19d3f3",
           "#FF6692",
           "#B6E880",
           "#FF97FF",
           "#FECB52"
          ],
          "font": {
           "color": "#2a3f5f"
          },
          "geo": {
           "bgcolor": "white",
           "lakecolor": "white",
           "landcolor": "#E5ECF6",
           "showlakes": true,
           "showland": true,
           "subunitcolor": "white"
          },
          "hoverlabel": {
           "align": "left"
          },
          "hovermode": "closest",
          "mapbox": {
           "style": "light"
          },
          "paper_bgcolor": "white",
          "plot_bgcolor": "#E5ECF6",
          "polar": {
           "angularaxis": {
            "gridcolor": "white",
            "linecolor": "white",
            "ticks": ""
           },
           "bgcolor": "#E5ECF6",
           "radialaxis": {
            "gridcolor": "white",
            "linecolor": "white",
            "ticks": ""
           }
          },
          "scene": {
           "xaxis": {
            "backgroundcolor": "#E5ECF6",
            "gridcolor": "white",
            "gridwidth": 2,
            "linecolor": "white",
            "showbackground": true,
            "ticks": "",
            "zerolinecolor": "white"
           },
           "yaxis": {
            "backgroundcolor": "#E5ECF6",
            "gridcolor": "white",
            "gridwidth": 2,
            "linecolor": "white",
            "showbackground": true,
            "ticks": "",
            "zerolinecolor": "white"
           },
           "zaxis": {
            "backgroundcolor": "#E5ECF6",
            "gridcolor": "white",
            "gridwidth": 2,
            "linecolor": "white",
            "showbackground": true,
            "ticks": "",
            "zerolinecolor": "white"
           }
          },
          "shapedefaults": {
           "line": {
            "color": "#2a3f5f"
           }
          },
          "ternary": {
           "aaxis": {
            "gridcolor": "white",
            "linecolor": "white",
            "ticks": ""
           },
           "baxis": {
            "gridcolor": "white",
            "linecolor": "white",
            "ticks": ""
           },
           "bgcolor": "#E5ECF6",
           "caxis": {
            "gridcolor": "white",
            "linecolor": "white",
            "ticks": ""
           }
          },
          "title": {
           "x": 0.05
          },
          "xaxis": {
           "automargin": true,
           "gridcolor": "white",
           "linecolor": "white",
           "ticks": "",
           "title": {
            "standoff": 15
           },
           "zerolinecolor": "white",
           "zerolinewidth": 2
          },
          "yaxis": {
           "automargin": true,
           "gridcolor": "white",
           "linecolor": "white",
           "ticks": "",
           "title": {
            "standoff": 15
           },
           "zerolinecolor": "white",
           "zerolinewidth": 2
          }
         }
        },
        "title": {
         "text": "first  gyro"
        }
       }
      },
      "text/html": [
       "<div>                            <div id=\"3b9c675c-0c6c-42f2-99df-80a92ddb84d6\" class=\"plotly-graph-div\" style=\"height:525px; width:100%;\"></div>            <script type=\"text/javascript\">                require([\"plotly\"], function(Plotly) {                    window.PLOTLYENV=window.PLOTLYENV || {};                                    if (document.getElementById(\"3b9c675c-0c6c-42f2-99df-80a92ddb84d6\")) {                    Plotly.newPlot(                        \"3b9c675c-0c6c-42f2-99df-80a92ddb84d6\",                        [{\"name\":\"lb_gx\",\"x\":[20,21,22,23,24,25,26,27,28,29,30,31,32,33,34,35,36,37,38,39,40,41,42,43,44,45,46,47,48,49,50,51,52,53,54,55,56,57,58,59,60,61,62,63,64,65,66,67,68,69,70,71,72,73,74,75,76,77,78,79,80,81,82,83,84,85,86,87,88,89,90,91,92,93,94,95,96,97,98,99,100,101,102,103,104,105,106,107,108,109,110,111,112,113,114,115,116,117,118,119,120,121,122,123,124,125,126,127,128,129,130,131,132,133,134,135,136,137,138,139,140,141,142,143,144,145,146,147,148,149,150,151,152,153,154,155,156,157,158,159,160,161,162,163,164,165,166,167,168,169,170,171,172,173,174,175,176,177,178,179,180,181,182],\"y\":[0.09246248,0.09339512,0.09392804,0.09619296,0.09219603,0.09512712,0.1015222,0.1063185,0.09619296,0.09699235,0.0984579,0.09392804,0.09046402,0.08793263,0.08806586,0.09259573,0.09566004,0.0937948,0.1004564,0.1035207,0.119242,0.1112481,0.1003231,0.09952374,0.09339512,0.08966463,0.09126341,0.1019219,0.1060521,0.1032542,0.1037871,0.09832466,0.09899082,0.09552681,0.09526035,0.09179633,0.08553447,0.08433538,0.08926495,0.0941945,0.1044533,0.1053859,0.09659266,0.1033875,0.1001899,0.1069847,0.101389,0.085268,0.09073049,0.09486065,0.1007228,0.09099694,0.09925729,0.09259573,0.08859879,0.09312864,0.09619296,0.09286219,0.1035207,0.1091164,0.1005896,0.09579327,0.09579327,0.09792498,0.09326189,0.0899311,0.09765851,0.09472742,0.09019755,0.09685912,0.1012558,0.09366158,0.09219603,0.1061853,0.1044533,0.1008561,0.1027213,0.09046402,0.09073049,0.09299541,0.09552681,0.09672588,0.09566004,0.09819143,0.09659266,0.1009893,0.09819143,0.09033078,0.09672588,0.1025881,0.0937948,0.1039204,0.09899082,0.09672588,0.09992344,0.09779175,0.09979021,0.09792498,0.09899082,0.1005896,0.09672588,0.09232925,0.09446095,0.1021884,0.1001899,0.1012558,0.09899082,0.09912406,0.09472742,0.101389,0.09272896,0.08700001,0.09113017,0.09659266,0.09113017,0.09352834,0.08979786,0.09859113,0.09139664,0.0877994,0.08966463,0.09605973,0.09272896,0.09912406,0.09645943,0.1016554,0.09392804,0.09552681,0.1037871,0.09792498,0.09406126,0.1104487,0.1103155,0.1009893,0.0899311,0.09446095,0.09579327,0.09832466,0.1015222,0.104853,0.09352834,0.09246248,0.08660031,0.09166309,0.0920628,0.09899082,0.1020551,0.09579327,0.0984579,0.09566004,0.09579327,0.09339512,0.1027213,0.09739204,0.09033078,0.1059188,0.1016554,0.0937948,0.09486065,0.08793263,0.09073049,0.09752527,0.1011225],\"type\":\"scatter\"},{\"name\":\"lb_gy\",\"x\":[20,21,22,23,24,25,26,27,28,29,30,31,32,33,34,35,36,37,38,39,40,41,42,43,44,45,46,47,48,49,50,51,52,53,54,55,56,57,58,59,60,61,62,63,64,65,66,67,68,69,70,71,72,73,74,75,76,77,78,79,80,81,82,83,84,85,86,87,88,89,90,91,92,93,94,95,96,97,98,99,100,101,102,103,104,105,106,107,108,109,110,111,112,113,114,115,116,117,118,119,120,121,122,123,124,125,126,127,128,129,130,131,132,133,134,135,136,137,138,139,140,141,142,143,144,145,146,147,148,149,150,151,152,153,154,155,156,157,158,159,160,161,162,163,164,165,166,167,168,169,170,171,172,173,174,175,176,177,178,179,180,181,182],\"y\":[0.06541655,0.06967995,0.0579556,0.05222665,0.06594947,0.06248546,0.06115315,0.04996172,0.05435835,0.0579556,0.06368454,0.05715621,0.05209342,0.05782237,0.06062022,0.06315161,0.07767382,0.06475039,0.07007964,0.05768914,0.08580092,0.06181931,0.09619296,0.06794794,0.07794028,0.03317458,0.0643507,0.03637213,0.05742267,0.05076111,0.05529098,0.03570598,0.0447657,0.05662329,0.04716386,0.04223431,0.06448393,0.07007964,0.0579556,0.06888056,0.07980552,0.05196019,0.05915468,0.05395866,0.06208577,0.05728944,0.04849617,0.07034611,0.05715621,0.05742267,0.05955438,0.05235989,0.07007964,0.07141195,0.06515008,0.04423277,0.03717152,0.06235223,0.05076111,0.04623124,0.04809648,0.06022053,0.05515773,0.06035376,0.04756356,0.06181931,0.05662329,0.06248546,0.04836294,0.05862175,0.06328485,0.06848086,0.0575559,0.062219,0.04396632,0.03237519,0.04130168,0.05289281,0.05489128,0.04809648,0.05728944,0.05475805,0.05875498,0.05515773,0.06088669,0.05275958,0.03916999,0.06141961,0.05982084,0.04876264,0.06341808,0.0554242,0.06208577,0.05848852,0.05275958,0.0511608,0.0536922,0.05009495,0.05742267,0.06195253,0.04942879,0.05942113,0.0596876,0.04569832,0.05275958,0.06475039,0.05235989,0.05662329,0.06461716,0.05009495,0.042634,0.05915468,0.0490291,0.05875498,0.05835528,0.04796326,0.05955438,0.05875498,0.05915468,0.05728944,0.0468974,0.05355896,0.06874733,0.06541655,0.06994641,0.05662329,0.0575559,0.05782237,0.05209342,0.05782237,0.04449924,0.0447657,0.05915468,0.04556509,0.06328485,0.06714855,0.05502451,0.06048699,0.04876264,0.05609035,0.05062788,0.04783002,0.05662329,0.05955438,0.06235223,0.05222665,0.05315928,0.05049465,0.04463247,0.06315161,0.07807351,0.07047934,0.06914702,0.07540888,0.05822206,0.07101226,0.0468974,0.042634,0.05582389,0.07154518,0.08220368,0.06848086,0.07660797],\"type\":\"scatter\"},{\"name\":\"lb_gz\",\"x\":[20,21,22,23,24,25,26,27,28,29,30,31,32,33,34,35,36,37,38,39,40,41,42,43,44,45,46,47,48,49,50,51,52,53,54,55,56,57,58,59,60,61,62,63,64,65,66,67,68,69,70,71,72,73,74,75,76,77,78,79,80,81,82,83,84,85,86,87,88,89,90,91,92,93,94,95,96,97,98,99,100,101,102,103,104,105,106,107,108,109,110,111,112,113,114,115,116,117,118,119,120,121,122,123,124,125,126,127,128,129,130,131,132,133,134,135,136,137,138,139,140,141,142,143,144,145,146,147,148,149,150,151,152,153,154,155,156,157,158,159,160,161,162,163,164,165,166,167,168,169,170,171,172,173,174,175,176,177,178,179,180,181,182],\"y\":[0.01692037,0.02331547,0.02065084,0.01305666,0.01612098,0.01851914,0.01598775,0.009459419,0.01718683,0.01598775,0.01625421,0.02078407,0.02704594,0.03437366,0.02318224,0.02118377,0.02611332,0.02264931,0.01612098,-0.0007993876,-0.002531394,-0.003863707,0.01358959,0.004929556,0.01785299,0.004529863,0.009725882,-0.00746095,-0.006661563,-0.01865238,0.007594181,0.01132466,0.01292343,0.02184993,0.02304901,0.02757887,0.03597244,0.04449924,0.0430337,0.02904441,0.0255804,0.01838591,0.01771976,0.01145789,0.01159112,0.002531394,0.0006661563,0.02757887,0.02145023,0.01225728,0.00746095,0.0149219,0.01771976,0.01305666,0.02318224,0.006928025,0.0002664625,0.008793262,-0.003597244,0.006395101,0.00319755,0.009859113,0.01372282,0.007860644,0.01345636,0.01825268,0.009725882,0.01625421,0.009326188,0.0042634,0.003996938,0.01865238,0.01785299,0.009725882,0.001465544,0.006928025,0.01092496,0.01292343,0.01985146,0.02451455,0.02398163,0.02118377,0.01878561,0.02184993,0.02038438,0.01931853,0.01971823,0.01585452,0.02051761,0.002531394,0.01012558,0.01119143,0.01345636,0.01625421,0.01798622,0.01811945,0.01865238,0.02105054,0.01652068,0.01025881,0.02171669,0.02145023,0.01931853,0.01412251,0.02025115,0.01452221,0.01172435,0.01638744,0.01452221,0.01332313,0.02198316,0.01811945,0.01305666,0.01598775,0.02198316,0.0170536,0.01652068,0.01998469,0.02051761,0.02065084,0.01092496,0.009459419,0.01052527,0.0127902,0.01758653,0.01798622,0.02331547,0.01998469,0.01092496,0.02304901,0.01718683,-0.001998469,-0.006794794,0.002797856,0.02438132,0.01598775,0.01465544,0.02011792,0.01345636,0.01305666,0.02611332,0.01798622,0.0234487,0.02318224,0.02624656,0.009859113,0.005728944,0.005462481,0.009192957,0.01771976,0.01838591,0.02224962,0.01239051,0.008926495,0.01185758,0.001998469,-0.003863707,0.009192957,0.01798622,0.03330781,0.04716386,0.04170138,0.02957734],\"type\":\"scatter\"}],                        {\"template\":{\"data\":{\"bar\":[{\"error_x\":{\"color\":\"#2a3f5f\"},\"error_y\":{\"color\":\"#2a3f5f\"},\"marker\":{\"line\":{\"color\":\"#E5ECF6\",\"width\":0.5},\"pattern\":{\"fillmode\":\"overlay\",\"size\":10,\"solidity\":0.2}},\"type\":\"bar\"}],\"barpolar\":[{\"marker\":{\"line\":{\"color\":\"#E5ECF6\",\"width\":0.5},\"pattern\":{\"fillmode\":\"overlay\",\"size\":10,\"solidity\":0.2}},\"type\":\"barpolar\"}],\"carpet\":[{\"aaxis\":{\"endlinecolor\":\"#2a3f5f\",\"gridcolor\":\"white\",\"linecolor\":\"white\",\"minorgridcolor\":\"white\",\"startlinecolor\":\"#2a3f5f\"},\"baxis\":{\"endlinecolor\":\"#2a3f5f\",\"gridcolor\":\"white\",\"linecolor\":\"white\",\"minorgridcolor\":\"white\",\"startlinecolor\":\"#2a3f5f\"},\"type\":\"carpet\"}],\"choropleth\":[{\"colorbar\":{\"outlinewidth\":0,\"ticks\":\"\"},\"type\":\"choropleth\"}],\"contour\":[{\"colorbar\":{\"outlinewidth\":0,\"ticks\":\"\"},\"colorscale\":[[0.0,\"#0d0887\"],[0.1111111111111111,\"#46039f\"],[0.2222222222222222,\"#7201a8\"],[0.3333333333333333,\"#9c179e\"],[0.4444444444444444,\"#bd3786\"],[0.5555555555555556,\"#d8576b\"],[0.6666666666666666,\"#ed7953\"],[0.7777777777777778,\"#fb9f3a\"],[0.8888888888888888,\"#fdca26\"],[1.0,\"#f0f921\"]],\"type\":\"contour\"}],\"contourcarpet\":[{\"colorbar\":{\"outlinewidth\":0,\"ticks\":\"\"},\"type\":\"contourcarpet\"}],\"heatmap\":[{\"colorbar\":{\"outlinewidth\":0,\"ticks\":\"\"},\"colorscale\":[[0.0,\"#0d0887\"],[0.1111111111111111,\"#46039f\"],[0.2222222222222222,\"#7201a8\"],[0.3333333333333333,\"#9c179e\"],[0.4444444444444444,\"#bd3786\"],[0.5555555555555556,\"#d8576b\"],[0.6666666666666666,\"#ed7953\"],[0.7777777777777778,\"#fb9f3a\"],[0.8888888888888888,\"#fdca26\"],[1.0,\"#f0f921\"]],\"type\":\"heatmap\"}],\"heatmapgl\":[{\"colorbar\":{\"outlinewidth\":0,\"ticks\":\"\"},\"colorscale\":[[0.0,\"#0d0887\"],[0.1111111111111111,\"#46039f\"],[0.2222222222222222,\"#7201a8\"],[0.3333333333333333,\"#9c179e\"],[0.4444444444444444,\"#bd3786\"],[0.5555555555555556,\"#d8576b\"],[0.6666666666666666,\"#ed7953\"],[0.7777777777777778,\"#fb9f3a\"],[0.8888888888888888,\"#fdca26\"],[1.0,\"#f0f921\"]],\"type\":\"heatmapgl\"}],\"histogram\":[{\"marker\":{\"pattern\":{\"fillmode\":\"overlay\",\"size\":10,\"solidity\":0.2}},\"type\":\"histogram\"}],\"histogram2d\":[{\"colorbar\":{\"outlinewidth\":0,\"ticks\":\"\"},\"colorscale\":[[0.0,\"#0d0887\"],[0.1111111111111111,\"#46039f\"],[0.2222222222222222,\"#7201a8\"],[0.3333333333333333,\"#9c179e\"],[0.4444444444444444,\"#bd3786\"],[0.5555555555555556,\"#d8576b\"],[0.6666666666666666,\"#ed7953\"],[0.7777777777777778,\"#fb9f3a\"],[0.8888888888888888,\"#fdca26\"],[1.0,\"#f0f921\"]],\"type\":\"histogram2d\"}],\"histogram2dcontour\":[{\"colorbar\":{\"outlinewidth\":0,\"ticks\":\"\"},\"colorscale\":[[0.0,\"#0d0887\"],[0.1111111111111111,\"#46039f\"],[0.2222222222222222,\"#7201a8\"],[0.3333333333333333,\"#9c179e\"],[0.4444444444444444,\"#bd3786\"],[0.5555555555555556,\"#d8576b\"],[0.6666666666666666,\"#ed7953\"],[0.7777777777777778,\"#fb9f3a\"],[0.8888888888888888,\"#fdca26\"],[1.0,\"#f0f921\"]],\"type\":\"histogram2dcontour\"}],\"mesh3d\":[{\"colorbar\":{\"outlinewidth\":0,\"ticks\":\"\"},\"type\":\"mesh3d\"}],\"parcoords\":[{\"line\":{\"colorbar\":{\"outlinewidth\":0,\"ticks\":\"\"}},\"type\":\"parcoords\"}],\"pie\":[{\"automargin\":true,\"type\":\"pie\"}],\"scatter\":[{\"marker\":{\"colorbar\":{\"outlinewidth\":0,\"ticks\":\"\"}},\"type\":\"scatter\"}],\"scatter3d\":[{\"line\":{\"colorbar\":{\"outlinewidth\":0,\"ticks\":\"\"}},\"marker\":{\"colorbar\":{\"outlinewidth\":0,\"ticks\":\"\"}},\"type\":\"scatter3d\"}],\"scattercarpet\":[{\"marker\":{\"colorbar\":{\"outlinewidth\":0,\"ticks\":\"\"}},\"type\":\"scattercarpet\"}],\"scattergeo\":[{\"marker\":{\"colorbar\":{\"outlinewidth\":0,\"ticks\":\"\"}},\"type\":\"scattergeo\"}],\"scattergl\":[{\"marker\":{\"colorbar\":{\"outlinewidth\":0,\"ticks\":\"\"}},\"type\":\"scattergl\"}],\"scattermapbox\":[{\"marker\":{\"colorbar\":{\"outlinewidth\":0,\"ticks\":\"\"}},\"type\":\"scattermapbox\"}],\"scatterpolar\":[{\"marker\":{\"colorbar\":{\"outlinewidth\":0,\"ticks\":\"\"}},\"type\":\"scatterpolar\"}],\"scatterpolargl\":[{\"marker\":{\"colorbar\":{\"outlinewidth\":0,\"ticks\":\"\"}},\"type\":\"scatterpolargl\"}],\"scatterternary\":[{\"marker\":{\"colorbar\":{\"outlinewidth\":0,\"ticks\":\"\"}},\"type\":\"scatterternary\"}],\"surface\":[{\"colorbar\":{\"outlinewidth\":0,\"ticks\":\"\"},\"colorscale\":[[0.0,\"#0d0887\"],[0.1111111111111111,\"#46039f\"],[0.2222222222222222,\"#7201a8\"],[0.3333333333333333,\"#9c179e\"],[0.4444444444444444,\"#bd3786\"],[0.5555555555555556,\"#d8576b\"],[0.6666666666666666,\"#ed7953\"],[0.7777777777777778,\"#fb9f3a\"],[0.8888888888888888,\"#fdca26\"],[1.0,\"#f0f921\"]],\"type\":\"surface\"}],\"table\":[{\"cells\":{\"fill\":{\"color\":\"#EBF0F8\"},\"line\":{\"color\":\"white\"}},\"header\":{\"fill\":{\"color\":\"#C8D4E3\"},\"line\":{\"color\":\"white\"}},\"type\":\"table\"}]},\"layout\":{\"annotationdefaults\":{\"arrowcolor\":\"#2a3f5f\",\"arrowhead\":0,\"arrowwidth\":1},\"autotypenumbers\":\"strict\",\"coloraxis\":{\"colorbar\":{\"outlinewidth\":0,\"ticks\":\"\"}},\"colorscale\":{\"diverging\":[[0,\"#8e0152\"],[0.1,\"#c51b7d\"],[0.2,\"#de77ae\"],[0.3,\"#f1b6da\"],[0.4,\"#fde0ef\"],[0.5,\"#f7f7f7\"],[0.6,\"#e6f5d0\"],[0.7,\"#b8e186\"],[0.8,\"#7fbc41\"],[0.9,\"#4d9221\"],[1,\"#276419\"]],\"sequential\":[[0.0,\"#0d0887\"],[0.1111111111111111,\"#46039f\"],[0.2222222222222222,\"#7201a8\"],[0.3333333333333333,\"#9c179e\"],[0.4444444444444444,\"#bd3786\"],[0.5555555555555556,\"#d8576b\"],[0.6666666666666666,\"#ed7953\"],[0.7777777777777778,\"#fb9f3a\"],[0.8888888888888888,\"#fdca26\"],[1.0,\"#f0f921\"]],\"sequentialminus\":[[0.0,\"#0d0887\"],[0.1111111111111111,\"#46039f\"],[0.2222222222222222,\"#7201a8\"],[0.3333333333333333,\"#9c179e\"],[0.4444444444444444,\"#bd3786\"],[0.5555555555555556,\"#d8576b\"],[0.6666666666666666,\"#ed7953\"],[0.7777777777777778,\"#fb9f3a\"],[0.8888888888888888,\"#fdca26\"],[1.0,\"#f0f921\"]]},\"colorway\":[\"#636efa\",\"#EF553B\",\"#00cc96\",\"#ab63fa\",\"#FFA15A\",\"#19d3f3\",\"#FF6692\",\"#B6E880\",\"#FF97FF\",\"#FECB52\"],\"font\":{\"color\":\"#2a3f5f\"},\"geo\":{\"bgcolor\":\"white\",\"lakecolor\":\"white\",\"landcolor\":\"#E5ECF6\",\"showlakes\":true,\"showland\":true,\"subunitcolor\":\"white\"},\"hoverlabel\":{\"align\":\"left\"},\"hovermode\":\"closest\",\"mapbox\":{\"style\":\"light\"},\"paper_bgcolor\":\"white\",\"plot_bgcolor\":\"#E5ECF6\",\"polar\":{\"angularaxis\":{\"gridcolor\":\"white\",\"linecolor\":\"white\",\"ticks\":\"\"},\"bgcolor\":\"#E5ECF6\",\"radialaxis\":{\"gridcolor\":\"white\",\"linecolor\":\"white\",\"ticks\":\"\"}},\"scene\":{\"xaxis\":{\"backgroundcolor\":\"#E5ECF6\",\"gridcolor\":\"white\",\"gridwidth\":2,\"linecolor\":\"white\",\"showbackground\":true,\"ticks\":\"\",\"zerolinecolor\":\"white\"},\"yaxis\":{\"backgroundcolor\":\"#E5ECF6\",\"gridcolor\":\"white\",\"gridwidth\":2,\"linecolor\":\"white\",\"showbackground\":true,\"ticks\":\"\",\"zerolinecolor\":\"white\"},\"zaxis\":{\"backgroundcolor\":\"#E5ECF6\",\"gridcolor\":\"white\",\"gridwidth\":2,\"linecolor\":\"white\",\"showbackground\":true,\"ticks\":\"\",\"zerolinecolor\":\"white\"}},\"shapedefaults\":{\"line\":{\"color\":\"#2a3f5f\"}},\"ternary\":{\"aaxis\":{\"gridcolor\":\"white\",\"linecolor\":\"white\",\"ticks\":\"\"},\"baxis\":{\"gridcolor\":\"white\",\"linecolor\":\"white\",\"ticks\":\"\"},\"bgcolor\":\"#E5ECF6\",\"caxis\":{\"gridcolor\":\"white\",\"linecolor\":\"white\",\"ticks\":\"\"}},\"title\":{\"x\":0.05},\"xaxis\":{\"automargin\":true,\"gridcolor\":\"white\",\"linecolor\":\"white\",\"ticks\":\"\",\"title\":{\"standoff\":15},\"zerolinecolor\":\"white\",\"zerolinewidth\":2},\"yaxis\":{\"automargin\":true,\"gridcolor\":\"white\",\"linecolor\":\"white\",\"ticks\":\"\",\"title\":{\"standoff\":15},\"zerolinecolor\":\"white\",\"zerolinewidth\":2}}},\"title\":{\"text\":\"first  gyro\"}},                        {\"responsive\": true}                    ).then(function(){\n",
       "                            \n",
       "var gd = document.getElementById('3b9c675c-0c6c-42f2-99df-80a92ddb84d6');\n",
       "var x = new MutationObserver(function (mutations, observer) {{\n",
       "        var display = window.getComputedStyle(gd).display;\n",
       "        if (!display || display === 'none') {{\n",
       "            console.log([gd, 'removed!']);\n",
       "            Plotly.purge(gd);\n",
       "            observer.disconnect();\n",
       "        }}\n",
       "}});\n",
       "\n",
       "// Listen for the removal of the full notebook cells\n",
       "var notebookContainer = gd.closest('#notebook-container');\n",
       "if (notebookContainer) {{\n",
       "    x.observe(notebookContainer, {childList: true});\n",
       "}}\n",
       "\n",
       "// Listen for the clearing of the current output cell\n",
       "var outputEl = gd.closest('.output');\n",
       "if (outputEl) {{\n",
       "    x.observe(outputEl, {childList: true});\n",
       "}}\n",
       "\n",
       "                        })                };                });            </script>        </div>"
      ]
     },
     "metadata": {},
     "output_type": "display_data"
    },
    {
     "data": {
      "application/vnd.plotly.v1+json": {
       "config": {
        "plotlyServerURL": "https://plot.ly"
       },
       "data": [
        {
         "name": "lb_gx",
         "type": "scatter",
         "x": [
          20,
          21,
          22,
          23,
          24,
          25,
          26,
          27,
          28,
          29,
          30,
          31,
          32,
          33,
          34,
          35,
          36,
          37,
          38,
          39,
          40,
          41,
          42,
          43,
          44,
          45,
          46,
          47,
          48,
          49,
          50,
          51,
          52,
          53,
          54,
          55,
          56,
          57,
          58,
          59,
          60,
          61,
          62,
          63,
          64,
          65,
          66,
          67,
          68,
          69,
          70,
          71,
          72,
          73,
          74,
          75,
          76,
          77,
          78,
          79,
          80,
          81,
          82,
          83,
          84,
          85,
          86,
          87,
          88,
          89,
          90,
          91,
          92,
          93,
          94,
          95,
          96,
          97,
          98,
          99,
          100,
          101,
          102,
          103,
          104,
          105,
          106,
          107,
          108,
          109,
          110,
          111,
          112,
          113,
          114,
          115,
          116,
          117,
          118,
          119,
          120,
          121,
          122,
          123,
          124,
          125,
          126,
          127,
          128,
          129,
          130,
          131,
          132,
          133,
          134,
          135,
          136,
          137,
          138,
          139,
          140,
          141,
          142,
          143,
          144,
          145,
          146,
          147,
          148,
          149,
          150,
          151,
          152,
          153,
          154,
          155,
          156,
          157,
          158,
          159,
          160,
          161,
          162,
          163,
          164,
          165,
          166,
          167,
          168,
          169,
          170,
          171,
          172,
          173,
          174,
          175,
          176,
          177,
          178,
          179,
          180,
          181,
          182
         ],
         "y": [
          -1.8570958506963775e-05,
          -1.8570958506963775e-05,
          -0.0025499509585069635,
          -1.8570958506963775e-05,
          -1.8570958506963775e-05,
          0.0013137490414930342,
          -0.001484110958506965,
          -0.0008179409585069713,
          -0.0018837909585069645,
          -0.0022834909585069674,
          -0.0010844009585069675,
          -1.8570958506963775e-05,
          0.0013137490414930342,
          0.00038112904149303906,
          -0.000684720958506968,
          0.000780829041493028,
          -0.0012176309585069656,
          0.0013137490414930342,
          -0.0017505609585069665,
          0.0009140490414930313,
          -0.0025499509585069635,
          -1.8570958506963775e-05,
          -0.002150270958506964,
          -0.0009511809585069642,
          0.00011466904149302903,
          -0.002017040958506966,
          -1.8570958506963775e-05,
          -0.0010844009585069675,
          -0.0025499509585069635,
          -1.8570958506963775e-05,
          -0.0002850209585069652,
          -0.0018837909585069645,
          0.001047289041493038,
          -0.0010844009585069675,
          -1.8570958506963775e-05,
          -1.8570958506963775e-05,
          -0.00041826095850697187,
          0.0014469890414930409,
          0.001846679041493035,
          0.001846679041493035,
          -1.8570958506963775e-05,
          -0.0022834909585069674,
          0.001846679041493035,
          -0.0001517909585069671,
          -1.8570958506963775e-05,
          -1.8570958506963775e-05,
          -0.001350880958506967,
          0.0009140490414930313,
          -1.8570958506963775e-05,
          -1.8570958506963775e-05,
          -0.00041826095850697187,
          -0.0001517909585069671,
          -0.002150270958506964,
          0.0005143690414930319,
          -0.0025499509585069635,
          0.00011466904149302903,
          0.001979909041493033,
          0.000780829041493028,
          -0.0022834909585069674,
          -0.002017040958506966,
          -1.8570958506963775e-05,
          0.001047289041493038,
          -0.0008179409585069713,
          -0.0017505609585069665,
          -0.0001517909585069671,
          -1.8570958506963775e-05,
          0.000247899041493041,
          0.000247899041493041,
          0.0015802090414930303,
          -1.8570958506963775e-05,
          -1.8570958506963775e-05,
          0.0025128290414930393,
          -1.8570958506963775e-05,
          -1.8570958506963775e-05,
          -0.0017505609585069665,
          -1.8570958506963775e-05,
          -0.0002850209585069652,
          -0.0005514809585069613,
          -0.0001517909585069671,
          -0.0002850209585069652,
          -1.8570958506963775e-05,
          -1.8570958506963775e-05,
          0.000247899041493041,
          0.0023795990414930412,
          -1.8570958506963775e-05,
          -0.0002850209585069652,
          0.0015802090414930303,
          -1.8570958506963775e-05,
          -0.000684720958506968,
          0.0015802090414930303,
          -1.8570958506963775e-05,
          -1.8570958506963775e-05,
          -0.0010844009585069675,
          -0.001350880958506967,
          -0.0012176309585069656,
          0.000780829041493028,
          -0.0017505609585069665,
          0.0014469890414930409,
          -0.0008179409585069713,
          -0.0016173309585069684,
          -0.0024167209585069654,
          -0.0012176309585069656,
          -1.8570958506963775e-05,
          0.0009140490414930313,
          0.0017134390414930284,
          -0.0002850209585069652,
          -0.0016173309585069684,
          -0.002017040958506966,
          -0.0008179409585069713,
          -1.8570958506963775e-05,
          0.0015802090414930303,
          0.0017134390414930284,
          -0.0005514809585069613,
          -1.8570958506963775e-05,
          0.001180519041493036,
          -0.0008179409585069713,
          0.001047289041493038,
          -0.002150270958506964,
          -1.8570958506963775e-05,
          0.0013137490414930342,
          -1.8570958506963775e-05,
          -0.0009511809585069642,
          -1.8570958506963775e-05,
          -0.002150270958506964,
          -0.0025499509585069635,
          -0.001484110958506965,
          -1.8570958506963775e-05,
          0.000247899041493041,
          -1.8570958506963775e-05,
          0.000247899041493041,
          -0.0010844009585069675,
          0.0009140490414930313,
          -0.0009511809585069642,
          -0.001484110958506965,
          -1.8570958506963775e-05,
          0.0023795990414930412,
          -0.0009511809585069642,
          0.001047289041493038,
          -1.8570958506963775e-05,
          -0.002017040958506966,
          0.001846679041493035,
          -1.8570958506963775e-05,
          -1.8570958506963775e-05,
          -1.8570958506963775e-05,
          -1.8570958506963775e-05,
          0.001180519041493036,
          -0.0018837909585069645,
          -1.8570958506963775e-05,
          -0.0012176309585069656,
          0.000780829041493028,
          -0.0005514809585069613,
          -1.8570958506963775e-05,
          -0.002150270958506964,
          -0.0022834909585069674,
          -0.0012176309585069656,
          -0.000684720958506968,
          -0.0008179409585069713,
          -0.0010844009585069675,
          -0.0022834909585069674,
          -1.8570958506963775e-05,
          0.00011466904149302903,
          -0.0012176309585069656,
          -0.0024167209585069654
         ]
        },
        {
         "name": "lb_gy",
         "type": "scatter",
         "x": [
          20,
          21,
          22,
          23,
          24,
          25,
          26,
          27,
          28,
          29,
          30,
          31,
          32,
          33,
          34,
          35,
          36,
          37,
          38,
          39,
          40,
          41,
          42,
          43,
          44,
          45,
          46,
          47,
          48,
          49,
          50,
          51,
          52,
          53,
          54,
          55,
          56,
          57,
          58,
          59,
          60,
          61,
          62,
          63,
          64,
          65,
          66,
          67,
          68,
          69,
          70,
          71,
          72,
          73,
          74,
          75,
          76,
          77,
          78,
          79,
          80,
          81,
          82,
          83,
          84,
          85,
          86,
          87,
          88,
          89,
          90,
          91,
          92,
          93,
          94,
          95,
          96,
          97,
          98,
          99,
          100,
          101,
          102,
          103,
          104,
          105,
          106,
          107,
          108,
          109,
          110,
          111,
          112,
          113,
          114,
          115,
          116,
          117,
          118,
          119,
          120,
          121,
          122,
          123,
          124,
          125,
          126,
          127,
          128,
          129,
          130,
          131,
          132,
          133,
          134,
          135,
          136,
          137,
          138,
          139,
          140,
          141,
          142,
          143,
          144,
          145,
          146,
          147,
          148,
          149,
          150,
          151,
          152,
          153,
          154,
          155,
          156,
          157,
          158,
          159,
          160,
          161,
          162,
          163,
          164,
          165,
          166,
          167,
          168,
          169,
          170,
          171,
          172,
          173,
          174,
          175,
          176,
          177,
          178,
          179,
          180,
          181,
          182
         ],
         "y": [
          -0.0010704241221235755,
          -4.574122123575386e-06,
          -0.0012036541221235736,
          -0.002402734122123572,
          0.0007948158778764286,
          0.00039511587787642577,
          -0.0029356641221235727,
          0.0009280458778764267,
          -4.574122123575386e-06,
          0.0006615758778764289,
          -4.574122123575386e-06,
          -4.574122123575386e-06,
          -4.574122123575386e-06,
          -0.0029356641221235727,
          -0.00013780412212357346,
          -4.574122123575386e-06,
          -0.0005374941221235746,
          -0.0025359741221235715,
          0.0007948158778764286,
          0.002393585877876428,
          -4.574122123575386e-06,
          0.002127115877876423,
          -0.0009371941221235705,
          -0.0006707341221235744,
          0.001993895877876427,
          -0.0005374941221235746,
          -0.0005374941221235746,
          -0.0017365841221235745,
          -4.574122123575386e-06,
          -0.0008039541221235708,
          0.0010612758778764247,
          -4.574122123575386e-06,
          -0.0012036541221235736,
          0.002926515877876429,
          0.0009280458778764267,
          -0.002669194122123575,
          -0.002402734122123572,
          -4.574122123575386e-06,
          -0.0013368841221235717,
          0.001460965877876426,
          -4.574122123575386e-06,
          -4.574122123575386e-06,
          0.001194495877876428,
          -4.574122123575386e-06,
          -4.574122123575386e-06,
          -4.574122123575386e-06,
          0.0005283458778764238,
          -4.574122123575386e-06,
          -0.0008039541221235708,
          -0.0013368841221235717,
          -4.574122123575386e-06,
          -0.0029356641221235727,
          -0.003068884122123576,
          -4.574122123575386e-06,
          -4.574122123575386e-06,
          -0.0010704241221235755,
          0.0017274358778764237,
          -4.574122123575386e-06,
          -0.0032021241221235758,
          0.003192975877876425,
          -0.0016033441221235747,
          0.001194495877876428,
          -4.574122123575386e-06,
          -0.0009371941221235705,
          -0.0014701241221235714,
          0.001860655877876427,
          -0.0006707341221235744,
          0.0005283458778764238,
          -0.0020030441221235706,
          -4.574122123575386e-06,
          -4.574122123575386e-06,
          -0.0017365841221235745,
          -4.574122123575386e-06,
          -4.574122123575386e-06,
          -0.0009371941221235705,
          0.001460965877876426,
          -0.0025359741221235715,
          0.002393585877876428,
          -0.0005374941221235746,
          0.002793275877876429,
          -4.574122123575386e-06,
          -0.0020030441221235706,
          -4.574122123575386e-06,
          -0.0018698141221235726,
          -0.0020030441221235706,
          -0.002402734122123572,
          -0.0016033441221235747,
          0.00012865587787642269,
          -4.574122123575386e-06,
          -4.574122123575386e-06,
          0.001860655877876427,
          0.002127115877876423,
          -4.574122123575386e-06,
          0.0015942058778764256,
          -0.0018698141221235726,
          -4.574122123575386e-06,
          0.001460965877876426,
          -0.0014701241221235714,
          -4.574122123575386e-06,
          -0.00013780412212357346,
          -4.574122123575386e-06,
          -4.574122123575386e-06,
          0.0017274358778764237,
          -0.0025359741221235715,
          -4.574122123575386e-06,
          0.0007948158778764286,
          -0.00013780412212357346,
          -0.0006707341221235744,
          0.00012865587787642269,
          -0.002402734122123572,
          0.003059745877876427,
          -0.0020030441221235706,
          -4.574122123575386e-06,
          -4.574122123575386e-06,
          -0.0022695041221235737,
          -4.574122123575386e-06,
          -4.574122123575386e-06,
          0.0013277458778764295,
          -4.574122123575386e-06,
          0.0010612758778764247,
          -0.0029356641221235727,
          0.0002618858778764277,
          -0.002402734122123572,
          -4.574122123575386e-06,
          0.0010612758778764247,
          0.0006615758778764289,
          -0.00013780412212357346,
          -0.0014701241221235714,
          -4.574122123575386e-06,
          -0.0016033441221235747,
          0.00039511587787642577,
          -0.00013780412212357346,
          -0.0004042741221235713,
          0.001460965877876426,
          -0.0009371941221235705,
          -4.574122123575386e-06,
          -0.0009371941221235705,
          -0.00027103412212357153,
          -0.0005374941221235746,
          -4.574122123575386e-06,
          0.0005283458778764238,
          -0.0012036541221235736,
          0.00039511587787642577,
          -4.574122123575386e-06,
          -4.574122123575386e-06,
          -4.574122123575386e-06,
          -4.574122123575386e-06,
          -4.574122123575386e-06,
          -4.574122123575386e-06,
          -0.0004042741221235713,
          0.0015942058778764256,
          -0.0005374941221235746,
          0.00012865587787642269,
          -0.0008039541221235708,
          -4.574122123575386e-06,
          -4.574122123575386e-06,
          -4.574122123575386e-06,
          -4.574122123575386e-06,
          -0.0012036541221235736,
          0.0017274358778764237,
          -0.0016033441221235747,
          -0.0029356641221235727,
          -4.574122123575386e-06
         ]
        },
        {
         "name": "lb_gz",
         "type": "scatter",
         "x": [
          20,
          21,
          22,
          23,
          24,
          25,
          26,
          27,
          28,
          29,
          30,
          31,
          32,
          33,
          34,
          35,
          36,
          37,
          38,
          39,
          40,
          41,
          42,
          43,
          44,
          45,
          46,
          47,
          48,
          49,
          50,
          51,
          52,
          53,
          54,
          55,
          56,
          57,
          58,
          59,
          60,
          61,
          62,
          63,
          64,
          65,
          66,
          67,
          68,
          69,
          70,
          71,
          72,
          73,
          74,
          75,
          76,
          77,
          78,
          79,
          80,
          81,
          82,
          83,
          84,
          85,
          86,
          87,
          88,
          89,
          90,
          91,
          92,
          93,
          94,
          95,
          96,
          97,
          98,
          99,
          100,
          101,
          102,
          103,
          104,
          105,
          106,
          107,
          108,
          109,
          110,
          111,
          112,
          113,
          114,
          115,
          116,
          117,
          118,
          119,
          120,
          121,
          122,
          123,
          124,
          125,
          126,
          127,
          128,
          129,
          130,
          131,
          132,
          133,
          134,
          135,
          136,
          137,
          138,
          139,
          140,
          141,
          142,
          143,
          144,
          145,
          146,
          147,
          148,
          149,
          150,
          151,
          152,
          153,
          154,
          155,
          156,
          157,
          158,
          159,
          160,
          161,
          162,
          163,
          164,
          165,
          166,
          167,
          168,
          169,
          170,
          171,
          172,
          173,
          174,
          175,
          176,
          177,
          178,
          179,
          180,
          181,
          182
         ],
         "y": [
          0.000142091539228114,
          0.0020073215392281164,
          -0.0015899184607718851,
          0.002140561539228116,
          0.0012079415392281141,
          0.0005417815392281151,
          0.0008082515392281164,
          -0.0009237584607718861,
          8.861539228115917e-06,
          0.0004085515392281136,
          -0.0021228384607718843,
          0.0013411715392281157,
          8.861539228115917e-06,
          8.861539228115917e-06,
          8.861539228115917e-06,
          0.0012079415392281141,
          0.0009414815392281145,
          0.001074711539228116,
          0.0009414815392281145,
          -0.0011902184607718858,
          -0.0009237584607718861,
          0.0004085515392281136,
          8.861539228115917e-06,
          0.0016076315392281153,
          0.0008082515392281164,
          8.861539228115917e-06,
          0.00027532153922811553,
          0.0005417815392281151,
          0.0009414815392281145,
          -0.0021228384607718843,
          8.861539228115917e-06,
          0.0006750115392281132,
          8.861539228115917e-06,
          -0.0003908384607718869,
          0.00027532153922811553,
          8.861539228115917e-06,
          8.861539228115917e-06,
          0.0016076315392281153,
          0.0014744015392281137,
          8.861539228115917e-06,
          8.861539228115917e-06,
          0.0020073215392281164,
          8.861539228115917e-06,
          -0.0003908384607718869,
          8.861539228115917e-06,
          0.0020073215392281164,
          -0.0010569884607718842,
          8.861539228115917e-06,
          -0.000524068460771885,
          -0.0013234584607718855,
          8.861539228115917e-06,
          -0.0019896084607718863,
          -0.0013234584607718855,
          8.861539228115917e-06,
          0.002140561539228116,
          8.861539228115917e-06,
          0.0008082515392281164,
          0.0006750115392281132,
          0.0006750115392281132,
          0.000142091539228114,
          0.001074711539228116,
          -0.0018563784607718847,
          0.0020073215392281164,
          -0.0007905284607718846,
          8.861539228115917e-06,
          8.861539228115917e-06,
          -0.0015899184607718851,
          8.861539228115917e-06,
          8.861539228115917e-06,
          8.861539228115917e-06,
          0.0016076315392281153,
          -0.0006572984607718865,
          0.0020073215392281164,
          0.0012079415392281141,
          0.0018740915392281149,
          -0.000524068460771885,
          0.001074711539228116,
          0.0008082515392281164,
          -0.002256068460771886,
          8.861539228115917e-06,
          0.000142091539228114,
          -0.0009237584607718861,
          -0.0014566884607718836,
          8.861539228115917e-06,
          0.0020073215392281164,
          0.000142091539228114,
          0.0009414815392281145,
          0.0008082515392281164,
          0.000142091539228114,
          -0.0017231484607718867,
          8.861539228115917e-06,
          -0.000524068460771885,
          8.861539228115917e-06,
          8.861539228115917e-06,
          -0.0010569884607718842,
          0.0017408615392281133,
          0.0018740915392281149,
          8.861539228115917e-06,
          8.861539228115917e-06,
          -0.0018563784607718847,
          8.861539228115917e-06,
          0.0014744015392281137,
          -0.0006572984607718865,
          8.861539228115917e-06,
          8.861539228115917e-06,
          -0.0013234584607718855,
          0.0012079415392281141,
          -0.0017231484607718867,
          0.00027532153922811553,
          0.0017408615392281133,
          8.861539228115917e-06,
          8.861539228115917e-06,
          8.861539228115917e-06,
          0.002140561539228116,
          8.861539228115917e-06,
          -0.0003908384607718869,
          0.0016076315392281153,
          8.861539228115917e-06,
          0.0013411715392281157,
          0.0008082515392281164,
          0.0012079415392281141,
          -0.0009237584607718861,
          -0.000524068460771885,
          0.0008082515392281164,
          -0.0009237584607718861,
          8.861539228115917e-06,
          0.0017408615392281133,
          8.861539228115917e-06,
          8.861539228115917e-06,
          0.001074711539228116,
          -0.0003908384607718869,
          -0.0009237584607718861,
          0.0008082515392281164,
          0.0008082515392281164,
          8.861539228115917e-06,
          0.000142091539228114,
          -0.0019896084607718863,
          -0.0007905284607718846,
          8.861539228115917e-06,
          8.861539228115917e-06,
          -0.0018563784607718847,
          0.0004085515392281136,
          0.002140561539228116,
          -0.0014566884607718836,
          8.861539228115917e-06,
          -0.0015899184607718851,
          8.861539228115917e-06,
          0.0020073215392281164,
          0.0008082515392281164,
          0.0020073215392281164,
          0.0009414815392281145,
          0.0017408615392281133,
          -0.0013234584607718855,
          0.0014744015392281137,
          8.861539228115917e-06,
          8.861539228115917e-06,
          8.861539228115917e-06,
          -0.000524068460771885,
          8.861539228115917e-06,
          -0.0007905284607718846,
          0.0018740915392281149,
          -0.0006572984607718865,
          -0.0009237584607718861
         ]
        }
       ],
       "layout": {
        "template": {
         "data": {
          "bar": [
           {
            "error_x": {
             "color": "#2a3f5f"
            },
            "error_y": {
             "color": "#2a3f5f"
            },
            "marker": {
             "line": {
              "color": "#E5ECF6",
              "width": 0.5
             },
             "pattern": {
              "fillmode": "overlay",
              "size": 10,
              "solidity": 0.2
             }
            },
            "type": "bar"
           }
          ],
          "barpolar": [
           {
            "marker": {
             "line": {
              "color": "#E5ECF6",
              "width": 0.5
             },
             "pattern": {
              "fillmode": "overlay",
              "size": 10,
              "solidity": 0.2
             }
            },
            "type": "barpolar"
           }
          ],
          "carpet": [
           {
            "aaxis": {
             "endlinecolor": "#2a3f5f",
             "gridcolor": "white",
             "linecolor": "white",
             "minorgridcolor": "white",
             "startlinecolor": "#2a3f5f"
            },
            "baxis": {
             "endlinecolor": "#2a3f5f",
             "gridcolor": "white",
             "linecolor": "white",
             "minorgridcolor": "white",
             "startlinecolor": "#2a3f5f"
            },
            "type": "carpet"
           }
          ],
          "choropleth": [
           {
            "colorbar": {
             "outlinewidth": 0,
             "ticks": ""
            },
            "type": "choropleth"
           }
          ],
          "contour": [
           {
            "colorbar": {
             "outlinewidth": 0,
             "ticks": ""
            },
            "colorscale": [
             [
              0,
              "#0d0887"
             ],
             [
              0.1111111111111111,
              "#46039f"
             ],
             [
              0.2222222222222222,
              "#7201a8"
             ],
             [
              0.3333333333333333,
              "#9c179e"
             ],
             [
              0.4444444444444444,
              "#bd3786"
             ],
             [
              0.5555555555555556,
              "#d8576b"
             ],
             [
              0.6666666666666666,
              "#ed7953"
             ],
             [
              0.7777777777777778,
              "#fb9f3a"
             ],
             [
              0.8888888888888888,
              "#fdca26"
             ],
             [
              1,
              "#f0f921"
             ]
            ],
            "type": "contour"
           }
          ],
          "contourcarpet": [
           {
            "colorbar": {
             "outlinewidth": 0,
             "ticks": ""
            },
            "type": "contourcarpet"
           }
          ],
          "heatmap": [
           {
            "colorbar": {
             "outlinewidth": 0,
             "ticks": ""
            },
            "colorscale": [
             [
              0,
              "#0d0887"
             ],
             [
              0.1111111111111111,
              "#46039f"
             ],
             [
              0.2222222222222222,
              "#7201a8"
             ],
             [
              0.3333333333333333,
              "#9c179e"
             ],
             [
              0.4444444444444444,
              "#bd3786"
             ],
             [
              0.5555555555555556,
              "#d8576b"
             ],
             [
              0.6666666666666666,
              "#ed7953"
             ],
             [
              0.7777777777777778,
              "#fb9f3a"
             ],
             [
              0.8888888888888888,
              "#fdca26"
             ],
             [
              1,
              "#f0f921"
             ]
            ],
            "type": "heatmap"
           }
          ],
          "heatmapgl": [
           {
            "colorbar": {
             "outlinewidth": 0,
             "ticks": ""
            },
            "colorscale": [
             [
              0,
              "#0d0887"
             ],
             [
              0.1111111111111111,
              "#46039f"
             ],
             [
              0.2222222222222222,
              "#7201a8"
             ],
             [
              0.3333333333333333,
              "#9c179e"
             ],
             [
              0.4444444444444444,
              "#bd3786"
             ],
             [
              0.5555555555555556,
              "#d8576b"
             ],
             [
              0.6666666666666666,
              "#ed7953"
             ],
             [
              0.7777777777777778,
              "#fb9f3a"
             ],
             [
              0.8888888888888888,
              "#fdca26"
             ],
             [
              1,
              "#f0f921"
             ]
            ],
            "type": "heatmapgl"
           }
          ],
          "histogram": [
           {
            "marker": {
             "pattern": {
              "fillmode": "overlay",
              "size": 10,
              "solidity": 0.2
             }
            },
            "type": "histogram"
           }
          ],
          "histogram2d": [
           {
            "colorbar": {
             "outlinewidth": 0,
             "ticks": ""
            },
            "colorscale": [
             [
              0,
              "#0d0887"
             ],
             [
              0.1111111111111111,
              "#46039f"
             ],
             [
              0.2222222222222222,
              "#7201a8"
             ],
             [
              0.3333333333333333,
              "#9c179e"
             ],
             [
              0.4444444444444444,
              "#bd3786"
             ],
             [
              0.5555555555555556,
              "#d8576b"
             ],
             [
              0.6666666666666666,
              "#ed7953"
             ],
             [
              0.7777777777777778,
              "#fb9f3a"
             ],
             [
              0.8888888888888888,
              "#fdca26"
             ],
             [
              1,
              "#f0f921"
             ]
            ],
            "type": "histogram2d"
           }
          ],
          "histogram2dcontour": [
           {
            "colorbar": {
             "outlinewidth": 0,
             "ticks": ""
            },
            "colorscale": [
             [
              0,
              "#0d0887"
             ],
             [
              0.1111111111111111,
              "#46039f"
             ],
             [
              0.2222222222222222,
              "#7201a8"
             ],
             [
              0.3333333333333333,
              "#9c179e"
             ],
             [
              0.4444444444444444,
              "#bd3786"
             ],
             [
              0.5555555555555556,
              "#d8576b"
             ],
             [
              0.6666666666666666,
              "#ed7953"
             ],
             [
              0.7777777777777778,
              "#fb9f3a"
             ],
             [
              0.8888888888888888,
              "#fdca26"
             ],
             [
              1,
              "#f0f921"
             ]
            ],
            "type": "histogram2dcontour"
           }
          ],
          "mesh3d": [
           {
            "colorbar": {
             "outlinewidth": 0,
             "ticks": ""
            },
            "type": "mesh3d"
           }
          ],
          "parcoords": [
           {
            "line": {
             "colorbar": {
              "outlinewidth": 0,
              "ticks": ""
             }
            },
            "type": "parcoords"
           }
          ],
          "pie": [
           {
            "automargin": true,
            "type": "pie"
           }
          ],
          "scatter": [
           {
            "marker": {
             "colorbar": {
              "outlinewidth": 0,
              "ticks": ""
             }
            },
            "type": "scatter"
           }
          ],
          "scatter3d": [
           {
            "line": {
             "colorbar": {
              "outlinewidth": 0,
              "ticks": ""
             }
            },
            "marker": {
             "colorbar": {
              "outlinewidth": 0,
              "ticks": ""
             }
            },
            "type": "scatter3d"
           }
          ],
          "scattercarpet": [
           {
            "marker": {
             "colorbar": {
              "outlinewidth": 0,
              "ticks": ""
             }
            },
            "type": "scattercarpet"
           }
          ],
          "scattergeo": [
           {
            "marker": {
             "colorbar": {
              "outlinewidth": 0,
              "ticks": ""
             }
            },
            "type": "scattergeo"
           }
          ],
          "scattergl": [
           {
            "marker": {
             "colorbar": {
              "outlinewidth": 0,
              "ticks": ""
             }
            },
            "type": "scattergl"
           }
          ],
          "scattermapbox": [
           {
            "marker": {
             "colorbar": {
              "outlinewidth": 0,
              "ticks": ""
             }
            },
            "type": "scattermapbox"
           }
          ],
          "scatterpolar": [
           {
            "marker": {
             "colorbar": {
              "outlinewidth": 0,
              "ticks": ""
             }
            },
            "type": "scatterpolar"
           }
          ],
          "scatterpolargl": [
           {
            "marker": {
             "colorbar": {
              "outlinewidth": 0,
              "ticks": ""
             }
            },
            "type": "scatterpolargl"
           }
          ],
          "scatterternary": [
           {
            "marker": {
             "colorbar": {
              "outlinewidth": 0,
              "ticks": ""
             }
            },
            "type": "scatterternary"
           }
          ],
          "surface": [
           {
            "colorbar": {
             "outlinewidth": 0,
             "ticks": ""
            },
            "colorscale": [
             [
              0,
              "#0d0887"
             ],
             [
              0.1111111111111111,
              "#46039f"
             ],
             [
              0.2222222222222222,
              "#7201a8"
             ],
             [
              0.3333333333333333,
              "#9c179e"
             ],
             [
              0.4444444444444444,
              "#bd3786"
             ],
             [
              0.5555555555555556,
              "#d8576b"
             ],
             [
              0.6666666666666666,
              "#ed7953"
             ],
             [
              0.7777777777777778,
              "#fb9f3a"
             ],
             [
              0.8888888888888888,
              "#fdca26"
             ],
             [
              1,
              "#f0f921"
             ]
            ],
            "type": "surface"
           }
          ],
          "table": [
           {
            "cells": {
             "fill": {
              "color": "#EBF0F8"
             },
             "line": {
              "color": "white"
             }
            },
            "header": {
             "fill": {
              "color": "#C8D4E3"
             },
             "line": {
              "color": "white"
             }
            },
            "type": "table"
           }
          ]
         },
         "layout": {
          "annotationdefaults": {
           "arrowcolor": "#2a3f5f",
           "arrowhead": 0,
           "arrowwidth": 1
          },
          "autotypenumbers": "strict",
          "coloraxis": {
           "colorbar": {
            "outlinewidth": 0,
            "ticks": ""
           }
          },
          "colorscale": {
           "diverging": [
            [
             0,
             "#8e0152"
            ],
            [
             0.1,
             "#c51b7d"
            ],
            [
             0.2,
             "#de77ae"
            ],
            [
             0.3,
             "#f1b6da"
            ],
            [
             0.4,
             "#fde0ef"
            ],
            [
             0.5,
             "#f7f7f7"
            ],
            [
             0.6,
             "#e6f5d0"
            ],
            [
             0.7,
             "#b8e186"
            ],
            [
             0.8,
             "#7fbc41"
            ],
            [
             0.9,
             "#4d9221"
            ],
            [
             1,
             "#276419"
            ]
           ],
           "sequential": [
            [
             0,
             "#0d0887"
            ],
            [
             0.1111111111111111,
             "#46039f"
            ],
            [
             0.2222222222222222,
             "#7201a8"
            ],
            [
             0.3333333333333333,
             "#9c179e"
            ],
            [
             0.4444444444444444,
             "#bd3786"
            ],
            [
             0.5555555555555556,
             "#d8576b"
            ],
            [
             0.6666666666666666,
             "#ed7953"
            ],
            [
             0.7777777777777778,
             "#fb9f3a"
            ],
            [
             0.8888888888888888,
             "#fdca26"
            ],
            [
             1,
             "#f0f921"
            ]
           ],
           "sequentialminus": [
            [
             0,
             "#0d0887"
            ],
            [
             0.1111111111111111,
             "#46039f"
            ],
            [
             0.2222222222222222,
             "#7201a8"
            ],
            [
             0.3333333333333333,
             "#9c179e"
            ],
            [
             0.4444444444444444,
             "#bd3786"
            ],
            [
             0.5555555555555556,
             "#d8576b"
            ],
            [
             0.6666666666666666,
             "#ed7953"
            ],
            [
             0.7777777777777778,
             "#fb9f3a"
            ],
            [
             0.8888888888888888,
             "#fdca26"
            ],
            [
             1,
             "#f0f921"
            ]
           ]
          },
          "colorway": [
           "#636efa",
           "#EF553B",
           "#00cc96",
           "#ab63fa",
           "#FFA15A",
           "#19d3f3",
           "#FF6692",
           "#B6E880",
           "#FF97FF",
           "#FECB52"
          ],
          "font": {
           "color": "#2a3f5f"
          },
          "geo": {
           "bgcolor": "white",
           "lakecolor": "white",
           "landcolor": "#E5ECF6",
           "showlakes": true,
           "showland": true,
           "subunitcolor": "white"
          },
          "hoverlabel": {
           "align": "left"
          },
          "hovermode": "closest",
          "mapbox": {
           "style": "light"
          },
          "paper_bgcolor": "white",
          "plot_bgcolor": "#E5ECF6",
          "polar": {
           "angularaxis": {
            "gridcolor": "white",
            "linecolor": "white",
            "ticks": ""
           },
           "bgcolor": "#E5ECF6",
           "radialaxis": {
            "gridcolor": "white",
            "linecolor": "white",
            "ticks": ""
           }
          },
          "scene": {
           "xaxis": {
            "backgroundcolor": "#E5ECF6",
            "gridcolor": "white",
            "gridwidth": 2,
            "linecolor": "white",
            "showbackground": true,
            "ticks": "",
            "zerolinecolor": "white"
           },
           "yaxis": {
            "backgroundcolor": "#E5ECF6",
            "gridcolor": "white",
            "gridwidth": 2,
            "linecolor": "white",
            "showbackground": true,
            "ticks": "",
            "zerolinecolor": "white"
           },
           "zaxis": {
            "backgroundcolor": "#E5ECF6",
            "gridcolor": "white",
            "gridwidth": 2,
            "linecolor": "white",
            "showbackground": true,
            "ticks": "",
            "zerolinecolor": "white"
           }
          },
          "shapedefaults": {
           "line": {
            "color": "#2a3f5f"
           }
          },
          "ternary": {
           "aaxis": {
            "gridcolor": "white",
            "linecolor": "white",
            "ticks": ""
           },
           "baxis": {
            "gridcolor": "white",
            "linecolor": "white",
            "ticks": ""
           },
           "bgcolor": "#E5ECF6",
           "caxis": {
            "gridcolor": "white",
            "linecolor": "white",
            "ticks": ""
           }
          },
          "title": {
           "x": 0.05
          },
          "xaxis": {
           "automargin": true,
           "gridcolor": "white",
           "linecolor": "white",
           "ticks": "",
           "title": {
            "standoff": 15
           },
           "zerolinecolor": "white",
           "zerolinewidth": 2
          },
          "yaxis": {
           "automargin": true,
           "gridcolor": "white",
           "linecolor": "white",
           "ticks": "",
           "title": {
            "standoff": 15
           },
           "zerolinecolor": "white",
           "zerolinewidth": 2
          }
         }
        },
        "title": {
         "text": "calibrated  gyro"
        }
       }
      },
      "text/html": [
       "<div>                            <div id=\"9f1e018c-a38f-4ef6-94d4-75adec863d04\" class=\"plotly-graph-div\" style=\"height:525px; width:100%;\"></div>            <script type=\"text/javascript\">                require([\"plotly\"], function(Plotly) {                    window.PLOTLYENV=window.PLOTLYENV || {};                                    if (document.getElementById(\"9f1e018c-a38f-4ef6-94d4-75adec863d04\")) {                    Plotly.newPlot(                        \"9f1e018c-a38f-4ef6-94d4-75adec863d04\",                        [{\"name\":\"lb_gx\",\"x\":[20,21,22,23,24,25,26,27,28,29,30,31,32,33,34,35,36,37,38,39,40,41,42,43,44,45,46,47,48,49,50,51,52,53,54,55,56,57,58,59,60,61,62,63,64,65,66,67,68,69,70,71,72,73,74,75,76,77,78,79,80,81,82,83,84,85,86,87,88,89,90,91,92,93,94,95,96,97,98,99,100,101,102,103,104,105,106,107,108,109,110,111,112,113,114,115,116,117,118,119,120,121,122,123,124,125,126,127,128,129,130,131,132,133,134,135,136,137,138,139,140,141,142,143,144,145,146,147,148,149,150,151,152,153,154,155,156,157,158,159,160,161,162,163,164,165,166,167,168,169,170,171,172,173,174,175,176,177,178,179,180,181,182],\"y\":[-1.8570958506963775e-05,-1.8570958506963775e-05,-0.0025499509585069635,-1.8570958506963775e-05,-1.8570958506963775e-05,0.0013137490414930342,-0.001484110958506965,-0.0008179409585069713,-0.0018837909585069645,-0.0022834909585069674,-0.0010844009585069675,-1.8570958506963775e-05,0.0013137490414930342,0.00038112904149303906,-0.000684720958506968,0.000780829041493028,-0.0012176309585069656,0.0013137490414930342,-0.0017505609585069665,0.0009140490414930313,-0.0025499509585069635,-1.8570958506963775e-05,-0.002150270958506964,-0.0009511809585069642,0.00011466904149302903,-0.002017040958506966,-1.8570958506963775e-05,-0.0010844009585069675,-0.0025499509585069635,-1.8570958506963775e-05,-0.0002850209585069652,-0.0018837909585069645,0.001047289041493038,-0.0010844009585069675,-1.8570958506963775e-05,-1.8570958506963775e-05,-0.00041826095850697187,0.0014469890414930409,0.001846679041493035,0.001846679041493035,-1.8570958506963775e-05,-0.0022834909585069674,0.001846679041493035,-0.0001517909585069671,-1.8570958506963775e-05,-1.8570958506963775e-05,-0.001350880958506967,0.0009140490414930313,-1.8570958506963775e-05,-1.8570958506963775e-05,-0.00041826095850697187,-0.0001517909585069671,-0.002150270958506964,0.0005143690414930319,-0.0025499509585069635,0.00011466904149302903,0.001979909041493033,0.000780829041493028,-0.0022834909585069674,-0.002017040958506966,-1.8570958506963775e-05,0.001047289041493038,-0.0008179409585069713,-0.0017505609585069665,-0.0001517909585069671,-1.8570958506963775e-05,0.000247899041493041,0.000247899041493041,0.0015802090414930303,-1.8570958506963775e-05,-1.8570958506963775e-05,0.0025128290414930393,-1.8570958506963775e-05,-1.8570958506963775e-05,-0.0017505609585069665,-1.8570958506963775e-05,-0.0002850209585069652,-0.0005514809585069613,-0.0001517909585069671,-0.0002850209585069652,-1.8570958506963775e-05,-1.8570958506963775e-05,0.000247899041493041,0.0023795990414930412,-1.8570958506963775e-05,-0.0002850209585069652,0.0015802090414930303,-1.8570958506963775e-05,-0.000684720958506968,0.0015802090414930303,-1.8570958506963775e-05,-1.8570958506963775e-05,-0.0010844009585069675,-0.001350880958506967,-0.0012176309585069656,0.000780829041493028,-0.0017505609585069665,0.0014469890414930409,-0.0008179409585069713,-0.0016173309585069684,-0.0024167209585069654,-0.0012176309585069656,-1.8570958506963775e-05,0.0009140490414930313,0.0017134390414930284,-0.0002850209585069652,-0.0016173309585069684,-0.002017040958506966,-0.0008179409585069713,-1.8570958506963775e-05,0.0015802090414930303,0.0017134390414930284,-0.0005514809585069613,-1.8570958506963775e-05,0.001180519041493036,-0.0008179409585069713,0.001047289041493038,-0.002150270958506964,-1.8570958506963775e-05,0.0013137490414930342,-1.8570958506963775e-05,-0.0009511809585069642,-1.8570958506963775e-05,-0.002150270958506964,-0.0025499509585069635,-0.001484110958506965,-1.8570958506963775e-05,0.000247899041493041,-1.8570958506963775e-05,0.000247899041493041,-0.0010844009585069675,0.0009140490414930313,-0.0009511809585069642,-0.001484110958506965,-1.8570958506963775e-05,0.0023795990414930412,-0.0009511809585069642,0.001047289041493038,-1.8570958506963775e-05,-0.002017040958506966,0.001846679041493035,-1.8570958506963775e-05,-1.8570958506963775e-05,-1.8570958506963775e-05,-1.8570958506963775e-05,0.001180519041493036,-0.0018837909585069645,-1.8570958506963775e-05,-0.0012176309585069656,0.000780829041493028,-0.0005514809585069613,-1.8570958506963775e-05,-0.002150270958506964,-0.0022834909585069674,-0.0012176309585069656,-0.000684720958506968,-0.0008179409585069713,-0.0010844009585069675,-0.0022834909585069674,-1.8570958506963775e-05,0.00011466904149302903,-0.0012176309585069656,-0.0024167209585069654],\"type\":\"scatter\"},{\"name\":\"lb_gy\",\"x\":[20,21,22,23,24,25,26,27,28,29,30,31,32,33,34,35,36,37,38,39,40,41,42,43,44,45,46,47,48,49,50,51,52,53,54,55,56,57,58,59,60,61,62,63,64,65,66,67,68,69,70,71,72,73,74,75,76,77,78,79,80,81,82,83,84,85,86,87,88,89,90,91,92,93,94,95,96,97,98,99,100,101,102,103,104,105,106,107,108,109,110,111,112,113,114,115,116,117,118,119,120,121,122,123,124,125,126,127,128,129,130,131,132,133,134,135,136,137,138,139,140,141,142,143,144,145,146,147,148,149,150,151,152,153,154,155,156,157,158,159,160,161,162,163,164,165,166,167,168,169,170,171,172,173,174,175,176,177,178,179,180,181,182],\"y\":[-0.0010704241221235755,-4.574122123575386e-06,-0.0012036541221235736,-0.002402734122123572,0.0007948158778764286,0.00039511587787642577,-0.0029356641221235727,0.0009280458778764267,-4.574122123575386e-06,0.0006615758778764289,-4.574122123575386e-06,-4.574122123575386e-06,-4.574122123575386e-06,-0.0029356641221235727,-0.00013780412212357346,-4.574122123575386e-06,-0.0005374941221235746,-0.0025359741221235715,0.0007948158778764286,0.002393585877876428,-4.574122123575386e-06,0.002127115877876423,-0.0009371941221235705,-0.0006707341221235744,0.001993895877876427,-0.0005374941221235746,-0.0005374941221235746,-0.0017365841221235745,-4.574122123575386e-06,-0.0008039541221235708,0.0010612758778764247,-4.574122123575386e-06,-0.0012036541221235736,0.002926515877876429,0.0009280458778764267,-0.002669194122123575,-0.002402734122123572,-4.574122123575386e-06,-0.0013368841221235717,0.001460965877876426,-4.574122123575386e-06,-4.574122123575386e-06,0.001194495877876428,-4.574122123575386e-06,-4.574122123575386e-06,-4.574122123575386e-06,0.0005283458778764238,-4.574122123575386e-06,-0.0008039541221235708,-0.0013368841221235717,-4.574122123575386e-06,-0.0029356641221235727,-0.003068884122123576,-4.574122123575386e-06,-4.574122123575386e-06,-0.0010704241221235755,0.0017274358778764237,-4.574122123575386e-06,-0.0032021241221235758,0.003192975877876425,-0.0016033441221235747,0.001194495877876428,-4.574122123575386e-06,-0.0009371941221235705,-0.0014701241221235714,0.001860655877876427,-0.0006707341221235744,0.0005283458778764238,-0.0020030441221235706,-4.574122123575386e-06,-4.574122123575386e-06,-0.0017365841221235745,-4.574122123575386e-06,-4.574122123575386e-06,-0.0009371941221235705,0.001460965877876426,-0.0025359741221235715,0.002393585877876428,-0.0005374941221235746,0.002793275877876429,-4.574122123575386e-06,-0.0020030441221235706,-4.574122123575386e-06,-0.0018698141221235726,-0.0020030441221235706,-0.002402734122123572,-0.0016033441221235747,0.00012865587787642269,-4.574122123575386e-06,-4.574122123575386e-06,0.001860655877876427,0.002127115877876423,-4.574122123575386e-06,0.0015942058778764256,-0.0018698141221235726,-4.574122123575386e-06,0.001460965877876426,-0.0014701241221235714,-4.574122123575386e-06,-0.00013780412212357346,-4.574122123575386e-06,-4.574122123575386e-06,0.0017274358778764237,-0.0025359741221235715,-4.574122123575386e-06,0.0007948158778764286,-0.00013780412212357346,-0.0006707341221235744,0.00012865587787642269,-0.002402734122123572,0.003059745877876427,-0.0020030441221235706,-4.574122123575386e-06,-4.574122123575386e-06,-0.0022695041221235737,-4.574122123575386e-06,-4.574122123575386e-06,0.0013277458778764295,-4.574122123575386e-06,0.0010612758778764247,-0.0029356641221235727,0.0002618858778764277,-0.002402734122123572,-4.574122123575386e-06,0.0010612758778764247,0.0006615758778764289,-0.00013780412212357346,-0.0014701241221235714,-4.574122123575386e-06,-0.0016033441221235747,0.00039511587787642577,-0.00013780412212357346,-0.0004042741221235713,0.001460965877876426,-0.0009371941221235705,-4.574122123575386e-06,-0.0009371941221235705,-0.00027103412212357153,-0.0005374941221235746,-4.574122123575386e-06,0.0005283458778764238,-0.0012036541221235736,0.00039511587787642577,-4.574122123575386e-06,-4.574122123575386e-06,-4.574122123575386e-06,-4.574122123575386e-06,-4.574122123575386e-06,-4.574122123575386e-06,-0.0004042741221235713,0.0015942058778764256,-0.0005374941221235746,0.00012865587787642269,-0.0008039541221235708,-4.574122123575386e-06,-4.574122123575386e-06,-4.574122123575386e-06,-4.574122123575386e-06,-0.0012036541221235736,0.0017274358778764237,-0.0016033441221235747,-0.0029356641221235727,-4.574122123575386e-06],\"type\":\"scatter\"},{\"name\":\"lb_gz\",\"x\":[20,21,22,23,24,25,26,27,28,29,30,31,32,33,34,35,36,37,38,39,40,41,42,43,44,45,46,47,48,49,50,51,52,53,54,55,56,57,58,59,60,61,62,63,64,65,66,67,68,69,70,71,72,73,74,75,76,77,78,79,80,81,82,83,84,85,86,87,88,89,90,91,92,93,94,95,96,97,98,99,100,101,102,103,104,105,106,107,108,109,110,111,112,113,114,115,116,117,118,119,120,121,122,123,124,125,126,127,128,129,130,131,132,133,134,135,136,137,138,139,140,141,142,143,144,145,146,147,148,149,150,151,152,153,154,155,156,157,158,159,160,161,162,163,164,165,166,167,168,169,170,171,172,173,174,175,176,177,178,179,180,181,182],\"y\":[0.000142091539228114,0.0020073215392281164,-0.0015899184607718851,0.002140561539228116,0.0012079415392281141,0.0005417815392281151,0.0008082515392281164,-0.0009237584607718861,8.861539228115917e-06,0.0004085515392281136,-0.0021228384607718843,0.0013411715392281157,8.861539228115917e-06,8.861539228115917e-06,8.861539228115917e-06,0.0012079415392281141,0.0009414815392281145,0.001074711539228116,0.0009414815392281145,-0.0011902184607718858,-0.0009237584607718861,0.0004085515392281136,8.861539228115917e-06,0.0016076315392281153,0.0008082515392281164,8.861539228115917e-06,0.00027532153922811553,0.0005417815392281151,0.0009414815392281145,-0.0021228384607718843,8.861539228115917e-06,0.0006750115392281132,8.861539228115917e-06,-0.0003908384607718869,0.00027532153922811553,8.861539228115917e-06,8.861539228115917e-06,0.0016076315392281153,0.0014744015392281137,8.861539228115917e-06,8.861539228115917e-06,0.0020073215392281164,8.861539228115917e-06,-0.0003908384607718869,8.861539228115917e-06,0.0020073215392281164,-0.0010569884607718842,8.861539228115917e-06,-0.000524068460771885,-0.0013234584607718855,8.861539228115917e-06,-0.0019896084607718863,-0.0013234584607718855,8.861539228115917e-06,0.002140561539228116,8.861539228115917e-06,0.0008082515392281164,0.0006750115392281132,0.0006750115392281132,0.000142091539228114,0.001074711539228116,-0.0018563784607718847,0.0020073215392281164,-0.0007905284607718846,8.861539228115917e-06,8.861539228115917e-06,-0.0015899184607718851,8.861539228115917e-06,8.861539228115917e-06,8.861539228115917e-06,0.0016076315392281153,-0.0006572984607718865,0.0020073215392281164,0.0012079415392281141,0.0018740915392281149,-0.000524068460771885,0.001074711539228116,0.0008082515392281164,-0.002256068460771886,8.861539228115917e-06,0.000142091539228114,-0.0009237584607718861,-0.0014566884607718836,8.861539228115917e-06,0.0020073215392281164,0.000142091539228114,0.0009414815392281145,0.0008082515392281164,0.000142091539228114,-0.0017231484607718867,8.861539228115917e-06,-0.000524068460771885,8.861539228115917e-06,8.861539228115917e-06,-0.0010569884607718842,0.0017408615392281133,0.0018740915392281149,8.861539228115917e-06,8.861539228115917e-06,-0.0018563784607718847,8.861539228115917e-06,0.0014744015392281137,-0.0006572984607718865,8.861539228115917e-06,8.861539228115917e-06,-0.0013234584607718855,0.0012079415392281141,-0.0017231484607718867,0.00027532153922811553,0.0017408615392281133,8.861539228115917e-06,8.861539228115917e-06,8.861539228115917e-06,0.002140561539228116,8.861539228115917e-06,-0.0003908384607718869,0.0016076315392281153,8.861539228115917e-06,0.0013411715392281157,0.0008082515392281164,0.0012079415392281141,-0.0009237584607718861,-0.000524068460771885,0.0008082515392281164,-0.0009237584607718861,8.861539228115917e-06,0.0017408615392281133,8.861539228115917e-06,8.861539228115917e-06,0.001074711539228116,-0.0003908384607718869,-0.0009237584607718861,0.0008082515392281164,0.0008082515392281164,8.861539228115917e-06,0.000142091539228114,-0.0019896084607718863,-0.0007905284607718846,8.861539228115917e-06,8.861539228115917e-06,-0.0018563784607718847,0.0004085515392281136,0.002140561539228116,-0.0014566884607718836,8.861539228115917e-06,-0.0015899184607718851,8.861539228115917e-06,0.0020073215392281164,0.0008082515392281164,0.0020073215392281164,0.0009414815392281145,0.0017408615392281133,-0.0013234584607718855,0.0014744015392281137,8.861539228115917e-06,8.861539228115917e-06,8.861539228115917e-06,-0.000524068460771885,8.861539228115917e-06,-0.0007905284607718846,0.0018740915392281149,-0.0006572984607718865,-0.0009237584607718861],\"type\":\"scatter\"}],                        {\"template\":{\"data\":{\"bar\":[{\"error_x\":{\"color\":\"#2a3f5f\"},\"error_y\":{\"color\":\"#2a3f5f\"},\"marker\":{\"line\":{\"color\":\"#E5ECF6\",\"width\":0.5},\"pattern\":{\"fillmode\":\"overlay\",\"size\":10,\"solidity\":0.2}},\"type\":\"bar\"}],\"barpolar\":[{\"marker\":{\"line\":{\"color\":\"#E5ECF6\",\"width\":0.5},\"pattern\":{\"fillmode\":\"overlay\",\"size\":10,\"solidity\":0.2}},\"type\":\"barpolar\"}],\"carpet\":[{\"aaxis\":{\"endlinecolor\":\"#2a3f5f\",\"gridcolor\":\"white\",\"linecolor\":\"white\",\"minorgridcolor\":\"white\",\"startlinecolor\":\"#2a3f5f\"},\"baxis\":{\"endlinecolor\":\"#2a3f5f\",\"gridcolor\":\"white\",\"linecolor\":\"white\",\"minorgridcolor\":\"white\",\"startlinecolor\":\"#2a3f5f\"},\"type\":\"carpet\"}],\"choropleth\":[{\"colorbar\":{\"outlinewidth\":0,\"ticks\":\"\"},\"type\":\"choropleth\"}],\"contour\":[{\"colorbar\":{\"outlinewidth\":0,\"ticks\":\"\"},\"colorscale\":[[0.0,\"#0d0887\"],[0.1111111111111111,\"#46039f\"],[0.2222222222222222,\"#7201a8\"],[0.3333333333333333,\"#9c179e\"],[0.4444444444444444,\"#bd3786\"],[0.5555555555555556,\"#d8576b\"],[0.6666666666666666,\"#ed7953\"],[0.7777777777777778,\"#fb9f3a\"],[0.8888888888888888,\"#fdca26\"],[1.0,\"#f0f921\"]],\"type\":\"contour\"}],\"contourcarpet\":[{\"colorbar\":{\"outlinewidth\":0,\"ticks\":\"\"},\"type\":\"contourcarpet\"}],\"heatmap\":[{\"colorbar\":{\"outlinewidth\":0,\"ticks\":\"\"},\"colorscale\":[[0.0,\"#0d0887\"],[0.1111111111111111,\"#46039f\"],[0.2222222222222222,\"#7201a8\"],[0.3333333333333333,\"#9c179e\"],[0.4444444444444444,\"#bd3786\"],[0.5555555555555556,\"#d8576b\"],[0.6666666666666666,\"#ed7953\"],[0.7777777777777778,\"#fb9f3a\"],[0.8888888888888888,\"#fdca26\"],[1.0,\"#f0f921\"]],\"type\":\"heatmap\"}],\"heatmapgl\":[{\"colorbar\":{\"outlinewidth\":0,\"ticks\":\"\"},\"colorscale\":[[0.0,\"#0d0887\"],[0.1111111111111111,\"#46039f\"],[0.2222222222222222,\"#7201a8\"],[0.3333333333333333,\"#9c179e\"],[0.4444444444444444,\"#bd3786\"],[0.5555555555555556,\"#d8576b\"],[0.6666666666666666,\"#ed7953\"],[0.7777777777777778,\"#fb9f3a\"],[0.8888888888888888,\"#fdca26\"],[1.0,\"#f0f921\"]],\"type\":\"heatmapgl\"}],\"histogram\":[{\"marker\":{\"pattern\":{\"fillmode\":\"overlay\",\"size\":10,\"solidity\":0.2}},\"type\":\"histogram\"}],\"histogram2d\":[{\"colorbar\":{\"outlinewidth\":0,\"ticks\":\"\"},\"colorscale\":[[0.0,\"#0d0887\"],[0.1111111111111111,\"#46039f\"],[0.2222222222222222,\"#7201a8\"],[0.3333333333333333,\"#9c179e\"],[0.4444444444444444,\"#bd3786\"],[0.5555555555555556,\"#d8576b\"],[0.6666666666666666,\"#ed7953\"],[0.7777777777777778,\"#fb9f3a\"],[0.8888888888888888,\"#fdca26\"],[1.0,\"#f0f921\"]],\"type\":\"histogram2d\"}],\"histogram2dcontour\":[{\"colorbar\":{\"outlinewidth\":0,\"ticks\":\"\"},\"colorscale\":[[0.0,\"#0d0887\"],[0.1111111111111111,\"#46039f\"],[0.2222222222222222,\"#7201a8\"],[0.3333333333333333,\"#9c179e\"],[0.4444444444444444,\"#bd3786\"],[0.5555555555555556,\"#d8576b\"],[0.6666666666666666,\"#ed7953\"],[0.7777777777777778,\"#fb9f3a\"],[0.8888888888888888,\"#fdca26\"],[1.0,\"#f0f921\"]],\"type\":\"histogram2dcontour\"}],\"mesh3d\":[{\"colorbar\":{\"outlinewidth\":0,\"ticks\":\"\"},\"type\":\"mesh3d\"}],\"parcoords\":[{\"line\":{\"colorbar\":{\"outlinewidth\":0,\"ticks\":\"\"}},\"type\":\"parcoords\"}],\"pie\":[{\"automargin\":true,\"type\":\"pie\"}],\"scatter\":[{\"marker\":{\"colorbar\":{\"outlinewidth\":0,\"ticks\":\"\"}},\"type\":\"scatter\"}],\"scatter3d\":[{\"line\":{\"colorbar\":{\"outlinewidth\":0,\"ticks\":\"\"}},\"marker\":{\"colorbar\":{\"outlinewidth\":0,\"ticks\":\"\"}},\"type\":\"scatter3d\"}],\"scattercarpet\":[{\"marker\":{\"colorbar\":{\"outlinewidth\":0,\"ticks\":\"\"}},\"type\":\"scattercarpet\"}],\"scattergeo\":[{\"marker\":{\"colorbar\":{\"outlinewidth\":0,\"ticks\":\"\"}},\"type\":\"scattergeo\"}],\"scattergl\":[{\"marker\":{\"colorbar\":{\"outlinewidth\":0,\"ticks\":\"\"}},\"type\":\"scattergl\"}],\"scattermapbox\":[{\"marker\":{\"colorbar\":{\"outlinewidth\":0,\"ticks\":\"\"}},\"type\":\"scattermapbox\"}],\"scatterpolar\":[{\"marker\":{\"colorbar\":{\"outlinewidth\":0,\"ticks\":\"\"}},\"type\":\"scatterpolar\"}],\"scatterpolargl\":[{\"marker\":{\"colorbar\":{\"outlinewidth\":0,\"ticks\":\"\"}},\"type\":\"scatterpolargl\"}],\"scatterternary\":[{\"marker\":{\"colorbar\":{\"outlinewidth\":0,\"ticks\":\"\"}},\"type\":\"scatterternary\"}],\"surface\":[{\"colorbar\":{\"outlinewidth\":0,\"ticks\":\"\"},\"colorscale\":[[0.0,\"#0d0887\"],[0.1111111111111111,\"#46039f\"],[0.2222222222222222,\"#7201a8\"],[0.3333333333333333,\"#9c179e\"],[0.4444444444444444,\"#bd3786\"],[0.5555555555555556,\"#d8576b\"],[0.6666666666666666,\"#ed7953\"],[0.7777777777777778,\"#fb9f3a\"],[0.8888888888888888,\"#fdca26\"],[1.0,\"#f0f921\"]],\"type\":\"surface\"}],\"table\":[{\"cells\":{\"fill\":{\"color\":\"#EBF0F8\"},\"line\":{\"color\":\"white\"}},\"header\":{\"fill\":{\"color\":\"#C8D4E3\"},\"line\":{\"color\":\"white\"}},\"type\":\"table\"}]},\"layout\":{\"annotationdefaults\":{\"arrowcolor\":\"#2a3f5f\",\"arrowhead\":0,\"arrowwidth\":1},\"autotypenumbers\":\"strict\",\"coloraxis\":{\"colorbar\":{\"outlinewidth\":0,\"ticks\":\"\"}},\"colorscale\":{\"diverging\":[[0,\"#8e0152\"],[0.1,\"#c51b7d\"],[0.2,\"#de77ae\"],[0.3,\"#f1b6da\"],[0.4,\"#fde0ef\"],[0.5,\"#f7f7f7\"],[0.6,\"#e6f5d0\"],[0.7,\"#b8e186\"],[0.8,\"#7fbc41\"],[0.9,\"#4d9221\"],[1,\"#276419\"]],\"sequential\":[[0.0,\"#0d0887\"],[0.1111111111111111,\"#46039f\"],[0.2222222222222222,\"#7201a8\"],[0.3333333333333333,\"#9c179e\"],[0.4444444444444444,\"#bd3786\"],[0.5555555555555556,\"#d8576b\"],[0.6666666666666666,\"#ed7953\"],[0.7777777777777778,\"#fb9f3a\"],[0.8888888888888888,\"#fdca26\"],[1.0,\"#f0f921\"]],\"sequentialminus\":[[0.0,\"#0d0887\"],[0.1111111111111111,\"#46039f\"],[0.2222222222222222,\"#7201a8\"],[0.3333333333333333,\"#9c179e\"],[0.4444444444444444,\"#bd3786\"],[0.5555555555555556,\"#d8576b\"],[0.6666666666666666,\"#ed7953\"],[0.7777777777777778,\"#fb9f3a\"],[0.8888888888888888,\"#fdca26\"],[1.0,\"#f0f921\"]]},\"colorway\":[\"#636efa\",\"#EF553B\",\"#00cc96\",\"#ab63fa\",\"#FFA15A\",\"#19d3f3\",\"#FF6692\",\"#B6E880\",\"#FF97FF\",\"#FECB52\"],\"font\":{\"color\":\"#2a3f5f\"},\"geo\":{\"bgcolor\":\"white\",\"lakecolor\":\"white\",\"landcolor\":\"#E5ECF6\",\"showlakes\":true,\"showland\":true,\"subunitcolor\":\"white\"},\"hoverlabel\":{\"align\":\"left\"},\"hovermode\":\"closest\",\"mapbox\":{\"style\":\"light\"},\"paper_bgcolor\":\"white\",\"plot_bgcolor\":\"#E5ECF6\",\"polar\":{\"angularaxis\":{\"gridcolor\":\"white\",\"linecolor\":\"white\",\"ticks\":\"\"},\"bgcolor\":\"#E5ECF6\",\"radialaxis\":{\"gridcolor\":\"white\",\"linecolor\":\"white\",\"ticks\":\"\"}},\"scene\":{\"xaxis\":{\"backgroundcolor\":\"#E5ECF6\",\"gridcolor\":\"white\",\"gridwidth\":2,\"linecolor\":\"white\",\"showbackground\":true,\"ticks\":\"\",\"zerolinecolor\":\"white\"},\"yaxis\":{\"backgroundcolor\":\"#E5ECF6\",\"gridcolor\":\"white\",\"gridwidth\":2,\"linecolor\":\"white\",\"showbackground\":true,\"ticks\":\"\",\"zerolinecolor\":\"white\"},\"zaxis\":{\"backgroundcolor\":\"#E5ECF6\",\"gridcolor\":\"white\",\"gridwidth\":2,\"linecolor\":\"white\",\"showbackground\":true,\"ticks\":\"\",\"zerolinecolor\":\"white\"}},\"shapedefaults\":{\"line\":{\"color\":\"#2a3f5f\"}},\"ternary\":{\"aaxis\":{\"gridcolor\":\"white\",\"linecolor\":\"white\",\"ticks\":\"\"},\"baxis\":{\"gridcolor\":\"white\",\"linecolor\":\"white\",\"ticks\":\"\"},\"bgcolor\":\"#E5ECF6\",\"caxis\":{\"gridcolor\":\"white\",\"linecolor\":\"white\",\"ticks\":\"\"}},\"title\":{\"x\":0.05},\"xaxis\":{\"automargin\":true,\"gridcolor\":\"white\",\"linecolor\":\"white\",\"ticks\":\"\",\"title\":{\"standoff\":15},\"zerolinecolor\":\"white\",\"zerolinewidth\":2},\"yaxis\":{\"automargin\":true,\"gridcolor\":\"white\",\"linecolor\":\"white\",\"ticks\":\"\",\"title\":{\"standoff\":15},\"zerolinecolor\":\"white\",\"zerolinewidth\":2}}},\"title\":{\"text\":\"calibrated  gyro\"}},                        {\"responsive\": true}                    ).then(function(){\n",
       "                            \n",
       "var gd = document.getElementById('9f1e018c-a38f-4ef6-94d4-75adec863d04');\n",
       "var x = new MutationObserver(function (mutations, observer) {{\n",
       "        var display = window.getComputedStyle(gd).display;\n",
       "        if (!display || display === 'none') {{\n",
       "            console.log([gd, 'removed!']);\n",
       "            Plotly.purge(gd);\n",
       "            observer.disconnect();\n",
       "        }}\n",
       "}});\n",
       "\n",
       "// Listen for the removal of the full notebook cells\n",
       "var notebookContainer = gd.closest('#notebook-container');\n",
       "if (notebookContainer) {{\n",
       "    x.observe(notebookContainer, {childList: true});\n",
       "}}\n",
       "\n",
       "// Listen for the clearing of the current output cell\n",
       "var outputEl = gd.closest('.output');\n",
       "if (outputEl) {{\n",
       "    x.observe(outputEl, {childList: true});\n",
       "}}\n",
       "\n",
       "                        })                };                });            </script>        </div>"
      ]
     },
     "metadata": {},
     "output_type": "display_data"
    },
    {
     "name": "stdout",
     "output_type": "stream",
     "text": [
      "D:/Thesis/Vadim/__Vadim1.csv\n"
     ]
    },
    {
     "data": {
      "application/vnd.plotly.v1+json": {
       "config": {
        "plotlyServerURL": "https://plot.ly"
       },
       "data": [
        {
         "name": "lb_gx",
         "type": "scatter",
         "x": [
          20,
          21,
          22,
          23,
          24,
          25,
          26,
          27,
          28,
          29,
          30,
          31,
          32,
          33,
          34,
          35,
          36,
          37,
          38,
          39,
          40,
          41,
          42,
          43,
          44,
          45,
          46,
          47,
          48,
          49,
          50,
          51,
          52,
          53,
          54,
          55,
          56,
          57,
          58,
          59,
          60,
          61,
          62,
          63,
          64,
          65,
          66,
          67,
          68,
          69,
          70,
          71,
          72,
          73,
          74,
          75,
          76,
          77,
          78,
          79,
          80,
          81,
          82,
          83,
          84,
          85,
          86,
          87,
          88,
          89,
          90,
          91,
          92,
          93,
          94,
          95,
          96,
          97,
          98,
          99,
          100,
          101,
          102,
          103,
          104,
          105,
          106,
          107,
          108,
          109,
          110,
          111,
          112,
          113,
          114,
          115,
          116,
          117,
          118,
          119,
          120,
          121,
          122,
          123,
          124,
          125,
          126,
          127,
          128,
          129
         ],
         "y": [
          0.09699235,
          0.1036539,
          0.09979021,
          0.1005896,
          0.1028545,
          0.1029878,
          0.1103155,
          0.110049,
          0.1004564,
          0.09312864,
          0.08713324,
          0.09619296,
          0.0963262,
          0.09219603,
          0.09446095,
          0.09752527,
          0.02837825,
          -0.02438132,
          -0.1293675,
          -0.140026,
          -0.1903875,
          -0.3978286,
          -0.4712389,
          -0.559971,
          -0.4950873,
          -0.4679082,
          -0.4681746,
          -0.4617795,
          -0.2865804,
          -0.4071548,
          -0.3011026,
          -0.2571363,
          -0.2250276,
          -0.2013124,
          -0.1201746,
          -0.2034441,
          -0.1823936,
          -0.1931853,
          -0.1585452,
          -0.1418913,
          -0.1216401,
          -0.1087167,
          -0.1586784,
          -0.1137795,
          0.002931087,
          0.1378943,
          0.2723247,
          0.2368852,
          0.2688607,
          0.3250842,
          0.3453354,
          0.3378744,
          0.3390735,
          0.3422711,
          0.3681179,
          0.389435,
          0.4236754,
          0.4556509,
          0.5097427,
          0.5140062,
          0.529461,
          0.4912236,
          0.5410521,
          0.5954104,
          0.6517673,
          0.7015958,
          0.6582956,
          0.6196586,
          0.580755,
          0.5385207,
          0.4824304,
          0.4613798,
          0.3285482,
          0.04822971,
          0.01052527,
          0.01252374,
          0.1432236,
          0.07554212,
          0.0963262,
          0.1127136,
          0.1312328,
          0.1027213,
          0.1025881,
          0.09139664,
          0.09019755,
          0.09779175,
          0.08473509,
          0.1099158,
          0.1241715,
          0.1017887,
          0.103121,
          0.114046,
          0.1057856,
          0.1167106,
          0.113513,
          0.1099158,
          0.1137795,
          0.09859113,
          0.1009893,
          0.1001899,
          0.09579327,
          0.09432773,
          0.08833232,
          0.0877994,
          0.1004564,
          0.1005896,
          0.0984579,
          0.09832466,
          0.1067182,
          0.1020551
         ]
        },
        {
         "name": "lb_gy",
         "type": "scatter",
         "x": [
          20,
          21,
          22,
          23,
          24,
          25,
          26,
          27,
          28,
          29,
          30,
          31,
          32,
          33,
          34,
          35,
          36,
          37,
          38,
          39,
          40,
          41,
          42,
          43,
          44,
          45,
          46,
          47,
          48,
          49,
          50,
          51,
          52,
          53,
          54,
          55,
          56,
          57,
          58,
          59,
          60,
          61,
          62,
          63,
          64,
          65,
          66,
          67,
          68,
          69,
          70,
          71,
          72,
          73,
          74,
          75,
          76,
          77,
          78,
          79,
          80,
          81,
          82,
          83,
          84,
          85,
          86,
          87,
          88,
          89,
          90,
          91,
          92,
          93,
          94,
          95,
          96,
          97,
          98,
          99,
          100,
          101,
          102,
          103,
          104,
          105,
          106,
          107,
          108,
          109,
          110,
          111,
          112,
          113,
          114,
          115,
          116,
          117,
          118,
          119,
          120,
          121,
          122,
          123,
          124,
          125,
          126,
          127,
          128,
          129
         ],
         "y": [
          0.05888822,
          0.06301838,
          0.07740736,
          0.07700767,
          0.07740736,
          0.05142726,
          0.03557274,
          0.03184227,
          0.04809648,
          0.06315161,
          0.0720781,
          0.0575559,
          0.03983614,
          0.03543952,
          0.01105819,
          0.001332313,
          -0.01438898,
          -0.0596876,
          -0.06168607,
          -0.07780705,
          -0.07247781,
          -0.261533,
          -0.3400062,
          -0.01745329,
          -0.3810414,
          0.4082206,
          -0.1863905,
          0.02171669,
          0.1184426,
          -0.07700767,
          0.07687444,
          0.04023584,
          0.1801287,
          0.2180996,
          0.01145789,
          0.08899847,
          0.01252374,
          0.03464013,
          0.03384074,
          -0.03530628,
          0.01572129,
          0.0006661563,
          -0.08033845,
          0.005862175,
          0.02464778,
          -0.05102757,
          -0.0575559,
          0.04063553,
          0.03597244,
          0.01358959,
          0.06794794,
          0.05715621,
          0.103121,
          0.06967995,
          0.1220398,
          0.180928,
          0.0720781,
          0.09073049,
          -0.002398162,
          0.0575559,
          0.02358193,
          -0.0750092,
          -0.08913171,
          -0.07940583,
          0.02438132,
          0.07327719,
          0.2691271,
          0.2904441,
          0.08193722,
          0.06608271,
          0.1998469,
          0.08966463,
          0.1589449,
          0.3326785,
          0.2735238,
          0.05768914,
          0.01678714,
          0.2320888,
          0.07687444,
          0.02184993,
          0.03783768,
          0.08833232,
          0.03304135,
          0.08886525,
          0.09792498,
          0.1057856,
          0.09179633,
          0.09912406,
          0.06914702,
          0.06461716,
          0.06248546,
          0.05955438,
          0.01998469,
          0.04596478,
          0.01771976,
          0.06328485,
          0.03397397,
          0.04583155,
          0.02158346,
          0.03890353,
          0.0319755,
          0.04196784,
          0.03330781,
          0.06235223,
          0.0536922,
          0.06941348,
          0.07034611,
          0.07434304,
          0.07767382,
          0.07221134
         ]
        },
        {
         "name": "lb_gz",
         "type": "scatter",
         "x": [
          20,
          21,
          22,
          23,
          24,
          25,
          26,
          27,
          28,
          29,
          30,
          31,
          32,
          33,
          34,
          35,
          36,
          37,
          38,
          39,
          40,
          41,
          42,
          43,
          44,
          45,
          46,
          47,
          48,
          49,
          50,
          51,
          52,
          53,
          54,
          55,
          56,
          57,
          58,
          59,
          60,
          61,
          62,
          63,
          64,
          65,
          66,
          67,
          68,
          69,
          70,
          71,
          72,
          73,
          74,
          75,
          76,
          77,
          78,
          79,
          80,
          81,
          82,
          83,
          84,
          85,
          86,
          87,
          88,
          89,
          90,
          91,
          92,
          93,
          94,
          95,
          96,
          97,
          98,
          99,
          100,
          101,
          102,
          103,
          104,
          105,
          106,
          107,
          108,
          109,
          110,
          111,
          112,
          113,
          114,
          115,
          116,
          117,
          118,
          119,
          120,
          121,
          122,
          123,
          124,
          125,
          126,
          127,
          128,
          129
         ],
         "y": [
          0.009992343,
          0.01225728,
          0.01758653,
          0.02145023,
          0.019585,
          0.0149219,
          0.005462481,
          -0.001199081,
          0.02145023,
          0.02598009,
          0.03490659,
          0.03317458,
          0.02518071,
          0.02971057,
          0.0298438,
          0.02957734,
          0.06554978,
          0.1032542,
          0.1907871,
          0.2562037,
          0.2283584,
          0.3160245,
          0.3478668,
          0.3645207,
          0.2284916,
          0.4336677,
          0.3510643,
          0.4336677,
          0.5238653,
          0.4038239,
          0.335876,
          0.2695268,
          0.2827167,
          0.2977719,
          0.3541287,
          0.3737137,
          0.3960965,
          0.3638546,
          0.2941746,
          0.2279587,
          0.2347535,
          0.2512741,
          0.2006463,
          0.170536,
          0.1476202,
          0.1184426,
          0.09219603,
          0.02224962,
          -0.01838591,
          -0.09725882,
          -0.1441562,
          -0.2095728,
          -0.2669954,
          -0.3269495,
          -0.3337443,
          -0.3081639,
          -0.2992374,
          -0.2791195,
          -0.2979051,
          -0.3789097,
          -0.4292711,
          -0.5836861,
          -0.5928791,
          -0.6159281,
          -0.5217336,
          -0.4432604,
          -0.3928989,
          -0.4047565,
          -0.4158147,
          -0.394631,
          -0.3325452,
          -0.3037673,
          -0.2276922,
          0.05649005,
          0.1063185,
          0.06128638,
          -0.02398163,
          0.03956968,
          0.02411486,
          0.01692037,
          -0.006794794,
          0.01465544,
          0.008793262,
          0.01159112,
          0.01612098,
          0.00746095,
          0.02598009,
          0.01891884,
          0.01585452,
          0.03277489,
          0.02744564,
          0.02264931,
          0.02051761,
          0.01838591,
          0.01052527,
          0.0191853,
          0.01025881,
          0.01732006,
          0.008393569,
          0.004529863,
          0.005196019,
          0.009859113,
          0.009326188,
          0.01225728,
          0.01545483,
          0.01345636,
          0.01678714,
          0.01545483,
          0.01159112,
          0.009059726
         ]
        }
       ],
       "layout": {
        "template": {
         "data": {
          "bar": [
           {
            "error_x": {
             "color": "#2a3f5f"
            },
            "error_y": {
             "color": "#2a3f5f"
            },
            "marker": {
             "line": {
              "color": "#E5ECF6",
              "width": 0.5
             },
             "pattern": {
              "fillmode": "overlay",
              "size": 10,
              "solidity": 0.2
             }
            },
            "type": "bar"
           }
          ],
          "barpolar": [
           {
            "marker": {
             "line": {
              "color": "#E5ECF6",
              "width": 0.5
             },
             "pattern": {
              "fillmode": "overlay",
              "size": 10,
              "solidity": 0.2
             }
            },
            "type": "barpolar"
           }
          ],
          "carpet": [
           {
            "aaxis": {
             "endlinecolor": "#2a3f5f",
             "gridcolor": "white",
             "linecolor": "white",
             "minorgridcolor": "white",
             "startlinecolor": "#2a3f5f"
            },
            "baxis": {
             "endlinecolor": "#2a3f5f",
             "gridcolor": "white",
             "linecolor": "white",
             "minorgridcolor": "white",
             "startlinecolor": "#2a3f5f"
            },
            "type": "carpet"
           }
          ],
          "choropleth": [
           {
            "colorbar": {
             "outlinewidth": 0,
             "ticks": ""
            },
            "type": "choropleth"
           }
          ],
          "contour": [
           {
            "colorbar": {
             "outlinewidth": 0,
             "ticks": ""
            },
            "colorscale": [
             [
              0,
              "#0d0887"
             ],
             [
              0.1111111111111111,
              "#46039f"
             ],
             [
              0.2222222222222222,
              "#7201a8"
             ],
             [
              0.3333333333333333,
              "#9c179e"
             ],
             [
              0.4444444444444444,
              "#bd3786"
             ],
             [
              0.5555555555555556,
              "#d8576b"
             ],
             [
              0.6666666666666666,
              "#ed7953"
             ],
             [
              0.7777777777777778,
              "#fb9f3a"
             ],
             [
              0.8888888888888888,
              "#fdca26"
             ],
             [
              1,
              "#f0f921"
             ]
            ],
            "type": "contour"
           }
          ],
          "contourcarpet": [
           {
            "colorbar": {
             "outlinewidth": 0,
             "ticks": ""
            },
            "type": "contourcarpet"
           }
          ],
          "heatmap": [
           {
            "colorbar": {
             "outlinewidth": 0,
             "ticks": ""
            },
            "colorscale": [
             [
              0,
              "#0d0887"
             ],
             [
              0.1111111111111111,
              "#46039f"
             ],
             [
              0.2222222222222222,
              "#7201a8"
             ],
             [
              0.3333333333333333,
              "#9c179e"
             ],
             [
              0.4444444444444444,
              "#bd3786"
             ],
             [
              0.5555555555555556,
              "#d8576b"
             ],
             [
              0.6666666666666666,
              "#ed7953"
             ],
             [
              0.7777777777777778,
              "#fb9f3a"
             ],
             [
              0.8888888888888888,
              "#fdca26"
             ],
             [
              1,
              "#f0f921"
             ]
            ],
            "type": "heatmap"
           }
          ],
          "heatmapgl": [
           {
            "colorbar": {
             "outlinewidth": 0,
             "ticks": ""
            },
            "colorscale": [
             [
              0,
              "#0d0887"
             ],
             [
              0.1111111111111111,
              "#46039f"
             ],
             [
              0.2222222222222222,
              "#7201a8"
             ],
             [
              0.3333333333333333,
              "#9c179e"
             ],
             [
              0.4444444444444444,
              "#bd3786"
             ],
             [
              0.5555555555555556,
              "#d8576b"
             ],
             [
              0.6666666666666666,
              "#ed7953"
             ],
             [
              0.7777777777777778,
              "#fb9f3a"
             ],
             [
              0.8888888888888888,
              "#fdca26"
             ],
             [
              1,
              "#f0f921"
             ]
            ],
            "type": "heatmapgl"
           }
          ],
          "histogram": [
           {
            "marker": {
             "pattern": {
              "fillmode": "overlay",
              "size": 10,
              "solidity": 0.2
             }
            },
            "type": "histogram"
           }
          ],
          "histogram2d": [
           {
            "colorbar": {
             "outlinewidth": 0,
             "ticks": ""
            },
            "colorscale": [
             [
              0,
              "#0d0887"
             ],
             [
              0.1111111111111111,
              "#46039f"
             ],
             [
              0.2222222222222222,
              "#7201a8"
             ],
             [
              0.3333333333333333,
              "#9c179e"
             ],
             [
              0.4444444444444444,
              "#bd3786"
             ],
             [
              0.5555555555555556,
              "#d8576b"
             ],
             [
              0.6666666666666666,
              "#ed7953"
             ],
             [
              0.7777777777777778,
              "#fb9f3a"
             ],
             [
              0.8888888888888888,
              "#fdca26"
             ],
             [
              1,
              "#f0f921"
             ]
            ],
            "type": "histogram2d"
           }
          ],
          "histogram2dcontour": [
           {
            "colorbar": {
             "outlinewidth": 0,
             "ticks": ""
            },
            "colorscale": [
             [
              0,
              "#0d0887"
             ],
             [
              0.1111111111111111,
              "#46039f"
             ],
             [
              0.2222222222222222,
              "#7201a8"
             ],
             [
              0.3333333333333333,
              "#9c179e"
             ],
             [
              0.4444444444444444,
              "#bd3786"
             ],
             [
              0.5555555555555556,
              "#d8576b"
             ],
             [
              0.6666666666666666,
              "#ed7953"
             ],
             [
              0.7777777777777778,
              "#fb9f3a"
             ],
             [
              0.8888888888888888,
              "#fdca26"
             ],
             [
              1,
              "#f0f921"
             ]
            ],
            "type": "histogram2dcontour"
           }
          ],
          "mesh3d": [
           {
            "colorbar": {
             "outlinewidth": 0,
             "ticks": ""
            },
            "type": "mesh3d"
           }
          ],
          "parcoords": [
           {
            "line": {
             "colorbar": {
              "outlinewidth": 0,
              "ticks": ""
             }
            },
            "type": "parcoords"
           }
          ],
          "pie": [
           {
            "automargin": true,
            "type": "pie"
           }
          ],
          "scatter": [
           {
            "marker": {
             "colorbar": {
              "outlinewidth": 0,
              "ticks": ""
             }
            },
            "type": "scatter"
           }
          ],
          "scatter3d": [
           {
            "line": {
             "colorbar": {
              "outlinewidth": 0,
              "ticks": ""
             }
            },
            "marker": {
             "colorbar": {
              "outlinewidth": 0,
              "ticks": ""
             }
            },
            "type": "scatter3d"
           }
          ],
          "scattercarpet": [
           {
            "marker": {
             "colorbar": {
              "outlinewidth": 0,
              "ticks": ""
             }
            },
            "type": "scattercarpet"
           }
          ],
          "scattergeo": [
           {
            "marker": {
             "colorbar": {
              "outlinewidth": 0,
              "ticks": ""
             }
            },
            "type": "scattergeo"
           }
          ],
          "scattergl": [
           {
            "marker": {
             "colorbar": {
              "outlinewidth": 0,
              "ticks": ""
             }
            },
            "type": "scattergl"
           }
          ],
          "scattermapbox": [
           {
            "marker": {
             "colorbar": {
              "outlinewidth": 0,
              "ticks": ""
             }
            },
            "type": "scattermapbox"
           }
          ],
          "scatterpolar": [
           {
            "marker": {
             "colorbar": {
              "outlinewidth": 0,
              "ticks": ""
             }
            },
            "type": "scatterpolar"
           }
          ],
          "scatterpolargl": [
           {
            "marker": {
             "colorbar": {
              "outlinewidth": 0,
              "ticks": ""
             }
            },
            "type": "scatterpolargl"
           }
          ],
          "scatterternary": [
           {
            "marker": {
             "colorbar": {
              "outlinewidth": 0,
              "ticks": ""
             }
            },
            "type": "scatterternary"
           }
          ],
          "surface": [
           {
            "colorbar": {
             "outlinewidth": 0,
             "ticks": ""
            },
            "colorscale": [
             [
              0,
              "#0d0887"
             ],
             [
              0.1111111111111111,
              "#46039f"
             ],
             [
              0.2222222222222222,
              "#7201a8"
             ],
             [
              0.3333333333333333,
              "#9c179e"
             ],
             [
              0.4444444444444444,
              "#bd3786"
             ],
             [
              0.5555555555555556,
              "#d8576b"
             ],
             [
              0.6666666666666666,
              "#ed7953"
             ],
             [
              0.7777777777777778,
              "#fb9f3a"
             ],
             [
              0.8888888888888888,
              "#fdca26"
             ],
             [
              1,
              "#f0f921"
             ]
            ],
            "type": "surface"
           }
          ],
          "table": [
           {
            "cells": {
             "fill": {
              "color": "#EBF0F8"
             },
             "line": {
              "color": "white"
             }
            },
            "header": {
             "fill": {
              "color": "#C8D4E3"
             },
             "line": {
              "color": "white"
             }
            },
            "type": "table"
           }
          ]
         },
         "layout": {
          "annotationdefaults": {
           "arrowcolor": "#2a3f5f",
           "arrowhead": 0,
           "arrowwidth": 1
          },
          "autotypenumbers": "strict",
          "coloraxis": {
           "colorbar": {
            "outlinewidth": 0,
            "ticks": ""
           }
          },
          "colorscale": {
           "diverging": [
            [
             0,
             "#8e0152"
            ],
            [
             0.1,
             "#c51b7d"
            ],
            [
             0.2,
             "#de77ae"
            ],
            [
             0.3,
             "#f1b6da"
            ],
            [
             0.4,
             "#fde0ef"
            ],
            [
             0.5,
             "#f7f7f7"
            ],
            [
             0.6,
             "#e6f5d0"
            ],
            [
             0.7,
             "#b8e186"
            ],
            [
             0.8,
             "#7fbc41"
            ],
            [
             0.9,
             "#4d9221"
            ],
            [
             1,
             "#276419"
            ]
           ],
           "sequential": [
            [
             0,
             "#0d0887"
            ],
            [
             0.1111111111111111,
             "#46039f"
            ],
            [
             0.2222222222222222,
             "#7201a8"
            ],
            [
             0.3333333333333333,
             "#9c179e"
            ],
            [
             0.4444444444444444,
             "#bd3786"
            ],
            [
             0.5555555555555556,
             "#d8576b"
            ],
            [
             0.6666666666666666,
             "#ed7953"
            ],
            [
             0.7777777777777778,
             "#fb9f3a"
            ],
            [
             0.8888888888888888,
             "#fdca26"
            ],
            [
             1,
             "#f0f921"
            ]
           ],
           "sequentialminus": [
            [
             0,
             "#0d0887"
            ],
            [
             0.1111111111111111,
             "#46039f"
            ],
            [
             0.2222222222222222,
             "#7201a8"
            ],
            [
             0.3333333333333333,
             "#9c179e"
            ],
            [
             0.4444444444444444,
             "#bd3786"
            ],
            [
             0.5555555555555556,
             "#d8576b"
            ],
            [
             0.6666666666666666,
             "#ed7953"
            ],
            [
             0.7777777777777778,
             "#fb9f3a"
            ],
            [
             0.8888888888888888,
             "#fdca26"
            ],
            [
             1,
             "#f0f921"
            ]
           ]
          },
          "colorway": [
           "#636efa",
           "#EF553B",
           "#00cc96",
           "#ab63fa",
           "#FFA15A",
           "#19d3f3",
           "#FF6692",
           "#B6E880",
           "#FF97FF",
           "#FECB52"
          ],
          "font": {
           "color": "#2a3f5f"
          },
          "geo": {
           "bgcolor": "white",
           "lakecolor": "white",
           "landcolor": "#E5ECF6",
           "showlakes": true,
           "showland": true,
           "subunitcolor": "white"
          },
          "hoverlabel": {
           "align": "left"
          },
          "hovermode": "closest",
          "mapbox": {
           "style": "light"
          },
          "paper_bgcolor": "white",
          "plot_bgcolor": "#E5ECF6",
          "polar": {
           "angularaxis": {
            "gridcolor": "white",
            "linecolor": "white",
            "ticks": ""
           },
           "bgcolor": "#E5ECF6",
           "radialaxis": {
            "gridcolor": "white",
            "linecolor": "white",
            "ticks": ""
           }
          },
          "scene": {
           "xaxis": {
            "backgroundcolor": "#E5ECF6",
            "gridcolor": "white",
            "gridwidth": 2,
            "linecolor": "white",
            "showbackground": true,
            "ticks": "",
            "zerolinecolor": "white"
           },
           "yaxis": {
            "backgroundcolor": "#E5ECF6",
            "gridcolor": "white",
            "gridwidth": 2,
            "linecolor": "white",
            "showbackground": true,
            "ticks": "",
            "zerolinecolor": "white"
           },
           "zaxis": {
            "backgroundcolor": "#E5ECF6",
            "gridcolor": "white",
            "gridwidth": 2,
            "linecolor": "white",
            "showbackground": true,
            "ticks": "",
            "zerolinecolor": "white"
           }
          },
          "shapedefaults": {
           "line": {
            "color": "#2a3f5f"
           }
          },
          "ternary": {
           "aaxis": {
            "gridcolor": "white",
            "linecolor": "white",
            "ticks": ""
           },
           "baxis": {
            "gridcolor": "white",
            "linecolor": "white",
            "ticks": ""
           },
           "bgcolor": "#E5ECF6",
           "caxis": {
            "gridcolor": "white",
            "linecolor": "white",
            "ticks": ""
           }
          },
          "title": {
           "x": 0.05
          },
          "xaxis": {
           "automargin": true,
           "gridcolor": "white",
           "linecolor": "white",
           "ticks": "",
           "title": {
            "standoff": 15
           },
           "zerolinecolor": "white",
           "zerolinewidth": 2
          },
          "yaxis": {
           "automargin": true,
           "gridcolor": "white",
           "linecolor": "white",
           "ticks": "",
           "title": {
            "standoff": 15
           },
           "zerolinecolor": "white",
           "zerolinewidth": 2
          }
         }
        },
        "title": {
         "text": "first  gyro"
        }
       }
      },
      "text/html": [
       "<div>                            <div id=\"8977db56-e9c6-4984-bc41-8ffa9c5a9ef1\" class=\"plotly-graph-div\" style=\"height:525px; width:100%;\"></div>            <script type=\"text/javascript\">                require([\"plotly\"], function(Plotly) {                    window.PLOTLYENV=window.PLOTLYENV || {};                                    if (document.getElementById(\"8977db56-e9c6-4984-bc41-8ffa9c5a9ef1\")) {                    Plotly.newPlot(                        \"8977db56-e9c6-4984-bc41-8ffa9c5a9ef1\",                        [{\"name\":\"lb_gx\",\"x\":[20,21,22,23,24,25,26,27,28,29,30,31,32,33,34,35,36,37,38,39,40,41,42,43,44,45,46,47,48,49,50,51,52,53,54,55,56,57,58,59,60,61,62,63,64,65,66,67,68,69,70,71,72,73,74,75,76,77,78,79,80,81,82,83,84,85,86,87,88,89,90,91,92,93,94,95,96,97,98,99,100,101,102,103,104,105,106,107,108,109,110,111,112,113,114,115,116,117,118,119,120,121,122,123,124,125,126,127,128,129],\"y\":[0.09699235,0.1036539,0.09979021,0.1005896,0.1028545,0.1029878,0.1103155,0.110049,0.1004564,0.09312864,0.08713324,0.09619296,0.0963262,0.09219603,0.09446095,0.09752527,0.02837825,-0.02438132,-0.1293675,-0.140026,-0.1903875,-0.3978286,-0.4712389,-0.559971,-0.4950873,-0.4679082,-0.4681746,-0.4617795,-0.2865804,-0.4071548,-0.3011026,-0.2571363,-0.2250276,-0.2013124,-0.1201746,-0.2034441,-0.1823936,-0.1931853,-0.1585452,-0.1418913,-0.1216401,-0.1087167,-0.1586784,-0.1137795,0.002931087,0.1378943,0.2723247,0.2368852,0.2688607,0.3250842,0.3453354,0.3378744,0.3390735,0.3422711,0.3681179,0.389435,0.4236754,0.4556509,0.5097427,0.5140062,0.529461,0.4912236,0.5410521,0.5954104,0.6517673,0.7015958,0.6582956,0.6196586,0.580755,0.5385207,0.4824304,0.4613798,0.3285482,0.04822971,0.01052527,0.01252374,0.1432236,0.07554212,0.0963262,0.1127136,0.1312328,0.1027213,0.1025881,0.09139664,0.09019755,0.09779175,0.08473509,0.1099158,0.1241715,0.1017887,0.103121,0.114046,0.1057856,0.1167106,0.113513,0.1099158,0.1137795,0.09859113,0.1009893,0.1001899,0.09579327,0.09432773,0.08833232,0.0877994,0.1004564,0.1005896,0.0984579,0.09832466,0.1067182,0.1020551],\"type\":\"scatter\"},{\"name\":\"lb_gy\",\"x\":[20,21,22,23,24,25,26,27,28,29,30,31,32,33,34,35,36,37,38,39,40,41,42,43,44,45,46,47,48,49,50,51,52,53,54,55,56,57,58,59,60,61,62,63,64,65,66,67,68,69,70,71,72,73,74,75,76,77,78,79,80,81,82,83,84,85,86,87,88,89,90,91,92,93,94,95,96,97,98,99,100,101,102,103,104,105,106,107,108,109,110,111,112,113,114,115,116,117,118,119,120,121,122,123,124,125,126,127,128,129],\"y\":[0.05888822,0.06301838,0.07740736,0.07700767,0.07740736,0.05142726,0.03557274,0.03184227,0.04809648,0.06315161,0.0720781,0.0575559,0.03983614,0.03543952,0.01105819,0.001332313,-0.01438898,-0.0596876,-0.06168607,-0.07780705,-0.07247781,-0.261533,-0.3400062,-0.01745329,-0.3810414,0.4082206,-0.1863905,0.02171669,0.1184426,-0.07700767,0.07687444,0.04023584,0.1801287,0.2180996,0.01145789,0.08899847,0.01252374,0.03464013,0.03384074,-0.03530628,0.01572129,0.0006661563,-0.08033845,0.005862175,0.02464778,-0.05102757,-0.0575559,0.04063553,0.03597244,0.01358959,0.06794794,0.05715621,0.103121,0.06967995,0.1220398,0.180928,0.0720781,0.09073049,-0.002398162,0.0575559,0.02358193,-0.0750092,-0.08913171,-0.07940583,0.02438132,0.07327719,0.2691271,0.2904441,0.08193722,0.06608271,0.1998469,0.08966463,0.1589449,0.3326785,0.2735238,0.05768914,0.01678714,0.2320888,0.07687444,0.02184993,0.03783768,0.08833232,0.03304135,0.08886525,0.09792498,0.1057856,0.09179633,0.09912406,0.06914702,0.06461716,0.06248546,0.05955438,0.01998469,0.04596478,0.01771976,0.06328485,0.03397397,0.04583155,0.02158346,0.03890353,0.0319755,0.04196784,0.03330781,0.06235223,0.0536922,0.06941348,0.07034611,0.07434304,0.07767382,0.07221134],\"type\":\"scatter\"},{\"name\":\"lb_gz\",\"x\":[20,21,22,23,24,25,26,27,28,29,30,31,32,33,34,35,36,37,38,39,40,41,42,43,44,45,46,47,48,49,50,51,52,53,54,55,56,57,58,59,60,61,62,63,64,65,66,67,68,69,70,71,72,73,74,75,76,77,78,79,80,81,82,83,84,85,86,87,88,89,90,91,92,93,94,95,96,97,98,99,100,101,102,103,104,105,106,107,108,109,110,111,112,113,114,115,116,117,118,119,120,121,122,123,124,125,126,127,128,129],\"y\":[0.009992343,0.01225728,0.01758653,0.02145023,0.019585,0.0149219,0.005462481,-0.001199081,0.02145023,0.02598009,0.03490659,0.03317458,0.02518071,0.02971057,0.0298438,0.02957734,0.06554978,0.1032542,0.1907871,0.2562037,0.2283584,0.3160245,0.3478668,0.3645207,0.2284916,0.4336677,0.3510643,0.4336677,0.5238653,0.4038239,0.335876,0.2695268,0.2827167,0.2977719,0.3541287,0.3737137,0.3960965,0.3638546,0.2941746,0.2279587,0.2347535,0.2512741,0.2006463,0.170536,0.1476202,0.1184426,0.09219603,0.02224962,-0.01838591,-0.09725882,-0.1441562,-0.2095728,-0.2669954,-0.3269495,-0.3337443,-0.3081639,-0.2992374,-0.2791195,-0.2979051,-0.3789097,-0.4292711,-0.5836861,-0.5928791,-0.6159281,-0.5217336,-0.4432604,-0.3928989,-0.4047565,-0.4158147,-0.394631,-0.3325452,-0.3037673,-0.2276922,0.05649005,0.1063185,0.06128638,-0.02398163,0.03956968,0.02411486,0.01692037,-0.006794794,0.01465544,0.008793262,0.01159112,0.01612098,0.00746095,0.02598009,0.01891884,0.01585452,0.03277489,0.02744564,0.02264931,0.02051761,0.01838591,0.01052527,0.0191853,0.01025881,0.01732006,0.008393569,0.004529863,0.005196019,0.009859113,0.009326188,0.01225728,0.01545483,0.01345636,0.01678714,0.01545483,0.01159112,0.009059726],\"type\":\"scatter\"}],                        {\"template\":{\"data\":{\"bar\":[{\"error_x\":{\"color\":\"#2a3f5f\"},\"error_y\":{\"color\":\"#2a3f5f\"},\"marker\":{\"line\":{\"color\":\"#E5ECF6\",\"width\":0.5},\"pattern\":{\"fillmode\":\"overlay\",\"size\":10,\"solidity\":0.2}},\"type\":\"bar\"}],\"barpolar\":[{\"marker\":{\"line\":{\"color\":\"#E5ECF6\",\"width\":0.5},\"pattern\":{\"fillmode\":\"overlay\",\"size\":10,\"solidity\":0.2}},\"type\":\"barpolar\"}],\"carpet\":[{\"aaxis\":{\"endlinecolor\":\"#2a3f5f\",\"gridcolor\":\"white\",\"linecolor\":\"white\",\"minorgridcolor\":\"white\",\"startlinecolor\":\"#2a3f5f\"},\"baxis\":{\"endlinecolor\":\"#2a3f5f\",\"gridcolor\":\"white\",\"linecolor\":\"white\",\"minorgridcolor\":\"white\",\"startlinecolor\":\"#2a3f5f\"},\"type\":\"carpet\"}],\"choropleth\":[{\"colorbar\":{\"outlinewidth\":0,\"ticks\":\"\"},\"type\":\"choropleth\"}],\"contour\":[{\"colorbar\":{\"outlinewidth\":0,\"ticks\":\"\"},\"colorscale\":[[0.0,\"#0d0887\"],[0.1111111111111111,\"#46039f\"],[0.2222222222222222,\"#7201a8\"],[0.3333333333333333,\"#9c179e\"],[0.4444444444444444,\"#bd3786\"],[0.5555555555555556,\"#d8576b\"],[0.6666666666666666,\"#ed7953\"],[0.7777777777777778,\"#fb9f3a\"],[0.8888888888888888,\"#fdca26\"],[1.0,\"#f0f921\"]],\"type\":\"contour\"}],\"contourcarpet\":[{\"colorbar\":{\"outlinewidth\":0,\"ticks\":\"\"},\"type\":\"contourcarpet\"}],\"heatmap\":[{\"colorbar\":{\"outlinewidth\":0,\"ticks\":\"\"},\"colorscale\":[[0.0,\"#0d0887\"],[0.1111111111111111,\"#46039f\"],[0.2222222222222222,\"#7201a8\"],[0.3333333333333333,\"#9c179e\"],[0.4444444444444444,\"#bd3786\"],[0.5555555555555556,\"#d8576b\"],[0.6666666666666666,\"#ed7953\"],[0.7777777777777778,\"#fb9f3a\"],[0.8888888888888888,\"#fdca26\"],[1.0,\"#f0f921\"]],\"type\":\"heatmap\"}],\"heatmapgl\":[{\"colorbar\":{\"outlinewidth\":0,\"ticks\":\"\"},\"colorscale\":[[0.0,\"#0d0887\"],[0.1111111111111111,\"#46039f\"],[0.2222222222222222,\"#7201a8\"],[0.3333333333333333,\"#9c179e\"],[0.4444444444444444,\"#bd3786\"],[0.5555555555555556,\"#d8576b\"],[0.6666666666666666,\"#ed7953\"],[0.7777777777777778,\"#fb9f3a\"],[0.8888888888888888,\"#fdca26\"],[1.0,\"#f0f921\"]],\"type\":\"heatmapgl\"}],\"histogram\":[{\"marker\":{\"pattern\":{\"fillmode\":\"overlay\",\"size\":10,\"solidity\":0.2}},\"type\":\"histogram\"}],\"histogram2d\":[{\"colorbar\":{\"outlinewidth\":0,\"ticks\":\"\"},\"colorscale\":[[0.0,\"#0d0887\"],[0.1111111111111111,\"#46039f\"],[0.2222222222222222,\"#7201a8\"],[0.3333333333333333,\"#9c179e\"],[0.4444444444444444,\"#bd3786\"],[0.5555555555555556,\"#d8576b\"],[0.6666666666666666,\"#ed7953\"],[0.7777777777777778,\"#fb9f3a\"],[0.8888888888888888,\"#fdca26\"],[1.0,\"#f0f921\"]],\"type\":\"histogram2d\"}],\"histogram2dcontour\":[{\"colorbar\":{\"outlinewidth\":0,\"ticks\":\"\"},\"colorscale\":[[0.0,\"#0d0887\"],[0.1111111111111111,\"#46039f\"],[0.2222222222222222,\"#7201a8\"],[0.3333333333333333,\"#9c179e\"],[0.4444444444444444,\"#bd3786\"],[0.5555555555555556,\"#d8576b\"],[0.6666666666666666,\"#ed7953\"],[0.7777777777777778,\"#fb9f3a\"],[0.8888888888888888,\"#fdca26\"],[1.0,\"#f0f921\"]],\"type\":\"histogram2dcontour\"}],\"mesh3d\":[{\"colorbar\":{\"outlinewidth\":0,\"ticks\":\"\"},\"type\":\"mesh3d\"}],\"parcoords\":[{\"line\":{\"colorbar\":{\"outlinewidth\":0,\"ticks\":\"\"}},\"type\":\"parcoords\"}],\"pie\":[{\"automargin\":true,\"type\":\"pie\"}],\"scatter\":[{\"marker\":{\"colorbar\":{\"outlinewidth\":0,\"ticks\":\"\"}},\"type\":\"scatter\"}],\"scatter3d\":[{\"line\":{\"colorbar\":{\"outlinewidth\":0,\"ticks\":\"\"}},\"marker\":{\"colorbar\":{\"outlinewidth\":0,\"ticks\":\"\"}},\"type\":\"scatter3d\"}],\"scattercarpet\":[{\"marker\":{\"colorbar\":{\"outlinewidth\":0,\"ticks\":\"\"}},\"type\":\"scattercarpet\"}],\"scattergeo\":[{\"marker\":{\"colorbar\":{\"outlinewidth\":0,\"ticks\":\"\"}},\"type\":\"scattergeo\"}],\"scattergl\":[{\"marker\":{\"colorbar\":{\"outlinewidth\":0,\"ticks\":\"\"}},\"type\":\"scattergl\"}],\"scattermapbox\":[{\"marker\":{\"colorbar\":{\"outlinewidth\":0,\"ticks\":\"\"}},\"type\":\"scattermapbox\"}],\"scatterpolar\":[{\"marker\":{\"colorbar\":{\"outlinewidth\":0,\"ticks\":\"\"}},\"type\":\"scatterpolar\"}],\"scatterpolargl\":[{\"marker\":{\"colorbar\":{\"outlinewidth\":0,\"ticks\":\"\"}},\"type\":\"scatterpolargl\"}],\"scatterternary\":[{\"marker\":{\"colorbar\":{\"outlinewidth\":0,\"ticks\":\"\"}},\"type\":\"scatterternary\"}],\"surface\":[{\"colorbar\":{\"outlinewidth\":0,\"ticks\":\"\"},\"colorscale\":[[0.0,\"#0d0887\"],[0.1111111111111111,\"#46039f\"],[0.2222222222222222,\"#7201a8\"],[0.3333333333333333,\"#9c179e\"],[0.4444444444444444,\"#bd3786\"],[0.5555555555555556,\"#d8576b\"],[0.6666666666666666,\"#ed7953\"],[0.7777777777777778,\"#fb9f3a\"],[0.8888888888888888,\"#fdca26\"],[1.0,\"#f0f921\"]],\"type\":\"surface\"}],\"table\":[{\"cells\":{\"fill\":{\"color\":\"#EBF0F8\"},\"line\":{\"color\":\"white\"}},\"header\":{\"fill\":{\"color\":\"#C8D4E3\"},\"line\":{\"color\":\"white\"}},\"type\":\"table\"}]},\"layout\":{\"annotationdefaults\":{\"arrowcolor\":\"#2a3f5f\",\"arrowhead\":0,\"arrowwidth\":1},\"autotypenumbers\":\"strict\",\"coloraxis\":{\"colorbar\":{\"outlinewidth\":0,\"ticks\":\"\"}},\"colorscale\":{\"diverging\":[[0,\"#8e0152\"],[0.1,\"#c51b7d\"],[0.2,\"#de77ae\"],[0.3,\"#f1b6da\"],[0.4,\"#fde0ef\"],[0.5,\"#f7f7f7\"],[0.6,\"#e6f5d0\"],[0.7,\"#b8e186\"],[0.8,\"#7fbc41\"],[0.9,\"#4d9221\"],[1,\"#276419\"]],\"sequential\":[[0.0,\"#0d0887\"],[0.1111111111111111,\"#46039f\"],[0.2222222222222222,\"#7201a8\"],[0.3333333333333333,\"#9c179e\"],[0.4444444444444444,\"#bd3786\"],[0.5555555555555556,\"#d8576b\"],[0.6666666666666666,\"#ed7953\"],[0.7777777777777778,\"#fb9f3a\"],[0.8888888888888888,\"#fdca26\"],[1.0,\"#f0f921\"]],\"sequentialminus\":[[0.0,\"#0d0887\"],[0.1111111111111111,\"#46039f\"],[0.2222222222222222,\"#7201a8\"],[0.3333333333333333,\"#9c179e\"],[0.4444444444444444,\"#bd3786\"],[0.5555555555555556,\"#d8576b\"],[0.6666666666666666,\"#ed7953\"],[0.7777777777777778,\"#fb9f3a\"],[0.8888888888888888,\"#fdca26\"],[1.0,\"#f0f921\"]]},\"colorway\":[\"#636efa\",\"#EF553B\",\"#00cc96\",\"#ab63fa\",\"#FFA15A\",\"#19d3f3\",\"#FF6692\",\"#B6E880\",\"#FF97FF\",\"#FECB52\"],\"font\":{\"color\":\"#2a3f5f\"},\"geo\":{\"bgcolor\":\"white\",\"lakecolor\":\"white\",\"landcolor\":\"#E5ECF6\",\"showlakes\":true,\"showland\":true,\"subunitcolor\":\"white\"},\"hoverlabel\":{\"align\":\"left\"},\"hovermode\":\"closest\",\"mapbox\":{\"style\":\"light\"},\"paper_bgcolor\":\"white\",\"plot_bgcolor\":\"#E5ECF6\",\"polar\":{\"angularaxis\":{\"gridcolor\":\"white\",\"linecolor\":\"white\",\"ticks\":\"\"},\"bgcolor\":\"#E5ECF6\",\"radialaxis\":{\"gridcolor\":\"white\",\"linecolor\":\"white\",\"ticks\":\"\"}},\"scene\":{\"xaxis\":{\"backgroundcolor\":\"#E5ECF6\",\"gridcolor\":\"white\",\"gridwidth\":2,\"linecolor\":\"white\",\"showbackground\":true,\"ticks\":\"\",\"zerolinecolor\":\"white\"},\"yaxis\":{\"backgroundcolor\":\"#E5ECF6\",\"gridcolor\":\"white\",\"gridwidth\":2,\"linecolor\":\"white\",\"showbackground\":true,\"ticks\":\"\",\"zerolinecolor\":\"white\"},\"zaxis\":{\"backgroundcolor\":\"#E5ECF6\",\"gridcolor\":\"white\",\"gridwidth\":2,\"linecolor\":\"white\",\"showbackground\":true,\"ticks\":\"\",\"zerolinecolor\":\"white\"}},\"shapedefaults\":{\"line\":{\"color\":\"#2a3f5f\"}},\"ternary\":{\"aaxis\":{\"gridcolor\":\"white\",\"linecolor\":\"white\",\"ticks\":\"\"},\"baxis\":{\"gridcolor\":\"white\",\"linecolor\":\"white\",\"ticks\":\"\"},\"bgcolor\":\"#E5ECF6\",\"caxis\":{\"gridcolor\":\"white\",\"linecolor\":\"white\",\"ticks\":\"\"}},\"title\":{\"x\":0.05},\"xaxis\":{\"automargin\":true,\"gridcolor\":\"white\",\"linecolor\":\"white\",\"ticks\":\"\",\"title\":{\"standoff\":15},\"zerolinecolor\":\"white\",\"zerolinewidth\":2},\"yaxis\":{\"automargin\":true,\"gridcolor\":\"white\",\"linecolor\":\"white\",\"ticks\":\"\",\"title\":{\"standoff\":15},\"zerolinecolor\":\"white\",\"zerolinewidth\":2}}},\"title\":{\"text\":\"first  gyro\"}},                        {\"responsive\": true}                    ).then(function(){\n",
       "                            \n",
       "var gd = document.getElementById('8977db56-e9c6-4984-bc41-8ffa9c5a9ef1');\n",
       "var x = new MutationObserver(function (mutations, observer) {{\n",
       "        var display = window.getComputedStyle(gd).display;\n",
       "        if (!display || display === 'none') {{\n",
       "            console.log([gd, 'removed!']);\n",
       "            Plotly.purge(gd);\n",
       "            observer.disconnect();\n",
       "        }}\n",
       "}});\n",
       "\n",
       "// Listen for the removal of the full notebook cells\n",
       "var notebookContainer = gd.closest('#notebook-container');\n",
       "if (notebookContainer) {{\n",
       "    x.observe(notebookContainer, {childList: true});\n",
       "}}\n",
       "\n",
       "// Listen for the clearing of the current output cell\n",
       "var outputEl = gd.closest('.output');\n",
       "if (outputEl) {{\n",
       "    x.observe(outputEl, {childList: true});\n",
       "}}\n",
       "\n",
       "                        })                };                });            </script>        </div>"
      ]
     },
     "metadata": {},
     "output_type": "display_data"
    },
    {
     "data": {
      "application/vnd.plotly.v1+json": {
       "config": {
        "plotlyServerURL": "https://plot.ly"
       },
       "data": [
        {
         "name": "lb_gx",
         "type": "scatter",
         "x": [
          20,
          21,
          22,
          23,
          24,
          25,
          26,
          27,
          28,
          29,
          30,
          31,
          32,
          33,
          34,
          35,
          36,
          37,
          38,
          39,
          40,
          41,
          42,
          43,
          44,
          45,
          46,
          47,
          48,
          49,
          50,
          51,
          52,
          53,
          54,
          55,
          56,
          57,
          58,
          59,
          60,
          61,
          62,
          63,
          64,
          65,
          66,
          67,
          68,
          69,
          70,
          71,
          72,
          73,
          74,
          75,
          76,
          77,
          78,
          79,
          80,
          81,
          82,
          83,
          84,
          85,
          86,
          87,
          88,
          89,
          90,
          91,
          92,
          93,
          94,
          95,
          96,
          97,
          98,
          99,
          100,
          101,
          102,
          103,
          104,
          105,
          106,
          107,
          108,
          109,
          110,
          111,
          112,
          113,
          114,
          115,
          116,
          117,
          118,
          119,
          120,
          121,
          122,
          123,
          124,
          125,
          126,
          127,
          128,
          129
         ],
         "y": [
          -1.8570958506963775e-05,
          -1.8570958506963775e-05,
          -0.0025499509585069635,
          -1.8570958506963775e-05,
          -1.8570958506963775e-05,
          0.0013137490414930342,
          -0.001484110958506965,
          -0.0008179409585069713,
          -0.0018837909585069645,
          -0.0022834909585069674,
          -0.0010844009585069675,
          -1.8570958506963775e-05,
          0.0013137490414930342,
          0.00038112904149303906,
          -0.000684720958506968,
          0.000780829041493028,
          -0.0012176309585069656,
          0.0013137490414930342,
          -0.0017505609585069665,
          0.0009140490414930313,
          -0.0025499509585069635,
          -1.8570958506963775e-05,
          -0.002150270958506964,
          -0.0009511809585069642,
          0.00011466904149302903,
          -0.002017040958506966,
          -1.8570958506963775e-05,
          -0.0010844009585069675,
          -0.0025499509585069635,
          -1.8570958506963775e-05,
          -0.0002850209585069652,
          -0.0018837909585069645,
          0.001047289041493038,
          -0.0010844009585069675,
          -1.8570958506963775e-05,
          -1.8570958506963775e-05,
          -0.00041826095850697187,
          0.0014469890414930409,
          0.001846679041493035,
          0.001846679041493035,
          -1.8570958506963775e-05,
          -0.0022834909585069674,
          0.001846679041493035,
          -0.0001517909585069671,
          -1.8570958506963775e-05,
          -1.8570958506963775e-05,
          -0.001350880958506967,
          0.0009140490414930313,
          -1.8570958506963775e-05,
          -1.8570958506963775e-05,
          -0.00041826095850697187,
          -0.0001517909585069671,
          -0.002150270958506964,
          0.0005143690414930319,
          -0.0025499509585069635,
          0.00011466904149302903,
          0.001979909041493033,
          0.000780829041493028,
          -0.0022834909585069674,
          -0.002017040958506966,
          -1.8570958506963775e-05,
          0.001047289041493038,
          -0.0008179409585069713,
          -0.0017505609585069665,
          -0.0001517909585069671,
          -1.8570958506963775e-05,
          0.000247899041493041,
          0.000247899041493041,
          0.0015802090414930303,
          -1.8570958506963775e-05,
          -1.8570958506963775e-05,
          0.0025128290414930393,
          -1.8570958506963775e-05,
          -1.8570958506963775e-05,
          -0.0017505609585069665,
          -1.8570958506963775e-05,
          -0.0002850209585069652,
          -0.0005514809585069613,
          -0.0001517909585069671,
          -0.0002850209585069652,
          -1.8570958506963775e-05,
          -1.8570958506963775e-05,
          0.000247899041493041,
          0.0023795990414930412,
          -1.8570958506963775e-05,
          -0.0002850209585069652,
          0.0015802090414930303,
          -1.8570958506963775e-05,
          -0.000684720958506968,
          0.0015802090414930303,
          -1.8570958506963775e-05,
          -1.8570958506963775e-05,
          -0.0010844009585069675,
          -0.001350880958506967,
          -0.0012176309585069656,
          0.000780829041493028,
          -0.0017505609585069665,
          0.0014469890414930409,
          -0.0008179409585069713,
          -0.0016173309585069684,
          -0.0024167209585069654,
          -0.0012176309585069656,
          -1.8570958506963775e-05,
          0.0009140490414930313,
          0.0017134390414930284,
          -0.0002850209585069652,
          -0.0016173309585069684,
          -0.002017040958506966,
          -0.0008179409585069713,
          -1.8570958506963775e-05
         ]
        },
        {
         "name": "lb_gy",
         "type": "scatter",
         "x": [
          20,
          21,
          22,
          23,
          24,
          25,
          26,
          27,
          28,
          29,
          30,
          31,
          32,
          33,
          34,
          35,
          36,
          37,
          38,
          39,
          40,
          41,
          42,
          43,
          44,
          45,
          46,
          47,
          48,
          49,
          50,
          51,
          52,
          53,
          54,
          55,
          56,
          57,
          58,
          59,
          60,
          61,
          62,
          63,
          64,
          65,
          66,
          67,
          68,
          69,
          70,
          71,
          72,
          73,
          74,
          75,
          76,
          77,
          78,
          79,
          80,
          81,
          82,
          83,
          84,
          85,
          86,
          87,
          88,
          89,
          90,
          91,
          92,
          93,
          94,
          95,
          96,
          97,
          98,
          99,
          100,
          101,
          102,
          103,
          104,
          105,
          106,
          107,
          108,
          109,
          110,
          111,
          112,
          113,
          114,
          115,
          116,
          117,
          118,
          119,
          120,
          121,
          122,
          123,
          124,
          125,
          126,
          127,
          128,
          129
         ],
         "y": [
          -0.0010704241221235755,
          -4.574122123575386e-06,
          -0.0012036541221235736,
          -0.002402734122123572,
          0.0007948158778764286,
          0.00039511587787642577,
          -0.0029356641221235727,
          0.0009280458778764267,
          -4.574122123575386e-06,
          0.0006615758778764289,
          -4.574122123575386e-06,
          -4.574122123575386e-06,
          -4.574122123575386e-06,
          -0.0029356641221235727,
          -0.00013780412212357346,
          -4.574122123575386e-06,
          -0.0005374941221235746,
          -0.0025359741221235715,
          0.0007948158778764286,
          0.002393585877876428,
          -4.574122123575386e-06,
          0.002127115877876423,
          -0.0009371941221235705,
          -0.0006707341221235744,
          0.001993895877876427,
          -0.0005374941221235746,
          -0.0005374941221235746,
          -0.0017365841221235745,
          -4.574122123575386e-06,
          -0.0008039541221235708,
          0.0010612758778764247,
          -4.574122123575386e-06,
          -0.0012036541221235736,
          0.002926515877876429,
          0.0009280458778764267,
          -0.002669194122123575,
          -0.002402734122123572,
          -4.574122123575386e-06,
          -0.0013368841221235717,
          0.001460965877876426,
          -4.574122123575386e-06,
          -4.574122123575386e-06,
          0.001194495877876428,
          -4.574122123575386e-06,
          -4.574122123575386e-06,
          -4.574122123575386e-06,
          0.0005283458778764238,
          -4.574122123575386e-06,
          -0.0008039541221235708,
          -0.0013368841221235717,
          -4.574122123575386e-06,
          -0.0029356641221235727,
          -0.003068884122123576,
          -4.574122123575386e-06,
          -4.574122123575386e-06,
          -0.0010704241221235755,
          0.0017274358778764237,
          -4.574122123575386e-06,
          -0.0032021241221235758,
          0.003192975877876425,
          -0.0016033441221235747,
          0.001194495877876428,
          -4.574122123575386e-06,
          -0.0009371941221235705,
          -0.0014701241221235714,
          0.001860655877876427,
          -0.0006707341221235744,
          0.0005283458778764238,
          -0.0020030441221235706,
          -4.574122123575386e-06,
          -4.574122123575386e-06,
          -0.0017365841221235745,
          -4.574122123575386e-06,
          -4.574122123575386e-06,
          -0.0009371941221235705,
          0.001460965877876426,
          -0.0025359741221235715,
          0.002393585877876428,
          -0.0005374941221235746,
          0.002793275877876429,
          -4.574122123575386e-06,
          -0.0020030441221235706,
          -4.574122123575386e-06,
          -0.0018698141221235726,
          -0.0020030441221235706,
          -0.002402734122123572,
          -0.0016033441221235747,
          0.00012865587787642269,
          -4.574122123575386e-06,
          -4.574122123575386e-06,
          0.001860655877876427,
          0.002127115877876423,
          -4.574122123575386e-06,
          0.0015942058778764256,
          -0.0018698141221235726,
          -4.574122123575386e-06,
          0.001460965877876426,
          -0.0014701241221235714,
          -4.574122123575386e-06,
          -0.00013780412212357346,
          -4.574122123575386e-06,
          -4.574122123575386e-06,
          0.0017274358778764237,
          -0.0025359741221235715,
          -4.574122123575386e-06,
          0.0007948158778764286,
          -0.00013780412212357346,
          -0.0006707341221235744,
          0.00012865587787642269,
          -0.002402734122123572
         ]
        },
        {
         "name": "lb_gz",
         "type": "scatter",
         "x": [
          20,
          21,
          22,
          23,
          24,
          25,
          26,
          27,
          28,
          29,
          30,
          31,
          32,
          33,
          34,
          35,
          36,
          37,
          38,
          39,
          40,
          41,
          42,
          43,
          44,
          45,
          46,
          47,
          48,
          49,
          50,
          51,
          52,
          53,
          54,
          55,
          56,
          57,
          58,
          59,
          60,
          61,
          62,
          63,
          64,
          65,
          66,
          67,
          68,
          69,
          70,
          71,
          72,
          73,
          74,
          75,
          76,
          77,
          78,
          79,
          80,
          81,
          82,
          83,
          84,
          85,
          86,
          87,
          88,
          89,
          90,
          91,
          92,
          93,
          94,
          95,
          96,
          97,
          98,
          99,
          100,
          101,
          102,
          103,
          104,
          105,
          106,
          107,
          108,
          109,
          110,
          111,
          112,
          113,
          114,
          115,
          116,
          117,
          118,
          119,
          120,
          121,
          122,
          123,
          124,
          125,
          126,
          127,
          128,
          129
         ],
         "y": [
          0.000142091539228114,
          0.0020073215392281164,
          -0.0015899184607718851,
          0.002140561539228116,
          0.0012079415392281141,
          0.0005417815392281151,
          0.0008082515392281164,
          -0.0009237584607718861,
          8.861539228115917e-06,
          0.0004085515392281136,
          -0.0021228384607718843,
          0.0013411715392281157,
          8.861539228115917e-06,
          8.861539228115917e-06,
          8.861539228115917e-06,
          0.0012079415392281141,
          0.0009414815392281145,
          0.001074711539228116,
          0.0009414815392281145,
          -0.0011902184607718858,
          -0.0009237584607718861,
          0.0004085515392281136,
          8.861539228115917e-06,
          0.0016076315392281153,
          0.0008082515392281164,
          8.861539228115917e-06,
          0.00027532153922811553,
          0.0005417815392281151,
          0.0009414815392281145,
          -0.0021228384607718843,
          8.861539228115917e-06,
          0.0006750115392281132,
          8.861539228115917e-06,
          -0.0003908384607718869,
          0.00027532153922811553,
          8.861539228115917e-06,
          8.861539228115917e-06,
          0.0016076315392281153,
          0.0014744015392281137,
          8.861539228115917e-06,
          8.861539228115917e-06,
          0.0020073215392281164,
          8.861539228115917e-06,
          -0.0003908384607718869,
          8.861539228115917e-06,
          0.0020073215392281164,
          -0.0010569884607718842,
          8.861539228115917e-06,
          -0.000524068460771885,
          -0.0013234584607718855,
          8.861539228115917e-06,
          -0.0019896084607718863,
          -0.0013234584607718855,
          8.861539228115917e-06,
          0.002140561539228116,
          8.861539228115917e-06,
          0.0008082515392281164,
          0.0006750115392281132,
          0.0006750115392281132,
          0.000142091539228114,
          0.001074711539228116,
          -0.0018563784607718847,
          0.0020073215392281164,
          -0.0007905284607718846,
          8.861539228115917e-06,
          8.861539228115917e-06,
          -0.0015899184607718851,
          8.861539228115917e-06,
          8.861539228115917e-06,
          8.861539228115917e-06,
          0.0016076315392281153,
          -0.0006572984607718865,
          0.0020073215392281164,
          0.0012079415392281141,
          0.0018740915392281149,
          -0.000524068460771885,
          0.001074711539228116,
          0.0008082515392281164,
          -0.002256068460771886,
          8.861539228115917e-06,
          0.000142091539228114,
          -0.0009237584607718861,
          -0.0014566884607718836,
          8.861539228115917e-06,
          0.0020073215392281164,
          0.000142091539228114,
          0.0009414815392281145,
          0.0008082515392281164,
          0.000142091539228114,
          -0.0017231484607718867,
          8.861539228115917e-06,
          -0.000524068460771885,
          8.861539228115917e-06,
          8.861539228115917e-06,
          -0.0010569884607718842,
          0.0017408615392281133,
          0.0018740915392281149,
          8.861539228115917e-06,
          8.861539228115917e-06,
          -0.0018563784607718847,
          8.861539228115917e-06,
          0.0014744015392281137,
          -0.0006572984607718865,
          8.861539228115917e-06,
          8.861539228115917e-06,
          -0.0013234584607718855,
          0.0012079415392281141,
          -0.0017231484607718867,
          0.00027532153922811553,
          0.0017408615392281133
         ]
        }
       ],
       "layout": {
        "template": {
         "data": {
          "bar": [
           {
            "error_x": {
             "color": "#2a3f5f"
            },
            "error_y": {
             "color": "#2a3f5f"
            },
            "marker": {
             "line": {
              "color": "#E5ECF6",
              "width": 0.5
             },
             "pattern": {
              "fillmode": "overlay",
              "size": 10,
              "solidity": 0.2
             }
            },
            "type": "bar"
           }
          ],
          "barpolar": [
           {
            "marker": {
             "line": {
              "color": "#E5ECF6",
              "width": 0.5
             },
             "pattern": {
              "fillmode": "overlay",
              "size": 10,
              "solidity": 0.2
             }
            },
            "type": "barpolar"
           }
          ],
          "carpet": [
           {
            "aaxis": {
             "endlinecolor": "#2a3f5f",
             "gridcolor": "white",
             "linecolor": "white",
             "minorgridcolor": "white",
             "startlinecolor": "#2a3f5f"
            },
            "baxis": {
             "endlinecolor": "#2a3f5f",
             "gridcolor": "white",
             "linecolor": "white",
             "minorgridcolor": "white",
             "startlinecolor": "#2a3f5f"
            },
            "type": "carpet"
           }
          ],
          "choropleth": [
           {
            "colorbar": {
             "outlinewidth": 0,
             "ticks": ""
            },
            "type": "choropleth"
           }
          ],
          "contour": [
           {
            "colorbar": {
             "outlinewidth": 0,
             "ticks": ""
            },
            "colorscale": [
             [
              0,
              "#0d0887"
             ],
             [
              0.1111111111111111,
              "#46039f"
             ],
             [
              0.2222222222222222,
              "#7201a8"
             ],
             [
              0.3333333333333333,
              "#9c179e"
             ],
             [
              0.4444444444444444,
              "#bd3786"
             ],
             [
              0.5555555555555556,
              "#d8576b"
             ],
             [
              0.6666666666666666,
              "#ed7953"
             ],
             [
              0.7777777777777778,
              "#fb9f3a"
             ],
             [
              0.8888888888888888,
              "#fdca26"
             ],
             [
              1,
              "#f0f921"
             ]
            ],
            "type": "contour"
           }
          ],
          "contourcarpet": [
           {
            "colorbar": {
             "outlinewidth": 0,
             "ticks": ""
            },
            "type": "contourcarpet"
           }
          ],
          "heatmap": [
           {
            "colorbar": {
             "outlinewidth": 0,
             "ticks": ""
            },
            "colorscale": [
             [
              0,
              "#0d0887"
             ],
             [
              0.1111111111111111,
              "#46039f"
             ],
             [
              0.2222222222222222,
              "#7201a8"
             ],
             [
              0.3333333333333333,
              "#9c179e"
             ],
             [
              0.4444444444444444,
              "#bd3786"
             ],
             [
              0.5555555555555556,
              "#d8576b"
             ],
             [
              0.6666666666666666,
              "#ed7953"
             ],
             [
              0.7777777777777778,
              "#fb9f3a"
             ],
             [
              0.8888888888888888,
              "#fdca26"
             ],
             [
              1,
              "#f0f921"
             ]
            ],
            "type": "heatmap"
           }
          ],
          "heatmapgl": [
           {
            "colorbar": {
             "outlinewidth": 0,
             "ticks": ""
            },
            "colorscale": [
             [
              0,
              "#0d0887"
             ],
             [
              0.1111111111111111,
              "#46039f"
             ],
             [
              0.2222222222222222,
              "#7201a8"
             ],
             [
              0.3333333333333333,
              "#9c179e"
             ],
             [
              0.4444444444444444,
              "#bd3786"
             ],
             [
              0.5555555555555556,
              "#d8576b"
             ],
             [
              0.6666666666666666,
              "#ed7953"
             ],
             [
              0.7777777777777778,
              "#fb9f3a"
             ],
             [
              0.8888888888888888,
              "#fdca26"
             ],
             [
              1,
              "#f0f921"
             ]
            ],
            "type": "heatmapgl"
           }
          ],
          "histogram": [
           {
            "marker": {
             "pattern": {
              "fillmode": "overlay",
              "size": 10,
              "solidity": 0.2
             }
            },
            "type": "histogram"
           }
          ],
          "histogram2d": [
           {
            "colorbar": {
             "outlinewidth": 0,
             "ticks": ""
            },
            "colorscale": [
             [
              0,
              "#0d0887"
             ],
             [
              0.1111111111111111,
              "#46039f"
             ],
             [
              0.2222222222222222,
              "#7201a8"
             ],
             [
              0.3333333333333333,
              "#9c179e"
             ],
             [
              0.4444444444444444,
              "#bd3786"
             ],
             [
              0.5555555555555556,
              "#d8576b"
             ],
             [
              0.6666666666666666,
              "#ed7953"
             ],
             [
              0.7777777777777778,
              "#fb9f3a"
             ],
             [
              0.8888888888888888,
              "#fdca26"
             ],
             [
              1,
              "#f0f921"
             ]
            ],
            "type": "histogram2d"
           }
          ],
          "histogram2dcontour": [
           {
            "colorbar": {
             "outlinewidth": 0,
             "ticks": ""
            },
            "colorscale": [
             [
              0,
              "#0d0887"
             ],
             [
              0.1111111111111111,
              "#46039f"
             ],
             [
              0.2222222222222222,
              "#7201a8"
             ],
             [
              0.3333333333333333,
              "#9c179e"
             ],
             [
              0.4444444444444444,
              "#bd3786"
             ],
             [
              0.5555555555555556,
              "#d8576b"
             ],
             [
              0.6666666666666666,
              "#ed7953"
             ],
             [
              0.7777777777777778,
              "#fb9f3a"
             ],
             [
              0.8888888888888888,
              "#fdca26"
             ],
             [
              1,
              "#f0f921"
             ]
            ],
            "type": "histogram2dcontour"
           }
          ],
          "mesh3d": [
           {
            "colorbar": {
             "outlinewidth": 0,
             "ticks": ""
            },
            "type": "mesh3d"
           }
          ],
          "parcoords": [
           {
            "line": {
             "colorbar": {
              "outlinewidth": 0,
              "ticks": ""
             }
            },
            "type": "parcoords"
           }
          ],
          "pie": [
           {
            "automargin": true,
            "type": "pie"
           }
          ],
          "scatter": [
           {
            "marker": {
             "colorbar": {
              "outlinewidth": 0,
              "ticks": ""
             }
            },
            "type": "scatter"
           }
          ],
          "scatter3d": [
           {
            "line": {
             "colorbar": {
              "outlinewidth": 0,
              "ticks": ""
             }
            },
            "marker": {
             "colorbar": {
              "outlinewidth": 0,
              "ticks": ""
             }
            },
            "type": "scatter3d"
           }
          ],
          "scattercarpet": [
           {
            "marker": {
             "colorbar": {
              "outlinewidth": 0,
              "ticks": ""
             }
            },
            "type": "scattercarpet"
           }
          ],
          "scattergeo": [
           {
            "marker": {
             "colorbar": {
              "outlinewidth": 0,
              "ticks": ""
             }
            },
            "type": "scattergeo"
           }
          ],
          "scattergl": [
           {
            "marker": {
             "colorbar": {
              "outlinewidth": 0,
              "ticks": ""
             }
            },
            "type": "scattergl"
           }
          ],
          "scattermapbox": [
           {
            "marker": {
             "colorbar": {
              "outlinewidth": 0,
              "ticks": ""
             }
            },
            "type": "scattermapbox"
           }
          ],
          "scatterpolar": [
           {
            "marker": {
             "colorbar": {
              "outlinewidth": 0,
              "ticks": ""
             }
            },
            "type": "scatterpolar"
           }
          ],
          "scatterpolargl": [
           {
            "marker": {
             "colorbar": {
              "outlinewidth": 0,
              "ticks": ""
             }
            },
            "type": "scatterpolargl"
           }
          ],
          "scatterternary": [
           {
            "marker": {
             "colorbar": {
              "outlinewidth": 0,
              "ticks": ""
             }
            },
            "type": "scatterternary"
           }
          ],
          "surface": [
           {
            "colorbar": {
             "outlinewidth": 0,
             "ticks": ""
            },
            "colorscale": [
             [
              0,
              "#0d0887"
             ],
             [
              0.1111111111111111,
              "#46039f"
             ],
             [
              0.2222222222222222,
              "#7201a8"
             ],
             [
              0.3333333333333333,
              "#9c179e"
             ],
             [
              0.4444444444444444,
              "#bd3786"
             ],
             [
              0.5555555555555556,
              "#d8576b"
             ],
             [
              0.6666666666666666,
              "#ed7953"
             ],
             [
              0.7777777777777778,
              "#fb9f3a"
             ],
             [
              0.8888888888888888,
              "#fdca26"
             ],
             [
              1,
              "#f0f921"
             ]
            ],
            "type": "surface"
           }
          ],
          "table": [
           {
            "cells": {
             "fill": {
              "color": "#EBF0F8"
             },
             "line": {
              "color": "white"
             }
            },
            "header": {
             "fill": {
              "color": "#C8D4E3"
             },
             "line": {
              "color": "white"
             }
            },
            "type": "table"
           }
          ]
         },
         "layout": {
          "annotationdefaults": {
           "arrowcolor": "#2a3f5f",
           "arrowhead": 0,
           "arrowwidth": 1
          },
          "autotypenumbers": "strict",
          "coloraxis": {
           "colorbar": {
            "outlinewidth": 0,
            "ticks": ""
           }
          },
          "colorscale": {
           "diverging": [
            [
             0,
             "#8e0152"
            ],
            [
             0.1,
             "#c51b7d"
            ],
            [
             0.2,
             "#de77ae"
            ],
            [
             0.3,
             "#f1b6da"
            ],
            [
             0.4,
             "#fde0ef"
            ],
            [
             0.5,
             "#f7f7f7"
            ],
            [
             0.6,
             "#e6f5d0"
            ],
            [
             0.7,
             "#b8e186"
            ],
            [
             0.8,
             "#7fbc41"
            ],
            [
             0.9,
             "#4d9221"
            ],
            [
             1,
             "#276419"
            ]
           ],
           "sequential": [
            [
             0,
             "#0d0887"
            ],
            [
             0.1111111111111111,
             "#46039f"
            ],
            [
             0.2222222222222222,
             "#7201a8"
            ],
            [
             0.3333333333333333,
             "#9c179e"
            ],
            [
             0.4444444444444444,
             "#bd3786"
            ],
            [
             0.5555555555555556,
             "#d8576b"
            ],
            [
             0.6666666666666666,
             "#ed7953"
            ],
            [
             0.7777777777777778,
             "#fb9f3a"
            ],
            [
             0.8888888888888888,
             "#fdca26"
            ],
            [
             1,
             "#f0f921"
            ]
           ],
           "sequentialminus": [
            [
             0,
             "#0d0887"
            ],
            [
             0.1111111111111111,
             "#46039f"
            ],
            [
             0.2222222222222222,
             "#7201a8"
            ],
            [
             0.3333333333333333,
             "#9c179e"
            ],
            [
             0.4444444444444444,
             "#bd3786"
            ],
            [
             0.5555555555555556,
             "#d8576b"
            ],
            [
             0.6666666666666666,
             "#ed7953"
            ],
            [
             0.7777777777777778,
             "#fb9f3a"
            ],
            [
             0.8888888888888888,
             "#fdca26"
            ],
            [
             1,
             "#f0f921"
            ]
           ]
          },
          "colorway": [
           "#636efa",
           "#EF553B",
           "#00cc96",
           "#ab63fa",
           "#FFA15A",
           "#19d3f3",
           "#FF6692",
           "#B6E880",
           "#FF97FF",
           "#FECB52"
          ],
          "font": {
           "color": "#2a3f5f"
          },
          "geo": {
           "bgcolor": "white",
           "lakecolor": "white",
           "landcolor": "#E5ECF6",
           "showlakes": true,
           "showland": true,
           "subunitcolor": "white"
          },
          "hoverlabel": {
           "align": "left"
          },
          "hovermode": "closest",
          "mapbox": {
           "style": "light"
          },
          "paper_bgcolor": "white",
          "plot_bgcolor": "#E5ECF6",
          "polar": {
           "angularaxis": {
            "gridcolor": "white",
            "linecolor": "white",
            "ticks": ""
           },
           "bgcolor": "#E5ECF6",
           "radialaxis": {
            "gridcolor": "white",
            "linecolor": "white",
            "ticks": ""
           }
          },
          "scene": {
           "xaxis": {
            "backgroundcolor": "#E5ECF6",
            "gridcolor": "white",
            "gridwidth": 2,
            "linecolor": "white",
            "showbackground": true,
            "ticks": "",
            "zerolinecolor": "white"
           },
           "yaxis": {
            "backgroundcolor": "#E5ECF6",
            "gridcolor": "white",
            "gridwidth": 2,
            "linecolor": "white",
            "showbackground": true,
            "ticks": "",
            "zerolinecolor": "white"
           },
           "zaxis": {
            "backgroundcolor": "#E5ECF6",
            "gridcolor": "white",
            "gridwidth": 2,
            "linecolor": "white",
            "showbackground": true,
            "ticks": "",
            "zerolinecolor": "white"
           }
          },
          "shapedefaults": {
           "line": {
            "color": "#2a3f5f"
           }
          },
          "ternary": {
           "aaxis": {
            "gridcolor": "white",
            "linecolor": "white",
            "ticks": ""
           },
           "baxis": {
            "gridcolor": "white",
            "linecolor": "white",
            "ticks": ""
           },
           "bgcolor": "#E5ECF6",
           "caxis": {
            "gridcolor": "white",
            "linecolor": "white",
            "ticks": ""
           }
          },
          "title": {
           "x": 0.05
          },
          "xaxis": {
           "automargin": true,
           "gridcolor": "white",
           "linecolor": "white",
           "ticks": "",
           "title": {
            "standoff": 15
           },
           "zerolinecolor": "white",
           "zerolinewidth": 2
          },
          "yaxis": {
           "automargin": true,
           "gridcolor": "white",
           "linecolor": "white",
           "ticks": "",
           "title": {
            "standoff": 15
           },
           "zerolinecolor": "white",
           "zerolinewidth": 2
          }
         }
        },
        "title": {
         "text": "calibrated  gyro"
        }
       }
      },
      "text/html": [
       "<div>                            <div id=\"f51e0848-2b9b-4eb2-a371-faeae0566377\" class=\"plotly-graph-div\" style=\"height:525px; width:100%;\"></div>            <script type=\"text/javascript\">                require([\"plotly\"], function(Plotly) {                    window.PLOTLYENV=window.PLOTLYENV || {};                                    if (document.getElementById(\"f51e0848-2b9b-4eb2-a371-faeae0566377\")) {                    Plotly.newPlot(                        \"f51e0848-2b9b-4eb2-a371-faeae0566377\",                        [{\"name\":\"lb_gx\",\"x\":[20,21,22,23,24,25,26,27,28,29,30,31,32,33,34,35,36,37,38,39,40,41,42,43,44,45,46,47,48,49,50,51,52,53,54,55,56,57,58,59,60,61,62,63,64,65,66,67,68,69,70,71,72,73,74,75,76,77,78,79,80,81,82,83,84,85,86,87,88,89,90,91,92,93,94,95,96,97,98,99,100,101,102,103,104,105,106,107,108,109,110,111,112,113,114,115,116,117,118,119,120,121,122,123,124,125,126,127,128,129],\"y\":[-1.8570958506963775e-05,-1.8570958506963775e-05,-0.0025499509585069635,-1.8570958506963775e-05,-1.8570958506963775e-05,0.0013137490414930342,-0.001484110958506965,-0.0008179409585069713,-0.0018837909585069645,-0.0022834909585069674,-0.0010844009585069675,-1.8570958506963775e-05,0.0013137490414930342,0.00038112904149303906,-0.000684720958506968,0.000780829041493028,-0.0012176309585069656,0.0013137490414930342,-0.0017505609585069665,0.0009140490414930313,-0.0025499509585069635,-1.8570958506963775e-05,-0.002150270958506964,-0.0009511809585069642,0.00011466904149302903,-0.002017040958506966,-1.8570958506963775e-05,-0.0010844009585069675,-0.0025499509585069635,-1.8570958506963775e-05,-0.0002850209585069652,-0.0018837909585069645,0.001047289041493038,-0.0010844009585069675,-1.8570958506963775e-05,-1.8570958506963775e-05,-0.00041826095850697187,0.0014469890414930409,0.001846679041493035,0.001846679041493035,-1.8570958506963775e-05,-0.0022834909585069674,0.001846679041493035,-0.0001517909585069671,-1.8570958506963775e-05,-1.8570958506963775e-05,-0.001350880958506967,0.0009140490414930313,-1.8570958506963775e-05,-1.8570958506963775e-05,-0.00041826095850697187,-0.0001517909585069671,-0.002150270958506964,0.0005143690414930319,-0.0025499509585069635,0.00011466904149302903,0.001979909041493033,0.000780829041493028,-0.0022834909585069674,-0.002017040958506966,-1.8570958506963775e-05,0.001047289041493038,-0.0008179409585069713,-0.0017505609585069665,-0.0001517909585069671,-1.8570958506963775e-05,0.000247899041493041,0.000247899041493041,0.0015802090414930303,-1.8570958506963775e-05,-1.8570958506963775e-05,0.0025128290414930393,-1.8570958506963775e-05,-1.8570958506963775e-05,-0.0017505609585069665,-1.8570958506963775e-05,-0.0002850209585069652,-0.0005514809585069613,-0.0001517909585069671,-0.0002850209585069652,-1.8570958506963775e-05,-1.8570958506963775e-05,0.000247899041493041,0.0023795990414930412,-1.8570958506963775e-05,-0.0002850209585069652,0.0015802090414930303,-1.8570958506963775e-05,-0.000684720958506968,0.0015802090414930303,-1.8570958506963775e-05,-1.8570958506963775e-05,-0.0010844009585069675,-0.001350880958506967,-0.0012176309585069656,0.000780829041493028,-0.0017505609585069665,0.0014469890414930409,-0.0008179409585069713,-0.0016173309585069684,-0.0024167209585069654,-0.0012176309585069656,-1.8570958506963775e-05,0.0009140490414930313,0.0017134390414930284,-0.0002850209585069652,-0.0016173309585069684,-0.002017040958506966,-0.0008179409585069713,-1.8570958506963775e-05],\"type\":\"scatter\"},{\"name\":\"lb_gy\",\"x\":[20,21,22,23,24,25,26,27,28,29,30,31,32,33,34,35,36,37,38,39,40,41,42,43,44,45,46,47,48,49,50,51,52,53,54,55,56,57,58,59,60,61,62,63,64,65,66,67,68,69,70,71,72,73,74,75,76,77,78,79,80,81,82,83,84,85,86,87,88,89,90,91,92,93,94,95,96,97,98,99,100,101,102,103,104,105,106,107,108,109,110,111,112,113,114,115,116,117,118,119,120,121,122,123,124,125,126,127,128,129],\"y\":[-0.0010704241221235755,-4.574122123575386e-06,-0.0012036541221235736,-0.002402734122123572,0.0007948158778764286,0.00039511587787642577,-0.0029356641221235727,0.0009280458778764267,-4.574122123575386e-06,0.0006615758778764289,-4.574122123575386e-06,-4.574122123575386e-06,-4.574122123575386e-06,-0.0029356641221235727,-0.00013780412212357346,-4.574122123575386e-06,-0.0005374941221235746,-0.0025359741221235715,0.0007948158778764286,0.002393585877876428,-4.574122123575386e-06,0.002127115877876423,-0.0009371941221235705,-0.0006707341221235744,0.001993895877876427,-0.0005374941221235746,-0.0005374941221235746,-0.0017365841221235745,-4.574122123575386e-06,-0.0008039541221235708,0.0010612758778764247,-4.574122123575386e-06,-0.0012036541221235736,0.002926515877876429,0.0009280458778764267,-0.002669194122123575,-0.002402734122123572,-4.574122123575386e-06,-0.0013368841221235717,0.001460965877876426,-4.574122123575386e-06,-4.574122123575386e-06,0.001194495877876428,-4.574122123575386e-06,-4.574122123575386e-06,-4.574122123575386e-06,0.0005283458778764238,-4.574122123575386e-06,-0.0008039541221235708,-0.0013368841221235717,-4.574122123575386e-06,-0.0029356641221235727,-0.003068884122123576,-4.574122123575386e-06,-4.574122123575386e-06,-0.0010704241221235755,0.0017274358778764237,-4.574122123575386e-06,-0.0032021241221235758,0.003192975877876425,-0.0016033441221235747,0.001194495877876428,-4.574122123575386e-06,-0.0009371941221235705,-0.0014701241221235714,0.001860655877876427,-0.0006707341221235744,0.0005283458778764238,-0.0020030441221235706,-4.574122123575386e-06,-4.574122123575386e-06,-0.0017365841221235745,-4.574122123575386e-06,-4.574122123575386e-06,-0.0009371941221235705,0.001460965877876426,-0.0025359741221235715,0.002393585877876428,-0.0005374941221235746,0.002793275877876429,-4.574122123575386e-06,-0.0020030441221235706,-4.574122123575386e-06,-0.0018698141221235726,-0.0020030441221235706,-0.002402734122123572,-0.0016033441221235747,0.00012865587787642269,-4.574122123575386e-06,-4.574122123575386e-06,0.001860655877876427,0.002127115877876423,-4.574122123575386e-06,0.0015942058778764256,-0.0018698141221235726,-4.574122123575386e-06,0.001460965877876426,-0.0014701241221235714,-4.574122123575386e-06,-0.00013780412212357346,-4.574122123575386e-06,-4.574122123575386e-06,0.0017274358778764237,-0.0025359741221235715,-4.574122123575386e-06,0.0007948158778764286,-0.00013780412212357346,-0.0006707341221235744,0.00012865587787642269,-0.002402734122123572],\"type\":\"scatter\"},{\"name\":\"lb_gz\",\"x\":[20,21,22,23,24,25,26,27,28,29,30,31,32,33,34,35,36,37,38,39,40,41,42,43,44,45,46,47,48,49,50,51,52,53,54,55,56,57,58,59,60,61,62,63,64,65,66,67,68,69,70,71,72,73,74,75,76,77,78,79,80,81,82,83,84,85,86,87,88,89,90,91,92,93,94,95,96,97,98,99,100,101,102,103,104,105,106,107,108,109,110,111,112,113,114,115,116,117,118,119,120,121,122,123,124,125,126,127,128,129],\"y\":[0.000142091539228114,0.0020073215392281164,-0.0015899184607718851,0.002140561539228116,0.0012079415392281141,0.0005417815392281151,0.0008082515392281164,-0.0009237584607718861,8.861539228115917e-06,0.0004085515392281136,-0.0021228384607718843,0.0013411715392281157,8.861539228115917e-06,8.861539228115917e-06,8.861539228115917e-06,0.0012079415392281141,0.0009414815392281145,0.001074711539228116,0.0009414815392281145,-0.0011902184607718858,-0.0009237584607718861,0.0004085515392281136,8.861539228115917e-06,0.0016076315392281153,0.0008082515392281164,8.861539228115917e-06,0.00027532153922811553,0.0005417815392281151,0.0009414815392281145,-0.0021228384607718843,8.861539228115917e-06,0.0006750115392281132,8.861539228115917e-06,-0.0003908384607718869,0.00027532153922811553,8.861539228115917e-06,8.861539228115917e-06,0.0016076315392281153,0.0014744015392281137,8.861539228115917e-06,8.861539228115917e-06,0.0020073215392281164,8.861539228115917e-06,-0.0003908384607718869,8.861539228115917e-06,0.0020073215392281164,-0.0010569884607718842,8.861539228115917e-06,-0.000524068460771885,-0.0013234584607718855,8.861539228115917e-06,-0.0019896084607718863,-0.0013234584607718855,8.861539228115917e-06,0.002140561539228116,8.861539228115917e-06,0.0008082515392281164,0.0006750115392281132,0.0006750115392281132,0.000142091539228114,0.001074711539228116,-0.0018563784607718847,0.0020073215392281164,-0.0007905284607718846,8.861539228115917e-06,8.861539228115917e-06,-0.0015899184607718851,8.861539228115917e-06,8.861539228115917e-06,8.861539228115917e-06,0.0016076315392281153,-0.0006572984607718865,0.0020073215392281164,0.0012079415392281141,0.0018740915392281149,-0.000524068460771885,0.001074711539228116,0.0008082515392281164,-0.002256068460771886,8.861539228115917e-06,0.000142091539228114,-0.0009237584607718861,-0.0014566884607718836,8.861539228115917e-06,0.0020073215392281164,0.000142091539228114,0.0009414815392281145,0.0008082515392281164,0.000142091539228114,-0.0017231484607718867,8.861539228115917e-06,-0.000524068460771885,8.861539228115917e-06,8.861539228115917e-06,-0.0010569884607718842,0.0017408615392281133,0.0018740915392281149,8.861539228115917e-06,8.861539228115917e-06,-0.0018563784607718847,8.861539228115917e-06,0.0014744015392281137,-0.0006572984607718865,8.861539228115917e-06,8.861539228115917e-06,-0.0013234584607718855,0.0012079415392281141,-0.0017231484607718867,0.00027532153922811553,0.0017408615392281133],\"type\":\"scatter\"}],                        {\"template\":{\"data\":{\"bar\":[{\"error_x\":{\"color\":\"#2a3f5f\"},\"error_y\":{\"color\":\"#2a3f5f\"},\"marker\":{\"line\":{\"color\":\"#E5ECF6\",\"width\":0.5},\"pattern\":{\"fillmode\":\"overlay\",\"size\":10,\"solidity\":0.2}},\"type\":\"bar\"}],\"barpolar\":[{\"marker\":{\"line\":{\"color\":\"#E5ECF6\",\"width\":0.5},\"pattern\":{\"fillmode\":\"overlay\",\"size\":10,\"solidity\":0.2}},\"type\":\"barpolar\"}],\"carpet\":[{\"aaxis\":{\"endlinecolor\":\"#2a3f5f\",\"gridcolor\":\"white\",\"linecolor\":\"white\",\"minorgridcolor\":\"white\",\"startlinecolor\":\"#2a3f5f\"},\"baxis\":{\"endlinecolor\":\"#2a3f5f\",\"gridcolor\":\"white\",\"linecolor\":\"white\",\"minorgridcolor\":\"white\",\"startlinecolor\":\"#2a3f5f\"},\"type\":\"carpet\"}],\"choropleth\":[{\"colorbar\":{\"outlinewidth\":0,\"ticks\":\"\"},\"type\":\"choropleth\"}],\"contour\":[{\"colorbar\":{\"outlinewidth\":0,\"ticks\":\"\"},\"colorscale\":[[0.0,\"#0d0887\"],[0.1111111111111111,\"#46039f\"],[0.2222222222222222,\"#7201a8\"],[0.3333333333333333,\"#9c179e\"],[0.4444444444444444,\"#bd3786\"],[0.5555555555555556,\"#d8576b\"],[0.6666666666666666,\"#ed7953\"],[0.7777777777777778,\"#fb9f3a\"],[0.8888888888888888,\"#fdca26\"],[1.0,\"#f0f921\"]],\"type\":\"contour\"}],\"contourcarpet\":[{\"colorbar\":{\"outlinewidth\":0,\"ticks\":\"\"},\"type\":\"contourcarpet\"}],\"heatmap\":[{\"colorbar\":{\"outlinewidth\":0,\"ticks\":\"\"},\"colorscale\":[[0.0,\"#0d0887\"],[0.1111111111111111,\"#46039f\"],[0.2222222222222222,\"#7201a8\"],[0.3333333333333333,\"#9c179e\"],[0.4444444444444444,\"#bd3786\"],[0.5555555555555556,\"#d8576b\"],[0.6666666666666666,\"#ed7953\"],[0.7777777777777778,\"#fb9f3a\"],[0.8888888888888888,\"#fdca26\"],[1.0,\"#f0f921\"]],\"type\":\"heatmap\"}],\"heatmapgl\":[{\"colorbar\":{\"outlinewidth\":0,\"ticks\":\"\"},\"colorscale\":[[0.0,\"#0d0887\"],[0.1111111111111111,\"#46039f\"],[0.2222222222222222,\"#7201a8\"],[0.3333333333333333,\"#9c179e\"],[0.4444444444444444,\"#bd3786\"],[0.5555555555555556,\"#d8576b\"],[0.6666666666666666,\"#ed7953\"],[0.7777777777777778,\"#fb9f3a\"],[0.8888888888888888,\"#fdca26\"],[1.0,\"#f0f921\"]],\"type\":\"heatmapgl\"}],\"histogram\":[{\"marker\":{\"pattern\":{\"fillmode\":\"overlay\",\"size\":10,\"solidity\":0.2}},\"type\":\"histogram\"}],\"histogram2d\":[{\"colorbar\":{\"outlinewidth\":0,\"ticks\":\"\"},\"colorscale\":[[0.0,\"#0d0887\"],[0.1111111111111111,\"#46039f\"],[0.2222222222222222,\"#7201a8\"],[0.3333333333333333,\"#9c179e\"],[0.4444444444444444,\"#bd3786\"],[0.5555555555555556,\"#d8576b\"],[0.6666666666666666,\"#ed7953\"],[0.7777777777777778,\"#fb9f3a\"],[0.8888888888888888,\"#fdca26\"],[1.0,\"#f0f921\"]],\"type\":\"histogram2d\"}],\"histogram2dcontour\":[{\"colorbar\":{\"outlinewidth\":0,\"ticks\":\"\"},\"colorscale\":[[0.0,\"#0d0887\"],[0.1111111111111111,\"#46039f\"],[0.2222222222222222,\"#7201a8\"],[0.3333333333333333,\"#9c179e\"],[0.4444444444444444,\"#bd3786\"],[0.5555555555555556,\"#d8576b\"],[0.6666666666666666,\"#ed7953\"],[0.7777777777777778,\"#fb9f3a\"],[0.8888888888888888,\"#fdca26\"],[1.0,\"#f0f921\"]],\"type\":\"histogram2dcontour\"}],\"mesh3d\":[{\"colorbar\":{\"outlinewidth\":0,\"ticks\":\"\"},\"type\":\"mesh3d\"}],\"parcoords\":[{\"line\":{\"colorbar\":{\"outlinewidth\":0,\"ticks\":\"\"}},\"type\":\"parcoords\"}],\"pie\":[{\"automargin\":true,\"type\":\"pie\"}],\"scatter\":[{\"marker\":{\"colorbar\":{\"outlinewidth\":0,\"ticks\":\"\"}},\"type\":\"scatter\"}],\"scatter3d\":[{\"line\":{\"colorbar\":{\"outlinewidth\":0,\"ticks\":\"\"}},\"marker\":{\"colorbar\":{\"outlinewidth\":0,\"ticks\":\"\"}},\"type\":\"scatter3d\"}],\"scattercarpet\":[{\"marker\":{\"colorbar\":{\"outlinewidth\":0,\"ticks\":\"\"}},\"type\":\"scattercarpet\"}],\"scattergeo\":[{\"marker\":{\"colorbar\":{\"outlinewidth\":0,\"ticks\":\"\"}},\"type\":\"scattergeo\"}],\"scattergl\":[{\"marker\":{\"colorbar\":{\"outlinewidth\":0,\"ticks\":\"\"}},\"type\":\"scattergl\"}],\"scattermapbox\":[{\"marker\":{\"colorbar\":{\"outlinewidth\":0,\"ticks\":\"\"}},\"type\":\"scattermapbox\"}],\"scatterpolar\":[{\"marker\":{\"colorbar\":{\"outlinewidth\":0,\"ticks\":\"\"}},\"type\":\"scatterpolar\"}],\"scatterpolargl\":[{\"marker\":{\"colorbar\":{\"outlinewidth\":0,\"ticks\":\"\"}},\"type\":\"scatterpolargl\"}],\"scatterternary\":[{\"marker\":{\"colorbar\":{\"outlinewidth\":0,\"ticks\":\"\"}},\"type\":\"scatterternary\"}],\"surface\":[{\"colorbar\":{\"outlinewidth\":0,\"ticks\":\"\"},\"colorscale\":[[0.0,\"#0d0887\"],[0.1111111111111111,\"#46039f\"],[0.2222222222222222,\"#7201a8\"],[0.3333333333333333,\"#9c179e\"],[0.4444444444444444,\"#bd3786\"],[0.5555555555555556,\"#d8576b\"],[0.6666666666666666,\"#ed7953\"],[0.7777777777777778,\"#fb9f3a\"],[0.8888888888888888,\"#fdca26\"],[1.0,\"#f0f921\"]],\"type\":\"surface\"}],\"table\":[{\"cells\":{\"fill\":{\"color\":\"#EBF0F8\"},\"line\":{\"color\":\"white\"}},\"header\":{\"fill\":{\"color\":\"#C8D4E3\"},\"line\":{\"color\":\"white\"}},\"type\":\"table\"}]},\"layout\":{\"annotationdefaults\":{\"arrowcolor\":\"#2a3f5f\",\"arrowhead\":0,\"arrowwidth\":1},\"autotypenumbers\":\"strict\",\"coloraxis\":{\"colorbar\":{\"outlinewidth\":0,\"ticks\":\"\"}},\"colorscale\":{\"diverging\":[[0,\"#8e0152\"],[0.1,\"#c51b7d\"],[0.2,\"#de77ae\"],[0.3,\"#f1b6da\"],[0.4,\"#fde0ef\"],[0.5,\"#f7f7f7\"],[0.6,\"#e6f5d0\"],[0.7,\"#b8e186\"],[0.8,\"#7fbc41\"],[0.9,\"#4d9221\"],[1,\"#276419\"]],\"sequential\":[[0.0,\"#0d0887\"],[0.1111111111111111,\"#46039f\"],[0.2222222222222222,\"#7201a8\"],[0.3333333333333333,\"#9c179e\"],[0.4444444444444444,\"#bd3786\"],[0.5555555555555556,\"#d8576b\"],[0.6666666666666666,\"#ed7953\"],[0.7777777777777778,\"#fb9f3a\"],[0.8888888888888888,\"#fdca26\"],[1.0,\"#f0f921\"]],\"sequentialminus\":[[0.0,\"#0d0887\"],[0.1111111111111111,\"#46039f\"],[0.2222222222222222,\"#7201a8\"],[0.3333333333333333,\"#9c179e\"],[0.4444444444444444,\"#bd3786\"],[0.5555555555555556,\"#d8576b\"],[0.6666666666666666,\"#ed7953\"],[0.7777777777777778,\"#fb9f3a\"],[0.8888888888888888,\"#fdca26\"],[1.0,\"#f0f921\"]]},\"colorway\":[\"#636efa\",\"#EF553B\",\"#00cc96\",\"#ab63fa\",\"#FFA15A\",\"#19d3f3\",\"#FF6692\",\"#B6E880\",\"#FF97FF\",\"#FECB52\"],\"font\":{\"color\":\"#2a3f5f\"},\"geo\":{\"bgcolor\":\"white\",\"lakecolor\":\"white\",\"landcolor\":\"#E5ECF6\",\"showlakes\":true,\"showland\":true,\"subunitcolor\":\"white\"},\"hoverlabel\":{\"align\":\"left\"},\"hovermode\":\"closest\",\"mapbox\":{\"style\":\"light\"},\"paper_bgcolor\":\"white\",\"plot_bgcolor\":\"#E5ECF6\",\"polar\":{\"angularaxis\":{\"gridcolor\":\"white\",\"linecolor\":\"white\",\"ticks\":\"\"},\"bgcolor\":\"#E5ECF6\",\"radialaxis\":{\"gridcolor\":\"white\",\"linecolor\":\"white\",\"ticks\":\"\"}},\"scene\":{\"xaxis\":{\"backgroundcolor\":\"#E5ECF6\",\"gridcolor\":\"white\",\"gridwidth\":2,\"linecolor\":\"white\",\"showbackground\":true,\"ticks\":\"\",\"zerolinecolor\":\"white\"},\"yaxis\":{\"backgroundcolor\":\"#E5ECF6\",\"gridcolor\":\"white\",\"gridwidth\":2,\"linecolor\":\"white\",\"showbackground\":true,\"ticks\":\"\",\"zerolinecolor\":\"white\"},\"zaxis\":{\"backgroundcolor\":\"#E5ECF6\",\"gridcolor\":\"white\",\"gridwidth\":2,\"linecolor\":\"white\",\"showbackground\":true,\"ticks\":\"\",\"zerolinecolor\":\"white\"}},\"shapedefaults\":{\"line\":{\"color\":\"#2a3f5f\"}},\"ternary\":{\"aaxis\":{\"gridcolor\":\"white\",\"linecolor\":\"white\",\"ticks\":\"\"},\"baxis\":{\"gridcolor\":\"white\",\"linecolor\":\"white\",\"ticks\":\"\"},\"bgcolor\":\"#E5ECF6\",\"caxis\":{\"gridcolor\":\"white\",\"linecolor\":\"white\",\"ticks\":\"\"}},\"title\":{\"x\":0.05},\"xaxis\":{\"automargin\":true,\"gridcolor\":\"white\",\"linecolor\":\"white\",\"ticks\":\"\",\"title\":{\"standoff\":15},\"zerolinecolor\":\"white\",\"zerolinewidth\":2},\"yaxis\":{\"automargin\":true,\"gridcolor\":\"white\",\"linecolor\":\"white\",\"ticks\":\"\",\"title\":{\"standoff\":15},\"zerolinecolor\":\"white\",\"zerolinewidth\":2}}},\"title\":{\"text\":\"calibrated  gyro\"}},                        {\"responsive\": true}                    ).then(function(){\n",
       "                            \n",
       "var gd = document.getElementById('f51e0848-2b9b-4eb2-a371-faeae0566377');\n",
       "var x = new MutationObserver(function (mutations, observer) {{\n",
       "        var display = window.getComputedStyle(gd).display;\n",
       "        if (!display || display === 'none') {{\n",
       "            console.log([gd, 'removed!']);\n",
       "            Plotly.purge(gd);\n",
       "            observer.disconnect();\n",
       "        }}\n",
       "}});\n",
       "\n",
       "// Listen for the removal of the full notebook cells\n",
       "var notebookContainer = gd.closest('#notebook-container');\n",
       "if (notebookContainer) {{\n",
       "    x.observe(notebookContainer, {childList: true});\n",
       "}}\n",
       "\n",
       "// Listen for the clearing of the current output cell\n",
       "var outputEl = gd.closest('.output');\n",
       "if (outputEl) {{\n",
       "    x.observe(outputEl, {childList: true});\n",
       "}}\n",
       "\n",
       "                        })                };                });            </script>        </div>"
      ]
     },
     "metadata": {},
     "output_type": "display_data"
    }
   ],
   "source": [
    "name = 'Vadim'\n",
    "сalibration_set= read_csv_file(f'calibration/600_calibration.csv')\n",
    "\n",
    "\n",
    "filenames = next(walk(f'D:/Thesis/{name}/'), (None, None, []))[2]  # [] if no file\n",
    "filenames[0]\n",
    "for i in range(len(filenames)-30):\n",
    "    filename = f\"D:/Thesis/{name}/{filenames[i]}\"\n",
    "    print(filename)\n",
    "    IMU_set_r = read_csv_file(filename)\n",
    "    IMU_set= IMU_set_r\n",
    "    orientation_bt, orientation_bb, orientation_lt, orientation_lb, orientation_rt, orientation_rb = all_calibrate(сalibration_set,IMU_set)\n",
    "    ready_dataset = pd.concat([orientation_bt, orientation_bb, orientation_lt, orientation_lb, orientation_rt, orientation_rb],axis = 1)    \n",
    "#     print(ready_dataset)\n",
    "    ready_dataset.to_csv(f\"D:\\Thesis\\dataset\\lifting_orientation_{i}_0.csv\", sep=\",\")\n",
    "\n",
    "\n"
   ]
  },
  {
   "cell_type": "code",
   "execution_count": 231,
   "id": "7c4b3640",
   "metadata": {},
   "outputs": [
    {
     "data": {
      "application/vnd.plotly.v1+json": {
       "config": {
        "plotlyServerURL": "https://plot.ly"
       },
       "data": [
        {
         "name": "roll_lb",
         "type": "scatter",
         "x": [
          0,
          1,
          2,
          3,
          4,
          5,
          6,
          7,
          8,
          9,
          10,
          11,
          12,
          13,
          14,
          15,
          16,
          17,
          18,
          19,
          20,
          21,
          22,
          23,
          24,
          25,
          26,
          27,
          28,
          29,
          30,
          31,
          32,
          33,
          34,
          35,
          36,
          37,
          38,
          39,
          40,
          41,
          42,
          43,
          44,
          45,
          46,
          47,
          48,
          49,
          50,
          51,
          52,
          53,
          54,
          55,
          56,
          57,
          58,
          59,
          60,
          61,
          62,
          63,
          64,
          65,
          66,
          67,
          68,
          69,
          70,
          71,
          72,
          73,
          74,
          75,
          76,
          77,
          78,
          79,
          80,
          81,
          82,
          83,
          84,
          85,
          86,
          87,
          88,
          89,
          90,
          91,
          92,
          93,
          94,
          95,
          96,
          97,
          98,
          99,
          100,
          101,
          102,
          103,
          104,
          105,
          106,
          107,
          108,
          109
         ],
         "y": [
          -6.840821724972088,
          -13.594348106705658,
          -20.21623018909807,
          -26.660009184031612,
          -32.932197977766656,
          -39.03025668881062,
          -44.97409991547956,
          -50.75595960840821,
          -56.40282180189804,
          -61.91702483652963,
          -67.29959994088159,
          -72.54329274671107,
          -77.68908211901807,
          -82.72592442952372,
          -87.68482634679565,
          -92.55917146924232,
          -97.16535275690624,
          -92.9422137119252,
          -92.1788893667194,
          -96.0065067623099,
          -97.90432965602766,
          -93.74900561766512,
          -98.53396770451792,
          -101.51997390841684,
          -103.97018360587364,
          -107.18247847552206,
          -104.26027609527289,
          -108.72698627472052,
          -111.09276100189348,
          -113.06361198122148,
          -117.52206676394442,
          -113.80036156288976,
          -118.22191348586264,
          -118.78466789598728,
          -119.84187348493543,
          -116.02929128700426,
          -120.7060142840818,
          -123.05168191704723,
          -119.41083737743377,
          -123.62312844220264,
          -119.89287862008572,
          -124.50838106068268,
          -128.29413552713586,
          -124.325617206798,
          -125.31034032179032,
          -127.01906939288652,
          -125.598933620732,
          -121.70196421349613,
          -126.31283266211696,
          -121.59590814616216,
          -117.52723008986922,
          -121.57784681701057,
          -117.0495419967826,
          -121.43662374689082,
          -119.57601410955468,
          -117.02411650094984,
          -118.72093073406084,
          -114.16473318843693,
          -118.3510122665558,
          -113.61761898028531,
          -112.63526543934331,
          -112.28080976515534,
          -115.25954299285472,
          -110.29555646481649,
          -111.89100308852684,
          -107.05014468992204,
          -102.54399755229063,
          -103.77635782665097,
          -101.31136136800151,
          -98.8062637641806,
          -96.73786979689623,
          -92.02439007054278,
          -87.7170419929384,
          -86.09216641652394,
          -89.88561271471592,
          -94.5682436110272,
          -98.4462809971132,
          -95.42561604558249,
          -98.63472747269084,
          -97.12780664784684,
          -97.36820065850333,
          -94.7776884730158,
          -98.47584481239367,
          -94.61554763062938,
          -98.09405595956552,
          -94.39940238920974,
          -98.13023625973383,
          -102.8191898059076,
          -97.91826211070894,
          -93.3330181864845,
          -97.39437200087568,
          -93.1257600394086,
          -95.9706694001453,
          -99.06023892122396,
          -95.67073408439649,
          -99.377005951464,
          -95.4532015272506,
          -99.55792564921926,
          -94.88993034579536,
          -99.52514533157972,
          -94.59532716139913,
          -98.4262639452326,
          -95.14314419855498,
          -98.15914851271717,
          -94.91478875495952,
          -98.5426018608578,
          -94.9881076510228,
          -98.24863603485794,
          -94.63517862114529,
          -97.87165638087126
         ]
        },
        {
         "name": "pitch_lb",
         "type": "scatter",
         "x": [
          0,
          1,
          2,
          3,
          4,
          5,
          6,
          7,
          8,
          9,
          10,
          11,
          12,
          13,
          14,
          15,
          16,
          17,
          18,
          19,
          20,
          21,
          22,
          23,
          24,
          25,
          26,
          27,
          28,
          29,
          30,
          31,
          32,
          33,
          34,
          35,
          36,
          37,
          38,
          39,
          40,
          41,
          42,
          43,
          44,
          45,
          46,
          47,
          48,
          49,
          50,
          51,
          52,
          53,
          54,
          55,
          56,
          57,
          58,
          59,
          60,
          61,
          62,
          63,
          64,
          65,
          66,
          67,
          68,
          69,
          70,
          71,
          72,
          73,
          74,
          75,
          76,
          77,
          78,
          79,
          80,
          81,
          82,
          83,
          84,
          85,
          86,
          87,
          88,
          89,
          90,
          91,
          92,
          93,
          94,
          95,
          96,
          97,
          98,
          99,
          100,
          101,
          102,
          103,
          104,
          105,
          106,
          107,
          108,
          109
         ],
         "y": [
          -0.0351524659507764,
          -0.1325522919801352,
          -0.3025202062857594,
          -0.5144728458262814,
          -0.785086582099851,
          -1.100640043890822,
          -1.444154093879118,
          -1.829536990975832,
          -2.229173635555414,
          -2.639119271696242,
          -3.0616932090468048,
          -3.496342822587153,
          -3.9479967762740538,
          -4.394292086703581,
          -4.848236066513052,
          -5.277475511620398,
          -5.559990518536298,
          -5.2189174908051,
          -5.174817703901764,
          -5.308330608015835,
          -5.527051588121256,
          -4.932639742622641,
          -5.4513831719474855,
          -5.882982049108086,
          -6.223187166204651,
          -6.60923811034449,
          -5.973325598209866,
          -7.261483754687578,
          -7.841116232130973,
          -8.311564195921534,
          -9.711603310873972,
          -8.298458823109922,
          -10.073616264171283,
          -10.252105612034333,
          -10.575144181508469,
          -8.97855662706291,
          -11.160887096049011,
          -12.39806476428175,
          -10.424244630536622,
          -12.64764126435606,
          -10.749136696093842,
          -12.95213389150532,
          -14.938944532231275,
          -12.865217113869928,
          -13.41279831697065,
          -14.366582081069428,
          -13.568576188760654,
          -11.237714822225286,
          -13.803275238065114,
          -11.041920753979474,
          -8.367977097044163,
          -11.071986533218764,
          -8.234089195661165,
          -10.84202329062617,
          -9.888228751805428,
          -8.573829754811804,
          -9.45036546169648,
          -7.2922719686354815,
          -9.260968673507517,
          -7.242200714586614,
          -6.760250447298199,
          -6.590392485078591,
          -7.6664807451282595,
          -6.135797825760287,
          -6.519287234734756,
          -5.683166621334229,
          -4.787407307469816,
          -5.14686705740711,
          -4.403636531697844,
          -3.90757550499374,
          -3.712807770519741,
          -3.595517941747959,
          -3.4193639264896083,
          -3.3802679820601225,
          -3.4099621984874475,
          -3.698606361370242,
          -4.106451692316462,
          -3.825159292982947,
          -4.123537412129635,
          -4.014660557398083,
          -4.034422342785748,
          -3.786271261635024,
          -4.07021409320339,
          -3.777750964184766,
          -4.034071655482434,
          -3.75089711045996,
          -4.002900930720277,
          -4.461067219438971,
          -4.022835681687799,
          -3.730930818726921,
          -4.017442302854798,
          -3.4560008796482315,
          -3.79357023311101,
          -4.134476120971821,
          -3.754903450068437,
          -4.132395974705268,
          -3.742260960854268,
          -4.113096211142143,
          -3.657332768980216,
          -4.049980537355912,
          -3.6304677141649138,
          -4.050656613388528,
          -3.736540187189119,
          -4.022034011343873,
          -3.709028480491711,
          -4.029810789392941,
          -3.734596271121652,
          -4.004618424353778,
          -3.6977465574669535,
          -3.96959916546749
         ]
        },
        {
         "name": "yaw_lb",
         "type": "scatter",
         "x": [
          0,
          1,
          2,
          3,
          4,
          5,
          6,
          7,
          8,
          9,
          10,
          11,
          12,
          13,
          14,
          15,
          16,
          17,
          18,
          19,
          20,
          21,
          22,
          23,
          24,
          25,
          26,
          27,
          28,
          29,
          30,
          31,
          32,
          33,
          34,
          35,
          36,
          37,
          38,
          39,
          40,
          41,
          42,
          43,
          44,
          45,
          46,
          47,
          48,
          49,
          50,
          51,
          52,
          53,
          54,
          55,
          56,
          57,
          58,
          59,
          60,
          61,
          62,
          63,
          64,
          65,
          66,
          67,
          68,
          69,
          70,
          71,
          72,
          73,
          74,
          75,
          76,
          77,
          78,
          79,
          80,
          81,
          82,
          83,
          84,
          85,
          86,
          87,
          88,
          89,
          90,
          91,
          92,
          93,
          94,
          95,
          96,
          97,
          98,
          99,
          100,
          101,
          102,
          103,
          104,
          105,
          106,
          107,
          108,
          109
         ],
         "y": [
          0.5963116115779582,
          1.1696804171895063,
          1.6967071896922958,
          2.237624527417633,
          2.743120546123898,
          3.1876211081935275,
          3.587968855418326,
          3.9524610363024335,
          4.151730373527337,
          4.341763881538603,
          4.576852914084396,
          4.946170614412946,
          5.092537310307342,
          5.267383764519576,
          5.235957450441085,
          4.860143496642376,
          2.2355934436155924,
          6.811537787362218,
          0.1634558800566709,
          3.6131364050081047,
          9.64681119376525,
          6.904128909634282,
          5.607427519342831,
          10.981974078305871,
          4.580443539106301,
          9.287958119483438,
          15.34773780238744,
          17.158751581602843,
          10.67120226674832,
          16.73320330888946,
          18.455681038958637,
          23.560331078562427,
          20.726172644817463,
          13.81300228306416,
          20.37740130139646,
          25.44335010144418,
          25.398196189810168,
          31.006129585939807,
          26.952861060434188,
          29.491710460933444,
          25.41469271453708,
          26.54914957214616,
          30.086544756818512,
          26.449965741724192,
          33.00565388990723,
          26.552335249027337,
          33.362251945407294,
          29.62682929068001,
          29.768174294963767,
          31.95314964776509,
          35.38778456192004,
          33.03832713514196,
          31.51909468590035,
          30.594117520214397,
          24.42453563879133,
          30.57226448175111,
          24.10775838690648,
          27.08572536905987,
          23.99969096069477,
          22.741041514571386,
          29.538532427106432,
          22.704360488651453,
          17.240121547054738,
          17.117082886202525,
          10.392859324550477,
          9.445677847109485,
          13.024686496134768,
          19.442876351159597,
          14.015543107954452,
          8.439034880138264,
          2.391062096958332,
          0.3160648470421395,
          4.380597660299404,
          -1.6313498877745412,
          2.632159062426906,
          4.314080898611091,
          7.956109406181352,
          3.0284540466834837,
          7.709012389260339,
          1.292163018786989,
          8.108901971308176,
          2.532319489103032,
          6.278530979158831,
          2.237261221872914,
          6.408712593134539,
          2.1127508506025,
          5.779996843531586,
          5.385982942175006,
          4.852050037324784,
          2.4354516986588126,
          5.476766279437562,
          9.725909204874254,
          3.8572402810138713,
          8.578984217564923,
          3.965955603361698,
          7.6652950657358385,
          3.870367187411987,
          6.599471790900734,
          4.564289321914726,
          5.171367488785425,
          4.5540238829692585,
          7.985592447035916,
          3.162736166051232,
          7.986991723623043,
          3.0856181718879774,
          6.971343082026676,
          2.526509548320323,
          7.067392895132319,
          2.667192932128019,
          7.219239413511551
         ]
        }
       ],
       "layout": {
        "template": {
         "data": {
          "bar": [
           {
            "error_x": {
             "color": "#2a3f5f"
            },
            "error_y": {
             "color": "#2a3f5f"
            },
            "marker": {
             "line": {
              "color": "#E5ECF6",
              "width": 0.5
             },
             "pattern": {
              "fillmode": "overlay",
              "size": 10,
              "solidity": 0.2
             }
            },
            "type": "bar"
           }
          ],
          "barpolar": [
           {
            "marker": {
             "line": {
              "color": "#E5ECF6",
              "width": 0.5
             },
             "pattern": {
              "fillmode": "overlay",
              "size": 10,
              "solidity": 0.2
             }
            },
            "type": "barpolar"
           }
          ],
          "carpet": [
           {
            "aaxis": {
             "endlinecolor": "#2a3f5f",
             "gridcolor": "white",
             "linecolor": "white",
             "minorgridcolor": "white",
             "startlinecolor": "#2a3f5f"
            },
            "baxis": {
             "endlinecolor": "#2a3f5f",
             "gridcolor": "white",
             "linecolor": "white",
             "minorgridcolor": "white",
             "startlinecolor": "#2a3f5f"
            },
            "type": "carpet"
           }
          ],
          "choropleth": [
           {
            "colorbar": {
             "outlinewidth": 0,
             "ticks": ""
            },
            "type": "choropleth"
           }
          ],
          "contour": [
           {
            "colorbar": {
             "outlinewidth": 0,
             "ticks": ""
            },
            "colorscale": [
             [
              0,
              "#0d0887"
             ],
             [
              0.1111111111111111,
              "#46039f"
             ],
             [
              0.2222222222222222,
              "#7201a8"
             ],
             [
              0.3333333333333333,
              "#9c179e"
             ],
             [
              0.4444444444444444,
              "#bd3786"
             ],
             [
              0.5555555555555556,
              "#d8576b"
             ],
             [
              0.6666666666666666,
              "#ed7953"
             ],
             [
              0.7777777777777778,
              "#fb9f3a"
             ],
             [
              0.8888888888888888,
              "#fdca26"
             ],
             [
              1,
              "#f0f921"
             ]
            ],
            "type": "contour"
           }
          ],
          "contourcarpet": [
           {
            "colorbar": {
             "outlinewidth": 0,
             "ticks": ""
            },
            "type": "contourcarpet"
           }
          ],
          "heatmap": [
           {
            "colorbar": {
             "outlinewidth": 0,
             "ticks": ""
            },
            "colorscale": [
             [
              0,
              "#0d0887"
             ],
             [
              0.1111111111111111,
              "#46039f"
             ],
             [
              0.2222222222222222,
              "#7201a8"
             ],
             [
              0.3333333333333333,
              "#9c179e"
             ],
             [
              0.4444444444444444,
              "#bd3786"
             ],
             [
              0.5555555555555556,
              "#d8576b"
             ],
             [
              0.6666666666666666,
              "#ed7953"
             ],
             [
              0.7777777777777778,
              "#fb9f3a"
             ],
             [
              0.8888888888888888,
              "#fdca26"
             ],
             [
              1,
              "#f0f921"
             ]
            ],
            "type": "heatmap"
           }
          ],
          "heatmapgl": [
           {
            "colorbar": {
             "outlinewidth": 0,
             "ticks": ""
            },
            "colorscale": [
             [
              0,
              "#0d0887"
             ],
             [
              0.1111111111111111,
              "#46039f"
             ],
             [
              0.2222222222222222,
              "#7201a8"
             ],
             [
              0.3333333333333333,
              "#9c179e"
             ],
             [
              0.4444444444444444,
              "#bd3786"
             ],
             [
              0.5555555555555556,
              "#d8576b"
             ],
             [
              0.6666666666666666,
              "#ed7953"
             ],
             [
              0.7777777777777778,
              "#fb9f3a"
             ],
             [
              0.8888888888888888,
              "#fdca26"
             ],
             [
              1,
              "#f0f921"
             ]
            ],
            "type": "heatmapgl"
           }
          ],
          "histogram": [
           {
            "marker": {
             "pattern": {
              "fillmode": "overlay",
              "size": 10,
              "solidity": 0.2
             }
            },
            "type": "histogram"
           }
          ],
          "histogram2d": [
           {
            "colorbar": {
             "outlinewidth": 0,
             "ticks": ""
            },
            "colorscale": [
             [
              0,
              "#0d0887"
             ],
             [
              0.1111111111111111,
              "#46039f"
             ],
             [
              0.2222222222222222,
              "#7201a8"
             ],
             [
              0.3333333333333333,
              "#9c179e"
             ],
             [
              0.4444444444444444,
              "#bd3786"
             ],
             [
              0.5555555555555556,
              "#d8576b"
             ],
             [
              0.6666666666666666,
              "#ed7953"
             ],
             [
              0.7777777777777778,
              "#fb9f3a"
             ],
             [
              0.8888888888888888,
              "#fdca26"
             ],
             [
              1,
              "#f0f921"
             ]
            ],
            "type": "histogram2d"
           }
          ],
          "histogram2dcontour": [
           {
            "colorbar": {
             "outlinewidth": 0,
             "ticks": ""
            },
            "colorscale": [
             [
              0,
              "#0d0887"
             ],
             [
              0.1111111111111111,
              "#46039f"
             ],
             [
              0.2222222222222222,
              "#7201a8"
             ],
             [
              0.3333333333333333,
              "#9c179e"
             ],
             [
              0.4444444444444444,
              "#bd3786"
             ],
             [
              0.5555555555555556,
              "#d8576b"
             ],
             [
              0.6666666666666666,
              "#ed7953"
             ],
             [
              0.7777777777777778,
              "#fb9f3a"
             ],
             [
              0.8888888888888888,
              "#fdca26"
             ],
             [
              1,
              "#f0f921"
             ]
            ],
            "type": "histogram2dcontour"
           }
          ],
          "mesh3d": [
           {
            "colorbar": {
             "outlinewidth": 0,
             "ticks": ""
            },
            "type": "mesh3d"
           }
          ],
          "parcoords": [
           {
            "line": {
             "colorbar": {
              "outlinewidth": 0,
              "ticks": ""
             }
            },
            "type": "parcoords"
           }
          ],
          "pie": [
           {
            "automargin": true,
            "type": "pie"
           }
          ],
          "scatter": [
           {
            "marker": {
             "colorbar": {
              "outlinewidth": 0,
              "ticks": ""
             }
            },
            "type": "scatter"
           }
          ],
          "scatter3d": [
           {
            "line": {
             "colorbar": {
              "outlinewidth": 0,
              "ticks": ""
             }
            },
            "marker": {
             "colorbar": {
              "outlinewidth": 0,
              "ticks": ""
             }
            },
            "type": "scatter3d"
           }
          ],
          "scattercarpet": [
           {
            "marker": {
             "colorbar": {
              "outlinewidth": 0,
              "ticks": ""
             }
            },
            "type": "scattercarpet"
           }
          ],
          "scattergeo": [
           {
            "marker": {
             "colorbar": {
              "outlinewidth": 0,
              "ticks": ""
             }
            },
            "type": "scattergeo"
           }
          ],
          "scattergl": [
           {
            "marker": {
             "colorbar": {
              "outlinewidth": 0,
              "ticks": ""
             }
            },
            "type": "scattergl"
           }
          ],
          "scattermapbox": [
           {
            "marker": {
             "colorbar": {
              "outlinewidth": 0,
              "ticks": ""
             }
            },
            "type": "scattermapbox"
           }
          ],
          "scatterpolar": [
           {
            "marker": {
             "colorbar": {
              "outlinewidth": 0,
              "ticks": ""
             }
            },
            "type": "scatterpolar"
           }
          ],
          "scatterpolargl": [
           {
            "marker": {
             "colorbar": {
              "outlinewidth": 0,
              "ticks": ""
             }
            },
            "type": "scatterpolargl"
           }
          ],
          "scatterternary": [
           {
            "marker": {
             "colorbar": {
              "outlinewidth": 0,
              "ticks": ""
             }
            },
            "type": "scatterternary"
           }
          ],
          "surface": [
           {
            "colorbar": {
             "outlinewidth": 0,
             "ticks": ""
            },
            "colorscale": [
             [
              0,
              "#0d0887"
             ],
             [
              0.1111111111111111,
              "#46039f"
             ],
             [
              0.2222222222222222,
              "#7201a8"
             ],
             [
              0.3333333333333333,
              "#9c179e"
             ],
             [
              0.4444444444444444,
              "#bd3786"
             ],
             [
              0.5555555555555556,
              "#d8576b"
             ],
             [
              0.6666666666666666,
              "#ed7953"
             ],
             [
              0.7777777777777778,
              "#fb9f3a"
             ],
             [
              0.8888888888888888,
              "#fdca26"
             ],
             [
              1,
              "#f0f921"
             ]
            ],
            "type": "surface"
           }
          ],
          "table": [
           {
            "cells": {
             "fill": {
              "color": "#EBF0F8"
             },
             "line": {
              "color": "white"
             }
            },
            "header": {
             "fill": {
              "color": "#C8D4E3"
             },
             "line": {
              "color": "white"
             }
            },
            "type": "table"
           }
          ]
         },
         "layout": {
          "annotationdefaults": {
           "arrowcolor": "#2a3f5f",
           "arrowhead": 0,
           "arrowwidth": 1
          },
          "autotypenumbers": "strict",
          "coloraxis": {
           "colorbar": {
            "outlinewidth": 0,
            "ticks": ""
           }
          },
          "colorscale": {
           "diverging": [
            [
             0,
             "#8e0152"
            ],
            [
             0.1,
             "#c51b7d"
            ],
            [
             0.2,
             "#de77ae"
            ],
            [
             0.3,
             "#f1b6da"
            ],
            [
             0.4,
             "#fde0ef"
            ],
            [
             0.5,
             "#f7f7f7"
            ],
            [
             0.6,
             "#e6f5d0"
            ],
            [
             0.7,
             "#b8e186"
            ],
            [
             0.8,
             "#7fbc41"
            ],
            [
             0.9,
             "#4d9221"
            ],
            [
             1,
             "#276419"
            ]
           ],
           "sequential": [
            [
             0,
             "#0d0887"
            ],
            [
             0.1111111111111111,
             "#46039f"
            ],
            [
             0.2222222222222222,
             "#7201a8"
            ],
            [
             0.3333333333333333,
             "#9c179e"
            ],
            [
             0.4444444444444444,
             "#bd3786"
            ],
            [
             0.5555555555555556,
             "#d8576b"
            ],
            [
             0.6666666666666666,
             "#ed7953"
            ],
            [
             0.7777777777777778,
             "#fb9f3a"
            ],
            [
             0.8888888888888888,
             "#fdca26"
            ],
            [
             1,
             "#f0f921"
            ]
           ],
           "sequentialminus": [
            [
             0,
             "#0d0887"
            ],
            [
             0.1111111111111111,
             "#46039f"
            ],
            [
             0.2222222222222222,
             "#7201a8"
            ],
            [
             0.3333333333333333,
             "#9c179e"
            ],
            [
             0.4444444444444444,
             "#bd3786"
            ],
            [
             0.5555555555555556,
             "#d8576b"
            ],
            [
             0.6666666666666666,
             "#ed7953"
            ],
            [
             0.7777777777777778,
             "#fb9f3a"
            ],
            [
             0.8888888888888888,
             "#fdca26"
            ],
            [
             1,
             "#f0f921"
            ]
           ]
          },
          "colorway": [
           "#636efa",
           "#EF553B",
           "#00cc96",
           "#ab63fa",
           "#FFA15A",
           "#19d3f3",
           "#FF6692",
           "#B6E880",
           "#FF97FF",
           "#FECB52"
          ],
          "font": {
           "color": "#2a3f5f"
          },
          "geo": {
           "bgcolor": "white",
           "lakecolor": "white",
           "landcolor": "#E5ECF6",
           "showlakes": true,
           "showland": true,
           "subunitcolor": "white"
          },
          "hoverlabel": {
           "align": "left"
          },
          "hovermode": "closest",
          "mapbox": {
           "style": "light"
          },
          "paper_bgcolor": "white",
          "plot_bgcolor": "#E5ECF6",
          "polar": {
           "angularaxis": {
            "gridcolor": "white",
            "linecolor": "white",
            "ticks": ""
           },
           "bgcolor": "#E5ECF6",
           "radialaxis": {
            "gridcolor": "white",
            "linecolor": "white",
            "ticks": ""
           }
          },
          "scene": {
           "xaxis": {
            "backgroundcolor": "#E5ECF6",
            "gridcolor": "white",
            "gridwidth": 2,
            "linecolor": "white",
            "showbackground": true,
            "ticks": "",
            "zerolinecolor": "white"
           },
           "yaxis": {
            "backgroundcolor": "#E5ECF6",
            "gridcolor": "white",
            "gridwidth": 2,
            "linecolor": "white",
            "showbackground": true,
            "ticks": "",
            "zerolinecolor": "white"
           },
           "zaxis": {
            "backgroundcolor": "#E5ECF6",
            "gridcolor": "white",
            "gridwidth": 2,
            "linecolor": "white",
            "showbackground": true,
            "ticks": "",
            "zerolinecolor": "white"
           }
          },
          "shapedefaults": {
           "line": {
            "color": "#2a3f5f"
           }
          },
          "ternary": {
           "aaxis": {
            "gridcolor": "white",
            "linecolor": "white",
            "ticks": ""
           },
           "baxis": {
            "gridcolor": "white",
            "linecolor": "white",
            "ticks": ""
           },
           "bgcolor": "#E5ECF6",
           "caxis": {
            "gridcolor": "white",
            "linecolor": "white",
            "ticks": ""
           }
          },
          "title": {
           "x": 0.05
          },
          "xaxis": {
           "automargin": true,
           "gridcolor": "white",
           "linecolor": "white",
           "ticks": "",
           "title": {
            "standoff": 15
           },
           "zerolinecolor": "white",
           "zerolinewidth": 2
          },
          "yaxis": {
           "automargin": true,
           "gridcolor": "white",
           "linecolor": "white",
           "ticks": "",
           "title": {
            "standoff": 15
           },
           "zerolinecolor": "white",
           "zerolinewidth": 2
          }
         }
        },
        "title": {
         "text": "Orientation lb_h sensor"
        }
       }
      },
      "text/html": [
       "<div>                            <div id=\"96297f49-edfa-43eb-bec3-0bf6590d6a80\" class=\"plotly-graph-div\" style=\"height:525px; width:100%;\"></div>            <script type=\"text/javascript\">                require([\"plotly\"], function(Plotly) {                    window.PLOTLYENV=window.PLOTLYENV || {};                                    if (document.getElementById(\"96297f49-edfa-43eb-bec3-0bf6590d6a80\")) {                    Plotly.newPlot(                        \"96297f49-edfa-43eb-bec3-0bf6590d6a80\",                        [{\"name\":\"roll_lb\",\"x\":[0,1,2,3,4,5,6,7,8,9,10,11,12,13,14,15,16,17,18,19,20,21,22,23,24,25,26,27,28,29,30,31,32,33,34,35,36,37,38,39,40,41,42,43,44,45,46,47,48,49,50,51,52,53,54,55,56,57,58,59,60,61,62,63,64,65,66,67,68,69,70,71,72,73,74,75,76,77,78,79,80,81,82,83,84,85,86,87,88,89,90,91,92,93,94,95,96,97,98,99,100,101,102,103,104,105,106,107,108,109],\"y\":[-6.840821724972088,-13.594348106705658,-20.21623018909807,-26.660009184031612,-32.932197977766656,-39.03025668881062,-44.97409991547956,-50.75595960840821,-56.40282180189804,-61.91702483652963,-67.29959994088159,-72.54329274671107,-77.68908211901807,-82.72592442952372,-87.68482634679565,-92.55917146924232,-97.16535275690624,-92.9422137119252,-92.1788893667194,-96.0065067623099,-97.90432965602766,-93.74900561766512,-98.53396770451792,-101.51997390841684,-103.97018360587364,-107.18247847552206,-104.26027609527289,-108.72698627472052,-111.09276100189348,-113.06361198122148,-117.52206676394442,-113.80036156288976,-118.22191348586264,-118.78466789598728,-119.84187348493543,-116.02929128700426,-120.7060142840818,-123.05168191704723,-119.41083737743377,-123.62312844220264,-119.89287862008572,-124.50838106068268,-128.29413552713586,-124.325617206798,-125.31034032179032,-127.01906939288652,-125.598933620732,-121.70196421349613,-126.31283266211696,-121.59590814616216,-117.52723008986922,-121.57784681701057,-117.0495419967826,-121.43662374689082,-119.57601410955468,-117.02411650094984,-118.72093073406084,-114.16473318843693,-118.3510122665558,-113.61761898028531,-112.63526543934331,-112.28080976515534,-115.25954299285472,-110.29555646481649,-111.89100308852684,-107.05014468992204,-102.54399755229063,-103.77635782665097,-101.31136136800151,-98.8062637641806,-96.73786979689623,-92.02439007054278,-87.7170419929384,-86.09216641652394,-89.88561271471592,-94.5682436110272,-98.4462809971132,-95.42561604558249,-98.63472747269084,-97.12780664784684,-97.36820065850333,-94.7776884730158,-98.47584481239367,-94.61554763062938,-98.09405595956552,-94.39940238920974,-98.13023625973383,-102.8191898059076,-97.91826211070894,-93.3330181864845,-97.39437200087568,-93.1257600394086,-95.9706694001453,-99.06023892122396,-95.67073408439649,-99.377005951464,-95.4532015272506,-99.55792564921926,-94.88993034579536,-99.52514533157972,-94.59532716139913,-98.4262639452326,-95.14314419855498,-98.15914851271717,-94.91478875495952,-98.5426018608578,-94.9881076510228,-98.24863603485794,-94.63517862114529,-97.87165638087126],\"type\":\"scatter\"},{\"name\":\"pitch_lb\",\"x\":[0,1,2,3,4,5,6,7,8,9,10,11,12,13,14,15,16,17,18,19,20,21,22,23,24,25,26,27,28,29,30,31,32,33,34,35,36,37,38,39,40,41,42,43,44,45,46,47,48,49,50,51,52,53,54,55,56,57,58,59,60,61,62,63,64,65,66,67,68,69,70,71,72,73,74,75,76,77,78,79,80,81,82,83,84,85,86,87,88,89,90,91,92,93,94,95,96,97,98,99,100,101,102,103,104,105,106,107,108,109],\"y\":[-0.0351524659507764,-0.1325522919801352,-0.3025202062857594,-0.5144728458262814,-0.785086582099851,-1.100640043890822,-1.444154093879118,-1.829536990975832,-2.229173635555414,-2.639119271696242,-3.0616932090468048,-3.496342822587153,-3.9479967762740538,-4.394292086703581,-4.848236066513052,-5.277475511620398,-5.559990518536298,-5.2189174908051,-5.174817703901764,-5.308330608015835,-5.527051588121256,-4.932639742622641,-5.4513831719474855,-5.882982049108086,-6.223187166204651,-6.60923811034449,-5.973325598209866,-7.261483754687578,-7.841116232130973,-8.311564195921534,-9.711603310873972,-8.298458823109922,-10.073616264171283,-10.252105612034333,-10.575144181508469,-8.97855662706291,-11.160887096049011,-12.39806476428175,-10.424244630536622,-12.64764126435606,-10.749136696093842,-12.95213389150532,-14.938944532231275,-12.865217113869928,-13.41279831697065,-14.366582081069428,-13.568576188760654,-11.237714822225286,-13.803275238065114,-11.041920753979474,-8.367977097044163,-11.071986533218764,-8.234089195661165,-10.84202329062617,-9.888228751805428,-8.573829754811804,-9.45036546169648,-7.2922719686354815,-9.260968673507517,-7.242200714586614,-6.760250447298199,-6.590392485078591,-7.6664807451282595,-6.135797825760287,-6.519287234734756,-5.683166621334229,-4.787407307469816,-5.14686705740711,-4.403636531697844,-3.90757550499374,-3.712807770519741,-3.595517941747959,-3.4193639264896083,-3.3802679820601225,-3.4099621984874475,-3.698606361370242,-4.106451692316462,-3.825159292982947,-4.123537412129635,-4.014660557398083,-4.034422342785748,-3.786271261635024,-4.07021409320339,-3.777750964184766,-4.034071655482434,-3.75089711045996,-4.002900930720277,-4.461067219438971,-4.022835681687799,-3.730930818726921,-4.017442302854798,-3.4560008796482315,-3.79357023311101,-4.134476120971821,-3.754903450068437,-4.132395974705268,-3.742260960854268,-4.113096211142143,-3.657332768980216,-4.049980537355912,-3.6304677141649138,-4.050656613388528,-3.736540187189119,-4.022034011343873,-3.709028480491711,-4.029810789392941,-3.734596271121652,-4.004618424353778,-3.6977465574669535,-3.96959916546749],\"type\":\"scatter\"},{\"name\":\"yaw_lb\",\"x\":[0,1,2,3,4,5,6,7,8,9,10,11,12,13,14,15,16,17,18,19,20,21,22,23,24,25,26,27,28,29,30,31,32,33,34,35,36,37,38,39,40,41,42,43,44,45,46,47,48,49,50,51,52,53,54,55,56,57,58,59,60,61,62,63,64,65,66,67,68,69,70,71,72,73,74,75,76,77,78,79,80,81,82,83,84,85,86,87,88,89,90,91,92,93,94,95,96,97,98,99,100,101,102,103,104,105,106,107,108,109],\"y\":[0.5963116115779582,1.1696804171895063,1.6967071896922958,2.237624527417633,2.743120546123898,3.1876211081935275,3.587968855418326,3.9524610363024335,4.151730373527337,4.341763881538603,4.576852914084396,4.946170614412946,5.092537310307342,5.267383764519576,5.235957450441085,4.860143496642376,2.2355934436155924,6.811537787362218,0.1634558800566709,3.6131364050081047,9.64681119376525,6.904128909634282,5.607427519342831,10.981974078305871,4.580443539106301,9.287958119483438,15.34773780238744,17.158751581602843,10.67120226674832,16.73320330888946,18.455681038958637,23.560331078562427,20.726172644817463,13.81300228306416,20.37740130139646,25.44335010144418,25.398196189810168,31.006129585939807,26.952861060434188,29.491710460933444,25.41469271453708,26.54914957214616,30.086544756818512,26.449965741724192,33.00565388990723,26.552335249027337,33.362251945407294,29.62682929068001,29.768174294963767,31.95314964776509,35.38778456192004,33.03832713514196,31.51909468590035,30.594117520214397,24.42453563879133,30.57226448175111,24.10775838690648,27.08572536905987,23.99969096069477,22.741041514571386,29.538532427106432,22.704360488651453,17.240121547054738,17.117082886202525,10.392859324550477,9.445677847109485,13.024686496134768,19.442876351159597,14.015543107954452,8.439034880138264,2.391062096958332,0.3160648470421395,4.380597660299404,-1.6313498877745412,2.632159062426906,4.314080898611091,7.956109406181352,3.0284540466834837,7.709012389260339,1.292163018786989,8.108901971308176,2.532319489103032,6.278530979158831,2.237261221872914,6.408712593134539,2.1127508506025,5.779996843531586,5.385982942175006,4.852050037324784,2.4354516986588126,5.476766279437562,9.725909204874254,3.8572402810138713,8.578984217564923,3.965955603361698,7.6652950657358385,3.870367187411987,6.599471790900734,4.564289321914726,5.171367488785425,4.5540238829692585,7.985592447035916,3.162736166051232,7.986991723623043,3.0856181718879774,6.971343082026676,2.526509548320323,7.067392895132319,2.667192932128019,7.219239413511551],\"type\":\"scatter\"}],                        {\"template\":{\"data\":{\"bar\":[{\"error_x\":{\"color\":\"#2a3f5f\"},\"error_y\":{\"color\":\"#2a3f5f\"},\"marker\":{\"line\":{\"color\":\"#E5ECF6\",\"width\":0.5},\"pattern\":{\"fillmode\":\"overlay\",\"size\":10,\"solidity\":0.2}},\"type\":\"bar\"}],\"barpolar\":[{\"marker\":{\"line\":{\"color\":\"#E5ECF6\",\"width\":0.5},\"pattern\":{\"fillmode\":\"overlay\",\"size\":10,\"solidity\":0.2}},\"type\":\"barpolar\"}],\"carpet\":[{\"aaxis\":{\"endlinecolor\":\"#2a3f5f\",\"gridcolor\":\"white\",\"linecolor\":\"white\",\"minorgridcolor\":\"white\",\"startlinecolor\":\"#2a3f5f\"},\"baxis\":{\"endlinecolor\":\"#2a3f5f\",\"gridcolor\":\"white\",\"linecolor\":\"white\",\"minorgridcolor\":\"white\",\"startlinecolor\":\"#2a3f5f\"},\"type\":\"carpet\"}],\"choropleth\":[{\"colorbar\":{\"outlinewidth\":0,\"ticks\":\"\"},\"type\":\"choropleth\"}],\"contour\":[{\"colorbar\":{\"outlinewidth\":0,\"ticks\":\"\"},\"colorscale\":[[0.0,\"#0d0887\"],[0.1111111111111111,\"#46039f\"],[0.2222222222222222,\"#7201a8\"],[0.3333333333333333,\"#9c179e\"],[0.4444444444444444,\"#bd3786\"],[0.5555555555555556,\"#d8576b\"],[0.6666666666666666,\"#ed7953\"],[0.7777777777777778,\"#fb9f3a\"],[0.8888888888888888,\"#fdca26\"],[1.0,\"#f0f921\"]],\"type\":\"contour\"}],\"contourcarpet\":[{\"colorbar\":{\"outlinewidth\":0,\"ticks\":\"\"},\"type\":\"contourcarpet\"}],\"heatmap\":[{\"colorbar\":{\"outlinewidth\":0,\"ticks\":\"\"},\"colorscale\":[[0.0,\"#0d0887\"],[0.1111111111111111,\"#46039f\"],[0.2222222222222222,\"#7201a8\"],[0.3333333333333333,\"#9c179e\"],[0.4444444444444444,\"#bd3786\"],[0.5555555555555556,\"#d8576b\"],[0.6666666666666666,\"#ed7953\"],[0.7777777777777778,\"#fb9f3a\"],[0.8888888888888888,\"#fdca26\"],[1.0,\"#f0f921\"]],\"type\":\"heatmap\"}],\"heatmapgl\":[{\"colorbar\":{\"outlinewidth\":0,\"ticks\":\"\"},\"colorscale\":[[0.0,\"#0d0887\"],[0.1111111111111111,\"#46039f\"],[0.2222222222222222,\"#7201a8\"],[0.3333333333333333,\"#9c179e\"],[0.4444444444444444,\"#bd3786\"],[0.5555555555555556,\"#d8576b\"],[0.6666666666666666,\"#ed7953\"],[0.7777777777777778,\"#fb9f3a\"],[0.8888888888888888,\"#fdca26\"],[1.0,\"#f0f921\"]],\"type\":\"heatmapgl\"}],\"histogram\":[{\"marker\":{\"pattern\":{\"fillmode\":\"overlay\",\"size\":10,\"solidity\":0.2}},\"type\":\"histogram\"}],\"histogram2d\":[{\"colorbar\":{\"outlinewidth\":0,\"ticks\":\"\"},\"colorscale\":[[0.0,\"#0d0887\"],[0.1111111111111111,\"#46039f\"],[0.2222222222222222,\"#7201a8\"],[0.3333333333333333,\"#9c179e\"],[0.4444444444444444,\"#bd3786\"],[0.5555555555555556,\"#d8576b\"],[0.6666666666666666,\"#ed7953\"],[0.7777777777777778,\"#fb9f3a\"],[0.8888888888888888,\"#fdca26\"],[1.0,\"#f0f921\"]],\"type\":\"histogram2d\"}],\"histogram2dcontour\":[{\"colorbar\":{\"outlinewidth\":0,\"ticks\":\"\"},\"colorscale\":[[0.0,\"#0d0887\"],[0.1111111111111111,\"#46039f\"],[0.2222222222222222,\"#7201a8\"],[0.3333333333333333,\"#9c179e\"],[0.4444444444444444,\"#bd3786\"],[0.5555555555555556,\"#d8576b\"],[0.6666666666666666,\"#ed7953\"],[0.7777777777777778,\"#fb9f3a\"],[0.8888888888888888,\"#fdca26\"],[1.0,\"#f0f921\"]],\"type\":\"histogram2dcontour\"}],\"mesh3d\":[{\"colorbar\":{\"outlinewidth\":0,\"ticks\":\"\"},\"type\":\"mesh3d\"}],\"parcoords\":[{\"line\":{\"colorbar\":{\"outlinewidth\":0,\"ticks\":\"\"}},\"type\":\"parcoords\"}],\"pie\":[{\"automargin\":true,\"type\":\"pie\"}],\"scatter\":[{\"marker\":{\"colorbar\":{\"outlinewidth\":0,\"ticks\":\"\"}},\"type\":\"scatter\"}],\"scatter3d\":[{\"line\":{\"colorbar\":{\"outlinewidth\":0,\"ticks\":\"\"}},\"marker\":{\"colorbar\":{\"outlinewidth\":0,\"ticks\":\"\"}},\"type\":\"scatter3d\"}],\"scattercarpet\":[{\"marker\":{\"colorbar\":{\"outlinewidth\":0,\"ticks\":\"\"}},\"type\":\"scattercarpet\"}],\"scattergeo\":[{\"marker\":{\"colorbar\":{\"outlinewidth\":0,\"ticks\":\"\"}},\"type\":\"scattergeo\"}],\"scattergl\":[{\"marker\":{\"colorbar\":{\"outlinewidth\":0,\"ticks\":\"\"}},\"type\":\"scattergl\"}],\"scattermapbox\":[{\"marker\":{\"colorbar\":{\"outlinewidth\":0,\"ticks\":\"\"}},\"type\":\"scattermapbox\"}],\"scatterpolar\":[{\"marker\":{\"colorbar\":{\"outlinewidth\":0,\"ticks\":\"\"}},\"type\":\"scatterpolar\"}],\"scatterpolargl\":[{\"marker\":{\"colorbar\":{\"outlinewidth\":0,\"ticks\":\"\"}},\"type\":\"scatterpolargl\"}],\"scatterternary\":[{\"marker\":{\"colorbar\":{\"outlinewidth\":0,\"ticks\":\"\"}},\"type\":\"scatterternary\"}],\"surface\":[{\"colorbar\":{\"outlinewidth\":0,\"ticks\":\"\"},\"colorscale\":[[0.0,\"#0d0887\"],[0.1111111111111111,\"#46039f\"],[0.2222222222222222,\"#7201a8\"],[0.3333333333333333,\"#9c179e\"],[0.4444444444444444,\"#bd3786\"],[0.5555555555555556,\"#d8576b\"],[0.6666666666666666,\"#ed7953\"],[0.7777777777777778,\"#fb9f3a\"],[0.8888888888888888,\"#fdca26\"],[1.0,\"#f0f921\"]],\"type\":\"surface\"}],\"table\":[{\"cells\":{\"fill\":{\"color\":\"#EBF0F8\"},\"line\":{\"color\":\"white\"}},\"header\":{\"fill\":{\"color\":\"#C8D4E3\"},\"line\":{\"color\":\"white\"}},\"type\":\"table\"}]},\"layout\":{\"annotationdefaults\":{\"arrowcolor\":\"#2a3f5f\",\"arrowhead\":0,\"arrowwidth\":1},\"autotypenumbers\":\"strict\",\"coloraxis\":{\"colorbar\":{\"outlinewidth\":0,\"ticks\":\"\"}},\"colorscale\":{\"diverging\":[[0,\"#8e0152\"],[0.1,\"#c51b7d\"],[0.2,\"#de77ae\"],[0.3,\"#f1b6da\"],[0.4,\"#fde0ef\"],[0.5,\"#f7f7f7\"],[0.6,\"#e6f5d0\"],[0.7,\"#b8e186\"],[0.8,\"#7fbc41\"],[0.9,\"#4d9221\"],[1,\"#276419\"]],\"sequential\":[[0.0,\"#0d0887\"],[0.1111111111111111,\"#46039f\"],[0.2222222222222222,\"#7201a8\"],[0.3333333333333333,\"#9c179e\"],[0.4444444444444444,\"#bd3786\"],[0.5555555555555556,\"#d8576b\"],[0.6666666666666666,\"#ed7953\"],[0.7777777777777778,\"#fb9f3a\"],[0.8888888888888888,\"#fdca26\"],[1.0,\"#f0f921\"]],\"sequentialminus\":[[0.0,\"#0d0887\"],[0.1111111111111111,\"#46039f\"],[0.2222222222222222,\"#7201a8\"],[0.3333333333333333,\"#9c179e\"],[0.4444444444444444,\"#bd3786\"],[0.5555555555555556,\"#d8576b\"],[0.6666666666666666,\"#ed7953\"],[0.7777777777777778,\"#fb9f3a\"],[0.8888888888888888,\"#fdca26\"],[1.0,\"#f0f921\"]]},\"colorway\":[\"#636efa\",\"#EF553B\",\"#00cc96\",\"#ab63fa\",\"#FFA15A\",\"#19d3f3\",\"#FF6692\",\"#B6E880\",\"#FF97FF\",\"#FECB52\"],\"font\":{\"color\":\"#2a3f5f\"},\"geo\":{\"bgcolor\":\"white\",\"lakecolor\":\"white\",\"landcolor\":\"#E5ECF6\",\"showlakes\":true,\"showland\":true,\"subunitcolor\":\"white\"},\"hoverlabel\":{\"align\":\"left\"},\"hovermode\":\"closest\",\"mapbox\":{\"style\":\"light\"},\"paper_bgcolor\":\"white\",\"plot_bgcolor\":\"#E5ECF6\",\"polar\":{\"angularaxis\":{\"gridcolor\":\"white\",\"linecolor\":\"white\",\"ticks\":\"\"},\"bgcolor\":\"#E5ECF6\",\"radialaxis\":{\"gridcolor\":\"white\",\"linecolor\":\"white\",\"ticks\":\"\"}},\"scene\":{\"xaxis\":{\"backgroundcolor\":\"#E5ECF6\",\"gridcolor\":\"white\",\"gridwidth\":2,\"linecolor\":\"white\",\"showbackground\":true,\"ticks\":\"\",\"zerolinecolor\":\"white\"},\"yaxis\":{\"backgroundcolor\":\"#E5ECF6\",\"gridcolor\":\"white\",\"gridwidth\":2,\"linecolor\":\"white\",\"showbackground\":true,\"ticks\":\"\",\"zerolinecolor\":\"white\"},\"zaxis\":{\"backgroundcolor\":\"#E5ECF6\",\"gridcolor\":\"white\",\"gridwidth\":2,\"linecolor\":\"white\",\"showbackground\":true,\"ticks\":\"\",\"zerolinecolor\":\"white\"}},\"shapedefaults\":{\"line\":{\"color\":\"#2a3f5f\"}},\"ternary\":{\"aaxis\":{\"gridcolor\":\"white\",\"linecolor\":\"white\",\"ticks\":\"\"},\"baxis\":{\"gridcolor\":\"white\",\"linecolor\":\"white\",\"ticks\":\"\"},\"bgcolor\":\"#E5ECF6\",\"caxis\":{\"gridcolor\":\"white\",\"linecolor\":\"white\",\"ticks\":\"\"}},\"title\":{\"x\":0.05},\"xaxis\":{\"automargin\":true,\"gridcolor\":\"white\",\"linecolor\":\"white\",\"ticks\":\"\",\"title\":{\"standoff\":15},\"zerolinecolor\":\"white\",\"zerolinewidth\":2},\"yaxis\":{\"automargin\":true,\"gridcolor\":\"white\",\"linecolor\":\"white\",\"ticks\":\"\",\"title\":{\"standoff\":15},\"zerolinecolor\":\"white\",\"zerolinewidth\":2}}},\"title\":{\"text\":\"Orientation lb_h sensor\"}},                        {\"responsive\": true}                    ).then(function(){\n",
       "                            \n",
       "var gd = document.getElementById('96297f49-edfa-43eb-bec3-0bf6590d6a80');\n",
       "var x = new MutationObserver(function (mutations, observer) {{\n",
       "        var display = window.getComputedStyle(gd).display;\n",
       "        if (!display || display === 'none') {{\n",
       "            console.log([gd, 'removed!']);\n",
       "            Plotly.purge(gd);\n",
       "            observer.disconnect();\n",
       "        }}\n",
       "}});\n",
       "\n",
       "// Listen for the removal of the full notebook cells\n",
       "var notebookContainer = gd.closest('#notebook-container');\n",
       "if (notebookContainer) {{\n",
       "    x.observe(notebookContainer, {childList: true});\n",
       "}}\n",
       "\n",
       "// Listen for the clearing of the current output cell\n",
       "var outputEl = gd.closest('.output');\n",
       "if (outputEl) {{\n",
       "    x.observe(outputEl, {childList: true});\n",
       "}}\n",
       "\n",
       "                        })                };                });            </script>        </div>"
      ]
     },
     "metadata": {},
     "output_type": "display_data"
    }
   ],
   "source": [
    "test_plot_r = pd.read_csv('D:/Thesis/dataset/lifting_orientation_1_0.csv')\n",
    "test_plot = test_plot_r\n",
    "\n",
    "def preprocessing_dataset(dataset):\n",
    "    df = dataset.drop(columns = \"Unnamed: 0\")\n",
    "    df.columns = [\"roll_bt\",\"pitch_bt\",\"yaw_bt\",\n",
    "                  \"roll_bb\",\"pitch_bb\",\"yaw_bb\",\n",
    "                  \"roll_lt\",\"pitch_lt\",\"yaw_lt\",\n",
    "                  \"roll_lb\",\"pitch_lb\",\"yaw_lb\",\n",
    "                  \"roll_rt\",\"pitch_rt\",\"yaw_rt\",\n",
    "                  \"roll_rb\",\"pitch_rb\",\"yaw_rb\"\n",
    "                 ]\n",
    "    return df\n",
    "test_plot_1 = preprocessing_dataset(test_plot)\n",
    "\n",
    "\n",
    "bt_h = [\"roll_bt\",\"pitch_bt\",\"yaw_bt\"]\n",
    "bb_h = [\"roll_bb\",\"pitch_bb\",\"yaw_bb\"]\n",
    "lt_h = [ \"roll_lt\",\"pitch_lt\",\"yaw_lt\"]\n",
    "lb_h = [\"roll_lb\",\"pitch_lb\",\"yaw_lb\"]\n",
    "rt_h =[\"roll_rt\",\"pitch_rt\",\"yaw_rt\"]\n",
    "rb_h = [ \"roll_rb\",\"pitch_rb\",\"yaw_rb\"]\n",
    "                 \n",
    "name_sensor_plot = 'lb_h'\n",
    "\n",
    "orientation_bt_test= test_plot_1[bt_h]\n",
    "orientation_bb_test= test_plot_1[bb_h]\n",
    "orientation_lt_test= test_plot_1[lt_h]\n",
    "orientation_lb_test= test_plot_1[lb_h]\n",
    "orientation_rt_test= test_plot_1[rt_h]\n",
    "orientation_rb_test= test_plot_1[rb_h]\n",
    "\n",
    "show_plot(orientation_lb_test,f'Orientation {name_sensor_plot} sensor')\n",
    "\n",
    "\n",
    "# plt.figure\n",
    "# plt.plot(orientation_lb_test.index, orientation_lb_test[\"roll_lb\"], 'b', alpha=0.75)\n",
    "# plt.plot(orientation_lb_test.index, frame['pitch'], 'r', orientation_lb_test.index,  orientation_lb_test[\"yaw_lb\"], 'g')\n",
    "# plt.legend(('roll', 'pitch', 'yaw'), loc='best')\n",
    "# plt.grid(True)\n",
    "# plt.show()\n"
   ]
  },
  {
   "cell_type": "code",
   "execution_count": 217,
   "id": "7af79d6f",
   "metadata": {},
   "outputs": [],
   "source": [
    "# orientation_lb_test.loc[:]"
   ]
  },
  {
   "cell_type": "markdown",
   "id": "c140361d",
   "metadata": {},
   "source": [
    "# Filter dataset"
   ]
  },
  {
   "cell_type": "code",
   "execution_count": 218,
   "id": "5eb3b422",
   "metadata": {},
   "outputs": [],
   "source": [
    "def find_headers_orient(mpu):\n",
    "    headers = []\n",
    "    for i in mpu:\n",
    "        headers.append(i)\n",
    "    return headers"
   ]
  },
  {
   "cell_type": "code",
   "execution_count": 232,
   "id": "0937ae22",
   "metadata": {},
   "outputs": [],
   "source": [
    "def filter_scipy(dataset):\n",
    "    xn = dataset\n",
    "    b, a = signal.butter(3, 0.05)\n",
    "    zi = signal.lfilter_zi(b, a)\n",
    "    z, _ = signal.lfilter(b, a, xn, zi=zi* xn[0])\n",
    "    z2, _ = signal.lfilter(b, a, z, zi=zi*z[0])\n",
    "    y = signal.filtfilt(b, a, xn)\n",
    "    \n",
    "    # вывод работы ФНЧ\n",
    "#     plt.figure\n",
    "#     plt.plot(orientation_lb_test.index, xn, 'b', alpha=0.75)\n",
    "#     plt.plot(orientation_lb_test.index, z, 'r--', orientation_lb_test.index, z2, 'r', orientation_lb_test.index, y, 'k')\n",
    "#     plt.legend(('noisy signal', 'lfilter, once', 'lfilter, twice',\n",
    "#             'filtfilt'), loc='best')\n",
    "#     plt.grid(True)\n",
    "#     plt.show()\n",
    "    \n",
    "    return y"
   ]
  },
  {
   "cell_type": "code",
   "execution_count": 233,
   "id": "c57589a5",
   "metadata": {},
   "outputs": [],
   "source": [
    "# xn = orientation_lb_test['yaw_lb']\n",
    "# b, a = signal.butter(3, 0.05)\n",
    "# zi = signal.lfilter_zi(b, a)\n",
    "# z, _ = signal.lfilter(b, a, orientation_lb_test['yaw_lb'], zi=zi* orientation_lb_test['yaw_lb'][0])"
   ]
  },
  {
   "cell_type": "code",
   "execution_count": 234,
   "id": "1a2dc853",
   "metadata": {},
   "outputs": [
    {
     "data": {
      "text/plain": [
       "['roll_lb', 'pitch_lb', 'yaw_lb']"
      ]
     },
     "execution_count": 234,
     "metadata": {},
     "output_type": "execute_result"
    }
   ],
   "source": [
    "# z2, _ = signal.lfilter(b, a, z, zi=zi*z[0])\n",
    "# y = signal.filtfilt(b, a, xn)\n",
    "headers_orient  = find_headers_orient(orientation_lb_test)\n",
    "headers_orient"
   ]
  },
  {
   "cell_type": "code",
   "execution_count": 235,
   "id": "e0caa5ac",
   "metadata": {},
   "outputs": [],
   "source": [
    "filtered_roll =  filter_scipy(orientation_lb_test[headers_orient[0]])\n",
    "filtered_pitch =  filter_scipy(orientation_lb_test[headers_orient[1]]) \n",
    "filtered_yaw =  filter_scipy(orientation_lb_test[headers_orient[2]])\n",
    "\n",
    "\n"
   ]
  },
  {
   "cell_type": "code",
   "execution_count": 236,
   "id": "d7b42ba6",
   "metadata": {},
   "outputs": [],
   "source": [
    "\n",
    "filtered_roll_pd = pd.DataFrame(filtered_roll)\n",
    "filtered_pitch_pd = pd.DataFrame(filtered_pitch)\n",
    "filtered_yaw_pd = pd.DataFrame(filtered_yaw)\n",
    "frame = pd.concat([filtered_roll_pd,filtered_pitch_pd,filtered_yaw_pd],axis = 1)\n",
    "frame.columns = [\"roll\", \"pitch\", \"yaw\"]\n",
    "# frame"
   ]
  },
  {
   "cell_type": "code",
   "execution_count": null,
   "id": "2677a13a",
   "metadata": {},
   "outputs": [],
   "source": []
  },
  {
   "cell_type": "code",
   "execution_count": 237,
   "id": "ccd3743e",
   "metadata": {},
   "outputs": [
    {
     "data": {
      "image/png": "[encoded data removed]",
      "text/plain": [
       "<Figure size 432x288 with 1 Axes>"
      ]
     },
     "metadata": {
      "needs_background": "light"
     },
     "output_type": "display_data"
    }
   ],
   "source": [
    "\n",
    "# frame = frame.loc[15:]\n",
    "plt.figure\n",
    "\n",
    "\n",
    "plt.title(f\"{name_sensor_plot}\")\n",
    "plt.plot(frame.index, frame['roll'], 'b', alpha=0.75)\n",
    "plt.plot(frame.index, frame['pitch'], 'r', frame.index,  frame['yaw'], 'g')\n",
    "plt.legend(('roll', 'pitch', 'yaw'), loc='best')\n",
    "plt.grid(True)\n",
    "plt.show()\n",
    "\n",
    "\n"
   ]
  },
  {
   "cell_type": "markdown",
   "id": "50a84d77",
   "metadata": {
    "code_folding": []
   },
   "source": [
    "# Orientation only with gyro "
   ]
  },
  {
   "cell_type": "code",
   "execution_count": 182,
   "id": "b23e121b",
   "metadata": {},
   "outputs": [],
   "source": [
    "\n",
    "\n",
    "# pitch = np.zeros(len(calibrated_lb))\n",
    "# yaw = np.zeros(len(calibrated_lb))\n",
    "# roll = np.zeros(len(calibrated_lb))\n",
    "\n",
    "# for i in range(len(calibrated_lb)-1):\n",
    "#     delta_t = 0.06\n",
    "    \n",
    "#     pitch[i+1] = pitch[i] + calibrated_lb['lb_gy'][i]*delta_t\n",
    "#     yaw[i+1] = yaw[i]+calibrated_lb['lb_gz'][i]*delta_t\n",
    "#     roll[i+1] = roll[i]+calibrated_lb['lb_gx'][i]*delta_t\n",
    "    \n",
    "\n",
    "# orientation_d = pd.DataFrame({'roll':np.rad2deg(roll),'pitch':np.rad2deg(pitch),'yaw':np.rad2deg(yaw)})\n",
    "\n",
    "# show_plot(orientation_d,'Orientation only with  gyro')"
   ]
  },
  {
   "cell_type": "code",
   "execution_count": 85,
   "id": "6cd41de5",
   "metadata": {},
   "outputs": [],
   "source": [
    "#(-0.02213089742574257, 0.01005698124752475, -0.013309934386138617)"
   ]
  },
  {
   "cell_type": "code",
   "execution_count": null,
   "id": "85c72040",
   "metadata": {},
   "outputs": [],
   "source": []
  },
  {
   "cell_type": "code",
   "execution_count": null,
   "id": "fc9acf16",
   "metadata": {},
   "outputs": [],
   "source": []
  },
  {
   "cell_type": "code",
   "execution_count": null,
   "id": "a665d297",
   "metadata": {},
   "outputs": [],
   "source": []
  }
 ],
 "metadata": {
  "kernelspec": {
   "display_name": "Python 3",
   "language": "python",
   "name": "python3"
  },
  "language_info": {
   "codemirror_mode": {
    "name": "ipython",
    "version": 3
   },
   "file_extension": ".py",
   "mimetype": "text/x-python",
   "name": "python",
   "nbconvert_exporter": "python",
   "pygments_lexer": "ipython3",
   "version": "3.8.8"
  },
  "toc": {
   "base_numbering": 1,
   "nav_menu": {},
   "number_sections": true,
   "sideBar": true,
   "skip_h1_title": false,
   "title_cell": "Table of Contents",
   "title_sidebar": "Contents",
   "toc_cell": false,
   "toc_position": {},
   "toc_section_display": true,
   "toc_window_display": false
  }
 },
 "nbformat": 4,
 "nbformat_minor": 5
}
