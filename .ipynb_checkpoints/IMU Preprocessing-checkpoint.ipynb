{
 "cells": [
  {
   "cell_type": "markdown",
   "id": "4b83d4c5",
   "metadata": {},
   "source": [
    "# Read Data From CSV"
   ]
  },
  {
   "cell_type": "markdown",
   "id": "aea42224",
   "metadata": {},
   "source": [
    "## импорт всех библиотек"
   ]
  },
  {
   "cell_type": "code",
   "execution_count": 2,
   "id": "448519ea",
   "metadata": {},
   "outputs": [],
   "source": [
    "import plotly\n",
    "import plotly.graph_objs as go\n",
    "import plotly.express as px\n",
    "\n",
    "from plotly.subplots import make_subplots\n",
    "import pandas as pd\n",
    "import numpy as np\n",
    "from numpy.linalg import norm\n",
    "from quaternion import Quaternion\n",
    "from scipy import stats\n",
    "from scipy import signal\n",
    "import matplotlib.pyplot as plt\n",
    "import os\n",
    "from os import walk\n",
    "import madgwickahrs as mg\n",
    "from quaternion import Quaternion\n"
   ]
  },
  {
   "cell_type": "markdown",
   "id": "32d7ba0e",
   "metadata": {},
   "source": [
    "## функции калибровки"
   ]
  },
  {
   "cell_type": "code",
   "execution_count": 3,
   "id": "8b3d7cb3",
   "metadata": {},
   "outputs": [],
   "source": [
    "\n",
    "def find_offsets(mpu,counts = 100):\n",
    "    calibration_set = mpu.loc[:counts]\n",
    "    calibration_set =mpu \n",
    "    n = float(len(calibration_set))\n",
    "    summ = []\n",
    "    offsets = []\n",
    "    for i in calibration_set:\n",
    "        summ.append(calibration_set[i].sum())\n",
    "    for s in summ:\n",
    "        offsets.append(s/n)\n",
    "    return offsets\n",
    "\n",
    "def find_headers(mpu):\n",
    "    headers = []\n",
    "    for i in mpu:\n",
    "        headers.append(i)\n",
    "    return headers\n",
    "\n",
    "def calibration(mpu,dataset):\n",
    "    \n",
    "    headers = find_headers(mpu)\n",
    "#     print(headers)\n",
    "    \n",
    "    off = find_offsets(mpu)\n",
    "    calibrated = mpu.copy()\n",
    "    #не калибровать ускорение для фильтра маджвика!\n",
    "    calibrated[headers[0]] = mpu[headers[0]] - off[0]\n",
    "#  calibrated[headers[1]] = mpu[headers[1]] - off[1]\n",
    "    calibrated[headers[2]] = mpu[headers[2]] - off[2]\n",
    "    \n",
    "    calibrated[headers[3]] = mpu[headers[3]] - off[3]\n",
    "    calibrated[headers[4]] = mpu[headers[4]] - off[4]\n",
    "    calibrated[headers[5]] = mpu[headers[5]] - off[5]\n",
    "    \n",
    "    return calibrated\n"
   ]
  },
  {
   "cell_type": "code",
   "execution_count": 4,
   "id": "587f445e",
   "metadata": {
    "code_folding": [
     0
    ]
   },
   "outputs": [],
   "source": [
    "#функции для вывода графиков\n",
    "def show_plots(mpu_t,mpu_b,title_t,title_b,accel=None):\n",
    "    \n",
    "    headers_t = find_headers(mpu_t)\n",
    "    headers_b = find_headers(mpu_b)\n",
    "    \n",
    "    if accel == True:\n",
    "        headers_t = headers_t[:3]\n",
    "        headers_b = headers_b[:3]\n",
    "        title_t += ' accel'\n",
    "        title_b += ' accel'\n",
    "    elif accel == None:\n",
    "        headers_t = headers_t[:3]\n",
    "        title_t +='accel'\n",
    "        headers_b = headers_b[3:]\n",
    "        title_b += ' gyro'\n",
    "    else:\n",
    "        headers_t = headers_t[3:]\n",
    "        headers_b = headers_b[3:]\n",
    "        title_t += ' gyro'\n",
    "        title_b += ' gyro'\n",
    "        \n",
    "\n",
    "\n",
    "    fig = make_subplots(rows=1, cols=2, subplot_titles=(title_t,title_b))\n",
    "\n",
    "\n",
    "    fig.add_trace(go.Scatter(x=mpu_t.index, y=mpu_t[headers_t[0]],name=headers_t[0]),1,1)\n",
    "    fig.add_trace(go.Scatter(x=mpu_t.index, y=mpu_t[headers_t[1]],name=headers_t[1]),1,1)\n",
    "    fig.add_trace(go.Scatter(x=mpu_t.index, y=mpu_t[headers_t[2]],name=headers_t[2]),1,1)\n",
    "\n",
    "    fig.add_trace(go.Scatter(x=mpu_t.index, y=mpu_b[headers_b[0]],name=headers_b[0]),1,2)\n",
    "    fig.add_trace(go.Scatter(x=mpu_t.index, y=mpu_b[headers_b[1]],name=headers_b[1]),1,2)\n",
    "    fig.add_trace(go.Scatter(x=mpu_t.index, y=mpu_b[headers_b[2]],name=headers_b[2]),1,2)\n",
    "\n",
    "\n",
    "    fig.update_layout(legend_orientation=\"h\",\n",
    "                      legend=dict(x=.5, xanchor=\"center\"),\n",
    "                      hovermode=\"x\",\n",
    "                      margin=dict(l=0, r=0, t=40, b=0))\n",
    "    fig.show()\n",
    "\n",
    "\n",
    "def show_plot(mpu_t,title_t,accel=None):\n",
    "    \n",
    "    headers_t = find_headers(mpu_t)\n",
    "    \n",
    "    if accel == True:\n",
    "        headers_t = headers_t[:3]\n",
    "        title_t += ' accel'\n",
    "    elif accel == None:\n",
    "        headers_t = headers_t\n",
    "    else:\n",
    "        headers_t = headers_t[3:]\n",
    "        title_t += ' gyro'\n",
    "        \n",
    "\n",
    "\n",
    "    fig = go.Figure() \n",
    "    fig.update_layout(title=title_t)\n",
    "    fig.add_trace(go.Scatter(x=mpu_t.index, y=mpu_t[headers_t[0]],name=headers_t[0]))\n",
    "    fig.add_trace(go.Scatter(x=mpu_t.index, y=mpu_t[headers_t[1]],name=headers_t[1]))\n",
    "    fig.add_trace(go.Scatter(x=mpu_t.index, y=mpu_t[headers_t[2]],name=headers_t[2]))\n",
    "\n",
    "    fig.show()\n"
   ]
  },
  {
   "cell_type": "code",
   "execution_count": 5,
   "id": "d2db9682",
   "metadata": {
    "code_folding": []
   },
   "outputs": [],
   "source": [
    "def read_csv_file(file_path):\n",
    "    df = pd.read_csv(file_path,sep = ' ',header = None)\n",
    "    df.columns = [\"s1\",\"bt_ax\",\"bt_ay\",\"bt_az\",\"bt_gx\",\"bt_gy\",\"bt_gz\",\n",
    "                 \"s2\",\"bb_ax\",\"bb_ay\",\"bb_az\",\"bb_gx\",\"bb_gy\",\"bb_gz\",\n",
    "                 \"s3\",\"lt_ax\",\"lt_ay\",\"lt_az\",\"lt_gx\",\"lt_gy\",\"lt_gz\",\n",
    "                 \"s4\",\"lb_ax\",\"lb_ay\",\"lb_az\",\"lb_gx\",\"lb_gy\",\"lb_gz\",\n",
    "                \"s5\",\"rt_ay\",\"rt_ax\",\"rt_az\",\"rt_gx\",\"rt_gy\",\"rt_gz\",\n",
    "                 \"s6\",\"rb_ax\",\"rb_ay\",\"rb_az\",\"rb_gx\",\"rb_gy\",\"rb_gz\",\n",
    "                 ]\n",
    "\n",
    "    return df"
   ]
  },
  {
   "cell_type": "code",
   "execution_count": 6,
   "id": "3271fb4f",
   "metadata": {
    "code_folding": []
   },
   "outputs": [],
   "source": [
    "#each  IMU for calibration\n",
    "def parse_to_sensors(df):\n",
    "    \n",
    "    bt = df[[\"bt_ax\",\"bt_ay\",\"bt_az\",\"bt_gx\",\"bt_gy\",\"bt_gz\"]]\n",
    "    bb = df[[\"bb_ax\",\"bb_ay\",\"bb_az\",\"bb_gx\",\"bb_gy\",\"bb_gz\"]]\n",
    "    \n",
    "    lt = df[[\"lt_ax\",\"lt_ay\",\"lt_az\",\"lt_gx\",\"lt_gy\",\"lt_gz\"]]\n",
    "    lb = df[[\"lb_ax\",\"lb_ay\",\"lb_az\",\"lb_gx\",\"lb_gy\",\"lb_gz\"]]\n",
    "    \n",
    "    rt = df[[\"rt_ax\",\"rt_ay\",\"rt_az\",\"rt_gx\",\"rt_gy\",\"rt_gz\"]]\n",
    "    rb = df[[\"rb_ax\",\"rb_ay\",\"rb_az\",\"rb_gx\",\"rb_gy\",\"rb_gz\"]]\n",
    "    \n",
    "#     rt = rt.rename(columns={\"lt_ax\": \"rt_ax\", })\n",
    "#     rt =   -rt[\"rt_ax\"]   \n",
    "    return bt,bb,lt,lb,rt,rb\n"
   ]
  },
  {
   "cell_type": "markdown",
   "id": "c866da0b",
   "metadata": {},
   "source": [
    "# Madgwick filter"
   ]
  },
  {
   "cell_type": "code",
   "execution_count": 7,
   "id": "634e2c75",
   "metadata": {},
   "outputs": [],
   "source": [
    "def find_orientation(calibrated_mpu):\n",
    "    \n",
    "    headers = find_headers(calibrated_mpu)\n",
    "        \n",
    "    quaternions = []\n",
    "#0.02\n",
    "    heading = mg.MadgwickAHRS(sampleperiod = 1/14,beta =1)\n",
    "    for i,row in calibrated_mpu.iterrows():\n",
    "        gyro_d  = []\n",
    "        accel_d = []\n",
    "        gyro_d.append(row[headers[3]])\n",
    "        gyro_d.append(row[headers[4]])\n",
    "        gyro_d.append(row[headers[5]])\n",
    "        accel_d.append(row[headers[0]])\n",
    "        accel_d.append(row[headers[1]])\n",
    "        accel_d.append(row[headers[2]])\n",
    "\n",
    "        heading.update_imu(gyro_d,accel_d)\n",
    "        quaternions.append(heading.quaternion._get_q())\n",
    "\n",
    "    # print(quaternions)\n",
    "    pitch = []\n",
    "    roll = []\n",
    "    yaw = []\n",
    "    for i in range(len(quaternions)):\n",
    "        pitch.append(np.arcsin(2 * quaternions[i][1] * quaternions[i][2] + 2 * quaternions[i][0] * quaternions[i][3]))\n",
    "        if np.abs(quaternions[i][1] * quaternions[i][2] + quaternions[i][3] * quaternions[i][0] - 0.5) < 1e-8:\n",
    "            roll.append(0) \n",
    "            yaw.append(2 * np.arctan2(quaternions[i][1], quaternions[i][0]))\n",
    "        elif np.abs(quaternions[i][1] * quaternions[i][2] + quaternions[i][3] * quaternions[i][0] + 0.5) < 1e-8:\n",
    "            roll.append(-2 * np.arctan2(quaternions[i][1], quaternions[i][0]))\n",
    "            yaw.append(0)\n",
    "        else:\n",
    "            roll.append(np.arctan2(2 * quaternions[i][0] * quaternions[i][1] - 2 * quaternions[i][2] *quaternions[i][3], 1 - 2 * quaternions[i][1] ** 2 - 2 *quaternions[i][3] ** 2))\n",
    "            yaw.append(np.arctan2(2 * quaternions[i][0] * quaternions[i][2] - 2 * quaternions[i][1] * quaternions[i][3], 1 - 2 * quaternions[i][2] ** 2 - 2 * quaternions[i][3] ** 2))\n",
    "\n",
    "\n",
    "    orientation_d = pd.DataFrame({'roll':np.rad2deg(roll),'pitch':np.rad2deg(pitch),'yaw':np.rad2deg(yaw)})\n",
    "    return orientation_d\n",
    "\n",
    "    "
   ]
  },
  {
   "cell_type": "markdown",
   "id": "18551ec2",
   "metadata": {},
   "source": [
    "# Функции калибровки и фильтрации"
   ]
  },
  {
   "cell_type": "code",
   "execution_count": 8,
   "id": "afd33970",
   "metadata": {},
   "outputs": [],
   "source": [
    "def all_calibrate(IMU_set,calibration_set):\n",
    "\n",
    "    bt_1,bb_1,lt_1,lb_1,rt_1,rb_1=parse_to_sensors(IMU_set)\n",
    "    bt_outl,bb_outl,lt_outl,lb_outl,rt_outl,rb_outl =  parse_to_sensors(calibration_set)\n",
    "\n",
    "\n",
    "\n",
    "\n",
    "    calibrated_rt = calibration(rt_1,rt_outl)\n",
    "    calibrated_rb = calibration(rb_1,rb_outl)\n",
    "    calibrated_lt = calibration(lt_1,lt_outl)\n",
    "    calibrated_lb = calibration(lb_1,lb_outl)\n",
    "    calibrated_bt = calibration(bt_1,bt_outl)\n",
    "    calibrated_bb = calibration(bb_1,bb_outl)\n",
    "\n",
    "    orientation_rt = find_orientation(calibrated_rt)\n",
    "    orientation_lt = find_orientation(calibrated_lt)\n",
    "    orientation_bb = find_orientation(calibrated_bb)\n",
    "    orientation_bt = find_orientation(calibrated_bt)\n",
    "    orientation_rb = find_orientation(calibrated_rb)\n",
    "    orientation_lb = find_orientation(calibrated_lb)\n",
    "\n",
    "    return   orientation_bt, -orientation_bb, orientation_lt, orientation_lb, -orientation_rt, orientation_rb\n",
    "    \n"
   ]
  },
  {
   "cell_type": "code",
   "execution_count": 9,
   "id": "ed3f473e",
   "metadata": {},
   "outputs": [],
   "source": [
    "def preprocessing_dataset(dataset):\n",
    "    df = dataset.drop(columns = \"Unnamed: 0\")\n",
    "    df.columns = [\"roll_bt\",\"pitch_bt\",\"yaw_bt\",\n",
    "                  \"roll_bb\",\"pitch_bb\",\"yaw_bb\",\n",
    "                  \"roll_lt\",\"pitch_lt\",\"yaw_lt\",\n",
    "                  \"roll_lb\",\"pitch_lb\",\"yaw_lb\",\n",
    "                  \"roll_rt\",\"pitch_rt\",\"yaw_rt\",\n",
    "                  \"roll_rb\",\"pitch_rb\",\"yaw_rb\"\n",
    "                 ]\n",
    "    return df\n"
   ]
  },
  {
   "cell_type": "code",
   "execution_count": 10,
   "id": "92d1b347",
   "metadata": {},
   "outputs": [],
   "source": [
    "def filter_angles(dataset_test):\n",
    "    \n",
    "    headers_orient  = find_headers_orient(dataset_test)\n",
    "    filtered_roll =  filter_scipy(dataset_test[headers_orient[0]])\n",
    "    filtered_pitch =  filter_scipy(dataset_test[headers_orient[1]]) \n",
    "    filtered_yaw =  filter_scipy(dataset_test[headers_orient[2]])\n",
    "    \n",
    "    filtered_roll_pd = pd.DataFrame(filtered_roll)\n",
    "    filtered_pitch_pd = pd.DataFrame(filtered_pitch)\n",
    "    filtered_yaw_pd = pd.DataFrame(filtered_yaw)\n",
    "    frame = pd.concat([filtered_roll_pd,filtered_pitch_pd,filtered_yaw_pd],axis = 1)\n",
    "#     if headers_orient[0] == 'roll_lt' or 'roll_rt':\n",
    "#         frame.columns = [\"roll\",  \"yaw\",\"pitch\"]\n",
    "#     else:\n",
    "    frame.columns = [\"roll\", \"pitch\", \"yaw\"]\n",
    "#     frame = frame[['yaw',\"roll\"]]\n",
    "    return frame\n"
   ]
  },
  {
   "cell_type": "code",
   "execution_count": 11,
   "id": "4729bb20",
   "metadata": {},
   "outputs": [],
   "source": [
    "def find_headers_orient(mpu):\n",
    "    headers = []\n",
    "    for i in mpu:\n",
    "        headers.append(i)\n",
    "    return headers\n",
    "\n",
    "\n",
    "def filter_scipy(dataset,my_angle=False):\n",
    "    xn = dataset\n",
    "    b, a = signal.butter(3, 0.05)\n",
    "    zi = signal.lfilter_zi(b, a)\n",
    "    z, _ = signal.lfilter(b, a, xn, zi=zi* xn[0])\n",
    "    z2, _ = signal.lfilter(b, a, z, zi=zi*z[0])\n",
    "    y = signal.filtfilt(b, a, xn)\n",
    "    if my_angle == True: \n",
    "    # вывод работы ФНЧ\n",
    "        plt.figure\n",
    "        plt.plot(dataset.index, xn, 'b', alpha=0.75)\n",
    "        plt.plot(dataset.index, z, 'r--', dataset.index, z2, 'r', dataset.index, y, 'k')\n",
    "        plt.legend(('noisy signal', 'lfilter, once', 'lfilter, twice',\n",
    "                'filtfilt'), loc='best')\n",
    "        plt.grid(True)\n",
    "        plt.show()\n",
    "    \n",
    "    return y\n",
    "\n",
    "def matplot_plot(frame,name_sensor_plot):\n",
    "    plt.title(f\"{name_sensor_plot}\")\n",
    "    plt.plot(frame.index,  frame['yaw'], 'g')\n",
    "    plt.legend(('yaw'), loc='lower right')\n",
    "    plt.legend(('roll', 'yaw'), loc='lower right')\n",
    "    plt.grid(True)\n",
    "\n",
    "    \n",
    "def matplot_plot_bb(frame,name_sensor_plot):\n",
    "    plt.title(f\"{name_sensor_plot}\")\n",
    "    plt.plot(frame.index, frame['roll'], 'b', alpha=0.75)\n",
    "    plt.legend(('roll'), loc='lower right')\n",
    "    plt.grid(True)    "
   ]
  },
  {
   "cell_type": "markdown",
   "id": "9d4d6723",
   "metadata": {},
   "source": [
    "# Сборка датасета"
   ]
  },
  {
   "cell_type": "code",
   "execution_count": 40,
   "id": "fb2ad443",
   "metadata": {},
   "outputs": [],
   "source": [
    "def create_dataset(test_plot,number):\n",
    "   \n",
    "    test_plot_1 = preprocessing_dataset(test_plot)\n",
    "    test_plot_1\n",
    "\n",
    "    features = ['roll_bt','roll_bb','yaw_lt','yaw_lb','yaw_rt','yaw_rb']\n",
    "    my_data = test_plot_1[features].loc[number:].reset_index(drop=True)\n",
    "   \n",
    "    return my_data\n",
    "\n",
    "#     dataset.to_csv(f\"D:\\Thesis\\RNN\\sample_{i}_0.csv\", sep=\",\")"
   ]
  },
  {
   "cell_type": "code",
   "execution_count": 37,
   "id": "2925ea1b",
   "metadata": {},
   "outputs": [],
   "source": [
    "def plot_filtered_angles(fnch_bt,fnch_bb,fnch_lt,fnch_lb,fnch_rt,fnch_rb):\n",
    "    matplot_plot_bb(fnch_bt,'Back top')\n",
    "    matplot_plot_bb(fnch_bb,'Back bot')\n",
    "    matplot_plot(fnch_lt,'Left top')\n",
    "    matplot_plot(fnch_lb,'Left bottom')\n",
    "    matplot_plot(fnch_rt,'Right top')\n",
    "    matplot_plot(fnch_rb,'Right bottom')"
   ]
  },
  {
   "cell_type": "code",
   "execution_count": 38,
   "id": "b7476c32",
   "metadata": {},
   "outputs": [
    {
     "name": "stdout",
     "output_type": "stream",
     "text": [
      "D:/Thesis/Tanya/20_Tanya2.csv\n"
     ]
    },
    {
     "data": {
      "image/png": "[encoded data removed]",
      "text/plain": [
       "<Figure size 432x288 with 1 Axes>"
      ]
     },
     "metadata": {
      "needs_background": "light"
     },
     "output_type": "display_data"
    }
   ],
   "source": [
    "name = 'Tanya'\n",
    "filename = f\"D:/Thesis/{name}/20_Tanya2.csv\"\n",
    "\n",
    "# filenames = next(walk(f'D:/Thesis/{name}/'), (None, None, []))[2]  # [] if no file\n",
    "# filenames[0]\n",
    "# for i in range(len(filenames)):\n",
    "\n",
    "print(filename)\n",
    "IMU_set = read_csv_file(filename)\n",
    "calibration_set = IMU_set.copy()\n",
    "orientation_bt, orientation_bb, orientation_lt, orientation_lb, orientation_rt, orientation_rb =all_calibrate (IMU_set,calibration_set)\n",
    "\n",
    "\n",
    "fnch_bt = filter_angles(orientation_bt)\n",
    "fnch_bb = filter_angles(orientation_bb)\n",
    "fnch_lt = filter_angles(orientation_lt)\n",
    "fnch_lb = filter_angles(orientation_lb)\n",
    "fnch_rt = filter_angles(orientation_rt)\n",
    "fnch_rb = filter_angles(orientation_rb)\n",
    "ready_dataset = pd.concat([orientation_bt, orientation_bb, orientation_lt, orientation_lb, orientation_rt, orientation_rb],axis = 1)    \n",
    "plot_filtered_angles(fnch_bt,fnch_bb,fnch_lt,fnch_lb,fnch_rt,fnch_rb)\n",
    "\n",
    "ready_dataset.to_csv(f\"D:\\Thesis\\dataset\\lifting_orientation_{i}_0.csv\", sep=\",\")\n",
    "# fnch = filter_angles(orientation_bt)\n",
    "# matplot_plot_bb(fnch,'Back top')\n"
   ]
  },
  {
   "cell_type": "code",
   "execution_count": 41,
   "id": "af3ef737",
   "metadata": {},
   "outputs": [
    {
     "ename": "KeyError",
     "evalue": "'roll'",
     "output_type": "error",
     "traceback": [
      "\u001b[1;31m---------------------------------------------------------------------------\u001b[0m",
      "\u001b[1;31mKeyError\u001b[0m                                  Traceback (most recent call last)",
      "\u001b[1;32m<ipython-input-41-e7add5263dac>\u001b[0m in \u001b[0;36m<module>\u001b[1;34m\u001b[0m\n\u001b[0;32m      3\u001b[0m     \u001b[0mdataset\u001b[0m \u001b[1;33m=\u001b[0m  \u001b[0mcreate_dataset\u001b[0m\u001b[1;33m(\u001b[0m\u001b[0mtest_plot\u001b[0m\u001b[1;33m,\u001b[0m\u001b[1;36m150\u001b[0m\u001b[1;33m)\u001b[0m\u001b[1;33m\u001b[0m\u001b[1;33m\u001b[0m\u001b[0m\n\u001b[0;32m      4\u001b[0m \u001b[1;33m\u001b[0m\u001b[0m\n\u001b[1;32m----> 5\u001b[1;33m \u001b[0mplot_filtered_angles\u001b[0m\u001b[1;33m(\u001b[0m\u001b[0mdataset\u001b[0m\u001b[1;33m[\u001b[0m\u001b[1;34m'roll_bt'\u001b[0m\u001b[1;33m]\u001b[0m\u001b[1;33m,\u001b[0m\u001b[0mdataset\u001b[0m\u001b[1;33m[\u001b[0m\u001b[1;34m'roll_bb'\u001b[0m\u001b[1;33m]\u001b[0m\u001b[1;33m,\u001b[0m\u001b[0mdataset\u001b[0m\u001b[1;33m[\u001b[0m\u001b[1;34m'yaw_lt'\u001b[0m\u001b[1;33m]\u001b[0m\u001b[1;33m,\u001b[0m\u001b[0mdataset\u001b[0m\u001b[1;33m[\u001b[0m\u001b[1;34m'yaw_lb'\u001b[0m\u001b[1;33m]\u001b[0m\u001b[1;33m,\u001b[0m\u001b[0mdataset\u001b[0m\u001b[1;33m[\u001b[0m\u001b[1;34m'yaw_rt'\u001b[0m\u001b[1;33m]\u001b[0m\u001b[1;33m,\u001b[0m\u001b[0mdataset\u001b[0m\u001b[1;33m[\u001b[0m\u001b[1;34m'yaw_rb'\u001b[0m\u001b[1;33m]\u001b[0m\u001b[1;33m)\u001b[0m\u001b[1;33m\u001b[0m\u001b[1;33m\u001b[0m\u001b[0m\n\u001b[0m",
      "\u001b[1;32m<ipython-input-37-385a77c0e6fb>\u001b[0m in \u001b[0;36mplot_filtered_angles\u001b[1;34m(fnch_bt, fnch_bb, fnch_lt, fnch_lb, fnch_rt, fnch_rb)\u001b[0m\n\u001b[0;32m      1\u001b[0m \u001b[1;32mdef\u001b[0m \u001b[0mplot_filtered_angles\u001b[0m\u001b[1;33m(\u001b[0m\u001b[0mfnch_bt\u001b[0m\u001b[1;33m,\u001b[0m\u001b[0mfnch_bb\u001b[0m\u001b[1;33m,\u001b[0m\u001b[0mfnch_lt\u001b[0m\u001b[1;33m,\u001b[0m\u001b[0mfnch_lb\u001b[0m\u001b[1;33m,\u001b[0m\u001b[0mfnch_rt\u001b[0m\u001b[1;33m,\u001b[0m\u001b[0mfnch_rb\u001b[0m\u001b[1;33m)\u001b[0m\u001b[1;33m:\u001b[0m\u001b[1;33m\u001b[0m\u001b[1;33m\u001b[0m\u001b[0m\n\u001b[1;32m----> 2\u001b[1;33m     \u001b[0mmatplot_plot_bb\u001b[0m\u001b[1;33m(\u001b[0m\u001b[0mfnch_bt\u001b[0m\u001b[1;33m,\u001b[0m\u001b[1;34m'Back top'\u001b[0m\u001b[1;33m)\u001b[0m\u001b[1;33m\u001b[0m\u001b[1;33m\u001b[0m\u001b[0m\n\u001b[0m\u001b[0;32m      3\u001b[0m     \u001b[0mmatplot_plot_bb\u001b[0m\u001b[1;33m(\u001b[0m\u001b[0mfnch_bb\u001b[0m\u001b[1;33m,\u001b[0m\u001b[1;34m'Back bot'\u001b[0m\u001b[1;33m)\u001b[0m\u001b[1;33m\u001b[0m\u001b[1;33m\u001b[0m\u001b[0m\n\u001b[0;32m      4\u001b[0m     \u001b[0mmatplot_plot\u001b[0m\u001b[1;33m(\u001b[0m\u001b[0mfnch_lt\u001b[0m\u001b[1;33m,\u001b[0m\u001b[1;34m'Left top'\u001b[0m\u001b[1;33m)\u001b[0m\u001b[1;33m\u001b[0m\u001b[1;33m\u001b[0m\u001b[0m\n\u001b[0;32m      5\u001b[0m     \u001b[0mmatplot_plot\u001b[0m\u001b[1;33m(\u001b[0m\u001b[0mfnch_lb\u001b[0m\u001b[1;33m,\u001b[0m\u001b[1;34m'Left bottom'\u001b[0m\u001b[1;33m)\u001b[0m\u001b[1;33m\u001b[0m\u001b[1;33m\u001b[0m\u001b[0m\n",
      "\u001b[1;32m<ipython-input-11-1fe37ce0b171>\u001b[0m in \u001b[0;36mmatplot_plot_bb\u001b[1;34m(frame, name_sensor_plot)\u001b[0m\n\u001b[0;32m     35\u001b[0m \u001b[1;32mdef\u001b[0m \u001b[0mmatplot_plot_bb\u001b[0m\u001b[1;33m(\u001b[0m\u001b[0mframe\u001b[0m\u001b[1;33m,\u001b[0m\u001b[0mname_sensor_plot\u001b[0m\u001b[1;33m)\u001b[0m\u001b[1;33m:\u001b[0m\u001b[1;33m\u001b[0m\u001b[1;33m\u001b[0m\u001b[0m\n\u001b[0;32m     36\u001b[0m     \u001b[0mplt\u001b[0m\u001b[1;33m.\u001b[0m\u001b[0mtitle\u001b[0m\u001b[1;33m(\u001b[0m\u001b[1;34mf\"{name_sensor_plot}\"\u001b[0m\u001b[1;33m)\u001b[0m\u001b[1;33m\u001b[0m\u001b[1;33m\u001b[0m\u001b[0m\n\u001b[1;32m---> 37\u001b[1;33m     \u001b[0mplt\u001b[0m\u001b[1;33m.\u001b[0m\u001b[0mplot\u001b[0m\u001b[1;33m(\u001b[0m\u001b[0mframe\u001b[0m\u001b[1;33m.\u001b[0m\u001b[0mindex\u001b[0m\u001b[1;33m,\u001b[0m \u001b[0mframe\u001b[0m\u001b[1;33m[\u001b[0m\u001b[1;34m'roll'\u001b[0m\u001b[1;33m]\u001b[0m\u001b[1;33m,\u001b[0m \u001b[1;34m'b'\u001b[0m\u001b[1;33m,\u001b[0m \u001b[0malpha\u001b[0m\u001b[1;33m=\u001b[0m\u001b[1;36m0.75\u001b[0m\u001b[1;33m)\u001b[0m\u001b[1;33m\u001b[0m\u001b[1;33m\u001b[0m\u001b[0m\n\u001b[0m\u001b[0;32m     38\u001b[0m     \u001b[0mplt\u001b[0m\u001b[1;33m.\u001b[0m\u001b[0mlegend\u001b[0m\u001b[1;33m(\u001b[0m\u001b[1;33m(\u001b[0m\u001b[1;34m'roll'\u001b[0m\u001b[1;33m)\u001b[0m\u001b[1;33m,\u001b[0m \u001b[0mloc\u001b[0m\u001b[1;33m=\u001b[0m\u001b[1;34m'lower right'\u001b[0m\u001b[1;33m)\u001b[0m\u001b[1;33m\u001b[0m\u001b[1;33m\u001b[0m\u001b[0m\n\u001b[0;32m     39\u001b[0m     \u001b[0mplt\u001b[0m\u001b[1;33m.\u001b[0m\u001b[0mgrid\u001b[0m\u001b[1;33m(\u001b[0m\u001b[1;32mTrue\u001b[0m\u001b[1;33m)\u001b[0m\u001b[1;33m\u001b[0m\u001b[1;33m\u001b[0m\u001b[0m\n",
      "\u001b[1;32m~\\anaconda3\\lib\\site-packages\\pandas\\core\\series.py\u001b[0m in \u001b[0;36m__getitem__\u001b[1;34m(self, key)\u001b[0m\n\u001b[0;32m    940\u001b[0m \u001b[1;33m\u001b[0m\u001b[0m\n\u001b[0;32m    941\u001b[0m         \u001b[1;32melif\u001b[0m \u001b[0mkey_is_scalar\u001b[0m\u001b[1;33m:\u001b[0m\u001b[1;33m\u001b[0m\u001b[1;33m\u001b[0m\u001b[0m\n\u001b[1;32m--> 942\u001b[1;33m             \u001b[1;32mreturn\u001b[0m \u001b[0mself\u001b[0m\u001b[1;33m.\u001b[0m\u001b[0m_get_value\u001b[0m\u001b[1;33m(\u001b[0m\u001b[0mkey\u001b[0m\u001b[1;33m)\u001b[0m\u001b[1;33m\u001b[0m\u001b[1;33m\u001b[0m\u001b[0m\n\u001b[0m\u001b[0;32m    943\u001b[0m \u001b[1;33m\u001b[0m\u001b[0m\n\u001b[0;32m    944\u001b[0m         \u001b[1;32mif\u001b[0m \u001b[0mis_hashable\u001b[0m\u001b[1;33m(\u001b[0m\u001b[0mkey\u001b[0m\u001b[1;33m)\u001b[0m\u001b[1;33m:\u001b[0m\u001b[1;33m\u001b[0m\u001b[1;33m\u001b[0m\u001b[0m\n",
      "\u001b[1;32m~\\anaconda3\\lib\\site-packages\\pandas\\core\\series.py\u001b[0m in \u001b[0;36m_get_value\u001b[1;34m(self, label, takeable)\u001b[0m\n\u001b[0;32m   1049\u001b[0m \u001b[1;33m\u001b[0m\u001b[0m\n\u001b[0;32m   1050\u001b[0m         \u001b[1;31m# Similar to Index.get_value, but we do not fall back to positional\u001b[0m\u001b[1;33m\u001b[0m\u001b[1;33m\u001b[0m\u001b[1;33m\u001b[0m\u001b[0m\n\u001b[1;32m-> 1051\u001b[1;33m         \u001b[0mloc\u001b[0m \u001b[1;33m=\u001b[0m \u001b[0mself\u001b[0m\u001b[1;33m.\u001b[0m\u001b[0mindex\u001b[0m\u001b[1;33m.\u001b[0m\u001b[0mget_loc\u001b[0m\u001b[1;33m(\u001b[0m\u001b[0mlabel\u001b[0m\u001b[1;33m)\u001b[0m\u001b[1;33m\u001b[0m\u001b[1;33m\u001b[0m\u001b[0m\n\u001b[0m\u001b[0;32m   1052\u001b[0m         \u001b[1;32mreturn\u001b[0m \u001b[0mself\u001b[0m\u001b[1;33m.\u001b[0m\u001b[0mindex\u001b[0m\u001b[1;33m.\u001b[0m\u001b[0m_get_values_for_loc\u001b[0m\u001b[1;33m(\u001b[0m\u001b[0mself\u001b[0m\u001b[1;33m,\u001b[0m \u001b[0mloc\u001b[0m\u001b[1;33m,\u001b[0m \u001b[0mlabel\u001b[0m\u001b[1;33m)\u001b[0m\u001b[1;33m\u001b[0m\u001b[1;33m\u001b[0m\u001b[0m\n\u001b[0;32m   1053\u001b[0m \u001b[1;33m\u001b[0m\u001b[0m\n",
      "\u001b[1;32m~\\anaconda3\\lib\\site-packages\\pandas\\core\\indexes\\range.py\u001b[0m in \u001b[0;36mget_loc\u001b[1;34m(self, key, method, tolerance)\u001b[0m\n\u001b[0;32m    386\u001b[0m                 \u001b[1;32mexcept\u001b[0m \u001b[0mValueError\u001b[0m \u001b[1;32mas\u001b[0m \u001b[0merr\u001b[0m\u001b[1;33m:\u001b[0m\u001b[1;33m\u001b[0m\u001b[1;33m\u001b[0m\u001b[0m\n\u001b[0;32m    387\u001b[0m                     \u001b[1;32mraise\u001b[0m \u001b[0mKeyError\u001b[0m\u001b[1;33m(\u001b[0m\u001b[0mkey\u001b[0m\u001b[1;33m)\u001b[0m \u001b[1;32mfrom\u001b[0m \u001b[0merr\u001b[0m\u001b[1;33m\u001b[0m\u001b[1;33m\u001b[0m\u001b[0m\n\u001b[1;32m--> 388\u001b[1;33m             \u001b[1;32mraise\u001b[0m \u001b[0mKeyError\u001b[0m\u001b[1;33m(\u001b[0m\u001b[0mkey\u001b[0m\u001b[1;33m)\u001b[0m\u001b[1;33m\u001b[0m\u001b[1;33m\u001b[0m\u001b[0m\n\u001b[0m\u001b[0;32m    389\u001b[0m         \u001b[1;32mreturn\u001b[0m \u001b[0msuper\u001b[0m\u001b[1;33m(\u001b[0m\u001b[1;33m)\u001b[0m\u001b[1;33m.\u001b[0m\u001b[0mget_loc\u001b[0m\u001b[1;33m(\u001b[0m\u001b[0mkey\u001b[0m\u001b[1;33m,\u001b[0m \u001b[0mmethod\u001b[0m\u001b[1;33m=\u001b[0m\u001b[0mmethod\u001b[0m\u001b[1;33m,\u001b[0m \u001b[0mtolerance\u001b[0m\u001b[1;33m=\u001b[0m\u001b[0mtolerance\u001b[0m\u001b[1;33m)\u001b[0m\u001b[1;33m\u001b[0m\u001b[1;33m\u001b[0m\u001b[0m\n\u001b[0;32m    390\u001b[0m \u001b[1;33m\u001b[0m\u001b[0m\n",
      "\u001b[1;31mKeyError\u001b[0m: 'roll'"
     ]
    },
    {
     "data": {
      "image/png": "[encoded data removed]",
      "text/plain": [
       "<Figure size 432x288 with 1 Axes>"
      ]
     },
     "metadata": {
      "needs_background": "light"
     },
     "output_type": "display_data"
    }
   ],
   "source": [
    "for i in range(len(next(walk(f'D:/Thesis/dataset/'), (None, None, []))[2] )):\n",
    "    test_plot = pd.read_csv(f'D:/Thesis/dataset/lifting_orientation_{i}_0.csv')\n",
    "    dataset =  create_dataset(test_plot,150)\n",
    "    \n",
    "plot_filtered_angles(dataset['roll_bt'],dataset['roll_bb'],dataset['yaw_lt'],dataset['yaw_lb'],dataset['yaw_rt'],dataset['yaw_rb'])    \n"
   ]
  },
  {
   "cell_type": "code",
   "execution_count": null,
   "id": "2bd4d530",
   "metadata": {},
   "outputs": [],
   "source": [
    "plt.figure(figsize=(8, 4))\n",
    "plt.title(f\"yaw left_top\")\n",
    "filtered_my_data=filter_scipy(orientation_rt['yaw'],True)\n"
   ]
  },
  {
   "cell_type": "code",
   "execution_count": null,
   "id": "05a9995a",
   "metadata": {},
   "outputs": [],
   "source": [
    "\n"
   ]
  },
  {
   "cell_type": "code",
   "execution_count": null,
   "id": "28b0e8ce",
   "metadata": {},
   "outputs": [],
   "source": [
    "\n"
   ]
  },
  {
   "cell_type": "code",
   "execution_count": null,
   "id": "6f9efe1b",
   "metadata": {},
   "outputs": [],
   "source": [
    "\n"
   ]
  },
  {
   "cell_type": "code",
   "execution_count": null,
   "id": "fa017db0",
   "metadata": {},
   "outputs": [],
   "source": [
    "\n"
   ]
  },
  {
   "cell_type": "code",
   "execution_count": null,
   "id": "52e813bb",
   "metadata": {
    "scrolled": true
   },
   "outputs": [],
   "source": [
    "\n"
   ]
  },
  {
   "cell_type": "code",
   "execution_count": null,
   "id": "758224b0",
   "metadata": {},
   "outputs": [],
   "source": []
  },
  {
   "cell_type": "code",
   "execution_count": null,
   "id": "1db74e5a",
   "metadata": {},
   "outputs": [],
   "source": []
  },
  {
   "cell_type": "code",
   "execution_count": null,
   "id": "1044359d",
   "metadata": {},
   "outputs": [],
   "source": [
    "# name = 'test'\n",
    "# сalibration_set= read_csv_file(f'calibration/30_calibration.csv')\n",
    "\n",
    "# сalibration_file = read_csv_file(f\"D:/Thesis/test/20_all_legs1.csv\")\n",
    "# filenames = next(walk(f'D:/Thesis/{name}/'), (None, None, []))[2]  # [] if no file\n",
    "# filenames[0]\n",
    "# for i in range(len(filenames)):\n",
    "#     filename = f\"D:/Thesis/{name}/{filenames[i]}\"\n",
    "#     print(filename)\n",
    "#     IMU_set = read_csv_file(filename)\n",
    "#     orientation_bt, orientation_bb, orientation_lt, orientation_lb, orientation_rt, orientation_rb = all_calibrate(IMU_set)\n",
    "#     ready_dataset = pd.concat([orientation_bt, orientation_bb, orientation_lt, orientation_lb, orientation_rt, orientation_rb],axis = 1)    \n",
    "#     #     print(ready_dataset)\n",
    "#     ready_dataset.to_csv(f\"D:\\Thesis\\dataset\\lifting_orientation_{i}_0.csv\", sep=\",\")\n"
   ]
  },
  {
   "cell_type": "code",
   "execution_count": null,
   "id": "7c4b3640",
   "metadata": {},
   "outputs": [],
   "source": [
    "\n",
    "# plt.figure\n",
    "# plt.plot(orientation_lb_test.index, orientation_lb_test[\"roll_lb\"], 'b', alpha=0.75)\n",
    "# plt.plot(orientation_lb_test.index, frame['pitch'], 'r', orientation_lb_test.index,  orientation_lb_test[\"yaw_lb\"], 'g')\n",
    "# plt.legend(('roll', 'pitch', 'yaw'), loc='best')\n",
    "# plt.grid(True)\n",
    "# plt.show()\n"
   ]
  },
  {
   "cell_type": "code",
   "execution_count": null,
   "id": "7af79d6f",
   "metadata": {},
   "outputs": [],
   "source": [
    "# orientation_lb_test.loc[:]"
   ]
  },
  {
   "cell_type": "markdown",
   "id": "c140361d",
   "metadata": {
    "heading_collapsed": true
   },
   "source": [
    "# Filter dataset"
   ]
  },
  {
   "cell_type": "code",
   "execution_count": null,
   "id": "5eb3b422",
   "metadata": {
    "hidden": true
   },
   "outputs": [],
   "source": []
  },
  {
   "cell_type": "code",
   "execution_count": null,
   "id": "0937ae22",
   "metadata": {
    "hidden": true
   },
   "outputs": [],
   "source": []
  },
  {
   "cell_type": "code",
   "execution_count": null,
   "id": "c57589a5",
   "metadata": {
    "hidden": true
   },
   "outputs": [],
   "source": [
    "# xn = orientation_lb_test['yaw_lb']\n",
    "# b, a = signal.butter(3, 0.05)\n",
    "# zi = signal.lfilter_zi(b, a)\n",
    "# z, _ = signal.lfilter(b, a, orientation_lb_test['yaw_lb'], zi=zi* orientation_lb_test['yaw_lb'][0])"
   ]
  },
  {
   "cell_type": "code",
   "execution_count": null,
   "id": "1a2dc853",
   "metadata": {
    "hidden": true
   },
   "outputs": [],
   "source": [
    "# z2, _ = signal.lfilter(b, a, z, zi=zi*z[0])\n",
    "# y = signal.filtfilt(b, a, xn)\n"
   ]
  },
  {
   "cell_type": "code",
   "execution_count": null,
   "id": "e0caa5ac",
   "metadata": {
    "hidden": true
   },
   "outputs": [],
   "source": []
  },
  {
   "cell_type": "code",
   "execution_count": null,
   "id": "d7b42ba6",
   "metadata": {
    "hidden": true
   },
   "outputs": [],
   "source": [
    "\n",
    "# filtered_roll_pd = pd.DataFrame(filtered_roll)\n",
    "# filtered_pitch_pd = pd.DataFrame(filtered_pitch)\n",
    "# filtered_yaw_pd = pd.DataFrame(filtered_yaw)\n",
    "# frame = pd.concat([filtered_roll_pd,filtered_pitch_pd,filtered_yaw_pd],axis = 1)\n",
    "# frame.columns = [\"roll\", \"pitch\", \"yaw\"]\n",
    "# frame"
   ]
  },
  {
   "cell_type": "code",
   "execution_count": null,
   "id": "2677a13a",
   "metadata": {
    "hidden": true
   },
   "outputs": [],
   "source": []
  },
  {
   "cell_type": "code",
   "execution_count": null,
   "id": "62bc02ac",
   "metadata": {
    "hidden": true
   },
   "outputs": [],
   "source": [
    "\n",
    "\n"
   ]
  },
  {
   "cell_type": "code",
   "execution_count": null,
   "id": "ccd3743e",
   "metadata": {
    "hidden": true
   },
   "outputs": [],
   "source": [
    "# i = input()\n",
    "# test_plot = pd.read_csv(f'D:/Thesis/dataset/lifting_orientation_0_0.csv')\n",
    "\n",
    "\n",
    "# test_plot_1 = preprocessing_dataset(test_plot)\n",
    "\n",
    "\n",
    "# bt_h = [\"roll_bt\",\"pitch_bt\",\"yaw_bt\"]\n",
    "# bb_h = [\"roll_bb\",\"pitch_bb\",\"yaw_bb\"]\n",
    "# lt_h = [ \"roll_lt\",\"pitch_lt\",\"yaw_lt\"]\n",
    "# lb_h = [\"roll_lb\",\"pitch_lb\",\"yaw_lb\"]\n",
    "# rt_h =[\"roll_rt\",\"pitch_rt\",\"yaw_rt\"]\n",
    "# rb_h = [ \"roll_rb\",\"pitch_rb\",\"yaw_rb\"]\n",
    "                 \n",
    "# name_sensor_plot = 'lb_h'\n",
    "\n",
    "# orientation_bt_test= test_plot_1[bt_h]\n",
    "# orientation_bb_test= test_plot_1[bb_h]\n",
    "# orientation_lt_test= test_plot_1[lt_h]\n",
    "# orientation_lb_test= test_plot_1[lb_h]\n",
    "# orientation_rt_test= test_plot_1[rt_h]\n",
    "# orientation_rb_test= test_plot_1[rb_h]\n",
    "\n",
    "\n",
    "# frame_bt = filter_angles(orientation_bt_test)\n",
    "# frame_bb = filter_angles(orientation_bb_test)\n",
    "# frame_lt = filter_angles(orientation_lt_test)\n",
    "# frame_lb = filter_angles(orientation_lb_test)\n",
    "# frame_rt = filter_angles(orientation_rt_test)\n",
    "# frame_rb = filter_angles(orientation_rb_test)\n",
    "\n",
    "\n",
    "# # frame = frame.loc[15:]\n",
    "# plt.figure(figsize=(14, 7))\n",
    "# plt.subplots_adjust(hspace=1)\n",
    "\n",
    "\n",
    "\n",
    "# plt.subplot(3, 2, 1)\n",
    "# matplot_plot(frame_bt,'back top sensor')\n",
    "\n",
    "# plt.subplot(3, 2, 2)\n",
    "# matplot_plot(frame_bb,'back bottom sensor')\n",
    "\n",
    "\n",
    "# plt.subplot(3, 2,3)\n",
    "# matplot_plot(frame_lt,'left  top sensor')\n",
    "\n",
    "# plt.subplot(3, 2,4)\n",
    "# matplot_plot(frame_lb,'left  bottom sensor')\n",
    "\n",
    "\n",
    "# plt.subplot(3, 2, 5)\n",
    "# matplot_plot(frame_rt,'right  top sensor')\n",
    "\n",
    "\n",
    "# plt.subplot(3, 2, 6)\n",
    "# matplot_plot(frame_rb,'right bottom sensor')\n",
    "# plt.show()\n"
   ]
  },
  {
   "cell_type": "code",
   "execution_count": null,
   "id": "f2fb9bce",
   "metadata": {
    "hidden": true,
    "scrolled": true
   },
   "outputs": [],
   "source": [
    "test_plot = pd.read_csv(f'D:/Thesis/dataset/lifting_orientation_0_0.csv')\n",
    "test_plot_1 = preprocessing_dataset(test_plot)\n",
    "test_plot_1\n",
    "\n",
    "features = ['roll_bt','roll_bb','yaw_lt','yaw_lb','yaw_rt','yaw_rb']\n",
    "my_data = test_plot_1[features].loc[10:].reset_index(drop=True)\n",
    "my_data\n",
    "\n"
   ]
  },
  {
   "cell_type": "code",
   "execution_count": null,
   "id": "b92e6965",
   "metadata": {
    "code_folding": [],
    "hidden": true
   },
   "outputs": [],
   "source": []
  },
  {
   "cell_type": "code",
   "execution_count": null,
   "id": "11b8840f",
   "metadata": {
    "hidden": true
   },
   "outputs": [],
   "source": [
    "test_plot = pd.read_csv(f'D:/Thesis/RNN/sample_0_0.csv')\n",
    "test_plot"
   ]
  },
  {
   "cell_type": "markdown",
   "id": "50a84d77",
   "metadata": {
    "code_folding": [],
    "heading_collapsed": true
   },
   "source": [
    "# Orientation only with gyro "
   ]
  },
  {
   "cell_type": "code",
   "execution_count": null,
   "id": "46f81332",
   "metadata": {
    "hidden": true
   },
   "outputs": [],
   "source": [
    "plt.figure(figsize=(8, 4))\n",
    "plt.title(f\"yaw left_top\")\n",
    "filtered_my_data=filter_scipy(my_data['yaw_lt'],True)\n",
    "\n",
    "\n",
    "plt.figure(figsize=(8, 4))\n",
    "plt.title(f\"yaw right_top\")\n",
    "filtered_my_data=filter_scipy(my_data['yaw_rt'],True) \n",
    "\n",
    "plt.figure(figsize=(8, 4))\n",
    "plt.title(f\"yaw left_bottom\")\n",
    "filtered_my_data=filter_scipy(my_data['yaw_lb'],True) "
   ]
  },
  {
   "cell_type": "code",
   "execution_count": null,
   "id": "51c961e1",
   "metadata": {
    "hidden": true
   },
   "outputs": [],
   "source": [
    "plt.figure(figsize=(8, 4))\n",
    "plt.title(f\"roll back_top\")\n",
    "filtered_my_data=filter_scipy(my_data['roll_bt']*-1,True) \n",
    "plt.figure(figsize=(8,4))\n",
    "plt.title(f\"roll back_bottom\")\n",
    "filtered_my_data=filter_scipy(my_data['roll_bb'],True) \n"
   ]
  },
  {
   "cell_type": "code",
   "execution_count": null,
   "id": "573ca2ef",
   "metadata": {
    "hidden": true
   },
   "outputs": [],
   "source": [
    "plt.figure(figsize=(8, 4))\n",
    "plt.title(f\"yaw right_top\")\n",
    "filtered_my_data=filter_scipy(my_data['yaw_rt'],True) \n",
    "plt.figure(figsize=(8, 4))\n",
    "plt.title(f\"yaw right_bottom\")\n",
    "filtered_my_data=filter_scipy(my_data['yaw_rb'],True) "
   ]
  },
  {
   "cell_type": "code",
   "execution_count": null,
   "id": "b23e121b",
   "metadata": {
    "hidden": true
   },
   "outputs": [],
   "source": [
    "\n",
    "\n",
    "# pitch = np.zeros(len(calibrated_lb))\n",
    "# yaw = np.zeros(len(calibrated_lb))\n",
    "# roll = np.zeros(len(calibrated_lb))\n",
    "\n",
    "# for i in range(len(calibrated_lb)-1):\n",
    "#     delta_t = 0.06\n",
    "    \n",
    "#     pitch[i+1] = pitch[i] + calibrated_lb['lb_gy'][i]*delta_t\n",
    "#     yaw[i+1] = yaw[i]+calibrated_lb['lb_gz'][i]*delta_t\n",
    "#     roll[i+1] = roll[i]+calibrated_lb['lb_gx'][i]*delta_t\n",
    "    \n",
    "\n",
    "# orientation_d = pd.DataFrame({'roll':np.rad2deg(roll),'pitch':np.rad2deg(pitch),'yaw':np.rad2deg(yaw)})\n",
    "\n",
    "# show_plot(orientation_d,'Orientation only with  gyro')"
   ]
  },
  {
   "cell_type": "code",
   "execution_count": null,
   "id": "6cd41de5",
   "metadata": {
    "hidden": true
   },
   "outputs": [],
   "source": [
    "#(-0.02213089742574257, 0.01005698124752475, -0.013309934386138617)"
   ]
  },
  {
   "cell_type": "code",
   "execution_count": null,
   "id": "85c72040",
   "metadata": {
    "hidden": true
   },
   "outputs": [],
   "source": []
  },
  {
   "cell_type": "code",
   "execution_count": null,
   "id": "88c383f8",
   "metadata": {
    "hidden": true
   },
   "outputs": [],
   "source": []
  },
  {
   "cell_type": "code",
   "execution_count": null,
   "id": "e852fa98",
   "metadata": {
    "hidden": true
   },
   "outputs": [],
   "source": []
  },
  {
   "cell_type": "code",
   "execution_count": null,
   "id": "5a8c64b8",
   "metadata": {
    "hidden": true
   },
   "outputs": [],
   "source": []
  },
  {
   "cell_type": "code",
   "execution_count": null,
   "id": "d65a697d",
   "metadata": {
    "hidden": true
   },
   "outputs": [],
   "source": []
  }
 ],
 "metadata": {
  "kernelspec": {
   "display_name": "Python 3",
   "language": "python",
   "name": "python3"
  },
  "language_info": {
   "codemirror_mode": {
    "name": "ipython",
    "version": 3
   },
   "file_extension": ".py",
   "mimetype": "text/x-python",
   "name": "python",
   "nbconvert_exporter": "python",
   "pygments_lexer": "ipython3",
   "version": "3.8.8"
  },
  "toc": {
   "base_numbering": 1,
   "nav_menu": {
    "height": "275px",
    "width": "225px"
   },
   "number_sections": true,
   "sideBar": true,
   "skip_h1_title": false,
   "title_cell": "Table of Contents",
   "title_sidebar": "Contents",
   "toc_cell": false,
   "toc_position": {
    "height": "calc(100% - 180px)",
    "left": "10px",
    "top": "150px",
    "width": "426.667px"
   },
   "toc_section_display": true,
   "toc_window_display": true
  }
 },
 "nbformat": 4,
 "nbformat_minor": 5
}
