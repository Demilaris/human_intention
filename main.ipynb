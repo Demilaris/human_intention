{
 "cells": [
  {
   "cell_type": "markdown",
   "id": "65a8ae2b",
   "metadata": {
    "cellId": "qfnk27pq5qk67jwcsytqs"
   },
   "source": [
    "# Trajectory prediction (Lera) \n",
    "\n",
    "\n",
   ]
  },
  {
   "cell_type": "markdown",
   "id": "27dd48b2",
   "metadata": {
    "cellId": "ttzqpgyuiz845nu26ad8m"
   },
   "source": [
    "## 1. Import "
   ]
  },
  {
   "cell_type": "code",
   "execution_count": 207,
   "id": "6fec0d73",
   "metadata": {
    "cellId": "rqt0fbngbmfr330u6kvkg"
   },
   "outputs": [],
   "source": [
    "#!g1.1\n",
    "import pandas as pd\n",
    "import numpy as np \n",
    "from sklearn.preprocessing import MinMaxScaler\n",
    "import matplotlib.pyplot as plt\n",
    "import os\n",
    "\n",
    "import tensorflow as tf\n",
    "from keras.models import load_model"
   ]
  },
  {
   "cell_type": "markdown",
   "id": "b73fdede",
   "metadata": {
    "cellId": "oxpbmwpfuzkkqy22atkhvn"
   },
   "source": [
    "## 2. Read Data"
   ]
  },
  {
   "cell_type": "code",
   "execution_count": 208,
   "id": "83f471e5",
   "metadata": {
    "cellId": "4lr8net3wmnn346m3jst1j"
   },
   "outputs": [
    {
     "data": {
      "text/html": [
       "<div>\n",
       "<style scoped>\n",
       "    .dataframe tbody tr th:only-of-type {\n",
       "        vertical-align: middle;\n",
       "    }\n",
       "\n",
       "    .dataframe tbody tr th {\n",
       "        vertical-align: top;\n",
       "    }\n",
       "\n",
       "    .dataframe thead th {\n",
       "        text-align: right;\n",
       "    }\n",
       "</style>\n",
       "<table border=\"1\" class=\"dataframe\">\n",
       "  <thead>\n",
       "    <tr style=\"text-align: right;\">\n",
       "      <th></th>\n",
       "      <th>roll_bt</th>\n",
       "      <th>roll_bb</th>\n",
       "      <th>yaw_lt</th>\n",
       "      <th>yaw_lb</th>\n",
       "      <th>yaw_rt</th>\n",
       "      <th>yaw_rb</th>\n",
       "    </tr>\n",
       "  </thead>\n",
       "  <tbody>\n",
       "    <tr>\n",
       "      <th>0</th>\n",
       "      <td>-95.851903</td>\n",
       "      <td>-96.780939</td>\n",
       "      <td>3.986249</td>\n",
       "      <td>-1.302394</td>\n",
       "      <td>1.297816</td>\n",
       "      <td>-2.776453</td>\n",
       "    </tr>\n",
       "    <tr>\n",
       "      <th>1</th>\n",
       "      <td>-96.679724</td>\n",
       "      <td>-97.550099</td>\n",
       "      <td>2.833914</td>\n",
       "      <td>-2.907535</td>\n",
       "      <td>0.971096</td>\n",
       "      <td>-1.680133</td>\n",
       "    </tr>\n",
       "    <tr>\n",
       "      <th>2</th>\n",
       "      <td>-96.693771</td>\n",
       "      <td>-96.632356</td>\n",
       "      <td>3.737014</td>\n",
       "      <td>-2.348383</td>\n",
       "      <td>1.312592</td>\n",
       "      <td>-2.695344</td>\n",
       "    </tr>\n",
       "    <tr>\n",
       "      <th>3</th>\n",
       "      <td>-95.757090</td>\n",
       "      <td>-95.615713</td>\n",
       "      <td>3.282922</td>\n",
       "      <td>-2.602976</td>\n",
       "      <td>0.981812</td>\n",
       "      <td>-2.809867</td>\n",
       "    </tr>\n",
       "    <tr>\n",
       "      <th>4</th>\n",
       "      <td>-96.425966</td>\n",
       "      <td>-96.774876</td>\n",
       "      <td>3.482173</td>\n",
       "      <td>-3.955472</td>\n",
       "      <td>1.500795</td>\n",
       "      <td>-2.464036</td>\n",
       "    </tr>\n",
       "  </tbody>\n",
       "</table>\n",
       "</div>"
      ],
      "text/plain": [
       "     roll_bt    roll_bb    yaw_lt    yaw_lb    yaw_rt    yaw_rb\n",
       "0 -95.851903 -96.780939  3.986249 -1.302394  1.297816 -2.776453\n",
       "1 -96.679724 -97.550099  2.833914 -2.907535  0.971096 -1.680133\n",
       "2 -96.693771 -96.632356  3.737014 -2.348383  1.312592 -2.695344\n",
       "3 -95.757090 -95.615713  3.282922 -2.602976  0.981812 -2.809867\n",
       "4 -96.425966 -96.774876  3.482173 -3.955472  1.500795 -2.464036"
      ]
     },
     "execution_count": 208,
     "metadata": {},
     "output_type": "execute_result"
    }
   ],
   "source": [
    "#!g1.1\n",
    "sampleDf = pd.read_csv('Data/sample_0_1.csv', usecols=['roll_bt','roll_bb','yaw_lt','yaw_lb','yaw_rt','yaw_rb'])\n",
    "sampleDf.head()"
   ]
  },
  {
   "cell_type": "markdown",
   "id": "1607aa17",
   "metadata": {
    "cellId": "1ckauk92kib2uwcfeg0s5s"
   },
   "source": [
    "## 3. Prepare Data for Model"
   ]
  },
  {
   "cell_type": "code",
   "execution_count": 209,
   "id": "acb61e6a",
   "metadata": {
    "cellId": "j9xlcl5kxwq4vfph87i2l"
   },
   "outputs": [],
   "source": [
    "#!g1.1\n",
    "def generate_data(X, y, sequence_length = 15, step = 1, scaler=None):\n",
    "    \"\"\"For each file\"\"\"\n",
    "    X_local = []\n",
    "    y_local = []\n",
    "    for start in range(0, len(X) - sequence_length, step):\n",
    "        end = start + sequence_length\n",
    "        if scaler != None:\n",
    "            X_local.append(scaler.transform(X[start:end]))\n",
    "        else:\n",
    "            X_local.append(X[start:end])\n",
    "        y_local.append(y[end-1])\n",
    "    return np.array(X_local), np.array(y_local)"
   ]
  },
  {
   "cell_type": "code",
   "execution_count": 210,
   "id": "cb5ed579",
   "metadata": {
    "cellId": "ehgc0libs7kittzj0bdy4"
   },
   "outputs": [],
   "source": [
    "#!g1.1\n",
    "scaler = 1\n",
    "def get_train_data(wind_size = 15, target_feature='roll_bb', data_folder='./Data'):\n",
    "    \"\"\"For all the files\"\"\"\n",
    "    global scaler\n",
    "    Res_X = []\n",
    "    Res_y = []\n",
    "    for file in os.listdir(data_folder):\n",
    "        temp_df = pd.read_csv(f'{data_folder}/{file}', usecols=['roll_bt','roll_bb','yaw_lt','yaw_lb','yaw_rt','yaw_rb'])\n",
    "        Res_X += temp_df.values.tolist()\n",
    "    \n",
    "    if data_folder == './Data' :\n",
    "        scaler = MinMaxScaler((-1,1)).fit(Res_X)\n",
    "        \n",
    "    R = []\n",
    "    Y = []\n",
    "    for file in os.listdir(data_folder):\n",
    "        temp_df = pd.read_csv(f'{data_folder}/{file}', usecols=['roll_bt','roll_bb','yaw_lt','yaw_lb','yaw_rt','yaw_rb'])\n",
    "        x, y = generate_data(temp_df.values, temp_df.values, scaler=scaler)\n",
    "        R.append(x)\n",
    "        Y.append(y)\n",
    "    return np.vstack(tuple(R)), np.vstack(Y)"
   ]
  },
  {
   "cell_type": "code",
   "execution_count": 211,
   "id": "46e2d529",
   "metadata": {
    "cellId": "x2u6xj7ofcsikxmovjtej"
   },
   "outputs": [
    {
     "data": {
      "text/plain": [
       "((32991, 15, 6), (32991, 6))"
      ]
     },
     "execution_count": 211,
     "metadata": {},
     "output_type": "execute_result"
    }
   ],
   "source": [
    "#!g1.1\n",
    "X, Y = get_train_data()\n",
    "X.shape, Y.shape"
   ]
  },
  {
   "cell_type": "markdown",
   "id": "b996ae8c",
   "metadata": {
    "cellId": "3iygghckj0f1fkov2xivjh"
   },
   "source": [
    "## 4. Define & Train LSTM model"
   ]
  },
  {
   "cell_type": "code",
   "execution_count": 212,
   "id": "58eaf6f9",
   "metadata": {
    "cellId": "rdjp0dh9efbsqr5o6alb"
   },
   "outputs": [],
   "source": [
    "#!g1.1\n",
    "from tensorflow.keras import backend as K\n",
    "\n",
    "def coeff_determination(y_true, y_pred):\n",
    "    SS_res =  K.sum(K.square(y_true - y_pred ))\n",
    "    SS_tot = K.sum(K.square(tf.convert_to_tensor(y_true) - K.mean(tf.convert_to_tensor(y_true))))\n",
    "    return ( 1 - SS_res/(SS_tot + K.epsilon()) )"
   ]
  },
  {
   "cell_type": "code",
   "execution_count": 202,
   "id": "62542368",
   "metadata": {
    "cellId": "etjtpxsokwmvik1m7yr6i"
   },
   "outputs": [
    {
     "name": "stderr",
     "output_type": "stream",
     "text": [
      "Failed to deserialize variable 'model'. Run the following code to delete it:\n",
      "  del_datasphere_variables('history', 'model')\n",
      "Traceback (most recent call last):\n",
      "  File \"/kernel/lib/python3.8/site-packages/ml_kernel/state/state_protocol.py\", line 283, in _load_component\n",
      "    value = unpickler.load()\n",
      "  File \"/kernel/lib/python3.8/site-packages/ipystate/impl/dispatch/tensorflow.py\", line 21, in _make_model\n",
      "    **saving_utils.compile_args_from_training_config(\n",
      "  File \"/usr/local/lib/python3.8/dist-packages/tensorflow/python/keras/saving/saving_utils.py\", line 219, in compile_args_from_training_config\n",
      "    metrics = _deserialize_nested_config(_deserialize_metric, metrics_config)\n",
      "  File \"/usr/local/lib/python3.8/dist-packages/tensorflow/python/keras/saving/saving_utils.py\", line 261, in _deserialize_nested_config\n",
      "    return [_deserialize_nested_config(deserialize_fn, obj) for obj in config]\n",
      "  File \"/usr/local/lib/python3.8/dist-packages/tensorflow/python/keras/saving/saving_utils.py\", line 261, in <listcomp>\n",
      "    return [_deserialize_nested_config(deserialize_fn, obj) for obj in config]\n",
      "  File \"/usr/local/lib/python3.8/dist-packages/tensorflow/python/keras/saving/saving_utils.py\", line 261, in _deserialize_nested_config\n",
      "    return [_deserialize_nested_config(deserialize_fn, obj) for obj in config]\n",
      "  File \"/usr/local/lib/python3.8/dist-packages/tensorflow/python/keras/saving/saving_utils.py\", line 261, in <listcomp>\n",
      "    return [_deserialize_nested_config(deserialize_fn, obj) for obj in config]\n",
      "  File \"/usr/local/lib/python3.8/dist-packages/tensorflow/python/keras/saving/saving_utils.py\", line 254, in _deserialize_nested_config\n",
      "    return deserialize_fn(config)\n",
      "  File \"/usr/local/lib/python3.8/dist-packages/tensorflow/python/keras/saving/saving_utils.py\", line 284, in _deserialize_metric\n",
      "    return metrics_module.deserialize(metric_config)\n",
      "  File \"/usr/local/lib/python3.8/dist-packages/tensorflow/python/keras/metrics.py\", line 3650, in deserialize\n",
      "    return deserialize_keras_object(\n",
      "  File \"/usr/local/lib/python3.8/dist-packages/tensorflow/python/keras/utils/generic_utils.py\", line 681, in deserialize_keras_object\n",
      "    deserialized_obj = cls.from_config(cls_config)\n",
      "  File \"/usr/local/lib/python3.8/dist-packages/tensorflow/python/keras/metrics.py\", line 698, in from_config\n",
      "    return cls(get(fn), **config)\n",
      "  File \"/usr/local/lib/python3.8/dist-packages/tensorflow/python/keras/metrics.py\", line 3694, in get\n",
      "    return deserialize(str(identifier))\n",
      "  File \"/usr/local/lib/python3.8/dist-packages/tensorflow/python/keras/metrics.py\", line 3650, in deserialize\n",
      "    return deserialize_keras_object(\n",
      "  File \"/usr/local/lib/python3.8/dist-packages/tensorflow/python/keras/utils/generic_utils.py\", line 704, in deserialize_keras_object\n",
      "    raise ValueError(\n",
      "ValueError: Unknown metric function: coeff_determination. Please ensure this object is passed to the `custom_objects` argument. See https://www.tensorflow.org/guide/keras/save_and_serialize#registering_the_custom_object for details.\n",
      "\n",
      "The above exception was the direct cause of the following exception:\n",
      "\n",
      "ml_kernel.state.state_protocol.KernelStateProtocol.DeserializationException: ['history', 'model']\n",
      "Failed to deserialize variable 'model'. Run the following code to delete it:\n",
      "  del_datasphere_variables('history', 'model')\n",
      "Traceback (most recent call last):\n",
      "  File \"/kernel/lib/python3.8/site-packages/ml_kernel/state/state_protocol.py\", line 283, in _load_component\n",
      "    value = unpickler.load()\n",
      "  File \"/kernel/lib/python3.8/site-packages/ipystate/impl/dispatch/tensorflow.py\", line 21, in _make_model\n",
      "    **saving_utils.compile_args_from_training_config(\n",
      "  File \"/usr/local/lib/python3.8/dist-packages/tensorflow/python/keras/saving/saving_utils.py\", line 219, in compile_args_from_training_config\n",
      "    metrics = _deserialize_nested_config(_deserialize_metric, metrics_config)\n",
      "  File \"/usr/local/lib/python3.8/dist-packages/tensorflow/python/keras/saving/saving_utils.py\", line 261, in _deserialize_nested_config\n",
      "    return [_deserialize_nested_config(deserialize_fn, obj) for obj in config]\n",
      "  File \"/usr/local/lib/python3.8/dist-packages/tensorflow/python/keras/saving/saving_utils.py\", line 261, in <listcomp>\n",
      "    return [_deserialize_nested_config(deserialize_fn, obj) for obj in config]\n",
      "  File \"/usr/local/lib/python3.8/dist-packages/tensorflow/python/keras/saving/saving_utils.py\", line 261, in _deserialize_nested_config\n",
      "    return [_deserialize_nested_config(deserialize_fn, obj) for obj in config]\n",
      "  File \"/usr/local/lib/python3.8/dist-packages/tensorflow/python/keras/saving/saving_utils.py\", line 261, in <listcomp>\n",
      "    return [_deserialize_nested_config(deserialize_fn, obj) for obj in config]\n",
      "  File \"/usr/local/lib/python3.8/dist-packages/tensorflow/python/keras/saving/saving_utils.py\", line 254, in _deserialize_nested_config\n",
      "    return deserialize_fn(config)\n",
      "  File \"/usr/local/lib/python3.8/dist-packages/tensorflow/python/keras/saving/saving_utils.py\", line 284, in _deserialize_metric\n",
      "    return metrics_module.deserialize(metric_config)\n",
      "  File \"/usr/local/lib/python3.8/dist-packages/tensorflow/python/keras/metrics.py\", line 3650, in deserialize\n",
      "    return deserialize_keras_object(\n",
      "  File \"/usr/local/lib/python3.8/dist-packages/tensorflow/python/keras/utils/generic_utils.py\", line 681, in deserialize_keras_object\n",
      "    deserialized_obj = cls.from_config(cls_config)\n",
      "  File \"/usr/local/lib/python3.8/dist-packages/tensorflow/python/keras/metrics.py\", line 698, in from_config\n",
      "    return cls(get(fn), **config)\n",
      "  File \"/usr/local/lib/python3.8/dist-packages/tensorflow/python/keras/metrics.py\", line 3694, in get\n",
      "    return deserialize(str(identifier))\n",
      "  File \"/usr/local/lib/python3.8/dist-packages/tensorflow/python/keras/metrics.py\", line 3650, in deserialize\n",
      "    return deserialize_keras_object(\n",
      "  File \"/usr/local/lib/python3.8/dist-packages/tensorflow/python/keras/utils/generic_utils.py\", line 704, in deserialize_keras_object\n",
      "    raise ValueError(\n",
      "ValueError: Unknown metric function: coeff_determination. Please ensure this object is passed to the `custom_objects` argument. See https://www.tensorflow.org/guide/keras/save_and_serialize#registering_the_custom_object for details.\n",
      "\n",
      "The above exception was the direct cause of the following exception:\n",
      "\n",
      "ml_kernel.state.state_protocol.KernelStateProtocol.DeserializationException: ['history', 'model']\n",
      "Failed to deserialize variable 'model'. Run the following code to delete it:\n",
      "  del_datasphere_variables('history', 'model')\n",
      "Traceback (most recent call last):\n",
      "  File \"/kernel/lib/python3.8/site-packages/ml_kernel/state/state_protocol.py\", line 283, in _load_component\n",
      "    value = unpickler.load()\n",
      "  File \"/kernel/lib/python3.8/site-packages/ipystate/impl/dispatch/tensorflow.py\", line 21, in _make_model\n",
      "    **saving_utils.compile_args_from_training_config(\n",
      "  File \"/usr/local/lib/python3.8/dist-packages/tensorflow/python/keras/saving/saving_utils.py\", line 219, in compile_args_from_training_config\n",
      "    metrics = _deserialize_nested_config(_deserialize_metric, metrics_config)\n",
      "  File \"/usr/local/lib/python3.8/dist-packages/tensorflow/python/keras/saving/saving_utils.py\", line 261, in _deserialize_nested_config\n",
      "    return [_deserialize_nested_config(deserialize_fn, obj) for obj in config]\n",
      "  File \"/usr/local/lib/python3.8/dist-packages/tensorflow/python/keras/saving/saving_utils.py\", line 261, in <listcomp>\n",
      "    return [_deserialize_nested_config(deserialize_fn, obj) for obj in config]\n",
      "  File \"/usr/local/lib/python3.8/dist-packages/tensorflow/python/keras/saving/saving_utils.py\", line 261, in _deserialize_nested_config\n",
      "    return [_deserialize_nested_config(deserialize_fn, obj) for obj in config]\n",
      "  File \"/usr/local/lib/python3.8/dist-packages/tensorflow/python/keras/saving/saving_utils.py\", line 261, in <listcomp>\n",
      "    return [_deserialize_nested_config(deserialize_fn, obj) for obj in config]\n",
      "  File \"/usr/local/lib/python3.8/dist-packages/tensorflow/python/keras/saving/saving_utils.py\", line 254, in _deserialize_nested_config\n",
      "    return deserialize_fn(config)\n",
      "  File \"/usr/local/lib/python3.8/dist-packages/tensorflow/python/keras/saving/saving_utils.py\", line 284, in _deserialize_metric\n",
      "    return metrics_module.deserialize(metric_config)\n",
      "  File \"/usr/local/lib/python3.8/dist-packages/tensorflow/python/keras/metrics.py\", line 3650, in deserialize\n",
      "    return deserialize_keras_object(\n",
      "  File \"/usr/local/lib/python3.8/dist-packages/tensorflow/python/keras/utils/generic_utils.py\", line 681, in deserialize_keras_object\n",
      "    deserialized_obj = cls.from_config(cls_config)\n",
      "  File \"/usr/local/lib/python3.8/dist-packages/tensorflow/python/keras/metrics.py\", line 698, in from_config\n",
      "    return cls(get(fn), **config)\n",
      "  File \"/usr/local/lib/python3.8/dist-packages/tensorflow/python/keras/metrics.py\", line 3694, in get\n",
      "    return deserialize(str(identifier))\n",
      "  File \"/usr/local/lib/python3.8/dist-packages/tensorflow/python/keras/metrics.py\", line 3650, in deserialize\n",
      "    return deserialize_keras_object(\n",
      "  File \"/usr/local/lib/python3.8/dist-packages/tensorflow/python/keras/utils/generic_utils.py\", line 704, in deserialize_keras_object\n",
      "    raise ValueError(\n",
      "ValueError: Unknown metric function: coeff_determination. Please ensure this object is passed to the `custom_objects` argument. See https://www.tensorflow.org/guide/keras/save_and_serialize#registering_the_custom_object for details.\n",
      "\n",
      "The above exception was the direct cause of the following exception:\n",
      "\n",
      "ml_kernel.state.state_protocol.KernelStateProtocol.DeserializationException: ['history', 'model']\n",
      "Failed to deserialize variable 'model'. Run the following code to delete it:\n",
      "  del_datasphere_variables('history', 'model')\n",
      "Traceback (most recent call last):\n",
      "  File \"/kernel/lib/python3.8/site-packages/ml_kernel/state/state_protocol.py\", line 283, in _load_component\n",
      "    value = unpickler.load()\n",
      "  File \"/kernel/lib/python3.8/site-packages/ipystate/impl/dispatch/tensorflow.py\", line 21, in _make_model\n",
      "    **saving_utils.compile_args_from_training_config(\n",
      "  File \"/usr/local/lib/python3.8/dist-packages/tensorflow/python/keras/saving/saving_utils.py\", line 219, in compile_args_from_training_config\n",
      "    metrics = _deserialize_nested_config(_deserialize_metric, metrics_config)\n",
      "  File \"/usr/local/lib/python3.8/dist-packages/tensorflow/python/keras/saving/saving_utils.py\", line 261, in _deserialize_nested_config\n",
      "    return [_deserialize_nested_config(deserialize_fn, obj) for obj in config]\n",
      "  File \"/usr/local/lib/python3.8/dist-packages/tensorflow/python/keras/saving/saving_utils.py\", line 261, in <listcomp>\n",
      "    return [_deserialize_nested_config(deserialize_fn, obj) for obj in config]\n",
      "  File \"/usr/local/lib/python3.8/dist-packages/tensorflow/python/keras/saving/saving_utils.py\", line 261, in _deserialize_nested_config\n",
      "    return [_deserialize_nested_config(deserialize_fn, obj) for obj in config]\n",
      "  File \"/usr/local/lib/python3.8/dist-packages/tensorflow/python/keras/saving/saving_utils.py\", line 261, in <listcomp>\n",
      "    return [_deserialize_nested_config(deserialize_fn, obj) for obj in config]\n",
      "  File \"/usr/local/lib/python3.8/dist-packages/tensorflow/python/keras/saving/saving_utils.py\", line 254, in _deserialize_nested_config\n",
      "    return deserialize_fn(config)\n",
      "  File \"/usr/local/lib/python3.8/dist-packages/tensorflow/python/keras/saving/saving_utils.py\", line 284, in _deserialize_metric\n",
      "    return metrics_module.deserialize(metric_config)\n",
      "  File \"/usr/local/lib/python3.8/dist-packages/tensorflow/python/keras/metrics.py\", line 3650, in deserialize\n",
      "    return deserialize_keras_object(\n",
      "  File \"/usr/local/lib/python3.8/dist-packages/tensorflow/python/keras/utils/generic_utils.py\", line 681, in deserialize_keras_object\n",
      "    deserialized_obj = cls.from_config(cls_config)\n",
      "  File \"/usr/local/lib/python3.8/dist-packages/tensorflow/python/keras/metrics.py\", line 698, in from_config\n",
      "    return cls(get(fn), **config)\n",
      "  File \"/usr/local/lib/python3.8/dist-packages/tensorflow/python/keras/metrics.py\", line 3694, in get\n",
      "    return deserialize(str(identifier))\n",
      "  File \"/usr/local/lib/python3.8/dist-packages/tensorflow/python/keras/metrics.py\", line 3650, in deserialize\n",
      "    return deserialize_keras_object(\n",
      "  File \"/usr/local/lib/python3.8/dist-packages/tensorflow/python/keras/utils/generic_utils.py\", line 704, in deserialize_keras_object\n",
      "    raise ValueError(\n",
      "ValueError: Unknown metric function: coeff_determination. Please ensure this object is passed to the `custom_objects` argument. See https://www.tensorflow.org/guide/keras/save_and_serialize#registering_the_custom_object for details.\n",
      "\n",
      "The above exception was the direct cause of the following exception:\n",
      "\n",
      "ml_kernel.state.state_protocol.KernelStateProtocol.DeserializationException: ['history', 'model']\n",
      "Failed to deserialize variable 'model'. Run the following code to delete it:\n",
      "  del_datasphere_variables('history', 'model')\n",
      "Traceback (most recent call last):\n",
      "  File \"/kernel/lib/python3.8/site-packages/ml_kernel/state/state_protocol.py\", line 283, in _load_component\n",
      "    value = unpickler.load()\n",
      "  File \"/kernel/lib/python3.8/site-packages/ipystate/impl/dispatch/tensorflow.py\", line 21, in _make_model\n",
      "    **saving_utils.compile_args_from_training_config(\n",
      "  File \"/usr/local/lib/python3.8/dist-packages/tensorflow/python/keras/saving/saving_utils.py\", line 219, in compile_args_from_training_config\n",
      "    metrics = _deserialize_nested_config(_deserialize_metric, metrics_config)\n",
      "  File \"/usr/local/lib/python3.8/dist-packages/tensorflow/python/keras/saving/saving_utils.py\", line 261, in _deserialize_nested_config\n",
      "    return [_deserialize_nested_config(deserialize_fn, obj) for obj in config]\n",
      "  File \"/usr/local/lib/python3.8/dist-packages/tensorflow/python/keras/saving/saving_utils.py\", line 261, in <listcomp>\n",
      "    return [_deserialize_nested_config(deserialize_fn, obj) for obj in config]\n",
      "  File \"/usr/local/lib/python3.8/dist-packages/tensorflow/python/keras/saving/saving_utils.py\", line 261, in _deserialize_nested_config\n",
      "    return [_deserialize_nested_config(deserialize_fn, obj) for obj in config]\n",
      "  File \"/usr/local/lib/python3.8/dist-packages/tensorflow/python/keras/saving/saving_utils.py\", line 261, in <listcomp>\n",
      "    return [_deserialize_nested_config(deserialize_fn, obj) for obj in config]\n",
      "  File \"/usr/local/lib/python3.8/dist-packages/tensorflow/python/keras/saving/saving_utils.py\", line 254, in _deserialize_nested_config\n",
      "    return deserialize_fn(config)\n",
      "  File \"/usr/local/lib/python3.8/dist-packages/tensorflow/python/keras/saving/saving_utils.py\", line 284, in _deserialize_metric\n",
      "    return metrics_module.deserialize(metric_config)\n",
      "  File \"/usr/local/lib/python3.8/dist-packages/tensorflow/python/keras/metrics.py\", line 3650, in deserialize\n",
      "    return deserialize_keras_object(\n",
      "  File \"/usr/local/lib/python3.8/dist-packages/tensorflow/python/keras/utils/generic_utils.py\", line 681, in deserialize_keras_object\n",
      "    deserialized_obj = cls.from_config(cls_config)\n",
      "  File \"/usr/local/lib/python3.8/dist-packages/tensorflow/python/keras/metrics.py\", line 698, in from_config\n",
      "    return cls(get(fn), **config)\n",
      "  File \"/usr/local/lib/python3.8/dist-packages/tensorflow/python/keras/metrics.py\", line 3694, in get\n",
      "    return deserialize(str(identifier))\n",
      "  File \"/usr/local/lib/python3.8/dist-packages/tensorflow/python/keras/metrics.py\", line 3650, in deserialize\n",
      "    return deserialize_keras_object(\n",
      "  File \"/usr/local/lib/python3.8/dist-packages/tensorflow/python/keras/utils/generic_utils.py\", line 704, in deserialize_keras_object\n",
      "    raise ValueError(\n",
      "ValueError: Unknown metric function: coeff_determination. Please ensure this object is passed to the `custom_objects` argument. See https://www.tensorflow.org/guide/keras/save_and_serialize#registering_the_custom_object for details.\n",
      "\n",
      "The above exception was the direct cause of the following exception:\n",
      "\n",
      "ml_kernel.state.state_protocol.KernelStateProtocol.DeserializationException: ['history', 'model']\n"
     ]
    },
    {
     "name": "stdout",
     "output_type": "stream",
     "text": [
      "Epoch 1/40\n"
     ]
    },
    {
     "name": "stderr",
     "output_type": "stream",
     "text": [
      "Failed to deserialize variable 'model'. Run the following code to delete it:\n",
      "  del_datasphere_variables('history', 'model')\n",
      "Traceback (most recent call last):\n",
      "  File \"/kernel/lib/python3.8/site-packages/ml_kernel/state/state_protocol.py\", line 283, in _load_component\n",
      "    value = unpickler.load()\n",
      "  File \"/kernel/lib/python3.8/site-packages/ipystate/impl/dispatch/tensorflow.py\", line 21, in _make_model\n",
      "    **saving_utils.compile_args_from_training_config(\n",
      "  File \"/usr/local/lib/python3.8/dist-packages/tensorflow/python/keras/saving/saving_utils.py\", line 219, in compile_args_from_training_config\n",
      "    metrics = _deserialize_nested_config(_deserialize_metric, metrics_config)\n",
      "  File \"/usr/local/lib/python3.8/dist-packages/tensorflow/python/keras/saving/saving_utils.py\", line 261, in _deserialize_nested_config\n",
      "    return [_deserialize_nested_config(deserialize_fn, obj) for obj in config]\n",
      "  File \"/usr/local/lib/python3.8/dist-packages/tensorflow/python/keras/saving/saving_utils.py\", line 261, in <listcomp>\n",
      "    return [_deserialize_nested_config(deserialize_fn, obj) for obj in config]\n",
      "  File \"/usr/local/lib/python3.8/dist-packages/tensorflow/python/keras/saving/saving_utils.py\", line 261, in _deserialize_nested_config\n",
      "    return [_deserialize_nested_config(deserialize_fn, obj) for obj in config]\n",
      "  File \"/usr/local/lib/python3.8/dist-packages/tensorflow/python/keras/saving/saving_utils.py\", line 261, in <listcomp>\n",
      "    return [_deserialize_nested_config(deserialize_fn, obj) for obj in config]\n",
      "  File \"/usr/local/lib/python3.8/dist-packages/tensorflow/python/keras/saving/saving_utils.py\", line 254, in _deserialize_nested_config\n",
      "    return deserialize_fn(config)\n",
      "  File \"/usr/local/lib/python3.8/dist-packages/tensorflow/python/keras/saving/saving_utils.py\", line 284, in _deserialize_metric\n",
      "    return metrics_module.deserialize(metric_config)\n",
      "  File \"/usr/local/lib/python3.8/dist-packages/tensorflow/python/keras/metrics.py\", line 3650, in deserialize\n",
      "    return deserialize_keras_object(\n",
      "  File \"/usr/local/lib/python3.8/dist-packages/tensorflow/python/keras/utils/generic_utils.py\", line 681, in deserialize_keras_object\n",
      "    deserialized_obj = cls.from_config(cls_config)\n",
      "  File \"/usr/local/lib/python3.8/dist-packages/tensorflow/python/keras/metrics.py\", line 698, in from_config\n",
      "    return cls(get(fn), **config)\n",
      "  File \"/usr/local/lib/python3.8/dist-packages/tensorflow/python/keras/metrics.py\", line 3694, in get\n",
      "    return deserialize(str(identifier))\n",
      "  File \"/usr/local/lib/python3.8/dist-packages/tensorflow/python/keras/metrics.py\", line 3650, in deserialize\n",
      "    return deserialize_keras_object(\n",
      "  File \"/usr/local/lib/python3.8/dist-packages/tensorflow/python/keras/utils/generic_utils.py\", line 704, in deserialize_keras_object\n",
      "    raise ValueError(\n",
      "ValueError: Unknown metric function: coeff_determination. Please ensure this object is passed to the `custom_objects` argument. See https://www.tensorflow.org/guide/keras/save_and_serialize#registering_the_custom_object for details.\n",
      "\n",
      "The above exception was the direct cause of the following exception:\n",
      "\n",
      "ml_kernel.state.state_protocol.KernelStateProtocol.DeserializationException: ['history', 'model']\n"
     ]
    },
    {
     "name": "stdout",
     "output_type": "stream",
     "text": [
      "722/722 [==============================] - 6s 4ms/step - loss: 2301.9514 - coeff_determination: -0.1760 - mean_squared_error: 2301.9514 - val_loss: 1988.6140 - val_coeff_determination: -0.0139 - val_mean_squared_error: 1988.6140\n",
      "Epoch 2/40\n",
      "722/722 [==============================] - 3s 4ms/step - loss: 1698.3367 - coeff_determination: 0.1329 - mean_squared_error: 1698.3367 - val_loss: 1495.5035 - val_coeff_determination: 0.2382 - val_mean_squared_error: 1495.5035\n",
      "Epoch 3/40\n",
      "722/722 [==============================] - 3s 4ms/step - loss: 1265.0992 - coeff_determination: 0.3542 - mean_squared_error: 1265.0992 - val_loss: 1104.6221 - val_coeff_determination: 0.4373 - val_mean_squared_error: 1104.6221\n",
      "Epoch 4/40\n",
      "722/722 [==============================] - 3s 4ms/step - loss: 920.5718 - coeff_determination: 0.5300 - mean_squared_error: 920.5718 - val_loss: 794.3555 - val_coeff_determination: 0.5944 - val_mean_squared_error: 794.3555\n",
      "Epoch 5/40\n",
      "722/722 [==============================] - 3s 4ms/step - loss: 649.9642 - coeff_determination: 0.6682 - mean_squared_error: 649.9642 - val_loss: 553.0735 - val_coeff_determination: 0.7159 - val_mean_squared_error: 553.0735\n",
      "Epoch 6/40\n",
      "722/722 [==============================] - 3s 4ms/step - loss: 441.8471 - coeff_determination: 0.7745 - mean_squared_error: 441.8471 - val_loss: 370.1741 - val_coeff_determination: 0.8077 - val_mean_squared_error: 370.1741\n",
      "Epoch 7/40\n",
      "722/722 [==============================] - 3s 4ms/step - loss: 285.5964 - coeff_determination: 0.8542 - mean_squared_error: 285.5964 - val_loss: 235.2105 - val_coeff_determination: 0.8757 - val_mean_squared_error: 235.2105\n",
      "Epoch 8/40\n",
      "722/722 [==============================] - 3s 4ms/step - loss: 174.8199 - coeff_determination: 0.9108 - mean_squared_error: 174.8199 - val_loss: 144.3008 - val_coeff_determination: 0.9216 - val_mean_squared_error: 144.3008\n",
      "Epoch 9/40\n",
      "722/722 [==============================] - 3s 4ms/step - loss: 102.8121 - coeff_determination: 0.9475 - mean_squared_error: 102.8121 - val_loss: 87.7951 - val_coeff_determination: 0.9504 - val_mean_squared_error: 87.7951\n",
      "Epoch 10/40\n",
      "722/722 [==============================] - 3s 4ms/step - loss: 60.2713 - coeff_determination: 0.9692 - mean_squared_error: 60.2713 - val_loss: 56.6063 - val_coeff_determination: 0.9665 - val_mean_squared_error: 56.6063\n",
      "Epoch 11/40\n",
      "722/722 [==============================] - 3s 4ms/step - loss: 37.6567 - coeff_determination: 0.9808 - mean_squared_error: 37.6567 - val_loss: 40.1068 - val_coeff_determination: 0.9755 - val_mean_squared_error: 40.1068\n",
      "Epoch 12/40\n",
      "722/722 [==============================] - 3s 4ms/step - loss: 26.4832 - coeff_determination: 0.9865 - mean_squared_error: 26.4832 - val_loss: 31.1321 - val_coeff_determination: 0.9807 - val_mean_squared_error: 31.1321\n",
      "Epoch 13/40\n",
      "722/722 [==============================] - 3s 4ms/step - loss: 19.9442 - coeff_determination: 0.9898 - mean_squared_error: 19.9442 - val_loss: 24.8655 - val_coeff_determination: 0.9843 - val_mean_squared_error: 24.8655\n",
      "Epoch 14/40\n",
      "722/722 [==============================] - 3s 4ms/step - loss: 15.4314 - coeff_determination: 0.9921 - mean_squared_error: 15.4314 - val_loss: 20.1268 - val_coeff_determination: 0.9872 - val_mean_squared_error: 20.1268\n",
      "Epoch 15/40\n",
      "722/722 [==============================] - 3s 4ms/step - loss: 12.1140 - coeff_determination: 0.9938 - mean_squared_error: 12.1140 - val_loss: 16.6663 - val_coeff_determination: 0.9893 - val_mean_squared_error: 16.6663\n",
      "Epoch 16/40\n",
      "722/722 [==============================] - 3s 4ms/step - loss: 9.6879 - coeff_determination: 0.9950 - mean_squared_error: 9.6879 - val_loss: 14.0602 - val_coeff_determination: 0.9909 - val_mean_squared_error: 14.0602\n",
      "Epoch 17/40\n",
      "722/722 [==============================] - 3s 4ms/step - loss: 7.8820 - coeff_determination: 0.9960 - mean_squared_error: 7.8820 - val_loss: 12.0871 - val_coeff_determination: 0.9921 - val_mean_squared_error: 12.0871\n",
      "Epoch 18/40\n",
      "722/722 [==============================] - 3s 4ms/step - loss: 6.5347 - coeff_determination: 0.9967 - mean_squared_error: 6.5347 - val_loss: 10.6161 - val_coeff_determination: 0.9931 - val_mean_squared_error: 10.6161\n",
      "Epoch 19/40\n",
      "722/722 [==============================] - 3s 4ms/step - loss: 5.5325 - coeff_determination: 0.9972 - mean_squared_error: 5.5325 - val_loss: 9.4766 - val_coeff_determination: 0.9938 - val_mean_squared_error: 9.4766\n",
      "Epoch 20/40\n",
      "722/722 [==============================] - 3s 4ms/step - loss: 4.7744 - coeff_determination: 0.9976 - mean_squared_error: 4.7744 - val_loss: 8.3033 - val_coeff_determination: 0.9946 - val_mean_squared_error: 8.3033\n",
      "Epoch 21/40\n",
      "722/722 [==============================] - 3s 4ms/step - loss: 4.1719 - coeff_determination: 0.9979 - mean_squared_error: 4.1719 - val_loss: 7.3706 - val_coeff_determination: 0.9952 - val_mean_squared_error: 7.3706\n",
      "Epoch 22/40\n",
      "722/722 [==============================] - 3s 4ms/step - loss: 3.6185 - coeff_determination: 0.9981 - mean_squared_error: 3.6185 - val_loss: 6.5582 - val_coeff_determination: 0.9957 - val_mean_squared_error: 6.5582\n",
      "Epoch 23/40\n",
      "722/722 [==============================] - 3s 4ms/step - loss: 3.1489 - coeff_determination: 0.9984 - mean_squared_error: 3.1489 - val_loss: 5.8738 - val_coeff_determination: 0.9961 - val_mean_squared_error: 5.8738\n",
      "Epoch 24/40\n",
      "722/722 [==============================] - 3s 4ms/step - loss: 2.7534 - coeff_determination: 0.9986 - mean_squared_error: 2.7534 - val_loss: 5.3425 - val_coeff_determination: 0.9965 - val_mean_squared_error: 5.3425\n",
      "Epoch 25/40\n",
      "722/722 [==============================] - 3s 4ms/step - loss: 2.4244 - coeff_determination: 0.9988 - mean_squared_error: 2.4244 - val_loss: 4.7772 - val_coeff_determination: 0.9968 - val_mean_squared_error: 4.7772\n",
      "Epoch 26/40\n",
      "722/722 [==============================] - 3s 4ms/step - loss: 2.1634 - coeff_determination: 0.9989 - mean_squared_error: 2.1634 - val_loss: 5.1543 - val_coeff_determination: 0.9966 - val_mean_squared_error: 5.1543\n",
      "Epoch 27/40\n",
      "722/722 [==============================] - 3s 4ms/step - loss: 1.9318 - coeff_determination: 0.9990 - mean_squared_error: 1.9318 - val_loss: 4.0225 - val_coeff_determination: 0.9973 - val_mean_squared_error: 4.0225\n",
      "Epoch 28/40\n",
      "722/722 [==============================] - 3s 4ms/step - loss: 1.7510 - coeff_determination: 0.9991 - mean_squared_error: 1.7510 - val_loss: 3.7933 - val_coeff_determination: 0.9975 - val_mean_squared_error: 3.7933\n",
      "Epoch 29/40\n",
      "722/722 [==============================] - 3s 4ms/step - loss: 1.6017 - coeff_determination: 0.9992 - mean_squared_error: 1.6017 - val_loss: 3.5120 - val_coeff_determination: 0.9977 - val_mean_squared_error: 3.5120\n",
      "Epoch 30/40\n",
      "722/722 [==============================] - 3s 4ms/step - loss: 1.4643 - coeff_determination: 0.9992 - mean_squared_error: 1.4643 - val_loss: 3.2103 - val_coeff_determination: 0.9979 - val_mean_squared_error: 3.2103\n",
      "Epoch 31/40\n",
      "722/722 [==============================] - 3s 4ms/step - loss: 1.3368 - coeff_determination: 0.9993 - mean_squared_error: 1.3368 - val_loss: 2.9775 - val_coeff_determination: 0.9980 - val_mean_squared_error: 2.9775\n",
      "Epoch 32/40\n",
      "722/722 [==============================] - 3s 4ms/step - loss: 1.2155 - coeff_determination: 0.9994 - mean_squared_error: 1.2155 - val_loss: 2.8081 - val_coeff_determination: 0.9981 - val_mean_squared_error: 2.8081\n",
      "Epoch 33/40\n",
      "722/722 [==============================] - 3s 4ms/step - loss: 1.1151 - coeff_determination: 0.9994 - mean_squared_error: 1.1151 - val_loss: 2.5837 - val_coeff_determination: 0.9983 - val_mean_squared_error: 2.5837\n",
      "Epoch 34/40\n",
      "722/722 [==============================] - 3s 4ms/step - loss: 1.0307 - coeff_determination: 0.9995 - mean_squared_error: 1.0307 - val_loss: 2.4469 - val_coeff_determination: 0.9984 - val_mean_squared_error: 2.4469\n",
      "Epoch 35/40\n",
      "722/722 [==============================] - 3s 4ms/step - loss: 0.9526 - coeff_determination: 0.9995 - mean_squared_error: 0.9526 - val_loss: 2.2859 - val_coeff_determination: 0.9985 - val_mean_squared_error: 2.2859\n",
      "Epoch 36/40\n",
      "722/722 [==============================] - 3s 4ms/step - loss: 0.8845 - coeff_determination: 0.9995 - mean_squared_error: 0.8845 - val_loss: 2.2312 - val_coeff_determination: 0.9985 - val_mean_squared_error: 2.2312\n",
      "Epoch 37/40\n",
      "722/722 [==============================] - 3s 4ms/step - loss: 0.8212 - coeff_determination: 0.9996 - mean_squared_error: 0.8212 - val_loss: 2.0234 - val_coeff_determination: 0.9987 - val_mean_squared_error: 2.0234\n",
      "Epoch 38/40\n",
      "722/722 [==============================] - 3s 4ms/step - loss: 0.7636 - coeff_determination: 0.9996 - mean_squared_error: 0.7636 - val_loss: 3.0174 - val_coeff_determination: 0.9981 - val_mean_squared_error: 3.0174\n",
      "Epoch 39/40\n",
      "722/722 [==============================] - 3s 4ms/step - loss: 0.7275 - coeff_determination: 0.9996 - mean_squared_error: 0.7275 - val_loss: 1.6956 - val_coeff_determination: 0.9989 - val_mean_squared_error: 1.6956\n",
      "Epoch 40/40\n",
      "722/722 [==============================] - 3s 4ms/step - loss: 0.6622 - coeff_determination: 0.9997 - mean_squared_error: 0.6622 - val_loss: 1.7068 - val_coeff_determination: 0.9989 - val_mean_squared_error: 1.7068\n"
     ]
    },
    {
     "name": "stderr",
     "output_type": "stream",
     "text": [
      "Failed to deserialize variable 'history'. Run the following code to delete it:\n",
      "  del_datasphere_variables('history', 'model')\n",
      "Traceback (most recent call last):\n",
      "  File \"/kernel/lib/python3.8/site-packages/ml_kernel/state/state_protocol.py\", line 283, in _load_component\n",
      "    value = unpickler.load()\n",
      "  File \"/kernel/lib/python3.8/site-packages/ipystate/impl/dispatch/tensorflow.py\", line 21, in _make_model\n",
      "    **saving_utils.compile_args_from_training_config(\n",
      "  File \"/usr/local/lib/python3.8/dist-packages/tensorflow/python/keras/saving/saving_utils.py\", line 219, in compile_args_from_training_config\n",
      "    metrics = _deserialize_nested_config(_deserialize_metric, metrics_config)\n",
      "  File \"/usr/local/lib/python3.8/dist-packages/tensorflow/python/keras/saving/saving_utils.py\", line 261, in _deserialize_nested_config\n",
      "    return [_deserialize_nested_config(deserialize_fn, obj) for obj in config]\n",
      "  File \"/usr/local/lib/python3.8/dist-packages/tensorflow/python/keras/saving/saving_utils.py\", line 261, in <listcomp>\n",
      "    return [_deserialize_nested_config(deserialize_fn, obj) for obj in config]\n",
      "  File \"/usr/local/lib/python3.8/dist-packages/tensorflow/python/keras/saving/saving_utils.py\", line 261, in _deserialize_nested_config\n",
      "    return [_deserialize_nested_config(deserialize_fn, obj) for obj in config]\n",
      "  File \"/usr/local/lib/python3.8/dist-packages/tensorflow/python/keras/saving/saving_utils.py\", line 261, in <listcomp>\n",
      "    return [_deserialize_nested_config(deserialize_fn, obj) for obj in config]\n",
      "  File \"/usr/local/lib/python3.8/dist-packages/tensorflow/python/keras/saving/saving_utils.py\", line 254, in _deserialize_nested_config\n",
      "    return deserialize_fn(config)\n",
      "  File \"/usr/local/lib/python3.8/dist-packages/tensorflow/python/keras/saving/saving_utils.py\", line 284, in _deserialize_metric\n",
      "    return metrics_module.deserialize(metric_config)\n",
      "  File \"/usr/local/lib/python3.8/dist-packages/tensorflow/python/keras/metrics.py\", line 3650, in deserialize\n",
      "    return deserialize_keras_object(\n",
      "  File \"/usr/local/lib/python3.8/dist-packages/tensorflow/python/keras/utils/generic_utils.py\", line 681, in deserialize_keras_object\n",
      "    deserialized_obj = cls.from_config(cls_config)\n",
      "  File \"/usr/local/lib/python3.8/dist-packages/tensorflow/python/keras/metrics.py\", line 698, in from_config\n",
      "    return cls(get(fn), **config)\n",
      "  File \"/usr/local/lib/python3.8/dist-packages/tensorflow/python/keras/metrics.py\", line 3694, in get\n",
      "    return deserialize(str(identifier))\n",
      "  File \"/usr/local/lib/python3.8/dist-packages/tensorflow/python/keras/metrics.py\", line 3650, in deserialize\n",
      "    return deserialize_keras_object(\n",
      "  File \"/usr/local/lib/python3.8/dist-packages/tensorflow/python/keras/utils/generic_utils.py\", line 704, in deserialize_keras_object\n",
      "    raise ValueError(\n",
      "ValueError: Unknown metric function: coeff_determination. Please ensure this object is passed to the `custom_objects` argument. See https://www.tensorflow.org/guide/keras/save_and_serialize#registering_the_custom_object for details.\n",
      "\n",
      "The above exception was the direct cause of the following exception:\n",
      "\n",
      "ml_kernel.state.state_protocol.KernelStateProtocol.DeserializationException: ['history', 'model']\n",
      "Failed to deserialize variable 'model'. Run the following code to delete it:\n",
      "  del_datasphere_variables('history', 'model')\n",
      "Traceback (most recent call last):\n",
      "  File \"/kernel/lib/python3.8/site-packages/ml_kernel/state/state_protocol.py\", line 283, in _load_component\n",
      "    value = unpickler.load()\n",
      "  File \"/kernel/lib/python3.8/site-packages/ipystate/impl/dispatch/tensorflow.py\", line 21, in _make_model\n",
      "    **saving_utils.compile_args_from_training_config(\n",
      "  File \"/usr/local/lib/python3.8/dist-packages/tensorflow/python/keras/saving/saving_utils.py\", line 219, in compile_args_from_training_config\n",
      "    metrics = _deserialize_nested_config(_deserialize_metric, metrics_config)\n",
      "  File \"/usr/local/lib/python3.8/dist-packages/tensorflow/python/keras/saving/saving_utils.py\", line 261, in _deserialize_nested_config\n",
      "    return [_deserialize_nested_config(deserialize_fn, obj) for obj in config]\n",
      "  File \"/usr/local/lib/python3.8/dist-packages/tensorflow/python/keras/saving/saving_utils.py\", line 261, in <listcomp>\n",
      "    return [_deserialize_nested_config(deserialize_fn, obj) for obj in config]\n",
      "  File \"/usr/local/lib/python3.8/dist-packages/tensorflow/python/keras/saving/saving_utils.py\", line 261, in _deserialize_nested_config\n",
      "    return [_deserialize_nested_config(deserialize_fn, obj) for obj in config]\n",
      "  File \"/usr/local/lib/python3.8/dist-packages/tensorflow/python/keras/saving/saving_utils.py\", line 261, in <listcomp>\n",
      "    return [_deserialize_nested_config(deserialize_fn, obj) for obj in config]\n",
      "  File \"/usr/local/lib/python3.8/dist-packages/tensorflow/python/keras/saving/saving_utils.py\", line 254, in _deserialize_nested_config\n",
      "    return deserialize_fn(config)\n",
      "  File \"/usr/local/lib/python3.8/dist-packages/tensorflow/python/keras/saving/saving_utils.py\", line 284, in _deserialize_metric\n",
      "    return metrics_module.deserialize(metric_config)\n",
      "  File \"/usr/local/lib/python3.8/dist-packages/tensorflow/python/keras/metrics.py\", line 3650, in deserialize\n",
      "    return deserialize_keras_object(\n",
      "  File \"/usr/local/lib/python3.8/dist-packages/tensorflow/python/keras/utils/generic_utils.py\", line 681, in deserialize_keras_object\n",
      "    deserialized_obj = cls.from_config(cls_config)\n",
      "  File \"/usr/local/lib/python3.8/dist-packages/tensorflow/python/keras/metrics.py\", line 698, in from_config\n",
      "    return cls(get(fn), **config)\n",
      "  File \"/usr/local/lib/python3.8/dist-packages/tensorflow/python/keras/metrics.py\", line 3694, in get\n",
      "    return deserialize(str(identifier))\n",
      "  File \"/usr/local/lib/python3.8/dist-packages/tensorflow/python/keras/metrics.py\", line 3650, in deserialize\n",
      "    return deserialize_keras_object(\n",
      "  File \"/usr/local/lib/python3.8/dist-packages/tensorflow/python/keras/utils/generic_utils.py\", line 704, in deserialize_keras_object\n",
      "    raise ValueError(\n",
      "ValueError: Unknown metric function: coeff_determination. Please ensure this object is passed to the `custom_objects` argument. See https://www.tensorflow.org/guide/keras/save_and_serialize#registering_the_custom_object for details.\n",
      "\n",
      "The above exception was the direct cause of the following exception:\n",
      "\n",
      "ml_kernel.state.state_protocol.KernelStateProtocol.DeserializationException: ['history', 'model']\n"
     ]
    },
    {
     "name": "stdout",
     "output_type": "stream",
     "text": [
      "Model: \"sequential_1\"\n",
      "_________________________________________________________________\n",
      "Layer (type)                 Output Shape              Param #   \n",
      "=================================================================\n",
      "lstm_1 (LSTM)                (None, 15)                1320      \n",
      "_________________________________________________________________\n",
      "dense_1 (Dense)              (None, 6)                 96        \n",
      "=================================================================\n",
      "Total params: 1,416\n",
      "Trainable params: 1,416\n",
      "Non-trainable params: 0\n",
      "_________________________________________________________________\n",
      "None\n"
     ]
    },
    {
     "name": "stderr",
     "output_type": "stream",
     "text": [
      "Failed to deserialize variable 'model'. Run the following code to delete it:\n",
      "  del_datasphere_variables('history', 'model')\n",
      "Traceback (most recent call last):\n",
      "  File \"/kernel/lib/python3.8/site-packages/ml_kernel/state/state_protocol.py\", line 283, in _load_component\n",
      "    value = unpickler.load()\n",
      "  File \"/kernel/lib/python3.8/site-packages/ipystate/impl/dispatch/tensorflow.py\", line 21, in _make_model\n",
      "    **saving_utils.compile_args_from_training_config(\n",
      "  File \"/usr/local/lib/python3.8/dist-packages/tensorflow/python/keras/saving/saving_utils.py\", line 219, in compile_args_from_training_config\n",
      "    metrics = _deserialize_nested_config(_deserialize_metric, metrics_config)\n",
      "  File \"/usr/local/lib/python3.8/dist-packages/tensorflow/python/keras/saving/saving_utils.py\", line 261, in _deserialize_nested_config\n",
      "    return [_deserialize_nested_config(deserialize_fn, obj) for obj in config]\n",
      "  File \"/usr/local/lib/python3.8/dist-packages/tensorflow/python/keras/saving/saving_utils.py\", line 261, in <listcomp>\n",
      "    return [_deserialize_nested_config(deserialize_fn, obj) for obj in config]\n",
      "  File \"/usr/local/lib/python3.8/dist-packages/tensorflow/python/keras/saving/saving_utils.py\", line 261, in _deserialize_nested_config\n",
      "    return [_deserialize_nested_config(deserialize_fn, obj) for obj in config]\n",
      "  File \"/usr/local/lib/python3.8/dist-packages/tensorflow/python/keras/saving/saving_utils.py\", line 261, in <listcomp>\n",
      "    return [_deserialize_nested_config(deserialize_fn, obj) for obj in config]\n",
      "  File \"/usr/local/lib/python3.8/dist-packages/tensorflow/python/keras/saving/saving_utils.py\", line 254, in _deserialize_nested_config\n",
      "    return deserialize_fn(config)\n",
      "  File \"/usr/local/lib/python3.8/dist-packages/tensorflow/python/keras/saving/saving_utils.py\", line 284, in _deserialize_metric\n",
      "    return metrics_module.deserialize(metric_config)\n",
      "  File \"/usr/local/lib/python3.8/dist-packages/tensorflow/python/keras/metrics.py\", line 3650, in deserialize\n",
      "    return deserialize_keras_object(\n",
      "  File \"/usr/local/lib/python3.8/dist-packages/tensorflow/python/keras/utils/generic_utils.py\", line 681, in deserialize_keras_object\n",
      "    deserialized_obj = cls.from_config(cls_config)\n",
      "  File \"/usr/local/lib/python3.8/dist-packages/tensorflow/python/keras/metrics.py\", line 698, in from_config\n",
      "    return cls(get(fn), **config)\n",
      "  File \"/usr/local/lib/python3.8/dist-packages/tensorflow/python/keras/metrics.py\", line 3694, in get\n",
      "    return deserialize(str(identifier))\n",
      "  File \"/usr/local/lib/python3.8/dist-packages/tensorflow/python/keras/metrics.py\", line 3650, in deserialize\n",
      "    return deserialize_keras_object(\n",
      "  File \"/usr/local/lib/python3.8/dist-packages/tensorflow/python/keras/utils/generic_utils.py\", line 704, in deserialize_keras_object\n",
      "    raise ValueError(\n",
      "ValueError: Unknown metric function: coeff_determination. Please ensure this object is passed to the `custom_objects` argument. See https://www.tensorflow.org/guide/keras/save_and_serialize#registering_the_custom_object for details.\n",
      "\n",
      "The above exception was the direct cause of the following exception:\n",
      "\n",
      "ml_kernel.state.state_protocol.KernelStateProtocol.DeserializationException: ['history', 'model']\n"
     ]
    }
   ],
   "source": [
    "#!g1.1\n",
    "train = True\n",
    "\n",
    "if os.path.exists('./models/lera_super.h5') and not train:\n",
    "    model = load_model('./models/best_lera.h5')\n",
    "else:\n",
    "    model = tf.keras.Sequential()\n",
    "\n",
    "    # Add a SimpleLSTM layer with 3 internal units.\n",
    "    model.add(tf.keras.layers.LSTM(15, return_sequences=False, activation='tanh'))\n",
    "    model.add(tf.keras.layers.Dense(6))\n",
    "\n",
    "    model.compile(loss='mean_squared_error', optimizer='adam', metrics=[coeff_determination,'mean_squared_error'])\n",
    "    \n",
    "    history = model.fit(X, Y, epochs=40, batch_size=32, verbose=1, validation_split=0.3)\n",
    "    \n",
    "    model.save('./models/best_lera_1.h5')\n",
    "    \n",
    "print(model.summary())"
   ]
  },
  {
   "cell_type": "markdown",
   "id": "beaa204b",
   "metadata": {
    "cellId": "51rjdco7y5wswhgu2usxc"
   },
   "source": [
    "## 5. Model Perfomence Plot"
   ]
  },
  {
   "cell_type": "code",
   "execution_count": 203,
   "id": "bf1d705d",
   "metadata": {
    "cellId": "jxj62kasenr5kurmhnlqq7"
   },
   "outputs": [],
   "source": [
    "#!g1.1\n",
    "xtest, ytest = get_train_data(data_folder='TestData')"
   ]
  },
  {
   "cell_type": "code",
   "execution_count": 204,
   "id": "b346ed6b",
   "metadata": {
    "cellId": "05r40uf5vuqrdlme3o3jh7"
   },
   "outputs": [
    {
     "name": "stderr",
     "output_type": "stream",
     "text": [
      "Failed to deserialize variable 'history'. Run the following code to delete it:\n",
      "  del_datasphere_variables('history', 'model')\n",
      "Traceback (most recent call last):\n",
      "  File \"/kernel/lib/python3.8/site-packages/ml_kernel/state/state_protocol.py\", line 283, in _load_component\n",
      "    value = unpickler.load()\n",
      "  File \"/kernel/lib/python3.8/site-packages/ipystate/impl/dispatch/tensorflow.py\", line 21, in _make_model\n",
      "    **saving_utils.compile_args_from_training_config(\n",
      "  File \"/usr/local/lib/python3.8/dist-packages/tensorflow/python/keras/saving/saving_utils.py\", line 219, in compile_args_from_training_config\n",
      "    metrics = _deserialize_nested_config(_deserialize_metric, metrics_config)\n",
      "  File \"/usr/local/lib/python3.8/dist-packages/tensorflow/python/keras/saving/saving_utils.py\", line 261, in _deserialize_nested_config\n",
      "    return [_deserialize_nested_config(deserialize_fn, obj) for obj in config]\n",
      "  File \"/usr/local/lib/python3.8/dist-packages/tensorflow/python/keras/saving/saving_utils.py\", line 261, in <listcomp>\n",
      "    return [_deserialize_nested_config(deserialize_fn, obj) for obj in config]\n",
      "  File \"/usr/local/lib/python3.8/dist-packages/tensorflow/python/keras/saving/saving_utils.py\", line 261, in _deserialize_nested_config\n",
      "    return [_deserialize_nested_config(deserialize_fn, obj) for obj in config]\n",
      "  File \"/usr/local/lib/python3.8/dist-packages/tensorflow/python/keras/saving/saving_utils.py\", line 261, in <listcomp>\n",
      "    return [_deserialize_nested_config(deserialize_fn, obj) for obj in config]\n",
      "  File \"/usr/local/lib/python3.8/dist-packages/tensorflow/python/keras/saving/saving_utils.py\", line 254, in _deserialize_nested_config\n",
      "    return deserialize_fn(config)\n",
      "  File \"/usr/local/lib/python3.8/dist-packages/tensorflow/python/keras/saving/saving_utils.py\", line 284, in _deserialize_metric\n",
      "    return metrics_module.deserialize(metric_config)\n",
      "  File \"/usr/local/lib/python3.8/dist-packages/tensorflow/python/keras/metrics.py\", line 3650, in deserialize\n",
      "    return deserialize_keras_object(\n",
      "  File \"/usr/local/lib/python3.8/dist-packages/tensorflow/python/keras/utils/generic_utils.py\", line 681, in deserialize_keras_object\n",
      "    deserialized_obj = cls.from_config(cls_config)\n",
      "  File \"/usr/local/lib/python3.8/dist-packages/tensorflow/python/keras/metrics.py\", line 698, in from_config\n",
      "    return cls(get(fn), **config)\n",
      "  File \"/usr/local/lib/python3.8/dist-packages/tensorflow/python/keras/metrics.py\", line 3694, in get\n",
      "    return deserialize(str(identifier))\n",
      "  File \"/usr/local/lib/python3.8/dist-packages/tensorflow/python/keras/metrics.py\", line 3650, in deserialize\n",
      "    return deserialize_keras_object(\n",
      "  File \"/usr/local/lib/python3.8/dist-packages/tensorflow/python/keras/utils/generic_utils.py\", line 704, in deserialize_keras_object\n",
      "    raise ValueError(\n",
      "ValueError: Unknown metric function: coeff_determination. Please ensure this object is passed to the `custom_objects` argument. See https://www.tensorflow.org/guide/keras/save_and_serialize#registering_the_custom_object for details.\n",
      "\n",
      "The above exception was the direct cause of the following exception:\n",
      "\n",
      "ml_kernel.state.state_protocol.KernelStateProtocol.DeserializationException: ['history', 'model']\n",
      "Failed to deserialize variable 'history'. Run the following code to delete it:\n",
      "  del_datasphere_variables('history', 'model')\n",
      "Traceback (most recent call last):\n",
      "  File \"/kernel/lib/python3.8/site-packages/ml_kernel/state/state_protocol.py\", line 283, in _load_component\n",
      "    value = unpickler.load()\n",
      "  File \"/kernel/lib/python3.8/site-packages/ipystate/impl/dispatch/tensorflow.py\", line 21, in _make_model\n",
      "    **saving_utils.compile_args_from_training_config(\n",
      "  File \"/usr/local/lib/python3.8/dist-packages/tensorflow/python/keras/saving/saving_utils.py\", line 219, in compile_args_from_training_config\n",
      "    metrics = _deserialize_nested_config(_deserialize_metric, metrics_config)\n",
      "  File \"/usr/local/lib/python3.8/dist-packages/tensorflow/python/keras/saving/saving_utils.py\", line 261, in _deserialize_nested_config\n",
      "    return [_deserialize_nested_config(deserialize_fn, obj) for obj in config]\n",
      "  File \"/usr/local/lib/python3.8/dist-packages/tensorflow/python/keras/saving/saving_utils.py\", line 261, in <listcomp>\n",
      "    return [_deserialize_nested_config(deserialize_fn, obj) for obj in config]\n",
      "  File \"/usr/local/lib/python3.8/dist-packages/tensorflow/python/keras/saving/saving_utils.py\", line 261, in _deserialize_nested_config\n",
      "    return [_deserialize_nested_config(deserialize_fn, obj) for obj in config]\n",
      "  File \"/usr/local/lib/python3.8/dist-packages/tensorflow/python/keras/saving/saving_utils.py\", line 261, in <listcomp>\n",
      "    return [_deserialize_nested_config(deserialize_fn, obj) for obj in config]\n",
      "  File \"/usr/local/lib/python3.8/dist-packages/tensorflow/python/keras/saving/saving_utils.py\", line 254, in _deserialize_nested_config\n",
      "    return deserialize_fn(config)\n",
      "  File \"/usr/local/lib/python3.8/dist-packages/tensorflow/python/keras/saving/saving_utils.py\", line 284, in _deserialize_metric\n",
      "    return metrics_module.deserialize(metric_config)\n",
      "  File \"/usr/local/lib/python3.8/dist-packages/tensorflow/python/keras/metrics.py\", line 3650, in deserialize\n",
      "    return deserialize_keras_object(\n",
      "  File \"/usr/local/lib/python3.8/dist-packages/tensorflow/python/keras/utils/generic_utils.py\", line 681, in deserialize_keras_object\n",
      "    deserialized_obj = cls.from_config(cls_config)\n",
      "  File \"/usr/local/lib/python3.8/dist-packages/tensorflow/python/keras/metrics.py\", line 698, in from_config\n",
      "    return cls(get(fn), **config)\n",
      "  File \"/usr/local/lib/python3.8/dist-packages/tensorflow/python/keras/metrics.py\", line 3694, in get\n",
      "    return deserialize(str(identifier))\n",
      "  File \"/usr/local/lib/python3.8/dist-packages/tensorflow/python/keras/metrics.py\", line 3650, in deserialize\n",
      "    return deserialize_keras_object(\n",
      "  File \"/usr/local/lib/python3.8/dist-packages/tensorflow/python/keras/utils/generic_utils.py\", line 704, in deserialize_keras_object\n",
      "    raise ValueError(\n",
      "ValueError: Unknown metric function: coeff_determination. Please ensure this object is passed to the `custom_objects` argument. See https://www.tensorflow.org/guide/keras/save_and_serialize#registering_the_custom_object for details.\n",
      "\n",
      "The above exception was the direct cause of the following exception:\n",
      "\n",
      "ml_kernel.state.state_protocol.KernelStateProtocol.DeserializationException: ['history', 'model']\n"
     ]
    },
    {
     "ename": "NameError",
     "evalue": "name 'history' is not defined",
     "output_type": "error",
     "traceback": [
      "\u001b[0;31m---------------------------------------------------------------------------\u001b[0m",
      "\u001b[0;31mNameError\u001b[0m                                 Traceback (most recent call last)",
      "\u001b[0;32m<ipython-input-27-5181f5563fa5>\u001b[0m in \u001b[0;36m<module>\u001b[0;34m\u001b[0m\n\u001b[1;32m      1\u001b[0m \u001b[0;32mif\u001b[0m \u001b[0mtrain\u001b[0m\u001b[0;34m:\u001b[0m\u001b[0;34m\u001b[0m\u001b[0;34m\u001b[0m\u001b[0m\n\u001b[0;32m----> 2\u001b[0;31m     \u001b[0mplt\u001b[0m\u001b[0;34m.\u001b[0m\u001b[0mplot\u001b[0m\u001b[0;34m(\u001b[0m\u001b[0mnp\u001b[0m\u001b[0;34m.\u001b[0m\u001b[0marange\u001b[0m\u001b[0;34m(\u001b[0m\u001b[0mlen\u001b[0m\u001b[0;34m(\u001b[0m\u001b[0mhistory\u001b[0m\u001b[0;34m.\u001b[0m\u001b[0mhistory\u001b[0m\u001b[0;34m.\u001b[0m\u001b[0mget\u001b[0m\u001b[0;34m(\u001b[0m\u001b[0;34m'loss'\u001b[0m\u001b[0;34m)\u001b[0m\u001b[0;34m)\u001b[0m\u001b[0;34m)\u001b[0m\u001b[0;34m,\u001b[0m\u001b[0mhistory\u001b[0m\u001b[0;34m.\u001b[0m\u001b[0mhistory\u001b[0m\u001b[0;34m.\u001b[0m\u001b[0mget\u001b[0m\u001b[0;34m(\u001b[0m\u001b[0;34m'loss'\u001b[0m\u001b[0;34m)\u001b[0m\u001b[0;34m,\u001b[0m \u001b[0mlabel\u001b[0m\u001b[0;34m=\u001b[0m\u001b[0;34m'Train loss'\u001b[0m\u001b[0;34m)\u001b[0m\u001b[0;34m\u001b[0m\u001b[0;34m\u001b[0m\u001b[0m\n\u001b[0m\u001b[1;32m      3\u001b[0m     \u001b[0mplt\u001b[0m\u001b[0;34m.\u001b[0m\u001b[0mplot\u001b[0m\u001b[0;34m(\u001b[0m\u001b[0mnp\u001b[0m\u001b[0;34m.\u001b[0m\u001b[0marange\u001b[0m\u001b[0;34m(\u001b[0m\u001b[0mlen\u001b[0m\u001b[0;34m(\u001b[0m\u001b[0mhistory\u001b[0m\u001b[0;34m.\u001b[0m\u001b[0mhistory\u001b[0m\u001b[0;34m.\u001b[0m\u001b[0mget\u001b[0m\u001b[0;34m(\u001b[0m\u001b[0;34m'val_loss'\u001b[0m\u001b[0;34m)\u001b[0m\u001b[0;34m)\u001b[0m\u001b[0;34m)\u001b[0m\u001b[0;34m,\u001b[0m\u001b[0mhistory\u001b[0m\u001b[0;34m.\u001b[0m\u001b[0mhistory\u001b[0m\u001b[0;34m.\u001b[0m\u001b[0mget\u001b[0m\u001b[0;34m(\u001b[0m\u001b[0;34m'val_loss'\u001b[0m\u001b[0;34m)\u001b[0m\u001b[0;34m,\u001b[0m \u001b[0mlabel\u001b[0m\u001b[0;34m=\u001b[0m\u001b[0;34m'Val loss'\u001b[0m\u001b[0;34m)\u001b[0m\u001b[0;34m\u001b[0m\u001b[0;34m\u001b[0m\u001b[0m\n\u001b[1;32m      4\u001b[0m     \u001b[0mplt\u001b[0m\u001b[0;34m.\u001b[0m\u001b[0mlegend\u001b[0m\u001b[0;34m(\u001b[0m\u001b[0;34m)\u001b[0m\u001b[0;34m\u001b[0m\u001b[0;34m\u001b[0m\u001b[0m\n\u001b[1;32m      5\u001b[0m     \u001b[0mplt\u001b[0m\u001b[0;34m.\u001b[0m\u001b[0mxlabel\u001b[0m\u001b[0;34m(\u001b[0m\u001b[0;34m'Epoch'\u001b[0m\u001b[0;34m)\u001b[0m\u001b[0;34m\u001b[0m\u001b[0;34m\u001b[0m\u001b[0m\n",
      "\u001b[0;31mNameError\u001b[0m: name 'history' is not defined"
     ]
    }
   ],
   "source": [
    "#!g1.1\n",
    "if train:\n",
    "    plt.plot(np.arange(len(history.history.get('loss'))),history.history.get('loss'), label='Train loss')\n",
    "    plt.plot(np.arange(len(history.history.get('val_loss'))),history.history.get('val_loss'), label='Val loss')\n",
    "    plt.legend()\n",
    "    plt.xlabel('Epoch')\n",
    "    plt.ylabel('MSE loss')\n",
    "    plt.title('MSE loss')\n",
    "    plt.show()\n",
    "    \n",
    "    plt.plot(np.arange(len(history.history.get('loss'))),history.history.get('coeff_determination'), label='Train $R^2$')\n",
    "    plt.plot(np.arange(len(history.history.get('val_loss'))),history.history.get('val_coeff_determination'), label='Val $R^2$')\n",
    "    plt.legend()\n",
    "    plt.xlabel('Epoch')\n",
    "    plt.ylabel('$R^2$')\n",
    "    plt.title('Coefficient of Determination $R^2$')\n",
    "    plt.show()"
   ]
  },
  {
   "cell_type": "code",
   "execution_count": 205,
   "id": "a3018dbd",
   "metadata": {
    "cellId": "r4h8opjyqf8g0mjzcjfe6i"
   },
   "outputs": [
    {
     "name": "stderr",
     "output_type": "stream",
     "text": [
      "Failed to deserialize variable 'model'. Run the following code to delete it:\n",
      "  del_datasphere_variables('history', 'model')\n",
      "Traceback (most recent call last):\n",
      "  File \"/kernel/lib/python3.8/site-packages/ml_kernel/state/state_protocol.py\", line 283, in _load_component\n",
      "    value = unpickler.load()\n",
      "  File \"/kernel/lib/python3.8/site-packages/ipystate/impl/dispatch/tensorflow.py\", line 21, in _make_model\n",
      "    **saving_utils.compile_args_from_training_config(\n",
      "  File \"/usr/local/lib/python3.8/dist-packages/tensorflow/python/keras/saving/saving_utils.py\", line 219, in compile_args_from_training_config\n",
      "    metrics = _deserialize_nested_config(_deserialize_metric, metrics_config)\n",
      "  File \"/usr/local/lib/python3.8/dist-packages/tensorflow/python/keras/saving/saving_utils.py\", line 261, in _deserialize_nested_config\n",
      "    return [_deserialize_nested_config(deserialize_fn, obj) for obj in config]\n",
      "  File \"/usr/local/lib/python3.8/dist-packages/tensorflow/python/keras/saving/saving_utils.py\", line 261, in <listcomp>\n",
      "    return [_deserialize_nested_config(deserialize_fn, obj) for obj in config]\n",
      "  File \"/usr/local/lib/python3.8/dist-packages/tensorflow/python/keras/saving/saving_utils.py\", line 261, in _deserialize_nested_config\n",
      "    return [_deserialize_nested_config(deserialize_fn, obj) for obj in config]\n",
      "  File \"/usr/local/lib/python3.8/dist-packages/tensorflow/python/keras/saving/saving_utils.py\", line 261, in <listcomp>\n",
      "    return [_deserialize_nested_config(deserialize_fn, obj) for obj in config]\n",
      "  File \"/usr/local/lib/python3.8/dist-packages/tensorflow/python/keras/saving/saving_utils.py\", line 254, in _deserialize_nested_config\n",
      "    return deserialize_fn(config)\n",
      "  File \"/usr/local/lib/python3.8/dist-packages/tensorflow/python/keras/saving/saving_utils.py\", line 284, in _deserialize_metric\n",
      "    return metrics_module.deserialize(metric_config)\n",
      "  File \"/usr/local/lib/python3.8/dist-packages/tensorflow/python/keras/metrics.py\", line 3650, in deserialize\n",
      "    return deserialize_keras_object(\n",
      "  File \"/usr/local/lib/python3.8/dist-packages/tensorflow/python/keras/utils/generic_utils.py\", line 681, in deserialize_keras_object\n",
      "    deserialized_obj = cls.from_config(cls_config)\n",
      "  File \"/usr/local/lib/python3.8/dist-packages/tensorflow/python/keras/metrics.py\", line 698, in from_config\n",
      "    return cls(get(fn), **config)\n",
      "  File \"/usr/local/lib/python3.8/dist-packages/tensorflow/python/keras/metrics.py\", line 3694, in get\n",
      "    return deserialize(str(identifier))\n",
      "  File \"/usr/local/lib/python3.8/dist-packages/tensorflow/python/keras/metrics.py\", line 3650, in deserialize\n",
      "    return deserialize_keras_object(\n",
      "  File \"/usr/local/lib/python3.8/dist-packages/tensorflow/python/keras/utils/generic_utils.py\", line 704, in deserialize_keras_object\n",
      "    raise ValueError(\n",
      "ValueError: Unknown metric function: coeff_determination. Please ensure this object is passed to the `custom_objects` argument. See https://www.tensorflow.org/guide/keras/save_and_serialize#registering_the_custom_object for details.\n",
      "\n",
      "The above exception was the direct cause of the following exception:\n",
      "\n",
      "ml_kernel.state.state_protocol.KernelStateProtocol.DeserializationException: ['history', 'model']\n",
      "Failed to deserialize variable 'model'. Run the following code to delete it:\n",
      "  del_datasphere_variables('history', 'model')\n",
      "Traceback (most recent call last):\n",
      "  File \"/kernel/lib/python3.8/site-packages/ml_kernel/state/state_protocol.py\", line 283, in _load_component\n",
      "    value = unpickler.load()\n",
      "  File \"/kernel/lib/python3.8/site-packages/ipystate/impl/dispatch/tensorflow.py\", line 21, in _make_model\n",
      "    **saving_utils.compile_args_from_training_config(\n",
      "  File \"/usr/local/lib/python3.8/dist-packages/tensorflow/python/keras/saving/saving_utils.py\", line 219, in compile_args_from_training_config\n",
      "    metrics = _deserialize_nested_config(_deserialize_metric, metrics_config)\n",
      "  File \"/usr/local/lib/python3.8/dist-packages/tensorflow/python/keras/saving/saving_utils.py\", line 261, in _deserialize_nested_config\n",
      "    return [_deserialize_nested_config(deserialize_fn, obj) for obj in config]\n",
      "  File \"/usr/local/lib/python3.8/dist-packages/tensorflow/python/keras/saving/saving_utils.py\", line 261, in <listcomp>\n",
      "    return [_deserialize_nested_config(deserialize_fn, obj) for obj in config]\n",
      "  File \"/usr/local/lib/python3.8/dist-packages/tensorflow/python/keras/saving/saving_utils.py\", line 261, in _deserialize_nested_config\n",
      "    return [_deserialize_nested_config(deserialize_fn, obj) for obj in config]\n",
      "  File \"/usr/local/lib/python3.8/dist-packages/tensorflow/python/keras/saving/saving_utils.py\", line 261, in <listcomp>\n",
      "    return [_deserialize_nested_config(deserialize_fn, obj) for obj in config]\n",
      "  File \"/usr/local/lib/python3.8/dist-packages/tensorflow/python/keras/saving/saving_utils.py\", line 254, in _deserialize_nested_config\n",
      "    return deserialize_fn(config)\n",
      "  File \"/usr/local/lib/python3.8/dist-packages/tensorflow/python/keras/saving/saving_utils.py\", line 284, in _deserialize_metric\n",
      "    return metrics_module.deserialize(metric_config)\n",
      "  File \"/usr/local/lib/python3.8/dist-packages/tensorflow/python/keras/metrics.py\", line 3650, in deserialize\n",
      "    return deserialize_keras_object(\n",
      "  File \"/usr/local/lib/python3.8/dist-packages/tensorflow/python/keras/utils/generic_utils.py\", line 681, in deserialize_keras_object\n",
      "    deserialized_obj = cls.from_config(cls_config)\n",
      "  File \"/usr/local/lib/python3.8/dist-packages/tensorflow/python/keras/metrics.py\", line 698, in from_config\n",
      "    return cls(get(fn), **config)\n",
      "  File \"/usr/local/lib/python3.8/dist-packages/tensorflow/python/keras/metrics.py\", line 3694, in get\n",
      "    return deserialize(str(identifier))\n",
      "  File \"/usr/local/lib/python3.8/dist-packages/tensorflow/python/keras/metrics.py\", line 3650, in deserialize\n",
      "    return deserialize_keras_object(\n",
      "  File \"/usr/local/lib/python3.8/dist-packages/tensorflow/python/keras/utils/generic_utils.py\", line 704, in deserialize_keras_object\n",
      "    raise ValueError(\n",
      "ValueError: Unknown metric function: coeff_determination. Please ensure this object is passed to the `custom_objects` argument. See https://www.tensorflow.org/guide/keras/save_and_serialize#registering_the_custom_object for details.\n",
      "\n",
      "The above exception was the direct cause of the following exception:\n",
      "\n",
      "ml_kernel.state.state_protocol.KernelStateProtocol.DeserializationException: ['history', 'model']\n"
     ]
    },
    {
     "ename": "NameError",
     "evalue": "name 'model' is not defined",
     "output_type": "error",
     "traceback": [
      "\u001b[0;31m---------------------------------------------------------------------------\u001b[0m",
      "\u001b[0;31mNameError\u001b[0m                                 Traceback (most recent call last)",
      "\u001b[0;32m<ipython-input-28-3779878d88b0>\u001b[0m in \u001b[0;36m<module>\u001b[0;34m\u001b[0m\n\u001b[0;32m----> 1\u001b[0;31m \u001b[0mmodel\u001b[0m\u001b[0;34m.\u001b[0m\u001b[0mevaluate\u001b[0m\u001b[0;34m(\u001b[0m\u001b[0mxtest\u001b[0m\u001b[0;34m,\u001b[0m\u001b[0mytest\u001b[0m\u001b[0;34m)\u001b[0m\u001b[0;34m\u001b[0m\u001b[0;34m\u001b[0m\u001b[0m\n\u001b[0m\u001b[1;32m      2\u001b[0m \u001b[0;31m#\u001b[0m\u001b[0;34m\u001b[0m\u001b[0;34m\u001b[0m\u001b[0;34m\u001b[0m\u001b[0m\n",
      "\u001b[0;31mNameError\u001b[0m: name 'model' is not defined"
     ]
    }
   ],
   "source": [
    "#!g1.1\n",
    "model.evaluate(xtest,ytest)"
   ]
  },
  {
   "cell_type": "code",
   "execution_count": 206,
   "id": "5c73bbcd",
   "metadata": {
    "cellId": "fry5224jgulf787bjksoai"
   },
   "outputs": [
    {
     "name": "stderr",
     "output_type": "stream",
     "text": [
      "Failed to deserialize variable 'model'. Run the following code to delete it:\n",
      "  del_datasphere_variables('history', 'model')\n",
      "Traceback (most recent call last):\n",
      "  File \"/kernel/lib/python3.8/site-packages/ml_kernel/state/state_protocol.py\", line 283, in _load_component\n",
      "    value = unpickler.load()\n",
      "  File \"/kernel/lib/python3.8/site-packages/ipystate/impl/dispatch/tensorflow.py\", line 21, in _make_model\n",
      "    **saving_utils.compile_args_from_training_config(\n",
      "  File \"/usr/local/lib/python3.8/dist-packages/tensorflow/python/keras/saving/saving_utils.py\", line 219, in compile_args_from_training_config\n",
      "    metrics = _deserialize_nested_config(_deserialize_metric, metrics_config)\n",
      "  File \"/usr/local/lib/python3.8/dist-packages/tensorflow/python/keras/saving/saving_utils.py\", line 261, in _deserialize_nested_config\n",
      "    return [_deserialize_nested_config(deserialize_fn, obj) for obj in config]\n",
      "  File \"/usr/local/lib/python3.8/dist-packages/tensorflow/python/keras/saving/saving_utils.py\", line 261, in <listcomp>\n",
      "    return [_deserialize_nested_config(deserialize_fn, obj) for obj in config]\n",
      "  File \"/usr/local/lib/python3.8/dist-packages/tensorflow/python/keras/saving/saving_utils.py\", line 261, in _deserialize_nested_config\n",
      "    return [_deserialize_nested_config(deserialize_fn, obj) for obj in config]\n",
      "  File \"/usr/local/lib/python3.8/dist-packages/tensorflow/python/keras/saving/saving_utils.py\", line 261, in <listcomp>\n",
      "    return [_deserialize_nested_config(deserialize_fn, obj) for obj in config]\n",
      "  File \"/usr/local/lib/python3.8/dist-packages/tensorflow/python/keras/saving/saving_utils.py\", line 254, in _deserialize_nested_config\n",
      "    return deserialize_fn(config)\n",
      "  File \"/usr/local/lib/python3.8/dist-packages/tensorflow/python/keras/saving/saving_utils.py\", line 284, in _deserialize_metric\n",
      "    return metrics_module.deserialize(metric_config)\n",
      "  File \"/usr/local/lib/python3.8/dist-packages/tensorflow/python/keras/metrics.py\", line 3650, in deserialize\n",
      "    return deserialize_keras_object(\n",
      "  File \"/usr/local/lib/python3.8/dist-packages/tensorflow/python/keras/utils/generic_utils.py\", line 681, in deserialize_keras_object\n",
      "    deserialized_obj = cls.from_config(cls_config)\n",
      "  File \"/usr/local/lib/python3.8/dist-packages/tensorflow/python/keras/metrics.py\", line 698, in from_config\n",
      "    return cls(get(fn), **config)\n",
      "  File \"/usr/local/lib/python3.8/dist-packages/tensorflow/python/keras/metrics.py\", line 3694, in get\n",
      "    return deserialize(str(identifier))\n",
      "  File \"/usr/local/lib/python3.8/dist-packages/tensorflow/python/keras/metrics.py\", line 3650, in deserialize\n",
      "    return deserialize_keras_object(\n",
      "  File \"/usr/local/lib/python3.8/dist-packages/tensorflow/python/keras/utils/generic_utils.py\", line 704, in deserialize_keras_object\n",
      "    raise ValueError(\n",
      "ValueError: Unknown metric function: coeff_determination. Please ensure this object is passed to the `custom_objects` argument. See https://www.tensorflow.org/guide/keras/save_and_serialize#registering_the_custom_object for details.\n",
      "\n",
      "The above exception was the direct cause of the following exception:\n",
      "\n",
      "ml_kernel.state.state_protocol.KernelStateProtocol.DeserializationException: ['history', 'model']\n",
      "Failed to deserialize variable 'model'. Run the following code to delete it:\n",
      "  del_datasphere_variables('history', 'model')\n",
      "Traceback (most recent call last):\n",
      "  File \"/kernel/lib/python3.8/site-packages/ml_kernel/state/state_protocol.py\", line 283, in _load_component\n",
      "    value = unpickler.load()\n",
      "  File \"/kernel/lib/python3.8/site-packages/ipystate/impl/dispatch/tensorflow.py\", line 21, in _make_model\n",
      "    **saving_utils.compile_args_from_training_config(\n",
      "  File \"/usr/local/lib/python3.8/dist-packages/tensorflow/python/keras/saving/saving_utils.py\", line 219, in compile_args_from_training_config\n",
      "    metrics = _deserialize_nested_config(_deserialize_metric, metrics_config)\n",
      "  File \"/usr/local/lib/python3.8/dist-packages/tensorflow/python/keras/saving/saving_utils.py\", line 261, in _deserialize_nested_config\n",
      "    return [_deserialize_nested_config(deserialize_fn, obj) for obj in config]\n",
      "  File \"/usr/local/lib/python3.8/dist-packages/tensorflow/python/keras/saving/saving_utils.py\", line 261, in <listcomp>\n",
      "    return [_deserialize_nested_config(deserialize_fn, obj) for obj in config]\n",
      "  File \"/usr/local/lib/python3.8/dist-packages/tensorflow/python/keras/saving/saving_utils.py\", line 261, in _deserialize_nested_config\n",
      "    return [_deserialize_nested_config(deserialize_fn, obj) for obj in config]\n",
      "  File \"/usr/local/lib/python3.8/dist-packages/tensorflow/python/keras/saving/saving_utils.py\", line 261, in <listcomp>\n",
      "    return [_deserialize_nested_config(deserialize_fn, obj) for obj in config]\n",
      "  File \"/usr/local/lib/python3.8/dist-packages/tensorflow/python/keras/saving/saving_utils.py\", line 254, in _deserialize_nested_config\n",
      "    return deserialize_fn(config)\n",
      "  File \"/usr/local/lib/python3.8/dist-packages/tensorflow/python/keras/saving/saving_utils.py\", line 284, in _deserialize_metric\n",
      "    return metrics_module.deserialize(metric_config)\n",
      "  File \"/usr/local/lib/python3.8/dist-packages/tensorflow/python/keras/metrics.py\", line 3650, in deserialize\n",
      "    return deserialize_keras_object(\n",
      "  File \"/usr/local/lib/python3.8/dist-packages/tensorflow/python/keras/utils/generic_utils.py\", line 681, in deserialize_keras_object\n",
      "    deserialized_obj = cls.from_config(cls_config)\n",
      "  File \"/usr/local/lib/python3.8/dist-packages/tensorflow/python/keras/metrics.py\", line 698, in from_config\n",
      "    return cls(get(fn), **config)\n",
      "  File \"/usr/local/lib/python3.8/dist-packages/tensorflow/python/keras/metrics.py\", line 3694, in get\n",
      "    return deserialize(str(identifier))\n",
      "  File \"/usr/local/lib/python3.8/dist-packages/tensorflow/python/keras/metrics.py\", line 3650, in deserialize\n",
      "    return deserialize_keras_object(\n",
      "  File \"/usr/local/lib/python3.8/dist-packages/tensorflow/python/keras/utils/generic_utils.py\", line 704, in deserialize_keras_object\n",
      "    raise ValueError(\n",
      "ValueError: Unknown metric function: coeff_determination. Please ensure this object is passed to the `custom_objects` argument. See https://www.tensorflow.org/guide/keras/save_and_serialize#registering_the_custom_object for details.\n",
      "\n",
      "The above exception was the direct cause of the following exception:\n",
      "\n",
      "ml_kernel.state.state_protocol.KernelStateProtocol.DeserializationException: ['history', 'model']\n"
     ]
    },
    {
     "ename": "NameError",
     "evalue": "name 'model' is not defined",
     "output_type": "error",
     "traceback": [
      "\u001b[0;31m---------------------------------------------------------------------------\u001b[0m",
      "\u001b[0;31mNameError\u001b[0m                                 Traceback (most recent call last)",
      "\u001b[0;32m<ipython-input-29-1fd2214487a8>\u001b[0m in \u001b[0;36m<module>\u001b[0;34m\u001b[0m\n\u001b[0;32m----> 1\u001b[0;31m \u001b[0mnp\u001b[0m\u001b[0;34m.\u001b[0m\u001b[0mabs\u001b[0m\u001b[0;34m(\u001b[0m\u001b[0mmodel\u001b[0m\u001b[0;34m.\u001b[0m\u001b[0mpredict\u001b[0m\u001b[0;34m(\u001b[0m\u001b[0mxtest\u001b[0m\u001b[0;34m[\u001b[0m\u001b[0;36m0\u001b[0m\u001b[0;34m]\u001b[0m\u001b[0;34m[\u001b[0m\u001b[0mnp\u001b[0m\u001b[0;34m.\u001b[0m\u001b[0mnewaxis\u001b[0m\u001b[0;34m,\u001b[0m\u001b[0;34m:\u001b[0m\u001b[0;34m]\u001b[0m\u001b[0;34m)\u001b[0m \u001b[0;34m-\u001b[0m \u001b[0mytest\u001b[0m\u001b[0;34m[\u001b[0m\u001b[0;36m0\u001b[0m\u001b[0;34m]\u001b[0m\u001b[0;34m)\u001b[0m\u001b[0;34m\u001b[0m\u001b[0;34m\u001b[0m\u001b[0m\n\u001b[0m\u001b[1;32m      2\u001b[0m \u001b[0;31m#\u001b[0m\u001b[0;34m\u001b[0m\u001b[0;34m\u001b[0m\u001b[0;34m\u001b[0m\u001b[0m\n",
      "\u001b[0;31mNameError\u001b[0m: name 'model' is not defined"
     ]
    }
   ],
   "source": [
    "#!g1.1\n",
    "np.abs(model.predict(xtest[0][np.newaxis,:]) - ytest[0])"
   ]
  },
  {
   "cell_type": "markdown",
   "id": "8bbf107b",
   "metadata": {
    "cellId": "4r63xns2r89hl8tpx6atio"
   },
   "source": [
    "## 6. Plots "
   ]
  },
  {
   "cell_type": "code",
   "execution_count": 18,
   "id": "880dd59f",
   "metadata": {
    "cellId": "b4iumrx7061ssmex39fm8"
   },
   "outputs": [],
   "source": [
    "#!g1.1\n",
    "def make_plot(df, name='predictedplot12_7.png'):\n",
    "    plt.figure(figsize=(15, 6))\n",
    "\n",
    "    plt.xlabel(r'Time t (ms)', fontsize=14)\n",
    "    plt.ylabel(r'Angle θ (degrees)', fontsize=14)\n",
    "\n",
    "\n",
    "    plt.title(f\"Changing the main orientation angles during a lifting task\")\n",
    "    plt.plot(df.index,  df['roll_bt'], 'darkblue')\n",
    "    plt.plot(df.index,  df['roll_bb'], 'blue')\n",
    "\n",
    "    plt.plot(df.index,  df['yaw_rb'], 'green')\n",
    "    plt.plot(df.index,  df['yaw_lb'], 'darkgreen')\n",
    "\n",
    "    plt.plot(df.index,  df['yaw_rt'], 'red')\n",
    "    plt.plot(df.index,  df['yaw_lt'], 'darkred')\n",
    "\n",
    "\n",
    "    plt.legend(('roll_bt','roll_bb','yaw_rb','yaw_lb','yaw_rt','yaw_lt'), loc='lower right')\n",
    "    plt.grid(True)\n",
    "\n",
    "    plt.savefig(name, dpi=400)\n",
    "    \n",
    "    plt.show()"
   ]
  },
  {
   "cell_type": "markdown",
   "id": "b4a94930",
   "metadata": {
    "cellId": "30kxidhfhhvj3s1sblw30n"
   },
   "source": [
    "## 6.1 Plot Predicted sample"
   ]
  },
  {
   "cell_type": "code",
   "execution_count": 178,
   "id": "a2709cec",
   "metadata": {
    "cellId": "rhiabn71sy8kgrlr5usk4c"
   },
   "outputs": [
    {
     "name": "stderr",
     "output_type": "stream",
     "text": [
      "Failed to deserialize variable 'model'. Run the following code to delete it:\n",
      "  del_datasphere_variables('history', 'model')\n",
      "Traceback (most recent call last):\n",
      "  File \"/kernel/lib/python3.8/site-packages/ml_kernel/state/state_protocol.py\", line 283, in _load_component\n",
      "    value = unpickler.load()\n",
      "  File \"/kernel/lib/python3.8/site-packages/ipystate/impl/dispatch/tensorflow.py\", line 21, in _make_model\n",
      "    **saving_utils.compile_args_from_training_config(\n",
      "  File \"/usr/local/lib/python3.8/dist-packages/tensorflow/python/keras/saving/saving_utils.py\", line 219, in compile_args_from_training_config\n",
      "    metrics = _deserialize_nested_config(_deserialize_metric, metrics_config)\n",
      "  File \"/usr/local/lib/python3.8/dist-packages/tensorflow/python/keras/saving/saving_utils.py\", line 261, in _deserialize_nested_config\n",
      "    return [_deserialize_nested_config(deserialize_fn, obj) for obj in config]\n",
      "  File \"/usr/local/lib/python3.8/dist-packages/tensorflow/python/keras/saving/saving_utils.py\", line 261, in <listcomp>\n",
      "    return [_deserialize_nested_config(deserialize_fn, obj) for obj in config]\n",
      "  File \"/usr/local/lib/python3.8/dist-packages/tensorflow/python/keras/saving/saving_utils.py\", line 261, in _deserialize_nested_config\n",
      "    return [_deserialize_nested_config(deserialize_fn, obj) for obj in config]\n",
      "  File \"/usr/local/lib/python3.8/dist-packages/tensorflow/python/keras/saving/saving_utils.py\", line 261, in <listcomp>\n",
      "    return [_deserialize_nested_config(deserialize_fn, obj) for obj in config]\n",
      "  File \"/usr/local/lib/python3.8/dist-packages/tensorflow/python/keras/saving/saving_utils.py\", line 254, in _deserialize_nested_config\n",
      "    return deserialize_fn(config)\n",
      "  File \"/usr/local/lib/python3.8/dist-packages/tensorflow/python/keras/saving/saving_utils.py\", line 284, in _deserialize_metric\n",
      "    return metrics_module.deserialize(metric_config)\n",
      "  File \"/usr/local/lib/python3.8/dist-packages/tensorflow/python/keras/metrics.py\", line 3650, in deserialize\n",
      "    return deserialize_keras_object(\n",
      "  File \"/usr/local/lib/python3.8/dist-packages/tensorflow/python/keras/utils/generic_utils.py\", line 681, in deserialize_keras_object\n",
      "    deserialized_obj = cls.from_config(cls_config)\n",
      "  File \"/usr/local/lib/python3.8/dist-packages/tensorflow/python/keras/metrics.py\", line 698, in from_config\n",
      "    return cls(get(fn), **config)\n",
      "  File \"/usr/local/lib/python3.8/dist-packages/tensorflow/python/keras/metrics.py\", line 3694, in get\n",
      "    return deserialize(str(identifier))\n",
      "  File \"/usr/local/lib/python3.8/dist-packages/tensorflow/python/keras/metrics.py\", line 3650, in deserialize\n",
      "    return deserialize_keras_object(\n",
      "  File \"/usr/local/lib/python3.8/dist-packages/tensorflow/python/keras/utils/generic_utils.py\", line 704, in deserialize_keras_object\n",
      "    raise ValueError(\n",
      "ValueError: Unknown metric function: coeff_determination. Please ensure this object is passed to the `custom_objects` argument. See https://www.tensorflow.org/guide/keras/save_and_serialize#registering_the_custom_object for details.\n",
      "\n",
      "The above exception was the direct cause of the following exception:\n",
      "\n",
      "ml_kernel.state.state_protocol.KernelStateProtocol.DeserializationException: ['history', 'model']\n",
      "Failed to deserialize variable 'model'. Run the following code to delete it:\n",
      "  del_datasphere_variables('history', 'model')\n",
      "Traceback (most recent call last):\n",
      "  File \"/kernel/lib/python3.8/site-packages/ml_kernel/state/state_protocol.py\", line 283, in _load_component\n",
      "    value = unpickler.load()\n",
      "  File \"/kernel/lib/python3.8/site-packages/ipystate/impl/dispatch/tensorflow.py\", line 21, in _make_model\n",
      "    **saving_utils.compile_args_from_training_config(\n",
      "  File \"/usr/local/lib/python3.8/dist-packages/tensorflow/python/keras/saving/saving_utils.py\", line 219, in compile_args_from_training_config\n",
      "    metrics = _deserialize_nested_config(_deserialize_metric, metrics_config)\n",
      "  File \"/usr/local/lib/python3.8/dist-packages/tensorflow/python/keras/saving/saving_utils.py\", line 261, in _deserialize_nested_config\n",
      "    return [_deserialize_nested_config(deserialize_fn, obj) for obj in config]\n",
      "  File \"/usr/local/lib/python3.8/dist-packages/tensorflow/python/keras/saving/saving_utils.py\", line 261, in <listcomp>\n",
      "    return [_deserialize_nested_config(deserialize_fn, obj) for obj in config]\n",
      "  File \"/usr/local/lib/python3.8/dist-packages/tensorflow/python/keras/saving/saving_utils.py\", line 261, in _deserialize_nested_config\n",
      "    return [_deserialize_nested_config(deserialize_fn, obj) for obj in config]\n",
      "  File \"/usr/local/lib/python3.8/dist-packages/tensorflow/python/keras/saving/saving_utils.py\", line 261, in <listcomp>\n",
      "    return [_deserialize_nested_config(deserialize_fn, obj) for obj in config]\n",
      "  File \"/usr/local/lib/python3.8/dist-packages/tensorflow/python/keras/saving/saving_utils.py\", line 254, in _deserialize_nested_config\n",
      "    return deserialize_fn(config)\n",
      "  File \"/usr/local/lib/python3.8/dist-packages/tensorflow/python/keras/saving/saving_utils.py\", line 284, in _deserialize_metric\n",
      "    return metrics_module.deserialize(metric_config)\n",
      "  File \"/usr/local/lib/python3.8/dist-packages/tensorflow/python/keras/metrics.py\", line 3650, in deserialize\n",
      "    return deserialize_keras_object(\n",
      "  File \"/usr/local/lib/python3.8/dist-packages/tensorflow/python/keras/utils/generic_utils.py\", line 681, in deserialize_keras_object\n",
      "    deserialized_obj = cls.from_config(cls_config)\n",
      "  File \"/usr/local/lib/python3.8/dist-packages/tensorflow/python/keras/metrics.py\", line 698, in from_config\n",
      "    return cls(get(fn), **config)\n",
      "  File \"/usr/local/lib/python3.8/dist-packages/tensorflow/python/keras/metrics.py\", line 3694, in get\n",
      "    return deserialize(str(identifier))\n",
      "  File \"/usr/local/lib/python3.8/dist-packages/tensorflow/python/keras/metrics.py\", line 3650, in deserialize\n",
      "    return deserialize_keras_object(\n",
      "  File \"/usr/local/lib/python3.8/dist-packages/tensorflow/python/keras/utils/generic_utils.py\", line 704, in deserialize_keras_object\n",
      "    raise ValueError(\n",
      "ValueError: Unknown metric function: coeff_determination. Please ensure this object is passed to the `custom_objects` argument. See https://www.tensorflow.org/guide/keras/save_and_serialize#registering_the_custom_object for details.\n",
      "\n",
      "The above exception was the direct cause of the following exception:\n",
      "\n",
      "ml_kernel.state.state_protocol.KernelStateProtocol.DeserializationException: ['history', 'model']\n"
     ]
    },
    {
     "ename": "NameError",
     "evalue": "name 'model' is not defined",
     "output_type": "error",
     "traceback": [
      "\u001b[0;31m---------------------------------------------------------------------------\u001b[0m",
      "\u001b[0;31mNameError\u001b[0m                                 Traceback (most recent call last)",
      "\u001b[0;32m<ipython-input-1-b1bf2956266d>\u001b[0m in \u001b[0;36m<module>\u001b[0;34m\u001b[0m\n\u001b[1;32m      1\u001b[0m \u001b[0mxplot\u001b[0m\u001b[0;34m,\u001b[0m \u001b[0m_\u001b[0m \u001b[0;34m=\u001b[0m \u001b[0mget_train_data\u001b[0m\u001b[0;34m(\u001b[0m\u001b[0mdata_folder\u001b[0m\u001b[0;34m=\u001b[0m\u001b[0;34m'Plots'\u001b[0m\u001b[0;34m)\u001b[0m\u001b[0;34m\u001b[0m\u001b[0;34m\u001b[0m\u001b[0m\n\u001b[0;32m----> 2\u001b[0;31m \u001b[0mplotData\u001b[0m \u001b[0;34m=\u001b[0m \u001b[0mmodel\u001b[0m\u001b[0;34m.\u001b[0m\u001b[0mpredict\u001b[0m\u001b[0;34m(\u001b[0m\u001b[0mxplot\u001b[0m\u001b[0;34m)\u001b[0m\u001b[0;34m\u001b[0m\u001b[0;34m\u001b[0m\u001b[0m\n\u001b[0m\u001b[1;32m      3\u001b[0m \u001b[0;34m\u001b[0m\u001b[0m\n\u001b[1;32m      4\u001b[0m \u001b[0mtest_plot\u001b[0m \u001b[0;34m=\u001b[0m \u001b[0mpd\u001b[0m\u001b[0;34m.\u001b[0m\u001b[0mDataFrame\u001b[0m\u001b[0;34m(\u001b[0m\u001b[0mplotData\u001b[0m\u001b[0;34m)\u001b[0m\u001b[0;34m\u001b[0m\u001b[0;34m\u001b[0m\u001b[0m\n\u001b[1;32m      5\u001b[0m \u001b[0mtest_plot\u001b[0m\u001b[0;34m.\u001b[0m\u001b[0mcolumns\u001b[0m\u001b[0;34m=\u001b[0m \u001b[0;34m[\u001b[0m\u001b[0;34m'roll_bt'\u001b[0m\u001b[0;34m,\u001b[0m\u001b[0;34m'roll_bb'\u001b[0m\u001b[0;34m,\u001b[0m\u001b[0;34m'yaw_lt'\u001b[0m\u001b[0;34m,\u001b[0m\u001b[0;34m'yaw_lb'\u001b[0m\u001b[0;34m,\u001b[0m\u001b[0;34m'yaw_rt'\u001b[0m\u001b[0;34m,\u001b[0m\u001b[0;34m'yaw_rb'\u001b[0m\u001b[0;34m]\u001b[0m\u001b[0;34m\u001b[0m\u001b[0;34m\u001b[0m\u001b[0m\n",
      "\u001b[0;31mNameError\u001b[0m: name 'model' is not defined"
     ]
    }
   ],
   "source": [
    "#!g1.1\n",
    "xplot, _ = get_train_data(data_folder='Plots')\n",
    "plotData = model.predict(xplot)\n",
    "\n",
    "test_plot = pd.DataFrame(plotData)\n",
    "test_plot.columns= ['roll_bt','roll_bb','yaw_lt','yaw_lb','yaw_rt','yaw_rb']\n",
    "\n",
    "test_plot.head()\n",
    "\n",
    "make_plot(test_plot, 'p11redictedplot12_7.png')"
   ]
  },
  {
   "cell_type": "markdown",
   "id": "08be2775",
   "metadata": {
    "cellId": "eqt898ehkkpamyapd49fzk"
   },
   "source": [
    "## 6.2 Plot True sample"
   ]
  },
  {
   "cell_type": "code",
   "execution_count": 103,
   "id": "7396ca43",
   "metadata": {
    "cellId": "4gn2e4r3tpno5rp7b7fuil"
   },
   "outputs": [
    {
     "data": {
      "text/html": [
       "<div>\n",
       "<style scoped>\n",
       "    .dataframe tbody tr th:only-of-type {\n",
       "        vertical-align: middle;\n",
       "    }\n",
       "\n",
       "    .dataframe tbody tr th {\n",
       "        vertical-align: top;\n",
       "    }\n",
       "\n",
       "    .dataframe thead th {\n",
       "        text-align: right;\n",
       "    }\n",
       "</style>\n",
       "<table border=\"1\" class=\"dataframe\">\n",
       "  <thead>\n",
       "    <tr style=\"text-align: right;\">\n",
       "      <th></th>\n",
       "      <th>roll_bt</th>\n",
       "      <th>roll_bb</th>\n",
       "      <th>yaw_lt</th>\n",
       "      <th>yaw_lb</th>\n",
       "      <th>yaw_rt</th>\n",
       "      <th>yaw_rb</th>\n",
       "    </tr>\n",
       "  </thead>\n",
       "  <tbody>\n",
       "    <tr>\n",
       "      <th>0</th>\n",
       "      <td>-94.455447</td>\n",
       "      <td>-94.234468</td>\n",
       "      <td>2.559885</td>\n",
       "      <td>-0.356223</td>\n",
       "      <td>0.657899</td>\n",
       "      <td>-1.308116</td>\n",
       "    </tr>\n",
       "    <tr>\n",
       "      <th>1</th>\n",
       "      <td>-93.789168</td>\n",
       "      <td>-93.196432</td>\n",
       "      <td>1.638179</td>\n",
       "      <td>-1.549810</td>\n",
       "      <td>1.482261</td>\n",
       "      <td>-2.387527</td>\n",
       "    </tr>\n",
       "    <tr>\n",
       "      <th>2</th>\n",
       "      <td>-95.023759</td>\n",
       "      <td>-94.360002</td>\n",
       "      <td>2.447497</td>\n",
       "      <td>-0.004108</td>\n",
       "      <td>0.398183</td>\n",
       "      <td>-0.727600</td>\n",
       "    </tr>\n",
       "    <tr>\n",
       "      <th>3</th>\n",
       "      <td>-94.743129</td>\n",
       "      <td>-94.427758</td>\n",
       "      <td>1.369409</td>\n",
       "      <td>-1.623547</td>\n",
       "      <td>1.827770</td>\n",
       "      <td>-0.038473</td>\n",
       "    </tr>\n",
       "    <tr>\n",
       "      <th>4</th>\n",
       "      <td>-95.890958</td>\n",
       "      <td>-94.570650</td>\n",
       "      <td>2.987719</td>\n",
       "      <td>-0.182737</td>\n",
       "      <td>0.386181</td>\n",
       "      <td>-0.802488</td>\n",
       "    </tr>\n",
       "  </tbody>\n",
       "</table>\n",
       "</div>"
      ],
      "text/plain": [
       "     roll_bt    roll_bb    yaw_lt    yaw_lb    yaw_rt    yaw_rb\n",
       "0 -94.455447 -94.234468  2.559885 -0.356223  0.657899 -1.308116\n",
       "1 -93.789168 -93.196432  1.638179 -1.549810  1.482261 -2.387527\n",
       "2 -95.023759 -94.360002  2.447497 -0.004108  0.398183 -0.727600\n",
       "3 -94.743129 -94.427758  1.369409 -1.623547  1.827770 -0.038473\n",
       "4 -95.890958 -94.570650  2.987719 -0.182737  0.386181 -0.802488"
      ]
     },
     "execution_count": 103,
     "metadata": {},
     "output_type": "execute_result"
    }
   ],
   "source": [
    "#!g1.1\n",
    "test_plot_true = pd.read_csv(f'./Plots/sample_12_7.csv', usecols=['roll_bt','roll_bb','yaw_lt','yaw_lb','yaw_rt','yaw_rb'])\n",
    "test_plot_true.head()"
   ]
  },
  {
   "cell_type": "code",
   "execution_count": 21,
   "id": "4b9820f4",
   "metadata": {
    "cellId": "57fzjnr2x25sjgyzxeaw7r"
   },
   "outputs": [
    {
     "data": {
      "image/png": "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\n",
      "text/plain": [
       "<Figure size 1080x432 with 1 Axes>"
      ]
     },
     "metadata": {
      "needs_background": "light"
     },
     "output_type": "display_data"
    }
   ],
   "source": [
    "#!g1.1\n",
    "make_plot(test_plot_true, 'trueplot12_7.png')"
   ]
  },
  {
   "cell_type": "markdown",
   "id": "8bdaa09e",
   "metadata": {
    "cellId": "4otekv8d4tscpbaqc50ftu"
   },
   "source": [
    "## 7. Threshold for starting the prediction\n"
   ]
  },
  {
   "cell_type": "code",
   "execution_count": 64,
   "id": "8606df08",
   "metadata": {
    "cellId": "22oqzuidpgzfx8te9adblh"
   },
   "outputs": [],
   "source": [
    "#!g1.1\n",
    "def cal_gradient(x):\n",
    "    m, b = np.polyfit(np.arange(len(x)), x, 1)\n",
    "    return abs(m)"
   ]
  },
  {
   "cell_type": "code",
   "execution_count": 104,
   "id": "737688ac",
   "metadata": {
    "cellId": "lb754rp4z0kubbq737o9bl"
   },
   "outputs": [
    {
     "data": {
      "text/html": [
       "<div>\n",
       "<style scoped>\n",
       "    .dataframe tbody tr th:only-of-type {\n",
       "        vertical-align: middle;\n",
       "    }\n",
       "\n",
       "    .dataframe tbody tr th {\n",
       "        vertical-align: top;\n",
       "    }\n",
       "\n",
       "    .dataframe thead th {\n",
       "        text-align: right;\n",
       "    }\n",
       "</style>\n",
       "<table border=\"1\" class=\"dataframe\">\n",
       "  <thead>\n",
       "    <tr style=\"text-align: right;\">\n",
       "      <th></th>\n",
       "      <th>roll_bt</th>\n",
       "      <th>roll_bb</th>\n",
       "      <th>yaw_lt</th>\n",
       "      <th>yaw_lb</th>\n",
       "      <th>yaw_rt</th>\n",
       "      <th>yaw_rb</th>\n",
       "    </tr>\n",
       "  </thead>\n",
       "  <tbody>\n",
       "    <tr>\n",
       "      <th>0</th>\n",
       "      <td>-94.455447</td>\n",
       "      <td>-94.234468</td>\n",
       "      <td>2.559885</td>\n",
       "      <td>-0.356223</td>\n",
       "      <td>0.657899</td>\n",
       "      <td>-1.308116</td>\n",
       "    </tr>\n",
       "    <tr>\n",
       "      <th>1</th>\n",
       "      <td>-93.789168</td>\n",
       "      <td>-93.196432</td>\n",
       "      <td>1.638179</td>\n",
       "      <td>-1.549810</td>\n",
       "      <td>1.482261</td>\n",
       "      <td>-2.387527</td>\n",
       "    </tr>\n",
       "    <tr>\n",
       "      <th>2</th>\n",
       "      <td>-95.023759</td>\n",
       "      <td>-94.360002</td>\n",
       "      <td>2.447497</td>\n",
       "      <td>-0.004108</td>\n",
       "      <td>0.398183</td>\n",
       "      <td>-0.727600</td>\n",
       "    </tr>\n",
       "    <tr>\n",
       "      <th>3</th>\n",
       "      <td>-94.743129</td>\n",
       "      <td>-94.427758</td>\n",
       "      <td>1.369409</td>\n",
       "      <td>-1.623547</td>\n",
       "      <td>1.827770</td>\n",
       "      <td>-0.038473</td>\n",
       "    </tr>\n",
       "    <tr>\n",
       "      <th>4</th>\n",
       "      <td>-95.890958</td>\n",
       "      <td>-94.570650</td>\n",
       "      <td>2.987719</td>\n",
       "      <td>-0.182737</td>\n",
       "      <td>0.386181</td>\n",
       "      <td>-0.802488</td>\n",
       "    </tr>\n",
       "    <tr>\n",
       "      <th>5</th>\n",
       "      <td>-95.656897</td>\n",
       "      <td>-94.207806</td>\n",
       "      <td>1.314035</td>\n",
       "      <td>-1.738233</td>\n",
       "      <td>1.092527</td>\n",
       "      <td>-1.835146</td>\n",
       "    </tr>\n",
       "    <tr>\n",
       "      <th>6</th>\n",
       "      <td>-94.849389</td>\n",
       "      <td>-94.982764</td>\n",
       "      <td>2.458111</td>\n",
       "      <td>-0.968663</td>\n",
       "      <td>0.792018</td>\n",
       "      <td>-0.458301</td>\n",
       "    </tr>\n",
       "    <tr>\n",
       "      <th>7</th>\n",
       "      <td>-95.737884</td>\n",
       "      <td>-94.052002</td>\n",
       "      <td>2.392051</td>\n",
       "      <td>0.385853</td>\n",
       "      <td>1.230171</td>\n",
       "      <td>1.107756</td>\n",
       "    </tr>\n",
       "    <tr>\n",
       "      <th>8</th>\n",
       "      <td>-94.548660</td>\n",
       "      <td>-93.735065</td>\n",
       "      <td>1.648759</td>\n",
       "      <td>-1.104531</td>\n",
       "      <td>2.863301</td>\n",
       "      <td>-0.559767</td>\n",
       "    </tr>\n",
       "    <tr>\n",
       "      <th>9</th>\n",
       "      <td>-95.090583</td>\n",
       "      <td>-93.549586</td>\n",
       "      <td>1.946142</td>\n",
       "      <td>-2.684405</td>\n",
       "      <td>1.220300</td>\n",
       "      <td>-2.086315</td>\n",
       "    </tr>\n",
       "  </tbody>\n",
       "</table>\n",
       "</div>"
      ],
      "text/plain": [
       "     roll_bt    roll_bb    yaw_lt    yaw_lb    yaw_rt    yaw_rb\n",
       "0 -94.455447 -94.234468  2.559885 -0.356223  0.657899 -1.308116\n",
       "1 -93.789168 -93.196432  1.638179 -1.549810  1.482261 -2.387527\n",
       "2 -95.023759 -94.360002  2.447497 -0.004108  0.398183 -0.727600\n",
       "3 -94.743129 -94.427758  1.369409 -1.623547  1.827770 -0.038473\n",
       "4 -95.890958 -94.570650  2.987719 -0.182737  0.386181 -0.802488\n",
       "5 -95.656897 -94.207806  1.314035 -1.738233  1.092527 -1.835146\n",
       "6 -94.849389 -94.982764  2.458111 -0.968663  0.792018 -0.458301\n",
       "7 -95.737884 -94.052002  2.392051  0.385853  1.230171  1.107756\n",
       "8 -94.548660 -93.735065  1.648759 -1.104531  2.863301 -0.559767\n",
       "9 -95.090583 -93.549586  1.946142 -2.684405  1.220300 -2.086315"
      ]
     },
     "execution_count": 104,
     "metadata": {},
     "output_type": "execute_result"
    }
   ],
   "source": [
    "#!g1.1\n",
    "test_plot_true.head(10)"
   ]
  },
  {
   "cell_type": "code",
   "execution_count": 177,
   "id": "1c97d214",
   "metadata": {
    "cellId": "6evqfvb5w6a9ora4oshyh8"
   },
   "outputs": [
    {
     "data": {
      "image/png": "iVBORw0KGgoAAAANSUhEUgAAAX8AAAD4CAYAAAAEhuazAAAAOXRFWHRTb2Z0d2FyZQBNYXRwbG90bGliIHZlcnNpb24zLjMuMywgaHR0cHM6Ly9tYXRwbG90bGliLm9yZy/Il7ecAAAACXBIWXMAAAsTAAALEwEAmpwYAAAwaElEQVR4nO3deXiU5dU/8O/JvpOEhABhR1CwFQsRd63FKtgq1rrQV7TSKmrVVl+rFX1/OiAgq4riFhEXUAEVFaqiLCKiKCYQlC0Q9oQkJGSy75nv749ZmEBC1mfW87muuZjcz3bumXByz3meuR8hCaWUUv4lwN0BKKWUcj1N/kop5Yc0+SullB/S5K+UUn5Ik79SSvmhIHcH0BoJCQns16+fu8NQ7ZGefuL5iBHui8Od9DVQbpKenl5IMrGpZeINl3qmpKQwLS3N3WGo9hA58dwLftcMoa+BchMRSSeZ0tQyw8o+IjJbRHaLyM8i8rGIxDotmyQiWSKSKSJXGxWDUkqpphlZ818N4FckzwGwB8AkABCRoQDGATgbwGgAL4tIoIFxKKWUOolhyZ/kVyTrbT/+AKCX7flYAEtI1pA8ACALwEij4lBKKXUqV13t8zcAX9ieJwM44rQs29amlFLKRTp0tY+IrAHQvYlFT5D81LbOEwDqAbzbxn1PBDARAPr06dORMJVSSp2kQ8mf5JWnWy4idwD4I4BRPHFZUQ6A3k6r9bK1nbzvVACpgPVqn47EqZRSqjEjr/YZDeBRANeRrHRatALAOBEJFZH+AAYB2GxUHEoppU5lZM1/PoBoAKtFJENEXgUAkjsALAOwE8AqAPeRbDAwDuVHCisLsXDrQnjD91eUcifDvuFL8ozTLJsGYJpRx1b+y7TehJd+egkD4wbi8n6XuzscpTyWzu2jfEZpTSne3vY2AOCNrW+4ORqlPJsmf+UzFm1bhPLaclzY60J8uPNDlFSXuDskpTyWJn/lE0hi/k/zMTJ5JOZeNRdV9VX4IuuLljdUyk9p8lc+Yd2BddhduBv3n3c/RvQcgeCAYGTkZbg7LKU8liZ/5RPm/zQfiRGJuOnsmxASGIKhiUOxLX+bu8NSymNp8ldeL688DyszV+Jvv/kbwoLCAADDug/DtjxN/ko1R5O/8nqLf16MBjZgwrkTHG3DkoYhtzwXxyqOuTEypTyXJn/l1UjizYw3cWGvC3FmwpmO9nO7nwsAOvpXqhma/JVX21u0FzsLdmL8OeMbtQ9LGgYAWvdXqhma/JVX23BoAwBgVP9Rjdq7RnRFUmQSdhfudkdYSnk8Tf7Kq31z6BskRSZhcNfBpywbGD8Q+8z73BCVUp5Pk7/yahsObcBlfS+DON8k3WZg3EDsK9Lkr1RTNPkrr3Wo+BAOlxzGZX0va3L5wLiByC7NRnV9tYsjU8rzafJXXmtL7hYAwPnJ5ze5fGD8QBDEAfMBV4allFfQ5K+81tGyowCA3l16N7l8YNxAANC6v1JN0OSvvFZueS4CJACJEYlNLh8Yb0v+WvdX6hSa/JXXyi3LRVJkEgIDAptcnhiRiKiQKB35K9UETf7Ka+WW56JHdI9ml4uI9YofTf5KncLIG7g/LSI/2+7f+5WI9LS1i4i8ICJZtuXDjYpB+ba88jz0iGo++QPAgLgBesJXqSYYOfKfTfIckucC+C+AJ23tYwAMsj0mAnjFwBiUD8stz20x+feL7YdDJYf0hu5KncSw5E+y1OnHSAD2/31jAbxDqx8AxIrI6f8HK3WSBksDjlUcQ/eo7qddr2+Xvqisq0RhZaGLIlPKOxha8xeRaSJyBMCtODHyTwZwxGm1bFvbydtOFJE0EUkrKCgwMkzlhY5VHIOFltPW/AHryB8ADpUcckFUSnmPDiV/EVkjItubeIwFAJJPkOwN4F0A97dl3yRTSaaQTElMbPpSPuW/cstzAaDFsk/f2L4AgIPFB40OSSmvEtSRjUle2cpV3wXwOYCnAOQAcP5WTi9bm1KtlltmS/6tHfkX68hfKWdGXu0zyOnHsQDsc+uuAHC77aqfCwCUkMw1Kg7lm1o78o8Ni0VMaIyO/JU6SYdG/i2YISJnArAAOATgHlv75wCuAZAFoBLAhKY3V6p59pF/Syd8gRNX/CilTjAs+ZP8czPtBHCfUcdV/iG3PBfx4fEIDQptcd2+XfrqyF+pk+g3fJVXas01/nb9YvvhYPFBWGgxOCqlvIcmf+WVcstOP7WDs/N6noey2jLHFNBKKU3+yku1ZeR/zaBrECABWJm50uColPIemvyV1yHZqnl97LpGdMXFvS/Gij0rDI5MKe+hyV95HXO1GbUNta0u+wDAdWdeh4y8DBwpOdLyykr5AU3+yuu05TJPuwt6XQAA2FW4y5CYlPI2mvyV12ntF7ycJUdbp4/KKdUvkysFaPJXXqi1Uzs46xndEwCQU6bJXylAk7/yQu0Z+YcGhSIhIgHZpdlGhaWUV9Hkr7xOblkuIoMjER0a3abtesX00pG/Ujaa/JXXaenevc1Jjk7Wmr9SNpr8ldc5VnEMSZFJbd4uOTpZyz5K2WjyV16nuLoYceFxbd4uOSYZBZUFqKmvMSAqpbyLJn/ldUpqStAltEubt7Nf7mk/YayUP9Pkr7xOSXU7k3+MXuuvlJ0mf+VVSFpH/mHtH/lr3V8pTf7Ky1TWVaLeUt+ukX/vLtZbR+tdvZRyQfIXkYdFhCKSYPtZROQFEckSkZ9FZLjRMSjfUVJTAgDtGvnHhsUiKTIJuwt3t7yyUj7O0OQvIr0BXAXgsFPzGACDbI+JAF4xMgblW0qqbcm/HSN/ABiSOEQnd1MKxo/8nwPwKAA6tY0F8A6tfgAQKyJt/8aO8ksdGfkDwNCEodhZsBPWW0kr5b8MS/4iMhZADsltJy1KBuA8qXq2re3k7SeKSJqIpBUUFBgVpvIynTHyL60p1cs9ld8L6sjGIrIGQFOTqj8B4HFYSz7tQjIVQCoApKSk6DBNAeiEkX/iUADAzoKdjpk+lfJHHUr+JK9sql1Efg2gP4BtIgIAvQBsEZGRAHIA9HZavZetTakWdXjknzAEALCrYBeuHNDkr69SfsGQsg/JX0h2I9mPZD9YSzvDSeYBWAHgdttVPxcAKCGpn8FVq3R05N89qjtiw2L1pK/yex0a+bfT5wCuAZAFoBLABDfEoLxUSXUJBIKokKh2bS8iGJIwBDsLdnZyZEp5F5ckf9vo3/6cAO5zxXGV7ympKUFMaAwCpP0fWocmDsXKPSs7MSqlvI9+w1d5lfZO7eBsSMIQHKs4huOVxzspKqW8jyZ/5VVKqksQGxbboX3Yr/jRur/yZ5r8lVdp73TOzoYkWq/40bq/8mea/JVXKanueNmnT5c+iAiOwK4CHfkr/6XJX3mVzhj5B0gAzko4S8s+yq9p8ldepb03cjnZkASd4E35N03+ymt05EYuJxsQNwDZpdmobajthMiU8j6a/JXXKK0pRb2lHl3Du3Z4XwPiBsBCCw6XHG55ZaV8kCZ/5TWKqooAAF0jOp78+8f2BwAcMB/o8L6U8kaa/JXXOF5l/VJWZ4z8+8fZkn+xJn/lnzT5K69h/0ZufHh8h/eVHJ2M4IBgHfkrv6XJX3mNziz7BAYEok+XPthfvL/D+1LKG2nyV17DXvbpjJE/YC396Mhf+StN/spr2Ef+nZb8Y/trzV/5LU3+ymscrzyOmNAYBAV0zkzkA+IGoLCyEGU1ZZ2yP6W8iSZ/5TWKqos65Uofuz5d+gAAskuzO22fSnkLTf7KaxyvPN4pJ3vt7DdwP1p2tNP2qZS3MCz5i4hJRHJEJMP2uMZp2SQRyRKRTBG52qgYlG85XnW80+r9gPVyTwDIKcvptH0q5S2Mvo3jcyTnODeIyFAA4wCcDaAngDUiMphkg8GxKC9XVFWEgXEDO21/OvJX/swdZZ+xAJaQrCF5ANYbuY90QxzKyxyv7NyRf2RIJLqEdkFOqY78lf8xOvnfLyI/i8hCEYmztSUDOOK0TratrRERmSgiaSKSVlBQYHCYytM1WBpQXF3cqSd8ASA5JhlHy3Xkr/xPh5K/iKwRke1NPMYCeAXAQADnAsgFMLct+yaZSjKFZEpiYmJHwlQ+oLi6GAQ7deQPWEs/OvJX/qhDNX+SV7ZmPRF5HcB/bT/mAOjttLiXrU2pZnXm1A7OkqOTsa5wXafuUylvYOTVPj2cfvwTgO225ysAjBORUBHpD2AQgM1GxaF8gz35x4XFtbBm2/SM7onc8lxYaOnU/Srl6Yy82meWiJwLgAAOArgbAEjuEJFlAHYCqAdwn17po1pirjYDAOLCOzf5J0cno95Sj4KKAiRFJXXqvpXyZIYlf5K3nWbZNADTjDq28j3F1cUAOn/knxxz4lp/Tf7Kn+g3fJVXMFcZM/K3X+uvJ32Vv9Hkr7yCvewTGxbbqftNirSO9gsq9XJi5V80+SuvUFxdjLCgMIQFhXXqfhMiEgAABRWa/JV/0eSvvIK5ytzp9X7A+i3f8KBwHfkrv6PJX3kFc7W50+v9domRiSisLDRk30p5Kk3+yisUVxd3er3fLjEiUUf+yu9o8ldewVxtTNkHsNb9teav/I0mf+UVzFXGln105K/8jSZ/5RXM1WbEhsYasu/ECK35K/+jyV95PAstKKkuMW7kH5GI8tpyVNdXG7J/pTyRJn/l8UprSkHQ0Jo/oNf6K/+iyV95PPvUDoZd7RNpvV+E1v2VP9HkrzyeY1I3A8s+ALTur/yKJn/l8RzTORtU9nGM/LXso/yIJn/l8Yya0dPOUfPXso/yI5r8lcezl32MqvnHhsUiUAJ15K/8iiZ/5fHKassAADGhMYbsP0AC0DWiK45XHTdk/0p5IkOTv4g8ICK7RWSHiMxyap8kIlkikikiVxsZg/J+5bXlAIDI4EjDjhEfHu+4T7BS/sCw2ziKyBUAxgIYRrJGRLrZ2ocCGAfgbAA9AawRkcF6H1/VnIraCoQEhiA4MNiwY3QN15G/8i9GjvzvBTCDZA0AkDxmax8LYAnJGpIHAGQBGGlgHMrLldeWGzrqB2At+1Rq8lf+w8jkPxjApSLyo4h8IyLn2dqTARxxWi/b1taIiEwUkTQRSSso0BNx/qyirgJRIVGGHkPLPsrfdKjsIyJrAHRvYtETtn3HA7gAwHkAlonIgNbum2QqgFQASElJYUfiVN6tvLYckSEGj/y17KP8TIeSP8krm1smIvcCWE6SADaLiAVAAoAcAL2dVu1la1OqSa4Y+XcN74rKukpU11d3+n2ClfJERpZ9PgFwBQCIyGAAIQAKAawAME5EQkWkP4BBADYbGIfycuW15S4p+wDQ0o/yG0Ym/4UABojIdgBLAPyVVjsALAOwE8AqAPfplT7qdFx1wheAnvRVfsOwSz1J1gIY38yyaQCmGXVs5Vsqal1zwhfQkb/yH/oNX+XxXDLyD7eN/PWkr/ITmvyVx3PJCV8t+yg/o8lfeTxXXOqpZR/lbzT5K49W21CLeku94SP/iOAIhAWFadlH+Q1N/sqjuWJSN7uu4TrFg/IfmvyVR6uorQAAw0f+gG2Kh2ot+yj/oMlfeTT7yN8VyV8nd1P+RJO/8miOso/BJ3wBnd9H+RdN/sqjVdS5uOyjV/soP6HJX3k0d5zwtc5FqJRv0+SvPJqrT/jWWeocf3CU8mWa/JVHc2nN3/YtXy39KH+gyV95NFfW/HV+H+VPNPkrj+bKmr99ige93FP5A03+yqNV1FYgKCAIIYEhhh9Lyz7Kn2jyVx7NfhcvETH8WFr2Uf5Ek7/yaK6Yy98uLjwOgJZ9lH8wLPmLyFIRybA9DopIhtOySSKSJSKZInK1UTEo7+eKufztQgJDEB0SrWUf5ReMvI3jLfbnIjIXQInt+VAA4wCcDaAngDUiMljv46ua4oq5/J3Fh8dr2Uf5BcPLPmIt1t4M4H1b01gAS0jWkDwAIAvASKPjUN7JlSN/wHrSV0f+yh+4ouZ/KYB8knttPycDOOK0PNvW1oiITBSRNBFJKygocEGYyhO5suYP6ORuyn90KPmLyBoR2d7EY6zTan/BiVF/q5FMJZlCMiUxMbEjYSovVlHr2pF/fHi8nvBVfqFDNX+SV55uuYgEAbgBwAin5hwAvZ1+7mVrU+oUrq75dw3Xso/yD0aXfa4EsJtktlPbCgDjRCRURPoDGARgs8FxKC9VUVeBqGDXjvyLqopgocVlx1TKHQy72sdmHE4q+ZDcISLLAOwEUA/gPr3SRzXH/iUvV4kNiwVBlNeWIyY0xmXHVcrVDE3+JO9opn0agGlGHlt5v7qGOtQ21Lq07NMlrAsAoKS6RJO/8mn6DV/lsVw5o6ddbFgsAKC4uthlx1TKHTT5K4/lyhk97bqE2kb+NSUuO6ZS7qDJX3ksV97Fy8657KOUL9PkrzyWK+/iZadlH+UvNPkrj+WOmr+WfZS/0OSvPJZbav62so+O/JWv0+SvPJY7av5hQWEIDQzVmr/yeZr8lceyj/xdmfwB6+hfyz7K12nyVx7LHSd8AetJXy37KF+nyV95LHec8AWsJ3115K98nSZ/5bHKa8sRIAEIDQx16XG7hHXRkb/yeZr8lceyz+VvvRmc68SGxeoJX+XzNPkrj+Xqu3jZadlH+QNN/spjufr+vXZ6wlf5A03+ymO5+i5edl1Cu6CyrhJ1DXUuP7ZSrqLJX3ksd438HZO7aelH+TBN/spjufouXnb2yd30pK/yZYYlfxE5V0R+EJEMEUkTkZG2dhGRF0QkS0R+FpHhRsWgvFtFbYXbTvgCOvJXvs3Ikf8sAJNJngvgSdvPADAG1pu2DwIwEcArBsagvFhJjXtupajTOit/YGTyJwD7/9wuAI7ano8F8A6tfgAQKyI9DIxDeSlzlRlxYXEuP67e0EX5AyNv4P4ggC9FZA6sf2QusrUnAzjitF62rS3XeWMRmQjrJwP06dPHwDCVJ6prqENFXYVjFO5K9rKPjvyVL+tQ8heRNQC6N7HoCQCjADxE8iMRuRnAGwCubO2+SaYCSAWAlJQUdiRO5X3siTcu3PUjf8cJX635Kx/WoeRPstlkLiLvAPiX7ccPACywPc8B0Ntp1V62NqUczNVmAHBL2cd+nkHLPsqXGVnzPwrgctvz3wHYa3u+AsDttqt+LgBQQjK3qR0o/2Uf+buj7BMYEIjokGgt+yifZmTN/y4A80QkCEA1bPV7AJ8DuAZAFoBKABMMjEF5KXOVbeTvhrIPoDd0Ub7PsORPciOAEU20E8B9Rh1X+QZ3ln0A60lfHfkrX6bf8FUeyZ1lH/txdeSvfJkmf+WRPKLsoyd8lQ/T5K88krnajLCgMIQFhbnl+Fr2Ub5Ok7/ySMXVxW4r+QBa9lG+T5O/8kjmavdM7WBnH/lbr09Qyvdo8lceyVxldlu9H7CO/Ost9aiqr3JbDEoZSZO/8kjF1cXuHfnr5G7Kx2nyVx7JXG12a81fJ3dTvk6Tv/JI7prO2U4nd1O+TpO/8jgWWlBSU+LWmr+97KMjf+WrNPkrj1NaUwoLLW6/1BPQmr/yXZr8lcfJLbNO8to9qqlbRbiG1vyVr9PkrzxOTpn19g7J0cluiyE+PB4AUFRV5LYYlDKSJn/lcXJKbck/xn3JPzw4HNEh0civyHdbDEoZSZO/8jieMPIHgG6R3XCs4phbY1DKKJr8lcfJKc1BXFgcwoPD3RpHUlSSjvyVz9LkrzxOTlmOW0s+djryV77MsOQvIsNEZJOI/CIiK0UkxmnZJBHJEpFMEbnaqBiUd8opy3F7yQcAkiKTkF+uI3/lm4wc+S8A8BjJXwP4GMAjACAiQwGMA3A2gNEAXhaRQAPjUF4mp9Qzkn+3yG4orCxEg6XB3aEo1emMTP6DAWywPV8N4M+252MBLCFZQ/IArDdyH2lgHMqL1FvqkV+R7xFln6TIJBDE8arj7g5FqU5nZPLfAWuiB4CbAPS2PU8GcMRpvWxbWyMiMlFE0kQkraCgwMAwlSfJK8+DhRaPGfkD0NKP8kkdSv4iskZEtjfxGAvgbwD+ISLpAKIB1LZl3yRTSaaQTElMTOxImMqLZJdmA3DvNf52SVFJAOCRJ30ttOCZb5/B9G+n+8UNZ46UHNHyWycL6sjGJK9sYZWrAEBEBgP4g60tByc+BQBAL1ubUsgqygIA9Ivt595A4DTyb+flnvWWely88GL82Ikx1TbUYsbGGVh7YC02HLJWVctqyjB91HQs+nkRrh54teOPlq84UnIEZ7x4Bib/djIu7n0x9hzfg78P//tpt7H/Qayoq8Da/Wtx3ZnXQUQarVNZV4k/L/szHrnoEfyu/+8Mi99TGXm1TzfbvwEA/g/Aq7ZFKwCME5FQEekPYBCAzUbFobzL5pzNiAiOwFkJZ7k7FCRFdmzkvyprFTbndO6v9sKtC/HU+qdwtOwonr3qWdw94m7M+G4Grl96Pf76yV/xj8//ge8Of4f3fnkPVXVVmLFxBo6WHW1yX+YqMyrrKjs1vvZqsDQgszATALCvaF+juN7MeBO1DbV4Lf013PHpHbj7v3e3+J5c8uYluHPFnZix0frarMpadco6r6a9ilVZqzDt22ktxne45HAbe+T5jKz5/0VE9gDYDeAogDcBgOQOAMsA7ASwCsB9JPXznAJgTf4pPVMQFNChD6WdIjYsFsEBwe2u+b++5XWEBIa0eTuSqGuoO6W9wdKAOd/Pwcjkkdhz/x48dOFDeHHMi7i498VYkbkCXcO7Yvmu5Rj1ziiMXz4e//j8H5i0dhKue/86VNVVISMvAzM2zgBJPPPtM0h+Nhl/+egv7eobYE3S5bXl7d7e2aS1k3DWS2fhibVPYOjLQ3HVoqtQ21ALCy1YuHUhYkJjcLD4IPab96OBDXjvl/ea3de2vG34/sj3eHvb23gt/TUAgOkbE0hi/cH1+DLrS1TWVWLWd7MQEhiCdQfWOT5x2jmX0pbvWo6+z/fFl1lfdkpfPYVhyZ/kPJKDbY/H6PRqkpxGciDJM0l+YVQM7VVTX4OymjKXH7e4uhiDXhyEpduXuvzYnqCmvgZb87bi/OTz3R0KAEBE0C2yW7vKPtvytuGzPZ/hoQseatReWFnY7DZLty9FZmEmZn03C32e74OymjJkFWWhqq4KWUVZGP/xeOwz78N/Lv6Po4QRHBiMpTcuxaMXPYr0ielIikxCckwyokOj8VbGWziz65nYkrsFT6x7Ao+sfgST1k7C3E1z8fi6x9E9qjtWZK7AlG+m4PeLfg9zlRljl4zFPf+9B8crT3+FU1FVEYa9Ogx3rbyrza/NyXYX7sZzPzyHkMAQTN84HdEh0fjuyHd4bM1j+GrfVzhUcgjzRs9DXFgczk48G8N7DMc7294BAFTXV8NCC2rqa7AtbxtKa0qx+OfFjsFDYWUhxp45FptzNmPlnpW4dfmtuPGDG/HU108hvyIfi/60CIESiAVbFgCwfhp65adX0GNuDzy6+lGQxMzvZgJAqz4heBWSHv8YMWIEXen2j2/ngHkDWFtf2+ZtLRYLLRZLu4771ta3CBPY69lerKqratc+PA5w4tGCzdmbCRP4wY4PXBBY61z0xkW8/M3L27RNZmEmE2YlMHluMrNLshu9BmISfnf4u0brN1gamFOaQzEJz0s9j0mzkwgTePvHtzNgcgB7zOnB0KdDGTEtgo989QgbLA3NHju7JJvFVcWctmEaAyYHMP1oOid8MoEhT4cQJhAmawzxM+OZXZLNqOlRjvbRi0c7nl/0xkWOfW44uIHlNeUkya+yvuLoxaP50KqHHOtuzd3K6rrqNr1GJLk9fztr62v5lw//wphnYrjl6BbeuOxGbjm6hfesvIeBkwP565d/zZ5ze7K6rpqbszdzT+EevvDDC4QJXJm5kj3m9ODjax7no1896uhbyNMhvPa9a3nb8tvY57k+rKytZL/n+zF2RqwjZpjAa9+7liR57XvXMnluMlfsXsGgKUGECY734JGvHiFM4IjXRhAmcOOhjaf0Y+Ohjcwty21z/0mytr6W//7y39ycvbld27cEQBqbyatuT+ytebgy+ZurzAx9OpQwgW9nvN2mbWvqazhg3gBOWT+lXcces3iM4z/j3O/ntmsfHqcNyf/Z758lTODh4sMuCKx17vz0TibOSmz1+vUN9Tz/9fMZPzOeewr3WBudXgOYwJs/uNmx/tRvprL7nO785+f/bJSYus7sSpjAnnN78qpFV/G25bfxaOnRVsfRYGngvqJ9JMl9RfsYODmQQVOCeOOyGwkTOGnNJJLk3O/n8upFVzMlNYUwgT3m9ODMjTMJE/hz3s/ceWwnYQIfWvUQdxfsZswzMY4YU1JTHD93m92N5iozJ66YyK8PfE2S/PbQt0xJTeG/v/w388vzufHQRn5/+HuS5MItCwkTePfKuxk+NZz3/vfeRvHnl+czclokYQJnfze70bLymnJ2n9OdwVOCCRMYPzOeibMSedmbl/Gpr5/iqLdH8dtD37K6rprmKjNJckH6AsfA6rbltzFoShB3HttJkly6fSlhAuNmxHHQC4P43eHvWF5TzjNeOIMwgWe8cAaPlR9jzDMxnPDJhEaxHDQfZNCUIF6/5PpG7WU1Za16n15Pf50wgd3ndOffP/07b/3oVlbVVfGpr5/isfJjrdrH6Wjyb4PUtFTHL/PQl4aedpR1ss/2fEaYwLCpYTxcfJir9q5i/Mx4xy/Z6RyvPM6gKUF89KtHecVbV7Dn3J6sqa/pSFc8QyuS/7wf5vHVn15l/Mx4nv/6+e3+5GQE+x+k1v5HfH7T84QJXLxt8YlGp9fg7JfOZtCUIGaXZDsSkv3xq5d/xTNeOIMD5w3khzs+JEzgJ7s+6ZR+TP1mKp9c9yQPmA/wuvevY15ZXqPl7//yPmECJ6+fzIKKAgZPCeaDXzzI/6z+D2ECY56J4bBXhjFhVgJfS3uNMc/E8PM9n/OTXZ9wwicTCBM4ZvEYwgR2eaYLMwszecVbVzBiWgSDpwQzbkYcYQKjpkfx5c0vM3ByIMOmhjn63tSIetqGaew+pztLqktOWfby5pcJEzj8teGOffw387/N9r+2vpaXLryUL21+iTX1Ndx7fK9jWWVtJaOnRxMm8I0tbzja88ryuDV3q6MC8NeP/8ouz3Rp9Cnn/s/uJ0xgwOQAHjQfJEnuPLaTkdMi+a8v/nVKHPN+mMfV+1aTJKvqqtjr2V4c+tJQhk8Nd/TjhqU3ECbw/637fyyoKOhQFcDvk//S7Uv5Y/aPrVr3koWXcMj8IVy8bTFhAlftXdXq44xfPp4xz8Qw5OkQjl48mgPnDSRMcIxqdhzbwbX71za5rT0RpOWkOf6ILNq2qMVjpuWk8UjJkVbH6HItJP9dBbscv/QR0yJOjJY9xKq9qwgT+M3Bb1pc11xlZtyMOF616KrGf8CcXoM9hXsoJuGjXz3Kvs/15UVvXMQp66cQJnD6huk8aD7I/UX7SVpLOK5S31DPN7a84Rix3rjsRnZ5pgsTZyU6fo9hApfvXE6SrGuoc2xrsVg4+MXBhAns93w/JsxKYLfZ3QgTOGvjLG7L28bzUs/jhE8mOEbzKakp3Jy9mWIS9nu+X5N/8C0WC+sb6puMt66hjou2LWJxVTEHzBvAHnN6NIqpre5ZeQ/7Pd/vtOWrL/Z+0egPcl5ZHsOmhnHM4jEMmBzA/6z+DxssDbxk4SUUkxAm8OI3LuY1717DlZkrebj4MGECg6YE8ZNdn/ClzS8RJnDt/rXcmruVGbkZjnITTGD/5/tz9OLRPC/1vDYNQp35dfJft38dxST8zau/aXHdIyVHCBP49DdPs6a+hkmzk/iHd//gWF5YUchNRzY12ia3LJc7j+1kZW0lo6ZH8c5P7+T8H+czcHIgYQKHvTKMUdOjmF+ezwHzBjBqelSTv2BXLbqKA+cNpMViYYOlgUPmD2G32d341NdPsa6hzvGfI68sj+v2ryNJrsxcycDJgbxwwYXtfn0M10Lyf2z1YwycHMi3M97mhoMbXBxcy+z/YV/56ZVm17FYLFy+czlv/uBmRw28kZNegxuX3ciAyQGECVy6fSmr66o5a+MsFlUWGdiTttlTuIdnzT+LMIEf7fyIY98fy39+/s9m15/x7QzCBL7444vMyM1gt9ndGD092lF2sVu0bRGveOsK5pfnkyRnfzeby7Yv61CsW45uafXgrjm19bWO8xqnW6frzK4c9+E4ktbf3YDJAdxTuIc3LL2B8TPj+ebWNwkTmJqWygmfTOCI10awz3N9CBN460e3EiZwyPwhjJgWweS5ybxwwYWN/vBN3zDdUQ6z/xGY/+P8dvfLb5O/ucrM3s/2dtQGt+ZubXKEUVJdwuc2Pcep30wlTODugt0kySfXPUkxCbOOZ5Ekb/3oVgZODuSOYzv456V/5qYjm/j7d37PuBlxjo+h9sSclpPGRdsWOU5iJs9NdryZn+35rNHxj5UfY+DkQD6+5nFH2085P/GqRVcRJvDGZTey17O9OGX9FP7h3T8wYHIANx3ZxPCp4Y6Pqz9m/8jMwsx2vU7N2Ve0r8mP421ymuRf31DP5LnJjf7AehqLxcKo6VF84PMHmlxe31DPe1be43hvT65dkzzlNUg/mk6YwIRZCe06UeoqFbUV/GLvF60qw5VUl3DahmmsrK0kSR4tPcodx3YYHaLL3bPyHkZMi2B2STajp0fzlg9uIWkdZNpLvmfNP6vRSL28ppzxM+MJEzj4xcHMLsl2nNP5dPenjfZf11DHjNwMltWUMWp6FK9464p2j/pJP07+eWV5HLN4DFftXcWQp0PYY04Pdp3Z1XFm/rlNz/H5Tc87PnbDBP765V87ts8pzWHQlCD+76r/ZX55vuOPSI85PQgTOPSloY7tQp4O4Zkvntnkf5QF6QvYbXY3jvtwHKOnR/OuFXc1Wm7/+JeRm3HKtvYTgSFPhzg+TdjPSQRMDuBPOT8xfGq442qOJb8saddr1ZTL37ycYVPDOlZ+OE3yf+/n9wgT+OGODzsQpfFGvj6So94e1eSySWsmESbw0a8epbnK3HSibOI1ePjLh/la2mtGhawMsv7Aesf5GedPeRaLxdH25tY3T9nuqa+fclw9ZN/Pv7/892kT+66CXU2e72gLv03+zm7/+HZGTIsgTOC0DdO45egWikkYODmQ3WZ3c9Tapn4ztdF2t3xwC7s804UPf/kwYQIvXHChI/naT/TYPx7P+2Fes8dvsDSwwdLAWz64hd1md3PUMstqythzbk+OfH1kk4mjrqGOH+74kPuK9jF+Zjy7ze7G3771W8IE3rTsJpLkg188yN7P9ubw14Yz9OnQFkdcFovllI/jhRWFXL1vtSOGfUX7HH9o7vz0zhZf32Y1k/yr6qrY97m+/M2rv+nQyMYV7lpxF2OeiTnlCo6VmSsJEzhxxcTT76CF0pfyHg2WBvac29NxBZSzj3d9zDGLxzR5ocbxyuO8fsn1Lj+npcmfZHVdNUurSznq7VHs/WxvpqSmMGFWguME1JJfljD9aPopJ402HtroSIJ/fO+P3J6/nZcuvJS7CnYxaXYSr3v/On6Z9SVTUlNYXFXcYhwf7PiAMIFfZX3Fmz+42fHpwX4J3Olsz9/OX/J/4aq9qxg8JZg/5fxE8sR3C/LK8hg4OZCPrX7Msc1B80E+/OXDLK4qZnVdNRssDUxNS2XY1DBmFmbyt2/9lm9seYO3Lb/NUWK6YekNHPX2KIpJeNOymxgwOaBRHfuA+YDjxF+LTkp89312H1/88cVGJ7s83aYjmxz1bLsGSwN/9fKvOGT+kJZLN5r8fcqsjbN4xVtXeMV3cU6X/MW63LOlpKQwLS2tU/b14c4PcdMHNyE8KBxvXf8WDpgPYMHWBdh+73aEBoWesj5J/N+6/0OP6B64a/hdjdbJKc1BZEgkYsNiW3386vpqdJ/THXHhcThYfBBnJ56NPw7+I2ZcOaNN/aisq0REcMQp7b97+3fIr8jHLWffgkPFh7AtfxvSc9Px+CWP46NdH2FY92HYc3wPMvIyMLjrYOw5vgc9o3vCXGVGj+geOFh8ED2ieiCnLAdXD7wa7/35PQx5aQj6dumL9Xesh4UWjEgdgT3H92Dr3VtxbvdzTx+o02RaB4r2Y8ALAxAXFodeMb0QHBiM9Inpbeq3u1z4xoUorCxE5v2ZCJAArMxcieuWXIdFf1qE8eeMP/3GzhOKecH/N+U7RCSdZEqTy/wt+VtowfJdy3Fpn0vdNvvhxJUT8fqW1zEofhB23bcLgQGddyOzeT/Mw4NfPtiobWDcQOwz72vUFh8ej6KqIsSFxcFcbQYA/PD3HzC8x3AEBwZj+7HtSIpMQmJkIt7/5X38z/L/QXBAMGJCY2CuNiM0MBTXnnktnrj0CXy+93Nc3PtiBAYEwrTehPnXzMf45eNx2zm34YEL/uk45tPrp+DJ9U86fn5h9At44PwHOq3vRnr353cx/uPx2HDHBqT0TMHIBSNRXluOvQ/sbXkeIk3+yk00+XuYTUc24aKFF+HNsW/ijnPv6NR9Hyw+iP7z+qNvl75Y8ZcVyCvPQ1hQGC5/63L86aw/IT03Hfnl+fji1i8w+t3RWHbjMkxaOwkBEoBf7v3llGlv7dYdWIfV+1bjaPlRXD3wamzL24ZZ389yLB8QNwD9Y/tj7YG1iAyOREVdBSKCI1DxxInZGQc83x99Y/sivzwfWUVZOPrwUSREJHRq/41SVlOGbnO6YeLwiaiz1OGVtFesr+EZo1veWJO/cpPTJX/3T53ohy7sfSGyHsjCgLgBnb7vfrH9MGPUDFze73Kck3QOzkk6ByTx8S0f4/K+lyOrKAtHSo/giv5XoPg/xQgPDseIniOsNcBmEj8A/K7/7xrNeT7mjDEICgjC4K6DUVVfhXs/uxf7zftxbvdzkZGXgfHnjD9lgjrHBF3hcThgPuA1iR8AokOjMfqM0ViwdQEq6yrxyEWPtC7xK+WhdOSvOqzB0oDB8wfjUPEhHH7oMPLL83FO0jlYsGUB7j7vHsd6eWW56B7V3Y2Rdoy99DMyeSS+nfBt66dr1pG/chMt+yjDrT+4HvvN+/G33/yt8QIfSnyVdZV4fO3jeOiCh9A3tm/rN/Sh10B5F03+yn008elroNzmdMk/wNXBKKWUcr8OJX8RuUlEdoiIRURSTlo2SUSyRCRTRK52ah9ta8sSkcc6cnyllFLt09GR/3YANwDY4NwoIkMBjANwNoDRAF4WkUARCQTwEoAxAIbCep/foR2MQSmlVBt16FJPkrsANHWJ4FgAS0jWADggIlkARtqWZZHcb9tuiW3dnR2JQymlVNsYVfNPBnDE6edsW1tz7acQkYkikiYiaQUFBQaFqZRS/qnFkb+IrAHQ1MXZT5D8tPNDsiKZCiAVsF7tY9RxlFLKH7WY/Ele2Y795gDo7fRzL1sbTtOulFLKRYwq+6wAME5EQkWkP4BBADYD+AnAIBHpLyIhsJ4UXmFQDEoppZrRoRO+IvInAC8CSATwmYhkkLya5A4RWQbridx6APeRbLBtcz+ALwEEAlhIckdLx0lPTy8UkUMdCDUBQGEHtvdGntfn08wd1Ek8r88n6/zXwPP73Pm0z63X7FfRveIbvh0lImnNfcvNV2mf/YP22T8Y0Wf9hq9SSvkhTf5KKeWH/CX5p7o7ADfQPvsH7bN/6PQ++0XNXymlVGP+MvJXSinlRJO/Ukr5IZ9O/v4yfbSIHBSRX0QkQ0TSbG3xIrJaRPba/o1zd5wdJSILReSYiGx3amuyn2L1gu29/1lEhrsv8vZrps8mEcmxvd8ZInKN07Imp1L3FiLSW0S+FpGdtuni/2Vr9/X3ubl+G/dek/TJB6xfItsHYACAEADbAAx1d1wG9fUggIST2mYBeMz2/DEAM90dZyf08zIAwwFsb6mfAK4B8AUAAXABgB/dHX8n9tkE4N9NrDvU9nseCqC/7fc/0N19aGN/ewAYbnseDWCPrV++/j4312/D3mtfHvmPhG36aJK1AOzTR/uLsQDetj1/G8D17gulc5DcAKDopObm+jkWwDu0+gFArIj0cEmgnaiZPjfHMZU6yQMAnKdS9wokc0lusT0vA7AL1pl/ff19bq7fzenwe+3Lyb/V00f7AAL4SkTSRWSirS2JZK7teR6AJPeEZrjm+unr7//9tjLHQqeSnk/1WUT6AfgNgB/hR+/zSf0GDHqvfTn5+5NLSA6H9Q5p94nIZc4Laf2c6PPX9PpLPwG8AmAggHMB5AKY69ZoDCAiUQA+AvAgyVLnZb78PjfRb8Pea19O/qebVtqnkMyx/XsMwMewfvzLt3/8tf17zH0RGqq5fvrs+08yn2QDSQuA13Hi475P9FlEgmFNgO+SXG5r9vn3ual+G/le+3Ly94vpo0UkUkSi7c8BXAXrvZVXAPirbbW/AjDsxjtu1lw/VwC43XY1yAUASpzKBl7tpJr2n2B9v4Hmp1L3GiIiAN4AsIvks06LfPp9bq7fhr7X7j7LbfAZ9GtgPWu+D9Y7j7k9JgP6OADWs/7bAOyw9xNAVwBrAewFsAZAvLtj7YS+vg/rR986WGucf2+un7Be/fGS7b3/BUCKu+PvxD4vsvXpZ1sS6OG0/hO2PmcCGOPu+NvR30tgLen8DCDD9rjGD97n5vpt2Hut0zsopZQf8uWyj1JKqWZo8ldKKT+kyV8ppfyQJn+llPJDmvyVUsoPafJXSik/pMlfKaX80P8H3DmOGpOWYqAAAAAASUVORK5CYII=\n",
      "text/plain": [
       "<Figure size 432x288 with 1 Axes>"
      ]
     },
     "metadata": {
      "needs_background": "light"
     },
     "output_type": "display_data"
    },
    {
     "data": {
      "image/png": "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\n",
      "text/plain": [
       "<Figure size 432x288 with 1 Axes>"
      ]
     },
     "metadata": {
      "needs_background": "light"
     },
     "output_type": "display_data"
    },
    {
     "data": {
      "image/png": "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\n",
      "text/plain": [
       "<Figure size 432x288 with 1 Axes>"
      ]
     },
     "metadata": {
      "needs_background": "light"
     },
     "output_type": "display_data"
    },
    {
     "data": {
      "image/png": "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\n",
      "text/plain": [
       "<Figure size 432x288 with 1 Axes>"
      ]
     },
     "metadata": {
      "needs_background": "light"
     },
     "output_type": "display_data"
    },
    {
     "data": {
      "image/png": "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\n",
      "text/plain": [
       "<Figure size 432x288 with 1 Axes>"
      ]
     },
     "metadata": {
      "needs_background": "light"
     },
     "output_type": "display_data"
    },
    {
     "name": "stdout",
     "output_type": "stream",
     "text": [
      "[ 89  90  91  92  93  94  95  96  97  98  99 100 101 102 103 104 105 130\n",
      " 131 132]\n",
      "[ 89  90  91  92  93  94  95  96  97  98  99 100 101 102 103 104 105 129\n",
      " 130 131 132 133 134]\n",
      "[109 110 111 112 113 114 115 116 117 118 119 120 121 122 123 124]\n",
      "[ 95  96  97  98  99 100 101 102 103 127 128 129]\n",
      "[109 110 111 112 113 114 115 116 117 118 119 120 121 122 123 124]\n",
      "[ 92  93  94  95  96  97  98  99 100 101 102 103 127 128 129 130]\n"
     ]
    },
    {
     "data": {
      "image/png": "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\n",
      "text/plain": [
       "<Figure size 432x288 with 1 Axes>"
      ]
     },
     "metadata": {
      "needs_background": "light"
     },
     "output_type": "display_data"
    }
   ],
   "source": [
    "#!g1.1\n",
    "prediction = test_plot_true.rolling(window=10).apply(lambda x : cal_gradient(x), raw=False).fillna(0) > 0.5\n",
    "\n",
    "for c in test_plot_true.columns:\n",
    "    mask = np.where(prediction[c] == True)[0]\n",
    "    print(mask)\n",
    "    plt.plot(test_plot_true.index,  test_plot_true[c], 'green')\n",
    "    plt.axvline(x=mask[0]-10, lw=3, color='r')\n",
    "    plt.axvline(x=mask[-1], lw=3, color='r')\n",
    "    plt.show()"
   ]
  },
  {
   "cell_type": "markdown",
   "id": "aa9cdb40",
   "metadata": {
    "cellId": "4jmyks7ligwoph8fpd1ka"
   },
   "source": [
    "## 8. Calculate Coefficient of Determination"
   ]
  },
  {
   "cell_type": "code",
   "execution_count": 175,
   "id": "68a2c193",
   "metadata": {
    "cellId": "y3dy951oyua0azokyuha"
   },
   "outputs": [
    {
     "name": "stdout",
     "output_type": "stream",
     "text": [
      "Train Coefficient of Determination : 0.99916\n"
     ]
    }
   ],
   "source": [
    "#!g1.1\n",
    "ypred = model.predict(X) \n",
    "r_square = coeff_determination(Y,ypred)\n",
    "\n",
    "print(f'Train Coefficient of Determination : {r_square.numpy():.5f}')"
   ]
  }
 ],
 "metadata": {
  "kernelspec": {
   "display_name": "Yandex DataSphere Kernel",
   "language": "python",
   "name": "python3"
  },
  "language_info": {
   "codemirror_mode": {
    "name": "ipython",
    "version": 3
   },
   "file_extension": ".py",
   "mimetype": "text/x-python",
   "name": "python",
   "nbconvert_exporter": "python",
   "pygments_lexer": "ipython3",
   "version": "3.7.7"
  },
  "notebookId": "271cef43-38af-47d2-8063-442cd4807834",
  "notebookPath": "RNN/main.ipynb"
 },
 "nbformat": 4,
 "nbformat_minor": 5
}
