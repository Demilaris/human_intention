{
 "cells": [
  {
   "cell_type": "markdown",
   "id": "4b83d4c5",
   "metadata": {},
   "source": [
    "# Read Data From CSV"
   ]
  },
  {
   "cell_type": "code",
   "execution_count": null,
   "id": "448519ea",
   "metadata": {},
   "outputs": [],
   "source": [
    "import plotly\n",
    "import plotly.graph_objs as go\n",
    "import plotly.express as px\n",
    "\n",
    "from plotly.subplots import make_subplots\n",
    "import pandas as pd\n",
    "import numpy as np\n",
    "from numpy.linalg import norm\n",
    "from quaternion import Quaternion\n",
    "from scipy import stats\n",
    "from scipy import signal\n",
    "import matplotlib.pyplot as plt\n",
    "import os\n",
    "from os import walk\n",
    "import madgwickahrs as mg\n",
    "from quaternion import Quaternion\n"
   ]
  },
  {
   "cell_type": "code",
   "execution_count": null,
   "id": "8b3d7cb3",
   "metadata": {},
   "outputs": [],
   "source": [
    "#функции калибровки\n",
    "def find_offsets(mpu,counts = 15):\n",
    "#     calibration_set = mpu.loc[:counts]\n",
    "    calibration_set =mpu \n",
    "    n = float(len(calibration_set))\n",
    "    summ = []\n",
    "    offsets = []\n",
    "    for i in calibration_set:\n",
    "        summ.append(calibration_set[i].sum())\n",
    "    for s in summ:\n",
    "        offsets.append(s/n)\n",
    "    return offsets\n",
    "\n",
    "def find_headers(mpu):\n",
    "    headers = []\n",
    "    for i in mpu:\n",
    "        headers.append(i)\n",
    "    return headers\n",
    "\n",
    "def calibration(mpu,dataset):\n",
    "    \n",
    "    headers = find_headers(mpu)\n",
    "#     print(headers)\n",
    "    \n",
    "    off = find_offsets(mpu)\n",
    "    calibrated = dataset.copy()\n",
    "    #не калибровать ускорение для фильтра маджвика!\n",
    "#     calibrated[headers[0]] = mpu[headers[0]] - off[0]\n",
    "#    calibrated[headers[1]] = mpu[headers[1]] - off[1]\n",
    "#     calibrated[headers[2]] = mpu[headers[2]] - off[2]\n",
    "    \n",
    "    calibrated[headers[3]] = mpu[headers[3]] - off[3]\n",
    "    calibrated[headers[4]] = mpu[headers[4]] - off[4]\n",
    "    calibrated[headers[5]] = mpu[headers[5]] - off[5]\n",
    "    \n",
    "    return calibrated\n"
   ]
  },
  {
   "cell_type": "code",
   "execution_count": null,
   "id": "587f445e",
   "metadata": {
    "code_folding": []
   },
   "outputs": [],
   "source": [
    "#функции для вывода графиков\n",
    "def show_plots(mpu_t,mpu_b,title_t,title_b,accel=None):\n",
    "    \n",
    "    headers_t = find_headers(mpu_t)\n",
    "    headers_b = find_headers(mpu_b)\n",
    "    \n",
    "    if accel == True:\n",
    "        headers_t = headers_t[:3]\n",
    "        headers_b = headers_b[:3]\n",
    "        title_t += ' accel'\n",
    "        title_b += ' accel'\n",
    "    elif accel == None:\n",
    "        headers_t = headers_t[:3]\n",
    "        title_t +='accel'\n",
    "        headers_b = headers_b[3:]\n",
    "        title_b += ' gyro'\n",
    "    else:\n",
    "        headers_t = headers_t[3:]\n",
    "        headers_b = headers_b[3:]\n",
    "        title_t += ' gyro'\n",
    "        title_b += ' gyro'\n",
    "        \n",
    "\n",
    "\n",
    "    fig = make_subplots(rows=1, cols=2, subplot_titles=(title_t,title_b))\n",
    "\n",
    "\n",
    "    fig.add_trace(go.Scatter(x=mpu_t.index, y=mpu_t[headers_t[0]],name=headers_t[0]),1,1)\n",
    "    fig.add_trace(go.Scatter(x=mpu_t.index, y=mpu_t[headers_t[1]],name=headers_t[1]),1,1)\n",
    "    fig.add_trace(go.Scatter(x=mpu_t.index, y=mpu_t[headers_t[2]],name=headers_t[2]),1,1)\n",
    "\n",
    "    fig.add_trace(go.Scatter(x=mpu_t.index, y=mpu_b[headers_b[0]],name=headers_b[0]),1,2)\n",
    "    fig.add_trace(go.Scatter(x=mpu_t.index, y=mpu_b[headers_b[1]],name=headers_b[1]),1,2)\n",
    "    fig.add_trace(go.Scatter(x=mpu_t.index, y=mpu_b[headers_b[2]],name=headers_b[2]),1,2)\n",
    "\n",
    "\n",
    "    fig.update_layout(legend_orientation=\"h\",\n",
    "                      legend=dict(x=.5, xanchor=\"center\"),\n",
    "                      hovermode=\"x\",\n",
    "                      margin=dict(l=0, r=0, t=40, b=0))\n",
    "    fig.show()\n",
    "\n",
    "\n",
    "def show_plot(mpu_t,title_t,accel=None):\n",
    "    \n",
    "    headers_t = find_headers(mpu_t)\n",
    "    \n",
    "    if accel == True:\n",
    "        headers_t = headers_t[:3]\n",
    "        title_t += ' accel'\n",
    "    elif accel == None:\n",
    "        headers_t = headers_t\n",
    "    else:\n",
    "        headers_t = headers_t[3:]\n",
    "        title_t += ' gyro'\n",
    "        \n",
    "\n",
    "\n",
    "    fig = go.Figure() \n",
    "    fig.update_layout(title=title_t)\n",
    "    fig.add_trace(go.Scatter(x=mpu_t.index, y=mpu_t[headers_t[0]],name=headers_t[0]))\n",
    "    fig.add_trace(go.Scatter(x=mpu_t.index, y=mpu_t[headers_t[1]],name=headers_t[1]))\n",
    "    fig.add_trace(go.Scatter(x=mpu_t.index, y=mpu_t[headers_t[2]],name=headers_t[2]))\n",
    "\n",
    "    fig.show()\n"
   ]
  },
  {
   "cell_type": "code",
   "execution_count": null,
   "id": "d2db9682",
   "metadata": {
    "code_folding": []
   },
   "outputs": [],
   "source": [
    "def read_csv_file(file_path):\n",
    "    df = pd.read_csv(file_path,sep = ' ',header = None)\n",
    "    df.columns = [\"s1\",\"bt_ax\",\"bt_ay\",\"bt_az\",\"bt_gx\",\"bt_gy\",\"bt_gz\",\n",
    "                 \"s2\",\"bb_ax\",\"bb_ay\",\"bb_az\",\"bb_gx\",\"bb_gy\",\"bb_gz\",\n",
    "                 \"s3\",\"lt_ax\",\"lt_ay\",\"lt_az\",\"lt_gx\",\"lt_gy\",\"lt_gz\",\n",
    "                 \"s4\",\"lb_ax\",\"lb_ay\",\"lb_az\",\"lb_gx\",\"lb_gy\",\"lb_gz\",\n",
    "                \"s5\",\"rt_ax\",\"rt_ay\",\"rt_az\",\"rt_gx\",\"rt_gy\",\"rt_gz\",\n",
    "                 \"s6\",\"rb_ax\",\"rb_ay\",\"rb_az\",\"rb_gx\",\"rb_gy\",\"rb_gz\",\n",
    "                 ]\n",
    "\n",
    "    return df"
   ]
  },
  {
   "cell_type": "code",
   "execution_count": null,
   "id": "3271fb4f",
   "metadata": {
    "code_folding": []
   },
   "outputs": [],
   "source": [
    "#each  IMU for calibration\n",
    "def parse_to_sensors(df):\n",
    "    bt = df[[\"bt_ax\",\"bt_ay\",\"bt_az\",\"bt_gx\",\"bt_gy\",\"bt_gz\"]]\n",
    "    bb = df[[\"bb_ax\",\"bb_ay\",\"bb_az\",\"bb_gx\",\"bb_gy\",\"bb_gz\"]]\n",
    "    lt = df[[\"lt_ax\",\"lt_ay\",\"lt_az\",\"lt_gx\",\"lt_gy\",\"lt_gz\"]]\n",
    "    lb = df[[\"lb_ax\",\"lb_ay\",\"lb_az\",\"lb_gx\",\"lb_gy\",\"lb_gz\"]]\n",
    "    rt = df[[\"rt_ax\",\"rt_ay\",\"rt_az\",\"rt_gx\",\"rt_gy\",\"rt_gz\"]]\n",
    "    rb = df[[\"rb_ax\",\"rb_ay\",\"rb_az\",\"rb_gx\",\"rb_gy\",\"rb_gz\"]]\n",
    "    \n",
    "#     show_plot(lb,'Non calibrated left-bot ',True)\n",
    "#     show_plot(lb,'Non calibrated left-bot ',False)\n",
    "    return bt,bb,lt,lb,rt,rb\n"
   ]
  },
  {
   "cell_type": "markdown",
   "id": "430e8bcb",
   "metadata": {},
   "source": [
    "# Filter outliers"
   ]
  },
  {
   "cell_type": "code",
   "execution_count": null,
   "id": "8f7e41d0",
   "metadata": {},
   "outputs": [],
   "source": [
    "def filter_outliers(df_local):\n",
    "    \n",
    "    outl = find_headers(df_local)\n",
    "    df= df_local.copy()\n",
    "    for o in outl:\n",
    "        median = df[o].median()\n",
    "        std = df[o].std()\n",
    "        df.loc[(df[o] - median).abs() > std,o]=np.nan\n",
    "        df[o].fillna(median, inplace=True)\n",
    "    return df\n",
    "\n",
    "def find_outliers(df):\n",
    "    \n",
    "    bt,bb,lt,lb,rt,rb = parse_to_sensors(df)\n",
    "    \n",
    "    rb_outl = filter_outliers(rb)\n",
    "    rt_outl =filter_outliers(rt)\n",
    "    lb_outl = filter_outliers(lb)\n",
    "    lt_outl = filter_outliers(lt)\n",
    "    bb_outl = filter_outliers(bb)\n",
    "    bt_outl = filter_outliers(bt)\n",
    "    \n",
    "\n",
    "    return bt_outl,bb_outl,lt_outl,lb_outl,rt_outl,rb_outl \n"
   ]
  },
  {
   "cell_type": "markdown",
   "id": "ea559918",
   "metadata": {},
   "source": [
    " Calibrate DF of each sensor"
   ]
  },
  {
   "cell_type": "markdown",
   "id": "c866da0b",
   "metadata": {},
   "source": [
    "# Madgwick filter"
   ]
  },
  {
   "cell_type": "code",
   "execution_count": null,
   "id": "634e2c75",
   "metadata": {},
   "outputs": [],
   "source": [
    "def find_orientation(calibrated_mpu):\n",
    "    \n",
    "    headers = find_headers(calibrated_mpu)\n",
    "        \n",
    "    quaternions = []\n",
    "\n",
    "    heading = mg.MadgwickAHRS(sampleperiod = 0.06,beta = 1)\n",
    "    for i,row in calibrated_mpu.iterrows():\n",
    "        gyro_d  = []\n",
    "        accel_d = []\n",
    "        gyro_d.append(row[headers[3]])\n",
    "        gyro_d.append(row[headers[4]])\n",
    "        gyro_d.append(row[headers[5]])\n",
    "        accel_d.append(row[headers[0]])\n",
    "        accel_d.append(row[headers[1]])\n",
    "        accel_d.append(row[headers[2]])\n",
    "\n",
    "        heading.update_imu(gyro_d,accel_d)\n",
    "        quaternions.append(heading.quaternion._get_q())\n",
    "\n",
    "    # print(quaternions)\n",
    "    pitch = []\n",
    "    roll = []\n",
    "    yaw = []\n",
    "    for i in range(len(quaternions)):\n",
    "        pitch.append(np.arcsin(2 * quaternions[i][1] * quaternions[i][2] + 2 * quaternions[i][0] * quaternions[i][3]))\n",
    "        if np.abs(quaternions[i][1] * quaternions[i][2] + quaternions[i][3] * quaternions[i][0] - 0.5) < 1e-8:\n",
    "            roll.append(0) \n",
    "            yaw.append(2 * np.arctan2(quaternions[i][1], quaternions[i][0]))\n",
    "        elif np.abs(quaternions[i][1] * quaternions[i][2] + quaternions[i][3] * quaternions[i][0] + 0.5) < 1e-8:\n",
    "            roll.append(-2 * np.arctan2(quaternions[i][1], quaternions[i][0]))\n",
    "            yaw.append(0)\n",
    "        else:\n",
    "            roll.append(np.arctan2(2 * quaternions[i][0] * quaternions[i][1] - 2 * quaternions[i][2] *quaternions[i][3], 1 - 2 * quaternions[i][1] ** 2 - 2 *quaternions[i][3] ** 2))\n",
    "            yaw.append(np.arctan2(2 * quaternions[i][0] * quaternions[i][2] - 2 * quaternions[i][1] * quaternions[i][3], 1 - 2 * quaternions[i][2] ** 2 - 2 * quaternions[i][3] ** 2))\n",
    "\n",
    "\n",
    "    orientation_d = pd.DataFrame({'roll':np.rad2deg(roll),'pitch':np.rad2deg(pitch),'yaw':np.rad2deg(yaw)})\n",
    "    return orientation_d\n",
    "\n",
    "    "
   ]
  },
  {
   "cell_type": "markdown",
   "id": "18551ec2",
   "metadata": {},
   "source": [
    "# Calibration data"
   ]
  },
  {
   "cell_type": "code",
   "execution_count": null,
   "id": "afd33970",
   "metadata": {},
   "outputs": [],
   "source": [
    "\n",
    "def all_calibrate(calibration_set,dataset):\n",
    "\n",
    "\n",
    "#     bt_outl,bb_outl,lt_outl,lb_outl,rt_outl,rb_outl =  find_outliers(calibration_set)\n",
    "    \n",
    "    bt_outl,bb_outl,lt_outl,lb_outl,rt_outl,rb_outl =  find_outliers(calibration_set)\n",
    "    bt_1,bb_1,lt_1,lb_1,rt_1,rb_1=parse_to_sensors(dataset)\n",
    "\n",
    "    show_plot(lb_1,'first ',False)\n",
    "    \n",
    "    calibrated_bt = calibration(bt_outl,bt_1)\n",
    "    calibrated_bb = calibration(bb_outl,bb_1)\n",
    "    calibrated_lt = calibration(lt_outl,lt_1)\n",
    "    calibrated_lb = calibration(lb_outl,lb_1)\n",
    "    calibrated_rb = calibration(rb_outl,rb_1)\n",
    "    calibrated_rt = calibration(rt_outl,rt_1)\n",
    "   \n",
    "       \n",
    "    show_plot(calibrated_lb,'calibrated ',False)\n",
    "\n",
    "#     print(calibrated_lb)\n",
    "    orientation_bt = find_orientation(calibrated_bt)\n",
    "    orientation_bb = find_orientation(calibrated_bb)\n",
    "    orientation_lt = find_orientation(calibrated_lt)\n",
    "    orientation_lb = find_orientation(calibrated_lb)\n",
    "    orientation_rt = find_orientation(calibrated_rt)\n",
    "    orientation_rb = find_orientation(calibrated_rb)\n",
    "\n",
    "    \n",
    "    return   orientation_bt, orientation_bb, orientation_lt, orientation_lb, orientation_rt, orientation_rb\n",
    "    \n"
   ]
  },
  {
   "cell_type": "code",
   "execution_count": null,
   "id": "1044359d",
   "metadata": {},
   "outputs": [],
   "source": [
    "name = 'Vadim'\n",
    "сalibration_set= read_csv_file(f'calibration/10_{name}.csv')\n",
    "\n",
    "\n",
    "filenames = next(walk(f'D:/Thesis/{name}/'), (None, None, []))[2]  # [] if no file\n",
    "filenames[0]\n",
    "for i in range(len(filenames)):\n",
    "    filename = f\"D:/Thesis/{name}/{filenames[i]}\"\n",
    "    print(filename)\n",
    "    IMU_set = read_csv_file(filename)\n",
    "    orientation_bt, orientation_bb, orientation_lt, orientation_lb, orientation_rt, orientation_rb = all_calibrate(сalibration_set,IMU_set)\n",
    "    ready_dataset = pd.concat([orientation_bt, orientation_bb, orientation_lt, orientation_lb, orientation_rt, orientation_rb],axis = 1)    \n",
    "#     print(ready_dataset)\n",
    "    ready_dataset.to_csv(f\"D:\\Thesis\\dataset\\lifting_orientation_{i}_0.csv\", sep=\",\")\n",
    "\n",
    "\n"
   ]
  },
  {
   "cell_type": "code",
   "execution_count": null,
   "id": "7c4b3640",
   "metadata": {},
   "outputs": [],
   "source": [
    "test_plot = pd.read_csv('D:/Thesis/dataset/lifting_orientation_1_0.csv')\n",
    "\n",
    "def preprocessing_dataset(dataset):\n",
    "    df = dataset.drop(columns = \"Unnamed: 0\")\n",
    "    df.columns = [\"roll_bt\",\"pitch_bt\",\"yaw_bt\",\n",
    "                  \"roll_bb\",\"pitch_bb\",\"yaw_bb\",\n",
    "                  \"roll_lt\",\"pitch_lt\",\"yaw_lt\",\n",
    "                  \"roll_lb\",\"pitch_lb\",\"yaw_lb\",\n",
    "                  \"roll_rt\",\"pitch_rt\",\"yaw_rt\",\n",
    "                  \"roll_rb\",\"pitch_rb\",\"yaw_rb\"\n",
    "                 ]\n",
    "    return df\n",
    "test_plot_1 = preprocessing_dataset(test_plot)\n",
    "\n",
    "orientation_lb_test= test_plot_1[[\"roll_lb\",\"pitch_lb\",\"yaw_lb\"]]\n",
    "show_plot(orientation_lb_test,'Orientation left_bot sensor')\n",
    "\n",
    "\n",
    "# plt.figure\n",
    "# plt.plot(orientation_lb_test.index, orientation_lb_test[\"roll_lb\"], 'b', alpha=0.75)\n",
    "# plt.plot(orientation_lb_test.index, frame['pitch'], 'r', orientation_lb_test.index,  orientation_lb_test[\"yaw_lb\"], 'g')\n",
    "# plt.legend(('roll', 'pitch', 'yaw'), loc='best')\n",
    "# plt.grid(True)\n",
    "# plt.show()\n"
   ]
  },
  {
   "cell_type": "code",
   "execution_count": null,
   "id": "7af79d6f",
   "metadata": {},
   "outputs": [],
   "source": [
    "# orientation_lb_test.loc[:]"
   ]
  },
  {
   "cell_type": "markdown",
   "id": "c140361d",
   "metadata": {},
   "source": [
    "# Filter dataset"
   ]
  },
  {
   "cell_type": "code",
   "execution_count": null,
   "id": "5eb3b422",
   "metadata": {},
   "outputs": [],
   "source": [
    "def find_headers_orient(mpu):\n",
    "    headers = []\n",
    "    for i in mpu:\n",
    "        headers.append(i)\n",
    "    return headers"
   ]
  },
  {
   "cell_type": "code",
   "execution_count": null,
   "id": "0937ae22",
   "metadata": {},
   "outputs": [],
   "source": [
    "def filter_scipy(dataset):\n",
    "    xn = dataset\n",
    "    b, a = signal.butter(3, 0.05)\n",
    "    zi = signal.lfilter_zi(b, a)\n",
    "    z, _ = signal.lfilter(b, a, xn, zi=zi* xn[0])\n",
    "    z2, _ = signal.lfilter(b, a, z, zi=zi*z[0])\n",
    "    y = signal.filtfilt(b, a, xn)\n",
    "    plt.figure\n",
    "    plt.plot(orientation_lb_test.index, xn, 'b', alpha=0.75)\n",
    "    plt.plot(orientation_lb_test.index, z, 'r--', orientation_lb_test.index, z2, 'r', orientation_lb_test.index, y, 'k')\n",
    "    plt.legend(('noisy signal', 'lfilter, once', 'lfilter, twice',\n",
    "            'filtfilt'), loc='best')\n",
    "    plt.grid(True)\n",
    "    plt.show()\n",
    "    \n",
    "    return y"
   ]
  },
  {
   "cell_type": "code",
   "execution_count": null,
   "id": "c57589a5",
   "metadata": {},
   "outputs": [],
   "source": [
    "# xn = orientation_lb_test['yaw_lb']\n",
    "# b, a = signal.butter(3, 0.05)\n",
    "# zi = signal.lfilter_zi(b, a)\n",
    "# z, _ = signal.lfilter(b, a, orientation_lb_test['yaw_lb'], zi=zi* orientation_lb_test['yaw_lb'][0])"
   ]
  },
  {
   "cell_type": "code",
   "execution_count": null,
   "id": "1a2dc853",
   "metadata": {},
   "outputs": [],
   "source": [
    "# z2, _ = signal.lfilter(b, a, z, zi=zi*z[0])\n",
    "# y = signal.filtfilt(b, a, xn)\n",
    "headers_orient  = find_headers_orient(orientation_lb_test)\n",
    "headers_orient"
   ]
  },
  {
   "cell_type": "code",
   "execution_count": null,
   "id": "e0caa5ac",
   "metadata": {},
   "outputs": [],
   "source": [
    "filtered_roll =  filter_scipy(orientation_lb_test[headers_orient[0]])\n",
    "filtered_pitch =  filter_scipy(orientation_lb_test[headers_orient[1]]) \n",
    "filtered_yaw =  filter_scipy(orientation_lb_test[headers_orient[2]])\n",
    "\n",
    "\n"
   ]
  },
  {
   "cell_type": "code",
   "execution_count": null,
   "id": "d7b42ba6",
   "metadata": {},
   "outputs": [],
   "source": [
    "\n",
    "filtered_roll_pd = pd.DataFrame(filtered_roll)\n",
    "filtered_pitch_pd = pd.DataFrame(filtered_pitch)\n",
    "filtered_yaw_pd = pd.DataFrame(filtered_yaw)\n",
    "frame = pd.concat([filtered_roll_pd,filtered_pitch_pd,filtered_yaw_pd],axis = 1)\n",
    "frame.columns = [\"roll\", \"pitch\", \"yaw\"]\n",
    "frame"
   ]
  },
  {
   "cell_type": "code",
   "execution_count": null,
   "id": "2677a13a",
   "metadata": {},
   "outputs": [],
   "source": []
  },
  {
   "cell_type": "code",
   "execution_count": null,
   "id": "ccd3743e",
   "metadata": {},
   "outputs": [],
   "source": [
    "plt.figure\n",
    "plt.plot(frame.index, frame['roll'], 'b', alpha=0.75)\n",
    "plt.plot(frame.index, frame['pitch'], 'r', frame.index,  frame['yaw'], 'g')\n",
    "plt.legend(('roll', 'pitch', 'yaw'), loc='best')\n",
    "plt.grid(True)\n",
    "plt.show()\n",
    "\n",
    "\n"
   ]
  },
  {
   "cell_type": "markdown",
   "id": "50a84d77",
   "metadata": {
    "code_folding": []
   },
   "source": [
    "# Orientation only with gyro "
   ]
  },
  {
   "cell_type": "code",
   "execution_count": null,
   "id": "b23e121b",
   "metadata": {},
   "outputs": [],
   "source": [
    "\n",
    "\n",
    "pitch = np.zeros(len(calibrated_lb))\n",
    "yaw = np.zeros(len(calibrated_lb))\n",
    "roll = np.zeros(len(calibrated_lb))\n",
    "\n",
    "for i in range(len(calibrated_lb)-1):\n",
    "    delta_t = 0.06\n",
    "    \n",
    "    pitch[i+1] = pitch[i] + calibrated_lb['lb_gy'][i]*delta_t\n",
    "    yaw[i+1] = yaw[i]+calibrated_lb['lb_gz'][i]*delta_t\n",
    "    roll[i+1] = roll[i]+calibrated_lb['lb_gx'][i]*delta_t\n",
    "    \n",
    "\n",
    "orientation_d = pd.DataFrame({'roll':np.rad2deg(roll),'pitch':np.rad2deg(pitch),'yaw':np.rad2deg(yaw)})\n",
    "\n",
    "show_plot(orientation_d,'Orientation only with  gyro')"
   ]
  },
  {
   "cell_type": "code",
   "execution_count": null,
   "id": "6cd41de5",
   "metadata": {},
   "outputs": [],
   "source": [
    "#(-0.02213089742574257, 0.01005698124752475, -0.013309934386138617)"
   ]
  },
  {
   "cell_type": "code",
   "execution_count": null,
   "id": "85c72040",
   "metadata": {},
   "outputs": [],
   "source": []
  }
 ],
 "metadata": {
  "kernelspec": {
   "display_name": "Python 3",
   "language": "python",
   "name": "python3"
  },
  "language_info": {
   "codemirror_mode": {
    "name": "ipython",
    "version": 3
   },
   "file_extension": ".py",
   "mimetype": "text/x-python",
   "name": "python",
   "nbconvert_exporter": "python",
   "pygments_lexer": "ipython3",
   "version": "3.8.8"
  },
  "toc": {
   "base_numbering": 1,
   "nav_menu": {},
   "number_sections": true,
   "sideBar": true,
   "skip_h1_title": false,
   "title_cell": "Table of Contents",
   "title_sidebar": "Contents",
   "toc_cell": false,
   "toc_position": {},
   "toc_section_display": true,
   "toc_window_display": false
  }
 },
 "nbformat": 4,
 "nbformat_minor": 5
}
