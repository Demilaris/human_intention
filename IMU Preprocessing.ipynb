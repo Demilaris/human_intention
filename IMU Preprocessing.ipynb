{
 "cells": [
  {
   "cell_type": "markdown",
   "id": "4b83d4c5",
   "metadata": {},
   "source": [
    "# Read Data From CSV"
   ]
  },
  {
   "cell_type": "code",
   "execution_count": 1,
   "id": "448519ea",
   "metadata": {},
   "outputs": [],
   "source": [
    "import plotly\n",
    "import plotly.graph_objs as go\n",
    "import plotly.express as px\n",
    "from plotly.subplots import make_subplots\n",
    "import pandas as pd\n",
    "import numpy as np\n",
    "from numpy.linalg import norm\n",
    "from quaternion import Quaternion\n",
    "from scipy import stats"
   ]
  },
  {
   "cell_type": "code",
   "execution_count": 2,
   "id": "8b3d7cb3",
   "metadata": {},
   "outputs": [],
   "source": [
    "#функции калибровки\n",
    "def find_offsets(mpu,counts = 85):\n",
    "#     calibration_set = mpu.loc[:counts]\n",
    "    calibration_set =mpu \n",
    "    n = float(len(calibration_set))\n",
    "    summ = []\n",
    "    offsets = []\n",
    "    for i in calibration_set:\n",
    "        summ.append(calibration_set[i].sum())\n",
    "    for s in summ:\n",
    "        offsets.append(s/n)\n",
    "    return offsets\n",
    "\n",
    "def find_headers(mpu):\n",
    "    headers = []\n",
    "    for i in mpu:\n",
    "        headers.append(i)\n",
    "    return headers\n",
    "\n",
    "def calibration(mpu,dataset):\n",
    "    \n",
    "    headers = find_headers(mpu)\n",
    "    print(headers)\n",
    "    \n",
    "    off = find_offsets(mpu)\n",
    "    calibrated = dataset.copy()\n",
    "    #не калибровать ускорение для фильтра маджвика!\n",
    "    calibrated[headers[0]] = mpu[headers[0]] - off[0]\n",
    "#     calibrated[headers[1]] = mpu[headers[1]] - off[1]\n",
    "    calibrated[headers[2]] = mpu[headers[2]] - off[2]\n",
    "    \n",
    "    calibrated[headers[3]] = mpu[headers[3]] - off[3]\n",
    "    calibrated[headers[4]] = mpu[headers[4]] - off[4]\n",
    "    calibrated[headers[5]] = mpu[headers[5]] - off[5]\n",
    "    \n",
    "    return calibrated\n"
   ]
  },
  {
   "cell_type": "code",
   "execution_count": 3,
   "id": "587f445e",
   "metadata": {},
   "outputs": [],
   "source": [
    "#функции для вывода графиков\n",
    "def show_plots(mpu_t,mpu_b,title_t,title_b,accel=None):\n",
    "    \n",
    "    headers_t = find_headers(mpu_t)\n",
    "    headers_b = find_headers(mpu_b)\n",
    "    \n",
    "    if accel == True:\n",
    "        headers_t = headers_t[:3]\n",
    "        headers_b = headers_b[:3]\n",
    "        title_t += ' accel'\n",
    "        title_b += ' accel'\n",
    "    elif accel == None:\n",
    "        headers_t = headers_t[:3]\n",
    "        title_t +='accel'\n",
    "        headers_b = headers_b[3:]\n",
    "        title_b += ' gyro'\n",
    "    else:\n",
    "        headers_t = headers_t[3:]\n",
    "        headers_b = headers_b[3:]\n",
    "        title_t += ' gyro'\n",
    "        title_b += ' gyro'\n",
    "        \n",
    "\n",
    "\n",
    "    fig = make_subplots(rows=1, cols=2, subplot_titles=(title_t,title_b))\n",
    "\n",
    "\n",
    "    fig.add_trace(go.Scatter(x=mpu_t.index, y=mpu_t[headers_t[0]],name=headers_t[0]),1,1)\n",
    "    fig.add_trace(go.Scatter(x=mpu_t.index, y=mpu_t[headers_t[1]],name=headers_t[1]),1,1)\n",
    "    fig.add_trace(go.Scatter(x=mpu_t.index, y=mpu_t[headers_t[2]],name=headers_t[2]),1,1)\n",
    "\n",
    "    fig.add_trace(go.Scatter(x=mpu_t.index, y=mpu_b[headers_b[0]],name=headers_b[0]),1,2)\n",
    "    fig.add_trace(go.Scatter(x=mpu_t.index, y=mpu_b[headers_b[1]],name=headers_b[1]),1,2)\n",
    "    fig.add_trace(go.Scatter(x=mpu_t.index, y=mpu_b[headers_b[2]],name=headers_b[2]),1,2)\n",
    "\n",
    "\n",
    "    fig.update_layout(legend_orientation=\"h\",\n",
    "                      legend=dict(x=.5, xanchor=\"center\"),\n",
    "                      hovermode=\"x\",\n",
    "                      margin=dict(l=0, r=0, t=40, b=0))\n",
    "    fig.show()\n",
    "\n",
    "\n",
    "def show_plot(mpu_t,title_t,accel=None):\n",
    "    \n",
    "    headers_t = find_headers(mpu_t)\n",
    "    \n",
    "    if accel == True:\n",
    "        headers_t = headers_t[:3]\n",
    "        title_t += ' accel'\n",
    "    elif accel == None:\n",
    "        headers_t = headers_t\n",
    "    else:\n",
    "        headers_t = headers_t[3:]\n",
    "        title_t += ' gyro'\n",
    "        \n",
    "\n",
    "\n",
    "    fig = go.Figure() \n",
    "    fig.update_layout(title=title_t)\n",
    "    fig.add_trace(go.Scatter(x=mpu_t.index, y=mpu_t[headers_t[0]],name=headers_t[0]))\n",
    "    fig.add_trace(go.Scatter(x=mpu_t.index, y=mpu_t[headers_t[1]],name=headers_t[1]))\n",
    "    fig.add_trace(go.Scatter(x=mpu_t.index, y=mpu_t[headers_t[2]],name=headers_t[2]))\n",
    "\n",
    "    fig.show()\n"
   ]
  },
  {
   "cell_type": "code",
   "execution_count": 4,
   "id": "d2db9682",
   "metadata": {},
   "outputs": [
    {
     "data": {
      "text/html": [
       "<div>\n",
       "<style scoped>\n",
       "    .dataframe tbody tr th:only-of-type {\n",
       "        vertical-align: middle;\n",
       "    }\n",
       "\n",
       "    .dataframe tbody tr th {\n",
       "        vertical-align: top;\n",
       "    }\n",
       "\n",
       "    .dataframe thead th {\n",
       "        text-align: right;\n",
       "    }\n",
       "</style>\n",
       "<table border=\"1\" class=\"dataframe\">\n",
       "  <thead>\n",
       "    <tr style=\"text-align: right;\">\n",
       "      <th></th>\n",
       "      <th>s1</th>\n",
       "      <th>bt_ax</th>\n",
       "      <th>bt_ay</th>\n",
       "      <th>bt_az</th>\n",
       "      <th>bt_gx</th>\n",
       "      <th>bt_gy</th>\n",
       "      <th>bt_gz</th>\n",
       "      <th>s2</th>\n",
       "      <th>bb_ax</th>\n",
       "      <th>bb_ay</th>\n",
       "      <th>...</th>\n",
       "      <th>rt_gx</th>\n",
       "      <th>rt_gy</th>\n",
       "      <th>rt_gz</th>\n",
       "      <th>s6</th>\n",
       "      <th>rb_ax</th>\n",
       "      <th>rb_ay</th>\n",
       "      <th>rb_az</th>\n",
       "      <th>rb_gx</th>\n",
       "      <th>rb_gy</th>\n",
       "      <th>rb_gz</th>\n",
       "    </tr>\n",
       "  </thead>\n",
       "  <tbody>\n",
       "    <tr>\n",
       "      <th>0</th>\n",
       "      <td>s1</td>\n",
       "      <td>0.308852</td>\n",
       "      <td>-9.696517</td>\n",
       "      <td>-2.147599</td>\n",
       "      <td>-0.014389</td>\n",
       "      <td>0.001865</td>\n",
       "      <td>-0.018919</td>\n",
       "      <td>s2</td>\n",
       "      <td>0.074220</td>\n",
       "      <td>10.29986</td>\n",
       "      <td>...</td>\n",
       "      <td>0.018119</td>\n",
       "      <td>0.041302</td>\n",
       "      <td>0.001066</td>\n",
       "      <td>s6</td>\n",
       "      <td>-2.731784</td>\n",
       "      <td>9.749189</td>\n",
       "      <td>-0.694318</td>\n",
       "      <td>0.000666</td>\n",
       "      <td>-0.027712</td>\n",
       "      <td>-0.007461</td>\n",
       "    </tr>\n",
       "    <tr>\n",
       "      <th>1</th>\n",
       "      <td>s1</td>\n",
       "      <td>0.284910</td>\n",
       "      <td>-9.744401</td>\n",
       "      <td>-2.020706</td>\n",
       "      <td>-0.027046</td>\n",
       "      <td>0.000666</td>\n",
       "      <td>-0.020118</td>\n",
       "      <td>s2</td>\n",
       "      <td>0.093374</td>\n",
       "      <td>10.29028</td>\n",
       "      <td>...</td>\n",
       "      <td>0.018786</td>\n",
       "      <td>0.050761</td>\n",
       "      <td>-0.002531</td>\n",
       "      <td>s6</td>\n",
       "      <td>-2.703054</td>\n",
       "      <td>9.756371</td>\n",
       "      <td>-0.514753</td>\n",
       "      <td>-0.000266</td>\n",
       "      <td>-0.009859</td>\n",
       "      <td>-0.010925</td>\n",
       "    </tr>\n",
       "    <tr>\n",
       "      <th>2</th>\n",
       "      <td>s1</td>\n",
       "      <td>0.313640</td>\n",
       "      <td>-9.725247</td>\n",
       "      <td>-2.190695</td>\n",
       "      <td>-0.030643</td>\n",
       "      <td>-0.001732</td>\n",
       "      <td>-0.015855</td>\n",
       "      <td>s2</td>\n",
       "      <td>0.031125</td>\n",
       "      <td>10.31662</td>\n",
       "      <td>...</td>\n",
       "      <td>0.018652</td>\n",
       "      <td>0.043966</td>\n",
       "      <td>0.002531</td>\n",
       "      <td>s6</td>\n",
       "      <td>-2.810793</td>\n",
       "      <td>9.761160</td>\n",
       "      <td>-0.658405</td>\n",
       "      <td>-0.001732</td>\n",
       "      <td>-0.016121</td>\n",
       "      <td>-0.007061</td>\n",
       "    </tr>\n",
       "    <tr>\n",
       "      <th>3</th>\n",
       "      <td>s1</td>\n",
       "      <td>0.260968</td>\n",
       "      <td>-9.727641</td>\n",
       "      <td>-2.114080</td>\n",
       "      <td>-0.002665</td>\n",
       "      <td>0.015322</td>\n",
       "      <td>-0.012257</td>\n",
       "      <td>s2</td>\n",
       "      <td>0.064643</td>\n",
       "      <td>10.32380</td>\n",
       "      <td>...</td>\n",
       "      <td>0.014389</td>\n",
       "      <td>0.040502</td>\n",
       "      <td>0.007328</td>\n",
       "      <td>s6</td>\n",
       "      <td>-2.758120</td>\n",
       "      <td>9.737218</td>\n",
       "      <td>-0.608127</td>\n",
       "      <td>0.003064</td>\n",
       "      <td>-0.038371</td>\n",
       "      <td>-0.006262</td>\n",
       "    </tr>\n",
       "    <tr>\n",
       "      <th>4</th>\n",
       "      <td>s1</td>\n",
       "      <td>0.373495</td>\n",
       "      <td>-9.722853</td>\n",
       "      <td>-2.106898</td>\n",
       "      <td>-0.018519</td>\n",
       "      <td>0.019851</td>\n",
       "      <td>-0.009726</td>\n",
       "      <td>s2</td>\n",
       "      <td>0.028730</td>\n",
       "      <td>10.28549</td>\n",
       "      <td>...</td>\n",
       "      <td>0.018386</td>\n",
       "      <td>0.032508</td>\n",
       "      <td>0.009593</td>\n",
       "      <td>s6</td>\n",
       "      <td>-2.770091</td>\n",
       "      <td>9.753978</td>\n",
       "      <td>-0.577003</td>\n",
       "      <td>-0.008394</td>\n",
       "      <td>-0.035440</td>\n",
       "      <td>-0.002265</td>\n",
       "    </tr>\n",
       "    <tr>\n",
       "      <th>5</th>\n",
       "      <td>s1</td>\n",
       "      <td>0.308852</td>\n",
       "      <td>-9.706094</td>\n",
       "      <td>-2.152387</td>\n",
       "      <td>-0.022516</td>\n",
       "      <td>0.009326</td>\n",
       "      <td>-0.009992</td>\n",
       "      <td>s2</td>\n",
       "      <td>0.038307</td>\n",
       "      <td>10.27352</td>\n",
       "      <td>...</td>\n",
       "      <td>0.018119</td>\n",
       "      <td>0.042900</td>\n",
       "      <td>0.008394</td>\n",
       "      <td>s6</td>\n",
       "      <td>-2.801216</td>\n",
       "      <td>9.718064</td>\n",
       "      <td>-0.538695</td>\n",
       "      <td>0.003064</td>\n",
       "      <td>-0.035440</td>\n",
       "      <td>0.000933</td>\n",
       "    </tr>\n",
       "    <tr>\n",
       "      <th>6</th>\n",
       "      <td>s1</td>\n",
       "      <td>0.313640</td>\n",
       "      <td>-9.682152</td>\n",
       "      <td>-2.200271</td>\n",
       "      <td>-0.036772</td>\n",
       "      <td>0.013323</td>\n",
       "      <td>-0.009726</td>\n",
       "      <td>s2</td>\n",
       "      <td>0.079009</td>\n",
       "      <td>10.31901</td>\n",
       "      <td>...</td>\n",
       "      <td>0.017853</td>\n",
       "      <td>0.040236</td>\n",
       "      <td>0.004263</td>\n",
       "      <td>s6</td>\n",
       "      <td>-2.767697</td>\n",
       "      <td>9.689334</td>\n",
       "      <td>-0.593762</td>\n",
       "      <td>0.000000</td>\n",
       "      <td>-0.033041</td>\n",
       "      <td>-0.006795</td>\n",
       "    </tr>\n",
       "    <tr>\n",
       "      <th>7</th>\n",
       "      <td>s1</td>\n",
       "      <td>0.313640</td>\n",
       "      <td>-9.670180</td>\n",
       "      <td>-2.128445</td>\n",
       "      <td>-0.033974</td>\n",
       "      <td>0.007061</td>\n",
       "      <td>-0.015588</td>\n",
       "      <td>s2</td>\n",
       "      <td>0.079009</td>\n",
       "      <td>10.29267</td>\n",
       "      <td>...</td>\n",
       "      <td>0.017054</td>\n",
       "      <td>0.023982</td>\n",
       "      <td>0.006262</td>\n",
       "      <td>s6</td>\n",
       "      <td>-2.705448</td>\n",
       "      <td>9.782708</td>\n",
       "      <td>-0.644040</td>\n",
       "      <td>-0.001199</td>\n",
       "      <td>-0.037838</td>\n",
       "      <td>-0.005462</td>\n",
       "    </tr>\n",
       "    <tr>\n",
       "      <th>8</th>\n",
       "      <td>s1</td>\n",
       "      <td>0.366313</td>\n",
       "      <td>-9.694122</td>\n",
       "      <td>-2.260126</td>\n",
       "      <td>-0.031309</td>\n",
       "      <td>0.029577</td>\n",
       "      <td>-0.007061</td>\n",
       "      <td>s2</td>\n",
       "      <td>0.023942</td>\n",
       "      <td>10.27112</td>\n",
       "      <td>...</td>\n",
       "      <td>0.020518</td>\n",
       "      <td>0.035839</td>\n",
       "      <td>0.009326</td>\n",
       "      <td>s6</td>\n",
       "      <td>-2.748544</td>\n",
       "      <td>9.775525</td>\n",
       "      <td>-0.543484</td>\n",
       "      <td>0.001599</td>\n",
       "      <td>-0.041168</td>\n",
       "      <td>-0.004530</td>\n",
       "    </tr>\n",
       "    <tr>\n",
       "      <th>9</th>\n",
       "      <td>s1</td>\n",
       "      <td>0.258574</td>\n",
       "      <td>-9.713276</td>\n",
       "      <td>-2.070984</td>\n",
       "      <td>-0.024381</td>\n",
       "      <td>0.012391</td>\n",
       "      <td>-0.011591</td>\n",
       "      <td>s2</td>\n",
       "      <td>0.069432</td>\n",
       "      <td>10.27352</td>\n",
       "      <td>...</td>\n",
       "      <td>0.013190</td>\n",
       "      <td>0.047830</td>\n",
       "      <td>0.006262</td>\n",
       "      <td>s6</td>\n",
       "      <td>-2.703054</td>\n",
       "      <td>9.763555</td>\n",
       "      <td>-0.591368</td>\n",
       "      <td>0.003464</td>\n",
       "      <td>-0.028645</td>\n",
       "      <td>-0.006129</td>\n",
       "    </tr>\n",
       "    <tr>\n",
       "      <th>10</th>\n",
       "      <td>s1</td>\n",
       "      <td>0.277727</td>\n",
       "      <td>-9.737218</td>\n",
       "      <td>-2.190695</td>\n",
       "      <td>-0.018652</td>\n",
       "      <td>0.010658</td>\n",
       "      <td>-0.014389</td>\n",
       "      <td>s2</td>\n",
       "      <td>0.071826</td>\n",
       "      <td>10.33337</td>\n",
       "      <td>...</td>\n",
       "      <td>0.017187</td>\n",
       "      <td>0.048896</td>\n",
       "      <td>0.009193</td>\n",
       "      <td>s6</td>\n",
       "      <td>-2.765303</td>\n",
       "      <td>9.744401</td>\n",
       "      <td>-0.639252</td>\n",
       "      <td>-0.002398</td>\n",
       "      <td>-0.030643</td>\n",
       "      <td>-0.005462</td>\n",
       "    </tr>\n",
       "    <tr>\n",
       "      <th>11</th>\n",
       "      <td>s1</td>\n",
       "      <td>0.272939</td>\n",
       "      <td>-9.701305</td>\n",
       "      <td>-2.183512</td>\n",
       "      <td>-0.015721</td>\n",
       "      <td>0.004930</td>\n",
       "      <td>-0.017587</td>\n",
       "      <td>s2</td>\n",
       "      <td>0.102951</td>\n",
       "      <td>10.31183</td>\n",
       "      <td>...</td>\n",
       "      <td>0.012257</td>\n",
       "      <td>0.041302</td>\n",
       "      <td>0.001332</td>\n",
       "      <td>s6</td>\n",
       "      <td>-2.767697</td>\n",
       "      <td>9.770737</td>\n",
       "      <td>-0.651223</td>\n",
       "      <td>-0.001332</td>\n",
       "      <td>-0.025980</td>\n",
       "      <td>-0.006795</td>\n",
       "    </tr>\n",
       "    <tr>\n",
       "      <th>12</th>\n",
       "      <td>s1</td>\n",
       "      <td>0.304064</td>\n",
       "      <td>-9.744401</td>\n",
       "      <td>-2.149993</td>\n",
       "      <td>-0.019985</td>\n",
       "      <td>0.011325</td>\n",
       "      <td>-0.019452</td>\n",
       "      <td>s2</td>\n",
       "      <td>0.074220</td>\n",
       "      <td>10.30225</td>\n",
       "      <td>...</td>\n",
       "      <td>0.017986</td>\n",
       "      <td>0.049695</td>\n",
       "      <td>0.001066</td>\n",
       "      <td>s6</td>\n",
       "      <td>-2.791639</td>\n",
       "      <td>9.737218</td>\n",
       "      <td>-0.622492</td>\n",
       "      <td>-0.005063</td>\n",
       "      <td>-0.026380</td>\n",
       "      <td>-0.006262</td>\n",
       "    </tr>\n",
       "    <tr>\n",
       "      <th>13</th>\n",
       "      <td>s1</td>\n",
       "      <td>0.359130</td>\n",
       "      <td>-9.763555</td>\n",
       "      <td>-2.190695</td>\n",
       "      <td>-0.004930</td>\n",
       "      <td>0.012790</td>\n",
       "      <td>-0.011325</td>\n",
       "      <td>s2</td>\n",
       "      <td>0.069432</td>\n",
       "      <td>10.37647</td>\n",
       "      <td>...</td>\n",
       "      <td>0.012391</td>\n",
       "      <td>0.035972</td>\n",
       "      <td>0.009593</td>\n",
       "      <td>s6</td>\n",
       "      <td>-2.712631</td>\n",
       "      <td>9.794679</td>\n",
       "      <td>-0.555455</td>\n",
       "      <td>-0.000933</td>\n",
       "      <td>-0.031576</td>\n",
       "      <td>-0.008926</td>\n",
       "    </tr>\n",
       "    <tr>\n",
       "      <th>14</th>\n",
       "      <td>s1</td>\n",
       "      <td>0.299275</td>\n",
       "      <td>-9.713276</td>\n",
       "      <td>-2.054225</td>\n",
       "      <td>-0.014922</td>\n",
       "      <td>0.006662</td>\n",
       "      <td>-0.008660</td>\n",
       "      <td>s2</td>\n",
       "      <td>0.138864</td>\n",
       "      <td>10.29986</td>\n",
       "      <td>...</td>\n",
       "      <td>0.016654</td>\n",
       "      <td>0.036639</td>\n",
       "      <td>0.008926</td>\n",
       "      <td>s6</td>\n",
       "      <td>-2.674323</td>\n",
       "      <td>9.773131</td>\n",
       "      <td>-0.629675</td>\n",
       "      <td>-0.001599</td>\n",
       "      <td>-0.037038</td>\n",
       "      <td>-0.001865</td>\n",
       "    </tr>\n",
       "    <tr>\n",
       "      <th>15</th>\n",
       "      <td>s1</td>\n",
       "      <td>0.289698</td>\n",
       "      <td>-9.725247</td>\n",
       "      <td>-2.011129</td>\n",
       "      <td>-0.020784</td>\n",
       "      <td>0.019851</td>\n",
       "      <td>-0.010126</td>\n",
       "      <td>s2</td>\n",
       "      <td>0.143652</td>\n",
       "      <td>10.30465</td>\n",
       "      <td>...</td>\n",
       "      <td>0.014123</td>\n",
       "      <td>0.037571</td>\n",
       "      <td>0.003331</td>\n",
       "      <td>s6</td>\n",
       "      <td>-2.671929</td>\n",
       "      <td>9.768343</td>\n",
       "      <td>-0.591368</td>\n",
       "      <td>-0.002531</td>\n",
       "      <td>-0.030377</td>\n",
       "      <td>-0.006395</td>\n",
       "    </tr>\n",
       "    <tr>\n",
       "      <th>16</th>\n",
       "      <td>s1</td>\n",
       "      <td>0.299275</td>\n",
       "      <td>-9.725247</td>\n",
       "      <td>-2.133234</td>\n",
       "      <td>-0.025314</td>\n",
       "      <td>0.016254</td>\n",
       "      <td>-0.012257</td>\n",
       "      <td>s2</td>\n",
       "      <td>0.090980</td>\n",
       "      <td>10.28070</td>\n",
       "      <td>...</td>\n",
       "      <td>0.020917</td>\n",
       "      <td>0.040502</td>\n",
       "      <td>0.003864</td>\n",
       "      <td>s6</td>\n",
       "      <td>-2.731784</td>\n",
       "      <td>9.732430</td>\n",
       "      <td>-0.598550</td>\n",
       "      <td>-0.002132</td>\n",
       "      <td>-0.036505</td>\n",
       "      <td>-0.003064</td>\n",
       "    </tr>\n",
       "    <tr>\n",
       "      <th>17</th>\n",
       "      <td>s1</td>\n",
       "      <td>0.260968</td>\n",
       "      <td>-9.749189</td>\n",
       "      <td>-2.066196</td>\n",
       "      <td>-0.019319</td>\n",
       "      <td>0.005729</td>\n",
       "      <td>-0.012657</td>\n",
       "      <td>s2</td>\n",
       "      <td>0.107739</td>\n",
       "      <td>10.28788</td>\n",
       "      <td>...</td>\n",
       "      <td>0.013057</td>\n",
       "      <td>0.043700</td>\n",
       "      <td>0.003331</td>\n",
       "      <td>s6</td>\n",
       "      <td>-2.657564</td>\n",
       "      <td>9.763555</td>\n",
       "      <td>-0.562637</td>\n",
       "      <td>-0.001199</td>\n",
       "      <td>-0.033708</td>\n",
       "      <td>-0.009193</td>\n",
       "    </tr>\n",
       "    <tr>\n",
       "      <th>18</th>\n",
       "      <td>s1</td>\n",
       "      <td>0.359130</td>\n",
       "      <td>-9.696517</td>\n",
       "      <td>-2.063802</td>\n",
       "      <td>-0.026646</td>\n",
       "      <td>0.002132</td>\n",
       "      <td>-0.011991</td>\n",
       "      <td>s2</td>\n",
       "      <td>0.095768</td>\n",
       "      <td>10.26155</td>\n",
       "      <td>...</td>\n",
       "      <td>0.019052</td>\n",
       "      <td>0.044766</td>\n",
       "      <td>0.001199</td>\n",
       "      <td>s6</td>\n",
       "      <td>-2.659958</td>\n",
       "      <td>9.777920</td>\n",
       "      <td>-0.624887</td>\n",
       "      <td>0.000400</td>\n",
       "      <td>-0.039436</td>\n",
       "      <td>-0.007461</td>\n",
       "    </tr>\n",
       "    <tr>\n",
       "      <th>19</th>\n",
       "      <td>s1</td>\n",
       "      <td>0.311246</td>\n",
       "      <td>-9.725247</td>\n",
       "      <td>-2.205060</td>\n",
       "      <td>-0.025447</td>\n",
       "      <td>0.016787</td>\n",
       "      <td>-0.012524</td>\n",
       "      <td>s2</td>\n",
       "      <td>0.076614</td>\n",
       "      <td>10.29267</td>\n",
       "      <td>...</td>\n",
       "      <td>0.020384</td>\n",
       "      <td>0.039436</td>\n",
       "      <td>0.005462</td>\n",
       "      <td>s6</td>\n",
       "      <td>-2.762909</td>\n",
       "      <td>9.768343</td>\n",
       "      <td>-0.600945</td>\n",
       "      <td>-0.006528</td>\n",
       "      <td>-0.024648</td>\n",
       "      <td>-0.005063</td>\n",
       "    </tr>\n",
       "    <tr>\n",
       "      <th>20</th>\n",
       "      <td>s1</td>\n",
       "      <td>0.371101</td>\n",
       "      <td>-9.658210</td>\n",
       "      <td>-2.078167</td>\n",
       "      <td>-0.033574</td>\n",
       "      <td>0.020784</td>\n",
       "      <td>-0.018652</td>\n",
       "      <td>s2</td>\n",
       "      <td>0.090980</td>\n",
       "      <td>10.29507</td>\n",
       "      <td>...</td>\n",
       "      <td>0.017187</td>\n",
       "      <td>0.045299</td>\n",
       "      <td>0.000799</td>\n",
       "      <td>s6</td>\n",
       "      <td>-2.726996</td>\n",
       "      <td>9.768343</td>\n",
       "      <td>-0.550666</td>\n",
       "      <td>-0.005063</td>\n",
       "      <td>-0.019185</td>\n",
       "      <td>-0.005729</td>\n",
       "    </tr>\n",
       "    <tr>\n",
       "      <th>21</th>\n",
       "      <td>s1</td>\n",
       "      <td>0.308852</td>\n",
       "      <td>-9.662998</td>\n",
       "      <td>-2.185906</td>\n",
       "      <td>-0.033574</td>\n",
       "      <td>0.014123</td>\n",
       "      <td>-0.015055</td>\n",
       "      <td>s2</td>\n",
       "      <td>0.064643</td>\n",
       "      <td>10.27352</td>\n",
       "      <td>...</td>\n",
       "      <td>0.018119</td>\n",
       "      <td>0.038371</td>\n",
       "      <td>0.006395</td>\n",
       "      <td>s6</td>\n",
       "      <td>-2.698265</td>\n",
       "      <td>9.753978</td>\n",
       "      <td>-0.605733</td>\n",
       "      <td>0.005995</td>\n",
       "      <td>-0.035573</td>\n",
       "      <td>-0.009326</td>\n",
       "    </tr>\n",
       "    <tr>\n",
       "      <th>22</th>\n",
       "      <td>s1</td>\n",
       "      <td>0.292093</td>\n",
       "      <td>-9.727641</td>\n",
       "      <td>-2.128445</td>\n",
       "      <td>-0.036106</td>\n",
       "      <td>0.006129</td>\n",
       "      <td>-0.013456</td>\n",
       "      <td>s2</td>\n",
       "      <td>0.047884</td>\n",
       "      <td>10.28310</td>\n",
       "      <td>...</td>\n",
       "      <td>0.016521</td>\n",
       "      <td>0.055025</td>\n",
       "      <td>0.001066</td>\n",
       "      <td>s6</td>\n",
       "      <td>-2.726996</td>\n",
       "      <td>9.765948</td>\n",
       "      <td>-0.622492</td>\n",
       "      <td>0.004130</td>\n",
       "      <td>-0.026380</td>\n",
       "      <td>-0.007328</td>\n",
       "    </tr>\n",
       "    <tr>\n",
       "      <th>23</th>\n",
       "      <td>s1</td>\n",
       "      <td>0.332794</td>\n",
       "      <td>-9.710882</td>\n",
       "      <td>-2.255338</td>\n",
       "      <td>-0.029311</td>\n",
       "      <td>0.002665</td>\n",
       "      <td>-0.013057</td>\n",
       "      <td>s2</td>\n",
       "      <td>0.047884</td>\n",
       "      <td>10.32140</td>\n",
       "      <td>...</td>\n",
       "      <td>0.016654</td>\n",
       "      <td>0.044766</td>\n",
       "      <td>0.003864</td>\n",
       "      <td>s6</td>\n",
       "      <td>-2.688689</td>\n",
       "      <td>9.775525</td>\n",
       "      <td>-0.598550</td>\n",
       "      <td>0.002931</td>\n",
       "      <td>-0.024914</td>\n",
       "      <td>-0.007861</td>\n",
       "    </tr>\n",
       "    <tr>\n",
       "      <th>24</th>\n",
       "      <td>s1</td>\n",
       "      <td>0.383072</td>\n",
       "      <td>-9.708488</td>\n",
       "      <td>-2.305616</td>\n",
       "      <td>-0.018119</td>\n",
       "      <td>0.009459</td>\n",
       "      <td>-0.001466</td>\n",
       "      <td>s2</td>\n",
       "      <td>0.002394</td>\n",
       "      <td>10.28788</td>\n",
       "      <td>...</td>\n",
       "      <td>0.017453</td>\n",
       "      <td>0.053692</td>\n",
       "      <td>0.004130</td>\n",
       "      <td>s6</td>\n",
       "      <td>-2.731784</td>\n",
       "      <td>9.811439</td>\n",
       "      <td>-0.687136</td>\n",
       "      <td>-0.002798</td>\n",
       "      <td>-0.021051</td>\n",
       "      <td>-0.002398</td>\n",
       "    </tr>\n",
       "    <tr>\n",
       "      <th>25</th>\n",
       "      <td>s1</td>\n",
       "      <td>0.304064</td>\n",
       "      <td>-9.742006</td>\n",
       "      <td>-2.152387</td>\n",
       "      <td>-0.023848</td>\n",
       "      <td>0.023982</td>\n",
       "      <td>-0.000533</td>\n",
       "      <td>s2</td>\n",
       "      <td>0.117316</td>\n",
       "      <td>10.34535</td>\n",
       "      <td>...</td>\n",
       "      <td>0.013190</td>\n",
       "      <td>0.044233</td>\n",
       "      <td>0.006129</td>\n",
       "      <td>s6</td>\n",
       "      <td>-2.700660</td>\n",
       "      <td>9.789890</td>\n",
       "      <td>-0.565032</td>\n",
       "      <td>-0.006662</td>\n",
       "      <td>-0.017453</td>\n",
       "      <td>-0.005995</td>\n",
       "    </tr>\n",
       "    <tr>\n",
       "      <th>26</th>\n",
       "      <td>s1</td>\n",
       "      <td>0.210690</td>\n",
       "      <td>-9.713276</td>\n",
       "      <td>-2.250550</td>\n",
       "      <td>-0.019452</td>\n",
       "      <td>0.023049</td>\n",
       "      <td>-0.000400</td>\n",
       "      <td>s2</td>\n",
       "      <td>0.122104</td>\n",
       "      <td>10.37647</td>\n",
       "      <td>...</td>\n",
       "      <td>0.012257</td>\n",
       "      <td>0.035173</td>\n",
       "      <td>0.004263</td>\n",
       "      <td>s6</td>\n",
       "      <td>-2.748544</td>\n",
       "      <td>9.737218</td>\n",
       "      <td>-0.560243</td>\n",
       "      <td>0.000533</td>\n",
       "      <td>-0.032642</td>\n",
       "      <td>-0.003864</td>\n",
       "    </tr>\n",
       "    <tr>\n",
       "      <th>27</th>\n",
       "      <td>s1</td>\n",
       "      <td>0.246603</td>\n",
       "      <td>-9.698911</td>\n",
       "      <td>-2.164358</td>\n",
       "      <td>-0.014389</td>\n",
       "      <td>0.012657</td>\n",
       "      <td>-0.006262</td>\n",
       "      <td>s2</td>\n",
       "      <td>0.198719</td>\n",
       "      <td>10.29986</td>\n",
       "      <td>...</td>\n",
       "      <td>0.011724</td>\n",
       "      <td>0.058489</td>\n",
       "      <td>0.003064</td>\n",
       "      <td>s6</td>\n",
       "      <td>-2.760514</td>\n",
       "      <td>9.734824</td>\n",
       "      <td>-0.605733</td>\n",
       "      <td>0.002531</td>\n",
       "      <td>-0.013190</td>\n",
       "      <td>-0.011458</td>\n",
       "    </tr>\n",
       "    <tr>\n",
       "      <th>28</th>\n",
       "      <td>s1</td>\n",
       "      <td>0.227449</td>\n",
       "      <td>-9.737218</td>\n",
       "      <td>-2.109292</td>\n",
       "      <td>-0.024248</td>\n",
       "      <td>-0.001199</td>\n",
       "      <td>-0.020518</td>\n",
       "      <td>s2</td>\n",
       "      <td>0.155623</td>\n",
       "      <td>10.29986</td>\n",
       "      <td>...</td>\n",
       "      <td>0.014123</td>\n",
       "      <td>0.036372</td>\n",
       "      <td>0.003997</td>\n",
       "      <td>s6</td>\n",
       "      <td>-2.710236</td>\n",
       "      <td>9.730036</td>\n",
       "      <td>-0.632069</td>\n",
       "      <td>-0.001865</td>\n",
       "      <td>-0.039303</td>\n",
       "      <td>-0.004397</td>\n",
       "    </tr>\n",
       "    <tr>\n",
       "      <th>29</th>\n",
       "      <td>s1</td>\n",
       "      <td>0.270545</td>\n",
       "      <td>-9.686940</td>\n",
       "      <td>-2.219425</td>\n",
       "      <td>-0.014522</td>\n",
       "      <td>0.013590</td>\n",
       "      <td>-0.012391</td>\n",
       "      <td>s2</td>\n",
       "      <td>0.110133</td>\n",
       "      <td>10.32859</td>\n",
       "      <td>...</td>\n",
       "      <td>0.016920</td>\n",
       "      <td>0.044632</td>\n",
       "      <td>0.001998</td>\n",
       "      <td>s6</td>\n",
       "      <td>-2.786851</td>\n",
       "      <td>9.732430</td>\n",
       "      <td>-0.605733</td>\n",
       "      <td>-0.003464</td>\n",
       "      <td>-0.034374</td>\n",
       "      <td>-0.006528</td>\n",
       "    </tr>\n",
       "    <tr>\n",
       "      <th>30</th>\n",
       "      <td>s1</td>\n",
       "      <td>0.239420</td>\n",
       "      <td>-9.639056</td>\n",
       "      <td>-2.075773</td>\n",
       "      <td>-0.024515</td>\n",
       "      <td>0.012923</td>\n",
       "      <td>-0.018652</td>\n",
       "      <td>s2</td>\n",
       "      <td>0.138864</td>\n",
       "      <td>10.31422</td>\n",
       "      <td>...</td>\n",
       "      <td>0.016387</td>\n",
       "      <td>0.039703</td>\n",
       "      <td>-0.004130</td>\n",
       "      <td>s6</td>\n",
       "      <td>-2.743755</td>\n",
       "      <td>9.758766</td>\n",
       "      <td>-0.646435</td>\n",
       "      <td>0.000799</td>\n",
       "      <td>-0.033574</td>\n",
       "      <td>-0.003331</td>\n",
       "    </tr>\n",
       "    <tr>\n",
       "      <th>31</th>\n",
       "      <td>s1</td>\n",
       "      <td>0.244209</td>\n",
       "      <td>-9.732430</td>\n",
       "      <td>-2.147599</td>\n",
       "      <td>-0.021983</td>\n",
       "      <td>0.004530</td>\n",
       "      <td>-0.023715</td>\n",
       "      <td>s2</td>\n",
       "      <td>0.169988</td>\n",
       "      <td>10.36450</td>\n",
       "      <td>...</td>\n",
       "      <td>0.015721</td>\n",
       "      <td>0.040902</td>\n",
       "      <td>0.000933</td>\n",
       "      <td>s6</td>\n",
       "      <td>-2.657564</td>\n",
       "      <td>9.751583</td>\n",
       "      <td>-0.627281</td>\n",
       "      <td>-0.001332</td>\n",
       "      <td>-0.023182</td>\n",
       "      <td>-0.010392</td>\n",
       "    </tr>\n",
       "    <tr>\n",
       "      <th>32</th>\n",
       "      <td>s1</td>\n",
       "      <td>0.263362</td>\n",
       "      <td>-9.679757</td>\n",
       "      <td>-2.128445</td>\n",
       "      <td>-0.024515</td>\n",
       "      <td>-0.005063</td>\n",
       "      <td>-0.016654</td>\n",
       "      <td>s2</td>\n",
       "      <td>0.153229</td>\n",
       "      <td>10.32140</td>\n",
       "      <td>...</td>\n",
       "      <td>0.016521</td>\n",
       "      <td>0.032508</td>\n",
       "      <td>0.003064</td>\n",
       "      <td>s6</td>\n",
       "      <td>-2.705448</td>\n",
       "      <td>9.782708</td>\n",
       "      <td>-0.553061</td>\n",
       "      <td>0.003198</td>\n",
       "      <td>-0.028378</td>\n",
       "      <td>-0.006395</td>\n",
       "    </tr>\n",
       "    <tr>\n",
       "      <th>33</th>\n",
       "      <td>s1</td>\n",
       "      <td>0.330400</td>\n",
       "      <td>-9.710882</td>\n",
       "      <td>-2.054225</td>\n",
       "      <td>-0.021583</td>\n",
       "      <td>-0.007861</td>\n",
       "      <td>-0.013590</td>\n",
       "      <td>s2</td>\n",
       "      <td>0.153229</td>\n",
       "      <td>10.34535</td>\n",
       "      <td>...</td>\n",
       "      <td>0.020518</td>\n",
       "      <td>0.049695</td>\n",
       "      <td>0.001466</td>\n",
       "      <td>s6</td>\n",
       "      <td>-2.717419</td>\n",
       "      <td>9.777920</td>\n",
       "      <td>-0.586579</td>\n",
       "      <td>0.002798</td>\n",
       "      <td>-0.029577</td>\n",
       "      <td>-0.005596</td>\n",
       "    </tr>\n",
       "    <tr>\n",
       "      <th>34</th>\n",
       "      <td>s1</td>\n",
       "      <td>0.239420</td>\n",
       "      <td>-9.727641</td>\n",
       "      <td>-2.154782</td>\n",
       "      <td>-0.022916</td>\n",
       "      <td>-0.015588</td>\n",
       "      <td>-0.019052</td>\n",
       "      <td>s2</td>\n",
       "      <td>0.134075</td>\n",
       "      <td>10.30465</td>\n",
       "      <td>...</td>\n",
       "      <td>0.013456</td>\n",
       "      <td>0.048763</td>\n",
       "      <td>0.000933</td>\n",
       "      <td>s6</td>\n",
       "      <td>-2.760514</td>\n",
       "      <td>9.765948</td>\n",
       "      <td>-0.562637</td>\n",
       "      <td>0.001466</td>\n",
       "      <td>-0.030510</td>\n",
       "      <td>-0.004397</td>\n",
       "    </tr>\n",
       "    <tr>\n",
       "      <th>35</th>\n",
       "      <td>s1</td>\n",
       "      <td>0.339977</td>\n",
       "      <td>-9.718064</td>\n",
       "      <td>-2.264915</td>\n",
       "      <td>-0.016387</td>\n",
       "      <td>0.008260</td>\n",
       "      <td>-0.022116</td>\n",
       "      <td>s2</td>\n",
       "      <td>0.040701</td>\n",
       "      <td>10.30465</td>\n",
       "      <td>...</td>\n",
       "      <td>0.017453</td>\n",
       "      <td>0.045165</td>\n",
       "      <td>0.011058</td>\n",
       "      <td>s6</td>\n",
       "      <td>-2.765303</td>\n",
       "      <td>9.765948</td>\n",
       "      <td>-0.579397</td>\n",
       "      <td>-0.001066</td>\n",
       "      <td>-0.017853</td>\n",
       "      <td>-0.005462</td>\n",
       "    </tr>\n",
       "    <tr>\n",
       "      <th>36</th>\n",
       "      <td>s1</td>\n",
       "      <td>0.339977</td>\n",
       "      <td>-9.689334</td>\n",
       "      <td>-2.193089</td>\n",
       "      <td>-0.022250</td>\n",
       "      <td>-0.002265</td>\n",
       "      <td>-0.016920</td>\n",
       "      <td>s2</td>\n",
       "      <td>0.062249</td>\n",
       "      <td>10.27112</td>\n",
       "      <td>...</td>\n",
       "      <td>0.015188</td>\n",
       "      <td>0.051028</td>\n",
       "      <td>0.005729</td>\n",
       "      <td>s6</td>\n",
       "      <td>-2.703054</td>\n",
       "      <td>9.785102</td>\n",
       "      <td>-0.557849</td>\n",
       "      <td>0.000533</td>\n",
       "      <td>-0.020651</td>\n",
       "      <td>-0.009326</td>\n",
       "    </tr>\n",
       "    <tr>\n",
       "      <th>37</th>\n",
       "      <td>s1</td>\n",
       "      <td>0.316035</td>\n",
       "      <td>-9.703699</td>\n",
       "      <td>-2.138022</td>\n",
       "      <td>-0.025447</td>\n",
       "      <td>0.005196</td>\n",
       "      <td>-0.017587</td>\n",
       "      <td>s2</td>\n",
       "      <td>0.069432</td>\n",
       "      <td>10.34774</td>\n",
       "      <td>...</td>\n",
       "      <td>0.017853</td>\n",
       "      <td>0.043567</td>\n",
       "      <td>0.003464</td>\n",
       "      <td>s6</td>\n",
       "      <td>-2.657564</td>\n",
       "      <td>9.753978</td>\n",
       "      <td>-0.569820</td>\n",
       "      <td>0.004263</td>\n",
       "      <td>-0.031043</td>\n",
       "      <td>-0.006129</td>\n",
       "    </tr>\n",
       "    <tr>\n",
       "      <th>38</th>\n",
       "      <td>s1</td>\n",
       "      <td>0.294487</td>\n",
       "      <td>-9.722853</td>\n",
       "      <td>-2.164358</td>\n",
       "      <td>-0.024248</td>\n",
       "      <td>-0.009992</td>\n",
       "      <td>-0.018652</td>\n",
       "      <td>s2</td>\n",
       "      <td>0.114922</td>\n",
       "      <td>10.33098</td>\n",
       "      <td>...</td>\n",
       "      <td>0.015322</td>\n",
       "      <td>0.050095</td>\n",
       "      <td>0.008127</td>\n",
       "      <td>s6</td>\n",
       "      <td>-2.796427</td>\n",
       "      <td>9.780313</td>\n",
       "      <td>-0.636858</td>\n",
       "      <td>-0.002665</td>\n",
       "      <td>-0.023315</td>\n",
       "      <td>-0.007061</td>\n",
       "    </tr>\n",
       "    <tr>\n",
       "      <th>39</th>\n",
       "      <td>s1</td>\n",
       "      <td>0.349553</td>\n",
       "      <td>-9.703699</td>\n",
       "      <td>-2.138022</td>\n",
       "      <td>-0.029444</td>\n",
       "      <td>-0.013590</td>\n",
       "      <td>-0.015855</td>\n",
       "      <td>s2</td>\n",
       "      <td>0.067038</td>\n",
       "      <td>10.37408</td>\n",
       "      <td>...</td>\n",
       "      <td>0.018519</td>\n",
       "      <td>0.050361</td>\n",
       "      <td>0.004796</td>\n",
       "      <td>s6</td>\n",
       "      <td>-2.691083</td>\n",
       "      <td>9.761160</td>\n",
       "      <td>-0.620098</td>\n",
       "      <td>0.000400</td>\n",
       "      <td>-0.018786</td>\n",
       "      <td>-0.012257</td>\n",
       "    </tr>\n",
       "    <tr>\n",
       "      <th>40</th>\n",
       "      <td>s1</td>\n",
       "      <td>0.339977</td>\n",
       "      <td>-9.756371</td>\n",
       "      <td>-2.140416</td>\n",
       "      <td>-0.023982</td>\n",
       "      <td>0.006129</td>\n",
       "      <td>-0.011191</td>\n",
       "      <td>s2</td>\n",
       "      <td>0.052672</td>\n",
       "      <td>10.35253</td>\n",
       "      <td>...</td>\n",
       "      <td>0.015055</td>\n",
       "      <td>0.044632</td>\n",
       "      <td>0.003864</td>\n",
       "      <td>s6</td>\n",
       "      <td>-2.705448</td>\n",
       "      <td>9.742006</td>\n",
       "      <td>-0.588974</td>\n",
       "      <td>-0.004263</td>\n",
       "      <td>-0.023582</td>\n",
       "      <td>0.000933</td>\n",
       "    </tr>\n",
       "    <tr>\n",
       "      <th>41</th>\n",
       "      <td>s1</td>\n",
       "      <td>0.287304</td>\n",
       "      <td>-9.718064</td>\n",
       "      <td>-2.166753</td>\n",
       "      <td>-0.020651</td>\n",
       "      <td>0.015455</td>\n",
       "      <td>-0.011858</td>\n",
       "      <td>s2</td>\n",
       "      <td>0.093374</td>\n",
       "      <td>10.28788</td>\n",
       "      <td>...</td>\n",
       "      <td>0.015322</td>\n",
       "      <td>0.040902</td>\n",
       "      <td>0.005729</td>\n",
       "      <td>s6</td>\n",
       "      <td>-2.705448</td>\n",
       "      <td>9.756371</td>\n",
       "      <td>-0.569820</td>\n",
       "      <td>0.000666</td>\n",
       "      <td>-0.024914</td>\n",
       "      <td>-0.007727</td>\n",
       "    </tr>\n",
       "    <tr>\n",
       "      <th>42</th>\n",
       "      <td>s1</td>\n",
       "      <td>0.265756</td>\n",
       "      <td>-9.694122</td>\n",
       "      <td>-2.094927</td>\n",
       "      <td>-0.026913</td>\n",
       "      <td>0.014922</td>\n",
       "      <td>-0.010392</td>\n",
       "      <td>s2</td>\n",
       "      <td>0.148441</td>\n",
       "      <td>10.32140</td>\n",
       "      <td>...</td>\n",
       "      <td>0.018253</td>\n",
       "      <td>0.043567</td>\n",
       "      <td>-0.003597</td>\n",
       "      <td>s6</td>\n",
       "      <td>-2.712631</td>\n",
       "      <td>9.782708</td>\n",
       "      <td>-0.521936</td>\n",
       "      <td>-0.009326</td>\n",
       "      <td>-0.030643</td>\n",
       "      <td>-0.005329</td>\n",
       "    </tr>\n",
       "    <tr>\n",
       "      <th>43</th>\n",
       "      <td>s1</td>\n",
       "      <td>0.246603</td>\n",
       "      <td>-9.679757</td>\n",
       "      <td>-2.185906</td>\n",
       "      <td>-0.029711</td>\n",
       "      <td>0.013190</td>\n",
       "      <td>-0.015721</td>\n",
       "      <td>s2</td>\n",
       "      <td>0.098162</td>\n",
       "      <td>10.31183</td>\n",
       "      <td>...</td>\n",
       "      <td>0.019185</td>\n",
       "      <td>0.035306</td>\n",
       "      <td>0.002665</td>\n",
       "      <td>s6</td>\n",
       "      <td>-2.724602</td>\n",
       "      <td>9.753978</td>\n",
       "      <td>-0.612916</td>\n",
       "      <td>-0.001865</td>\n",
       "      <td>-0.033175</td>\n",
       "      <td>-0.009859</td>\n",
       "    </tr>\n",
       "    <tr>\n",
       "      <th>44</th>\n",
       "      <td>s1</td>\n",
       "      <td>0.292093</td>\n",
       "      <td>-9.703699</td>\n",
       "      <td>-2.183512</td>\n",
       "      <td>-0.026113</td>\n",
       "      <td>0.014123</td>\n",
       "      <td>-0.012923</td>\n",
       "      <td>s2</td>\n",
       "      <td>0.098162</td>\n",
       "      <td>10.24958</td>\n",
       "      <td>...</td>\n",
       "      <td>0.021184</td>\n",
       "      <td>0.040502</td>\n",
       "      <td>0.000133</td>\n",
       "      <td>s6</td>\n",
       "      <td>-2.674323</td>\n",
       "      <td>9.742006</td>\n",
       "      <td>-0.603339</td>\n",
       "      <td>0.002132</td>\n",
       "      <td>-0.023715</td>\n",
       "      <td>-0.015588</td>\n",
       "    </tr>\n",
       "    <tr>\n",
       "      <th>45</th>\n",
       "      <td>s1</td>\n",
       "      <td>0.287304</td>\n",
       "      <td>-9.715671</td>\n",
       "      <td>-2.152387</td>\n",
       "      <td>-0.017320</td>\n",
       "      <td>0.007061</td>\n",
       "      <td>-0.006928</td>\n",
       "      <td>s2</td>\n",
       "      <td>0.119710</td>\n",
       "      <td>10.31901</td>\n",
       "      <td>...</td>\n",
       "      <td>0.018519</td>\n",
       "      <td>0.047697</td>\n",
       "      <td>0.004796</td>\n",
       "      <td>s6</td>\n",
       "      <td>-2.693477</td>\n",
       "      <td>9.768343</td>\n",
       "      <td>-0.615310</td>\n",
       "      <td>0.001998</td>\n",
       "      <td>-0.022649</td>\n",
       "      <td>-0.009859</td>\n",
       "    </tr>\n",
       "    <tr>\n",
       "      <th>46</th>\n",
       "      <td>s1</td>\n",
       "      <td>0.378284</td>\n",
       "      <td>-9.679757</td>\n",
       "      <td>-2.166753</td>\n",
       "      <td>-0.028245</td>\n",
       "      <td>0.010259</td>\n",
       "      <td>-0.007861</td>\n",
       "      <td>s2</td>\n",
       "      <td>0.064643</td>\n",
       "      <td>10.29746</td>\n",
       "      <td>...</td>\n",
       "      <td>0.018519</td>\n",
       "      <td>0.035440</td>\n",
       "      <td>0.004130</td>\n",
       "      <td>s6</td>\n",
       "      <td>-2.700660</td>\n",
       "      <td>9.768343</td>\n",
       "      <td>-0.569820</td>\n",
       "      <td>-0.000933</td>\n",
       "      <td>-0.030377</td>\n",
       "      <td>-0.005462</td>\n",
       "    </tr>\n",
       "    <tr>\n",
       "      <th>47</th>\n",
       "      <td>s1</td>\n",
       "      <td>0.356736</td>\n",
       "      <td>-9.722853</td>\n",
       "      <td>-2.217031</td>\n",
       "      <td>-0.030110</td>\n",
       "      <td>0.011458</td>\n",
       "      <td>-0.018786</td>\n",
       "      <td>s2</td>\n",
       "      <td>0.098162</td>\n",
       "      <td>10.29507</td>\n",
       "      <td>...</td>\n",
       "      <td>0.015988</td>\n",
       "      <td>0.037704</td>\n",
       "      <td>0.006395</td>\n",
       "      <td>s6</td>\n",
       "      <td>-2.770091</td>\n",
       "      <td>9.715671</td>\n",
       "      <td>-0.572214</td>\n",
       "      <td>0.001599</td>\n",
       "      <td>-0.037571</td>\n",
       "      <td>-0.009193</td>\n",
       "    </tr>\n",
       "    <tr>\n",
       "      <th>48</th>\n",
       "      <td>s1</td>\n",
       "      <td>0.342371</td>\n",
       "      <td>-9.718064</td>\n",
       "      <td>-2.221819</td>\n",
       "      <td>-0.041302</td>\n",
       "      <td>0.021583</td>\n",
       "      <td>-0.009326</td>\n",
       "      <td>s2</td>\n",
       "      <td>0.055067</td>\n",
       "      <td>10.31662</td>\n",
       "      <td>...</td>\n",
       "      <td>0.015588</td>\n",
       "      <td>0.041968</td>\n",
       "      <td>-0.000400</td>\n",
       "      <td>s6</td>\n",
       "      <td>-2.736573</td>\n",
       "      <td>9.742006</td>\n",
       "      <td>-0.627281</td>\n",
       "      <td>-0.001998</td>\n",
       "      <td>-0.025580</td>\n",
       "      <td>-0.013989</td>\n",
       "    </tr>\n",
       "    <tr>\n",
       "      <th>49</th>\n",
       "      <td>s1</td>\n",
       "      <td>0.308852</td>\n",
       "      <td>-9.696517</td>\n",
       "      <td>-2.183512</td>\n",
       "      <td>-0.030243</td>\n",
       "      <td>0.023982</td>\n",
       "      <td>-0.011591</td>\n",
       "      <td>s2</td>\n",
       "      <td>0.100556</td>\n",
       "      <td>10.31901</td>\n",
       "      <td>...</td>\n",
       "      <td>0.016387</td>\n",
       "      <td>0.036639</td>\n",
       "      <td>0.003198</td>\n",
       "      <td>s6</td>\n",
       "      <td>-2.722207</td>\n",
       "      <td>9.777920</td>\n",
       "      <td>-0.624887</td>\n",
       "      <td>0.000533</td>\n",
       "      <td>-0.039570</td>\n",
       "      <td>-0.007328</td>\n",
       "    </tr>\n",
       "    <tr>\n",
       "      <th>50</th>\n",
       "      <td>s1</td>\n",
       "      <td>0.277727</td>\n",
       "      <td>-9.720459</td>\n",
       "      <td>-2.195483</td>\n",
       "      <td>-0.025714</td>\n",
       "      <td>0.011325</td>\n",
       "      <td>-0.003198</td>\n",
       "      <td>s2</td>\n",
       "      <td>0.110133</td>\n",
       "      <td>10.30704</td>\n",
       "      <td>...</td>\n",
       "      <td>0.012391</td>\n",
       "      <td>0.047164</td>\n",
       "      <td>0.004796</td>\n",
       "      <td>s6</td>\n",
       "      <td>-2.705448</td>\n",
       "      <td>9.787497</td>\n",
       "      <td>-0.567426</td>\n",
       "      <td>0.001732</td>\n",
       "      <td>-0.031709</td>\n",
       "      <td>-0.011591</td>\n",
       "    </tr>\n",
       "    <tr>\n",
       "      <th>51</th>\n",
       "      <td>s1</td>\n",
       "      <td>0.253785</td>\n",
       "      <td>-9.722853</td>\n",
       "      <td>-2.262521</td>\n",
       "      <td>-0.014789</td>\n",
       "      <td>0.008926</td>\n",
       "      <td>-0.007461</td>\n",
       "      <td>s2</td>\n",
       "      <td>0.107739</td>\n",
       "      <td>10.29267</td>\n",
       "      <td>...</td>\n",
       "      <td>0.016254</td>\n",
       "      <td>0.048629</td>\n",
       "      <td>0.003464</td>\n",
       "      <td>s6</td>\n",
       "      <td>-2.722207</td>\n",
       "      <td>9.751583</td>\n",
       "      <td>-0.574608</td>\n",
       "      <td>-0.001732</td>\n",
       "      <td>-0.031576</td>\n",
       "      <td>-0.004397</td>\n",
       "    </tr>\n",
       "    <tr>\n",
       "      <th>52</th>\n",
       "      <td>s1</td>\n",
       "      <td>0.272939</td>\n",
       "      <td>-9.667787</td>\n",
       "      <td>-2.248155</td>\n",
       "      <td>-0.021583</td>\n",
       "      <td>0.002398</td>\n",
       "      <td>-0.008127</td>\n",
       "      <td>s2</td>\n",
       "      <td>0.081403</td>\n",
       "      <td>10.28549</td>\n",
       "      <td>...</td>\n",
       "      <td>0.013590</td>\n",
       "      <td>0.053026</td>\n",
       "      <td>0.004263</td>\n",
       "      <td>s6</td>\n",
       "      <td>-2.683900</td>\n",
       "      <td>9.785102</td>\n",
       "      <td>-0.660800</td>\n",
       "      <td>-0.004397</td>\n",
       "      <td>-0.016387</td>\n",
       "      <td>-0.010792</td>\n",
       "    </tr>\n",
       "  </tbody>\n",
       "</table>\n",
       "<p>53 rows × 42 columns</p>\n",
       "</div>"
      ],
      "text/plain": [
       "    s1     bt_ax     bt_ay     bt_az     bt_gx     bt_gy     bt_gz  s2  \\\n",
       "0   s1  0.308852 -9.696517 -2.147599 -0.014389  0.001865 -0.018919  s2   \n",
       "1   s1  0.284910 -9.744401 -2.020706 -0.027046  0.000666 -0.020118  s2   \n",
       "2   s1  0.313640 -9.725247 -2.190695 -0.030643 -0.001732 -0.015855  s2   \n",
       "3   s1  0.260968 -9.727641 -2.114080 -0.002665  0.015322 -0.012257  s2   \n",
       "4   s1  0.373495 -9.722853 -2.106898 -0.018519  0.019851 -0.009726  s2   \n",
       "5   s1  0.308852 -9.706094 -2.152387 -0.022516  0.009326 -0.009992  s2   \n",
       "6   s1  0.313640 -9.682152 -2.200271 -0.036772  0.013323 -0.009726  s2   \n",
       "7   s1  0.313640 -9.670180 -2.128445 -0.033974  0.007061 -0.015588  s2   \n",
       "8   s1  0.366313 -9.694122 -2.260126 -0.031309  0.029577 -0.007061  s2   \n",
       "9   s1  0.258574 -9.713276 -2.070984 -0.024381  0.012391 -0.011591  s2   \n",
       "10  s1  0.277727 -9.737218 -2.190695 -0.018652  0.010658 -0.014389  s2   \n",
       "11  s1  0.272939 -9.701305 -2.183512 -0.015721  0.004930 -0.017587  s2   \n",
       "12  s1  0.304064 -9.744401 -2.149993 -0.019985  0.011325 -0.019452  s2   \n",
       "13  s1  0.359130 -9.763555 -2.190695 -0.004930  0.012790 -0.011325  s2   \n",
       "14  s1  0.299275 -9.713276 -2.054225 -0.014922  0.006662 -0.008660  s2   \n",
       "15  s1  0.289698 -9.725247 -2.011129 -0.020784  0.019851 -0.010126  s2   \n",
       "16  s1  0.299275 -9.725247 -2.133234 -0.025314  0.016254 -0.012257  s2   \n",
       "17  s1  0.260968 -9.749189 -2.066196 -0.019319  0.005729 -0.012657  s2   \n",
       "18  s1  0.359130 -9.696517 -2.063802 -0.026646  0.002132 -0.011991  s2   \n",
       "19  s1  0.311246 -9.725247 -2.205060 -0.025447  0.016787 -0.012524  s2   \n",
       "20  s1  0.371101 -9.658210 -2.078167 -0.033574  0.020784 -0.018652  s2   \n",
       "21  s1  0.308852 -9.662998 -2.185906 -0.033574  0.014123 -0.015055  s2   \n",
       "22  s1  0.292093 -9.727641 -2.128445 -0.036106  0.006129 -0.013456  s2   \n",
       "23  s1  0.332794 -9.710882 -2.255338 -0.029311  0.002665 -0.013057  s2   \n",
       "24  s1  0.383072 -9.708488 -2.305616 -0.018119  0.009459 -0.001466  s2   \n",
       "25  s1  0.304064 -9.742006 -2.152387 -0.023848  0.023982 -0.000533  s2   \n",
       "26  s1  0.210690 -9.713276 -2.250550 -0.019452  0.023049 -0.000400  s2   \n",
       "27  s1  0.246603 -9.698911 -2.164358 -0.014389  0.012657 -0.006262  s2   \n",
       "28  s1  0.227449 -9.737218 -2.109292 -0.024248 -0.001199 -0.020518  s2   \n",
       "29  s1  0.270545 -9.686940 -2.219425 -0.014522  0.013590 -0.012391  s2   \n",
       "30  s1  0.239420 -9.639056 -2.075773 -0.024515  0.012923 -0.018652  s2   \n",
       "31  s1  0.244209 -9.732430 -2.147599 -0.021983  0.004530 -0.023715  s2   \n",
       "32  s1  0.263362 -9.679757 -2.128445 -0.024515 -0.005063 -0.016654  s2   \n",
       "33  s1  0.330400 -9.710882 -2.054225 -0.021583 -0.007861 -0.013590  s2   \n",
       "34  s1  0.239420 -9.727641 -2.154782 -0.022916 -0.015588 -0.019052  s2   \n",
       "35  s1  0.339977 -9.718064 -2.264915 -0.016387  0.008260 -0.022116  s2   \n",
       "36  s1  0.339977 -9.689334 -2.193089 -0.022250 -0.002265 -0.016920  s2   \n",
       "37  s1  0.316035 -9.703699 -2.138022 -0.025447  0.005196 -0.017587  s2   \n",
       "38  s1  0.294487 -9.722853 -2.164358 -0.024248 -0.009992 -0.018652  s2   \n",
       "39  s1  0.349553 -9.703699 -2.138022 -0.029444 -0.013590 -0.015855  s2   \n",
       "40  s1  0.339977 -9.756371 -2.140416 -0.023982  0.006129 -0.011191  s2   \n",
       "41  s1  0.287304 -9.718064 -2.166753 -0.020651  0.015455 -0.011858  s2   \n",
       "42  s1  0.265756 -9.694122 -2.094927 -0.026913  0.014922 -0.010392  s2   \n",
       "43  s1  0.246603 -9.679757 -2.185906 -0.029711  0.013190 -0.015721  s2   \n",
       "44  s1  0.292093 -9.703699 -2.183512 -0.026113  0.014123 -0.012923  s2   \n",
       "45  s1  0.287304 -9.715671 -2.152387 -0.017320  0.007061 -0.006928  s2   \n",
       "46  s1  0.378284 -9.679757 -2.166753 -0.028245  0.010259 -0.007861  s2   \n",
       "47  s1  0.356736 -9.722853 -2.217031 -0.030110  0.011458 -0.018786  s2   \n",
       "48  s1  0.342371 -9.718064 -2.221819 -0.041302  0.021583 -0.009326  s2   \n",
       "49  s1  0.308852 -9.696517 -2.183512 -0.030243  0.023982 -0.011591  s2   \n",
       "50  s1  0.277727 -9.720459 -2.195483 -0.025714  0.011325 -0.003198  s2   \n",
       "51  s1  0.253785 -9.722853 -2.262521 -0.014789  0.008926 -0.007461  s2   \n",
       "52  s1  0.272939 -9.667787 -2.248155 -0.021583  0.002398 -0.008127  s2   \n",
       "\n",
       "       bb_ax     bb_ay  ...     rt_gx     rt_gy     rt_gz  s6     rb_ax  \\\n",
       "0   0.074220  10.29986  ...  0.018119  0.041302  0.001066  s6 -2.731784   \n",
       "1   0.093374  10.29028  ...  0.018786  0.050761 -0.002531  s6 -2.703054   \n",
       "2   0.031125  10.31662  ...  0.018652  0.043966  0.002531  s6 -2.810793   \n",
       "3   0.064643  10.32380  ...  0.014389  0.040502  0.007328  s6 -2.758120   \n",
       "4   0.028730  10.28549  ...  0.018386  0.032508  0.009593  s6 -2.770091   \n",
       "5   0.038307  10.27352  ...  0.018119  0.042900  0.008394  s6 -2.801216   \n",
       "6   0.079009  10.31901  ...  0.017853  0.040236  0.004263  s6 -2.767697   \n",
       "7   0.079009  10.29267  ...  0.017054  0.023982  0.006262  s6 -2.705448   \n",
       "8   0.023942  10.27112  ...  0.020518  0.035839  0.009326  s6 -2.748544   \n",
       "9   0.069432  10.27352  ...  0.013190  0.047830  0.006262  s6 -2.703054   \n",
       "10  0.071826  10.33337  ...  0.017187  0.048896  0.009193  s6 -2.765303   \n",
       "11  0.102951  10.31183  ...  0.012257  0.041302  0.001332  s6 -2.767697   \n",
       "12  0.074220  10.30225  ...  0.017986  0.049695  0.001066  s6 -2.791639   \n",
       "13  0.069432  10.37647  ...  0.012391  0.035972  0.009593  s6 -2.712631   \n",
       "14  0.138864  10.29986  ...  0.016654  0.036639  0.008926  s6 -2.674323   \n",
       "15  0.143652  10.30465  ...  0.014123  0.037571  0.003331  s6 -2.671929   \n",
       "16  0.090980  10.28070  ...  0.020917  0.040502  0.003864  s6 -2.731784   \n",
       "17  0.107739  10.28788  ...  0.013057  0.043700  0.003331  s6 -2.657564   \n",
       "18  0.095768  10.26155  ...  0.019052  0.044766  0.001199  s6 -2.659958   \n",
       "19  0.076614  10.29267  ...  0.020384  0.039436  0.005462  s6 -2.762909   \n",
       "20  0.090980  10.29507  ...  0.017187  0.045299  0.000799  s6 -2.726996   \n",
       "21  0.064643  10.27352  ...  0.018119  0.038371  0.006395  s6 -2.698265   \n",
       "22  0.047884  10.28310  ...  0.016521  0.055025  0.001066  s6 -2.726996   \n",
       "23  0.047884  10.32140  ...  0.016654  0.044766  0.003864  s6 -2.688689   \n",
       "24  0.002394  10.28788  ...  0.017453  0.053692  0.004130  s6 -2.731784   \n",
       "25  0.117316  10.34535  ...  0.013190  0.044233  0.006129  s6 -2.700660   \n",
       "26  0.122104  10.37647  ...  0.012257  0.035173  0.004263  s6 -2.748544   \n",
       "27  0.198719  10.29986  ...  0.011724  0.058489  0.003064  s6 -2.760514   \n",
       "28  0.155623  10.29986  ...  0.014123  0.036372  0.003997  s6 -2.710236   \n",
       "29  0.110133  10.32859  ...  0.016920  0.044632  0.001998  s6 -2.786851   \n",
       "30  0.138864  10.31422  ...  0.016387  0.039703 -0.004130  s6 -2.743755   \n",
       "31  0.169988  10.36450  ...  0.015721  0.040902  0.000933  s6 -2.657564   \n",
       "32  0.153229  10.32140  ...  0.016521  0.032508  0.003064  s6 -2.705448   \n",
       "33  0.153229  10.34535  ...  0.020518  0.049695  0.001466  s6 -2.717419   \n",
       "34  0.134075  10.30465  ...  0.013456  0.048763  0.000933  s6 -2.760514   \n",
       "35  0.040701  10.30465  ...  0.017453  0.045165  0.011058  s6 -2.765303   \n",
       "36  0.062249  10.27112  ...  0.015188  0.051028  0.005729  s6 -2.703054   \n",
       "37  0.069432  10.34774  ...  0.017853  0.043567  0.003464  s6 -2.657564   \n",
       "38  0.114922  10.33098  ...  0.015322  0.050095  0.008127  s6 -2.796427   \n",
       "39  0.067038  10.37408  ...  0.018519  0.050361  0.004796  s6 -2.691083   \n",
       "40  0.052672  10.35253  ...  0.015055  0.044632  0.003864  s6 -2.705448   \n",
       "41  0.093374  10.28788  ...  0.015322  0.040902  0.005729  s6 -2.705448   \n",
       "42  0.148441  10.32140  ...  0.018253  0.043567 -0.003597  s6 -2.712631   \n",
       "43  0.098162  10.31183  ...  0.019185  0.035306  0.002665  s6 -2.724602   \n",
       "44  0.098162  10.24958  ...  0.021184  0.040502  0.000133  s6 -2.674323   \n",
       "45  0.119710  10.31901  ...  0.018519  0.047697  0.004796  s6 -2.693477   \n",
       "46  0.064643  10.29746  ...  0.018519  0.035440  0.004130  s6 -2.700660   \n",
       "47  0.098162  10.29507  ...  0.015988  0.037704  0.006395  s6 -2.770091   \n",
       "48  0.055067  10.31662  ...  0.015588  0.041968 -0.000400  s6 -2.736573   \n",
       "49  0.100556  10.31901  ...  0.016387  0.036639  0.003198  s6 -2.722207   \n",
       "50  0.110133  10.30704  ...  0.012391  0.047164  0.004796  s6 -2.705448   \n",
       "51  0.107739  10.29267  ...  0.016254  0.048629  0.003464  s6 -2.722207   \n",
       "52  0.081403  10.28549  ...  0.013590  0.053026  0.004263  s6 -2.683900   \n",
       "\n",
       "       rb_ay     rb_az     rb_gx     rb_gy     rb_gz  \n",
       "0   9.749189 -0.694318  0.000666 -0.027712 -0.007461  \n",
       "1   9.756371 -0.514753 -0.000266 -0.009859 -0.010925  \n",
       "2   9.761160 -0.658405 -0.001732 -0.016121 -0.007061  \n",
       "3   9.737218 -0.608127  0.003064 -0.038371 -0.006262  \n",
       "4   9.753978 -0.577003 -0.008394 -0.035440 -0.002265  \n",
       "5   9.718064 -0.538695  0.003064 -0.035440  0.000933  \n",
       "6   9.689334 -0.593762  0.000000 -0.033041 -0.006795  \n",
       "7   9.782708 -0.644040 -0.001199 -0.037838 -0.005462  \n",
       "8   9.775525 -0.543484  0.001599 -0.041168 -0.004530  \n",
       "9   9.763555 -0.591368  0.003464 -0.028645 -0.006129  \n",
       "10  9.744401 -0.639252 -0.002398 -0.030643 -0.005462  \n",
       "11  9.770737 -0.651223 -0.001332 -0.025980 -0.006795  \n",
       "12  9.737218 -0.622492 -0.005063 -0.026380 -0.006262  \n",
       "13  9.794679 -0.555455 -0.000933 -0.031576 -0.008926  \n",
       "14  9.773131 -0.629675 -0.001599 -0.037038 -0.001865  \n",
       "15  9.768343 -0.591368 -0.002531 -0.030377 -0.006395  \n",
       "16  9.732430 -0.598550 -0.002132 -0.036505 -0.003064  \n",
       "17  9.763555 -0.562637 -0.001199 -0.033708 -0.009193  \n",
       "18  9.777920 -0.624887  0.000400 -0.039436 -0.007461  \n",
       "19  9.768343 -0.600945 -0.006528 -0.024648 -0.005063  \n",
       "20  9.768343 -0.550666 -0.005063 -0.019185 -0.005729  \n",
       "21  9.753978 -0.605733  0.005995 -0.035573 -0.009326  \n",
       "22  9.765948 -0.622492  0.004130 -0.026380 -0.007328  \n",
       "23  9.775525 -0.598550  0.002931 -0.024914 -0.007861  \n",
       "24  9.811439 -0.687136 -0.002798 -0.021051 -0.002398  \n",
       "25  9.789890 -0.565032 -0.006662 -0.017453 -0.005995  \n",
       "26  9.737218 -0.560243  0.000533 -0.032642 -0.003864  \n",
       "27  9.734824 -0.605733  0.002531 -0.013190 -0.011458  \n",
       "28  9.730036 -0.632069 -0.001865 -0.039303 -0.004397  \n",
       "29  9.732430 -0.605733 -0.003464 -0.034374 -0.006528  \n",
       "30  9.758766 -0.646435  0.000799 -0.033574 -0.003331  \n",
       "31  9.751583 -0.627281 -0.001332 -0.023182 -0.010392  \n",
       "32  9.782708 -0.553061  0.003198 -0.028378 -0.006395  \n",
       "33  9.777920 -0.586579  0.002798 -0.029577 -0.005596  \n",
       "34  9.765948 -0.562637  0.001466 -0.030510 -0.004397  \n",
       "35  9.765948 -0.579397 -0.001066 -0.017853 -0.005462  \n",
       "36  9.785102 -0.557849  0.000533 -0.020651 -0.009326  \n",
       "37  9.753978 -0.569820  0.004263 -0.031043 -0.006129  \n",
       "38  9.780313 -0.636858 -0.002665 -0.023315 -0.007061  \n",
       "39  9.761160 -0.620098  0.000400 -0.018786 -0.012257  \n",
       "40  9.742006 -0.588974 -0.004263 -0.023582  0.000933  \n",
       "41  9.756371 -0.569820  0.000666 -0.024914 -0.007727  \n",
       "42  9.782708 -0.521936 -0.009326 -0.030643 -0.005329  \n",
       "43  9.753978 -0.612916 -0.001865 -0.033175 -0.009859  \n",
       "44  9.742006 -0.603339  0.002132 -0.023715 -0.015588  \n",
       "45  9.768343 -0.615310  0.001998 -0.022649 -0.009859  \n",
       "46  9.768343 -0.569820 -0.000933 -0.030377 -0.005462  \n",
       "47  9.715671 -0.572214  0.001599 -0.037571 -0.009193  \n",
       "48  9.742006 -0.627281 -0.001998 -0.025580 -0.013989  \n",
       "49  9.777920 -0.624887  0.000533 -0.039570 -0.007328  \n",
       "50  9.787497 -0.567426  0.001732 -0.031709 -0.011591  \n",
       "51  9.751583 -0.574608 -0.001732 -0.031576 -0.004397  \n",
       "52  9.785102 -0.660800 -0.004397 -0.016387 -0.010792  \n",
       "\n",
       "[53 rows x 42 columns]"
      ]
     },
     "execution_count": 4,
     "metadata": {},
     "output_type": "execute_result"
    }
   ],
   "source": [
    "def read_csv_file(file_path):\n",
    "    df = pd.read_csv(file_path,sep = ' ',header = None)\n",
    "    df.columns = [\"s1\",\"bt_ax\",\"bt_ay\",\"bt_az\",\"bt_gx\",\"bt_gy\",\"bt_gz\",\n",
    "                 \"s2\",\"bb_ax\",\"bb_ay\",\"bb_az\",\"bb_gx\",\"bb_gy\",\"bb_gz\",\n",
    "                 \"s3\",\"lt_ax\",\"lt_ay\",\"lt_az\",\"lt_gx\",\"lt_gy\",\"lt_gz\",\n",
    "                 \"s4\",\"lb_ax\",\"lb_ay\",\"lb_az\",\"lb_gx\",\"lb_gy\",\"lb_gz\",\n",
    "                \"s5\",\"rt_ax\",\"rt_ay\",\"rt_az\",\"rt_gx\",\"rt_gy\",\"rt_gz\",\n",
    "                 \"s6\",\"rb_ax\",\"rb_ay\",\"rb_az\",\"rb_gx\",\"rb_gy\",\"rb_gz\",\n",
    "                 ]\n",
    "\n",
    "    return df\n",
    "\n",
    "df = read_csv_file('dataset/__Vadim.csv')\n",
    "\n",
    "\n",
    "df"
   ]
  },
  {
   "cell_type": "code",
   "execution_count": 5,
   "id": "3271fb4f",
   "metadata": {},
   "outputs": [],
   "source": [
    "#each  IMU for calibration\n",
    "def parse_to_sensors(df):\n",
    "    bt = df[[\"bt_ax\",\"bt_ay\",\"bt_az\",\"bt_gx\",\"bt_gy\",\"bt_gz\"]]\n",
    "    bb = df[[\"bb_ax\",\"bb_ay\",\"bb_az\",\"bb_gx\",\"bb_gy\",\"bb_gz\"]]\n",
    "    lt = df[[\"lt_ax\",\"lt_ay\",\"lt_az\",\"lt_gx\",\"lt_gy\",\"lt_gz\"]]\n",
    "    lb = df[[\"lb_ax\",\"lb_ay\",\"lb_az\",\"lb_gx\",\"lb_gy\",\"lb_gz\"]]\n",
    "    rt = df[[\"rt_ax\",\"rt_ay\",\"rt_az\",\"rt_gx\",\"rt_gy\",\"rt_gz\"]]\n",
    "    rb = df[[\"rb_ax\",\"rb_ay\",\"rb_az\",\"rb_gx\",\"rb_gy\",\"rb_gz\"]]\n",
    "    \n",
    "#     show_plot(lb,'Non calibrated left-bot ',True)\n",
    "#     show_plot(lb,'Non calibrated left-bot ',False)\n",
    "    return bt,bb,lt,lb,rt,rb\n"
   ]
  },
  {
   "cell_type": "code",
   "execution_count": null,
   "id": "e2c78146",
   "metadata": {},
   "outputs": [],
   "source": []
  },
  {
   "cell_type": "markdown",
   "id": "430e8bcb",
   "metadata": {},
   "source": [
    "# Filter outliers"
   ]
  },
  {
   "cell_type": "code",
   "execution_count": 6,
   "id": "8f7e41d0",
   "metadata": {},
   "outputs": [],
   "source": [
    "def filter_outliers(df_local):\n",
    "    \n",
    "    outl = find_headers(df_local)\n",
    "    df= df_local.copy()\n",
    "    for o in outl:\n",
    "        median = df[o].median()\n",
    "        std = df[o].std()\n",
    "        df.loc[(df[o] - median).abs() > std,o]=np.nan\n",
    "        df[o].fillna(median, inplace=True)\n",
    "    return df\n",
    "\n",
    "def find_outliers(df):\n",
    "    \n",
    "    bt,bb,lt,lb,rt,rb = parse_to_sensors(df)\n",
    "    \n",
    "    rb_outl = filter_outliers(rb)\n",
    "    rt_outl =filter_outliers(rt)\n",
    "    lb_outl = filter_outliers(lb)\n",
    "    lt_outl = filter_outliers(lt)\n",
    "    bb_outl = filter_outliers(bb)\n",
    "    bt_outl = filter_outliers(bt)\n",
    "    \n",
    "\n",
    "#     show_plot(lb,'With outliers ',False)\n",
    "#     show_plot(lb_outl,'With outliers ',False)\n",
    "#     show_plot(calibrated_lb,'Without outliers',False)\n",
    "\n",
    "    return rb_outl,rt_outl,lb_outl,lt_outl,bb_outl,bt_outl\n",
    "\n",
    "# def all_calibrate(df):\n",
    "#     calibration()\n",
    "\n",
    "# calibration_frame = find_outliers(df)\n",
    "# calibration_frame\n",
    "# show_plot(lb,'With outliers ',True)\n",
    "# show_plot(lb_outl,'Without outliers',True)"
   ]
  },
  {
   "cell_type": "code",
   "execution_count": 7,
   "id": "a0e20f9f",
   "metadata": {},
   "outputs": [],
   "source": [
    "# df"
   ]
  },
  {
   "cell_type": "markdown",
   "id": "ea559918",
   "metadata": {},
   "source": [
    " Calibrate DF of each sensor"
   ]
  },
  {
   "cell_type": "markdown",
   "id": "18551ec2",
   "metadata": {},
   "source": [
    "# Calibration data"
   ]
  },
  {
   "cell_type": "code",
   "execution_count": 16,
   "id": "1044359d",
   "metadata": {},
   "outputs": [
    {
     "name": "stdout",
     "output_type": "stream",
     "text": [
      "['rb_ax', 'rb_ay', 'rb_az', 'rb_gx', 'rb_gy', 'rb_gz']\n",
      "['rt_ax', 'rt_ay', 'rt_az', 'rt_gx', 'rt_gy', 'rt_gz']\n",
      "['lb_ax', 'lb_ay', 'lb_az', 'lb_gx', 'lb_gy', 'lb_gz']\n",
      "['lt_ax', 'lt_ay', 'lt_az', 'lt_gx', 'lt_gy', 'lt_gz']\n",
      "['bb_ax', 'bb_ay', 'bb_az', 'bb_gx', 'bb_gy', 'bb_gz']\n",
      "['bt_ax', 'bt_ay', 'bt_az', 'bt_gx', 'bt_gy', 'bt_gz']\n"
     ]
    },
    {
     "data": {
      "application/vnd.plotly.v1+json": {
       "config": {
        "plotlyServerURL": "https://plot.ly"
       },
       "data": [
        {
         "name": "lb_gx",
         "type": "scatter",
         "x": [
          0,
          1,
          2,
          3,
          4,
          5,
          6,
          7,
          8,
          9,
          10,
          11,
          12,
          13,
          14,
          15,
          16,
          17,
          18,
          19,
          20,
          21,
          22,
          23,
          24,
          25,
          26,
          27,
          28,
          29,
          30,
          31,
          32,
          33,
          34,
          35,
          36,
          37,
          38,
          39,
          40,
          41,
          42,
          43,
          44,
          45,
          46
         ],
         "y": [
          0.09526035,
          0.1017887,
          0.09885758,
          0.1069847,
          0.1012558,
          0.08726647,
          0.07820675,
          0.07274426,
          0.07101226,
          0.09073049,
          0.09166309,
          0.1061853,
          0.1321654,
          0.186657,
          0.1989143,
          0.1184426,
          0.2328882,
          0.2591348,
          0.08420216,
          0.2071746,
          0.08180398,
          0.1669388,
          0.1493522,
          0.07647474,
          -0.02038438,
          -0.05222665,
          0.001465544,
          0.09086371,
          0.01931853,
          -0.02598009,
          0.1633415,
          0.1245712,
          0.1425574,
          0.1235054,
          0.09685912,
          0.1003231,
          0.1011225,
          0.09512712,
          0.1019219,
          0.0877994,
          0.0941945,
          0.0941945,
          0.09592651,
          0.1081838,
          0.1047198,
          0.1075176,
          0.110049
         ]
        },
        {
         "name": "lb_gy",
         "type": "scatter",
         "x": [
          0,
          1,
          2,
          3,
          4,
          5,
          6,
          7,
          8,
          9,
          10,
          11,
          12,
          13,
          14,
          15,
          16,
          17,
          18,
          19,
          20,
          21,
          22,
          23,
          24,
          25,
          26,
          27,
          28,
          29,
          30,
          31,
          32,
          33,
          34,
          35,
          36,
          37,
          38,
          39,
          40,
          41,
          42,
          43,
          44,
          45,
          46
         ],
         "y": [
          0.06528331,
          0.05262635,
          0.06501685,
          0.07141195,
          0.07327719,
          0.05395866,
          0.05822206,
          0.07381011,
          0.03077642,
          0.03743798,
          0.008926495,
          0.02797856,
          0.1694702,
          0.2137029,
          0.5477137,
          0.1622757,
          0.1842588,
          0.5297275,
          0.3526631,
          0.293242,
          0.2928423,
          0.004529863,
          -0.03543952,
          -0.1874564,
          -0.3174901,
          -0.3396065,
          -0.2182328,
          -0.2017121,
          0.05489128,
          -0.2775207,
          0.1096493,
          0.02331547,
          0.02198316,
          -0.002931087,
          0.08286983,
          0.02784533,
          0.07141195,
          0.08087137,
          0.05529098,
          0.05182696,
          0.03037673,
          0.08140429,
          0.06568301,
          0.04583155,
          0.05808883,
          0.05182696,
          0.03450689
         ]
        },
        {
         "name": "lb_gz",
         "type": "scatter",
         "x": [
          0,
          1,
          2,
          3,
          4,
          5,
          6,
          7,
          8,
          9,
          10,
          11,
          12,
          13,
          14,
          15,
          16,
          17,
          18,
          19,
          20,
          21,
          22,
          23,
          24,
          25,
          26,
          27,
          28,
          29,
          30,
          31,
          32,
          33,
          34,
          35,
          36,
          37,
          38,
          39,
          40,
          41,
          42,
          43,
          44,
          45,
          46
         ],
         "y": [
          0.01692037,
          0.0127902,
          0.01945176,
          0.01678714,
          0.02304901,
          0.01612098,
          0.01398928,
          -0.006794794,
          -0.0001332313,
          0.009326188,
          -0.009725882,
          0.02264931,
          0.09566004,
          0.2651302,
          0.7889955,
          0.671752,
          0.6133967,
          0.5626356,
          0.3546616,
          0.4381976,
          0.2937749,
          0.1176432,
          -0.360657,
          -0.5800889,
          -0.6032711,
          -0.7623492,
          -0.5241318,
          -0.5577061,
          -0.372781,
          -0.3257504,
          0.1183094,
          0.03130934,
          0.02264931,
          -0.01385605,
          -0.004663094,
          0.00319755,
          0.0255804,
          0.0127902,
          0.01052527,
          0.00746095,
          0.01625421,
          0.02544717,
          0.02864472,
          0.02118377,
          0.02211639,
          0.01678714,
          0.01052527
         ]
        }
       ],
       "layout": {
        "template": {
         "data": {
          "bar": [
           {
            "error_x": {
             "color": "#2a3f5f"
            },
            "error_y": {
             "color": "#2a3f5f"
            },
            "marker": {
             "line": {
              "color": "#E5ECF6",
              "width": 0.5
             },
             "pattern": {
              "fillmode": "overlay",
              "size": 10,
              "solidity": 0.2
             }
            },
            "type": "bar"
           }
          ],
          "barpolar": [
           {
            "marker": {
             "line": {
              "color": "#E5ECF6",
              "width": 0.5
             },
             "pattern": {
              "fillmode": "overlay",
              "size": 10,
              "solidity": 0.2
             }
            },
            "type": "barpolar"
           }
          ],
          "carpet": [
           {
            "aaxis": {
             "endlinecolor": "#2a3f5f",
             "gridcolor": "white",
             "linecolor": "white",
             "minorgridcolor": "white",
             "startlinecolor": "#2a3f5f"
            },
            "baxis": {
             "endlinecolor": "#2a3f5f",
             "gridcolor": "white",
             "linecolor": "white",
             "minorgridcolor": "white",
             "startlinecolor": "#2a3f5f"
            },
            "type": "carpet"
           }
          ],
          "choropleth": [
           {
            "colorbar": {
             "outlinewidth": 0,
             "ticks": ""
            },
            "type": "choropleth"
           }
          ],
          "contour": [
           {
            "colorbar": {
             "outlinewidth": 0,
             "ticks": ""
            },
            "colorscale": [
             [
              0,
              "#0d0887"
             ],
             [
              0.1111111111111111,
              "#46039f"
             ],
             [
              0.2222222222222222,
              "#7201a8"
             ],
             [
              0.3333333333333333,
              "#9c179e"
             ],
             [
              0.4444444444444444,
              "#bd3786"
             ],
             [
              0.5555555555555556,
              "#d8576b"
             ],
             [
              0.6666666666666666,
              "#ed7953"
             ],
             [
              0.7777777777777778,
              "#fb9f3a"
             ],
             [
              0.8888888888888888,
              "#fdca26"
             ],
             [
              1,
              "#f0f921"
             ]
            ],
            "type": "contour"
           }
          ],
          "contourcarpet": [
           {
            "colorbar": {
             "outlinewidth": 0,
             "ticks": ""
            },
            "type": "contourcarpet"
           }
          ],
          "heatmap": [
           {
            "colorbar": {
             "outlinewidth": 0,
             "ticks": ""
            },
            "colorscale": [
             [
              0,
              "#0d0887"
             ],
             [
              0.1111111111111111,
              "#46039f"
             ],
             [
              0.2222222222222222,
              "#7201a8"
             ],
             [
              0.3333333333333333,
              "#9c179e"
             ],
             [
              0.4444444444444444,
              "#bd3786"
             ],
             [
              0.5555555555555556,
              "#d8576b"
             ],
             [
              0.6666666666666666,
              "#ed7953"
             ],
             [
              0.7777777777777778,
              "#fb9f3a"
             ],
             [
              0.8888888888888888,
              "#fdca26"
             ],
             [
              1,
              "#f0f921"
             ]
            ],
            "type": "heatmap"
           }
          ],
          "heatmapgl": [
           {
            "colorbar": {
             "outlinewidth": 0,
             "ticks": ""
            },
            "colorscale": [
             [
              0,
              "#0d0887"
             ],
             [
              0.1111111111111111,
              "#46039f"
             ],
             [
              0.2222222222222222,
              "#7201a8"
             ],
             [
              0.3333333333333333,
              "#9c179e"
             ],
             [
              0.4444444444444444,
              "#bd3786"
             ],
             [
              0.5555555555555556,
              "#d8576b"
             ],
             [
              0.6666666666666666,
              "#ed7953"
             ],
             [
              0.7777777777777778,
              "#fb9f3a"
             ],
             [
              0.8888888888888888,
              "#fdca26"
             ],
             [
              1,
              "#f0f921"
             ]
            ],
            "type": "heatmapgl"
           }
          ],
          "histogram": [
           {
            "marker": {
             "pattern": {
              "fillmode": "overlay",
              "size": 10,
              "solidity": 0.2
             }
            },
            "type": "histogram"
           }
          ],
          "histogram2d": [
           {
            "colorbar": {
             "outlinewidth": 0,
             "ticks": ""
            },
            "colorscale": [
             [
              0,
              "#0d0887"
             ],
             [
              0.1111111111111111,
              "#46039f"
             ],
             [
              0.2222222222222222,
              "#7201a8"
             ],
             [
              0.3333333333333333,
              "#9c179e"
             ],
             [
              0.4444444444444444,
              "#bd3786"
             ],
             [
              0.5555555555555556,
              "#d8576b"
             ],
             [
              0.6666666666666666,
              "#ed7953"
             ],
             [
              0.7777777777777778,
              "#fb9f3a"
             ],
             [
              0.8888888888888888,
              "#fdca26"
             ],
             [
              1,
              "#f0f921"
             ]
            ],
            "type": "histogram2d"
           }
          ],
          "histogram2dcontour": [
           {
            "colorbar": {
             "outlinewidth": 0,
             "ticks": ""
            },
            "colorscale": [
             [
              0,
              "#0d0887"
             ],
             [
              0.1111111111111111,
              "#46039f"
             ],
             [
              0.2222222222222222,
              "#7201a8"
             ],
             [
              0.3333333333333333,
              "#9c179e"
             ],
             [
              0.4444444444444444,
              "#bd3786"
             ],
             [
              0.5555555555555556,
              "#d8576b"
             ],
             [
              0.6666666666666666,
              "#ed7953"
             ],
             [
              0.7777777777777778,
              "#fb9f3a"
             ],
             [
              0.8888888888888888,
              "#fdca26"
             ],
             [
              1,
              "#f0f921"
             ]
            ],
            "type": "histogram2dcontour"
           }
          ],
          "mesh3d": [
           {
            "colorbar": {
             "outlinewidth": 0,
             "ticks": ""
            },
            "type": "mesh3d"
           }
          ],
          "parcoords": [
           {
            "line": {
             "colorbar": {
              "outlinewidth": 0,
              "ticks": ""
             }
            },
            "type": "parcoords"
           }
          ],
          "pie": [
           {
            "automargin": true,
            "type": "pie"
           }
          ],
          "scatter": [
           {
            "fillpattern": {
             "fillmode": "overlay",
             "size": 10,
             "solidity": 0.2
            },
            "type": "scatter"
           }
          ],
          "scatter3d": [
           {
            "line": {
             "colorbar": {
              "outlinewidth": 0,
              "ticks": ""
             }
            },
            "marker": {
             "colorbar": {
              "outlinewidth": 0,
              "ticks": ""
             }
            },
            "type": "scatter3d"
           }
          ],
          "scattercarpet": [
           {
            "marker": {
             "colorbar": {
              "outlinewidth": 0,
              "ticks": ""
             }
            },
            "type": "scattercarpet"
           }
          ],
          "scattergeo": [
           {
            "marker": {
             "colorbar": {
              "outlinewidth": 0,
              "ticks": ""
             }
            },
            "type": "scattergeo"
           }
          ],
          "scattergl": [
           {
            "marker": {
             "colorbar": {
              "outlinewidth": 0,
              "ticks": ""
             }
            },
            "type": "scattergl"
           }
          ],
          "scattermapbox": [
           {
            "marker": {
             "colorbar": {
              "outlinewidth": 0,
              "ticks": ""
             }
            },
            "type": "scattermapbox"
           }
          ],
          "scatterpolar": [
           {
            "marker": {
             "colorbar": {
              "outlinewidth": 0,
              "ticks": ""
             }
            },
            "type": "scatterpolar"
           }
          ],
          "scatterpolargl": [
           {
            "marker": {
             "colorbar": {
              "outlinewidth": 0,
              "ticks": ""
             }
            },
            "type": "scatterpolargl"
           }
          ],
          "scatterternary": [
           {
            "marker": {
             "colorbar": {
              "outlinewidth": 0,
              "ticks": ""
             }
            },
            "type": "scatterternary"
           }
          ],
          "surface": [
           {
            "colorbar": {
             "outlinewidth": 0,
             "ticks": ""
            },
            "colorscale": [
             [
              0,
              "#0d0887"
             ],
             [
              0.1111111111111111,
              "#46039f"
             ],
             [
              0.2222222222222222,
              "#7201a8"
             ],
             [
              0.3333333333333333,
              "#9c179e"
             ],
             [
              0.4444444444444444,
              "#bd3786"
             ],
             [
              0.5555555555555556,
              "#d8576b"
             ],
             [
              0.6666666666666666,
              "#ed7953"
             ],
             [
              0.7777777777777778,
              "#fb9f3a"
             ],
             [
              0.8888888888888888,
              "#fdca26"
             ],
             [
              1,
              "#f0f921"
             ]
            ],
            "type": "surface"
           }
          ],
          "table": [
           {
            "cells": {
             "fill": {
              "color": "#EBF0F8"
             },
             "line": {
              "color": "white"
             }
            },
            "header": {
             "fill": {
              "color": "#C8D4E3"
             },
             "line": {
              "color": "white"
             }
            },
            "type": "table"
           }
          ]
         },
         "layout": {
          "annotationdefaults": {
           "arrowcolor": "#2a3f5f",
           "arrowhead": 0,
           "arrowwidth": 1
          },
          "autotypenumbers": "strict",
          "coloraxis": {
           "colorbar": {
            "outlinewidth": 0,
            "ticks": ""
           }
          },
          "colorscale": {
           "diverging": [
            [
             0,
             "#8e0152"
            ],
            [
             0.1,
             "#c51b7d"
            ],
            [
             0.2,
             "#de77ae"
            ],
            [
             0.3,
             "#f1b6da"
            ],
            [
             0.4,
             "#fde0ef"
            ],
            [
             0.5,
             "#f7f7f7"
            ],
            [
             0.6,
             "#e6f5d0"
            ],
            [
             0.7,
             "#b8e186"
            ],
            [
             0.8,
             "#7fbc41"
            ],
            [
             0.9,
             "#4d9221"
            ],
            [
             1,
             "#276419"
            ]
           ],
           "sequential": [
            [
             0,
             "#0d0887"
            ],
            [
             0.1111111111111111,
             "#46039f"
            ],
            [
             0.2222222222222222,
             "#7201a8"
            ],
            [
             0.3333333333333333,
             "#9c179e"
            ],
            [
             0.4444444444444444,
             "#bd3786"
            ],
            [
             0.5555555555555556,
             "#d8576b"
            ],
            [
             0.6666666666666666,
             "#ed7953"
            ],
            [
             0.7777777777777778,
             "#fb9f3a"
            ],
            [
             0.8888888888888888,
             "#fdca26"
            ],
            [
             1,
             "#f0f921"
            ]
           ],
           "sequentialminus": [
            [
             0,
             "#0d0887"
            ],
            [
             0.1111111111111111,
             "#46039f"
            ],
            [
             0.2222222222222222,
             "#7201a8"
            ],
            [
             0.3333333333333333,
             "#9c179e"
            ],
            [
             0.4444444444444444,
             "#bd3786"
            ],
            [
             0.5555555555555556,
             "#d8576b"
            ],
            [
             0.6666666666666666,
             "#ed7953"
            ],
            [
             0.7777777777777778,
             "#fb9f3a"
            ],
            [
             0.8888888888888888,
             "#fdca26"
            ],
            [
             1,
             "#f0f921"
            ]
           ]
          },
          "colorway": [
           "#636efa",
           "#EF553B",
           "#00cc96",
           "#ab63fa",
           "#FFA15A",
           "#19d3f3",
           "#FF6692",
           "#B6E880",
           "#FF97FF",
           "#FECB52"
          ],
          "font": {
           "color": "#2a3f5f"
          },
          "geo": {
           "bgcolor": "white",
           "lakecolor": "white",
           "landcolor": "#E5ECF6",
           "showlakes": true,
           "showland": true,
           "subunitcolor": "white"
          },
          "hoverlabel": {
           "align": "left"
          },
          "hovermode": "closest",
          "mapbox": {
           "style": "light"
          },
          "paper_bgcolor": "white",
          "plot_bgcolor": "#E5ECF6",
          "polar": {
           "angularaxis": {
            "gridcolor": "white",
            "linecolor": "white",
            "ticks": ""
           },
           "bgcolor": "#E5ECF6",
           "radialaxis": {
            "gridcolor": "white",
            "linecolor": "white",
            "ticks": ""
           }
          },
          "scene": {
           "xaxis": {
            "backgroundcolor": "#E5ECF6",
            "gridcolor": "white",
            "gridwidth": 2,
            "linecolor": "white",
            "showbackground": true,
            "ticks": "",
            "zerolinecolor": "white"
           },
           "yaxis": {
            "backgroundcolor": "#E5ECF6",
            "gridcolor": "white",
            "gridwidth": 2,
            "linecolor": "white",
            "showbackground": true,
            "ticks": "",
            "zerolinecolor": "white"
           },
           "zaxis": {
            "backgroundcolor": "#E5ECF6",
            "gridcolor": "white",
            "gridwidth": 2,
            "linecolor": "white",
            "showbackground": true,
            "ticks": "",
            "zerolinecolor": "white"
           }
          },
          "shapedefaults": {
           "line": {
            "color": "#2a3f5f"
           }
          },
          "ternary": {
           "aaxis": {
            "gridcolor": "white",
            "linecolor": "white",
            "ticks": ""
           },
           "baxis": {
            "gridcolor": "white",
            "linecolor": "white",
            "ticks": ""
           },
           "bgcolor": "#E5ECF6",
           "caxis": {
            "gridcolor": "white",
            "linecolor": "white",
            "ticks": ""
           }
          },
          "title": {
           "x": 0.05
          },
          "xaxis": {
           "automargin": true,
           "gridcolor": "white",
           "linecolor": "white",
           "ticks": "",
           "title": {
            "standoff": 15
           },
           "zerolinecolor": "white",
           "zerolinewidth": 2
          },
          "yaxis": {
           "automargin": true,
           "gridcolor": "white",
           "linecolor": "white",
           "ticks": "",
           "title": {
            "standoff": 15
           },
           "zerolinecolor": "white",
           "zerolinewidth": 2
          }
         }
        },
        "title": {
         "text": "Non calibrtated  gyro"
        }
       }
      },
      "text/html": [
       "<div>                            <div id=\"ea58ed1f-c2c7-4627-baa2-106f629c8158\" class=\"plotly-graph-div\" style=\"height:525px; width:100%;\"></div>            <script type=\"text/javascript\">                require([\"plotly\"], function(Plotly) {                    window.PLOTLYENV=window.PLOTLYENV || {};                                    if (document.getElementById(\"ea58ed1f-c2c7-4627-baa2-106f629c8158\")) {                    Plotly.newPlot(                        \"ea58ed1f-c2c7-4627-baa2-106f629c8158\",                        [{\"name\":\"lb_gx\",\"x\":[0,1,2,3,4,5,6,7,8,9,10,11,12,13,14,15,16,17,18,19,20,21,22,23,24,25,26,27,28,29,30,31,32,33,34,35,36,37,38,39,40,41,42,43,44,45,46],\"y\":[0.09526035,0.1017887,0.09885758,0.1069847,0.1012558,0.08726647,0.07820675,0.07274426,0.07101226,0.09073049,0.09166309,0.1061853,0.1321654,0.186657,0.1989143,0.1184426,0.2328882,0.2591348,0.08420216,0.2071746,0.08180398,0.1669388,0.1493522,0.07647474,-0.02038438,-0.05222665,0.001465544,0.09086371,0.01931853,-0.02598009,0.1633415,0.1245712,0.1425574,0.1235054,0.09685912,0.1003231,0.1011225,0.09512712,0.1019219,0.0877994,0.0941945,0.0941945,0.09592651,0.1081838,0.1047198,0.1075176,0.110049],\"type\":\"scatter\"},{\"name\":\"lb_gy\",\"x\":[0,1,2,3,4,5,6,7,8,9,10,11,12,13,14,15,16,17,18,19,20,21,22,23,24,25,26,27,28,29,30,31,32,33,34,35,36,37,38,39,40,41,42,43,44,45,46],\"y\":[0.06528331,0.05262635,0.06501685,0.07141195,0.07327719,0.05395866,0.05822206,0.07381011,0.03077642,0.03743798,0.008926495,0.02797856,0.1694702,0.2137029,0.5477137,0.1622757,0.1842588,0.5297275,0.3526631,0.293242,0.2928423,0.004529863,-0.03543952,-0.1874564,-0.3174901,-0.3396065,-0.2182328,-0.2017121,0.05489128,-0.2775207,0.1096493,0.02331547,0.02198316,-0.002931087,0.08286983,0.02784533,0.07141195,0.08087137,0.05529098,0.05182696,0.03037673,0.08140429,0.06568301,0.04583155,0.05808883,0.05182696,0.03450689],\"type\":\"scatter\"},{\"name\":\"lb_gz\",\"x\":[0,1,2,3,4,5,6,7,8,9,10,11,12,13,14,15,16,17,18,19,20,21,22,23,24,25,26,27,28,29,30,31,32,33,34,35,36,37,38,39,40,41,42,43,44,45,46],\"y\":[0.01692037,0.0127902,0.01945176,0.01678714,0.02304901,0.01612098,0.01398928,-0.006794794,-0.0001332313,0.009326188,-0.009725882,0.02264931,0.09566004,0.2651302,0.7889955,0.671752,0.6133967,0.5626356,0.3546616,0.4381976,0.2937749,0.1176432,-0.360657,-0.5800889,-0.6032711,-0.7623492,-0.5241318,-0.5577061,-0.372781,-0.3257504,0.1183094,0.03130934,0.02264931,-0.01385605,-0.004663094,0.00319755,0.0255804,0.0127902,0.01052527,0.00746095,0.01625421,0.02544717,0.02864472,0.02118377,0.02211639,0.01678714,0.01052527],\"type\":\"scatter\"}],                        {\"template\":{\"data\":{\"histogram2dcontour\":[{\"type\":\"histogram2dcontour\",\"colorbar\":{\"outlinewidth\":0,\"ticks\":\"\"},\"colorscale\":[[0.0,\"#0d0887\"],[0.1111111111111111,\"#46039f\"],[0.2222222222222222,\"#7201a8\"],[0.3333333333333333,\"#9c179e\"],[0.4444444444444444,\"#bd3786\"],[0.5555555555555556,\"#d8576b\"],[0.6666666666666666,\"#ed7953\"],[0.7777777777777778,\"#fb9f3a\"],[0.8888888888888888,\"#fdca26\"],[1.0,\"#f0f921\"]]}],\"choropleth\":[{\"type\":\"choropleth\",\"colorbar\":{\"outlinewidth\":0,\"ticks\":\"\"}}],\"histogram2d\":[{\"type\":\"histogram2d\",\"colorbar\":{\"outlinewidth\":0,\"ticks\":\"\"},\"colorscale\":[[0.0,\"#0d0887\"],[0.1111111111111111,\"#46039f\"],[0.2222222222222222,\"#7201a8\"],[0.3333333333333333,\"#9c179e\"],[0.4444444444444444,\"#bd3786\"],[0.5555555555555556,\"#d8576b\"],[0.6666666666666666,\"#ed7953\"],[0.7777777777777778,\"#fb9f3a\"],[0.8888888888888888,\"#fdca26\"],[1.0,\"#f0f921\"]]}],\"heatmap\":[{\"type\":\"heatmap\",\"colorbar\":{\"outlinewidth\":0,\"ticks\":\"\"},\"colorscale\":[[0.0,\"#0d0887\"],[0.1111111111111111,\"#46039f\"],[0.2222222222222222,\"#7201a8\"],[0.3333333333333333,\"#9c179e\"],[0.4444444444444444,\"#bd3786\"],[0.5555555555555556,\"#d8576b\"],[0.6666666666666666,\"#ed7953\"],[0.7777777777777778,\"#fb9f3a\"],[0.8888888888888888,\"#fdca26\"],[1.0,\"#f0f921\"]]}],\"heatmapgl\":[{\"type\":\"heatmapgl\",\"colorbar\":{\"outlinewidth\":0,\"ticks\":\"\"},\"colorscale\":[[0.0,\"#0d0887\"],[0.1111111111111111,\"#46039f\"],[0.2222222222222222,\"#7201a8\"],[0.3333333333333333,\"#9c179e\"],[0.4444444444444444,\"#bd3786\"],[0.5555555555555556,\"#d8576b\"],[0.6666666666666666,\"#ed7953\"],[0.7777777777777778,\"#fb9f3a\"],[0.8888888888888888,\"#fdca26\"],[1.0,\"#f0f921\"]]}],\"contourcarpet\":[{\"type\":\"contourcarpet\",\"colorbar\":{\"outlinewidth\":0,\"ticks\":\"\"}}],\"contour\":[{\"type\":\"contour\",\"colorbar\":{\"outlinewidth\":0,\"ticks\":\"\"},\"colorscale\":[[0.0,\"#0d0887\"],[0.1111111111111111,\"#46039f\"],[0.2222222222222222,\"#7201a8\"],[0.3333333333333333,\"#9c179e\"],[0.4444444444444444,\"#bd3786\"],[0.5555555555555556,\"#d8576b\"],[0.6666666666666666,\"#ed7953\"],[0.7777777777777778,\"#fb9f3a\"],[0.8888888888888888,\"#fdca26\"],[1.0,\"#f0f921\"]]}],\"surface\":[{\"type\":\"surface\",\"colorbar\":{\"outlinewidth\":0,\"ticks\":\"\"},\"colorscale\":[[0.0,\"#0d0887\"],[0.1111111111111111,\"#46039f\"],[0.2222222222222222,\"#7201a8\"],[0.3333333333333333,\"#9c179e\"],[0.4444444444444444,\"#bd3786\"],[0.5555555555555556,\"#d8576b\"],[0.6666666666666666,\"#ed7953\"],[0.7777777777777778,\"#fb9f3a\"],[0.8888888888888888,\"#fdca26\"],[1.0,\"#f0f921\"]]}],\"mesh3d\":[{\"type\":\"mesh3d\",\"colorbar\":{\"outlinewidth\":0,\"ticks\":\"\"}}],\"scatter\":[{\"fillpattern\":{\"fillmode\":\"overlay\",\"size\":10,\"solidity\":0.2},\"type\":\"scatter\"}],\"parcoords\":[{\"type\":\"parcoords\",\"line\":{\"colorbar\":{\"outlinewidth\":0,\"ticks\":\"\"}}}],\"scatterpolargl\":[{\"type\":\"scatterpolargl\",\"marker\":{\"colorbar\":{\"outlinewidth\":0,\"ticks\":\"\"}}}],\"bar\":[{\"error_x\":{\"color\":\"#2a3f5f\"},\"error_y\":{\"color\":\"#2a3f5f\"},\"marker\":{\"line\":{\"color\":\"#E5ECF6\",\"width\":0.5},\"pattern\":{\"fillmode\":\"overlay\",\"size\":10,\"solidity\":0.2}},\"type\":\"bar\"}],\"scattergeo\":[{\"type\":\"scattergeo\",\"marker\":{\"colorbar\":{\"outlinewidth\":0,\"ticks\":\"\"}}}],\"scatterpolar\":[{\"type\":\"scatterpolar\",\"marker\":{\"colorbar\":{\"outlinewidth\":0,\"ticks\":\"\"}}}],\"histogram\":[{\"marker\":{\"pattern\":{\"fillmode\":\"overlay\",\"size\":10,\"solidity\":0.2}},\"type\":\"histogram\"}],\"scattergl\":[{\"type\":\"scattergl\",\"marker\":{\"colorbar\":{\"outlinewidth\":0,\"ticks\":\"\"}}}],\"scatter3d\":[{\"type\":\"scatter3d\",\"line\":{\"colorbar\":{\"outlinewidth\":0,\"ticks\":\"\"}},\"marker\":{\"colorbar\":{\"outlinewidth\":0,\"ticks\":\"\"}}}],\"scattermapbox\":[{\"type\":\"scattermapbox\",\"marker\":{\"colorbar\":{\"outlinewidth\":0,\"ticks\":\"\"}}}],\"scatterternary\":[{\"type\":\"scatterternary\",\"marker\":{\"colorbar\":{\"outlinewidth\":0,\"ticks\":\"\"}}}],\"scattercarpet\":[{\"type\":\"scattercarpet\",\"marker\":{\"colorbar\":{\"outlinewidth\":0,\"ticks\":\"\"}}}],\"carpet\":[{\"aaxis\":{\"endlinecolor\":\"#2a3f5f\",\"gridcolor\":\"white\",\"linecolor\":\"white\",\"minorgridcolor\":\"white\",\"startlinecolor\":\"#2a3f5f\"},\"baxis\":{\"endlinecolor\":\"#2a3f5f\",\"gridcolor\":\"white\",\"linecolor\":\"white\",\"minorgridcolor\":\"white\",\"startlinecolor\":\"#2a3f5f\"},\"type\":\"carpet\"}],\"table\":[{\"cells\":{\"fill\":{\"color\":\"#EBF0F8\"},\"line\":{\"color\":\"white\"}},\"header\":{\"fill\":{\"color\":\"#C8D4E3\"},\"line\":{\"color\":\"white\"}},\"type\":\"table\"}],\"barpolar\":[{\"marker\":{\"line\":{\"color\":\"#E5ECF6\",\"width\":0.5},\"pattern\":{\"fillmode\":\"overlay\",\"size\":10,\"solidity\":0.2}},\"type\":\"barpolar\"}],\"pie\":[{\"automargin\":true,\"type\":\"pie\"}]},\"layout\":{\"autotypenumbers\":\"strict\",\"colorway\":[\"#636efa\",\"#EF553B\",\"#00cc96\",\"#ab63fa\",\"#FFA15A\",\"#19d3f3\",\"#FF6692\",\"#B6E880\",\"#FF97FF\",\"#FECB52\"],\"font\":{\"color\":\"#2a3f5f\"},\"hovermode\":\"closest\",\"hoverlabel\":{\"align\":\"left\"},\"paper_bgcolor\":\"white\",\"plot_bgcolor\":\"#E5ECF6\",\"polar\":{\"bgcolor\":\"#E5ECF6\",\"angularaxis\":{\"gridcolor\":\"white\",\"linecolor\":\"white\",\"ticks\":\"\"},\"radialaxis\":{\"gridcolor\":\"white\",\"linecolor\":\"white\",\"ticks\":\"\"}},\"ternary\":{\"bgcolor\":\"#E5ECF6\",\"aaxis\":{\"gridcolor\":\"white\",\"linecolor\":\"white\",\"ticks\":\"\"},\"baxis\":{\"gridcolor\":\"white\",\"linecolor\":\"white\",\"ticks\":\"\"},\"caxis\":{\"gridcolor\":\"white\",\"linecolor\":\"white\",\"ticks\":\"\"}},\"coloraxis\":{\"colorbar\":{\"outlinewidth\":0,\"ticks\":\"\"}},\"colorscale\":{\"sequential\":[[0.0,\"#0d0887\"],[0.1111111111111111,\"#46039f\"],[0.2222222222222222,\"#7201a8\"],[0.3333333333333333,\"#9c179e\"],[0.4444444444444444,\"#bd3786\"],[0.5555555555555556,\"#d8576b\"],[0.6666666666666666,\"#ed7953\"],[0.7777777777777778,\"#fb9f3a\"],[0.8888888888888888,\"#fdca26\"],[1.0,\"#f0f921\"]],\"sequentialminus\":[[0.0,\"#0d0887\"],[0.1111111111111111,\"#46039f\"],[0.2222222222222222,\"#7201a8\"],[0.3333333333333333,\"#9c179e\"],[0.4444444444444444,\"#bd3786\"],[0.5555555555555556,\"#d8576b\"],[0.6666666666666666,\"#ed7953\"],[0.7777777777777778,\"#fb9f3a\"],[0.8888888888888888,\"#fdca26\"],[1.0,\"#f0f921\"]],\"diverging\":[[0,\"#8e0152\"],[0.1,\"#c51b7d\"],[0.2,\"#de77ae\"],[0.3,\"#f1b6da\"],[0.4,\"#fde0ef\"],[0.5,\"#f7f7f7\"],[0.6,\"#e6f5d0\"],[0.7,\"#b8e186\"],[0.8,\"#7fbc41\"],[0.9,\"#4d9221\"],[1,\"#276419\"]]},\"xaxis\":{\"gridcolor\":\"white\",\"linecolor\":\"white\",\"ticks\":\"\",\"title\":{\"standoff\":15},\"zerolinecolor\":\"white\",\"automargin\":true,\"zerolinewidth\":2},\"yaxis\":{\"gridcolor\":\"white\",\"linecolor\":\"white\",\"ticks\":\"\",\"title\":{\"standoff\":15},\"zerolinecolor\":\"white\",\"automargin\":true,\"zerolinewidth\":2},\"scene\":{\"xaxis\":{\"backgroundcolor\":\"#E5ECF6\",\"gridcolor\":\"white\",\"linecolor\":\"white\",\"showbackground\":true,\"ticks\":\"\",\"zerolinecolor\":\"white\",\"gridwidth\":2},\"yaxis\":{\"backgroundcolor\":\"#E5ECF6\",\"gridcolor\":\"white\",\"linecolor\":\"white\",\"showbackground\":true,\"ticks\":\"\",\"zerolinecolor\":\"white\",\"gridwidth\":2},\"zaxis\":{\"backgroundcolor\":\"#E5ECF6\",\"gridcolor\":\"white\",\"linecolor\":\"white\",\"showbackground\":true,\"ticks\":\"\",\"zerolinecolor\":\"white\",\"gridwidth\":2}},\"shapedefaults\":{\"line\":{\"color\":\"#2a3f5f\"}},\"annotationdefaults\":{\"arrowcolor\":\"#2a3f5f\",\"arrowhead\":0,\"arrowwidth\":1},\"geo\":{\"bgcolor\":\"white\",\"landcolor\":\"#E5ECF6\",\"subunitcolor\":\"white\",\"showland\":true,\"showlakes\":true,\"lakecolor\":\"white\"},\"title\":{\"x\":0.05},\"mapbox\":{\"style\":\"light\"}}},\"title\":{\"text\":\"Non calibrtated  gyro\"}},                        {\"responsive\": true}                    ).then(function(){\n",
       "                            \n",
       "var gd = document.getElementById('ea58ed1f-c2c7-4627-baa2-106f629c8158');\n",
       "var x = new MutationObserver(function (mutations, observer) {{\n",
       "        var display = window.getComputedStyle(gd).display;\n",
       "        if (!display || display === 'none') {{\n",
       "            console.log([gd, 'removed!']);\n",
       "            Plotly.purge(gd);\n",
       "            observer.disconnect();\n",
       "        }}\n",
       "}});\n",
       "\n",
       "// Listen for the removal of the full notebook cells\n",
       "var notebookContainer = gd.closest('#notebook-container');\n",
       "if (notebookContainer) {{\n",
       "    x.observe(notebookContainer, {childList: true});\n",
       "}}\n",
       "\n",
       "// Listen for the clearing of the current output cell\n",
       "var outputEl = gd.closest('.output');\n",
       "if (outputEl) {{\n",
       "    x.observe(outputEl, {childList: true});\n",
       "}}\n",
       "\n",
       "                        })                };                });            </script>        </div>"
      ]
     },
     "metadata": {},
     "output_type": "display_data"
    },
    {
     "data": {
      "application/vnd.plotly.v1+json": {
       "config": {
        "plotlyServerURL": "https://plot.ly"
       },
       "data": [
        {
         "name": "lb_gx",
         "type": "scatter",
         "x": [
          0,
          1,
          2,
          3,
          4,
          5,
          6,
          7,
          8,
          9,
          10,
          11,
          12,
          13,
          14,
          15,
          16,
          17,
          18,
          19,
          20,
          21,
          22,
          23,
          24,
          25,
          26,
          27,
          28,
          29,
          30,
          31,
          32,
          33,
          34,
          35,
          36,
          37,
          38,
          39,
          40,
          41,
          42,
          43,
          44,
          45,
          46
         ],
         "y": [
          0.0007340303773585161,
          -0.00099797962264149,
          -0.0028632096226414855,
          -0.00033182962264148574,
          0.0027324903773585096,
          -0.0005982796226414872,
          -0.00033182962264148574,
          0.000600800377358518,
          -0.0004650496226414891,
          0.0004675603773585113,
          0.0027324903773585096,
          -0.00033182962264148574,
          -0.0033961396226414864,
          6.788037735851182e-05,
          -0.00033182962264148574,
          0.000600800377358518,
          -0.00033182962264148574,
          -0.00033182962264148574,
          -0.0031296796226414902,
          0.003798390377358518,
          0.0020663903773585207,
          -0.0032628996226414797,
          -0.0005982796226414872,
          -0.0007315096226414852,
          0.0021995903773585207,
          -6.534962264148625e-05,
          0.0021995903773585207,
          -0.00033182962264148574,
          0.0010004903773585122,
          0.0027324903773585096,
          -0.0023302896226414793,
          -0.00033182962264148574,
          -0.00033182962264148574,
          0.001533390377358515,
          -0.00033182962264148574,
          -0.00033182962264148574,
          -0.0032628996226414797,
          -0.00033182962264148574,
          0.0033986903773585153,
          -0.0035293696226414845,
          -0.00099797962264149,
          0.0032653903773585125,
          -0.00033182962264148574,
          -0.0028632096226414855,
          -0.0027299796226414874,
          -0.00033182962264148574,
          -0.00033182962264148574
         ]
        },
        {
         "name": "lb_gy",
         "type": "scatter",
         "x": [
          0,
          1,
          2,
          3,
          4,
          5,
          6,
          7,
          8,
          9,
          10,
          11,
          12,
          13,
          14,
          15,
          16,
          17,
          18,
          19,
          20,
          21,
          22,
          23,
          24,
          25,
          26,
          27,
          28,
          29,
          30,
          31,
          32,
          33,
          34,
          35,
          36,
          37,
          38,
          39,
          40,
          41,
          42,
          43,
          44,
          45,
          46
         ],
         "y": [
          -0.0005429809433962277,
          0.006118589056603778,
          -0.006804850943396223,
          0.005985349056603771,
          0.0003896390566037744,
          0.0003896390566037744,
          0.0003896390566037744,
          0.0003896390566037744,
          -0.003207610943396222,
          0.008117049056603771,
          -0.005072840943396224,
          0.0003896390566037744,
          0.0011890190566037767,
          0.0021216490566037735,
          -0.005206070943396222,
          0.0003896390566037744,
          0.0003896390566037744,
          -0.0013423709433962247,
          -0.005072840943396224,
          0.0003896390566037744,
          0.0003896390566037744,
          0.0003896390566037744,
          0.0025213390566037747,
          0.0011890190566037767,
          -0.005339310943396222,
          0.0009225590566037736,
          -0.0014756009433962228,
          0.0003896390566037744,
          -0.0054725309433962255,
          0.002921029056603776,
          0.0010557990566037734,
          -0.005206070943396222,
          0.0003896390566037744,
          -0.0014756009433962228,
          0.004653039056603775,
          -0.004406680943396225,
          0.0003896390566037744,
          0.0018551790566037757,
          0.0003896390566037744,
          0.0003896390566037744,
          -1.0050943396226752e-05,
          0.0074508890566037725,
          0.0003896390566037744,
          0.0003896390566037744,
          0.0021216490566037735,
          0.0003896390566037744,
          0.0003896390566037744
         ]
        },
        {
         "name": "lb_gz",
         "type": "scatter",
         "x": [
          0,
          1,
          2,
          3,
          4,
          5,
          6,
          7,
          8,
          9,
          10,
          11,
          12,
          13,
          14,
          15,
          16,
          17,
          18,
          19,
          20,
          21,
          22,
          23,
          24,
          25,
          26,
          27,
          28,
          29,
          30,
          31,
          32,
          33,
          34,
          35,
          36,
          37,
          38,
          39,
          40,
          41,
          42,
          43,
          44,
          45,
          46
         ],
         "y": [
          0.004690742264150945,
          0.0002941122641509433,
          -0.001970817735849055,
          -0.0011714277358490545,
          -0.003036667735849055,
          -0.004368977735849055,
          0.003225202264150944,
          0.0034916622641509437,
          0.0014932022641509467,
          0.0002941122641509433,
          0.0002941122641509433,
          -0.000372037735849054,
          -0.0015711177358490556,
          -0.0026369677358490558,
          0.0002941122641509433,
          -0.0018375877358490535,
          -0.0006385077358490553,
          -0.0011714277358490545,
          0.0002941122641509433,
          -0.0025037377358490542,
          -0.0034363577358490546,
          -0.001970817735849055,
          -0.001304657735849056,
          0.0002941122641509433,
          0.0009602722641509458,
          -0.0007717377358490533,
          -0.0015711177358490556,
          0.0005605822641509446,
          -0.002370507735849056,
          -0.0018375877358490535,
          -0.0007717377358490533,
          -0.0034363577358490546,
          0.0002941122641509433,
          -0.0006385077358490553,
          -0.002370507735849056,
          0.0002941122641509433,
          0.0048239722641509435,
          0.0002941122641509433,
          0.0002941122641509433,
          0.0002941122641509433,
          0.0002941122641509433,
          0.0017596622641509463,
          0.0002941122641509433,
          0.0002941122641509433,
          0.0002941122641509433,
          0.0002941122641509433,
          -0.00010557773584905436
         ]
        }
       ],
       "layout": {
        "template": {
         "data": {
          "bar": [
           {
            "error_x": {
             "color": "#2a3f5f"
            },
            "error_y": {
             "color": "#2a3f5f"
            },
            "marker": {
             "line": {
              "color": "#E5ECF6",
              "width": 0.5
             },
             "pattern": {
              "fillmode": "overlay",
              "size": 10,
              "solidity": 0.2
             }
            },
            "type": "bar"
           }
          ],
          "barpolar": [
           {
            "marker": {
             "line": {
              "color": "#E5ECF6",
              "width": 0.5
             },
             "pattern": {
              "fillmode": "overlay",
              "size": 10,
              "solidity": 0.2
             }
            },
            "type": "barpolar"
           }
          ],
          "carpet": [
           {
            "aaxis": {
             "endlinecolor": "#2a3f5f",
             "gridcolor": "white",
             "linecolor": "white",
             "minorgridcolor": "white",
             "startlinecolor": "#2a3f5f"
            },
            "baxis": {
             "endlinecolor": "#2a3f5f",
             "gridcolor": "white",
             "linecolor": "white",
             "minorgridcolor": "white",
             "startlinecolor": "#2a3f5f"
            },
            "type": "carpet"
           }
          ],
          "choropleth": [
           {
            "colorbar": {
             "outlinewidth": 0,
             "ticks": ""
            },
            "type": "choropleth"
           }
          ],
          "contour": [
           {
            "colorbar": {
             "outlinewidth": 0,
             "ticks": ""
            },
            "colorscale": [
             [
              0,
              "#0d0887"
             ],
             [
              0.1111111111111111,
              "#46039f"
             ],
             [
              0.2222222222222222,
              "#7201a8"
             ],
             [
              0.3333333333333333,
              "#9c179e"
             ],
             [
              0.4444444444444444,
              "#bd3786"
             ],
             [
              0.5555555555555556,
              "#d8576b"
             ],
             [
              0.6666666666666666,
              "#ed7953"
             ],
             [
              0.7777777777777778,
              "#fb9f3a"
             ],
             [
              0.8888888888888888,
              "#fdca26"
             ],
             [
              1,
              "#f0f921"
             ]
            ],
            "type": "contour"
           }
          ],
          "contourcarpet": [
           {
            "colorbar": {
             "outlinewidth": 0,
             "ticks": ""
            },
            "type": "contourcarpet"
           }
          ],
          "heatmap": [
           {
            "colorbar": {
             "outlinewidth": 0,
             "ticks": ""
            },
            "colorscale": [
             [
              0,
              "#0d0887"
             ],
             [
              0.1111111111111111,
              "#46039f"
             ],
             [
              0.2222222222222222,
              "#7201a8"
             ],
             [
              0.3333333333333333,
              "#9c179e"
             ],
             [
              0.4444444444444444,
              "#bd3786"
             ],
             [
              0.5555555555555556,
              "#d8576b"
             ],
             [
              0.6666666666666666,
              "#ed7953"
             ],
             [
              0.7777777777777778,
              "#fb9f3a"
             ],
             [
              0.8888888888888888,
              "#fdca26"
             ],
             [
              1,
              "#f0f921"
             ]
            ],
            "type": "heatmap"
           }
          ],
          "heatmapgl": [
           {
            "colorbar": {
             "outlinewidth": 0,
             "ticks": ""
            },
            "colorscale": [
             [
              0,
              "#0d0887"
             ],
             [
              0.1111111111111111,
              "#46039f"
             ],
             [
              0.2222222222222222,
              "#7201a8"
             ],
             [
              0.3333333333333333,
              "#9c179e"
             ],
             [
              0.4444444444444444,
              "#bd3786"
             ],
             [
              0.5555555555555556,
              "#d8576b"
             ],
             [
              0.6666666666666666,
              "#ed7953"
             ],
             [
              0.7777777777777778,
              "#fb9f3a"
             ],
             [
              0.8888888888888888,
              "#fdca26"
             ],
             [
              1,
              "#f0f921"
             ]
            ],
            "type": "heatmapgl"
           }
          ],
          "histogram": [
           {
            "marker": {
             "pattern": {
              "fillmode": "overlay",
              "size": 10,
              "solidity": 0.2
             }
            },
            "type": "histogram"
           }
          ],
          "histogram2d": [
           {
            "colorbar": {
             "outlinewidth": 0,
             "ticks": ""
            },
            "colorscale": [
             [
              0,
              "#0d0887"
             ],
             [
              0.1111111111111111,
              "#46039f"
             ],
             [
              0.2222222222222222,
              "#7201a8"
             ],
             [
              0.3333333333333333,
              "#9c179e"
             ],
             [
              0.4444444444444444,
              "#bd3786"
             ],
             [
              0.5555555555555556,
              "#d8576b"
             ],
             [
              0.6666666666666666,
              "#ed7953"
             ],
             [
              0.7777777777777778,
              "#fb9f3a"
             ],
             [
              0.8888888888888888,
              "#fdca26"
             ],
             [
              1,
              "#f0f921"
             ]
            ],
            "type": "histogram2d"
           }
          ],
          "histogram2dcontour": [
           {
            "colorbar": {
             "outlinewidth": 0,
             "ticks": ""
            },
            "colorscale": [
             [
              0,
              "#0d0887"
             ],
             [
              0.1111111111111111,
              "#46039f"
             ],
             [
              0.2222222222222222,
              "#7201a8"
             ],
             [
              0.3333333333333333,
              "#9c179e"
             ],
             [
              0.4444444444444444,
              "#bd3786"
             ],
             [
              0.5555555555555556,
              "#d8576b"
             ],
             [
              0.6666666666666666,
              "#ed7953"
             ],
             [
              0.7777777777777778,
              "#fb9f3a"
             ],
             [
              0.8888888888888888,
              "#fdca26"
             ],
             [
              1,
              "#f0f921"
             ]
            ],
            "type": "histogram2dcontour"
           }
          ],
          "mesh3d": [
           {
            "colorbar": {
             "outlinewidth": 0,
             "ticks": ""
            },
            "type": "mesh3d"
           }
          ],
          "parcoords": [
           {
            "line": {
             "colorbar": {
              "outlinewidth": 0,
              "ticks": ""
             }
            },
            "type": "parcoords"
           }
          ],
          "pie": [
           {
            "automargin": true,
            "type": "pie"
           }
          ],
          "scatter": [
           {
            "fillpattern": {
             "fillmode": "overlay",
             "size": 10,
             "solidity": 0.2
            },
            "type": "scatter"
           }
          ],
          "scatter3d": [
           {
            "line": {
             "colorbar": {
              "outlinewidth": 0,
              "ticks": ""
             }
            },
            "marker": {
             "colorbar": {
              "outlinewidth": 0,
              "ticks": ""
             }
            },
            "type": "scatter3d"
           }
          ],
          "scattercarpet": [
           {
            "marker": {
             "colorbar": {
              "outlinewidth": 0,
              "ticks": ""
             }
            },
            "type": "scattercarpet"
           }
          ],
          "scattergeo": [
           {
            "marker": {
             "colorbar": {
              "outlinewidth": 0,
              "ticks": ""
             }
            },
            "type": "scattergeo"
           }
          ],
          "scattergl": [
           {
            "marker": {
             "colorbar": {
              "outlinewidth": 0,
              "ticks": ""
             }
            },
            "type": "scattergl"
           }
          ],
          "scattermapbox": [
           {
            "marker": {
             "colorbar": {
              "outlinewidth": 0,
              "ticks": ""
             }
            },
            "type": "scattermapbox"
           }
          ],
          "scatterpolar": [
           {
            "marker": {
             "colorbar": {
              "outlinewidth": 0,
              "ticks": ""
             }
            },
            "type": "scatterpolar"
           }
          ],
          "scatterpolargl": [
           {
            "marker": {
             "colorbar": {
              "outlinewidth": 0,
              "ticks": ""
             }
            },
            "type": "scatterpolargl"
           }
          ],
          "scatterternary": [
           {
            "marker": {
             "colorbar": {
              "outlinewidth": 0,
              "ticks": ""
             }
            },
            "type": "scatterternary"
           }
          ],
          "surface": [
           {
            "colorbar": {
             "outlinewidth": 0,
             "ticks": ""
            },
            "colorscale": [
             [
              0,
              "#0d0887"
             ],
             [
              0.1111111111111111,
              "#46039f"
             ],
             [
              0.2222222222222222,
              "#7201a8"
             ],
             [
              0.3333333333333333,
              "#9c179e"
             ],
             [
              0.4444444444444444,
              "#bd3786"
             ],
             [
              0.5555555555555556,
              "#d8576b"
             ],
             [
              0.6666666666666666,
              "#ed7953"
             ],
             [
              0.7777777777777778,
              "#fb9f3a"
             ],
             [
              0.8888888888888888,
              "#fdca26"
             ],
             [
              1,
              "#f0f921"
             ]
            ],
            "type": "surface"
           }
          ],
          "table": [
           {
            "cells": {
             "fill": {
              "color": "#EBF0F8"
             },
             "line": {
              "color": "white"
             }
            },
            "header": {
             "fill": {
              "color": "#C8D4E3"
             },
             "line": {
              "color": "white"
             }
            },
            "type": "table"
           }
          ]
         },
         "layout": {
          "annotationdefaults": {
           "arrowcolor": "#2a3f5f",
           "arrowhead": 0,
           "arrowwidth": 1
          },
          "autotypenumbers": "strict",
          "coloraxis": {
           "colorbar": {
            "outlinewidth": 0,
            "ticks": ""
           }
          },
          "colorscale": {
           "diverging": [
            [
             0,
             "#8e0152"
            ],
            [
             0.1,
             "#c51b7d"
            ],
            [
             0.2,
             "#de77ae"
            ],
            [
             0.3,
             "#f1b6da"
            ],
            [
             0.4,
             "#fde0ef"
            ],
            [
             0.5,
             "#f7f7f7"
            ],
            [
             0.6,
             "#e6f5d0"
            ],
            [
             0.7,
             "#b8e186"
            ],
            [
             0.8,
             "#7fbc41"
            ],
            [
             0.9,
             "#4d9221"
            ],
            [
             1,
             "#276419"
            ]
           ],
           "sequential": [
            [
             0,
             "#0d0887"
            ],
            [
             0.1111111111111111,
             "#46039f"
            ],
            [
             0.2222222222222222,
             "#7201a8"
            ],
            [
             0.3333333333333333,
             "#9c179e"
            ],
            [
             0.4444444444444444,
             "#bd3786"
            ],
            [
             0.5555555555555556,
             "#d8576b"
            ],
            [
             0.6666666666666666,
             "#ed7953"
            ],
            [
             0.7777777777777778,
             "#fb9f3a"
            ],
            [
             0.8888888888888888,
             "#fdca26"
            ],
            [
             1,
             "#f0f921"
            ]
           ],
           "sequentialminus": [
            [
             0,
             "#0d0887"
            ],
            [
             0.1111111111111111,
             "#46039f"
            ],
            [
             0.2222222222222222,
             "#7201a8"
            ],
            [
             0.3333333333333333,
             "#9c179e"
            ],
            [
             0.4444444444444444,
             "#bd3786"
            ],
            [
             0.5555555555555556,
             "#d8576b"
            ],
            [
             0.6666666666666666,
             "#ed7953"
            ],
            [
             0.7777777777777778,
             "#fb9f3a"
            ],
            [
             0.8888888888888888,
             "#fdca26"
            ],
            [
             1,
             "#f0f921"
            ]
           ]
          },
          "colorway": [
           "#636efa",
           "#EF553B",
           "#00cc96",
           "#ab63fa",
           "#FFA15A",
           "#19d3f3",
           "#FF6692",
           "#B6E880",
           "#FF97FF",
           "#FECB52"
          ],
          "font": {
           "color": "#2a3f5f"
          },
          "geo": {
           "bgcolor": "white",
           "lakecolor": "white",
           "landcolor": "#E5ECF6",
           "showlakes": true,
           "showland": true,
           "subunitcolor": "white"
          },
          "hoverlabel": {
           "align": "left"
          },
          "hovermode": "closest",
          "mapbox": {
           "style": "light"
          },
          "paper_bgcolor": "white",
          "plot_bgcolor": "#E5ECF6",
          "polar": {
           "angularaxis": {
            "gridcolor": "white",
            "linecolor": "white",
            "ticks": ""
           },
           "bgcolor": "#E5ECF6",
           "radialaxis": {
            "gridcolor": "white",
            "linecolor": "white",
            "ticks": ""
           }
          },
          "scene": {
           "xaxis": {
            "backgroundcolor": "#E5ECF6",
            "gridcolor": "white",
            "gridwidth": 2,
            "linecolor": "white",
            "showbackground": true,
            "ticks": "",
            "zerolinecolor": "white"
           },
           "yaxis": {
            "backgroundcolor": "#E5ECF6",
            "gridcolor": "white",
            "gridwidth": 2,
            "linecolor": "white",
            "showbackground": true,
            "ticks": "",
            "zerolinecolor": "white"
           },
           "zaxis": {
            "backgroundcolor": "#E5ECF6",
            "gridcolor": "white",
            "gridwidth": 2,
            "linecolor": "white",
            "showbackground": true,
            "ticks": "",
            "zerolinecolor": "white"
           }
          },
          "shapedefaults": {
           "line": {
            "color": "#2a3f5f"
           }
          },
          "ternary": {
           "aaxis": {
            "gridcolor": "white",
            "linecolor": "white",
            "ticks": ""
           },
           "baxis": {
            "gridcolor": "white",
            "linecolor": "white",
            "ticks": ""
           },
           "bgcolor": "#E5ECF6",
           "caxis": {
            "gridcolor": "white",
            "linecolor": "white",
            "ticks": ""
           }
          },
          "title": {
           "x": 0.05
          },
          "xaxis": {
           "automargin": true,
           "gridcolor": "white",
           "linecolor": "white",
           "ticks": "",
           "title": {
            "standoff": 15
           },
           "zerolinecolor": "white",
           "zerolinewidth": 2
          },
          "yaxis": {
           "automargin": true,
           "gridcolor": "white",
           "linecolor": "white",
           "ticks": "",
           "title": {
            "standoff": 15
           },
           "zerolinecolor": "white",
           "zerolinewidth": 2
          }
         }
        },
        "title": {
         "text": "calibrated  gyro"
        }
       }
      },
      "text/html": [
       "<div>                            <div id=\"17fab0a6-dd29-4868-a432-508ee720aa48\" class=\"plotly-graph-div\" style=\"height:525px; width:100%;\"></div>            <script type=\"text/javascript\">                require([\"plotly\"], function(Plotly) {                    window.PLOTLYENV=window.PLOTLYENV || {};                                    if (document.getElementById(\"17fab0a6-dd29-4868-a432-508ee720aa48\")) {                    Plotly.newPlot(                        \"17fab0a6-dd29-4868-a432-508ee720aa48\",                        [{\"name\":\"lb_gx\",\"x\":[0,1,2,3,4,5,6,7,8,9,10,11,12,13,14,15,16,17,18,19,20,21,22,23,24,25,26,27,28,29,30,31,32,33,34,35,36,37,38,39,40,41,42,43,44,45,46],\"y\":[0.0007340303773585161,-0.00099797962264149,-0.0028632096226414855,-0.00033182962264148574,0.0027324903773585096,-0.0005982796226414872,-0.00033182962264148574,0.000600800377358518,-0.0004650496226414891,0.0004675603773585113,0.0027324903773585096,-0.00033182962264148574,-0.0033961396226414864,6.788037735851182e-05,-0.00033182962264148574,0.000600800377358518,-0.00033182962264148574,-0.00033182962264148574,-0.0031296796226414902,0.003798390377358518,0.0020663903773585207,-0.0032628996226414797,-0.0005982796226414872,-0.0007315096226414852,0.0021995903773585207,-6.534962264148625e-05,0.0021995903773585207,-0.00033182962264148574,0.0010004903773585122,0.0027324903773585096,-0.0023302896226414793,-0.00033182962264148574,-0.00033182962264148574,0.001533390377358515,-0.00033182962264148574,-0.00033182962264148574,-0.0032628996226414797,-0.00033182962264148574,0.0033986903773585153,-0.0035293696226414845,-0.00099797962264149,0.0032653903773585125,-0.00033182962264148574,-0.0028632096226414855,-0.0027299796226414874,-0.00033182962264148574,-0.00033182962264148574],\"type\":\"scatter\"},{\"name\":\"lb_gy\",\"x\":[0,1,2,3,4,5,6,7,8,9,10,11,12,13,14,15,16,17,18,19,20,21,22,23,24,25,26,27,28,29,30,31,32,33,34,35,36,37,38,39,40,41,42,43,44,45,46],\"y\":[-0.0005429809433962277,0.006118589056603778,-0.006804850943396223,0.005985349056603771,0.0003896390566037744,0.0003896390566037744,0.0003896390566037744,0.0003896390566037744,-0.003207610943396222,0.008117049056603771,-0.005072840943396224,0.0003896390566037744,0.0011890190566037767,0.0021216490566037735,-0.005206070943396222,0.0003896390566037744,0.0003896390566037744,-0.0013423709433962247,-0.005072840943396224,0.0003896390566037744,0.0003896390566037744,0.0003896390566037744,0.0025213390566037747,0.0011890190566037767,-0.005339310943396222,0.0009225590566037736,-0.0014756009433962228,0.0003896390566037744,-0.0054725309433962255,0.002921029056603776,0.0010557990566037734,-0.005206070943396222,0.0003896390566037744,-0.0014756009433962228,0.004653039056603775,-0.004406680943396225,0.0003896390566037744,0.0018551790566037757,0.0003896390566037744,0.0003896390566037744,-1.0050943396226752e-05,0.0074508890566037725,0.0003896390566037744,0.0003896390566037744,0.0021216490566037735,0.0003896390566037744,0.0003896390566037744],\"type\":\"scatter\"},{\"name\":\"lb_gz\",\"x\":[0,1,2,3,4,5,6,7,8,9,10,11,12,13,14,15,16,17,18,19,20,21,22,23,24,25,26,27,28,29,30,31,32,33,34,35,36,37,38,39,40,41,42,43,44,45,46],\"y\":[0.004690742264150945,0.0002941122641509433,-0.001970817735849055,-0.0011714277358490545,-0.003036667735849055,-0.004368977735849055,0.003225202264150944,0.0034916622641509437,0.0014932022641509467,0.0002941122641509433,0.0002941122641509433,-0.000372037735849054,-0.0015711177358490556,-0.0026369677358490558,0.0002941122641509433,-0.0018375877358490535,-0.0006385077358490553,-0.0011714277358490545,0.0002941122641509433,-0.0025037377358490542,-0.0034363577358490546,-0.001970817735849055,-0.001304657735849056,0.0002941122641509433,0.0009602722641509458,-0.0007717377358490533,-0.0015711177358490556,0.0005605822641509446,-0.002370507735849056,-0.0018375877358490535,-0.0007717377358490533,-0.0034363577358490546,0.0002941122641509433,-0.0006385077358490553,-0.002370507735849056,0.0002941122641509433,0.0048239722641509435,0.0002941122641509433,0.0002941122641509433,0.0002941122641509433,0.0002941122641509433,0.0017596622641509463,0.0002941122641509433,0.0002941122641509433,0.0002941122641509433,0.0002941122641509433,-0.00010557773584905436],\"type\":\"scatter\"}],                        {\"template\":{\"data\":{\"histogram2dcontour\":[{\"type\":\"histogram2dcontour\",\"colorbar\":{\"outlinewidth\":0,\"ticks\":\"\"},\"colorscale\":[[0.0,\"#0d0887\"],[0.1111111111111111,\"#46039f\"],[0.2222222222222222,\"#7201a8\"],[0.3333333333333333,\"#9c179e\"],[0.4444444444444444,\"#bd3786\"],[0.5555555555555556,\"#d8576b\"],[0.6666666666666666,\"#ed7953\"],[0.7777777777777778,\"#fb9f3a\"],[0.8888888888888888,\"#fdca26\"],[1.0,\"#f0f921\"]]}],\"choropleth\":[{\"type\":\"choropleth\",\"colorbar\":{\"outlinewidth\":0,\"ticks\":\"\"}}],\"histogram2d\":[{\"type\":\"histogram2d\",\"colorbar\":{\"outlinewidth\":0,\"ticks\":\"\"},\"colorscale\":[[0.0,\"#0d0887\"],[0.1111111111111111,\"#46039f\"],[0.2222222222222222,\"#7201a8\"],[0.3333333333333333,\"#9c179e\"],[0.4444444444444444,\"#bd3786\"],[0.5555555555555556,\"#d8576b\"],[0.6666666666666666,\"#ed7953\"],[0.7777777777777778,\"#fb9f3a\"],[0.8888888888888888,\"#fdca26\"],[1.0,\"#f0f921\"]]}],\"heatmap\":[{\"type\":\"heatmap\",\"colorbar\":{\"outlinewidth\":0,\"ticks\":\"\"},\"colorscale\":[[0.0,\"#0d0887\"],[0.1111111111111111,\"#46039f\"],[0.2222222222222222,\"#7201a8\"],[0.3333333333333333,\"#9c179e\"],[0.4444444444444444,\"#bd3786\"],[0.5555555555555556,\"#d8576b\"],[0.6666666666666666,\"#ed7953\"],[0.7777777777777778,\"#fb9f3a\"],[0.8888888888888888,\"#fdca26\"],[1.0,\"#f0f921\"]]}],\"heatmapgl\":[{\"type\":\"heatmapgl\",\"colorbar\":{\"outlinewidth\":0,\"ticks\":\"\"},\"colorscale\":[[0.0,\"#0d0887\"],[0.1111111111111111,\"#46039f\"],[0.2222222222222222,\"#7201a8\"],[0.3333333333333333,\"#9c179e\"],[0.4444444444444444,\"#bd3786\"],[0.5555555555555556,\"#d8576b\"],[0.6666666666666666,\"#ed7953\"],[0.7777777777777778,\"#fb9f3a\"],[0.8888888888888888,\"#fdca26\"],[1.0,\"#f0f921\"]]}],\"contourcarpet\":[{\"type\":\"contourcarpet\",\"colorbar\":{\"outlinewidth\":0,\"ticks\":\"\"}}],\"contour\":[{\"type\":\"contour\",\"colorbar\":{\"outlinewidth\":0,\"ticks\":\"\"},\"colorscale\":[[0.0,\"#0d0887\"],[0.1111111111111111,\"#46039f\"],[0.2222222222222222,\"#7201a8\"],[0.3333333333333333,\"#9c179e\"],[0.4444444444444444,\"#bd3786\"],[0.5555555555555556,\"#d8576b\"],[0.6666666666666666,\"#ed7953\"],[0.7777777777777778,\"#fb9f3a\"],[0.8888888888888888,\"#fdca26\"],[1.0,\"#f0f921\"]]}],\"surface\":[{\"type\":\"surface\",\"colorbar\":{\"outlinewidth\":0,\"ticks\":\"\"},\"colorscale\":[[0.0,\"#0d0887\"],[0.1111111111111111,\"#46039f\"],[0.2222222222222222,\"#7201a8\"],[0.3333333333333333,\"#9c179e\"],[0.4444444444444444,\"#bd3786\"],[0.5555555555555556,\"#d8576b\"],[0.6666666666666666,\"#ed7953\"],[0.7777777777777778,\"#fb9f3a\"],[0.8888888888888888,\"#fdca26\"],[1.0,\"#f0f921\"]]}],\"mesh3d\":[{\"type\":\"mesh3d\",\"colorbar\":{\"outlinewidth\":0,\"ticks\":\"\"}}],\"scatter\":[{\"fillpattern\":{\"fillmode\":\"overlay\",\"size\":10,\"solidity\":0.2},\"type\":\"scatter\"}],\"parcoords\":[{\"type\":\"parcoords\",\"line\":{\"colorbar\":{\"outlinewidth\":0,\"ticks\":\"\"}}}],\"scatterpolargl\":[{\"type\":\"scatterpolargl\",\"marker\":{\"colorbar\":{\"outlinewidth\":0,\"ticks\":\"\"}}}],\"bar\":[{\"error_x\":{\"color\":\"#2a3f5f\"},\"error_y\":{\"color\":\"#2a3f5f\"},\"marker\":{\"line\":{\"color\":\"#E5ECF6\",\"width\":0.5},\"pattern\":{\"fillmode\":\"overlay\",\"size\":10,\"solidity\":0.2}},\"type\":\"bar\"}],\"scattergeo\":[{\"type\":\"scattergeo\",\"marker\":{\"colorbar\":{\"outlinewidth\":0,\"ticks\":\"\"}}}],\"scatterpolar\":[{\"type\":\"scatterpolar\",\"marker\":{\"colorbar\":{\"outlinewidth\":0,\"ticks\":\"\"}}}],\"histogram\":[{\"marker\":{\"pattern\":{\"fillmode\":\"overlay\",\"size\":10,\"solidity\":0.2}},\"type\":\"histogram\"}],\"scattergl\":[{\"type\":\"scattergl\",\"marker\":{\"colorbar\":{\"outlinewidth\":0,\"ticks\":\"\"}}}],\"scatter3d\":[{\"type\":\"scatter3d\",\"line\":{\"colorbar\":{\"outlinewidth\":0,\"ticks\":\"\"}},\"marker\":{\"colorbar\":{\"outlinewidth\":0,\"ticks\":\"\"}}}],\"scattermapbox\":[{\"type\":\"scattermapbox\",\"marker\":{\"colorbar\":{\"outlinewidth\":0,\"ticks\":\"\"}}}],\"scatterternary\":[{\"type\":\"scatterternary\",\"marker\":{\"colorbar\":{\"outlinewidth\":0,\"ticks\":\"\"}}}],\"scattercarpet\":[{\"type\":\"scattercarpet\",\"marker\":{\"colorbar\":{\"outlinewidth\":0,\"ticks\":\"\"}}}],\"carpet\":[{\"aaxis\":{\"endlinecolor\":\"#2a3f5f\",\"gridcolor\":\"white\",\"linecolor\":\"white\",\"minorgridcolor\":\"white\",\"startlinecolor\":\"#2a3f5f\"},\"baxis\":{\"endlinecolor\":\"#2a3f5f\",\"gridcolor\":\"white\",\"linecolor\":\"white\",\"minorgridcolor\":\"white\",\"startlinecolor\":\"#2a3f5f\"},\"type\":\"carpet\"}],\"table\":[{\"cells\":{\"fill\":{\"color\":\"#EBF0F8\"},\"line\":{\"color\":\"white\"}},\"header\":{\"fill\":{\"color\":\"#C8D4E3\"},\"line\":{\"color\":\"white\"}},\"type\":\"table\"}],\"barpolar\":[{\"marker\":{\"line\":{\"color\":\"#E5ECF6\",\"width\":0.5},\"pattern\":{\"fillmode\":\"overlay\",\"size\":10,\"solidity\":0.2}},\"type\":\"barpolar\"}],\"pie\":[{\"automargin\":true,\"type\":\"pie\"}]},\"layout\":{\"autotypenumbers\":\"strict\",\"colorway\":[\"#636efa\",\"#EF553B\",\"#00cc96\",\"#ab63fa\",\"#FFA15A\",\"#19d3f3\",\"#FF6692\",\"#B6E880\",\"#FF97FF\",\"#FECB52\"],\"font\":{\"color\":\"#2a3f5f\"},\"hovermode\":\"closest\",\"hoverlabel\":{\"align\":\"left\"},\"paper_bgcolor\":\"white\",\"plot_bgcolor\":\"#E5ECF6\",\"polar\":{\"bgcolor\":\"#E5ECF6\",\"angularaxis\":{\"gridcolor\":\"white\",\"linecolor\":\"white\",\"ticks\":\"\"},\"radialaxis\":{\"gridcolor\":\"white\",\"linecolor\":\"white\",\"ticks\":\"\"}},\"ternary\":{\"bgcolor\":\"#E5ECF6\",\"aaxis\":{\"gridcolor\":\"white\",\"linecolor\":\"white\",\"ticks\":\"\"},\"baxis\":{\"gridcolor\":\"white\",\"linecolor\":\"white\",\"ticks\":\"\"},\"caxis\":{\"gridcolor\":\"white\",\"linecolor\":\"white\",\"ticks\":\"\"}},\"coloraxis\":{\"colorbar\":{\"outlinewidth\":0,\"ticks\":\"\"}},\"colorscale\":{\"sequential\":[[0.0,\"#0d0887\"],[0.1111111111111111,\"#46039f\"],[0.2222222222222222,\"#7201a8\"],[0.3333333333333333,\"#9c179e\"],[0.4444444444444444,\"#bd3786\"],[0.5555555555555556,\"#d8576b\"],[0.6666666666666666,\"#ed7953\"],[0.7777777777777778,\"#fb9f3a\"],[0.8888888888888888,\"#fdca26\"],[1.0,\"#f0f921\"]],\"sequentialminus\":[[0.0,\"#0d0887\"],[0.1111111111111111,\"#46039f\"],[0.2222222222222222,\"#7201a8\"],[0.3333333333333333,\"#9c179e\"],[0.4444444444444444,\"#bd3786\"],[0.5555555555555556,\"#d8576b\"],[0.6666666666666666,\"#ed7953\"],[0.7777777777777778,\"#fb9f3a\"],[0.8888888888888888,\"#fdca26\"],[1.0,\"#f0f921\"]],\"diverging\":[[0,\"#8e0152\"],[0.1,\"#c51b7d\"],[0.2,\"#de77ae\"],[0.3,\"#f1b6da\"],[0.4,\"#fde0ef\"],[0.5,\"#f7f7f7\"],[0.6,\"#e6f5d0\"],[0.7,\"#b8e186\"],[0.8,\"#7fbc41\"],[0.9,\"#4d9221\"],[1,\"#276419\"]]},\"xaxis\":{\"gridcolor\":\"white\",\"linecolor\":\"white\",\"ticks\":\"\",\"title\":{\"standoff\":15},\"zerolinecolor\":\"white\",\"automargin\":true,\"zerolinewidth\":2},\"yaxis\":{\"gridcolor\":\"white\",\"linecolor\":\"white\",\"ticks\":\"\",\"title\":{\"standoff\":15},\"zerolinecolor\":\"white\",\"automargin\":true,\"zerolinewidth\":2},\"scene\":{\"xaxis\":{\"backgroundcolor\":\"#E5ECF6\",\"gridcolor\":\"white\",\"linecolor\":\"white\",\"showbackground\":true,\"ticks\":\"\",\"zerolinecolor\":\"white\",\"gridwidth\":2},\"yaxis\":{\"backgroundcolor\":\"#E5ECF6\",\"gridcolor\":\"white\",\"linecolor\":\"white\",\"showbackground\":true,\"ticks\":\"\",\"zerolinecolor\":\"white\",\"gridwidth\":2},\"zaxis\":{\"backgroundcolor\":\"#E5ECF6\",\"gridcolor\":\"white\",\"linecolor\":\"white\",\"showbackground\":true,\"ticks\":\"\",\"zerolinecolor\":\"white\",\"gridwidth\":2}},\"shapedefaults\":{\"line\":{\"color\":\"#2a3f5f\"}},\"annotationdefaults\":{\"arrowcolor\":\"#2a3f5f\",\"arrowhead\":0,\"arrowwidth\":1},\"geo\":{\"bgcolor\":\"white\",\"landcolor\":\"#E5ECF6\",\"subunitcolor\":\"white\",\"showland\":true,\"showlakes\":true,\"lakecolor\":\"white\"},\"title\":{\"x\":0.05},\"mapbox\":{\"style\":\"light\"}}},\"title\":{\"text\":\"calibrated  gyro\"}},                        {\"responsive\": true}                    ).then(function(){\n",
       "                            \n",
       "var gd = document.getElementById('17fab0a6-dd29-4868-a432-508ee720aa48');\n",
       "var x = new MutationObserver(function (mutations, observer) {{\n",
       "        var display = window.getComputedStyle(gd).display;\n",
       "        if (!display || display === 'none') {{\n",
       "            console.log([gd, 'removed!']);\n",
       "            Plotly.purge(gd);\n",
       "            observer.disconnect();\n",
       "        }}\n",
       "}});\n",
       "\n",
       "// Listen for the removal of the full notebook cells\n",
       "var notebookContainer = gd.closest('#notebook-container');\n",
       "if (notebookContainer) {{\n",
       "    x.observe(notebookContainer, {childList: true});\n",
       "}}\n",
       "\n",
       "// Listen for the clearing of the current output cell\n",
       "var outputEl = gd.closest('.output');\n",
       "if (outputEl) {{\n",
       "    x.observe(outputEl, {childList: true});\n",
       "}}\n",
       "\n",
       "                        })                };                });            </script>        </div>"
      ]
     },
     "metadata": {},
     "output_type": "display_data"
    }
   ],
   "source": [
    "# df_1 = pd.read_csv('dataset/7_Danya5.csv',sep = ' ',header = None)\n",
    "# df_1.columns = [\"s1\",\"bt_ax\",\"bt_ay\",\"bt_az\",\"bt_gx\",\"bt_gy\",\"bt_gz\",\n",
    "#              \"s2\",\"bb_ax\",\"bb_ay\",\"bb_az\",\"bb_gx\",\"bb_gy\",\"bb_gz\",\n",
    "#              \"s3\",\"lt_ax\",\"lt_ay\",\"lt_az\",\"lt_gx\",\"lt_gy\",\"lt_gz\",\n",
    "#              \"s4\",\"lb_ax\",\"lb_ay\",\"lb_az\",\"lb_gx\",\"lb_gy\",\"lb_gz\",\n",
    "#             \"s5\",\"rt_ax\",\"rt_ay\",\"rt_az\",\"rt_gx\",\"rt_gy\",\"rt_gz\",\n",
    "#              \"s6\",\"rb_ax\",\"rb_ay\",\"rb_az\",\"rb_gx\",\"rb_gy\",\"rb_gz\",\n",
    "#              ]\n",
    "# df\n",
    "\n",
    "\n",
    "df_1 = read_csv_file('dataset/__Vadim1.csv')\n",
    "\n",
    "def all_calibrate(calibration_set,dataset):\n",
    "    \n",
    "    bt_1,bb_1,lt_1,lb_1,rt_1,rb_1=parse_to_sensors(dataset) \n",
    "    \n",
    "    rb_outl,rt_outl,lb_outl,lt_outl,bb_outl,bt_outl =  find_outliers(calibration_set)\n",
    "    \n",
    "    calibrated_rb = calibration(rb_outl,rb_1)\n",
    "    calibrated_rt = calibration(rt_outl,rt_1)\n",
    "    calibrated_lb = calibration(lb_outl,lb_1)\n",
    "    calibrated_lt = calibration(lt_outl,lt_1)\n",
    "    calibrated_bb = calibration(bb_outl,bb_1)\n",
    "    calibrated_bt = calibration(bt_outl,bt_1)\n",
    "#    dataframe = pd.concat([calibrated_bt,calibrated_bb,calibrated_lt,calibrated_lb,calibrated_rt,calibrated_rb],axis = 1)\n",
    "    show_plot(lb_1,'Non calibrtated ',False)\n",
    "    show_plot(calibrated_lb,'calibrated ',False)\n",
    "    return calibrated_lb\n",
    "    \n",
    "\n",
    "\n",
    "calibrated_lb = all_calibrate(df,df_1)\n",
    "\n",
    "# def all_calibrated(df):\n",
    "  \n",
    "# #первый фрейм калибровочный файл\n",
    "# calibrated_lb = calibration(lt_outl,lt_1)\n",
    "# #calibrated_lb = lb_1\n",
    "\n"
   ]
  },
  {
   "cell_type": "markdown",
   "id": "fe875119",
   "metadata": {},
   "source": [
    "# find orientation"
   ]
  },
  {
   "cell_type": "code",
   "execution_count": 9,
   "id": "218e64cf",
   "metadata": {},
   "outputs": [],
   "source": [
    "import madgwickahrs as mg\n",
    "from quaternion import Quaternion"
   ]
  },
  {
   "cell_type": "code",
   "execution_count": 18,
   "id": "f125a81a",
   "metadata": {},
   "outputs": [
    {
     "data": {
      "application/vnd.plotly.v1+json": {
       "config": {
        "plotlyServerURL": "https://plot.ly"
       },
       "data": [
        {
         "name": "roll",
         "type": "scatter",
         "x": [
          0,
          1,
          2,
          3,
          4,
          5,
          6,
          7,
          8,
          9,
          10,
          11,
          12,
          13,
          14,
          15,
          16,
          17,
          18,
          19,
          20,
          21,
          22,
          23,
          24,
          25,
          26,
          27,
          28,
          29,
          30,
          31,
          32,
          33,
          34,
          35,
          36,
          37,
          38,
          39,
          40,
          41,
          42,
          43,
          44,
          45,
          46
         ],
         "y": [
          0,
          0.002523410559422289,
          -0.0009073906656226656,
          -0.010750380299938796,
          -0.01189112651362535,
          -0.0024975165426602145,
          -0.00455425038342242,
          -0.005694996597108972,
          -0.003629597039958354,
          -0.005228319878448887,
          -0.003620965701037677,
          0.005772644269927458,
          0.004631898056240906,
          -0.007043169964629646,
          -0.006809814416565759,
          -0.007950560630252313,
          -0.005885161073101694,
          -0.0070259072867882464,
          -0.008166653500474798,
          -0.018925699516802008,
          -0.005867795262857175,
          0.0012359315840881518,
          -0.009981091057042991,
          -0.012037824897805196,
          -0.014552569740839072,
          -0.006990935024025192,
          -0.007215590478232975,
          0.00034604423858090617,
          -0.0007947019751056465,
          0.002644730588859984,
          0.01203834055982512,
          0.00402739493459572,
          0.0028866487209091678,
          0.001745902507222615,
          0.007017310325339548,
          0.005876564111652996,
          0.004735817897966443,
          -0.0064812047431647,
          -0.007621950956851252,
          0.004061885912810831,
          -0.008071193110331392,
          -0.011501994335376346,
          -0.0002764091102599065,
          -0.001417155323946459,
          -0.01126014495826259,
          -0.02064512359030705,
          -0.021785869803993604
         ]
        },
        {
         "name": "pitch",
         "type": "scatter",
         "x": [
          0,
          1,
          2,
          3,
          4,
          5,
          6,
          7,
          8,
          9,
          10,
          11,
          12,
          13,
          14,
          15,
          16,
          17,
          18,
          19,
          20,
          21,
          22,
          23,
          24,
          25,
          26,
          27,
          28,
          29,
          30,
          31,
          32,
          33,
          34,
          35,
          36,
          37,
          38,
          39,
          40,
          41,
          42,
          43,
          44,
          45,
          46
         ],
         "y": [
          0,
          -0.0018666309847581415,
          0.019167528786341564,
          -0.004225825569991651,
          0.016350288821368644,
          0.01768976922997996,
          0.019029249638591275,
          0.02036873004720259,
          0.021708210455813903,
          0.010681256293219109,
          0.03858561547586166,
          0.02114647290399567,
          0.02248595331260698,
          0.02657349973484837,
          0.03386719192792691,
          0.01597003835378924,
          0.017309518762400555,
          0.018648999171011867,
          0.014034267795155963,
          -0.0034048747767100314,
          -0.0020653943680987155,
          -0.0007259139594873999,
          0.0006135664491239158,
          0.009281291649017486,
          0.013368838071258875,
          -0.004986360882618176,
          -0.001814836464920153,
          -0.006887578843047727,
          -0.005548098434436412,
          -0.024361274013117443,
          -0.014319515806408837,
          -0.010689946008971428,
          -0.028587099583109093,
          -0.02724761917449778,
          -0.032320361552625354,
          -0.016324391561449526,
          -0.03147344474448943,
          -0.030133964335878113,
          -0.023756328524810633,
          -0.022416848116199317,
          -0.021077367707588005,
          -0.021111920305791725,
          0.004502349488024736,
          0.0058418298966360525,
          0.007181310305247369,
          0.014475002498325904,
          0.015814482906937218
         ]
        },
        {
         "name": "yaw",
         "type": "scatter",
         "x": [
          0,
          1,
          2,
          3,
          4,
          5,
          6,
          7,
          8,
          9,
          10,
          11,
          12,
          13,
          14,
          15,
          16,
          17,
          18,
          19,
          20,
          21,
          22,
          23,
          24,
          25,
          26,
          27,
          28,
          29,
          30,
          31,
          32,
          33,
          34,
          35,
          36,
          37,
          38,
          39,
          40,
          41,
          42,
          43,
          44,
          45,
          46
         ],
         "y": [
          0,
          0.016125584071169347,
          0.0171366675575025,
          0.010361495250281724,
          0.006334423334158725,
          -0.004104871368703178,
          -0.01912431047174956,
          -0.008036881803036381,
          0.003966568870220156,
          0.009099820131933832,
          0.010110903618266984,
          0.011121987104600136,
          0.009843015579574909,
          0.004441910656636874,
          -0.00462331666194229,
          -0.0036122331756091373,
          -0.009929394480558228,
          -0.012124422387594522,
          -0.016151494303717522,
          -0.01514041081738437,
          -0.023747627133691853,
          -0.03556095484336878,
          -0.042336127150589556,
          -0.04682121006898424,
          -0.04581012658265109,
          -0.04250895370749184,
          -0.045161992616799804,
          -0.05056309753973784,
          -0.048635957671393615,
          -0.056785162985429426,
          -0.06310232429037851,
          -0.06575536319968647,
          -0.07756869090936341,
          -0.07655760742303026,
          -0.07875263533006654,
          -0.08690184064410236,
          -0.0858907571577692,
          -0.06930716208432817,
          -0.06829607859799502,
          -0.06728499511166187,
          -0.06627391162532871,
          -0.06526282813899556,
          -0.05921355487273852,
          -0.05820247138640537,
          -0.057191387900072214,
          -0.05618030441373906,
          -0.05516922092740591
         ]
        }
       ],
       "layout": {
        "template": {
         "data": {
          "bar": [
           {
            "error_x": {
             "color": "#2a3f5f"
            },
            "error_y": {
             "color": "#2a3f5f"
            },
            "marker": {
             "line": {
              "color": "#E5ECF6",
              "width": 0.5
             },
             "pattern": {
              "fillmode": "overlay",
              "size": 10,
              "solidity": 0.2
             }
            },
            "type": "bar"
           }
          ],
          "barpolar": [
           {
            "marker": {
             "line": {
              "color": "#E5ECF6",
              "width": 0.5
             },
             "pattern": {
              "fillmode": "overlay",
              "size": 10,
              "solidity": 0.2
             }
            },
            "type": "barpolar"
           }
          ],
          "carpet": [
           {
            "aaxis": {
             "endlinecolor": "#2a3f5f",
             "gridcolor": "white",
             "linecolor": "white",
             "minorgridcolor": "white",
             "startlinecolor": "#2a3f5f"
            },
            "baxis": {
             "endlinecolor": "#2a3f5f",
             "gridcolor": "white",
             "linecolor": "white",
             "minorgridcolor": "white",
             "startlinecolor": "#2a3f5f"
            },
            "type": "carpet"
           }
          ],
          "choropleth": [
           {
            "colorbar": {
             "outlinewidth": 0,
             "ticks": ""
            },
            "type": "choropleth"
           }
          ],
          "contour": [
           {
            "colorbar": {
             "outlinewidth": 0,
             "ticks": ""
            },
            "colorscale": [
             [
              0,
              "#0d0887"
             ],
             [
              0.1111111111111111,
              "#46039f"
             ],
             [
              0.2222222222222222,
              "#7201a8"
             ],
             [
              0.3333333333333333,
              "#9c179e"
             ],
             [
              0.4444444444444444,
              "#bd3786"
             ],
             [
              0.5555555555555556,
              "#d8576b"
             ],
             [
              0.6666666666666666,
              "#ed7953"
             ],
             [
              0.7777777777777778,
              "#fb9f3a"
             ],
             [
              0.8888888888888888,
              "#fdca26"
             ],
             [
              1,
              "#f0f921"
             ]
            ],
            "type": "contour"
           }
          ],
          "contourcarpet": [
           {
            "colorbar": {
             "outlinewidth": 0,
             "ticks": ""
            },
            "type": "contourcarpet"
           }
          ],
          "heatmap": [
           {
            "colorbar": {
             "outlinewidth": 0,
             "ticks": ""
            },
            "colorscale": [
             [
              0,
              "#0d0887"
             ],
             [
              0.1111111111111111,
              "#46039f"
             ],
             [
              0.2222222222222222,
              "#7201a8"
             ],
             [
              0.3333333333333333,
              "#9c179e"
             ],
             [
              0.4444444444444444,
              "#bd3786"
             ],
             [
              0.5555555555555556,
              "#d8576b"
             ],
             [
              0.6666666666666666,
              "#ed7953"
             ],
             [
              0.7777777777777778,
              "#fb9f3a"
             ],
             [
              0.8888888888888888,
              "#fdca26"
             ],
             [
              1,
              "#f0f921"
             ]
            ],
            "type": "heatmap"
           }
          ],
          "heatmapgl": [
           {
            "colorbar": {
             "outlinewidth": 0,
             "ticks": ""
            },
            "colorscale": [
             [
              0,
              "#0d0887"
             ],
             [
              0.1111111111111111,
              "#46039f"
             ],
             [
              0.2222222222222222,
              "#7201a8"
             ],
             [
              0.3333333333333333,
              "#9c179e"
             ],
             [
              0.4444444444444444,
              "#bd3786"
             ],
             [
              0.5555555555555556,
              "#d8576b"
             ],
             [
              0.6666666666666666,
              "#ed7953"
             ],
             [
              0.7777777777777778,
              "#fb9f3a"
             ],
             [
              0.8888888888888888,
              "#fdca26"
             ],
             [
              1,
              "#f0f921"
             ]
            ],
            "type": "heatmapgl"
           }
          ],
          "histogram": [
           {
            "marker": {
             "pattern": {
              "fillmode": "overlay",
              "size": 10,
              "solidity": 0.2
             }
            },
            "type": "histogram"
           }
          ],
          "histogram2d": [
           {
            "colorbar": {
             "outlinewidth": 0,
             "ticks": ""
            },
            "colorscale": [
             [
              0,
              "#0d0887"
             ],
             [
              0.1111111111111111,
              "#46039f"
             ],
             [
              0.2222222222222222,
              "#7201a8"
             ],
             [
              0.3333333333333333,
              "#9c179e"
             ],
             [
              0.4444444444444444,
              "#bd3786"
             ],
             [
              0.5555555555555556,
              "#d8576b"
             ],
             [
              0.6666666666666666,
              "#ed7953"
             ],
             [
              0.7777777777777778,
              "#fb9f3a"
             ],
             [
              0.8888888888888888,
              "#fdca26"
             ],
             [
              1,
              "#f0f921"
             ]
            ],
            "type": "histogram2d"
           }
          ],
          "histogram2dcontour": [
           {
            "colorbar": {
             "outlinewidth": 0,
             "ticks": ""
            },
            "colorscale": [
             [
              0,
              "#0d0887"
             ],
             [
              0.1111111111111111,
              "#46039f"
             ],
             [
              0.2222222222222222,
              "#7201a8"
             ],
             [
              0.3333333333333333,
              "#9c179e"
             ],
             [
              0.4444444444444444,
              "#bd3786"
             ],
             [
              0.5555555555555556,
              "#d8576b"
             ],
             [
              0.6666666666666666,
              "#ed7953"
             ],
             [
              0.7777777777777778,
              "#fb9f3a"
             ],
             [
              0.8888888888888888,
              "#fdca26"
             ],
             [
              1,
              "#f0f921"
             ]
            ],
            "type": "histogram2dcontour"
           }
          ],
          "mesh3d": [
           {
            "colorbar": {
             "outlinewidth": 0,
             "ticks": ""
            },
            "type": "mesh3d"
           }
          ],
          "parcoords": [
           {
            "line": {
             "colorbar": {
              "outlinewidth": 0,
              "ticks": ""
             }
            },
            "type": "parcoords"
           }
          ],
          "pie": [
           {
            "automargin": true,
            "type": "pie"
           }
          ],
          "scatter": [
           {
            "fillpattern": {
             "fillmode": "overlay",
             "size": 10,
             "solidity": 0.2
            },
            "type": "scatter"
           }
          ],
          "scatter3d": [
           {
            "line": {
             "colorbar": {
              "outlinewidth": 0,
              "ticks": ""
             }
            },
            "marker": {
             "colorbar": {
              "outlinewidth": 0,
              "ticks": ""
             }
            },
            "type": "scatter3d"
           }
          ],
          "scattercarpet": [
           {
            "marker": {
             "colorbar": {
              "outlinewidth": 0,
              "ticks": ""
             }
            },
            "type": "scattercarpet"
           }
          ],
          "scattergeo": [
           {
            "marker": {
             "colorbar": {
              "outlinewidth": 0,
              "ticks": ""
             }
            },
            "type": "scattergeo"
           }
          ],
          "scattergl": [
           {
            "marker": {
             "colorbar": {
              "outlinewidth": 0,
              "ticks": ""
             }
            },
            "type": "scattergl"
           }
          ],
          "scattermapbox": [
           {
            "marker": {
             "colorbar": {
              "outlinewidth": 0,
              "ticks": ""
             }
            },
            "type": "scattermapbox"
           }
          ],
          "scatterpolar": [
           {
            "marker": {
             "colorbar": {
              "outlinewidth": 0,
              "ticks": ""
             }
            },
            "type": "scatterpolar"
           }
          ],
          "scatterpolargl": [
           {
            "marker": {
             "colorbar": {
              "outlinewidth": 0,
              "ticks": ""
             }
            },
            "type": "scatterpolargl"
           }
          ],
          "scatterternary": [
           {
            "marker": {
             "colorbar": {
              "outlinewidth": 0,
              "ticks": ""
             }
            },
            "type": "scatterternary"
           }
          ],
          "surface": [
           {
            "colorbar": {
             "outlinewidth": 0,
             "ticks": ""
            },
            "colorscale": [
             [
              0,
              "#0d0887"
             ],
             [
              0.1111111111111111,
              "#46039f"
             ],
             [
              0.2222222222222222,
              "#7201a8"
             ],
             [
              0.3333333333333333,
              "#9c179e"
             ],
             [
              0.4444444444444444,
              "#bd3786"
             ],
             [
              0.5555555555555556,
              "#d8576b"
             ],
             [
              0.6666666666666666,
              "#ed7953"
             ],
             [
              0.7777777777777778,
              "#fb9f3a"
             ],
             [
              0.8888888888888888,
              "#fdca26"
             ],
             [
              1,
              "#f0f921"
             ]
            ],
            "type": "surface"
           }
          ],
          "table": [
           {
            "cells": {
             "fill": {
              "color": "#EBF0F8"
             },
             "line": {
              "color": "white"
             }
            },
            "header": {
             "fill": {
              "color": "#C8D4E3"
             },
             "line": {
              "color": "white"
             }
            },
            "type": "table"
           }
          ]
         },
         "layout": {
          "annotationdefaults": {
           "arrowcolor": "#2a3f5f",
           "arrowhead": 0,
           "arrowwidth": 1
          },
          "autotypenumbers": "strict",
          "coloraxis": {
           "colorbar": {
            "outlinewidth": 0,
            "ticks": ""
           }
          },
          "colorscale": {
           "diverging": [
            [
             0,
             "#8e0152"
            ],
            [
             0.1,
             "#c51b7d"
            ],
            [
             0.2,
             "#de77ae"
            ],
            [
             0.3,
             "#f1b6da"
            ],
            [
             0.4,
             "#fde0ef"
            ],
            [
             0.5,
             "#f7f7f7"
            ],
            [
             0.6,
             "#e6f5d0"
            ],
            [
             0.7,
             "#b8e186"
            ],
            [
             0.8,
             "#7fbc41"
            ],
            [
             0.9,
             "#4d9221"
            ],
            [
             1,
             "#276419"
            ]
           ],
           "sequential": [
            [
             0,
             "#0d0887"
            ],
            [
             0.1111111111111111,
             "#46039f"
            ],
            [
             0.2222222222222222,
             "#7201a8"
            ],
            [
             0.3333333333333333,
             "#9c179e"
            ],
            [
             0.4444444444444444,
             "#bd3786"
            ],
            [
             0.5555555555555556,
             "#d8576b"
            ],
            [
             0.6666666666666666,
             "#ed7953"
            ],
            [
             0.7777777777777778,
             "#fb9f3a"
            ],
            [
             0.8888888888888888,
             "#fdca26"
            ],
            [
             1,
             "#f0f921"
            ]
           ],
           "sequentialminus": [
            [
             0,
             "#0d0887"
            ],
            [
             0.1111111111111111,
             "#46039f"
            ],
            [
             0.2222222222222222,
             "#7201a8"
            ],
            [
             0.3333333333333333,
             "#9c179e"
            ],
            [
             0.4444444444444444,
             "#bd3786"
            ],
            [
             0.5555555555555556,
             "#d8576b"
            ],
            [
             0.6666666666666666,
             "#ed7953"
            ],
            [
             0.7777777777777778,
             "#fb9f3a"
            ],
            [
             0.8888888888888888,
             "#fdca26"
            ],
            [
             1,
             "#f0f921"
            ]
           ]
          },
          "colorway": [
           "#636efa",
           "#EF553B",
           "#00cc96",
           "#ab63fa",
           "#FFA15A",
           "#19d3f3",
           "#FF6692",
           "#B6E880",
           "#FF97FF",
           "#FECB52"
          ],
          "font": {
           "color": "#2a3f5f"
          },
          "geo": {
           "bgcolor": "white",
           "lakecolor": "white",
           "landcolor": "#E5ECF6",
           "showlakes": true,
           "showland": true,
           "subunitcolor": "white"
          },
          "hoverlabel": {
           "align": "left"
          },
          "hovermode": "closest",
          "mapbox": {
           "style": "light"
          },
          "paper_bgcolor": "white",
          "plot_bgcolor": "#E5ECF6",
          "polar": {
           "angularaxis": {
            "gridcolor": "white",
            "linecolor": "white",
            "ticks": ""
           },
           "bgcolor": "#E5ECF6",
           "radialaxis": {
            "gridcolor": "white",
            "linecolor": "white",
            "ticks": ""
           }
          },
          "scene": {
           "xaxis": {
            "backgroundcolor": "#E5ECF6",
            "gridcolor": "white",
            "gridwidth": 2,
            "linecolor": "white",
            "showbackground": true,
            "ticks": "",
            "zerolinecolor": "white"
           },
           "yaxis": {
            "backgroundcolor": "#E5ECF6",
            "gridcolor": "white",
            "gridwidth": 2,
            "linecolor": "white",
            "showbackground": true,
            "ticks": "",
            "zerolinecolor": "white"
           },
           "zaxis": {
            "backgroundcolor": "#E5ECF6",
            "gridcolor": "white",
            "gridwidth": 2,
            "linecolor": "white",
            "showbackground": true,
            "ticks": "",
            "zerolinecolor": "white"
           }
          },
          "shapedefaults": {
           "line": {
            "color": "#2a3f5f"
           }
          },
          "ternary": {
           "aaxis": {
            "gridcolor": "white",
            "linecolor": "white",
            "ticks": ""
           },
           "baxis": {
            "gridcolor": "white",
            "linecolor": "white",
            "ticks": ""
           },
           "bgcolor": "#E5ECF6",
           "caxis": {
            "gridcolor": "white",
            "linecolor": "white",
            "ticks": ""
           }
          },
          "title": {
           "x": 0.05
          },
          "xaxis": {
           "automargin": true,
           "gridcolor": "white",
           "linecolor": "white",
           "ticks": "",
           "title": {
            "standoff": 15
           },
           "zerolinecolor": "white",
           "zerolinewidth": 2
          },
          "yaxis": {
           "automargin": true,
           "gridcolor": "white",
           "linecolor": "white",
           "ticks": "",
           "title": {
            "standoff": 15
           },
           "zerolinecolor": "white",
           "zerolinewidth": 2
          }
         }
        },
        "title": {
         "text": "Orientation only with  gyro"
        }
       }
      },
      "text/html": [
       "<div>                            <div id=\"a9b7ac49-3054-4edf-a797-89b8f59fb810\" class=\"plotly-graph-div\" style=\"height:525px; width:100%;\"></div>            <script type=\"text/javascript\">                require([\"plotly\"], function(Plotly) {                    window.PLOTLYENV=window.PLOTLYENV || {};                                    if (document.getElementById(\"a9b7ac49-3054-4edf-a797-89b8f59fb810\")) {                    Plotly.newPlot(                        \"a9b7ac49-3054-4edf-a797-89b8f59fb810\",                        [{\"name\":\"roll\",\"x\":[0,1,2,3,4,5,6,7,8,9,10,11,12,13,14,15,16,17,18,19,20,21,22,23,24,25,26,27,28,29,30,31,32,33,34,35,36,37,38,39,40,41,42,43,44,45,46],\"y\":[0.0,0.002523410559422289,-0.0009073906656226656,-0.010750380299938796,-0.01189112651362535,-0.0024975165426602145,-0.00455425038342242,-0.005694996597108972,-0.003629597039958354,-0.005228319878448887,-0.003620965701037677,0.005772644269927458,0.004631898056240906,-0.007043169964629646,-0.006809814416565759,-0.007950560630252313,-0.005885161073101694,-0.0070259072867882464,-0.008166653500474798,-0.018925699516802008,-0.005867795262857175,0.0012359315840881518,-0.009981091057042991,-0.012037824897805196,-0.014552569740839072,-0.006990935024025192,-0.007215590478232975,0.00034604423858090617,-0.0007947019751056465,0.002644730588859984,0.01203834055982512,0.00402739493459572,0.0028866487209091678,0.001745902507222615,0.007017310325339548,0.005876564111652996,0.004735817897966443,-0.0064812047431647,-0.007621950956851252,0.004061885912810831,-0.008071193110331392,-0.011501994335376346,-0.0002764091102599065,-0.001417155323946459,-0.01126014495826259,-0.02064512359030705,-0.021785869803993604],\"type\":\"scatter\"},{\"name\":\"pitch\",\"x\":[0,1,2,3,4,5,6,7,8,9,10,11,12,13,14,15,16,17,18,19,20,21,22,23,24,25,26,27,28,29,30,31,32,33,34,35,36,37,38,39,40,41,42,43,44,45,46],\"y\":[0.0,-0.0018666309847581415,0.019167528786341564,-0.004225825569991651,0.016350288821368644,0.01768976922997996,0.019029249638591275,0.02036873004720259,0.021708210455813903,0.010681256293219109,0.03858561547586166,0.02114647290399567,0.02248595331260698,0.02657349973484837,0.03386719192792691,0.01597003835378924,0.017309518762400555,0.018648999171011867,0.014034267795155963,-0.0034048747767100314,-0.0020653943680987155,-0.0007259139594873999,0.0006135664491239158,0.009281291649017486,0.013368838071258875,-0.004986360882618176,-0.001814836464920153,-0.006887578843047727,-0.005548098434436412,-0.024361274013117443,-0.014319515806408837,-0.010689946008971428,-0.028587099583109093,-0.02724761917449778,-0.032320361552625354,-0.016324391561449526,-0.03147344474448943,-0.030133964335878113,-0.023756328524810633,-0.022416848116199317,-0.021077367707588005,-0.021111920305791725,0.004502349488024736,0.0058418298966360525,0.007181310305247369,0.014475002498325904,0.015814482906937218],\"type\":\"scatter\"},{\"name\":\"yaw\",\"x\":[0,1,2,3,4,5,6,7,8,9,10,11,12,13,14,15,16,17,18,19,20,21,22,23,24,25,26,27,28,29,30,31,32,33,34,35,36,37,38,39,40,41,42,43,44,45,46],\"y\":[0.0,0.016125584071169347,0.0171366675575025,0.010361495250281724,0.006334423334158725,-0.004104871368703178,-0.01912431047174956,-0.008036881803036381,0.003966568870220156,0.009099820131933832,0.010110903618266984,0.011121987104600136,0.009843015579574909,0.004441910656636874,-0.00462331666194229,-0.0036122331756091373,-0.009929394480558228,-0.012124422387594522,-0.016151494303717522,-0.01514041081738437,-0.023747627133691853,-0.03556095484336878,-0.042336127150589556,-0.04682121006898424,-0.04581012658265109,-0.04250895370749184,-0.045161992616799804,-0.05056309753973784,-0.048635957671393615,-0.056785162985429426,-0.06310232429037851,-0.06575536319968647,-0.07756869090936341,-0.07655760742303026,-0.07875263533006654,-0.08690184064410236,-0.0858907571577692,-0.06930716208432817,-0.06829607859799502,-0.06728499511166187,-0.06627391162532871,-0.06526282813899556,-0.05921355487273852,-0.05820247138640537,-0.057191387900072214,-0.05618030441373906,-0.05516922092740591],\"type\":\"scatter\"}],                        {\"template\":{\"data\":{\"histogram2dcontour\":[{\"type\":\"histogram2dcontour\",\"colorbar\":{\"outlinewidth\":0,\"ticks\":\"\"},\"colorscale\":[[0.0,\"#0d0887\"],[0.1111111111111111,\"#46039f\"],[0.2222222222222222,\"#7201a8\"],[0.3333333333333333,\"#9c179e\"],[0.4444444444444444,\"#bd3786\"],[0.5555555555555556,\"#d8576b\"],[0.6666666666666666,\"#ed7953\"],[0.7777777777777778,\"#fb9f3a\"],[0.8888888888888888,\"#fdca26\"],[1.0,\"#f0f921\"]]}],\"choropleth\":[{\"type\":\"choropleth\",\"colorbar\":{\"outlinewidth\":0,\"ticks\":\"\"}}],\"histogram2d\":[{\"type\":\"histogram2d\",\"colorbar\":{\"outlinewidth\":0,\"ticks\":\"\"},\"colorscale\":[[0.0,\"#0d0887\"],[0.1111111111111111,\"#46039f\"],[0.2222222222222222,\"#7201a8\"],[0.3333333333333333,\"#9c179e\"],[0.4444444444444444,\"#bd3786\"],[0.5555555555555556,\"#d8576b\"],[0.6666666666666666,\"#ed7953\"],[0.7777777777777778,\"#fb9f3a\"],[0.8888888888888888,\"#fdca26\"],[1.0,\"#f0f921\"]]}],\"heatmap\":[{\"type\":\"heatmap\",\"colorbar\":{\"outlinewidth\":0,\"ticks\":\"\"},\"colorscale\":[[0.0,\"#0d0887\"],[0.1111111111111111,\"#46039f\"],[0.2222222222222222,\"#7201a8\"],[0.3333333333333333,\"#9c179e\"],[0.4444444444444444,\"#bd3786\"],[0.5555555555555556,\"#d8576b\"],[0.6666666666666666,\"#ed7953\"],[0.7777777777777778,\"#fb9f3a\"],[0.8888888888888888,\"#fdca26\"],[1.0,\"#f0f921\"]]}],\"heatmapgl\":[{\"type\":\"heatmapgl\",\"colorbar\":{\"outlinewidth\":0,\"ticks\":\"\"},\"colorscale\":[[0.0,\"#0d0887\"],[0.1111111111111111,\"#46039f\"],[0.2222222222222222,\"#7201a8\"],[0.3333333333333333,\"#9c179e\"],[0.4444444444444444,\"#bd3786\"],[0.5555555555555556,\"#d8576b\"],[0.6666666666666666,\"#ed7953\"],[0.7777777777777778,\"#fb9f3a\"],[0.8888888888888888,\"#fdca26\"],[1.0,\"#f0f921\"]]}],\"contourcarpet\":[{\"type\":\"contourcarpet\",\"colorbar\":{\"outlinewidth\":0,\"ticks\":\"\"}}],\"contour\":[{\"type\":\"contour\",\"colorbar\":{\"outlinewidth\":0,\"ticks\":\"\"},\"colorscale\":[[0.0,\"#0d0887\"],[0.1111111111111111,\"#46039f\"],[0.2222222222222222,\"#7201a8\"],[0.3333333333333333,\"#9c179e\"],[0.4444444444444444,\"#bd3786\"],[0.5555555555555556,\"#d8576b\"],[0.6666666666666666,\"#ed7953\"],[0.7777777777777778,\"#fb9f3a\"],[0.8888888888888888,\"#fdca26\"],[1.0,\"#f0f921\"]]}],\"surface\":[{\"type\":\"surface\",\"colorbar\":{\"outlinewidth\":0,\"ticks\":\"\"},\"colorscale\":[[0.0,\"#0d0887\"],[0.1111111111111111,\"#46039f\"],[0.2222222222222222,\"#7201a8\"],[0.3333333333333333,\"#9c179e\"],[0.4444444444444444,\"#bd3786\"],[0.5555555555555556,\"#d8576b\"],[0.6666666666666666,\"#ed7953\"],[0.7777777777777778,\"#fb9f3a\"],[0.8888888888888888,\"#fdca26\"],[1.0,\"#f0f921\"]]}],\"mesh3d\":[{\"type\":\"mesh3d\",\"colorbar\":{\"outlinewidth\":0,\"ticks\":\"\"}}],\"scatter\":[{\"fillpattern\":{\"fillmode\":\"overlay\",\"size\":10,\"solidity\":0.2},\"type\":\"scatter\"}],\"parcoords\":[{\"type\":\"parcoords\",\"line\":{\"colorbar\":{\"outlinewidth\":0,\"ticks\":\"\"}}}],\"scatterpolargl\":[{\"type\":\"scatterpolargl\",\"marker\":{\"colorbar\":{\"outlinewidth\":0,\"ticks\":\"\"}}}],\"bar\":[{\"error_x\":{\"color\":\"#2a3f5f\"},\"error_y\":{\"color\":\"#2a3f5f\"},\"marker\":{\"line\":{\"color\":\"#E5ECF6\",\"width\":0.5},\"pattern\":{\"fillmode\":\"overlay\",\"size\":10,\"solidity\":0.2}},\"type\":\"bar\"}],\"scattergeo\":[{\"type\":\"scattergeo\",\"marker\":{\"colorbar\":{\"outlinewidth\":0,\"ticks\":\"\"}}}],\"scatterpolar\":[{\"type\":\"scatterpolar\",\"marker\":{\"colorbar\":{\"outlinewidth\":0,\"ticks\":\"\"}}}],\"histogram\":[{\"marker\":{\"pattern\":{\"fillmode\":\"overlay\",\"size\":10,\"solidity\":0.2}},\"type\":\"histogram\"}],\"scattergl\":[{\"type\":\"scattergl\",\"marker\":{\"colorbar\":{\"outlinewidth\":0,\"ticks\":\"\"}}}],\"scatter3d\":[{\"type\":\"scatter3d\",\"line\":{\"colorbar\":{\"outlinewidth\":0,\"ticks\":\"\"}},\"marker\":{\"colorbar\":{\"outlinewidth\":0,\"ticks\":\"\"}}}],\"scattermapbox\":[{\"type\":\"scattermapbox\",\"marker\":{\"colorbar\":{\"outlinewidth\":0,\"ticks\":\"\"}}}],\"scatterternary\":[{\"type\":\"scatterternary\",\"marker\":{\"colorbar\":{\"outlinewidth\":0,\"ticks\":\"\"}}}],\"scattercarpet\":[{\"type\":\"scattercarpet\",\"marker\":{\"colorbar\":{\"outlinewidth\":0,\"ticks\":\"\"}}}],\"carpet\":[{\"aaxis\":{\"endlinecolor\":\"#2a3f5f\",\"gridcolor\":\"white\",\"linecolor\":\"white\",\"minorgridcolor\":\"white\",\"startlinecolor\":\"#2a3f5f\"},\"baxis\":{\"endlinecolor\":\"#2a3f5f\",\"gridcolor\":\"white\",\"linecolor\":\"white\",\"minorgridcolor\":\"white\",\"startlinecolor\":\"#2a3f5f\"},\"type\":\"carpet\"}],\"table\":[{\"cells\":{\"fill\":{\"color\":\"#EBF0F8\"},\"line\":{\"color\":\"white\"}},\"header\":{\"fill\":{\"color\":\"#C8D4E3\"},\"line\":{\"color\":\"white\"}},\"type\":\"table\"}],\"barpolar\":[{\"marker\":{\"line\":{\"color\":\"#E5ECF6\",\"width\":0.5},\"pattern\":{\"fillmode\":\"overlay\",\"size\":10,\"solidity\":0.2}},\"type\":\"barpolar\"}],\"pie\":[{\"automargin\":true,\"type\":\"pie\"}]},\"layout\":{\"autotypenumbers\":\"strict\",\"colorway\":[\"#636efa\",\"#EF553B\",\"#00cc96\",\"#ab63fa\",\"#FFA15A\",\"#19d3f3\",\"#FF6692\",\"#B6E880\",\"#FF97FF\",\"#FECB52\"],\"font\":{\"color\":\"#2a3f5f\"},\"hovermode\":\"closest\",\"hoverlabel\":{\"align\":\"left\"},\"paper_bgcolor\":\"white\",\"plot_bgcolor\":\"#E5ECF6\",\"polar\":{\"bgcolor\":\"#E5ECF6\",\"angularaxis\":{\"gridcolor\":\"white\",\"linecolor\":\"white\",\"ticks\":\"\"},\"radialaxis\":{\"gridcolor\":\"white\",\"linecolor\":\"white\",\"ticks\":\"\"}},\"ternary\":{\"bgcolor\":\"#E5ECF6\",\"aaxis\":{\"gridcolor\":\"white\",\"linecolor\":\"white\",\"ticks\":\"\"},\"baxis\":{\"gridcolor\":\"white\",\"linecolor\":\"white\",\"ticks\":\"\"},\"caxis\":{\"gridcolor\":\"white\",\"linecolor\":\"white\",\"ticks\":\"\"}},\"coloraxis\":{\"colorbar\":{\"outlinewidth\":0,\"ticks\":\"\"}},\"colorscale\":{\"sequential\":[[0.0,\"#0d0887\"],[0.1111111111111111,\"#46039f\"],[0.2222222222222222,\"#7201a8\"],[0.3333333333333333,\"#9c179e\"],[0.4444444444444444,\"#bd3786\"],[0.5555555555555556,\"#d8576b\"],[0.6666666666666666,\"#ed7953\"],[0.7777777777777778,\"#fb9f3a\"],[0.8888888888888888,\"#fdca26\"],[1.0,\"#f0f921\"]],\"sequentialminus\":[[0.0,\"#0d0887\"],[0.1111111111111111,\"#46039f\"],[0.2222222222222222,\"#7201a8\"],[0.3333333333333333,\"#9c179e\"],[0.4444444444444444,\"#bd3786\"],[0.5555555555555556,\"#d8576b\"],[0.6666666666666666,\"#ed7953\"],[0.7777777777777778,\"#fb9f3a\"],[0.8888888888888888,\"#fdca26\"],[1.0,\"#f0f921\"]],\"diverging\":[[0,\"#8e0152\"],[0.1,\"#c51b7d\"],[0.2,\"#de77ae\"],[0.3,\"#f1b6da\"],[0.4,\"#fde0ef\"],[0.5,\"#f7f7f7\"],[0.6,\"#e6f5d0\"],[0.7,\"#b8e186\"],[0.8,\"#7fbc41\"],[0.9,\"#4d9221\"],[1,\"#276419\"]]},\"xaxis\":{\"gridcolor\":\"white\",\"linecolor\":\"white\",\"ticks\":\"\",\"title\":{\"standoff\":15},\"zerolinecolor\":\"white\",\"automargin\":true,\"zerolinewidth\":2},\"yaxis\":{\"gridcolor\":\"white\",\"linecolor\":\"white\",\"ticks\":\"\",\"title\":{\"standoff\":15},\"zerolinecolor\":\"white\",\"automargin\":true,\"zerolinewidth\":2},\"scene\":{\"xaxis\":{\"backgroundcolor\":\"#E5ECF6\",\"gridcolor\":\"white\",\"linecolor\":\"white\",\"showbackground\":true,\"ticks\":\"\",\"zerolinecolor\":\"white\",\"gridwidth\":2},\"yaxis\":{\"backgroundcolor\":\"#E5ECF6\",\"gridcolor\":\"white\",\"linecolor\":\"white\",\"showbackground\":true,\"ticks\":\"\",\"zerolinecolor\":\"white\",\"gridwidth\":2},\"zaxis\":{\"backgroundcolor\":\"#E5ECF6\",\"gridcolor\":\"white\",\"linecolor\":\"white\",\"showbackground\":true,\"ticks\":\"\",\"zerolinecolor\":\"white\",\"gridwidth\":2}},\"shapedefaults\":{\"line\":{\"color\":\"#2a3f5f\"}},\"annotationdefaults\":{\"arrowcolor\":\"#2a3f5f\",\"arrowhead\":0,\"arrowwidth\":1},\"geo\":{\"bgcolor\":\"white\",\"landcolor\":\"#E5ECF6\",\"subunitcolor\":\"white\",\"showland\":true,\"showlakes\":true,\"lakecolor\":\"white\"},\"title\":{\"x\":0.05},\"mapbox\":{\"style\":\"light\"}}},\"title\":{\"text\":\"Orientation only with  gyro\"}},                        {\"responsive\": true}                    ).then(function(){\n",
       "                            \n",
       "var gd = document.getElementById('a9b7ac49-3054-4edf-a797-89b8f59fb810');\n",
       "var x = new MutationObserver(function (mutations, observer) {{\n",
       "        var display = window.getComputedStyle(gd).display;\n",
       "        if (!display || display === 'none') {{\n",
       "            console.log([gd, 'removed!']);\n",
       "            Plotly.purge(gd);\n",
       "            observer.disconnect();\n",
       "        }}\n",
       "}});\n",
       "\n",
       "// Listen for the removal of the full notebook cells\n",
       "var notebookContainer = gd.closest('#notebook-container');\n",
       "if (notebookContainer) {{\n",
       "    x.observe(notebookContainer, {childList: true});\n",
       "}}\n",
       "\n",
       "// Listen for the clearing of the current output cell\n",
       "var outputEl = gd.closest('.output');\n",
       "if (outputEl) {{\n",
       "    x.observe(outputEl, {childList: true});\n",
       "}}\n",
       "\n",
       "                        })                };                });            </script>        </div>"
      ]
     },
     "metadata": {},
     "output_type": "display_data"
    }
   ],
   "source": [
    "#find only with gyro \n",
    "\n",
    "pitch = np.zeros(len(calibrated_lb))\n",
    "yaw = np.zeros(len(calibrated_lb))\n",
    "roll = np.zeros(len(calibrated_lb))\n",
    "\n",
    "for i in range(len(calibrated_lb)-1):\n",
    "    delta_t = 0.06\n",
    "    \n",
    "    pitch[i+1] = pitch[i] + calibrated_lb['lb_gy'][i]*delta_t\n",
    "    yaw[i+1] = yaw[i]+calibrated_lb['lb_gz'][i]*delta_t\n",
    "    roll[i+1] = roll[i]+calibrated_lb['lb_gx'][i]*delta_t\n",
    "    \n",
    "\n",
    "orientation_d = pd.DataFrame({'roll':np.rad2deg(roll),'pitch':np.rad2deg(pitch),'yaw':np.rad2deg(yaw)})\n",
    "\n",
    "show_plot(orientation_d,'Orientation only with  gyro')\n"
   ]
  },
  {
   "cell_type": "code",
   "execution_count": 11,
   "id": "aa9462e7",
   "metadata": {},
   "outputs": [],
   "source": [
    "# Madgwick filter"
   ]
  },
  {
   "cell_type": "code",
   "execution_count": 12,
   "id": "668774e2",
   "metadata": {},
   "outputs": [],
   "source": [
    "def find_orientation(calibrated_mpu):\n",
    "    \n",
    "    headers = find_headers(calibrated_mpu)\n",
    "        \n",
    "    quaternions = []\n",
    "\n",
    "    heading = mg.MadgwickAHRS(sampleperiod = 0.06,beta = 1)\n",
    "    for i,row in calibrated_mpu.iterrows():\n",
    "        gyro_d  = []\n",
    "        accel_d = []\n",
    "        gyro_d.append(row[headers[3]])\n",
    "        gyro_d.append(row[headers[4]])\n",
    "        gyro_d.append(row[headers[5]])\n",
    "        accel_d.append(row[headers[0]])\n",
    "        accel_d.append(row[headers[1]])\n",
    "        accel_d.append(row[headers[2]])\n",
    "\n",
    "        heading.update_imu(gyro_d,accel_d)\n",
    "        quaternions.append(heading.quaternion._get_q())\n",
    "\n",
    "    # print(quaternions)\n",
    "    pitch = []\n",
    "    roll = []\n",
    "    yaw = []\n",
    "    for i in range(len(quaternions)):\n",
    "        pitch.append(np.arcsin(2 * quaternions[i][1] * quaternions[i][2] + 2 * quaternions[i][0] * quaternions[i][3]))\n",
    "        if np.abs(quaternions[i][1] * quaternions[i][2] + quaternions[i][3] * quaternions[i][0] - 0.5) < 1e-8:\n",
    "            roll.append(0) \n",
    "            yaw.append(2 * np.arctan2(quaternions[i][1], quaternions[i][0]))\n",
    "        elif np.abs(quaternions[i][1] * quaternions[i][2] + quaternions[i][3] * quaternions[i][0] + 0.5) < 1e-8:\n",
    "            roll.append(-2 * np.arctan2(quaternions[i][1], quaternions[i][0]))\n",
    "            yaw.append(0)\n",
    "        else:\n",
    "            roll.append(np.arctan2(2 * quaternions[i][0] * quaternions[i][1] - 2 * quaternions[i][2] *quaternions[i][3], 1 - 2 * quaternions[i][1] ** 2 - 2 *quaternions[i][3] ** 2))\n",
    "            yaw.append(np.arctan2(2 * quaternions[i][0] * quaternions[i][2] - 2 * quaternions[i][1] * quaternions[i][3], 1 - 2 * quaternions[i][2] ** 2 - 2 * quaternions[i][3] ** 2))\n",
    "\n",
    "\n",
    "    orientation_d = pd.DataFrame({'roll':np.rad2deg(roll),'pitch':np.rad2deg(pitch),'yaw':np.rad2deg(yaw)})\n",
    "    return orientation_d"
   ]
  },
  {
   "cell_type": "code",
   "execution_count": 17,
   "id": "a58a4d9a",
   "metadata": {},
   "outputs": [
    {
     "data": {
      "application/vnd.plotly.v1+json": {
       "config": {
        "plotlyServerURL": "https://plot.ly"
       },
       "data": [
        {
         "name": "roll",
         "type": "scatter",
         "x": [
          0,
          1,
          2,
          3,
          4,
          5,
          6,
          7,
          8,
          9,
          10,
          11,
          12,
          13,
          14,
          15,
          16,
          17,
          18,
          19,
          20,
          21,
          22,
          23,
          24,
          25,
          26,
          27,
          28,
          29,
          30,
          31,
          32,
          33,
          34,
          35,
          36,
          37,
          38,
          39,
          40,
          41,
          42,
          43,
          44,
          45,
          46
         ],
         "y": [
          -6.864726686678307,
          -13.646207560767063,
          -20.2888423019881,
          -26.749838784259225,
          -33.017302581177965,
          -39.11332585367962,
          -45.03364185375712,
          -50.78391335871307,
          -56.37787129003433,
          -61.822125510275676,
          -67.12153345762353,
          -72.3005655641421,
          -77.3622679817639,
          -82.29966065932378,
          -87.1315323401919,
          -91.85388538946518,
          -86.83027112718035,
          -91.55425672100725,
          -86.53252370968058,
          -91.25331604791681,
          -86.21264714411616,
          -90.93586399286121,
          -85.90340348894728,
          -90.64678274013582,
          -85.57613662441287,
          -90.33099235477118,
          -85.81446608982044,
          -90.01716757284545,
          -88.4086767657841,
          -90.21163367683428,
          -85.45893795534744,
          -90.00005658131691,
          -93.30475641132882,
          -90.01930406139653,
          -84.96466888533293,
          -89.73034619325745,
          -94.33975319751896,
          -89.49007690870701,
          -93.685096735861,
          -89.19681750849428,
          -93.26003768224061,
          -89.08721220112356,
          -93.02446634698116,
          -88.87173424506102,
          -93.0584624897734,
          -88.59849025924078,
          -92.88124455939469
         ]
        },
        {
         "name": "pitch",
         "type": "scatter",
         "x": [
          0,
          1,
          2,
          3,
          4,
          5,
          6,
          7,
          8,
          9,
          10,
          11,
          12,
          13,
          14,
          15,
          16,
          17,
          18,
          19,
          20,
          21,
          22,
          23,
          24,
          25,
          26,
          27,
          28,
          29,
          30,
          31,
          32,
          33,
          34,
          35,
          36,
          37,
          38,
          39,
          40,
          41,
          42,
          43,
          44,
          45,
          46
         ],
         "y": [
          0.017101373589516484,
          0.018186332486908444,
          0.021651576617520773,
          0.015543887541825953,
          0.007845777664814077,
          -0.004184909037632423,
          0.0034252359129429274,
          0.009171637107980966,
          0.019980178613547738,
          -0.0024628395946620384,
          0.010959451933410884,
          0.009312447135006022,
          0.005714833131243231,
          -0.005325144474756187,
          0.007821397365272157,
          -0.0015952016472570306,
          -0.008894234593239746,
          0.0026614750263831643,
          0.013995562586963394,
          0.020841827712876747,
          0.048233527209239416,
          0.029869288289894883,
          0.029906265813318778,
          0.012673900221845754,
          0.02198423269456339,
          0.025419687652084015,
          0.1564954323015501,
          0.04213538704735997,
          0.15089920998297376,
          0.03626025686551064,
          -0.059101805455568986,
          0.05704293755704152,
          0.205104426652315,
          0.07323889990221116,
          0.04775619323519772,
          0.07884400638661285,
          0.12533962543148303,
          0.08639776083916775,
          0.16320534019498248,
          0.07787870220327851,
          0.16849840983680117,
          0.06510737357334682,
          0.13243174950045994,
          0.06238748225974979,
          0.09824745183048607,
          0.052563878905634354,
          0.08191228219769871
         ]
        },
        {
         "name": "yaw",
         "type": "scatter",
         "x": [
          0,
          1,
          2,
          3,
          4,
          5,
          6,
          7,
          8,
          9,
          10,
          11,
          12,
          13,
          14,
          15,
          16,
          17,
          18,
          19,
          20,
          21,
          22,
          23,
          24,
          25,
          26,
          27,
          28,
          29,
          30,
          31,
          32,
          33,
          34,
          35,
          36,
          37,
          38,
          39,
          40,
          41,
          42,
          43,
          44,
          45,
          46
         ],
         "y": [
          -0.01626917874914703,
          -0.027378843545280824,
          -0.05053407538493694,
          -0.031292846606161086,
          -0.005471374334929101,
          -0.01272156624116852,
          0.01150464636142852,
          0.019683393968677017,
          -0.007205295816050008,
          0.018141945377224907,
          0.022359709981598037,
          -0.022834536774337416,
          -0.016452008204198804,
          0.06953471163437497,
          0.025839915706365266,
          0.16400979144950117,
          -0.30028826813598297,
          0.12204669298545913,
          -0.27872051356386146,
          0.07084703753668072,
          0.577304485283685,
          -0.17092275777450602,
          0.3761352200613948,
          -0.05252440280505173,
          -0.16940895607618228,
          0.008792481921876117,
          3.1797508973580655,
          -0.09346120091051437,
          6.4752241106693855,
          0.09967288636881695,
          -2.306835650563414,
          -0.2131811520355658,
          -4.961210881785332,
          0.16358571950189654,
          -0.3626332529871859,
          -0.034342764758168935,
          -1.151138887733964,
          0.39076164225824067,
          -2.5247513845748237,
          0.39901070868426564,
          -2.951218989886659,
          0.8343763629236817,
          -2.8295501518539403,
          0.9514241616206811,
          -2.120052183113591,
          0.9851921412057728,
          -1.8042808580342382
         ]
        }
       ],
       "layout": {
        "template": {
         "data": {
          "bar": [
           {
            "error_x": {
             "color": "#2a3f5f"
            },
            "error_y": {
             "color": "#2a3f5f"
            },
            "marker": {
             "line": {
              "color": "#E5ECF6",
              "width": 0.5
             },
             "pattern": {
              "fillmode": "overlay",
              "size": 10,
              "solidity": 0.2
             }
            },
            "type": "bar"
           }
          ],
          "barpolar": [
           {
            "marker": {
             "line": {
              "color": "#E5ECF6",
              "width": 0.5
             },
             "pattern": {
              "fillmode": "overlay",
              "size": 10,
              "solidity": 0.2
             }
            },
            "type": "barpolar"
           }
          ],
          "carpet": [
           {
            "aaxis": {
             "endlinecolor": "#2a3f5f",
             "gridcolor": "white",
             "linecolor": "white",
             "minorgridcolor": "white",
             "startlinecolor": "#2a3f5f"
            },
            "baxis": {
             "endlinecolor": "#2a3f5f",
             "gridcolor": "white",
             "linecolor": "white",
             "minorgridcolor": "white",
             "startlinecolor": "#2a3f5f"
            },
            "type": "carpet"
           }
          ],
          "choropleth": [
           {
            "colorbar": {
             "outlinewidth": 0,
             "ticks": ""
            },
            "type": "choropleth"
           }
          ],
          "contour": [
           {
            "colorbar": {
             "outlinewidth": 0,
             "ticks": ""
            },
            "colorscale": [
             [
              0,
              "#0d0887"
             ],
             [
              0.1111111111111111,
              "#46039f"
             ],
             [
              0.2222222222222222,
              "#7201a8"
             ],
             [
              0.3333333333333333,
              "#9c179e"
             ],
             [
              0.4444444444444444,
              "#bd3786"
             ],
             [
              0.5555555555555556,
              "#d8576b"
             ],
             [
              0.6666666666666666,
              "#ed7953"
             ],
             [
              0.7777777777777778,
              "#fb9f3a"
             ],
             [
              0.8888888888888888,
              "#fdca26"
             ],
             [
              1,
              "#f0f921"
             ]
            ],
            "type": "contour"
           }
          ],
          "contourcarpet": [
           {
            "colorbar": {
             "outlinewidth": 0,
             "ticks": ""
            },
            "type": "contourcarpet"
           }
          ],
          "heatmap": [
           {
            "colorbar": {
             "outlinewidth": 0,
             "ticks": ""
            },
            "colorscale": [
             [
              0,
              "#0d0887"
             ],
             [
              0.1111111111111111,
              "#46039f"
             ],
             [
              0.2222222222222222,
              "#7201a8"
             ],
             [
              0.3333333333333333,
              "#9c179e"
             ],
             [
              0.4444444444444444,
              "#bd3786"
             ],
             [
              0.5555555555555556,
              "#d8576b"
             ],
             [
              0.6666666666666666,
              "#ed7953"
             ],
             [
              0.7777777777777778,
              "#fb9f3a"
             ],
             [
              0.8888888888888888,
              "#fdca26"
             ],
             [
              1,
              "#f0f921"
             ]
            ],
            "type": "heatmap"
           }
          ],
          "heatmapgl": [
           {
            "colorbar": {
             "outlinewidth": 0,
             "ticks": ""
            },
            "colorscale": [
             [
              0,
              "#0d0887"
             ],
             [
              0.1111111111111111,
              "#46039f"
             ],
             [
              0.2222222222222222,
              "#7201a8"
             ],
             [
              0.3333333333333333,
              "#9c179e"
             ],
             [
              0.4444444444444444,
              "#bd3786"
             ],
             [
              0.5555555555555556,
              "#d8576b"
             ],
             [
              0.6666666666666666,
              "#ed7953"
             ],
             [
              0.7777777777777778,
              "#fb9f3a"
             ],
             [
              0.8888888888888888,
              "#fdca26"
             ],
             [
              1,
              "#f0f921"
             ]
            ],
            "type": "heatmapgl"
           }
          ],
          "histogram": [
           {
            "marker": {
             "pattern": {
              "fillmode": "overlay",
              "size": 10,
              "solidity": 0.2
             }
            },
            "type": "histogram"
           }
          ],
          "histogram2d": [
           {
            "colorbar": {
             "outlinewidth": 0,
             "ticks": ""
            },
            "colorscale": [
             [
              0,
              "#0d0887"
             ],
             [
              0.1111111111111111,
              "#46039f"
             ],
             [
              0.2222222222222222,
              "#7201a8"
             ],
             [
              0.3333333333333333,
              "#9c179e"
             ],
             [
              0.4444444444444444,
              "#bd3786"
             ],
             [
              0.5555555555555556,
              "#d8576b"
             ],
             [
              0.6666666666666666,
              "#ed7953"
             ],
             [
              0.7777777777777778,
              "#fb9f3a"
             ],
             [
              0.8888888888888888,
              "#fdca26"
             ],
             [
              1,
              "#f0f921"
             ]
            ],
            "type": "histogram2d"
           }
          ],
          "histogram2dcontour": [
           {
            "colorbar": {
             "outlinewidth": 0,
             "ticks": ""
            },
            "colorscale": [
             [
              0,
              "#0d0887"
             ],
             [
              0.1111111111111111,
              "#46039f"
             ],
             [
              0.2222222222222222,
              "#7201a8"
             ],
             [
              0.3333333333333333,
              "#9c179e"
             ],
             [
              0.4444444444444444,
              "#bd3786"
             ],
             [
              0.5555555555555556,
              "#d8576b"
             ],
             [
              0.6666666666666666,
              "#ed7953"
             ],
             [
              0.7777777777777778,
              "#fb9f3a"
             ],
             [
              0.8888888888888888,
              "#fdca26"
             ],
             [
              1,
              "#f0f921"
             ]
            ],
            "type": "histogram2dcontour"
           }
          ],
          "mesh3d": [
           {
            "colorbar": {
             "outlinewidth": 0,
             "ticks": ""
            },
            "type": "mesh3d"
           }
          ],
          "parcoords": [
           {
            "line": {
             "colorbar": {
              "outlinewidth": 0,
              "ticks": ""
             }
            },
            "type": "parcoords"
           }
          ],
          "pie": [
           {
            "automargin": true,
            "type": "pie"
           }
          ],
          "scatter": [
           {
            "fillpattern": {
             "fillmode": "overlay",
             "size": 10,
             "solidity": 0.2
            },
            "type": "scatter"
           }
          ],
          "scatter3d": [
           {
            "line": {
             "colorbar": {
              "outlinewidth": 0,
              "ticks": ""
             }
            },
            "marker": {
             "colorbar": {
              "outlinewidth": 0,
              "ticks": ""
             }
            },
            "type": "scatter3d"
           }
          ],
          "scattercarpet": [
           {
            "marker": {
             "colorbar": {
              "outlinewidth": 0,
              "ticks": ""
             }
            },
            "type": "scattercarpet"
           }
          ],
          "scattergeo": [
           {
            "marker": {
             "colorbar": {
              "outlinewidth": 0,
              "ticks": ""
             }
            },
            "type": "scattergeo"
           }
          ],
          "scattergl": [
           {
            "marker": {
             "colorbar": {
              "outlinewidth": 0,
              "ticks": ""
             }
            },
            "type": "scattergl"
           }
          ],
          "scattermapbox": [
           {
            "marker": {
             "colorbar": {
              "outlinewidth": 0,
              "ticks": ""
             }
            },
            "type": "scattermapbox"
           }
          ],
          "scatterpolar": [
           {
            "marker": {
             "colorbar": {
              "outlinewidth": 0,
              "ticks": ""
             }
            },
            "type": "scatterpolar"
           }
          ],
          "scatterpolargl": [
           {
            "marker": {
             "colorbar": {
              "outlinewidth": 0,
              "ticks": ""
             }
            },
            "type": "scatterpolargl"
           }
          ],
          "scatterternary": [
           {
            "marker": {
             "colorbar": {
              "outlinewidth": 0,
              "ticks": ""
             }
            },
            "type": "scatterternary"
           }
          ],
          "surface": [
           {
            "colorbar": {
             "outlinewidth": 0,
             "ticks": ""
            },
            "colorscale": [
             [
              0,
              "#0d0887"
             ],
             [
              0.1111111111111111,
              "#46039f"
             ],
             [
              0.2222222222222222,
              "#7201a8"
             ],
             [
              0.3333333333333333,
              "#9c179e"
             ],
             [
              0.4444444444444444,
              "#bd3786"
             ],
             [
              0.5555555555555556,
              "#d8576b"
             ],
             [
              0.6666666666666666,
              "#ed7953"
             ],
             [
              0.7777777777777778,
              "#fb9f3a"
             ],
             [
              0.8888888888888888,
              "#fdca26"
             ],
             [
              1,
              "#f0f921"
             ]
            ],
            "type": "surface"
           }
          ],
          "table": [
           {
            "cells": {
             "fill": {
              "color": "#EBF0F8"
             },
             "line": {
              "color": "white"
             }
            },
            "header": {
             "fill": {
              "color": "#C8D4E3"
             },
             "line": {
              "color": "white"
             }
            },
            "type": "table"
           }
          ]
         },
         "layout": {
          "annotationdefaults": {
           "arrowcolor": "#2a3f5f",
           "arrowhead": 0,
           "arrowwidth": 1
          },
          "autotypenumbers": "strict",
          "coloraxis": {
           "colorbar": {
            "outlinewidth": 0,
            "ticks": ""
           }
          },
          "colorscale": {
           "diverging": [
            [
             0,
             "#8e0152"
            ],
            [
             0.1,
             "#c51b7d"
            ],
            [
             0.2,
             "#de77ae"
            ],
            [
             0.3,
             "#f1b6da"
            ],
            [
             0.4,
             "#fde0ef"
            ],
            [
             0.5,
             "#f7f7f7"
            ],
            [
             0.6,
             "#e6f5d0"
            ],
            [
             0.7,
             "#b8e186"
            ],
            [
             0.8,
             "#7fbc41"
            ],
            [
             0.9,
             "#4d9221"
            ],
            [
             1,
             "#276419"
            ]
           ],
           "sequential": [
            [
             0,
             "#0d0887"
            ],
            [
             0.1111111111111111,
             "#46039f"
            ],
            [
             0.2222222222222222,
             "#7201a8"
            ],
            [
             0.3333333333333333,
             "#9c179e"
            ],
            [
             0.4444444444444444,
             "#bd3786"
            ],
            [
             0.5555555555555556,
             "#d8576b"
            ],
            [
             0.6666666666666666,
             "#ed7953"
            ],
            [
             0.7777777777777778,
             "#fb9f3a"
            ],
            [
             0.8888888888888888,
             "#fdca26"
            ],
            [
             1,
             "#f0f921"
            ]
           ],
           "sequentialminus": [
            [
             0,
             "#0d0887"
            ],
            [
             0.1111111111111111,
             "#46039f"
            ],
            [
             0.2222222222222222,
             "#7201a8"
            ],
            [
             0.3333333333333333,
             "#9c179e"
            ],
            [
             0.4444444444444444,
             "#bd3786"
            ],
            [
             0.5555555555555556,
             "#d8576b"
            ],
            [
             0.6666666666666666,
             "#ed7953"
            ],
            [
             0.7777777777777778,
             "#fb9f3a"
            ],
            [
             0.8888888888888888,
             "#fdca26"
            ],
            [
             1,
             "#f0f921"
            ]
           ]
          },
          "colorway": [
           "#636efa",
           "#EF553B",
           "#00cc96",
           "#ab63fa",
           "#FFA15A",
           "#19d3f3",
           "#FF6692",
           "#B6E880",
           "#FF97FF",
           "#FECB52"
          ],
          "font": {
           "color": "#2a3f5f"
          },
          "geo": {
           "bgcolor": "white",
           "lakecolor": "white",
           "landcolor": "#E5ECF6",
           "showlakes": true,
           "showland": true,
           "subunitcolor": "white"
          },
          "hoverlabel": {
           "align": "left"
          },
          "hovermode": "closest",
          "mapbox": {
           "style": "light"
          },
          "paper_bgcolor": "white",
          "plot_bgcolor": "#E5ECF6",
          "polar": {
           "angularaxis": {
            "gridcolor": "white",
            "linecolor": "white",
            "ticks": ""
           },
           "bgcolor": "#E5ECF6",
           "radialaxis": {
            "gridcolor": "white",
            "linecolor": "white",
            "ticks": ""
           }
          },
          "scene": {
           "xaxis": {
            "backgroundcolor": "#E5ECF6",
            "gridcolor": "white",
            "gridwidth": 2,
            "linecolor": "white",
            "showbackground": true,
            "ticks": "",
            "zerolinecolor": "white"
           },
           "yaxis": {
            "backgroundcolor": "#E5ECF6",
            "gridcolor": "white",
            "gridwidth": 2,
            "linecolor": "white",
            "showbackground": true,
            "ticks": "",
            "zerolinecolor": "white"
           },
           "zaxis": {
            "backgroundcolor": "#E5ECF6",
            "gridcolor": "white",
            "gridwidth": 2,
            "linecolor": "white",
            "showbackground": true,
            "ticks": "",
            "zerolinecolor": "white"
           }
          },
          "shapedefaults": {
           "line": {
            "color": "#2a3f5f"
           }
          },
          "ternary": {
           "aaxis": {
            "gridcolor": "white",
            "linecolor": "white",
            "ticks": ""
           },
           "baxis": {
            "gridcolor": "white",
            "linecolor": "white",
            "ticks": ""
           },
           "bgcolor": "#E5ECF6",
           "caxis": {
            "gridcolor": "white",
            "linecolor": "white",
            "ticks": ""
           }
          },
          "title": {
           "x": 0.05
          },
          "xaxis": {
           "automargin": true,
           "gridcolor": "white",
           "linecolor": "white",
           "ticks": "",
           "title": {
            "standoff": 15
           },
           "zerolinecolor": "white",
           "zerolinewidth": 2
          },
          "yaxis": {
           "automargin": true,
           "gridcolor": "white",
           "linecolor": "white",
           "ticks": "",
           "title": {
            "standoff": 15
           },
           "zerolinecolor": "white",
           "zerolinewidth": 2
          }
         }
        },
        "title": {
         "text": "Orientation left_bot sensor"
        }
       }
      },
      "text/html": [
       "<div>                            <div id=\"e0515a4e-9c39-47f5-b16a-55ef5297b078\" class=\"plotly-graph-div\" style=\"height:525px; width:100%;\"></div>            <script type=\"text/javascript\">                require([\"plotly\"], function(Plotly) {                    window.PLOTLYENV=window.PLOTLYENV || {};                                    if (document.getElementById(\"e0515a4e-9c39-47f5-b16a-55ef5297b078\")) {                    Plotly.newPlot(                        \"e0515a4e-9c39-47f5-b16a-55ef5297b078\",                        [{\"name\":\"roll\",\"x\":[0,1,2,3,4,5,6,7,8,9,10,11,12,13,14,15,16,17,18,19,20,21,22,23,24,25,26,27,28,29,30,31,32,33,34,35,36,37,38,39,40,41,42,43,44,45,46],\"y\":[-6.864726686678307,-13.646207560767063,-20.2888423019881,-26.749838784259225,-33.017302581177965,-39.11332585367962,-45.03364185375712,-50.78391335871307,-56.37787129003433,-61.822125510275676,-67.12153345762353,-72.3005655641421,-77.3622679817639,-82.29966065932378,-87.1315323401919,-91.85388538946518,-86.83027112718035,-91.55425672100725,-86.53252370968058,-91.25331604791681,-86.21264714411616,-90.93586399286121,-85.90340348894728,-90.64678274013582,-85.57613662441287,-90.33099235477118,-85.81446608982044,-90.01716757284545,-88.4086767657841,-90.21163367683428,-85.45893795534744,-90.00005658131691,-93.30475641132882,-90.01930406139653,-84.96466888533293,-89.73034619325745,-94.33975319751896,-89.49007690870701,-93.685096735861,-89.19681750849428,-93.26003768224061,-89.08721220112356,-93.02446634698116,-88.87173424506102,-93.0584624897734,-88.59849025924078,-92.88124455939469],\"type\":\"scatter\"},{\"name\":\"pitch\",\"x\":[0,1,2,3,4,5,6,7,8,9,10,11,12,13,14,15,16,17,18,19,20,21,22,23,24,25,26,27,28,29,30,31,32,33,34,35,36,37,38,39,40,41,42,43,44,45,46],\"y\":[0.017101373589516484,0.018186332486908444,0.021651576617520773,0.015543887541825953,0.007845777664814077,-0.004184909037632423,0.0034252359129429274,0.009171637107980966,0.019980178613547738,-0.0024628395946620384,0.010959451933410884,0.009312447135006022,0.005714833131243231,-0.005325144474756187,0.007821397365272157,-0.0015952016472570306,-0.008894234593239746,0.0026614750263831643,0.013995562586963394,0.020841827712876747,0.048233527209239416,0.029869288289894883,0.029906265813318778,0.012673900221845754,0.02198423269456339,0.025419687652084015,0.1564954323015501,0.04213538704735997,0.15089920998297376,0.03626025686551064,-0.059101805455568986,0.05704293755704152,0.205104426652315,0.07323889990221116,0.04775619323519772,0.07884400638661285,0.12533962543148303,0.08639776083916775,0.16320534019498248,0.07787870220327851,0.16849840983680117,0.06510737357334682,0.13243174950045994,0.06238748225974979,0.09824745183048607,0.052563878905634354,0.08191228219769871],\"type\":\"scatter\"},{\"name\":\"yaw\",\"x\":[0,1,2,3,4,5,6,7,8,9,10,11,12,13,14,15,16,17,18,19,20,21,22,23,24,25,26,27,28,29,30,31,32,33,34,35,36,37,38,39,40,41,42,43,44,45,46],\"y\":[-0.01626917874914703,-0.027378843545280824,-0.05053407538493694,-0.031292846606161086,-0.005471374334929101,-0.01272156624116852,0.01150464636142852,0.019683393968677017,-0.007205295816050008,0.018141945377224907,0.022359709981598037,-0.022834536774337416,-0.016452008204198804,0.06953471163437497,0.025839915706365266,0.16400979144950117,-0.30028826813598297,0.12204669298545913,-0.27872051356386146,0.07084703753668072,0.577304485283685,-0.17092275777450602,0.3761352200613948,-0.05252440280505173,-0.16940895607618228,0.008792481921876117,3.1797508973580655,-0.09346120091051437,6.4752241106693855,0.09967288636881695,-2.306835650563414,-0.2131811520355658,-4.961210881785332,0.16358571950189654,-0.3626332529871859,-0.034342764758168935,-1.151138887733964,0.39076164225824067,-2.5247513845748237,0.39901070868426564,-2.951218989886659,0.8343763629236817,-2.8295501518539403,0.9514241616206811,-2.120052183113591,0.9851921412057728,-1.8042808580342382],\"type\":\"scatter\"}],                        {\"template\":{\"data\":{\"histogram2dcontour\":[{\"type\":\"histogram2dcontour\",\"colorbar\":{\"outlinewidth\":0,\"ticks\":\"\"},\"colorscale\":[[0.0,\"#0d0887\"],[0.1111111111111111,\"#46039f\"],[0.2222222222222222,\"#7201a8\"],[0.3333333333333333,\"#9c179e\"],[0.4444444444444444,\"#bd3786\"],[0.5555555555555556,\"#d8576b\"],[0.6666666666666666,\"#ed7953\"],[0.7777777777777778,\"#fb9f3a\"],[0.8888888888888888,\"#fdca26\"],[1.0,\"#f0f921\"]]}],\"choropleth\":[{\"type\":\"choropleth\",\"colorbar\":{\"outlinewidth\":0,\"ticks\":\"\"}}],\"histogram2d\":[{\"type\":\"histogram2d\",\"colorbar\":{\"outlinewidth\":0,\"ticks\":\"\"},\"colorscale\":[[0.0,\"#0d0887\"],[0.1111111111111111,\"#46039f\"],[0.2222222222222222,\"#7201a8\"],[0.3333333333333333,\"#9c179e\"],[0.4444444444444444,\"#bd3786\"],[0.5555555555555556,\"#d8576b\"],[0.6666666666666666,\"#ed7953\"],[0.7777777777777778,\"#fb9f3a\"],[0.8888888888888888,\"#fdca26\"],[1.0,\"#f0f921\"]]}],\"heatmap\":[{\"type\":\"heatmap\",\"colorbar\":{\"outlinewidth\":0,\"ticks\":\"\"},\"colorscale\":[[0.0,\"#0d0887\"],[0.1111111111111111,\"#46039f\"],[0.2222222222222222,\"#7201a8\"],[0.3333333333333333,\"#9c179e\"],[0.4444444444444444,\"#bd3786\"],[0.5555555555555556,\"#d8576b\"],[0.6666666666666666,\"#ed7953\"],[0.7777777777777778,\"#fb9f3a\"],[0.8888888888888888,\"#fdca26\"],[1.0,\"#f0f921\"]]}],\"heatmapgl\":[{\"type\":\"heatmapgl\",\"colorbar\":{\"outlinewidth\":0,\"ticks\":\"\"},\"colorscale\":[[0.0,\"#0d0887\"],[0.1111111111111111,\"#46039f\"],[0.2222222222222222,\"#7201a8\"],[0.3333333333333333,\"#9c179e\"],[0.4444444444444444,\"#bd3786\"],[0.5555555555555556,\"#d8576b\"],[0.6666666666666666,\"#ed7953\"],[0.7777777777777778,\"#fb9f3a\"],[0.8888888888888888,\"#fdca26\"],[1.0,\"#f0f921\"]]}],\"contourcarpet\":[{\"type\":\"contourcarpet\",\"colorbar\":{\"outlinewidth\":0,\"ticks\":\"\"}}],\"contour\":[{\"type\":\"contour\",\"colorbar\":{\"outlinewidth\":0,\"ticks\":\"\"},\"colorscale\":[[0.0,\"#0d0887\"],[0.1111111111111111,\"#46039f\"],[0.2222222222222222,\"#7201a8\"],[0.3333333333333333,\"#9c179e\"],[0.4444444444444444,\"#bd3786\"],[0.5555555555555556,\"#d8576b\"],[0.6666666666666666,\"#ed7953\"],[0.7777777777777778,\"#fb9f3a\"],[0.8888888888888888,\"#fdca26\"],[1.0,\"#f0f921\"]]}],\"surface\":[{\"type\":\"surface\",\"colorbar\":{\"outlinewidth\":0,\"ticks\":\"\"},\"colorscale\":[[0.0,\"#0d0887\"],[0.1111111111111111,\"#46039f\"],[0.2222222222222222,\"#7201a8\"],[0.3333333333333333,\"#9c179e\"],[0.4444444444444444,\"#bd3786\"],[0.5555555555555556,\"#d8576b\"],[0.6666666666666666,\"#ed7953\"],[0.7777777777777778,\"#fb9f3a\"],[0.8888888888888888,\"#fdca26\"],[1.0,\"#f0f921\"]]}],\"mesh3d\":[{\"type\":\"mesh3d\",\"colorbar\":{\"outlinewidth\":0,\"ticks\":\"\"}}],\"scatter\":[{\"fillpattern\":{\"fillmode\":\"overlay\",\"size\":10,\"solidity\":0.2},\"type\":\"scatter\"}],\"parcoords\":[{\"type\":\"parcoords\",\"line\":{\"colorbar\":{\"outlinewidth\":0,\"ticks\":\"\"}}}],\"scatterpolargl\":[{\"type\":\"scatterpolargl\",\"marker\":{\"colorbar\":{\"outlinewidth\":0,\"ticks\":\"\"}}}],\"bar\":[{\"error_x\":{\"color\":\"#2a3f5f\"},\"error_y\":{\"color\":\"#2a3f5f\"},\"marker\":{\"line\":{\"color\":\"#E5ECF6\",\"width\":0.5},\"pattern\":{\"fillmode\":\"overlay\",\"size\":10,\"solidity\":0.2}},\"type\":\"bar\"}],\"scattergeo\":[{\"type\":\"scattergeo\",\"marker\":{\"colorbar\":{\"outlinewidth\":0,\"ticks\":\"\"}}}],\"scatterpolar\":[{\"type\":\"scatterpolar\",\"marker\":{\"colorbar\":{\"outlinewidth\":0,\"ticks\":\"\"}}}],\"histogram\":[{\"marker\":{\"pattern\":{\"fillmode\":\"overlay\",\"size\":10,\"solidity\":0.2}},\"type\":\"histogram\"}],\"scattergl\":[{\"type\":\"scattergl\",\"marker\":{\"colorbar\":{\"outlinewidth\":0,\"ticks\":\"\"}}}],\"scatter3d\":[{\"type\":\"scatter3d\",\"line\":{\"colorbar\":{\"outlinewidth\":0,\"ticks\":\"\"}},\"marker\":{\"colorbar\":{\"outlinewidth\":0,\"ticks\":\"\"}}}],\"scattermapbox\":[{\"type\":\"scattermapbox\",\"marker\":{\"colorbar\":{\"outlinewidth\":0,\"ticks\":\"\"}}}],\"scatterternary\":[{\"type\":\"scatterternary\",\"marker\":{\"colorbar\":{\"outlinewidth\":0,\"ticks\":\"\"}}}],\"scattercarpet\":[{\"type\":\"scattercarpet\",\"marker\":{\"colorbar\":{\"outlinewidth\":0,\"ticks\":\"\"}}}],\"carpet\":[{\"aaxis\":{\"endlinecolor\":\"#2a3f5f\",\"gridcolor\":\"white\",\"linecolor\":\"white\",\"minorgridcolor\":\"white\",\"startlinecolor\":\"#2a3f5f\"},\"baxis\":{\"endlinecolor\":\"#2a3f5f\",\"gridcolor\":\"white\",\"linecolor\":\"white\",\"minorgridcolor\":\"white\",\"startlinecolor\":\"#2a3f5f\"},\"type\":\"carpet\"}],\"table\":[{\"cells\":{\"fill\":{\"color\":\"#EBF0F8\"},\"line\":{\"color\":\"white\"}},\"header\":{\"fill\":{\"color\":\"#C8D4E3\"},\"line\":{\"color\":\"white\"}},\"type\":\"table\"}],\"barpolar\":[{\"marker\":{\"line\":{\"color\":\"#E5ECF6\",\"width\":0.5},\"pattern\":{\"fillmode\":\"overlay\",\"size\":10,\"solidity\":0.2}},\"type\":\"barpolar\"}],\"pie\":[{\"automargin\":true,\"type\":\"pie\"}]},\"layout\":{\"autotypenumbers\":\"strict\",\"colorway\":[\"#636efa\",\"#EF553B\",\"#00cc96\",\"#ab63fa\",\"#FFA15A\",\"#19d3f3\",\"#FF6692\",\"#B6E880\",\"#FF97FF\",\"#FECB52\"],\"font\":{\"color\":\"#2a3f5f\"},\"hovermode\":\"closest\",\"hoverlabel\":{\"align\":\"left\"},\"paper_bgcolor\":\"white\",\"plot_bgcolor\":\"#E5ECF6\",\"polar\":{\"bgcolor\":\"#E5ECF6\",\"angularaxis\":{\"gridcolor\":\"white\",\"linecolor\":\"white\",\"ticks\":\"\"},\"radialaxis\":{\"gridcolor\":\"white\",\"linecolor\":\"white\",\"ticks\":\"\"}},\"ternary\":{\"bgcolor\":\"#E5ECF6\",\"aaxis\":{\"gridcolor\":\"white\",\"linecolor\":\"white\",\"ticks\":\"\"},\"baxis\":{\"gridcolor\":\"white\",\"linecolor\":\"white\",\"ticks\":\"\"},\"caxis\":{\"gridcolor\":\"white\",\"linecolor\":\"white\",\"ticks\":\"\"}},\"coloraxis\":{\"colorbar\":{\"outlinewidth\":0,\"ticks\":\"\"}},\"colorscale\":{\"sequential\":[[0.0,\"#0d0887\"],[0.1111111111111111,\"#46039f\"],[0.2222222222222222,\"#7201a8\"],[0.3333333333333333,\"#9c179e\"],[0.4444444444444444,\"#bd3786\"],[0.5555555555555556,\"#d8576b\"],[0.6666666666666666,\"#ed7953\"],[0.7777777777777778,\"#fb9f3a\"],[0.8888888888888888,\"#fdca26\"],[1.0,\"#f0f921\"]],\"sequentialminus\":[[0.0,\"#0d0887\"],[0.1111111111111111,\"#46039f\"],[0.2222222222222222,\"#7201a8\"],[0.3333333333333333,\"#9c179e\"],[0.4444444444444444,\"#bd3786\"],[0.5555555555555556,\"#d8576b\"],[0.6666666666666666,\"#ed7953\"],[0.7777777777777778,\"#fb9f3a\"],[0.8888888888888888,\"#fdca26\"],[1.0,\"#f0f921\"]],\"diverging\":[[0,\"#8e0152\"],[0.1,\"#c51b7d\"],[0.2,\"#de77ae\"],[0.3,\"#f1b6da\"],[0.4,\"#fde0ef\"],[0.5,\"#f7f7f7\"],[0.6,\"#e6f5d0\"],[0.7,\"#b8e186\"],[0.8,\"#7fbc41\"],[0.9,\"#4d9221\"],[1,\"#276419\"]]},\"xaxis\":{\"gridcolor\":\"white\",\"linecolor\":\"white\",\"ticks\":\"\",\"title\":{\"standoff\":15},\"zerolinecolor\":\"white\",\"automargin\":true,\"zerolinewidth\":2},\"yaxis\":{\"gridcolor\":\"white\",\"linecolor\":\"white\",\"ticks\":\"\",\"title\":{\"standoff\":15},\"zerolinecolor\":\"white\",\"automargin\":true,\"zerolinewidth\":2},\"scene\":{\"xaxis\":{\"backgroundcolor\":\"#E5ECF6\",\"gridcolor\":\"white\",\"linecolor\":\"white\",\"showbackground\":true,\"ticks\":\"\",\"zerolinecolor\":\"white\",\"gridwidth\":2},\"yaxis\":{\"backgroundcolor\":\"#E5ECF6\",\"gridcolor\":\"white\",\"linecolor\":\"white\",\"showbackground\":true,\"ticks\":\"\",\"zerolinecolor\":\"white\",\"gridwidth\":2},\"zaxis\":{\"backgroundcolor\":\"#E5ECF6\",\"gridcolor\":\"white\",\"linecolor\":\"white\",\"showbackground\":true,\"ticks\":\"\",\"zerolinecolor\":\"white\",\"gridwidth\":2}},\"shapedefaults\":{\"line\":{\"color\":\"#2a3f5f\"}},\"annotationdefaults\":{\"arrowcolor\":\"#2a3f5f\",\"arrowhead\":0,\"arrowwidth\":1},\"geo\":{\"bgcolor\":\"white\",\"landcolor\":\"#E5ECF6\",\"subunitcolor\":\"white\",\"showland\":true,\"showlakes\":true,\"lakecolor\":\"white\"},\"title\":{\"x\":0.05},\"mapbox\":{\"style\":\"light\"}}},\"title\":{\"text\":\"Orientation left_bot sensor\"}},                        {\"responsive\": true}                    ).then(function(){\n",
       "                            \n",
       "var gd = document.getElementById('e0515a4e-9c39-47f5-b16a-55ef5297b078');\n",
       "var x = new MutationObserver(function (mutations, observer) {{\n",
       "        var display = window.getComputedStyle(gd).display;\n",
       "        if (!display || display === 'none') {{\n",
       "            console.log([gd, 'removed!']);\n",
       "            Plotly.purge(gd);\n",
       "            observer.disconnect();\n",
       "        }}\n",
       "}});\n",
       "\n",
       "// Listen for the removal of the full notebook cells\n",
       "var notebookContainer = gd.closest('#notebook-container');\n",
       "if (notebookContainer) {{\n",
       "    x.observe(notebookContainer, {childList: true});\n",
       "}}\n",
       "\n",
       "// Listen for the clearing of the current output cell\n",
       "var outputEl = gd.closest('.output');\n",
       "if (outputEl) {{\n",
       "    x.observe(outputEl, {childList: true});\n",
       "}}\n",
       "\n",
       "                        })                };                });            </script>        </div>"
      ]
     },
     "metadata": {},
     "output_type": "display_data"
    }
   ],
   "source": [
    "orientation_lb = find_orientation(calibrated_lb)\n",
    "show_plot(orientation_lb,'Orientation left_bot sensor')"
   ]
  },
  {
   "cell_type": "code",
   "execution_count": 14,
   "id": "6d4136d7",
   "metadata": {},
   "outputs": [],
   "source": [
    "\n",
    "\n",
    "# quaternions = []\n",
    "\n",
    "# heading = mg.MadgwickAHRS(sampleperiod = 0.06,beta = 1)\n",
    "# for i,row in calibrated_lb.iterrows():\n",
    "#     gyro_d  = []\n",
    "#     accel_d = []\n",
    "#     gyro_d.append(row['lb_gx'])\n",
    "#     gyro_d.append(row['lb_gy'])\n",
    "#     gyro_d.append(row['lb_gz'])\n",
    "#     accel_d.append(row['lb_ax'])\n",
    "#     accel_d.append(row['lb_ay'])\n",
    "#     accel_d.append(row['lb_az'])\n",
    "\n",
    "#     heading.update_imu(gyro_d,accel_d)\n",
    "#     quaternions.append(heading.quaternion._get_q())\n",
    "\n",
    "# # print(quaternions)\n",
    "# pitch = []\n",
    "# roll = []\n",
    "# yaw = []\n",
    "# for i in range(len(quaternions)):\n",
    "#     pitch.append(np.arcsin(2 * quaternions[i][1] * quaternions[i][2] + 2 * quaternions[i][0] * quaternions[i][3]))\n",
    "#     if np.abs(quaternions[i][1] * quaternions[i][2] + quaternions[i][3] * quaternions[i][0] - 0.5) < 1e-8:\n",
    "#         roll.append(0) \n",
    "#         yaw.append(2 * np.arctan2(quaternions[i][1], quaternions[i][0]))\n",
    "#         print('thth')\n",
    "#     elif np.abs(quaternions[i][1] * quaternions[i][2] + quaternions[i][3] * quaternions[i][0] + 0.5) < 1e-8:\n",
    "#         roll.append(-2 * np.arctan2(quaternions[i][1], quaternions[i][0]))\n",
    "#         yaw.append(0)\n",
    "#     else:\n",
    "#         roll.append(np.arctan2(2 * quaternions[i][0] * quaternions[i][1] - 2 * quaternions[i][2] *quaternions[i][3], 1 - 2 * quaternions[i][1] ** 2 - 2 *quaternions[i][3] ** 2))\n",
    "#         yaw.append(np.arctan2(2 * quaternions[i][0] * quaternions[i][2] - 2 * quaternions[i][1] * quaternions[i][3], 1 - 2 * quaternions[i][2] ** 2 - 2 * quaternions[i][3] ** 2))\n",
    "\n",
    "\n",
    "# orientation_d = pd.DataFrame({'roll':roll,'pitch':pitch,'yaw':yaw})"
   ]
  },
  {
   "cell_type": "code",
   "execution_count": null,
   "id": "011c1ef7",
   "metadata": {},
   "outputs": [],
   "source": [
    "# orientation_d"
   ]
  },
  {
   "cell_type": "code",
   "execution_count": null,
   "id": "3655a175",
   "metadata": {},
   "outputs": [],
   "source": [
    "# show_plot(lb,'gyro_lb',False)"
   ]
  },
  {
   "cell_type": "code",
   "execution_count": null,
   "id": "72f145f0",
   "metadata": {},
   "outputs": [],
   "source": [
    "# fig = go.Figure() \n",
    "# fig.update_layout(title='roll lb')\n",
    "\n",
    "# fig.add_trace(go.Scatter(x=orientation_d.index, y=np.rad2deg(orientation_d['roll']),name='roll'))\n",
    "# fig.add_trace(go.Scatter(x=orientation_d.index, y=np.rad2deg(orientation_d['pitch']),name='pitch'))\n",
    "# fig.add_trace(go.Scatter(x=orientation_d.index, y=np.rad2deg(orientation_d['yaw']),name='yaw'))\n",
    "# # fig.add_trace(go.Scatter(x=agles.index, y=agles['x'],name='gyro'))\n",
    "\n",
    "# fig.show()"
   ]
  },
  {
   "cell_type": "code",
   "execution_count": null,
   "id": "c3d0edaf",
   "metadata": {},
   "outputs": [],
   "source": []
  },
  {
   "cell_type": "code",
   "execution_count": null,
   "id": "c57589a5",
   "metadata": {},
   "outputs": [],
   "source": []
  },
  {
   "cell_type": "code",
   "execution_count": null,
   "id": "1a2dc853",
   "metadata": {},
   "outputs": [],
   "source": []
  },
  {
   "cell_type": "code",
   "execution_count": null,
   "id": "ccd3743e",
   "metadata": {},
   "outputs": [],
   "source": [
    "\n"
   ]
  },
  {
   "cell_type": "code",
   "execution_count": null,
   "id": "7ca80d97",
   "metadata": {},
   "outputs": [],
   "source": []
  },
  {
   "cell_type": "code",
   "execution_count": null,
   "id": "b23e121b",
   "metadata": {},
   "outputs": [],
   "source": []
  },
  {
   "cell_type": "code",
   "execution_count": null,
   "id": "6cd41de5",
   "metadata": {},
   "outputs": [],
   "source": [
    "#(-0.02213089742574257, 0.01005698124752475, -0.013309934386138617)"
   ]
  }
 ],
 "metadata": {
  "kernelspec": {
   "display_name": "Python 3 (ipykernel)",
   "language": "python",
   "name": "python3"
  },
  "language_info": {
   "codemirror_mode": {
    "name": "ipython",
    "version": 3
   },
   "file_extension": ".py",
   "mimetype": "text/x-python",
   "name": "python",
   "nbconvert_exporter": "python",
   "pygments_lexer": "ipython3",
   "version": "3.9.7"
  }
 },
 "nbformat": 4,
 "nbformat_minor": 5
}
